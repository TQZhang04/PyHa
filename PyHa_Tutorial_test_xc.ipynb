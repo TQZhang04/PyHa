{
 "cells": [
  {
   "cell_type": "code",
   "execution_count": null,
   "metadata": {
    "scrolled": true
   },
   "outputs": [],
   "source": [
    "from PyHa.statistics import *\n",
    "from PyHa.IsoAutio import *\n",
    "from PyHa.visualizations import *\n",
    "import pandas as pd"
   ]
  },
  {
   "cell_type": "markdown",
   "metadata": {},
   "source": [
    "## Running Moment to Moment Labeling System on a Directory of WAV Files "
   ]
  },
  {
   "cell_type": "code",
   "execution_count": null,
   "metadata": {},
   "outputs": [],
   "source": [
    "path_wav = \"./XCTESTFILES/\"\n",
    "path_mp3 = \"./XCTESTFILESmp3/\""
   ]
  },
  {
   "cell_type": "markdown",
   "metadata": {},
   "source": [
    "### Dictionary that defines the isolation technique and parameters used to generate automated labels "
   ]
  },
  {
   "cell_type": "code",
   "execution_count": null,
   "metadata": {},
   "outputs": [],
   "source": [
    "# Example parameters for BirdNET\n",
    "# isolation_parameters_wav = {\n",
    "#    \"model\" : \"birdnet\",\n",
    "#    \"technique\" : \"chunk\",\n",
    "#    \"threshold_type\" : \"pure\",\n",
    "#    \"threshold_const\" : 0.85,\n",
    "#    \"chunk_size\" : 3.0,\n",
    "#    \"output_path\" : \"outputs\",\n",
    "#    \"lat\" : 35.4244,\n",
    "#    \"lon\" : -120.7463,\n",
    "#    \"week\" : 18,\n",
    "#    \"filetype\" : \"wav\", \n",
    "#    \"num_predictions\" : 1,\n",
    "#    \"write_to_csv\" : True\n",
    "# }\n",
    "\n",
    "# isolation_parameters_mp3 = {\n",
    "#    \"model\" : \"birdnet\",\n",
    "#    \"technique\" : \"chunk\",\n",
    "#    \"threshold_type\" : \"pure\",\n",
    "#    \"threshold_const\" : 0.85,\n",
    "#    \"chunk_size\" : 3.0,\n",
    "#    \"output_path\" : \"outputs\",\n",
    "#    \"lat\" : 35.4244,\n",
    "#    \"lon\" : -120.7463,\n",
    "#    \"week\" : 18,\n",
    "#    \"filetype\" : \"mp3\", \n",
    "#    \"num_predictions\" : 1,\n",
    "#    \"write_to_csv\" : True\n",
    "# }\n",
    "\n",
    "# Example Parameters for Microfaune\n",
    "\n",
    "# isolation_parameters_wav = {\n",
    "#      \"model\" : \"microfaune\",\n",
    "#      \"technique\" : \"steinberg\",\n",
    "#      \"threshold_type\" : \"median\",\n",
    "#      \"threshold_const\" : 2.0,\n",
    "#      \"threshold_min\" : 0.0,\n",
    "#      \"window_size\" : 2.0,\n",
    "#      \"chunk_size\" : 5.0\n",
    "# }\n",
    "\n",
    "# isolation_parameters_mp3 = isolation_parameters_wav\n",
    "\n",
    "# Example parameters for TweetyNET\n",
    "isolation_parameters_wav = {\n",
    "    \"model\" : \"tweetynet\",\n",
    "    \"tweety_output\": True,\n",
    "    \"chunk_size\" : 3.0\n",
    "}\n",
    "\n",
    "isolation_parameters_mp3 = isolation_parameters_wav"
   ]
  },
  {
   "cell_type": "code",
   "execution_count": null,
   "metadata": {
    "scrolled": true
   },
   "outputs": [],
   "source": [
    "automated_df_wav = generate_automated_labels(path_wav,isolation_parameters_wav)\n",
    "automated_df_mp3 = generate_automated_labels(path_mp3, isolation_parameters_mp3)"
   ]
  },
  {
   "cell_type": "markdown",
   "metadata": {},
   "source": [
    "### Pandas Output of Automated Labeling "
   ]
  },
  {
   "cell_type": "code",
   "execution_count": null,
   "metadata": {
    "scrolled": true
   },
   "outputs": [],
   "source": [
    "automated_df_wav"
   ]
  },
  {
   "cell_type": "code",
   "execution_count": null,
   "metadata": {},
   "outputs": [],
   "source": [
    "automated_df_mp3"
   ]
  },
  {
   "cell_type": "markdown",
   "metadata": {},
   "source": [
    "### Function that gathers statistics about the duration of annotations"
   ]
  },
  {
   "cell_type": "code",
   "execution_count": null,
   "metadata": {},
   "outputs": [],
   "source": [
    "annotation_duration_statistics(automated_df_wav)"
   ]
  },
  {
   "cell_type": "code",
   "execution_count": null,
   "metadata": {},
   "outputs": [],
   "source": [
    "annotation_duration_statistics(automated_df_mp3)"
   ]
  },
  {
   "cell_type": "markdown",
   "metadata": {},
   "source": [
    "### Human Manual Labels for Comparison "
   ]
  },
  {
   "cell_type": "code",
   "execution_count": null,
   "metadata": {},
   "outputs": [],
   "source": [
    "manual_df = pd.read_csv(\"for_data_science_newline_fixed.csv\")\n",
    "manual_df[\"FOLDER\"] = \"./XCTESTFILES/\"\n",
    "manual_df[\"CHANNEL\"] = 0"
   ]
  },
  {
   "cell_type": "code",
   "execution_count": null,
   "metadata": {},
   "outputs": [],
   "source": [
    "annotation_duration_statistics(manual_df)"
   ]
  },
  {
   "cell_type": "markdown",
   "metadata": {},
   "source": [
    "### Histogram Visualization of Annotation Lengths"
   ]
  },
  {
   "cell_type": "code",
   "execution_count": null,
   "metadata": {},
   "outputs": [],
   "source": [
    "annotation_duration_histogram(automated_df_wav, n_bins = 100, title = \"Automated Annotation Lengths\")"
   ]
  },
  {
   "cell_type": "code",
   "execution_count": null,
   "metadata": {},
   "outputs": [],
   "source": [
    "annotation_duration_histogram(automated_df_mp3, n_bins = 100, title = \"Automated Annotation Lengths\")"
   ]
  },
  {
   "cell_type": "code",
   "execution_count": null,
   "metadata": {},
   "outputs": [],
   "source": [
    "annotation_duration_histogram(manual_df, n_bins = 100, title = \"Human Annotation Lengths\")\n",
    "# In the Screaming Piha clips we can see two distinct clusters based on the \"Whoa\" vocalizations (.25-1.25s)\n",
    "# and the \"Pee-Haw\" vocalizations (1.25-2.5s)"
   ]
  },
  {
   "cell_type": "markdown",
   "metadata": {},
   "source": [
    "### Helper function to convert to kaleidoscope-compatible format "
   ]
  },
  {
   "cell_type": "code",
   "execution_count": null,
   "metadata": {},
   "outputs": [],
   "source": [
    "kaleidoscope_conversion(manual_df)"
   ]
  },
  {
   "cell_type": "markdown",
   "metadata": {},
   "source": [
    "## Different Combinations of Local Score Visualization Graphs\n",
    "#### Note that some models use Local Score Arrays, and others don't."
   ]
  },
  {
   "cell_type": "markdown",
   "metadata": {},
   "source": [
    "### Baseline Graph without any annotations"
   ]
  },
  {
   "cell_type": "code",
   "execution_count": null,
   "metadata": {
    "scrolled": false
   },
   "outputs": [],
   "source": [
    "clip_path_wav = \"./XCTESTFILES/Setophaga-palmarum-173794.wav\"\n",
    "spectrogram_visualization(clip_path_wav)"
   ]
  },
  {
   "cell_type": "code",
   "execution_count": null,
   "metadata": {},
   "outputs": [],
   "source": [
    "clip_path_mp3 = \"./XCTESTFILESmp3/Setophaga-palmarum-173794.mp3\"\n",
    "spectrogram_visualization(clip_path_mp3)"
   ]
  },
  {
   "cell_type": "markdown",
   "metadata": {},
   "source": [
    "### Baseline graph with log scale"
   ]
  },
  {
   "cell_type": "code",
   "execution_count": null,
   "metadata": {},
   "outputs": [],
   "source": [
    "spectrogram_visualization(clip_path_wav, isolation_parameters = isolation_parameters_wav, log_scale = True)"
   ]
  },
  {
   "cell_type": "code",
   "execution_count": null,
   "metadata": {},
   "outputs": [],
   "source": [
    "spectrogram_visualization(clip_path_mp3, isolation_parameters = isolation_parameters_mp3, log_scale = True)"
   ]
  },
  {
   "cell_type": "markdown",
   "metadata": {},
   "source": [
    "### Baseline graph with normalized local score values between [0,1] "
   ]
  },
  {
   "cell_type": "code",
   "execution_count": null,
   "metadata": {},
   "outputs": [],
   "source": [
    "spectrogram_visualization(clip_path_wav, isolation_parameters = isolation_parameters_wav, normalize_local_scores = True)"
   ]
  },
  {
   "cell_type": "code",
   "execution_count": null,
   "metadata": {},
   "outputs": [],
   "source": [
    "spectrogram_visualization(clip_path_mp3, isolation_parameters = isolation_parameters_mp3, normalize_local_scores = True)"
   ]
  },
  {
   "cell_type": "markdown",
   "metadata": {},
   "source": [
    "### Graph with Automated Labeling "
   ]
  },
  {
   "cell_type": "code",
   "execution_count": null,
   "metadata": {},
   "outputs": [],
   "source": [
    "spectrogram_visualization(clip_path_wav,automated_df = True, isolation_parameters = isolation_parameters_wav)"
   ]
  },
  {
   "cell_type": "code",
   "execution_count": null,
   "metadata": {},
   "outputs": [],
   "source": [
    "spectrogram_visualization(clip_path_mp3,automated_df = True, isolation_parameters = isolation_parameters_mp3)"
   ]
  },
  {
   "cell_type": "markdown",
   "metadata": {},
   "source": [
    "### Spectrogram with Human Labelling"
   ]
  },
  {
   "cell_type": "code",
   "execution_count": null,
   "metadata": {},
   "outputs": [],
   "source": [
    "spectrogram_visualization(clip_path_wav, premade_annotations_df = manual_df[manual_df[\"IN FILE\"] == \"Setophaga-palmarum-173794.wav\"],premade_annotations_label = \"Piha Human Labels\")"
   ]
  },
  {
   "cell_type": "code",
   "execution_count": null,
   "metadata": {},
   "outputs": [],
   "source": [
    "spectrogram_visualization(clip_path_mp3, premade_annotations_df = manual_df[manual_df[\"IN FILE\"] == \"Setophaga-palmarum-173794.wav\"],premade_annotations_label = \"Piha Human Labels\")"
   ]
  },
  {
   "cell_type": "markdown",
   "metadata": {},
   "source": [
    "### Graph with Both Automated and Human Labels "
   ]
  },
  {
   "cell_type": "code",
   "execution_count": null,
   "metadata": {
    "scrolled": false
   },
   "outputs": [],
   "source": [
    "spectrogram_visualization(clip_path_wav,automated_df = True,isolation_parameters=isolation_parameters_wav,premade_annotations_df = manual_df[manual_df[\"IN FILE\"] == \"Setophaga-palmarum-173794.wav\"])"
   ]
  },
  {
   "cell_type": "code",
   "execution_count": null,
   "metadata": {},
   "outputs": [],
   "source": [
    "spectrogram_visualization(clip_path_mp3,automated_df = True,isolation_parameters=isolation_parameters_mp3,premade_annotations_df = manual_df[manual_df[\"IN FILE\"] == \"Setophaga-palmarum-173794.wav\"])"
   ]
  },
  {
   "cell_type": "markdown",
   "metadata": {},
   "source": [
    "### Another Visualization of True Positives, False Positives, False Negatives, and True Negatives "
   ]
  },
  {
   "cell_type": "code",
   "execution_count": null,
   "metadata": {
    "scrolled": true
   },
   "outputs": [],
   "source": [
    "automated_piha_df_wav = automated_df_wav[automated_df_wav[\"IN FILE\"] == \"Setophaga-palmarum-173794.wav\"]\n",
    "manual_piha_df = manual_df[manual_df[\"IN FILE\"] == \"Setophaga-palmarum-173794.wav\"]\n",
    "piha_stats_wav = binary_visualization(automated_piha_df_wav,manual_piha_df)"
   ]
  },
  {
   "cell_type": "code",
   "execution_count": null,
   "metadata": {},
   "outputs": [],
   "source": [
    "automated_piha_df_mp3 = automated_df_mp3[automated_df_mp3[\"IN FILE\"] == \"Setophaga-palmarum-173794.mp3\"]\n",
    "piha_stats_mp3 = binary_visualization(automated_piha_df_mp3,manual_piha_df)"
   ]
  },
  {
   "cell_type": "markdown",
   "metadata": {},
   "source": [
    "### Function that generates statistics to gauge efficacy of automated labeling compared to human labels "
   ]
  },
  {
   "cell_type": "code",
   "execution_count": null,
   "metadata": {},
   "outputs": [],
   "source": [
    "# step necessary to make the birdnet_labels binary.\n",
    "automated_df_wav['MANUAL ID']='bird'\n",
    "automated_df_mp3['MANUAL ID']='bird'\n",
    "manual_df['MANUAL ID']='bird'"
   ]
  },
  {
   "cell_type": "code",
   "execution_count": null,
   "metadata": {},
   "outputs": [],
   "source": [
    "clip_statistics_df_wav = clip_statistics(automated_df_wav,manual_df, stats_type = \"general\")\n",
    "clip_statistics_df_wav"
   ]
  },
  {
   "cell_type": "code",
   "execution_count": null,
   "metadata": {},
   "outputs": [],
   "source": [
    "clip_statistics_df_mp3 = clip_statistics(automated_df_mp3,manual_df, stats_type = \"general\")\n",
    "clip_statistics_df_mp3"
   ]
  },
  {
   "cell_type": "markdown",
   "metadata": {},
   "source": [
    "### Function that takes the statistical ouput of all of the clips and gets the equivalent global scores "
   ]
  },
  {
   "cell_type": "code",
   "execution_count": null,
   "metadata": {},
   "outputs": [],
   "source": [
    "global_statistics(clip_statistics_df_wav)"
   ]
  },
  {
   "cell_type": "code",
   "execution_count": null,
   "metadata": {},
   "outputs": [],
   "source": [
    "global_statistics(clip_statistics_df_mp3)"
   ]
  },
  {
   "cell_type": "markdown",
   "metadata": {},
   "source": [
    "### Function that takes in the manual and automated labels for a clip and outputs human label-by-label IoU Scores. Used to derive statistics that measure how well a system is isolating desired segments of audio clips"
   ]
  },
  {
   "cell_type": "code",
   "execution_count": null,
   "metadata": {},
   "outputs": [],
   "source": [
    "Intersection_over_Union_Matrix_wav = clip_IoU(automated_piha_df_wav,manual_piha_df)\n",
    "print(Intersection_over_Union_Matrix_wav)"
   ]
  },
  {
   "cell_type": "code",
   "execution_count": null,
   "metadata": {},
   "outputs": [],
   "source": [
    "Intersection_over_Union_Matrix_mp3 = clip_IoU(automated_piha_df_mp3,manual_piha_df)\n",
    "print(Intersection_over_Union_Matrix_mp3)"
   ]
  },
  {
   "cell_type": "markdown",
   "metadata": {},
   "source": [
    "### Function that turns the IoU Matrix of a clip into true positive and false positives values, as well as computing the precision, recall, and F1 statistics"
   ]
  },
  {
   "cell_type": "code",
   "execution_count": null,
   "metadata": {},
   "outputs": [],
   "source": [
    "matrix_IoU_Scores(Intersection_over_Union_Matrix_wav,manual_piha_df,0.5)"
   ]
  },
  {
   "cell_type": "code",
   "execution_count": null,
   "metadata": {},
   "outputs": [],
   "source": [
    "matrix_IoU_Scores(Intersection_over_Union_Matrix_mp3,manual_piha_df,0.5)"
   ]
  },
  {
   "cell_type": "markdown",
   "metadata": {},
   "source": [
    "### Wrapper function that takes matrix_IoU_Scores across multiple clips. Allows user to modify the threshold that determines whether or not a label is a true positive."
   ]
  },
  {
   "cell_type": "code",
   "execution_count": null,
   "metadata": {},
   "outputs": [],
   "source": [
    "clip_stats_df_wav = clip_statistics(automated_df_wav,manual_df,stats_type = \"IoU\", threshold = 0.5)\n",
    "clip_stats_df_wav"
   ]
  },
  {
   "cell_type": "code",
   "execution_count": null,
   "metadata": {},
   "outputs": [],
   "source": [
    "clip_stats_df_mp3 = clip_statistics(automated_df_mp3,manual_df,stats_type = \"IoU\", threshold = 0.5)\n",
    "clip_stats_df_mp3"
   ]
  },
  {
   "cell_type": "markdown",
   "metadata": {},
   "source": [
    "### Function that takes the output of dataset_IoU Statistics and ouputs a global count of true positives and false positives, as well as computing common metrics across the dataset"
   ]
  },
  {
   "cell_type": "code",
   "execution_count": null,
   "metadata": {},
   "outputs": [],
   "source": [
    "global_stats_df_wav = global_statistics(clip_stats_df_wav)\n",
    "global_stats_df_wav"
   ]
  },
  {
   "cell_type": "code",
   "execution_count": null,
   "metadata": {},
   "outputs": [],
   "source": [
    "global_stats_df_mp3 = global_statistics(clip_stats_df_mp3)\n",
    "global_stats_df_mp3"
   ]
  },
  {
   "cell_type": "code",
   "execution_count": null,
   "metadata": {},
   "outputs": [],
   "source": []
  }
 ],
 "metadata": {
  "interpreter": {
   "hash": "50f29603170da42ff0485de93cf455ea9e81b4c54cac7530327aeacc7af59708"
  },
  "kernelspec": {
   "display_name": "Python 3 (ipykernel)",
   "language": "python",
   "name": "python3"
  },
  "language_info": {
   "codemirror_mode": {
    "name": "ipython",
    "version": 3
   },
   "file_extension": ".py",
   "mimetype": "text/x-python",
   "name": "python",
   "nbconvert_exporter": "python",
   "pygments_lexer": "ipython3",
   "version": "3.10.5"
  }
 },
 "nbformat": 4,
 "nbformat_minor": 4
}
