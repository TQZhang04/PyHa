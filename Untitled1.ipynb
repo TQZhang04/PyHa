{
 "cells": [
  {
   "cell_type": "code",
   "execution_count": 5,
   "id": "d857ad69",
   "metadata": {},
   "outputs": [],
   "source": [
    "import torch\n",
    "import torch.nn as nn"
   ]
  },
  {
   "cell_type": "code",
   "execution_count": 11,
   "id": "d6a647c6",
   "metadata": {
    "scrolled": true
   },
   "outputs": [
    {
     "name": "stdout",
     "output_type": "stream",
     "text": [
      "tensor([[ 1.2960, -1.1563,  2.1297, -0.4548,  1.7489],\n",
      "        [ 0.1371,  1.3417,  0.6404,  0.0960,  0.1492],\n",
      "        [ 0.8718, -1.6673,  0.9958,  0.1347,  1.1683]], requires_grad=True)\n",
      "tensor([4, 3, 3])\n",
      "tensor([[ 1.2914, -1.0780, -0.2941,  0.5529,  0.4891],\n",
      "        [ 0.7459,  1.6841, -1.5579,  1.4780, -0.0341],\n",
      "        [ 0.4793, -0.5716, -0.5467, -1.4229, -0.1312]], requires_grad=True)\n",
      "tensor([[0.0414, 0.2372, 0.0249, 0.1639, 0.5326],\n",
      "        [0.3263, 0.0987, 0.2163, 0.2639, 0.0947],\n",
      "        [0.4915, 0.0525, 0.2656, 0.1217, 0.0688]])\n",
      "tensor(1.8454, grad_fn=<DivBackward1>)\n"
     ]
    }
   ],
   "source": [
    "# Example of target with class indices\n",
    "loss = nn.CrossEntropyLoss()\n",
    "input = torch.randn(3, 5, requires_grad=True)\n",
    "print(input)\n",
    "target = torch.empty(3, dtype=torch.long).random_(5)\n",
    "print(target)\n",
    "output = loss(input, target)\n",
    "output.backward()\n",
    "# Example of target with class probabilities\n",
    "input = torch.randn(3, 5, requires_grad=True)\n",
    "print(input)\n",
    "target = torch.randn(3, 5).softmax(dim=1)\n",
    "print(target)\n",
    "output = loss(input, target)\n",
    "print(output)\n",
    "output.backward()"
   ]
  },
  {
   "cell_type": "code",
   "execution_count": null,
   "id": "adfcb954",
   "metadata": {},
   "outputs": [],
   "source": []
  }
 ],
 "metadata": {
  "kernelspec": {
   "display_name": "Python 3",
   "language": "python",
   "name": "python3"
  },
  "language_info": {
   "codemirror_mode": {
    "name": "ipython",
    "version": 3
   },
   "file_extension": ".py",
   "mimetype": "text/x-python",
   "name": "python",
   "nbconvert_exporter": "python",
   "pygments_lexer": "ipython3",
   "version": "3.7.10"
  }
 },
 "nbformat": 4,
 "nbformat_minor": 5
}
