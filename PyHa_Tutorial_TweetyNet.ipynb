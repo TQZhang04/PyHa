{
 "cells": [
  {
   "cell_type": "code",
   "execution_count": 59,
   "metadata": {
    "scrolled": true
   },
   "outputs": [],
   "source": [
    "from PyHa.statistics import *\n",
    "from PyHa.IsoAutio import *\n",
    "from PyHa.visualizations import *\n",
    "import pandas as pd"
   ]
  },
  {
   "cell_type": "markdown",
   "metadata": {},
   "source": [
    "## Running Moment to Moment Labeling System on a Directory of WAV Files "
   ]
  },
  {
   "cell_type": "code",
   "execution_count": 60,
   "metadata": {},
   "outputs": [],
   "source": [
    "path = \"./TEST/\""
   ]
  },
  {
   "cell_type": "markdown",
   "metadata": {},
   "source": [
    "### Dictionary that defines the isolation technique and parameters used to generate automated labels "
   ]
  },
  {
   "cell_type": "code",
   "execution_count": 61,
   "metadata": {},
   "outputs": [],
   "source": [
    "isolation_parameters = {\n",
    "    \"technique\" : \"steinberg\",\n",
    "    \"threshold_type\" : \"median\",\n",
    "    \"threshold_const\" : 2.0,\n",
    "    \"threshold_min\" : 0.0,\n",
    "    \"window_size\" : 2.0,\n",
    "    \"chunk_size\" : 5.0\n",
    "}"
   ]
  },
  {
   "cell_type": "code",
   "execution_count": 77,
   "metadata": {
    "scrolled": true
   },
   "outputs": [
    {
     "name": "stdout",
     "output_type": "stream",
     "text": [
      "1118\n",
      "129\n",
      "946\n"
     ]
    }
   ],
   "source": [
    "automated_df = generate_automated_labels(path,isolation_parameters, ml_model=\"tweetynet\", normalize_local_scores=True); #make this function work with tweetynet\n"
   ]
  },
  {
   "cell_type": "markdown",
   "metadata": {},
   "source": [
    "### Pandas Ouput of Automated Labeling "
   ]
  },
  {
   "cell_type": "code",
   "execution_count": 63,
   "metadata": {
    "scrolled": true
   },
   "outputs": [
    {
     "data": {
      "text/html": [
       "<div>\n",
       "<style scoped>\n",
       "    .dataframe tbody tr th:only-of-type {\n",
       "        vertical-align: middle;\n",
       "    }\n",
       "\n",
       "    .dataframe tbody tr th {\n",
       "        vertical-align: top;\n",
       "    }\n",
       "\n",
       "    .dataframe thead th {\n",
       "        text-align: right;\n",
       "    }\n",
       "</style>\n",
       "<table border=\"1\" class=\"dataframe\">\n",
       "  <thead>\n",
       "    <tr style=\"text-align: right;\">\n",
       "      <th></th>\n",
       "      <th>FOLDER</th>\n",
       "      <th>IN FILE</th>\n",
       "      <th>CHANNEL</th>\n",
       "      <th>CLIP LENGTH</th>\n",
       "      <th>SAMPLE RATE</th>\n",
       "      <th>OFFSET</th>\n",
       "      <th>DURATION</th>\n",
       "      <th>MANUAL ID</th>\n",
       "    </tr>\n",
       "  </thead>\n",
       "  <tbody>\n",
       "    <tr>\n",
       "      <th>0</th>\n",
       "      <td>./TEST/</td>\n",
       "      <td>Accipiter-collaris-260336.wav</td>\n",
       "      <td>0</td>\n",
       "      <td>26.932245</td>\n",
       "      <td>44100</td>\n",
       "      <td>0.0</td>\n",
       "      <td>26.932245</td>\n",
       "      <td>bird</td>\n",
       "    </tr>\n",
       "    <tr>\n",
       "      <th>1</th>\n",
       "      <td>./TEST/</td>\n",
       "      <td>Accipiter-striatus-497793.wav</td>\n",
       "      <td>0</td>\n",
       "      <td>3.720000</td>\n",
       "      <td>44100</td>\n",
       "      <td>0.0</td>\n",
       "      <td>3.720000</td>\n",
       "      <td>bird</td>\n",
       "    </tr>\n",
       "    <tr>\n",
       "      <th>2</th>\n",
       "      <td>./TEST/</td>\n",
       "      <td>Actitis-macularius-257519.wav</td>\n",
       "      <td>0</td>\n",
       "      <td>22.177959</td>\n",
       "      <td>44100</td>\n",
       "      <td>0.0</td>\n",
       "      <td>22.177959</td>\n",
       "      <td>bird</td>\n",
       "    </tr>\n",
       "  </tbody>\n",
       "</table>\n",
       "</div>"
      ],
      "text/plain": [
       "    FOLDER                        IN FILE  CHANNEL  CLIP LENGTH  SAMPLE RATE  \\\n",
       "0  ./TEST/  Accipiter-collaris-260336.wav        0    26.932245        44100   \n",
       "1  ./TEST/  Accipiter-striatus-497793.wav        0     3.720000        44100   \n",
       "2  ./TEST/  Actitis-macularius-257519.wav        0    22.177959        44100   \n",
       "\n",
       "   OFFSET   DURATION MANUAL ID  \n",
       "0     0.0  26.932245      bird  \n",
       "1     0.0   3.720000      bird  \n",
       "2     0.0  22.177959      bird  "
      ]
     },
     "execution_count": 63,
     "metadata": {},
     "output_type": "execute_result"
    }
   ],
   "source": [
    "automated_df"
   ]
  },
  {
   "cell_type": "markdown",
   "metadata": {},
   "source": [
    "### Function that gathers statistics about the duration of annotations"
   ]
  },
  {
   "cell_type": "code",
   "execution_count": 64,
   "metadata": {},
   "outputs": [
    {
     "data": {
      "text/html": [
       "<div>\n",
       "<style scoped>\n",
       "    .dataframe tbody tr th:only-of-type {\n",
       "        vertical-align: middle;\n",
       "    }\n",
       "\n",
       "    .dataframe tbody tr th {\n",
       "        vertical-align: top;\n",
       "    }\n",
       "\n",
       "    .dataframe thead th {\n",
       "        text-align: right;\n",
       "    }\n",
       "</style>\n",
       "<table border=\"1\" class=\"dataframe\">\n",
       "  <thead>\n",
       "    <tr style=\"text-align: right;\">\n",
       "      <th></th>\n",
       "      <th>COUNT</th>\n",
       "      <th>MODE</th>\n",
       "      <th>MEAN</th>\n",
       "      <th>STANDARD DEVIATION</th>\n",
       "      <th>MIN</th>\n",
       "      <th>Q1</th>\n",
       "      <th>MEDIAN</th>\n",
       "      <th>Q3</th>\n",
       "      <th>MAX</th>\n",
       "    </tr>\n",
       "  </thead>\n",
       "  <tbody>\n",
       "    <tr>\n",
       "      <th>0</th>\n",
       "      <td>3</td>\n",
       "      <td>3.72</td>\n",
       "      <td>17.610068</td>\n",
       "      <td>10.011703</td>\n",
       "      <td>3.72</td>\n",
       "      <td>12.94898</td>\n",
       "      <td>22.177959</td>\n",
       "      <td>24.555102</td>\n",
       "      <td>26.932245</td>\n",
       "    </tr>\n",
       "  </tbody>\n",
       "</table>\n",
       "</div>"
      ],
      "text/plain": [
       "   COUNT  MODE       MEAN  STANDARD DEVIATION   MIN        Q1     MEDIAN  \\\n",
       "0      3  3.72  17.610068           10.011703  3.72  12.94898  22.177959   \n",
       "\n",
       "          Q3        MAX  \n",
       "0  24.555102  26.932245  "
      ]
     },
     "execution_count": 64,
     "metadata": {},
     "output_type": "execute_result"
    }
   ],
   "source": [
    "annotation_duration_statistics(automated_df)"
   ]
  },
  {
   "cell_type": "markdown",
   "metadata": {},
   "source": [
    "### Human Manual Labels for Comparison "
   ]
  },
  {
   "cell_type": "code",
   "execution_count": 65,
   "metadata": {},
   "outputs": [
    {
     "data": {
      "text/html": [
       "<div>\n",
       "<style scoped>\n",
       "    .dataframe tbody tr th:only-of-type {\n",
       "        vertical-align: middle;\n",
       "    }\n",
       "\n",
       "    .dataframe tbody tr th {\n",
       "        vertical-align: top;\n",
       "    }\n",
       "\n",
       "    .dataframe thead th {\n",
       "        text-align: right;\n",
       "    }\n",
       "</style>\n",
       "<table border=\"1\" class=\"dataframe\">\n",
       "  <thead>\n",
       "    <tr style=\"text-align: right;\">\n",
       "      <th></th>\n",
       "      <th>FOLDER</th>\n",
       "      <th>IN FILE</th>\n",
       "      <th>CLIP LENGTH</th>\n",
       "      <th>CHANNEL</th>\n",
       "      <th>OFFSET</th>\n",
       "      <th>DURATION</th>\n",
       "      <th>SAMPLING RATE</th>\n",
       "      <th>MANUAL ID</th>\n",
       "    </tr>\n",
       "  </thead>\n",
       "  <tbody>\n",
       "    <tr>\n",
       "      <th>0</th>\n",
       "      <td>./TEST/</td>\n",
       "      <td>ScreamingPiha1.wav</td>\n",
       "      <td>32.6160</td>\n",
       "      <td>0</td>\n",
       "      <td>1.5448</td>\n",
       "      <td>2.1297</td>\n",
       "      <td>16000</td>\n",
       "      <td>bird</td>\n",
       "    </tr>\n",
       "    <tr>\n",
       "      <th>1</th>\n",
       "      <td>./TEST/</td>\n",
       "      <td>ScreamingPiha1.wav</td>\n",
       "      <td>32.6160</td>\n",
       "      <td>0</td>\n",
       "      <td>10.1638</td>\n",
       "      <td>0.8498</td>\n",
       "      <td>16000</td>\n",
       "      <td>bird</td>\n",
       "    </tr>\n",
       "    <tr>\n",
       "      <th>2</th>\n",
       "      <td>./TEST/</td>\n",
       "      <td>ScreamingPiha1.wav</td>\n",
       "      <td>32.6160</td>\n",
       "      <td>0</td>\n",
       "      <td>0.5549</td>\n",
       "      <td>0.9999</td>\n",
       "      <td>16000</td>\n",
       "      <td>bird</td>\n",
       "    </tr>\n",
       "    <tr>\n",
       "      <th>3</th>\n",
       "      <td>./TEST/</td>\n",
       "      <td>ScreamingPiha1.wav</td>\n",
       "      <td>32.6160</td>\n",
       "      <td>0</td>\n",
       "      <td>8.7739</td>\n",
       "      <td>0.8399</td>\n",
       "      <td>16000</td>\n",
       "      <td>bird</td>\n",
       "    </tr>\n",
       "    <tr>\n",
       "      <th>4</th>\n",
       "      <td>./TEST/</td>\n",
       "      <td>ScreamingPiha1.wav</td>\n",
       "      <td>32.6160</td>\n",
       "      <td>0</td>\n",
       "      <td>12.6335</td>\n",
       "      <td>1.9997</td>\n",
       "      <td>16000</td>\n",
       "      <td>bird</td>\n",
       "    </tr>\n",
       "    <tr>\n",
       "      <th>...</th>\n",
       "      <td>...</td>\n",
       "      <td>...</td>\n",
       "      <td>...</td>\n",
       "      <td>...</td>\n",
       "      <td>...</td>\n",
       "      <td>...</td>\n",
       "      <td>...</td>\n",
       "      <td>...</td>\n",
       "    </tr>\n",
       "    <tr>\n",
       "      <th>249</th>\n",
       "      <td>./TEST/</td>\n",
       "      <td>ScreamingPiha2.wav</td>\n",
       "      <td>33.9331</td>\n",
       "      <td>0</td>\n",
       "      <td>26.9274</td>\n",
       "      <td>1.7602</td>\n",
       "      <td>44100</td>\n",
       "      <td>bird</td>\n",
       "    </tr>\n",
       "    <tr>\n",
       "      <th>250</th>\n",
       "      <td>./TEST/</td>\n",
       "      <td>ScreamingPiha2.wav</td>\n",
       "      <td>33.9331</td>\n",
       "      <td>0</td>\n",
       "      <td>30.8178</td>\n",
       "      <td>0.7200</td>\n",
       "      <td>44100</td>\n",
       "      <td>bird</td>\n",
       "    </tr>\n",
       "    <tr>\n",
       "      <th>251</th>\n",
       "      <td>./TEST/</td>\n",
       "      <td>ScreamingPiha2.wav</td>\n",
       "      <td>33.9331</td>\n",
       "      <td>0</td>\n",
       "      <td>29.8677</td>\n",
       "      <td>0.9401</td>\n",
       "      <td>44100</td>\n",
       "      <td>bird</td>\n",
       "    </tr>\n",
       "    <tr>\n",
       "      <th>252</th>\n",
       "      <td>./TEST/</td>\n",
       "      <td>ScreamingPiha2.wav</td>\n",
       "      <td>33.9331</td>\n",
       "      <td>0</td>\n",
       "      <td>31.5378</td>\n",
       "      <td>1.9502</td>\n",
       "      <td>44100</td>\n",
       "      <td>bird</td>\n",
       "    </tr>\n",
       "    <tr>\n",
       "      <th>253</th>\n",
       "      <td>./TEST/</td>\n",
       "      <td>ScreamingPiha2.wav</td>\n",
       "      <td>33.9331</td>\n",
       "      <td>0</td>\n",
       "      <td>33.7880</td>\n",
       "      <td>0.1100</td>\n",
       "      <td>44100</td>\n",
       "      <td>bird</td>\n",
       "    </tr>\n",
       "  </tbody>\n",
       "</table>\n",
       "<p>254 rows × 8 columns</p>\n",
       "</div>"
      ],
      "text/plain": [
       "      FOLDER             IN FILE  CLIP LENGTH  CHANNEL   OFFSET  DURATION  \\\n",
       "0    ./TEST/  ScreamingPiha1.wav      32.6160        0   1.5448    2.1297   \n",
       "1    ./TEST/  ScreamingPiha1.wav      32.6160        0  10.1638    0.8498   \n",
       "2    ./TEST/  ScreamingPiha1.wav      32.6160        0   0.5549    0.9999   \n",
       "3    ./TEST/  ScreamingPiha1.wav      32.6160        0   8.7739    0.8399   \n",
       "4    ./TEST/  ScreamingPiha1.wav      32.6160        0  12.6335    1.9997   \n",
       "..       ...                 ...          ...      ...      ...       ...   \n",
       "249  ./TEST/  ScreamingPiha2.wav      33.9331        0  26.9274    1.7602   \n",
       "250  ./TEST/  ScreamingPiha2.wav      33.9331        0  30.8178    0.7200   \n",
       "251  ./TEST/  ScreamingPiha2.wav      33.9331        0  29.8677    0.9401   \n",
       "252  ./TEST/  ScreamingPiha2.wav      33.9331        0  31.5378    1.9502   \n",
       "253  ./TEST/  ScreamingPiha2.wav      33.9331        0  33.7880    0.1100   \n",
       "\n",
       "     SAMPLING RATE MANUAL ID  \n",
       "0            16000      bird  \n",
       "1            16000      bird  \n",
       "2            16000      bird  \n",
       "3            16000      bird  \n",
       "4            16000      bird  \n",
       "..             ...       ...  \n",
       "249          44100      bird  \n",
       "250          44100      bird  \n",
       "251          44100      bird  \n",
       "252          44100      bird  \n",
       "253          44100      bird  \n",
       "\n",
       "[254 rows x 8 columns]"
      ]
     },
     "execution_count": 65,
     "metadata": {},
     "output_type": "execute_result"
    }
   ],
   "source": [
    "manual_df = pd.read_csv(\"ScreamingPiha_Manual_Labels.csv\")\n",
    "#manual_df = pd.read_csv(\"BirdCLEF2020_Validation.csv\")\n",
    "manual_df"
   ]
  },
  {
   "cell_type": "code",
   "execution_count": 66,
   "metadata": {},
   "outputs": [
    {
     "data": {
      "text/html": [
       "<div>\n",
       "<style scoped>\n",
       "    .dataframe tbody tr th:only-of-type {\n",
       "        vertical-align: middle;\n",
       "    }\n",
       "\n",
       "    .dataframe tbody tr th {\n",
       "        vertical-align: top;\n",
       "    }\n",
       "\n",
       "    .dataframe thead th {\n",
       "        text-align: right;\n",
       "    }\n",
       "</style>\n",
       "<table border=\"1\" class=\"dataframe\">\n",
       "  <thead>\n",
       "    <tr style=\"text-align: right;\">\n",
       "      <th></th>\n",
       "      <th>COUNT</th>\n",
       "      <th>MODE</th>\n",
       "      <th>MEAN</th>\n",
       "      <th>STANDARD DEVIATION</th>\n",
       "      <th>MIN</th>\n",
       "      <th>Q1</th>\n",
       "      <th>MEDIAN</th>\n",
       "      <th>Q3</th>\n",
       "      <th>MAX</th>\n",
       "    </tr>\n",
       "  </thead>\n",
       "  <tbody>\n",
       "    <tr>\n",
       "      <th>0</th>\n",
       "      <td>254</td>\n",
       "      <td>1.87</td>\n",
       "      <td>1.068224</td>\n",
       "      <td>0.664488</td>\n",
       "      <td>0.11</td>\n",
       "      <td>0.532475</td>\n",
       "      <td>0.78005</td>\n",
       "      <td>1.767475</td>\n",
       "      <td>3.1199</td>\n",
       "    </tr>\n",
       "  </tbody>\n",
       "</table>\n",
       "</div>"
      ],
      "text/plain": [
       "   COUNT  MODE      MEAN  STANDARD DEVIATION   MIN        Q1   MEDIAN  \\\n",
       "0    254  1.87  1.068224            0.664488  0.11  0.532475  0.78005   \n",
       "\n",
       "         Q3     MAX  \n",
       "0  1.767475  3.1199  "
      ]
     },
     "execution_count": 66,
     "metadata": {},
     "output_type": "execute_result"
    }
   ],
   "source": [
    "annotation_duration_statistics(manual_df)"
   ]
  },
  {
   "cell_type": "markdown",
   "metadata": {},
   "source": [
    "### Histogram Visualization of Annotation Lengths"
   ]
  },
  {
   "cell_type": "code",
   "execution_count": 67,
   "metadata": {},
   "outputs": [
    {
     "data": {
      "image/png": "[encoded data removed]",
      "text/plain": [
       "<Figure size 432x288 with 1 Axes>"
      ]
     },
     "metadata": {
      "needs_background": "light"
     },
     "output_type": "display_data"
    }
   ],
   "source": [
    "annotation_duration_histogram(automated_df, n_bins = 100, title = \"Automated Annotation Lengths\")"
   ]
  },
  {
   "cell_type": "code",
   "execution_count": 68,
   "metadata": {},
   "outputs": [
    {
     "data": {
      "image/png": "[encoded data removed]",
      "text/plain": [
       "<Figure size 432x288 with 1 Axes>"
      ]
     },
     "metadata": {
      "needs_background": "light"
     },
     "output_type": "display_data"
    }
   ],
   "source": [
    "annotation_duration_histogram(manual_df, n_bins = 100, title = \"Human Annotation Lengths\")\n",
    "# In the Screaming Piha clips we can see two distinct clusters based on the \"Whoa\" vocalizations (.25-1.25s)\n",
    "# and the \"Pee-Haw\" vocalizations (1.25-2.5s)"
   ]
  },
  {
   "cell_type": "markdown",
   "metadata": {},
   "source": [
    "### Helper function to convert to kaleidoscope-compatible format "
   ]
  },
  {
   "cell_type": "code",
   "execution_count": 69,
   "metadata": {},
   "outputs": [
    {
     "data": {
      "text/html": [
       "<div>\n",
       "<style scoped>\n",
       "    .dataframe tbody tr th:only-of-type {\n",
       "        vertical-align: middle;\n",
       "    }\n",
       "\n",
       "    .dataframe tbody tr th {\n",
       "        vertical-align: top;\n",
       "    }\n",
       "\n",
       "    .dataframe thead th {\n",
       "        text-align: right;\n",
       "    }\n",
       "</style>\n",
       "<table border=\"1\" class=\"dataframe\">\n",
       "  <thead>\n",
       "    <tr style=\"text-align: right;\">\n",
       "      <th></th>\n",
       "      <th>FOLDER</th>\n",
       "      <th>IN FILE</th>\n",
       "      <th>CHANNEL</th>\n",
       "      <th>OFFSET</th>\n",
       "      <th>DURATION</th>\n",
       "      <th>MANUAL ID</th>\n",
       "    </tr>\n",
       "  </thead>\n",
       "  <tbody>\n",
       "    <tr>\n",
       "      <th>0</th>\n",
       "      <td>./TEST</td>\n",
       "      <td>ScreamingPiha1.wav</td>\n",
       "      <td>0</td>\n",
       "      <td>1.5448</td>\n",
       "      <td>2.1297</td>\n",
       "      <td>bird</td>\n",
       "    </tr>\n",
       "    <tr>\n",
       "      <th>1</th>\n",
       "      <td>./TEST</td>\n",
       "      <td>ScreamingPiha1.wav</td>\n",
       "      <td>0</td>\n",
       "      <td>10.1638</td>\n",
       "      <td>0.8498</td>\n",
       "      <td>bird</td>\n",
       "    </tr>\n",
       "    <tr>\n",
       "      <th>2</th>\n",
       "      <td>./TEST</td>\n",
       "      <td>ScreamingPiha1.wav</td>\n",
       "      <td>0</td>\n",
       "      <td>0.5549</td>\n",
       "      <td>0.9999</td>\n",
       "      <td>bird</td>\n",
       "    </tr>\n",
       "    <tr>\n",
       "      <th>3</th>\n",
       "      <td>./TEST</td>\n",
       "      <td>ScreamingPiha1.wav</td>\n",
       "      <td>0</td>\n",
       "      <td>8.7739</td>\n",
       "      <td>0.8399</td>\n",
       "      <td>bird</td>\n",
       "    </tr>\n",
       "    <tr>\n",
       "      <th>4</th>\n",
       "      <td>./TEST</td>\n",
       "      <td>ScreamingPiha1.wav</td>\n",
       "      <td>0</td>\n",
       "      <td>12.6335</td>\n",
       "      <td>1.9997</td>\n",
       "      <td>bird</td>\n",
       "    </tr>\n",
       "    <tr>\n",
       "      <th>...</th>\n",
       "      <td>...</td>\n",
       "      <td>...</td>\n",
       "      <td>...</td>\n",
       "      <td>...</td>\n",
       "      <td>...</td>\n",
       "      <td>...</td>\n",
       "    </tr>\n",
       "    <tr>\n",
       "      <th>249</th>\n",
       "      <td>./TEST</td>\n",
       "      <td>ScreamingPiha2.wav</td>\n",
       "      <td>0</td>\n",
       "      <td>26.9274</td>\n",
       "      <td>1.7602</td>\n",
       "      <td>bird</td>\n",
       "    </tr>\n",
       "    <tr>\n",
       "      <th>250</th>\n",
       "      <td>./TEST</td>\n",
       "      <td>ScreamingPiha2.wav</td>\n",
       "      <td>0</td>\n",
       "      <td>30.8178</td>\n",
       "      <td>0.7200</td>\n",
       "      <td>bird</td>\n",
       "    </tr>\n",
       "    <tr>\n",
       "      <th>251</th>\n",
       "      <td>./TEST</td>\n",
       "      <td>ScreamingPiha2.wav</td>\n",
       "      <td>0</td>\n",
       "      <td>29.8677</td>\n",
       "      <td>0.9401</td>\n",
       "      <td>bird</td>\n",
       "    </tr>\n",
       "    <tr>\n",
       "      <th>252</th>\n",
       "      <td>./TEST</td>\n",
       "      <td>ScreamingPiha2.wav</td>\n",
       "      <td>0</td>\n",
       "      <td>31.5378</td>\n",
       "      <td>1.9502</td>\n",
       "      <td>bird</td>\n",
       "    </tr>\n",
       "    <tr>\n",
       "      <th>253</th>\n",
       "      <td>./TEST</td>\n",
       "      <td>ScreamingPiha2.wav</td>\n",
       "      <td>0</td>\n",
       "      <td>33.7880</td>\n",
       "      <td>0.1100</td>\n",
       "      <td>bird</td>\n",
       "    </tr>\n",
       "  </tbody>\n",
       "</table>\n",
       "<p>254 rows × 6 columns</p>\n",
       "</div>"
      ],
      "text/plain": [
       "     FOLDER             IN FILE  CHANNEL   OFFSET  DURATION MANUAL ID\n",
       "0    ./TEST  ScreamingPiha1.wav        0   1.5448    2.1297      bird\n",
       "1    ./TEST  ScreamingPiha1.wav        0  10.1638    0.8498      bird\n",
       "2    ./TEST  ScreamingPiha1.wav        0   0.5549    0.9999      bird\n",
       "3    ./TEST  ScreamingPiha1.wav        0   8.7739    0.8399      bird\n",
       "4    ./TEST  ScreamingPiha1.wav        0  12.6335    1.9997      bird\n",
       "..      ...                 ...      ...      ...       ...       ...\n",
       "249  ./TEST  ScreamingPiha2.wav        0  26.9274    1.7602      bird\n",
       "250  ./TEST  ScreamingPiha2.wav        0  30.8178    0.7200      bird\n",
       "251  ./TEST  ScreamingPiha2.wav        0  29.8677    0.9401      bird\n",
       "252  ./TEST  ScreamingPiha2.wav        0  31.5378    1.9502      bird\n",
       "253  ./TEST  ScreamingPiha2.wav        0  33.7880    0.1100      bird\n",
       "\n",
       "[254 rows x 6 columns]"
      ]
     },
     "execution_count": 69,
     "metadata": {},
     "output_type": "execute_result"
    }
   ],
   "source": [
    "kaleidoscope_conversion(manual_df)"
   ]
  },
  {
   "cell_type": "markdown",
   "metadata": {},
   "source": [
    "## Different Combinations of Local Score Visualization Graphs"
   ]
  },
  {
   "cell_type": "markdown",
   "metadata": {},
   "source": [
    "### Baseline Graph without any annotations"
   ]
  },
  {
   "cell_type": "code",
   "execution_count": 70,
   "metadata": {
    "scrolled": false
   },
   "outputs": [
    {
     "name": "stdout",
     "output_type": "stream",
     "text": [
      "Failure in loading ./TEST/ScreamingPiha2.wav\n"
     ]
    }
   ],
   "source": [
    "clip_path = \"./TEST/ScreamingPiha2.wav\"\n",
    "local_score_visualization(clip_path)"
   ]
  },
  {
   "cell_type": "markdown",
   "metadata": {},
   "source": [
    "### Baseline graph with log scale"
   ]
  },
  {
   "cell_type": "code",
   "execution_count": 71,
   "metadata": {},
   "outputs": [
    {
     "name": "stdout",
     "output_type": "stream",
     "text": [
      "Failure in loading ./TEST/ScreamingPiha2.wav\n"
     ]
    }
   ],
   "source": [
    "local_score_visualization(clip_path,log_scale = True)"
   ]
  },
  {
   "cell_type": "markdown",
   "metadata": {},
   "source": [
    "### Baseline graph with normalized local score values between [0,1] "
   ]
  },
  {
   "cell_type": "code",
   "execution_count": 72,
   "metadata": {},
   "outputs": [
    {
     "name": "stdout",
     "output_type": "stream",
     "text": [
      "Failure in loading ./TEST/ScreamingPiha2.wav\n"
     ]
    }
   ],
   "source": [
    "local_score_visualization(clip_path, normalize_local_scores = True)"
   ]
  },
  {
   "cell_type": "markdown",
   "metadata": {},
   "source": [
    "### Graph with Automated Labeling "
   ]
  },
  {
   "cell_type": "code",
   "execution_count": 73,
   "metadata": {},
   "outputs": [
    {
     "name": "stdout",
     "output_type": "stream",
     "text": [
      "Failure in loading ./TEST/ScreamingPiha2.wav\n"
     ]
    }
   ],
   "source": [
    "local_score_visualization(clip_path,automated_df = True, isolation_parameters = isolation_parameters)"
   ]
  },
  {
   "cell_type": "markdown",
   "metadata": {},
   "source": [
    "### Graph with Human Labelling"
   ]
  },
  {
   "cell_type": "code",
   "execution_count": 74,
   "metadata": {},
   "outputs": [
    {
     "name": "stdout",
     "output_type": "stream",
     "text": [
      "Failure in loading ./TEST/ScreamingPiha2.wav\n"
     ]
    }
   ],
   "source": [
    "local_score_visualization(clip_path, premade_annotations_df = manual_df[manual_df[\"IN FILE\"] == \"ScreamingPiha2.wav\"],premade_annotations_label = \"Piha Human Labels\")"
   ]
  },
  {
   "cell_type": "markdown",
   "metadata": {},
   "source": [
    "### Graph with Both Automated and Human Labels \n",
    "    Orange ==> True Positive\n",
    "    Red ==> False Negative\n",
    "    Yellow ==> False Positive\n",
    "    White ==> True Negative"
   ]
  },
  {
   "cell_type": "code",
   "execution_count": 75,
   "metadata": {
    "scrolled": false
   },
   "outputs": [
    {
     "name": "stdout",
     "output_type": "stream",
     "text": [
      "Failure in loading ./TEST/ScreamingPiha2.wav\n"
     ]
    }
   ],
   "source": [
    "local_score_visualization(clip_path,automated_df = True,isolation_parameters=isolation_parameters,premade_annotations_df = manual_df[manual_df[\"IN FILE\"] == \"ScreamingPiha2.wav\"])"
   ]
  },
  {
   "cell_type": "markdown",
   "metadata": {},
   "source": [
    "### Another Visualization of True Positives, False Positives, False Negatives, and True Negatives "
   ]
  },
  {
   "cell_type": "code",
   "execution_count": 76,
   "metadata": {
    "scrolled": true
   },
   "outputs": [
    {
     "ename": "IndexError",
     "evalue": "list index out of range",
     "output_type": "error",
     "traceback": [
      "\u001b[1;31m---------------------------------------------------------------------------\u001b[0m",
      "\u001b[1;31mIndexError\u001b[0m                                Traceback (most recent call last)",
      "\u001b[1;32m<ipython-input-76-487cac4a6b52>\u001b[0m in \u001b[0;36m<module>\u001b[1;34m\u001b[0m\n\u001b[0;32m      1\u001b[0m \u001b[0mautomated_piha_df\u001b[0m \u001b[1;33m=\u001b[0m \u001b[0mautomated_df\u001b[0m\u001b[1;33m[\u001b[0m\u001b[0mautomated_df\u001b[0m\u001b[1;33m[\u001b[0m\u001b[1;34m\"IN FILE\"\u001b[0m\u001b[1;33m]\u001b[0m \u001b[1;33m==\u001b[0m \u001b[1;34m\"ScreamingPiha2.wav\"\u001b[0m\u001b[1;33m]\u001b[0m\u001b[1;33m\u001b[0m\u001b[1;33m\u001b[0m\u001b[0m\n\u001b[0;32m      2\u001b[0m \u001b[0mmanual_piha_df\u001b[0m \u001b[1;33m=\u001b[0m \u001b[0mmanual_df\u001b[0m\u001b[1;33m[\u001b[0m\u001b[0mmanual_df\u001b[0m\u001b[1;33m[\u001b[0m\u001b[1;34m\"IN FILE\"\u001b[0m\u001b[1;33m]\u001b[0m \u001b[1;33m==\u001b[0m \u001b[1;34m\"ScreamingPiha2.wav\"\u001b[0m\u001b[1;33m]\u001b[0m\u001b[1;33m\u001b[0m\u001b[1;33m\u001b[0m\u001b[0m\n\u001b[1;32m----> 3\u001b[1;33m \u001b[0mpiha_stats\u001b[0m \u001b[1;33m=\u001b[0m \u001b[0mplot_bird_label_scores\u001b[0m\u001b[1;33m(\u001b[0m\u001b[0mautomated_piha_df\u001b[0m\u001b[1;33m,\u001b[0m\u001b[0mmanual_piha_df\u001b[0m\u001b[1;33m)\u001b[0m\u001b[1;33m\u001b[0m\u001b[1;33m\u001b[0m\u001b[0m\n\u001b[0m",
      "\u001b[1;32me:\\PyHa\\PyHa\\visualizations.py\u001b[0m in \u001b[0;36mplot_bird_label_scores\u001b[1;34m(automated_df, human_df, save_fig)\u001b[0m\n\u001b[0;32m    276\u001b[0m         \u001b[0mDataframe\u001b[0m \u001b[1;32mwith\u001b[0m \u001b[0mstatistics\u001b[0m \u001b[0mcomparing\u001b[0m \u001b[0mthe\u001b[0m \u001b[0mautomated\u001b[0m \u001b[1;32mand\u001b[0m \u001b[0mhuman\u001b[0m \u001b[0mlabeling\u001b[0m\u001b[1;33m.\u001b[0m\u001b[1;33m\u001b[0m\u001b[1;33m\u001b[0m\u001b[0m\n\u001b[0;32m    277\u001b[0m     \"\"\"\n\u001b[1;32m--> 278\u001b[1;33m     \u001b[0mduration\u001b[0m \u001b[1;33m=\u001b[0m \u001b[0mautomated_df\u001b[0m\u001b[1;33m[\u001b[0m\u001b[1;34m\"CLIP LENGTH\"\u001b[0m\u001b[1;33m]\u001b[0m\u001b[1;33m.\u001b[0m\u001b[0mto_list\u001b[0m\u001b[1;33m(\u001b[0m\u001b[1;33m)\u001b[0m\u001b[1;33m[\u001b[0m\u001b[1;36m0\u001b[0m\u001b[1;33m]\u001b[0m\u001b[1;33m\u001b[0m\u001b[1;33m\u001b[0m\u001b[0m\n\u001b[0m\u001b[0;32m    279\u001b[0m     \u001b[0mSAMPLE_RATE\u001b[0m \u001b[1;33m=\u001b[0m \u001b[0mautomated_df\u001b[0m\u001b[1;33m[\u001b[0m\u001b[1;34m\"SAMPLE RATE\"\u001b[0m\u001b[1;33m]\u001b[0m\u001b[1;33m.\u001b[0m\u001b[0mto_list\u001b[0m\u001b[1;33m(\u001b[0m\u001b[1;33m)\u001b[0m\u001b[1;33m[\u001b[0m\u001b[1;36m0\u001b[0m\u001b[1;33m]\u001b[0m\u001b[1;33m\u001b[0m\u001b[1;33m\u001b[0m\u001b[0m\n\u001b[0;32m    280\u001b[0m     \u001b[1;31m# Initializing two arrays that will represent the\u001b[0m\u001b[1;33m\u001b[0m\u001b[1;33m\u001b[0m\u001b[1;33m\u001b[0m\u001b[0m\n",
      "\u001b[1;31mIndexError\u001b[0m: list index out of range"
     ]
    }
   ],
   "source": [
    "automated_piha_df = automated_df[automated_df[\"IN FILE\"] == \"ScreamingPiha2.wav\"]\n",
    "manual_piha_df = manual_df[manual_df[\"IN FILE\"] == \"ScreamingPiha2.wav\"]\n",
    "piha_stats = plot_bird_label_scores(automated_piha_df,manual_piha_df)"
   ]
  },
  {
   "cell_type": "markdown",
   "metadata": {},
   "source": [
    "### Function that generates statistics to gauge efficacy of automated labeling compared to human labels "
   ]
  },
  {
   "cell_type": "code",
   "execution_count": null,
   "metadata": {},
   "outputs": [],
   "source": [
    "statistics_df = automated_labeling_statistics(automated_df,manual_df,stats_type = \"general\");\n",
    "statistics_df"
   ]
  },
  {
   "cell_type": "markdown",
   "metadata": {},
   "source": [
    "### Function that takes the statistical ouput of all of the clips and gets the equivalent global scores "
   ]
  },
  {
   "cell_type": "code",
   "execution_count": null,
   "metadata": {},
   "outputs": [],
   "source": [
    "global_dataset_statistics(statistics_df)"
   ]
  },
  {
   "cell_type": "markdown",
   "metadata": {},
   "source": [
    "### Function that takes in the manual and automated labels for a clip and outputs human label-by-label IoU Scores. Used to derive statistics that measure how well a system is isolating desired segments of audio clips"
   ]
  },
  {
   "cell_type": "code",
   "execution_count": null,
   "metadata": {},
   "outputs": [],
   "source": [
    "Intersection_over_Union_Matrix = clip_IoU(automated_piha_df,manual_piha_df)\n",
    "print(Intersection_over_Union_Matrix)"
   ]
  },
  {
   "cell_type": "markdown",
   "metadata": {},
   "source": [
    "### Function that turns the IoU Matrix of a clip into true positive and false positives values, as well as computing the precision, recall, and F1 statistics"
   ]
  },
  {
   "cell_type": "code",
   "execution_count": null,
   "metadata": {},
   "outputs": [],
   "source": [
    "matrix_IoU_Scores(Intersection_over_Union_Matrix,manual_piha_df,0.5)"
   ]
  },
  {
   "cell_type": "markdown",
   "metadata": {},
   "source": [
    "### Wrapper function that takes matrix_IoU_Scores across multiple clips. Allows user to modify the threshold that determines whether or not a label is a true positive."
   ]
  },
  {
   "cell_type": "code",
   "execution_count": null,
   "metadata": {
    "scrolled": true
   },
   "outputs": [],
   "source": [
    "stats_df = automated_labeling_statistics(automated_df,manual_df,stats_type = \"IoU\",threshold = 0.5)\n",
    "stats_df"
   ]
  },
  {
   "cell_type": "markdown",
   "metadata": {},
   "source": [
    "### Function that takes the output of dataset_IoU Statistics and ouputs a global count of true positives and false positives, as well as computing common metrics across the dataset"
   ]
  },
  {
   "cell_type": "code",
   "execution_count": null,
   "metadata": {},
   "outputs": [],
   "source": [
    "global_stats_df = global_IoU_Statistics(stats_df)\n",
    "global_stats_df"
   ]
  },
  {
   "cell_type": "code",
   "execution_count": null,
   "metadata": {},
   "outputs": [],
   "source": []
  }
 ],
 "metadata": {
  "kernelspec": {
   "display_name": "Python 3",
   "language": "python",
   "name": "python3"
  },
  "language_info": {
   "codemirror_mode": {
    "name": "ipython",
    "version": 3
   },
   "file_extension": ".py",
   "mimetype": "text/x-python",
   "name": "python",
   "nbconvert_exporter": "python",
   "pygments_lexer": "ipython3",
   "version": "3.7.10"
  }
 },
 "nbformat": 4,
 "nbformat_minor": 4
}
