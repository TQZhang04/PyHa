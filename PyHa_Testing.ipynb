{
 "cells": [
  {
   "cell_type": "code",
   "execution_count": null,
   "metadata": {
    "scrolled": true
   },
   "outputs": [],
   "source": [
    "from PyHa.statistics import *\n",
    "from PyHa.IsoAutio import *\n",
    "from PyHa.visualizations import *\n",
    "import pandas as pd"
   ]
  },
  {
   "cell_type": "markdown",
   "metadata": {},
   "source": [
    "## Running Moment to Moment Labeling System on a Directory of WAV Files "
   ]
  },
  {
   "cell_type": "code",
   "execution_count": null,
   "metadata": {},
   "outputs": [],
   "source": [
    "path = \"./TEST/\"\n",
    "clip_path = \"./TEST/ScreamingPiha2.wav\"\n",
    "manual_df = pd.read_csv(\"ScreamingPiha_Manual_Labels.csv\")\n",
    "\n",
    "\n",
    "#path = \"./mixed_bird/Mixed_Bird/\"\n",
    "#clip_path = \"./mixed_bird/Mixed_Bird/Sporophila-lineola-408800.wav\"\n",
    "#manual_df = pd.read_csv(\"./mixed_bird/mixed_bird_manual.csv\")"
   ]
  },
  {
   "cell_type": "code",
   "execution_count": null,
   "metadata": {},
   "outputs": [],
   "source": [
    "# Example parameters for TweetyNET\n",
    "isolation_parameters = [\n",
    "    {\n",
    "    \"model\" : \"tweetynet\",\n",
    "    \"tweety_output\": False,\n",
    "    \"technique\" : \"simple\",\n",
    "    \"threshold_type\" : \"median\",\n",
    "    \"threshold_const\" : 2.0,\n",
    "    \"threshold_min\" : 0.0,\n",
    "    \"window_size\" : 2.0,\n",
    "    \"chunk_size\" : 5.0\n",
    "    }, \n",
    "    {\n",
    "    \"model\" : \"tweetynet\",\n",
    "    \"tweety_output\": False,\n",
    "    \"technique\" : \"stack\",\n",
    "    \"threshold_type\" : \"median\",\n",
    "    \"threshold_const\" : 2.0,\n",
    "    \"threshold_min\" : 0.0,\n",
    "    \"window_size\" : 2.0,\n",
    "    \"chunk_size\" : 5.0\n",
    "    }, \n",
    "    {\n",
    "    \"model\" : \"tweetynet\",\n",
    "    \"tweety_output\": False,\n",
    "    \"technique\" : \"steinberg\",\n",
    "    \"threshold_type\" : \"median\",\n",
    "    \"threshold_const\" : 2.0,\n",
    "    \"threshold_min\" : 0.0,\n",
    "    \"window_size\" : 2.0,\n",
    "    \"chunk_size\" : 5.0\n",
    "    }\n",
    "]"
   ]
  },
  {
   "cell_type": "markdown",
   "metadata": {},
   "source": [
    "### Spectrogram Testing"
   ]
  },
  {
   "cell_type": "code",
   "execution_count": null,
   "metadata": {
    "scrolled": false
   },
   "outputs": [],
   "source": [
    "spectrogram_visualization(clip_path)\n",
    "for i in isolation_parameters: \n",
    "    automated_df = generate_automated_labels(path,i);\n",
    "    spectrogram_visualization(clip_path,automated_df = True, isolation_parameters = i)"
   ]
  },
  {
   "cell_type": "markdown",
   "metadata": {},
   "source": [
    "### Histogram visualization of Annotation Length"
   ]
  },
  {
   "cell_type": "code",
   "execution_count": null,
   "metadata": {
    "scrolled": false
   },
   "outputs": [],
   "source": [
    "for i in isolation_parameters: \n",
    "    automated_df = generate_automated_labels(path,i);\n",
    "    annotation_duration_histogram(automated_df, n_bins = 100, title = \"Annotation Histogram \" + i[\"technique\"])"
   ]
  },
  {
   "cell_type": "markdown",
   "metadata": {},
   "source": [
    "### Statistic compairsion between techinques"
   ]
  },
  {
   "cell_type": "code",
   "execution_count": null,
   "metadata": {},
   "outputs": [],
   "source": [
    "datas = []\n",
    "\n",
    "for i in isolation_parameters:\n",
    "    print(\"progression/in progress: \" + i[\"technique\"])\n",
    "    datas.append(\"=======================================================\")\n",
    "    datas.append(i[\"technique\"])\n",
    "    automated_df = generate_automated_labels(path,i);\n",
    "    \n",
    "    datas.append(\"general\")\n",
    "    clip_statistics_df = clip_statistics(automated_df,manual_df, stats_type = \"general\")\n",
    "    datas.append(global_statistics(clip_statistics_df))\n",
    "    \n",
    "    datas.append(\"\\n\")\n",
    "    datas.append(\"IoU\")\n",
    "    clip_statistics_df = clip_statistics(automated_df,manual_df, stats_type = \"IoU\", threshold=0.5)\n",
    "    datas.append(global_statistics(clip_statistics_df))\n",
    "    \n",
    "for data in datas:\n",
    "    print(data)\n",
    "    "
   ]
  },
  {
   "cell_type": "code",
   "execution_count": null,
   "metadata": {},
   "outputs": [],
   "source": []
  }
 ],
 "metadata": {
  "kernelspec": {
   "display_name": "Python 3 (ipykernel)",
   "language": "python",
   "name": "python3"
  },
  "language_info": {
   "codemirror_mode": {
    "name": "ipython",
    "version": 3
   },
   "file_extension": ".py",
   "mimetype": "text/x-python",
   "name": "python",
   "nbconvert_exporter": "python",
   "pygments_lexer": "ipython3",
   "version": "3.9.7"
  }
 },
 "nbformat": 4,
 "nbformat_minor": 4
}
