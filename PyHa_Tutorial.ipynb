{
 "cells": [
  {
   "cell_type": "code",
   "execution_count": 1,
   "metadata": {
    "scrolled": true
   },
   "outputs": [],
   "source": [
    "from PyHa.statistics import *\n",
    "from PyHa.IsoAutio import *\n",
    "from PyHa.visualizations import *\n",
    "from PyHa.annotation_post_processing import *\n",
    "import pandas as pd"
   ]
  },
  {
   "cell_type": "markdown",
   "metadata": {},
   "source": [
    "## Running Moment to Moment Labeling System on a Directory of WAV Files "
   ]
  },
  {
   "cell_type": "code",
   "execution_count": 2,
   "metadata": {},
   "outputs": [],
   "source": [
    "path = \"./mixed_bird/Mixed_Bird/\""
   ]
  },
  {
   "cell_type": "markdown",
   "metadata": {},
   "source": [
    "### Dictionary that defines the isolation technique and parameters used to generate automated labels "
   ]
  },
  {
   "cell_type": "code",
   "execution_count": 3,
   "metadata": {},
   "outputs": [],
   "source": [
    "# Example parameters for BirdNET\n",
    "#isolation_parameters = {\n",
    "#    \"model\" : \"birdnet\",\n",
    "#    \"output_path\" : \"outputs\",\n",
    "#    \"lat\" : 35.4244,\n",
    "#    \"lon\" : -120.7463,\n",
    "#    \"week\" : 18,\n",
    "#    \"min_conf\" : 0.5,\n",
    "#    \"filetype\" : \"wav\", \n",
    "#    \"num_predictions\" : 1,\n",
    "#    \"write_to_csv\" : False\n",
    "#}\n",
    "\n",
    "# Example Parameters for Microfaune\n",
    "#isolation_parameters = {\n",
    "#     \"model\" : \"microfaune\",\n",
    "#     \"technique\" : \"steinberg\",\n",
    "#     \"threshold_type\" : \"median\",\n",
    "#     \"threshold_const\" : 2.0,\n",
    "#     \"threshold_min\" : 0.0,\n",
    "#     \"window_size\" : 2.0,\n",
    "#     \"chunk_size\" : 5.0\n",
    "#}\n",
    "# Example parameters for TweetyNET\n",
    "isolation_parameters = {\n",
    "     \"model\" : \"tweetynet\",\n",
    "     \"tweety_output\": True,\n",
    "    \"technique\" : \"steinberg\",\n",
    "     \"threshold_type\" : \"median\",\n",
    "     \"threshold_const\" : 2.0,\n",
    "     \"threshold_min\" : 0.0,\n",
    "     \"window_size\" : 2.0,\n",
    "     \"chunk_size\" : 5.0\n",
    "}"
   ]
  },
  {
   "cell_type": "markdown",
   "metadata": {},
   "source": [
    "### Pandas Ouput of Automated Labeling "
   ]
  },
  {
   "cell_type": "code",
   "execution_count": null,
   "metadata": {
    "scrolled": true
   },
   "outputs": [
    {
     "name": "stdout",
     "output_type": "stream",
     "text": [
      "Error in detection, skipping Akletos-melanoceps-270814.wav\n",
      "\n"
     ]
    },
    {
     "name": "stderr",
     "output_type": "stream",
     "text": [
      "C:\\Users\\Siloux\\Desktop\\e4e\\pyha\\PyHa\\microfaune_package\\microfaune\\audio.py:23: WavFileWarning: Reached EOF prematurely; finished at 1441792 bytes, expected 9202220 bytes from header.\n",
      "  fs, data = wavfile.read(path)\n"
     ]
    }
   ],
   "source": [
    "automated_df = generate_automated_labels(path,isolation_parameters);"
   ]
  },
  {
   "cell_type": "markdown",
   "metadata": {},
   "source": [
    "### Function that gathers statistics about the duration of annotations"
   ]
  },
  {
   "cell_type": "code",
   "execution_count": null,
   "metadata": {},
   "outputs": [],
   "source": [
    "annotation_duration_statistics(automated_df)"
   ]
  },
  {
   "cell_type": "markdown",
   "metadata": {},
   "source": [
    "### Function that converts annotations into 3 second chunks"
   ]
  },
  {
   "cell_type": "code",
   "execution_count": null,
   "metadata": {},
   "outputs": [],
   "source": [
    "annotation_chunker(automated_df, 3)"
   ]
  },
  {
   "cell_type": "markdown",
   "metadata": {},
   "source": [
    "### Human Manual Labels for Comparison "
   ]
  },
  {
   "cell_type": "code",
   "execution_count": null,
   "metadata": {},
   "outputs": [],
   "source": [
    "manual_df = pd.read_csv(\"ScreamingPiha_Manual_Labels.csv\")\n",
    "#manual_df = pd.read_csv(\"BirdCLEF2020_Validation.csv\")\n",
    "manual_df"
   ]
  },
  {
   "cell_type": "code",
   "execution_count": null,
   "metadata": {},
   "outputs": [],
   "source": [
    "annotation_duration_statistics(manual_df)"
   ]
  },
  {
   "cell_type": "markdown",
   "metadata": {},
   "source": [
    "### Histogram Visualization of Annotation Lengths"
   ]
  },
  {
   "cell_type": "code",
   "execution_count": null,
   "metadata": {},
   "outputs": [],
   "source": [
    "annotation_duration_histogram(automated_df, n_bins = 100, title = \"Automated Annotation Lengths\")"
   ]
  },
  {
   "cell_type": "code",
   "execution_count": null,
   "metadata": {},
   "outputs": [],
   "source": [
    "annotation_duration_histogram(manual_df, n_bins = 100, title = \"Human Annotation Lengths\")\n",
    "# In the Screaming Piha clips we can see two distinct clusters based on the \"Whoa\" vocalizations (.25-1.25s)\n",
    "# and the \"Pee-Haw\" vocalizations (1.25-2.5s)"
   ]
  },
  {
   "cell_type": "markdown",
   "metadata": {},
   "source": [
    "### Helper function to convert to kaleidoscope-compatible format "
   ]
  },
  {
   "cell_type": "code",
   "execution_count": null,
   "metadata": {},
   "outputs": [],
   "source": [
    "kaleidoscope_conversion(manual_df)"
   ]
  },
  {
   "cell_type": "markdown",
   "metadata": {},
   "source": [
    "## Different Combinations of Local Score Visualization Graphs"
   ]
  },
  {
   "cell_type": "markdown",
   "metadata": {},
   "source": [
    "### Baseline Graph without any annotations"
   ]
  },
  {
   "cell_type": "code",
   "execution_count": null,
   "metadata": {
    "scrolled": false
   },
   "outputs": [],
   "source": [
    "clip_path = \"./TEST/ScreamingPiha2.wav\"\n",
    "spectrogram_visualization(clip_path)"
   ]
  },
  {
   "cell_type": "markdown",
   "metadata": {},
   "source": [
    "### Baseline graph with log scale"
   ]
  },
  {
   "cell_type": "code",
   "execution_count": null,
   "metadata": {},
   "outputs": [],
   "source": [
    "spectrogram_visualization(clip_path, isolation_parameters = isolation_parameters, log_scale = True)"
   ]
  },
  {
   "cell_type": "markdown",
   "metadata": {},
   "source": [
    "### Baseline graph with normalized local score values between [0,1] "
   ]
  },
  {
   "cell_type": "code",
   "execution_count": null,
   "metadata": {},
   "outputs": [],
   "source": [
    "spectrogram_visualization(clip_path, isolation_parameters = isolation_parameters, normalize_local_scores = True)"
   ]
  },
  {
   "cell_type": "markdown",
   "metadata": {},
   "source": [
    "### Graph with Automated Labeling "
   ]
  },
  {
   "cell_type": "code",
   "execution_count": null,
   "metadata": {},
   "outputs": [],
   "source": [
    "spectrogram_visualization(clip_path,automated_df = True, isolation_parameters = isolation_parameters)"
   ]
  },
  {
   "cell_type": "markdown",
   "metadata": {},
   "source": [
    "### Graph with Human Labelling"
   ]
  },
  {
   "cell_type": "code",
   "execution_count": null,
   "metadata": {},
   "outputs": [],
   "source": [
    "spectrogram_visualization(clip_path, premade_annotations_df = manual_df[manual_df[\"IN FILE\"] == \"ScreamingPiha2.wav\"],premade_annotations_label = \"Piha Human Labels\")"
   ]
  },
  {
   "cell_type": "markdown",
   "metadata": {},
   "source": [
    "### Graph with Both Automated and Human Labels \n",
    "    Orange ==> True Positive\n",
    "    Red ==> False Negative\n",
    "    Yellow ==> False Positive\n",
    "    White ==> True Negative"
   ]
  },
  {
   "cell_type": "code",
   "execution_count": null,
   "metadata": {
    "scrolled": false
   },
   "outputs": [],
   "source": [
    "spectrogram_visualization(clip_path,automated_df = True,isolation_parameters=isolation_parameters,premade_annotations_df = manual_df[manual_df[\"IN FILE\"] == \"ScreamingPiha2.wav\"])"
   ]
  },
  {
   "cell_type": "markdown",
   "metadata": {},
   "source": [
    "### Another Visualization of True Positives, False Positives, False Negatives, and True Negatives "
   ]
  },
  {
   "cell_type": "code",
   "execution_count": null,
   "metadata": {
    "scrolled": true
   },
   "outputs": [],
   "source": [
    "automated_piha_df = automated_df[automated_df[\"IN FILE\"] == \"ScreamingPiha2.wav\"]\n",
    "manual_piha_df = manual_df[manual_df[\"IN FILE\"] == \"ScreamingPiha2.wav\"]\n",
    "piha_stats = binary_visualization(automated_piha_df,manual_piha_df)"
   ]
  },
  {
   "cell_type": "markdown",
   "metadata": {},
   "source": [
    "### Function that generates statistics to gauge efficacy of automated labeling compared to human labels "
   ]
  },
  {
   "cell_type": "code",
   "execution_count": null,
   "metadata": {},
   "outputs": [],
   "source": [
    "statistics_df = automated_labeling_statistics(automated_df,manual_df,stats_type = \"general\");\n",
    "statistics_df"
   ]
  },
  {
   "cell_type": "markdown",
   "metadata": {},
   "source": [
    "### Function that takes the statistical ouput of all of the clips and gets the equivalent global scores "
   ]
  },
  {
   "cell_type": "code",
   "execution_count": null,
   "metadata": {},
   "outputs": [],
   "source": [
    "global_dataset_statistics(statistics_df)"
   ]
  },
  {
   "cell_type": "markdown",
   "metadata": {},
   "source": [
    "### Function that takes in the manual and automated labels for a clip and outputs human label-by-label IoU Scores. Used to derive statistics that measure how well a system is isolating desired segments of audio clips"
   ]
  },
  {
   "cell_type": "code",
   "execution_count": null,
   "metadata": {},
   "outputs": [],
   "source": [
    "Intersection_over_Union_Matrix = clip_IoU(automated_piha_df,manual_piha_df)\n",
    "print(Intersection_over_Union_Matrix)"
   ]
  },
  {
   "cell_type": "markdown",
   "metadata": {},
   "source": [
    "### Function that turns the IoU Matrix of a clip into true positive and false positives values, as well as computing the precision, recall, and F1 statistics"
   ]
  },
  {
   "cell_type": "code",
   "execution_count": null,
   "metadata": {},
   "outputs": [],
   "source": [
    "matrix_IoU_Scores(Intersection_over_Union_Matrix,manual_piha_df,0.5)"
   ]
  },
  {
   "cell_type": "markdown",
   "metadata": {},
   "source": [
    "### Wrapper function that takes matrix_IoU_Scores across multiple clips. Allows user to modify the threshold that determines whether or not a label is a true positive."
   ]
  },
  {
   "cell_type": "code",
   "execution_count": null,
   "metadata": {
    "scrolled": true
   },
   "outputs": [],
   "source": [
    "stats_df = automated_labeling_statistics(automated_df,manual_df,stats_type = \"IoU\",threshold = 0.5)\n",
    "stats_df"
   ]
  },
  {
   "cell_type": "markdown",
   "metadata": {},
   "source": [
    "### Function that takes the output of dataset_IoU Statistics and ouputs a global count of true positives and false positives, as well as computing common metrics across the dataset"
   ]
  },
  {
   "cell_type": "code",
   "execution_count": null,
   "metadata": {},
   "outputs": [],
   "source": [
    "global_stats_df = global_statistics(stats_df)\n",
    "global_stats_df"
   ]
  },
  {
   "cell_type": "code",
   "execution_count": null,
   "metadata": {},
   "outputs": [],
   "source": []
  }
 ],
 "metadata": {
  "kernelspec": {
   "display_name": "Python 3",
   "language": "python",
   "name": "python3"
  },
  "language_info": {
   "codemirror_mode": {
    "name": "ipython",
    "version": 3
   },
   "file_extension": ".py",
   "mimetype": "text/x-python",
   "name": "python",
   "nbconvert_exporter": "python",
   "pygments_lexer": "ipython3",
   "version": "3.7.10"
  }
 },
 "nbformat": 4,
 "nbformat_minor": 4
}
