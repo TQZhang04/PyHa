{
 "cells": [
  {
   "cell_type": "code",
   "execution_count": 1,
   "metadata": {},
   "outputs": [],
   "source": [
    "%load_ext autoreload\n",
    "%autoreload 2"
   ]
  },
  {
   "cell_type": "code",
   "execution_count": 2,
   "metadata": {
    "scrolled": true
   },
   "outputs": [],
   "source": [
    "import shutil, os\n",
    "from PyHa.statistics import *\n",
    "from PyHa.IsoAutio import *\n",
    "from PyHa.visualizations import *\n",
    "from PyHa.annotation_post_processing import *\n",
    "import pandas as pd"
   ]
  },
  {
   "cell_type": "code",
   "execution_count": 3,
   "metadata": {},
   "outputs": [],
   "source": [
    "#path = \"./025_Mixed_Bird_Train/\"\n",
    "#path = \"./Mixed_Bird/\"\n",
    "path = \"./cosmos_random_sample_processing/\""
   ]
  },
  {
   "cell_type": "code",
   "execution_count": 4,
   "metadata": {},
   "outputs": [],
   "source": [
    "#manual_df = pd.read_csv(\"cosmos_labeled_data.csv\")\n",
    "manual_df = pd.read_csv(\"cosmos_labeled_data.csv\")"
   ]
  },
  {
   "cell_type": "code",
   "execution_count": 21,
   "metadata": {},
   "outputs": [],
   "source": [
    "# need to find the files that are skipped over in tweetynet\n",
    "def annotations_skipped(df_1, df_2):\n",
    "    new_df = pd.DataFrame()\n",
    "    if df_1[\"MANUAL ID\"] & ~df_2.isin([\"MANUAL ID\"]):\n",
    "        new_df = df_1[\"MANUAL ID\"]\n",
    "        \n",
    "    return new_df"
   ]
  },
  {
   "cell_type": "code",
   "execution_count": 22,
   "metadata": {},
   "outputs": [],
   "source": [
    "def rename_with_only_species_name(df):\n",
    "    name = df[\"MANUAL ID\"].split(\" \")\n",
    "    species_name = name[0] + \" \" + name[1]\n",
    "    df[\"MANUAL ID\"] = species_name\n",
    "    return df"
   ]
  },
  {
   "cell_type": "markdown",
   "metadata": {},
   "source": [
    "### Dictionary that defines the isolation technique and parameters used to generate automated labels "
   ]
  },
  {
   "cell_type": "code",
   "execution_count": 23,
   "metadata": {},
   "outputs": [],
   "source": [
    "# Example parameters for BirdNET\n",
    "isolation_parameters_birdnet = {\n",
    "   \"model\" : \"birdnet\",\n",
    "   \"output_path\" : \"outputs\",\n",
    "   \"min_conf\" : 0.5,\n",
    "   \"filetype\" : \"mp3\", \n",
    "   \"num_predictions\" : 1,\n",
    "   \"write_to_csv\" : True\n",
    "}\n",
    "\n",
    "# Example Parameters for Microfaune\n",
    "# isolation_parameters = {\n",
    "#      \"model\" : \"microfaune\",\n",
    "#      \"technique\" : \"steinberg\",\n",
    "#      \"threshold_type\" : \"median\",\n",
    "#      \"threshold_const\" : 2.0,\n",
    "#      \"threshold_min\" : 0.0,\n",
    "#      \"window_size\" : 2.0,\n",
    "#      \"chunk_size\" : 5.0\n",
    "# }\n",
    "\n",
    "# Example parameters for TweetyNET\n",
    "isolation_parameters_tweety = {\n",
    "    \"model\" : \"tweetynet\",\n",
    "    \"tweety_output\": True,\n",
    "   \"technique\" : \"steinberg\",\n",
    "    \"threshold_type\" : \"median\",\n",
    "    \"threshold_const\" : 2.0,\n",
    "    \"threshold_min\" : 0.0,\n",
    "    \"window_size\" : 2.0,\n",
    "    \"chunk_size\" : 5.0\n",
    "}"
   ]
  },
  {
   "cell_type": "markdown",
   "metadata": {},
   "source": [
    "# TweetyNet to BirdNET Pipeline"
   ]
  },
  {
   "cell_type": "code",
   "execution_count": 25,
   "metadata": {
    "scrolled": true
   },
   "outputs": [
    {
     "name": "stderr",
     "output_type": "stream",
     "text": [
      "/anaconda3/lib/python3.7/site-packages/librosa/util/decorators.py:88: UserWarning: PySoundFile failed. Trying audioread instead.\n",
      "  return f(*args, **kwargs)\n",
      "/anaconda3/lib/python3.7/site-packages/librosa/util/decorators.py:88: UserWarning: PySoundFile failed. Trying audioread instead.\n",
      "  return f(*args, **kwargs)\n",
      "/anaconda3/lib/python3.7/site-packages/librosa/util/decorators.py:88: UserWarning: PySoundFile failed. Trying audioread instead.\n",
      "  return f(*args, **kwargs)\n",
      "/anaconda3/lib/python3.7/site-packages/librosa/util/decorators.py:88: UserWarning: PySoundFile failed. Trying audioread instead.\n",
      "  return f(*args, **kwargs)\n",
      "/anaconda3/lib/python3.7/site-packages/librosa/util/decorators.py:88: UserWarning: PySoundFile failed. Trying audioread instead.\n",
      "  return f(*args, **kwargs)\n",
      "/anaconda3/lib/python3.7/site-packages/librosa/util/decorators.py:88: UserWarning: PySoundFile failed. Trying audioread instead.\n",
      "  return f(*args, **kwargs)\n",
      "/anaconda3/lib/python3.7/site-packages/librosa/util/decorators.py:88: UserWarning: PySoundFile failed. Trying audioread instead.\n",
      "  return f(*args, **kwargs)\n",
      "/anaconda3/lib/python3.7/site-packages/librosa/util/decorators.py:88: UserWarning: PySoundFile failed. Trying audioread instead.\n",
      "  return f(*args, **kwargs)\n",
      "/anaconda3/lib/python3.7/site-packages/librosa/util/decorators.py:88: UserWarning: PySoundFile failed. Trying audioread instead.\n",
      "  return f(*args, **kwargs)\n",
      "/anaconda3/lib/python3.7/site-packages/librosa/util/decorators.py:88: UserWarning: PySoundFile failed. Trying audioread instead.\n",
      "  return f(*args, **kwargs)\n",
      "/anaconda3/lib/python3.7/site-packages/librosa/util/decorators.py:88: UserWarning: PySoundFile failed. Trying audioread instead.\n",
      "  return f(*args, **kwargs)\n",
      "/anaconda3/lib/python3.7/site-packages/librosa/util/decorators.py:88: UserWarning: PySoundFile failed. Trying audioread instead.\n",
      "  return f(*args, **kwargs)\n",
      "/anaconda3/lib/python3.7/site-packages/librosa/util/decorators.py:88: UserWarning: PySoundFile failed. Trying audioread instead.\n",
      "  return f(*args, **kwargs)\n",
      "/anaconda3/lib/python3.7/site-packages/librosa/util/decorators.py:88: UserWarning: PySoundFile failed. Trying audioread instead.\n",
      "  return f(*args, **kwargs)\n",
      "/anaconda3/lib/python3.7/site-packages/librosa/util/decorators.py:88: UserWarning: PySoundFile failed. Trying audioread instead.\n",
      "  return f(*args, **kwargs)\n",
      "/anaconda3/lib/python3.7/site-packages/librosa/util/decorators.py:88: UserWarning: PySoundFile failed. Trying audioread instead.\n",
      "  return f(*args, **kwargs)\n",
      "/anaconda3/lib/python3.7/site-packages/librosa/util/decorators.py:88: UserWarning: PySoundFile failed. Trying audioread instead.\n",
      "  return f(*args, **kwargs)\n",
      "/anaconda3/lib/python3.7/site-packages/librosa/util/decorators.py:88: UserWarning: PySoundFile failed. Trying audioread instead.\n",
      "  return f(*args, **kwargs)\n",
      "/anaconda3/lib/python3.7/site-packages/librosa/util/decorators.py:88: UserWarning: PySoundFile failed. Trying audioread instead.\n",
      "  return f(*args, **kwargs)\n",
      "/anaconda3/lib/python3.7/site-packages/librosa/util/decorators.py:88: UserWarning: PySoundFile failed. Trying audioread instead.\n",
      "  return f(*args, **kwargs)\n",
      "/anaconda3/lib/python3.7/site-packages/librosa/util/decorators.py:88: UserWarning: PySoundFile failed. Trying audioread instead.\n",
      "  return f(*args, **kwargs)\n",
      "/anaconda3/lib/python3.7/site-packages/librosa/util/decorators.py:88: UserWarning: PySoundFile failed. Trying audioread instead.\n",
      "  return f(*args, **kwargs)\n",
      "/anaconda3/lib/python3.7/site-packages/librosa/util/decorators.py:88: UserWarning: PySoundFile failed. Trying audioread instead.\n",
      "  return f(*args, **kwargs)\n",
      "/anaconda3/lib/python3.7/site-packages/librosa/util/decorators.py:88: UserWarning: PySoundFile failed. Trying audioread instead.\n",
      "  return f(*args, **kwargs)\n",
      "/anaconda3/lib/python3.7/site-packages/librosa/util/decorators.py:88: UserWarning: PySoundFile failed. Trying audioread instead.\n",
      "  return f(*args, **kwargs)\n",
      "/anaconda3/lib/python3.7/site-packages/librosa/util/decorators.py:88: UserWarning: PySoundFile failed. Trying audioread instead.\n",
      "  return f(*args, **kwargs)\n",
      "/anaconda3/lib/python3.7/site-packages/librosa/util/decorators.py:88: UserWarning: PySoundFile failed. Trying audioread instead.\n",
      "  return f(*args, **kwargs)\n",
      "/anaconda3/lib/python3.7/site-packages/librosa/util/decorators.py:88: UserWarning: PySoundFile failed. Trying audioread instead.\n",
      "  return f(*args, **kwargs)\n",
      "/anaconda3/lib/python3.7/site-packages/librosa/util/decorators.py:88: UserWarning: PySoundFile failed. Trying audioread instead.\n",
      "  return f(*args, **kwargs)\n",
      "/anaconda3/lib/python3.7/site-packages/librosa/util/decorators.py:88: UserWarning: PySoundFile failed. Trying audioread instead.\n",
      "  return f(*args, **kwargs)\n",
      "/anaconda3/lib/python3.7/site-packages/librosa/util/decorators.py:88: UserWarning: PySoundFile failed. Trying audioread instead.\n",
      "  return f(*args, **kwargs)\n",
      "/anaconda3/lib/python3.7/site-packages/librosa/util/decorators.py:88: UserWarning: PySoundFile failed. Trying audioread instead.\n",
      "  return f(*args, **kwargs)\n",
      "/anaconda3/lib/python3.7/site-packages/librosa/util/decorators.py:88: UserWarning: PySoundFile failed. Trying audioread instead.\n",
      "  return f(*args, **kwargs)\n",
      "/anaconda3/lib/python3.7/site-packages/librosa/util/decorators.py:88: UserWarning: PySoundFile failed. Trying audioread instead.\n",
      "  return f(*args, **kwargs)\n",
      "/anaconda3/lib/python3.7/site-packages/librosa/util/decorators.py:88: UserWarning: PySoundFile failed. Trying audioread instead.\n",
      "  return f(*args, **kwargs)\n",
      "/anaconda3/lib/python3.7/site-packages/librosa/util/decorators.py:88: UserWarning: PySoundFile failed. Trying audioread instead.\n",
      "  return f(*args, **kwargs)\n",
      "/anaconda3/lib/python3.7/site-packages/librosa/util/decorators.py:88: UserWarning: PySoundFile failed. Trying audioread instead.\n",
      "  return f(*args, **kwargs)\n",
      "/anaconda3/lib/python3.7/site-packages/librosa/util/decorators.py:88: UserWarning: PySoundFile failed. Trying audioread instead.\n",
      "  return f(*args, **kwargs)\n",
      "/anaconda3/lib/python3.7/site-packages/librosa/util/decorators.py:88: UserWarning: PySoundFile failed. Trying audioread instead.\n",
      "  return f(*args, **kwargs)\n",
      "/anaconda3/lib/python3.7/site-packages/librosa/util/decorators.py:88: UserWarning: PySoundFile failed. Trying audioread instead.\n",
      "  return f(*args, **kwargs)\n",
      "/anaconda3/lib/python3.7/site-packages/librosa/util/decorators.py:88: UserWarning: PySoundFile failed. Trying audioread instead.\n",
      "  return f(*args, **kwargs)\n",
      "/anaconda3/lib/python3.7/site-packages/librosa/util/decorators.py:88: UserWarning: PySoundFile failed. Trying audioread instead.\n",
      "  return f(*args, **kwargs)\n",
      "/anaconda3/lib/python3.7/site-packages/librosa/util/decorators.py:88: UserWarning: PySoundFile failed. Trying audioread instead.\n",
      "  return f(*args, **kwargs)\n",
      "/anaconda3/lib/python3.7/site-packages/librosa/util/decorators.py:88: UserWarning: PySoundFile failed. Trying audioread instead.\n",
      "  return f(*args, **kwargs)\n",
      "/anaconda3/lib/python3.7/site-packages/librosa/util/decorators.py:88: UserWarning: PySoundFile failed. Trying audioread instead.\n",
      "  return f(*args, **kwargs)\n",
      "/anaconda3/lib/python3.7/site-packages/librosa/util/decorators.py:88: UserWarning: PySoundFile failed. Trying audioread instead.\n",
      "  return f(*args, **kwargs)\n",
      "/anaconda3/lib/python3.7/site-packages/librosa/util/decorators.py:88: UserWarning: PySoundFile failed. Trying audioread instead.\n",
      "  return f(*args, **kwargs)\n",
      "/anaconda3/lib/python3.7/site-packages/librosa/util/decorators.py:88: UserWarning: PySoundFile failed. Trying audioread instead.\n",
      "  return f(*args, **kwargs)\n",
      "/anaconda3/lib/python3.7/site-packages/librosa/util/decorators.py:88: UserWarning: PySoundFile failed. Trying audioread instead.\n",
      "  return f(*args, **kwargs)\n",
      "/anaconda3/lib/python3.7/site-packages/librosa/util/decorators.py:88: UserWarning: PySoundFile failed. Trying audioread instead.\n",
      "  return f(*args, **kwargs)\n",
      "/anaconda3/lib/python3.7/site-packages/librosa/util/decorators.py:88: UserWarning: PySoundFile failed. Trying audioread instead.\n",
      "  return f(*args, **kwargs)\n",
      "/anaconda3/lib/python3.7/site-packages/librosa/util/decorators.py:88: UserWarning: PySoundFile failed. Trying audioread instead.\n",
      "  return f(*args, **kwargs)\n",
      "/anaconda3/lib/python3.7/site-packages/librosa/util/decorators.py:88: UserWarning: PySoundFile failed. Trying audioread instead.\n",
      "  return f(*args, **kwargs)\n"
     ]
    },
    {
     "name": "stderr",
     "output_type": "stream",
     "text": [
      "/anaconda3/lib/python3.7/site-packages/librosa/util/decorators.py:88: UserWarning: PySoundFile failed. Trying audioread instead.\n",
      "  return f(*args, **kwargs)\n",
      "/anaconda3/lib/python3.7/site-packages/librosa/util/decorators.py:88: UserWarning: PySoundFile failed. Trying audioread instead.\n",
      "  return f(*args, **kwargs)\n",
      "/anaconda3/lib/python3.7/site-packages/librosa/util/decorators.py:88: UserWarning: PySoundFile failed. Trying audioread instead.\n",
      "  return f(*args, **kwargs)\n",
      "/anaconda3/lib/python3.7/site-packages/librosa/util/decorators.py:88: UserWarning: PySoundFile failed. Trying audioread instead.\n",
      "  return f(*args, **kwargs)\n",
      "/anaconda3/lib/python3.7/site-packages/librosa/util/decorators.py:88: UserWarning: PySoundFile failed. Trying audioread instead.\n",
      "  return f(*args, **kwargs)\n",
      "/anaconda3/lib/python3.7/site-packages/librosa/util/decorators.py:88: UserWarning: PySoundFile failed. Trying audioread instead.\n",
      "  return f(*args, **kwargs)\n",
      "/anaconda3/lib/python3.7/site-packages/librosa/util/decorators.py:88: UserWarning: PySoundFile failed. Trying audioread instead.\n",
      "  return f(*args, **kwargs)\n",
      "/anaconda3/lib/python3.7/site-packages/librosa/util/decorators.py:88: UserWarning: PySoundFile failed. Trying audioread instead.\n",
      "  return f(*args, **kwargs)\n",
      "/anaconda3/lib/python3.7/site-packages/librosa/util/decorators.py:88: UserWarning: PySoundFile failed. Trying audioread instead.\n",
      "  return f(*args, **kwargs)\n",
      "/anaconda3/lib/python3.7/site-packages/librosa/util/decorators.py:88: UserWarning: PySoundFile failed. Trying audioread instead.\n",
      "  return f(*args, **kwargs)\n",
      "/anaconda3/lib/python3.7/site-packages/librosa/util/decorators.py:88: UserWarning: PySoundFile failed. Trying audioread instead.\n",
      "  return f(*args, **kwargs)\n",
      "/anaconda3/lib/python3.7/site-packages/librosa/util/decorators.py:88: UserWarning: PySoundFile failed. Trying audioread instead.\n",
      "  return f(*args, **kwargs)\n",
      "/anaconda3/lib/python3.7/site-packages/librosa/util/decorators.py:88: UserWarning: PySoundFile failed. Trying audioread instead.\n",
      "  return f(*args, **kwargs)\n",
      "/anaconda3/lib/python3.7/site-packages/librosa/util/decorators.py:88: UserWarning: PySoundFile failed. Trying audioread instead.\n",
      "  return f(*args, **kwargs)\n",
      "/anaconda3/lib/python3.7/site-packages/librosa/util/decorators.py:88: UserWarning: PySoundFile failed. Trying audioread instead.\n",
      "  return f(*args, **kwargs)\n",
      "/anaconda3/lib/python3.7/site-packages/librosa/util/decorators.py:88: UserWarning: PySoundFile failed. Trying audioread instead.\n",
      "  return f(*args, **kwargs)\n",
      "/anaconda3/lib/python3.7/site-packages/librosa/util/decorators.py:88: UserWarning: PySoundFile failed. Trying audioread instead.\n",
      "  return f(*args, **kwargs)\n",
      "/anaconda3/lib/python3.7/site-packages/librosa/util/decorators.py:88: UserWarning: PySoundFile failed. Trying audioread instead.\n",
      "  return f(*args, **kwargs)\n",
      "/anaconda3/lib/python3.7/site-packages/librosa/util/decorators.py:88: UserWarning: PySoundFile failed. Trying audioread instead.\n",
      "  return f(*args, **kwargs)\n",
      "/anaconda3/lib/python3.7/site-packages/librosa/util/decorators.py:88: UserWarning: PySoundFile failed. Trying audioread instead.\n",
      "  return f(*args, **kwargs)\n",
      "/anaconda3/lib/python3.7/site-packages/librosa/util/decorators.py:88: UserWarning: PySoundFile failed. Trying audioread instead.\n",
      "  return f(*args, **kwargs)\n",
      "/anaconda3/lib/python3.7/site-packages/librosa/util/decorators.py:88: UserWarning: PySoundFile failed. Trying audioread instead.\n",
      "  return f(*args, **kwargs)\n"
     ]
    },
    {
     "name": "stdout",
     "output_type": "stream",
     "text": [
      "Error in isolating bird calls from XC73329 - Scaly-breasted Woodpecker - Celeus grammicus.mp3\n",
      "max() arg is an empty sequence\n"
     ]
    },
    {
     "name": "stderr",
     "output_type": "stream",
     "text": [
      "/anaconda3/lib/python3.7/site-packages/librosa/util/decorators.py:88: UserWarning: PySoundFile failed. Trying audioread instead.\n",
      "  return f(*args, **kwargs)\n",
      "/anaconda3/lib/python3.7/site-packages/librosa/util/decorators.py:88: UserWarning: PySoundFile failed. Trying audioread instead.\n",
      "  return f(*args, **kwargs)\n",
      "/anaconda3/lib/python3.7/site-packages/librosa/util/decorators.py:88: UserWarning: PySoundFile failed. Trying audioread instead.\n",
      "  return f(*args, **kwargs)\n",
      "/anaconda3/lib/python3.7/site-packages/librosa/util/decorators.py:88: UserWarning: PySoundFile failed. Trying audioread instead.\n",
      "  return f(*args, **kwargs)\n",
      "/anaconda3/lib/python3.7/site-packages/librosa/util/decorators.py:88: UserWarning: PySoundFile failed. Trying audioread instead.\n",
      "  return f(*args, **kwargs)\n",
      "/anaconda3/lib/python3.7/site-packages/librosa/util/decorators.py:88: UserWarning: PySoundFile failed. Trying audioread instead.\n",
      "  return f(*args, **kwargs)\n",
      "/anaconda3/lib/python3.7/site-packages/librosa/util/decorators.py:88: UserWarning: PySoundFile failed. Trying audioread instead.\n",
      "  return f(*args, **kwargs)\n",
      "/anaconda3/lib/python3.7/site-packages/librosa/util/decorators.py:88: UserWarning: PySoundFile failed. Trying audioread instead.\n",
      "  return f(*args, **kwargs)\n",
      "/anaconda3/lib/python3.7/site-packages/librosa/util/decorators.py:88: UserWarning: PySoundFile failed. Trying audioread instead.\n",
      "  return f(*args, **kwargs)\n",
      "/anaconda3/lib/python3.7/site-packages/librosa/util/decorators.py:88: UserWarning: PySoundFile failed. Trying audioread instead.\n",
      "  return f(*args, **kwargs)\n",
      "/anaconda3/lib/python3.7/site-packages/librosa/util/decorators.py:88: UserWarning: PySoundFile failed. Trying audioread instead.\n",
      "  return f(*args, **kwargs)\n",
      "/anaconda3/lib/python3.7/site-packages/librosa/util/decorators.py:88: UserWarning: PySoundFile failed. Trying audioread instead.\n",
      "  return f(*args, **kwargs)\n",
      "/anaconda3/lib/python3.7/site-packages/librosa/util/decorators.py:88: UserWarning: PySoundFile failed. Trying audioread instead.\n",
      "  return f(*args, **kwargs)\n",
      "/anaconda3/lib/python3.7/site-packages/librosa/util/decorators.py:88: UserWarning: PySoundFile failed. Trying audioread instead.\n",
      "  return f(*args, **kwargs)\n",
      "/anaconda3/lib/python3.7/site-packages/librosa/util/decorators.py:88: UserWarning: PySoundFile failed. Trying audioread instead.\n",
      "  return f(*args, **kwargs)\n",
      "/anaconda3/lib/python3.7/site-packages/librosa/util/decorators.py:88: UserWarning: PySoundFile failed. Trying audioread instead.\n",
      "  return f(*args, **kwargs)\n",
      "/anaconda3/lib/python3.7/site-packages/librosa/util/decorators.py:88: UserWarning: PySoundFile failed. Trying audioread instead.\n",
      "  return f(*args, **kwargs)\n",
      "/anaconda3/lib/python3.7/site-packages/librosa/util/decorators.py:88: UserWarning: PySoundFile failed. Trying audioread instead.\n",
      "  return f(*args, **kwargs)\n",
      "/anaconda3/lib/python3.7/site-packages/librosa/util/decorators.py:88: UserWarning: PySoundFile failed. Trying audioread instead.\n",
      "  return f(*args, **kwargs)\n",
      "/anaconda3/lib/python3.7/site-packages/librosa/util/decorators.py:88: UserWarning: PySoundFile failed. Trying audioread instead.\n",
      "  return f(*args, **kwargs)\n",
      "/anaconda3/lib/python3.7/site-packages/librosa/util/decorators.py:88: UserWarning: PySoundFile failed. Trying audioread instead.\n",
      "  return f(*args, **kwargs)\n",
      "/anaconda3/lib/python3.7/site-packages/librosa/util/decorators.py:88: UserWarning: PySoundFile failed. Trying audioread instead.\n",
      "  return f(*args, **kwargs)\n",
      "/anaconda3/lib/python3.7/site-packages/librosa/util/decorators.py:88: UserWarning: PySoundFile failed. Trying audioread instead.\n",
      "  return f(*args, **kwargs)\n",
      "/anaconda3/lib/python3.7/site-packages/librosa/util/decorators.py:88: UserWarning: PySoundFile failed. Trying audioread instead.\n",
      "  return f(*args, **kwargs)\n",
      "/anaconda3/lib/python3.7/site-packages/librosa/util/decorators.py:88: UserWarning: PySoundFile failed. Trying audioread instead.\n",
      "  return f(*args, **kwargs)\n",
      "/anaconda3/lib/python3.7/site-packages/librosa/util/decorators.py:88: UserWarning: PySoundFile failed. Trying audioread instead.\n",
      "  return f(*args, **kwargs)\n",
      "/anaconda3/lib/python3.7/site-packages/librosa/util/decorators.py:88: UserWarning: PySoundFile failed. Trying audioread instead.\n",
      "  return f(*args, **kwargs)\n",
      "/anaconda3/lib/python3.7/site-packages/librosa/util/decorators.py:88: UserWarning: PySoundFile failed. Trying audioread instead.\n",
      "  return f(*args, **kwargs)\n",
      "/anaconda3/lib/python3.7/site-packages/librosa/util/decorators.py:88: UserWarning: PySoundFile failed. Trying audioread instead.\n",
      "  return f(*args, **kwargs)\n",
      "/anaconda3/lib/python3.7/site-packages/librosa/util/decorators.py:88: UserWarning: PySoundFile failed. Trying audioread instead.\n",
      "  return f(*args, **kwargs)\n",
      "/anaconda3/lib/python3.7/site-packages/librosa/util/decorators.py:88: UserWarning: PySoundFile failed. Trying audioread instead.\n",
      "  return f(*args, **kwargs)\n",
      "/anaconda3/lib/python3.7/site-packages/librosa/util/decorators.py:88: UserWarning: PySoundFile failed. Trying audioread instead.\n",
      "  return f(*args, **kwargs)\n",
      "/anaconda3/lib/python3.7/site-packages/librosa/util/decorators.py:88: UserWarning: PySoundFile failed. Trying audioread instead.\n",
      "  return f(*args, **kwargs)\n",
      "/anaconda3/lib/python3.7/site-packages/librosa/util/decorators.py:88: UserWarning: PySoundFile failed. Trying audioread instead.\n",
      "  return f(*args, **kwargs)\n",
      "/anaconda3/lib/python3.7/site-packages/librosa/util/decorators.py:88: UserWarning: PySoundFile failed. Trying audioread instead.\n",
      "  return f(*args, **kwargs)\n",
      "/anaconda3/lib/python3.7/site-packages/librosa/util/decorators.py:88: UserWarning: PySoundFile failed. Trying audioread instead.\n",
      "  return f(*args, **kwargs)\n",
      "/anaconda3/lib/python3.7/site-packages/librosa/util/decorators.py:88: UserWarning: PySoundFile failed. Trying audioread instead.\n",
      "  return f(*args, **kwargs)\n",
      "/anaconda3/lib/python3.7/site-packages/librosa/util/decorators.py:88: UserWarning: PySoundFile failed. Trying audioread instead.\n",
      "  return f(*args, **kwargs)\n",
      "/anaconda3/lib/python3.7/site-packages/librosa/util/decorators.py:88: UserWarning: PySoundFile failed. Trying audioread instead.\n",
      "  return f(*args, **kwargs)\n",
      "/anaconda3/lib/python3.7/site-packages/librosa/util/decorators.py:88: UserWarning: PySoundFile failed. Trying audioread instead.\n",
      "  return f(*args, **kwargs)\n",
      "/anaconda3/lib/python3.7/site-packages/librosa/util/decorators.py:88: UserWarning: PySoundFile failed. Trying audioread instead.\n",
      "  return f(*args, **kwargs)\n",
      "/anaconda3/lib/python3.7/site-packages/librosa/util/decorators.py:88: UserWarning: PySoundFile failed. Trying audioread instead.\n",
      "  return f(*args, **kwargs)\n",
      "/anaconda3/lib/python3.7/site-packages/librosa/util/decorators.py:88: UserWarning: PySoundFile failed. Trying audioread instead.\n",
      "  return f(*args, **kwargs)\n",
      "/anaconda3/lib/python3.7/site-packages/librosa/util/decorators.py:88: UserWarning: PySoundFile failed. Trying audioread instead.\n",
      "  return f(*args, **kwargs)\n",
      "/anaconda3/lib/python3.7/site-packages/librosa/util/decorators.py:88: UserWarning: PySoundFile failed. Trying audioread instead.\n",
      "  return f(*args, **kwargs)\n",
      "/anaconda3/lib/python3.7/site-packages/librosa/util/decorators.py:88: UserWarning: PySoundFile failed. Trying audioread instead.\n",
      "  return f(*args, **kwargs)\n",
      "/anaconda3/lib/python3.7/site-packages/librosa/util/decorators.py:88: UserWarning: PySoundFile failed. Trying audioread instead.\n",
      "  return f(*args, **kwargs)\n",
      "/anaconda3/lib/python3.7/site-packages/librosa/util/decorators.py:88: UserWarning: PySoundFile failed. Trying audioread instead.\n",
      "  return f(*args, **kwargs)\n",
      "/anaconda3/lib/python3.7/site-packages/librosa/util/decorators.py:88: UserWarning: PySoundFile failed. Trying audioread instead.\n",
      "  return f(*args, **kwargs)\n",
      "/anaconda3/lib/python3.7/site-packages/librosa/util/decorators.py:88: UserWarning: PySoundFile failed. Trying audioread instead.\n",
      "  return f(*args, **kwargs)\n",
      "/anaconda3/lib/python3.7/site-packages/librosa/util/decorators.py:88: UserWarning: PySoundFile failed. Trying audioread instead.\n",
      "  return f(*args, **kwargs)\n",
      "/anaconda3/lib/python3.7/site-packages/librosa/util/decorators.py:88: UserWarning: PySoundFile failed. Trying audioread instead.\n",
      "  return f(*args, **kwargs)\n",
      "/anaconda3/lib/python3.7/site-packages/librosa/util/decorators.py:88: UserWarning: PySoundFile failed. Trying audioread instead.\n",
      "  return f(*args, **kwargs)\n"
     ]
    },
    {
     "name": "stderr",
     "output_type": "stream",
     "text": [
      "/anaconda3/lib/python3.7/site-packages/librosa/util/decorators.py:88: UserWarning: PySoundFile failed. Trying audioread instead.\n",
      "  return f(*args, **kwargs)\n",
      "/anaconda3/lib/python3.7/site-packages/librosa/util/decorators.py:88: UserWarning: PySoundFile failed. Trying audioread instead.\n",
      "  return f(*args, **kwargs)\n",
      "/anaconda3/lib/python3.7/site-packages/librosa/util/decorators.py:88: UserWarning: PySoundFile failed. Trying audioread instead.\n",
      "  return f(*args, **kwargs)\n",
      "/anaconda3/lib/python3.7/site-packages/librosa/util/decorators.py:88: UserWarning: PySoundFile failed. Trying audioread instead.\n",
      "  return f(*args, **kwargs)\n",
      "/anaconda3/lib/python3.7/site-packages/librosa/util/decorators.py:88: UserWarning: PySoundFile failed. Trying audioread instead.\n",
      "  return f(*args, **kwargs)\n",
      "/anaconda3/lib/python3.7/site-packages/librosa/util/decorators.py:88: UserWarning: PySoundFile failed. Trying audioread instead.\n",
      "  return f(*args, **kwargs)\n",
      "/anaconda3/lib/python3.7/site-packages/librosa/util/decorators.py:88: UserWarning: PySoundFile failed. Trying audioread instead.\n",
      "  return f(*args, **kwargs)\n",
      "/anaconda3/lib/python3.7/site-packages/librosa/util/decorators.py:88: UserWarning: PySoundFile failed. Trying audioread instead.\n",
      "  return f(*args, **kwargs)\n",
      "/anaconda3/lib/python3.7/site-packages/librosa/util/decorators.py:88: UserWarning: PySoundFile failed. Trying audioread instead.\n",
      "  return f(*args, **kwargs)\n",
      "/anaconda3/lib/python3.7/site-packages/librosa/util/decorators.py:88: UserWarning: PySoundFile failed. Trying audioread instead.\n",
      "  return f(*args, **kwargs)\n",
      "/anaconda3/lib/python3.7/site-packages/librosa/util/decorators.py:88: UserWarning: PySoundFile failed. Trying audioread instead.\n",
      "  return f(*args, **kwargs)\n",
      "/anaconda3/lib/python3.7/site-packages/librosa/util/decorators.py:88: UserWarning: PySoundFile failed. Trying audioread instead.\n",
      "  return f(*args, **kwargs)\n",
      "/anaconda3/lib/python3.7/site-packages/librosa/util/decorators.py:88: UserWarning: PySoundFile failed. Trying audioread instead.\n",
      "  return f(*args, **kwargs)\n",
      "/anaconda3/lib/python3.7/site-packages/librosa/util/decorators.py:88: UserWarning: PySoundFile failed. Trying audioread instead.\n",
      "  return f(*args, **kwargs)\n",
      "/anaconda3/lib/python3.7/site-packages/librosa/util/decorators.py:88: UserWarning: PySoundFile failed. Trying audioread instead.\n",
      "  return f(*args, **kwargs)\n",
      "/anaconda3/lib/python3.7/site-packages/librosa/util/decorators.py:88: UserWarning: PySoundFile failed. Trying audioread instead.\n",
      "  return f(*args, **kwargs)\n",
      "/anaconda3/lib/python3.7/site-packages/librosa/util/decorators.py:88: UserWarning: PySoundFile failed. Trying audioread instead.\n",
      "  return f(*args, **kwargs)\n",
      "/anaconda3/lib/python3.7/site-packages/librosa/util/decorators.py:88: UserWarning: PySoundFile failed. Trying audioread instead.\n",
      "  return f(*args, **kwargs)\n",
      "/anaconda3/lib/python3.7/site-packages/librosa/util/decorators.py:88: UserWarning: PySoundFile failed. Trying audioread instead.\n",
      "  return f(*args, **kwargs)\n",
      "/anaconda3/lib/python3.7/site-packages/librosa/util/decorators.py:88: UserWarning: PySoundFile failed. Trying audioread instead.\n",
      "  return f(*args, **kwargs)\n",
      "/anaconda3/lib/python3.7/site-packages/librosa/util/decorators.py:88: UserWarning: PySoundFile failed. Trying audioread instead.\n",
      "  return f(*args, **kwargs)\n",
      "/anaconda3/lib/python3.7/site-packages/librosa/util/decorators.py:88: UserWarning: PySoundFile failed. Trying audioread instead.\n",
      "  return f(*args, **kwargs)\n",
      "/anaconda3/lib/python3.7/site-packages/librosa/util/decorators.py:88: UserWarning: PySoundFile failed. Trying audioread instead.\n",
      "  return f(*args, **kwargs)\n",
      "/anaconda3/lib/python3.7/site-packages/librosa/util/decorators.py:88: UserWarning: PySoundFile failed. Trying audioread instead.\n",
      "  return f(*args, **kwargs)\n",
      "/anaconda3/lib/python3.7/site-packages/librosa/util/decorators.py:88: UserWarning: PySoundFile failed. Trying audioread instead.\n",
      "  return f(*args, **kwargs)\n",
      "/anaconda3/lib/python3.7/site-packages/librosa/util/decorators.py:88: UserWarning: PySoundFile failed. Trying audioread instead.\n",
      "  return f(*args, **kwargs)\n",
      "/anaconda3/lib/python3.7/site-packages/librosa/util/decorators.py:88: UserWarning: PySoundFile failed. Trying audioread instead.\n",
      "  return f(*args, **kwargs)\n",
      "/anaconda3/lib/python3.7/site-packages/librosa/util/decorators.py:88: UserWarning: PySoundFile failed. Trying audioread instead.\n",
      "  return f(*args, **kwargs)\n",
      "/anaconda3/lib/python3.7/site-packages/librosa/util/decorators.py:88: UserWarning: PySoundFile failed. Trying audioread instead.\n",
      "  return f(*args, **kwargs)\n",
      "/anaconda3/lib/python3.7/site-packages/librosa/util/decorators.py:88: UserWarning: PySoundFile failed. Trying audioread instead.\n",
      "  return f(*args, **kwargs)\n",
      "/anaconda3/lib/python3.7/site-packages/librosa/util/decorators.py:88: UserWarning: PySoundFile failed. Trying audioread instead.\n",
      "  return f(*args, **kwargs)\n",
      "/anaconda3/lib/python3.7/site-packages/librosa/util/decorators.py:88: UserWarning: PySoundFile failed. Trying audioread instead.\n",
      "  return f(*args, **kwargs)\n",
      "/anaconda3/lib/python3.7/site-packages/librosa/util/decorators.py:88: UserWarning: PySoundFile failed. Trying audioread instead.\n",
      "  return f(*args, **kwargs)\n",
      "/anaconda3/lib/python3.7/site-packages/librosa/util/decorators.py:88: UserWarning: PySoundFile failed. Trying audioread instead.\n",
      "  return f(*args, **kwargs)\n",
      "/anaconda3/lib/python3.7/site-packages/librosa/util/decorators.py:88: UserWarning: PySoundFile failed. Trying audioread instead.\n",
      "  return f(*args, **kwargs)\n",
      "/anaconda3/lib/python3.7/site-packages/librosa/util/decorators.py:88: UserWarning: PySoundFile failed. Trying audioread instead.\n",
      "  return f(*args, **kwargs)\n",
      "/anaconda3/lib/python3.7/site-packages/librosa/util/decorators.py:88: UserWarning: PySoundFile failed. Trying audioread instead.\n",
      "  return f(*args, **kwargs)\n",
      "/anaconda3/lib/python3.7/site-packages/librosa/util/decorators.py:88: UserWarning: PySoundFile failed. Trying audioread instead.\n",
      "  return f(*args, **kwargs)\n",
      "/anaconda3/lib/python3.7/site-packages/librosa/util/decorators.py:88: UserWarning: PySoundFile failed. Trying audioread instead.\n",
      "  return f(*args, **kwargs)\n",
      "/anaconda3/lib/python3.7/site-packages/librosa/util/decorators.py:88: UserWarning: PySoundFile failed. Trying audioread instead.\n",
      "  return f(*args, **kwargs)\n",
      "/anaconda3/lib/python3.7/site-packages/librosa/util/decorators.py:88: UserWarning: PySoundFile failed. Trying audioread instead.\n",
      "  return f(*args, **kwargs)\n",
      "/anaconda3/lib/python3.7/site-packages/librosa/util/decorators.py:88: UserWarning: PySoundFile failed. Trying audioread instead.\n",
      "  return f(*args, **kwargs)\n",
      "/anaconda3/lib/python3.7/site-packages/librosa/util/decorators.py:88: UserWarning: PySoundFile failed. Trying audioread instead.\n",
      "  return f(*args, **kwargs)\n",
      "/anaconda3/lib/python3.7/site-packages/librosa/util/decorators.py:88: UserWarning: PySoundFile failed. Trying audioread instead.\n",
      "  return f(*args, **kwargs)\n",
      "/anaconda3/lib/python3.7/site-packages/librosa/util/decorators.py:88: UserWarning: PySoundFile failed. Trying audioread instead.\n",
      "  return f(*args, **kwargs)\n",
      "/anaconda3/lib/python3.7/site-packages/librosa/util/decorators.py:88: UserWarning: PySoundFile failed. Trying audioread instead.\n",
      "  return f(*args, **kwargs)\n",
      "/anaconda3/lib/python3.7/site-packages/librosa/util/decorators.py:88: UserWarning: PySoundFile failed. Trying audioread instead.\n",
      "  return f(*args, **kwargs)\n",
      "/anaconda3/lib/python3.7/site-packages/librosa/util/decorators.py:88: UserWarning: PySoundFile failed. Trying audioread instead.\n",
      "  return f(*args, **kwargs)\n",
      "/anaconda3/lib/python3.7/site-packages/librosa/util/decorators.py:88: UserWarning: PySoundFile failed. Trying audioread instead.\n",
      "  return f(*args, **kwargs)\n",
      "/anaconda3/lib/python3.7/site-packages/librosa/util/decorators.py:88: UserWarning: PySoundFile failed. Trying audioread instead.\n",
      "  return f(*args, **kwargs)\n",
      "/anaconda3/lib/python3.7/site-packages/librosa/util/decorators.py:88: UserWarning: PySoundFile failed. Trying audioread instead.\n",
      "  return f(*args, **kwargs)\n",
      "/anaconda3/lib/python3.7/site-packages/librosa/util/decorators.py:88: UserWarning: PySoundFile failed. Trying audioread instead.\n",
      "  return f(*args, **kwargs)\n",
      "/anaconda3/lib/python3.7/site-packages/librosa/util/decorators.py:88: UserWarning: PySoundFile failed. Trying audioread instead.\n",
      "  return f(*args, **kwargs)\n"
     ]
    },
    {
     "name": "stderr",
     "output_type": "stream",
     "text": [
      "/anaconda3/lib/python3.7/site-packages/librosa/util/decorators.py:88: UserWarning: PySoundFile failed. Trying audioread instead.\n",
      "  return f(*args, **kwargs)\n",
      "/anaconda3/lib/python3.7/site-packages/librosa/util/decorators.py:88: UserWarning: PySoundFile failed. Trying audioread instead.\n",
      "  return f(*args, **kwargs)\n",
      "/anaconda3/lib/python3.7/site-packages/librosa/util/decorators.py:88: UserWarning: PySoundFile failed. Trying audioread instead.\n",
      "  return f(*args, **kwargs)\n",
      "/anaconda3/lib/python3.7/site-packages/librosa/util/decorators.py:88: UserWarning: PySoundFile failed. Trying audioread instead.\n",
      "  return f(*args, **kwargs)\n",
      "/anaconda3/lib/python3.7/site-packages/librosa/util/decorators.py:88: UserWarning: PySoundFile failed. Trying audioread instead.\n",
      "  return f(*args, **kwargs)\n",
      "/anaconda3/lib/python3.7/site-packages/librosa/util/decorators.py:88: UserWarning: PySoundFile failed. Trying audioread instead.\n",
      "  return f(*args, **kwargs)\n",
      "/anaconda3/lib/python3.7/site-packages/librosa/util/decorators.py:88: UserWarning: PySoundFile failed. Trying audioread instead.\n",
      "  return f(*args, **kwargs)\n",
      "/anaconda3/lib/python3.7/site-packages/librosa/util/decorators.py:88: UserWarning: PySoundFile failed. Trying audioread instead.\n",
      "  return f(*args, **kwargs)\n",
      "/anaconda3/lib/python3.7/site-packages/librosa/util/decorators.py:88: UserWarning: PySoundFile failed. Trying audioread instead.\n",
      "  return f(*args, **kwargs)\n",
      "/anaconda3/lib/python3.7/site-packages/librosa/util/decorators.py:88: UserWarning: PySoundFile failed. Trying audioread instead.\n",
      "  return f(*args, **kwargs)\n",
      "/anaconda3/lib/python3.7/site-packages/librosa/util/decorators.py:88: UserWarning: PySoundFile failed. Trying audioread instead.\n",
      "  return f(*args, **kwargs)\n",
      "/anaconda3/lib/python3.7/site-packages/librosa/util/decorators.py:88: UserWarning: PySoundFile failed. Trying audioread instead.\n",
      "  return f(*args, **kwargs)\n",
      "/anaconda3/lib/python3.7/site-packages/librosa/util/decorators.py:88: UserWarning: PySoundFile failed. Trying audioread instead.\n",
      "  return f(*args, **kwargs)\n",
      "/anaconda3/lib/python3.7/site-packages/librosa/util/decorators.py:88: UserWarning: PySoundFile failed. Trying audioread instead.\n",
      "  return f(*args, **kwargs)\n",
      "/anaconda3/lib/python3.7/site-packages/librosa/util/decorators.py:88: UserWarning: PySoundFile failed. Trying audioread instead.\n",
      "  return f(*args, **kwargs)\n",
      "/anaconda3/lib/python3.7/site-packages/librosa/util/decorators.py:88: UserWarning: PySoundFile failed. Trying audioread instead.\n",
      "  return f(*args, **kwargs)\n",
      "/anaconda3/lib/python3.7/site-packages/librosa/util/decorators.py:88: UserWarning: PySoundFile failed. Trying audioread instead.\n",
      "  return f(*args, **kwargs)\n",
      "/anaconda3/lib/python3.7/site-packages/librosa/util/decorators.py:88: UserWarning: PySoundFile failed. Trying audioread instead.\n",
      "  return f(*args, **kwargs)\n",
      "/anaconda3/lib/python3.7/site-packages/librosa/util/decorators.py:88: UserWarning: PySoundFile failed. Trying audioread instead.\n",
      "  return f(*args, **kwargs)\n",
      "/anaconda3/lib/python3.7/site-packages/librosa/util/decorators.py:88: UserWarning: PySoundFile failed. Trying audioread instead.\n",
      "  return f(*args, **kwargs)\n",
      "/anaconda3/lib/python3.7/site-packages/librosa/util/decorators.py:88: UserWarning: PySoundFile failed. Trying audioread instead.\n",
      "  return f(*args, **kwargs)\n",
      "/anaconda3/lib/python3.7/site-packages/librosa/util/decorators.py:88: UserWarning: PySoundFile failed. Trying audioread instead.\n",
      "  return f(*args, **kwargs)\n"
     ]
    },
    {
     "name": "stdout",
     "output_type": "stream",
     "text": [
      "Error in detection, skipping XC74265 - Blue-grey Tanager - Thraupis episcopus.mp3\n",
      "integer division or modulo by zero\n"
     ]
    },
    {
     "name": "stderr",
     "output_type": "stream",
     "text": [
      "/anaconda3/lib/python3.7/site-packages/librosa/util/decorators.py:88: UserWarning: PySoundFile failed. Trying audioread instead.\n",
      "  return f(*args, **kwargs)\n",
      "/anaconda3/lib/python3.7/site-packages/librosa/util/decorators.py:88: UserWarning: PySoundFile failed. Trying audioread instead.\n",
      "  return f(*args, **kwargs)\n",
      "/anaconda3/lib/python3.7/site-packages/librosa/util/decorators.py:88: UserWarning: PySoundFile failed. Trying audioread instead.\n",
      "  return f(*args, **kwargs)\n",
      "/anaconda3/lib/python3.7/site-packages/librosa/util/decorators.py:88: UserWarning: PySoundFile failed. Trying audioread instead.\n",
      "  return f(*args, **kwargs)\n",
      "/anaconda3/lib/python3.7/site-packages/librosa/util/decorators.py:88: UserWarning: PySoundFile failed. Trying audioread instead.\n",
      "  return f(*args, **kwargs)\n"
     ]
    },
    {
     "name": "stdout",
     "output_type": "stream",
     "text": [
      "Error in detection, skipping XC63235 - Scaly-breasted Woodpecker - Celeus grammicus.mp3\n",
      "integer division or modulo by zero\n"
     ]
    },
    {
     "name": "stderr",
     "output_type": "stream",
     "text": [
      "/anaconda3/lib/python3.7/site-packages/librosa/util/decorators.py:88: UserWarning: PySoundFile failed. Trying audioread instead.\n",
      "  return f(*args, **kwargs)\n",
      "/anaconda3/lib/python3.7/site-packages/librosa/util/decorators.py:88: UserWarning: PySoundFile failed. Trying audioread instead.\n",
      "  return f(*args, **kwargs)\n",
      "/anaconda3/lib/python3.7/site-packages/librosa/util/decorators.py:88: UserWarning: PySoundFile failed. Trying audioread instead.\n",
      "  return f(*args, **kwargs)\n",
      "/anaconda3/lib/python3.7/site-packages/librosa/util/decorators.py:88: UserWarning: PySoundFile failed. Trying audioread instead.\n",
      "  return f(*args, **kwargs)\n",
      "/anaconda3/lib/python3.7/site-packages/librosa/util/decorators.py:88: UserWarning: PySoundFile failed. Trying audioread instead.\n",
      "  return f(*args, **kwargs)\n",
      "/anaconda3/lib/python3.7/site-packages/librosa/util/decorators.py:88: UserWarning: PySoundFile failed. Trying audioread instead.\n",
      "  return f(*args, **kwargs)\n",
      "/anaconda3/lib/python3.7/site-packages/librosa/util/decorators.py:88: UserWarning: PySoundFile failed. Trying audioread instead.\n",
      "  return f(*args, **kwargs)\n",
      "/anaconda3/lib/python3.7/site-packages/librosa/util/decorators.py:88: UserWarning: PySoundFile failed. Trying audioread instead.\n",
      "  return f(*args, **kwargs)\n",
      "/anaconda3/lib/python3.7/site-packages/librosa/util/decorators.py:88: UserWarning: PySoundFile failed. Trying audioread instead.\n",
      "  return f(*args, **kwargs)\n",
      "/anaconda3/lib/python3.7/site-packages/librosa/util/decorators.py:88: UserWarning: PySoundFile failed. Trying audioread instead.\n",
      "  return f(*args, **kwargs)\n",
      "/anaconda3/lib/python3.7/site-packages/librosa/util/decorators.py:88: UserWarning: PySoundFile failed. Trying audioread instead.\n",
      "  return f(*args, **kwargs)\n",
      "/anaconda3/lib/python3.7/site-packages/librosa/util/decorators.py:88: UserWarning: PySoundFile failed. Trying audioread instead.\n",
      "  return f(*args, **kwargs)\n",
      "/anaconda3/lib/python3.7/site-packages/librosa/util/decorators.py:88: UserWarning: PySoundFile failed. Trying audioread instead.\n",
      "  return f(*args, **kwargs)\n",
      "/anaconda3/lib/python3.7/site-packages/librosa/util/decorators.py:88: UserWarning: PySoundFile failed. Trying audioread instead.\n",
      "  return f(*args, **kwargs)\n",
      "/anaconda3/lib/python3.7/site-packages/librosa/util/decorators.py:88: UserWarning: PySoundFile failed. Trying audioread instead.\n",
      "  return f(*args, **kwargs)\n",
      "/anaconda3/lib/python3.7/site-packages/librosa/util/decorators.py:88: UserWarning: PySoundFile failed. Trying audioread instead.\n",
      "  return f(*args, **kwargs)\n",
      "/anaconda3/lib/python3.7/site-packages/librosa/util/decorators.py:88: UserWarning: PySoundFile failed. Trying audioread instead.\n",
      "  return f(*args, **kwargs)\n",
      "/anaconda3/lib/python3.7/site-packages/librosa/util/decorators.py:88: UserWarning: PySoundFile failed. Trying audioread instead.\n",
      "  return f(*args, **kwargs)\n",
      "/anaconda3/lib/python3.7/site-packages/librosa/util/decorators.py:88: UserWarning: PySoundFile failed. Trying audioread instead.\n",
      "  return f(*args, **kwargs)\n",
      "/anaconda3/lib/python3.7/site-packages/librosa/util/decorators.py:88: UserWarning: PySoundFile failed. Trying audioread instead.\n",
      "  return f(*args, **kwargs)\n",
      "/anaconda3/lib/python3.7/site-packages/librosa/util/decorators.py:88: UserWarning: PySoundFile failed. Trying audioread instead.\n",
      "  return f(*args, **kwargs)\n",
      "/anaconda3/lib/python3.7/site-packages/librosa/util/decorators.py:88: UserWarning: PySoundFile failed. Trying audioread instead.\n",
      "  return f(*args, **kwargs)\n",
      "/anaconda3/lib/python3.7/site-packages/librosa/util/decorators.py:88: UserWarning: PySoundFile failed. Trying audioread instead.\n",
      "  return f(*args, **kwargs)\n",
      "/anaconda3/lib/python3.7/site-packages/librosa/util/decorators.py:88: UserWarning: PySoundFile failed. Trying audioread instead.\n",
      "  return f(*args, **kwargs)\n",
      "/anaconda3/lib/python3.7/site-packages/librosa/util/decorators.py:88: UserWarning: PySoundFile failed. Trying audioread instead.\n",
      "  return f(*args, **kwargs)\n",
      "/anaconda3/lib/python3.7/site-packages/librosa/util/decorators.py:88: UserWarning: PySoundFile failed. Trying audioread instead.\n",
      "  return f(*args, **kwargs)\n",
      "/anaconda3/lib/python3.7/site-packages/librosa/util/decorators.py:88: UserWarning: PySoundFile failed. Trying audioread instead.\n",
      "  return f(*args, **kwargs)\n",
      "/anaconda3/lib/python3.7/site-packages/librosa/util/decorators.py:88: UserWarning: PySoundFile failed. Trying audioread instead.\n",
      "  return f(*args, **kwargs)\n",
      "/anaconda3/lib/python3.7/site-packages/librosa/util/decorators.py:88: UserWarning: PySoundFile failed. Trying audioread instead.\n",
      "  return f(*args, **kwargs)\n",
      "/anaconda3/lib/python3.7/site-packages/librosa/util/decorators.py:88: UserWarning: PySoundFile failed. Trying audioread instead.\n",
      "  return f(*args, **kwargs)\n",
      "/anaconda3/lib/python3.7/site-packages/librosa/util/decorators.py:88: UserWarning: PySoundFile failed. Trying audioread instead.\n",
      "  return f(*args, **kwargs)\n",
      "/anaconda3/lib/python3.7/site-packages/librosa/util/decorators.py:88: UserWarning: PySoundFile failed. Trying audioread instead.\n",
      "  return f(*args, **kwargs)\n",
      "/anaconda3/lib/python3.7/site-packages/librosa/util/decorators.py:88: UserWarning: PySoundFile failed. Trying audioread instead.\n",
      "  return f(*args, **kwargs)\n",
      "/anaconda3/lib/python3.7/site-packages/librosa/util/decorators.py:88: UserWarning: PySoundFile failed. Trying audioread instead.\n",
      "  return f(*args, **kwargs)\n",
      "/anaconda3/lib/python3.7/site-packages/librosa/util/decorators.py:88: UserWarning: PySoundFile failed. Trying audioread instead.\n",
      "  return f(*args, **kwargs)\n",
      "/anaconda3/lib/python3.7/site-packages/librosa/util/decorators.py:88: UserWarning: PySoundFile failed. Trying audioread instead.\n",
      "  return f(*args, **kwargs)\n",
      "/anaconda3/lib/python3.7/site-packages/librosa/util/decorators.py:88: UserWarning: PySoundFile failed. Trying audioread instead.\n",
      "  return f(*args, **kwargs)\n",
      "/anaconda3/lib/python3.7/site-packages/librosa/util/decorators.py:88: UserWarning: PySoundFile failed. Trying audioread instead.\n",
      "  return f(*args, **kwargs)\n",
      "/anaconda3/lib/python3.7/site-packages/librosa/util/decorators.py:88: UserWarning: PySoundFile failed. Trying audioread instead.\n",
      "  return f(*args, **kwargs)\n",
      "/anaconda3/lib/python3.7/site-packages/librosa/util/decorators.py:88: UserWarning: PySoundFile failed. Trying audioread instead.\n",
      "  return f(*args, **kwargs)\n",
      "/anaconda3/lib/python3.7/site-packages/librosa/util/decorators.py:88: UserWarning: PySoundFile failed. Trying audioread instead.\n",
      "  return f(*args, **kwargs)\n",
      "/anaconda3/lib/python3.7/site-packages/librosa/util/decorators.py:88: UserWarning: PySoundFile failed. Trying audioread instead.\n",
      "  return f(*args, **kwargs)\n",
      "/anaconda3/lib/python3.7/site-packages/librosa/util/decorators.py:88: UserWarning: PySoundFile failed. Trying audioread instead.\n",
      "  return f(*args, **kwargs)\n",
      "/anaconda3/lib/python3.7/site-packages/librosa/util/decorators.py:88: UserWarning: PySoundFile failed. Trying audioread instead.\n",
      "  return f(*args, **kwargs)\n",
      "/anaconda3/lib/python3.7/site-packages/librosa/util/decorators.py:88: UserWarning: PySoundFile failed. Trying audioread instead.\n",
      "  return f(*args, **kwargs)\n",
      "/anaconda3/lib/python3.7/site-packages/librosa/util/decorators.py:88: UserWarning: PySoundFile failed. Trying audioread instead.\n",
      "  return f(*args, **kwargs)\n",
      "/anaconda3/lib/python3.7/site-packages/librosa/util/decorators.py:88: UserWarning: PySoundFile failed. Trying audioread instead.\n",
      "  return f(*args, **kwargs)\n",
      "/anaconda3/lib/python3.7/site-packages/librosa/util/decorators.py:88: UserWarning: PySoundFile failed. Trying audioread instead.\n",
      "  return f(*args, **kwargs)\n",
      "/anaconda3/lib/python3.7/site-packages/librosa/util/decorators.py:88: UserWarning: PySoundFile failed. Trying audioread instead.\n",
      "  return f(*args, **kwargs)\n",
      "/anaconda3/lib/python3.7/site-packages/librosa/util/decorators.py:88: UserWarning: PySoundFile failed. Trying audioread instead.\n",
      "  return f(*args, **kwargs)\n",
      "/anaconda3/lib/python3.7/site-packages/librosa/util/decorators.py:88: UserWarning: PySoundFile failed. Trying audioread instead.\n",
      "  return f(*args, **kwargs)\n",
      "/anaconda3/lib/python3.7/site-packages/librosa/util/decorators.py:88: UserWarning: PySoundFile failed. Trying audioread instead.\n",
      "  return f(*args, **kwargs)\n",
      "/anaconda3/lib/python3.7/site-packages/librosa/util/decorators.py:88: UserWarning: PySoundFile failed. Trying audioread instead.\n",
      "  return f(*args, **kwargs)\n"
     ]
    },
    {
     "name": "stderr",
     "output_type": "stream",
     "text": [
      "/anaconda3/lib/python3.7/site-packages/librosa/util/decorators.py:88: UserWarning: PySoundFile failed. Trying audioread instead.\n",
      "  return f(*args, **kwargs)\n",
      "/anaconda3/lib/python3.7/site-packages/librosa/util/decorators.py:88: UserWarning: PySoundFile failed. Trying audioread instead.\n",
      "  return f(*args, **kwargs)\n",
      "/anaconda3/lib/python3.7/site-packages/librosa/util/decorators.py:88: UserWarning: PySoundFile failed. Trying audioread instead.\n",
      "  return f(*args, **kwargs)\n",
      "/anaconda3/lib/python3.7/site-packages/librosa/util/decorators.py:88: UserWarning: PySoundFile failed. Trying audioread instead.\n",
      "  return f(*args, **kwargs)\n",
      "/anaconda3/lib/python3.7/site-packages/librosa/util/decorators.py:88: UserWarning: PySoundFile failed. Trying audioread instead.\n",
      "  return f(*args, **kwargs)\n",
      "/anaconda3/lib/python3.7/site-packages/librosa/util/decorators.py:88: UserWarning: PySoundFile failed. Trying audioread instead.\n",
      "  return f(*args, **kwargs)\n",
      "/anaconda3/lib/python3.7/site-packages/librosa/util/decorators.py:88: UserWarning: PySoundFile failed. Trying audioread instead.\n",
      "  return f(*args, **kwargs)\n",
      "/anaconda3/lib/python3.7/site-packages/librosa/util/decorators.py:88: UserWarning: PySoundFile failed. Trying audioread instead.\n",
      "  return f(*args, **kwargs)\n",
      "/anaconda3/lib/python3.7/site-packages/librosa/util/decorators.py:88: UserWarning: PySoundFile failed. Trying audioread instead.\n",
      "  return f(*args, **kwargs)\n",
      "/anaconda3/lib/python3.7/site-packages/librosa/util/decorators.py:88: UserWarning: PySoundFile failed. Trying audioread instead.\n",
      "  return f(*args, **kwargs)\n",
      "/anaconda3/lib/python3.7/site-packages/librosa/util/decorators.py:88: UserWarning: PySoundFile failed. Trying audioread instead.\n",
      "  return f(*args, **kwargs)\n",
      "/anaconda3/lib/python3.7/site-packages/librosa/util/decorators.py:88: UserWarning: PySoundFile failed. Trying audioread instead.\n",
      "  return f(*args, **kwargs)\n",
      "/anaconda3/lib/python3.7/site-packages/librosa/util/decorators.py:88: UserWarning: PySoundFile failed. Trying audioread instead.\n",
      "  return f(*args, **kwargs)\n",
      "/anaconda3/lib/python3.7/site-packages/librosa/util/decorators.py:88: UserWarning: PySoundFile failed. Trying audioread instead.\n",
      "  return f(*args, **kwargs)\n",
      "/anaconda3/lib/python3.7/site-packages/librosa/util/decorators.py:88: UserWarning: PySoundFile failed. Trying audioread instead.\n",
      "  return f(*args, **kwargs)\n",
      "/anaconda3/lib/python3.7/site-packages/librosa/util/decorators.py:88: UserWarning: PySoundFile failed. Trying audioread instead.\n",
      "  return f(*args, **kwargs)\n",
      "/anaconda3/lib/python3.7/site-packages/librosa/util/decorators.py:88: UserWarning: PySoundFile failed. Trying audioread instead.\n",
      "  return f(*args, **kwargs)\n",
      "/anaconda3/lib/python3.7/site-packages/librosa/util/decorators.py:88: UserWarning: PySoundFile failed. Trying audioread instead.\n",
      "  return f(*args, **kwargs)\n",
      "/anaconda3/lib/python3.7/site-packages/librosa/util/decorators.py:88: UserWarning: PySoundFile failed. Trying audioread instead.\n",
      "  return f(*args, **kwargs)\n",
      "/anaconda3/lib/python3.7/site-packages/librosa/util/decorators.py:88: UserWarning: PySoundFile failed. Trying audioread instead.\n",
      "  return f(*args, **kwargs)\n",
      "/anaconda3/lib/python3.7/site-packages/librosa/util/decorators.py:88: UserWarning: PySoundFile failed. Trying audioread instead.\n",
      "  return f(*args, **kwargs)\n",
      "/anaconda3/lib/python3.7/site-packages/librosa/util/decorators.py:88: UserWarning: PySoundFile failed. Trying audioread instead.\n",
      "  return f(*args, **kwargs)\n",
      "/anaconda3/lib/python3.7/site-packages/librosa/util/decorators.py:88: UserWarning: PySoundFile failed. Trying audioread instead.\n",
      "  return f(*args, **kwargs)\n",
      "/anaconda3/lib/python3.7/site-packages/librosa/util/decorators.py:88: UserWarning: PySoundFile failed. Trying audioread instead.\n",
      "  return f(*args, **kwargs)\n",
      "/anaconda3/lib/python3.7/site-packages/librosa/util/decorators.py:88: UserWarning: PySoundFile failed. Trying audioread instead.\n",
      "  return f(*args, **kwargs)\n",
      "/anaconda3/lib/python3.7/site-packages/librosa/util/decorators.py:88: UserWarning: PySoundFile failed. Trying audioread instead.\n",
      "  return f(*args, **kwargs)\n",
      "/anaconda3/lib/python3.7/site-packages/librosa/util/decorators.py:88: UserWarning: PySoundFile failed. Trying audioread instead.\n",
      "  return f(*args, **kwargs)\n",
      "/anaconda3/lib/python3.7/site-packages/librosa/util/decorators.py:88: UserWarning: PySoundFile failed. Trying audioread instead.\n",
      "  return f(*args, **kwargs)\n",
      "/anaconda3/lib/python3.7/site-packages/librosa/util/decorators.py:88: UserWarning: PySoundFile failed. Trying audioread instead.\n",
      "  return f(*args, **kwargs)\n",
      "/anaconda3/lib/python3.7/site-packages/librosa/util/decorators.py:88: UserWarning: PySoundFile failed. Trying audioread instead.\n",
      "  return f(*args, **kwargs)\n",
      "/anaconda3/lib/python3.7/site-packages/librosa/util/decorators.py:88: UserWarning: PySoundFile failed. Trying audioread instead.\n",
      "  return f(*args, **kwargs)\n",
      "/anaconda3/lib/python3.7/site-packages/librosa/util/decorators.py:88: UserWarning: PySoundFile failed. Trying audioread instead.\n",
      "  return f(*args, **kwargs)\n",
      "/anaconda3/lib/python3.7/site-packages/librosa/util/decorators.py:88: UserWarning: PySoundFile failed. Trying audioread instead.\n",
      "  return f(*args, **kwargs)\n",
      "/anaconda3/lib/python3.7/site-packages/librosa/util/decorators.py:88: UserWarning: PySoundFile failed. Trying audioread instead.\n",
      "  return f(*args, **kwargs)\n",
      "/anaconda3/lib/python3.7/site-packages/librosa/util/decorators.py:88: UserWarning: PySoundFile failed. Trying audioread instead.\n",
      "  return f(*args, **kwargs)\n",
      "/anaconda3/lib/python3.7/site-packages/librosa/util/decorators.py:88: UserWarning: PySoundFile failed. Trying audioread instead.\n",
      "  return f(*args, **kwargs)\n",
      "/anaconda3/lib/python3.7/site-packages/librosa/util/decorators.py:88: UserWarning: PySoundFile failed. Trying audioread instead.\n",
      "  return f(*args, **kwargs)\n",
      "/anaconda3/lib/python3.7/site-packages/librosa/util/decorators.py:88: UserWarning: PySoundFile failed. Trying audioread instead.\n",
      "  return f(*args, **kwargs)\n",
      "/anaconda3/lib/python3.7/site-packages/librosa/util/decorators.py:88: UserWarning: PySoundFile failed. Trying audioread instead.\n",
      "  return f(*args, **kwargs)\n",
      "/anaconda3/lib/python3.7/site-packages/librosa/util/decorators.py:88: UserWarning: PySoundFile failed. Trying audioread instead.\n",
      "  return f(*args, **kwargs)\n",
      "/anaconda3/lib/python3.7/site-packages/librosa/util/decorators.py:88: UserWarning: PySoundFile failed. Trying audioread instead.\n",
      "  return f(*args, **kwargs)\n",
      "/anaconda3/lib/python3.7/site-packages/librosa/util/decorators.py:88: UserWarning: PySoundFile failed. Trying audioread instead.\n",
      "  return f(*args, **kwargs)\n",
      "/anaconda3/lib/python3.7/site-packages/librosa/util/decorators.py:88: UserWarning: PySoundFile failed. Trying audioread instead.\n",
      "  return f(*args, **kwargs)\n",
      "/anaconda3/lib/python3.7/site-packages/librosa/util/decorators.py:88: UserWarning: PySoundFile failed. Trying audioread instead.\n",
      "  return f(*args, **kwargs)\n",
      "/anaconda3/lib/python3.7/site-packages/librosa/util/decorators.py:88: UserWarning: PySoundFile failed. Trying audioread instead.\n",
      "  return f(*args, **kwargs)\n",
      "/anaconda3/lib/python3.7/site-packages/librosa/util/decorators.py:88: UserWarning: PySoundFile failed. Trying audioread instead.\n",
      "  return f(*args, **kwargs)\n",
      "/anaconda3/lib/python3.7/site-packages/librosa/util/decorators.py:88: UserWarning: PySoundFile failed. Trying audioread instead.\n",
      "  return f(*args, **kwargs)\n",
      "/anaconda3/lib/python3.7/site-packages/librosa/util/decorators.py:88: UserWarning: PySoundFile failed. Trying audioread instead.\n",
      "  return f(*args, **kwargs)\n",
      "/anaconda3/lib/python3.7/site-packages/librosa/util/decorators.py:88: UserWarning: PySoundFile failed. Trying audioread instead.\n",
      "  return f(*args, **kwargs)\n",
      "/anaconda3/lib/python3.7/site-packages/librosa/util/decorators.py:88: UserWarning: PySoundFile failed. Trying audioread instead.\n",
      "  return f(*args, **kwargs)\n",
      "/anaconda3/lib/python3.7/site-packages/librosa/util/decorators.py:88: UserWarning: PySoundFile failed. Trying audioread instead.\n",
      "  return f(*args, **kwargs)\n",
      "/anaconda3/lib/python3.7/site-packages/librosa/util/decorators.py:88: UserWarning: PySoundFile failed. Trying audioread instead.\n",
      "  return f(*args, **kwargs)\n",
      "/anaconda3/lib/python3.7/site-packages/librosa/util/decorators.py:88: UserWarning: PySoundFile failed. Trying audioread instead.\n",
      "  return f(*args, **kwargs)\n",
      "/anaconda3/lib/python3.7/site-packages/librosa/util/decorators.py:88: UserWarning: PySoundFile failed. Trying audioread instead.\n",
      "  return f(*args, **kwargs)\n"
     ]
    },
    {
     "name": "stderr",
     "output_type": "stream",
     "text": [
      "/anaconda3/lib/python3.7/site-packages/librosa/util/decorators.py:88: UserWarning: PySoundFile failed. Trying audioread instead.\n",
      "  return f(*args, **kwargs)\n",
      "/anaconda3/lib/python3.7/site-packages/librosa/util/decorators.py:88: UserWarning: PySoundFile failed. Trying audioread instead.\n",
      "  return f(*args, **kwargs)\n",
      "/anaconda3/lib/python3.7/site-packages/librosa/util/decorators.py:88: UserWarning: PySoundFile failed. Trying audioread instead.\n",
      "  return f(*args, **kwargs)\n",
      "/anaconda3/lib/python3.7/site-packages/librosa/util/decorators.py:88: UserWarning: PySoundFile failed. Trying audioread instead.\n",
      "  return f(*args, **kwargs)\n",
      "/anaconda3/lib/python3.7/site-packages/librosa/util/decorators.py:88: UserWarning: PySoundFile failed. Trying audioread instead.\n",
      "  return f(*args, **kwargs)\n",
      "/anaconda3/lib/python3.7/site-packages/librosa/util/decorators.py:88: UserWarning: PySoundFile failed. Trying audioread instead.\n",
      "  return f(*args, **kwargs)\n",
      "/anaconda3/lib/python3.7/site-packages/librosa/util/decorators.py:88: UserWarning: PySoundFile failed. Trying audioread instead.\n",
      "  return f(*args, **kwargs)\n",
      "/anaconda3/lib/python3.7/site-packages/librosa/util/decorators.py:88: UserWarning: PySoundFile failed. Trying audioread instead.\n",
      "  return f(*args, **kwargs)\n",
      "/anaconda3/lib/python3.7/site-packages/librosa/util/decorators.py:88: UserWarning: PySoundFile failed. Trying audioread instead.\n",
      "  return f(*args, **kwargs)\n",
      "/anaconda3/lib/python3.7/site-packages/librosa/util/decorators.py:88: UserWarning: PySoundFile failed. Trying audioread instead.\n",
      "  return f(*args, **kwargs)\n",
      "/anaconda3/lib/python3.7/site-packages/librosa/util/decorators.py:88: UserWarning: PySoundFile failed. Trying audioread instead.\n",
      "  return f(*args, **kwargs)\n"
     ]
    },
    {
     "name": "stdout",
     "output_type": "stream",
     "text": [
      "Error in detection, skipping XC207197 - Blue-grey Tanager - Thraupis episcopus.mp3\n",
      "integer division or modulo by zero\n"
     ]
    },
    {
     "name": "stderr",
     "output_type": "stream",
     "text": [
      "/anaconda3/lib/python3.7/site-packages/librosa/util/decorators.py:88: UserWarning: PySoundFile failed. Trying audioread instead.\n",
      "  return f(*args, **kwargs)\n",
      "/anaconda3/lib/python3.7/site-packages/librosa/util/decorators.py:88: UserWarning: PySoundFile failed. Trying audioread instead.\n",
      "  return f(*args, **kwargs)\n",
      "/anaconda3/lib/python3.7/site-packages/librosa/util/decorators.py:88: UserWarning: PySoundFile failed. Trying audioread instead.\n",
      "  return f(*args, **kwargs)\n"
     ]
    },
    {
     "name": "stdout",
     "output_type": "stream",
     "text": [
      "Error in isolating bird calls from XC612240 - Buff-throated Woodcreeper - Xiphorhynchus guttatus.mp3\n",
      "max() arg is an empty sequence\n"
     ]
    },
    {
     "name": "stderr",
     "output_type": "stream",
     "text": [
      "/anaconda3/lib/python3.7/site-packages/librosa/util/decorators.py:88: UserWarning: PySoundFile failed. Trying audioread instead.\n",
      "  return f(*args, **kwargs)\n",
      "/anaconda3/lib/python3.7/site-packages/librosa/util/decorators.py:88: UserWarning: PySoundFile failed. Trying audioread instead.\n",
      "  return f(*args, **kwargs)\n",
      "/anaconda3/lib/python3.7/site-packages/librosa/util/decorators.py:88: UserWarning: PySoundFile failed. Trying audioread instead.\n",
      "  return f(*args, **kwargs)\n",
      "/anaconda3/lib/python3.7/site-packages/librosa/util/decorators.py:88: UserWarning: PySoundFile failed. Trying audioread instead.\n",
      "  return f(*args, **kwargs)\n",
      "/anaconda3/lib/python3.7/site-packages/librosa/util/decorators.py:88: UserWarning: PySoundFile failed. Trying audioread instead.\n",
      "  return f(*args, **kwargs)\n",
      "/anaconda3/lib/python3.7/site-packages/librosa/util/decorators.py:88: UserWarning: PySoundFile failed. Trying audioread instead.\n",
      "  return f(*args, **kwargs)\n",
      "/anaconda3/lib/python3.7/site-packages/librosa/util/decorators.py:88: UserWarning: PySoundFile failed. Trying audioread instead.\n",
      "  return f(*args, **kwargs)\n",
      "/anaconda3/lib/python3.7/site-packages/librosa/util/decorators.py:88: UserWarning: PySoundFile failed. Trying audioread instead.\n",
      "  return f(*args, **kwargs)\n",
      "/anaconda3/lib/python3.7/site-packages/librosa/util/decorators.py:88: UserWarning: PySoundFile failed. Trying audioread instead.\n",
      "  return f(*args, **kwargs)\n",
      "/anaconda3/lib/python3.7/site-packages/librosa/util/decorators.py:88: UserWarning: PySoundFile failed. Trying audioread instead.\n",
      "  return f(*args, **kwargs)\n",
      "/anaconda3/lib/python3.7/site-packages/librosa/util/decorators.py:88: UserWarning: PySoundFile failed. Trying audioread instead.\n",
      "  return f(*args, **kwargs)\n",
      "/anaconda3/lib/python3.7/site-packages/librosa/util/decorators.py:88: UserWarning: PySoundFile failed. Trying audioread instead.\n",
      "  return f(*args, **kwargs)\n",
      "/anaconda3/lib/python3.7/site-packages/librosa/util/decorators.py:88: UserWarning: PySoundFile failed. Trying audioread instead.\n",
      "  return f(*args, **kwargs)\n",
      "/anaconda3/lib/python3.7/site-packages/librosa/util/decorators.py:88: UserWarning: PySoundFile failed. Trying audioread instead.\n",
      "  return f(*args, **kwargs)\n",
      "/anaconda3/lib/python3.7/site-packages/librosa/util/decorators.py:88: UserWarning: PySoundFile failed. Trying audioread instead.\n",
      "  return f(*args, **kwargs)\n",
      "/anaconda3/lib/python3.7/site-packages/librosa/util/decorators.py:88: UserWarning: PySoundFile failed. Trying audioread instead.\n",
      "  return f(*args, **kwargs)\n",
      "/anaconda3/lib/python3.7/site-packages/librosa/util/decorators.py:88: UserWarning: PySoundFile failed. Trying audioread instead.\n",
      "  return f(*args, **kwargs)\n",
      "/anaconda3/lib/python3.7/site-packages/librosa/util/decorators.py:88: UserWarning: PySoundFile failed. Trying audioread instead.\n",
      "  return f(*args, **kwargs)\n",
      "/anaconda3/lib/python3.7/site-packages/librosa/util/decorators.py:88: UserWarning: PySoundFile failed. Trying audioread instead.\n",
      "  return f(*args, **kwargs)\n",
      "/anaconda3/lib/python3.7/site-packages/librosa/util/decorators.py:88: UserWarning: PySoundFile failed. Trying audioread instead.\n",
      "  return f(*args, **kwargs)\n",
      "/anaconda3/lib/python3.7/site-packages/librosa/util/decorators.py:88: UserWarning: PySoundFile failed. Trying audioread instead.\n",
      "  return f(*args, **kwargs)\n",
      "/anaconda3/lib/python3.7/site-packages/librosa/util/decorators.py:88: UserWarning: PySoundFile failed. Trying audioread instead.\n",
      "  return f(*args, **kwargs)\n",
      "/anaconda3/lib/python3.7/site-packages/librosa/util/decorators.py:88: UserWarning: PySoundFile failed. Trying audioread instead.\n",
      "  return f(*args, **kwargs)\n",
      "/anaconda3/lib/python3.7/site-packages/librosa/util/decorators.py:88: UserWarning: PySoundFile failed. Trying audioread instead.\n",
      "  return f(*args, **kwargs)\n",
      "/anaconda3/lib/python3.7/site-packages/librosa/util/decorators.py:88: UserWarning: PySoundFile failed. Trying audioread instead.\n",
      "  return f(*args, **kwargs)\n",
      "/anaconda3/lib/python3.7/site-packages/librosa/util/decorators.py:88: UserWarning: PySoundFile failed. Trying audioread instead.\n",
      "  return f(*args, **kwargs)\n",
      "/anaconda3/lib/python3.7/site-packages/librosa/util/decorators.py:88: UserWarning: PySoundFile failed. Trying audioread instead.\n",
      "  return f(*args, **kwargs)\n",
      "/anaconda3/lib/python3.7/site-packages/librosa/util/decorators.py:88: UserWarning: PySoundFile failed. Trying audioread instead.\n",
      "  return f(*args, **kwargs)\n",
      "/anaconda3/lib/python3.7/site-packages/librosa/util/decorators.py:88: UserWarning: PySoundFile failed. Trying audioread instead.\n",
      "  return f(*args, **kwargs)\n",
      "/anaconda3/lib/python3.7/site-packages/librosa/util/decorators.py:88: UserWarning: PySoundFile failed. Trying audioread instead.\n",
      "  return f(*args, **kwargs)\n",
      "/anaconda3/lib/python3.7/site-packages/librosa/util/decorators.py:88: UserWarning: PySoundFile failed. Trying audioread instead.\n",
      "  return f(*args, **kwargs)\n",
      "/anaconda3/lib/python3.7/site-packages/librosa/util/decorators.py:88: UserWarning: PySoundFile failed. Trying audioread instead.\n",
      "  return f(*args, **kwargs)\n",
      "/anaconda3/lib/python3.7/site-packages/librosa/util/decorators.py:88: UserWarning: PySoundFile failed. Trying audioread instead.\n",
      "  return f(*args, **kwargs)\n",
      "/anaconda3/lib/python3.7/site-packages/librosa/util/decorators.py:88: UserWarning: PySoundFile failed. Trying audioread instead.\n",
      "  return f(*args, **kwargs)\n",
      "/anaconda3/lib/python3.7/site-packages/librosa/util/decorators.py:88: UserWarning: PySoundFile failed. Trying audioread instead.\n",
      "  return f(*args, **kwargs)\n",
      "/anaconda3/lib/python3.7/site-packages/librosa/util/decorators.py:88: UserWarning: PySoundFile failed. Trying audioread instead.\n",
      "  return f(*args, **kwargs)\n",
      "/anaconda3/lib/python3.7/site-packages/librosa/util/decorators.py:88: UserWarning: PySoundFile failed. Trying audioread instead.\n",
      "  return f(*args, **kwargs)\n",
      "/anaconda3/lib/python3.7/site-packages/librosa/util/decorators.py:88: UserWarning: PySoundFile failed. Trying audioread instead.\n",
      "  return f(*args, **kwargs)\n",
      "/anaconda3/lib/python3.7/site-packages/librosa/util/decorators.py:88: UserWarning: PySoundFile failed. Trying audioread instead.\n",
      "  return f(*args, **kwargs)\n",
      "/anaconda3/lib/python3.7/site-packages/librosa/util/decorators.py:88: UserWarning: PySoundFile failed. Trying audioread instead.\n",
      "  return f(*args, **kwargs)\n",
      "/anaconda3/lib/python3.7/site-packages/librosa/util/decorators.py:88: UserWarning: PySoundFile failed. Trying audioread instead.\n",
      "  return f(*args, **kwargs)\n",
      "/anaconda3/lib/python3.7/site-packages/librosa/util/decorators.py:88: UserWarning: PySoundFile failed. Trying audioread instead.\n",
      "  return f(*args, **kwargs)\n",
      "/anaconda3/lib/python3.7/site-packages/librosa/util/decorators.py:88: UserWarning: PySoundFile failed. Trying audioread instead.\n",
      "  return f(*args, **kwargs)\n",
      "/anaconda3/lib/python3.7/site-packages/librosa/util/decorators.py:88: UserWarning: PySoundFile failed. Trying audioread instead.\n",
      "  return f(*args, **kwargs)\n",
      "/anaconda3/lib/python3.7/site-packages/librosa/util/decorators.py:88: UserWarning: PySoundFile failed. Trying audioread instead.\n",
      "  return f(*args, **kwargs)\n",
      "/anaconda3/lib/python3.7/site-packages/librosa/util/decorators.py:88: UserWarning: PySoundFile failed. Trying audioread instead.\n",
      "  return f(*args, **kwargs)\n",
      "/anaconda3/lib/python3.7/site-packages/librosa/util/decorators.py:88: UserWarning: PySoundFile failed. Trying audioread instead.\n",
      "  return f(*args, **kwargs)\n",
      "/anaconda3/lib/python3.7/site-packages/librosa/util/decorators.py:88: UserWarning: PySoundFile failed. Trying audioread instead.\n",
      "  return f(*args, **kwargs)\n",
      "/anaconda3/lib/python3.7/site-packages/librosa/util/decorators.py:88: UserWarning: PySoundFile failed. Trying audioread instead.\n",
      "  return f(*args, **kwargs)\n",
      "/anaconda3/lib/python3.7/site-packages/librosa/util/decorators.py:88: UserWarning: PySoundFile failed. Trying audioread instead.\n",
      "  return f(*args, **kwargs)\n",
      "/anaconda3/lib/python3.7/site-packages/librosa/util/decorators.py:88: UserWarning: PySoundFile failed. Trying audioread instead.\n",
      "  return f(*args, **kwargs)\n",
      "/anaconda3/lib/python3.7/site-packages/librosa/util/decorators.py:88: UserWarning: PySoundFile failed. Trying audioread instead.\n",
      "  return f(*args, **kwargs)\n",
      "/anaconda3/lib/python3.7/site-packages/librosa/util/decorators.py:88: UserWarning: PySoundFile failed. Trying audioread instead.\n",
      "  return f(*args, **kwargs)\n"
     ]
    },
    {
     "name": "stderr",
     "output_type": "stream",
     "text": [
      "/anaconda3/lib/python3.7/site-packages/librosa/util/decorators.py:88: UserWarning: PySoundFile failed. Trying audioread instead.\n",
      "  return f(*args, **kwargs)\n",
      "/anaconda3/lib/python3.7/site-packages/librosa/util/decorators.py:88: UserWarning: PySoundFile failed. Trying audioread instead.\n",
      "  return f(*args, **kwargs)\n",
      "/anaconda3/lib/python3.7/site-packages/librosa/util/decorators.py:88: UserWarning: PySoundFile failed. Trying audioread instead.\n",
      "  return f(*args, **kwargs)\n",
      "/anaconda3/lib/python3.7/site-packages/librosa/util/decorators.py:88: UserWarning: PySoundFile failed. Trying audioread instead.\n",
      "  return f(*args, **kwargs)\n",
      "/anaconda3/lib/python3.7/site-packages/librosa/util/decorators.py:88: UserWarning: PySoundFile failed. Trying audioread instead.\n",
      "  return f(*args, **kwargs)\n",
      "/anaconda3/lib/python3.7/site-packages/librosa/util/decorators.py:88: UserWarning: PySoundFile failed. Trying audioread instead.\n",
      "  return f(*args, **kwargs)\n",
      "/anaconda3/lib/python3.7/site-packages/librosa/util/decorators.py:88: UserWarning: PySoundFile failed. Trying audioread instead.\n",
      "  return f(*args, **kwargs)\n",
      "/anaconda3/lib/python3.7/site-packages/librosa/util/decorators.py:88: UserWarning: PySoundFile failed. Trying audioread instead.\n",
      "  return f(*args, **kwargs)\n",
      "/anaconda3/lib/python3.7/site-packages/librosa/util/decorators.py:88: UserWarning: PySoundFile failed. Trying audioread instead.\n",
      "  return f(*args, **kwargs)\n",
      "/anaconda3/lib/python3.7/site-packages/librosa/util/decorators.py:88: UserWarning: PySoundFile failed. Trying audioread instead.\n",
      "  return f(*args, **kwargs)\n",
      "/anaconda3/lib/python3.7/site-packages/librosa/util/decorators.py:88: UserWarning: PySoundFile failed. Trying audioread instead.\n",
      "  return f(*args, **kwargs)\n",
      "/anaconda3/lib/python3.7/site-packages/librosa/util/decorators.py:88: UserWarning: PySoundFile failed. Trying audioread instead.\n",
      "  return f(*args, **kwargs)\n",
      "/anaconda3/lib/python3.7/site-packages/librosa/util/decorators.py:88: UserWarning: PySoundFile failed. Trying audioread instead.\n",
      "  return f(*args, **kwargs)\n",
      "/anaconda3/lib/python3.7/site-packages/librosa/util/decorators.py:88: UserWarning: PySoundFile failed. Trying audioread instead.\n",
      "  return f(*args, **kwargs)\n",
      "/anaconda3/lib/python3.7/site-packages/librosa/util/decorators.py:88: UserWarning: PySoundFile failed. Trying audioread instead.\n",
      "  return f(*args, **kwargs)\n",
      "/anaconda3/lib/python3.7/site-packages/librosa/util/decorators.py:88: UserWarning: PySoundFile failed. Trying audioread instead.\n",
      "  return f(*args, **kwargs)\n",
      "/anaconda3/lib/python3.7/site-packages/librosa/util/decorators.py:88: UserWarning: PySoundFile failed. Trying audioread instead.\n",
      "  return f(*args, **kwargs)\n",
      "/anaconda3/lib/python3.7/site-packages/librosa/util/decorators.py:88: UserWarning: PySoundFile failed. Trying audioread instead.\n",
      "  return f(*args, **kwargs)\n",
      "/anaconda3/lib/python3.7/site-packages/librosa/util/decorators.py:88: UserWarning: PySoundFile failed. Trying audioread instead.\n",
      "  return f(*args, **kwargs)\n",
      "/anaconda3/lib/python3.7/site-packages/librosa/util/decorators.py:88: UserWarning: PySoundFile failed. Trying audioread instead.\n",
      "  return f(*args, **kwargs)\n",
      "/anaconda3/lib/python3.7/site-packages/librosa/util/decorators.py:88: UserWarning: PySoundFile failed. Trying audioread instead.\n",
      "  return f(*args, **kwargs)\n",
      "/anaconda3/lib/python3.7/site-packages/librosa/util/decorators.py:88: UserWarning: PySoundFile failed. Trying audioread instead.\n",
      "  return f(*args, **kwargs)\n",
      "/anaconda3/lib/python3.7/site-packages/librosa/util/decorators.py:88: UserWarning: PySoundFile failed. Trying audioread instead.\n",
      "  return f(*args, **kwargs)\n",
      "/anaconda3/lib/python3.7/site-packages/librosa/util/decorators.py:88: UserWarning: PySoundFile failed. Trying audioread instead.\n",
      "  return f(*args, **kwargs)\n",
      "/anaconda3/lib/python3.7/site-packages/librosa/util/decorators.py:88: UserWarning: PySoundFile failed. Trying audioread instead.\n",
      "  return f(*args, **kwargs)\n",
      "/anaconda3/lib/python3.7/site-packages/librosa/util/decorators.py:88: UserWarning: PySoundFile failed. Trying audioread instead.\n",
      "  return f(*args, **kwargs)\n",
      "/anaconda3/lib/python3.7/site-packages/librosa/util/decorators.py:88: UserWarning: PySoundFile failed. Trying audioread instead.\n",
      "  return f(*args, **kwargs)\n",
      "/anaconda3/lib/python3.7/site-packages/librosa/util/decorators.py:88: UserWarning: PySoundFile failed. Trying audioread instead.\n",
      "  return f(*args, **kwargs)\n",
      "/anaconda3/lib/python3.7/site-packages/librosa/util/decorators.py:88: UserWarning: PySoundFile failed. Trying audioread instead.\n",
      "  return f(*args, **kwargs)\n",
      "/anaconda3/lib/python3.7/site-packages/librosa/util/decorators.py:88: UserWarning: PySoundFile failed. Trying audioread instead.\n",
      "  return f(*args, **kwargs)\n",
      "/anaconda3/lib/python3.7/site-packages/librosa/util/decorators.py:88: UserWarning: PySoundFile failed. Trying audioread instead.\n",
      "  return f(*args, **kwargs)\n",
      "/anaconda3/lib/python3.7/site-packages/librosa/util/decorators.py:88: UserWarning: PySoundFile failed. Trying audioread instead.\n",
      "  return f(*args, **kwargs)\n",
      "/anaconda3/lib/python3.7/site-packages/librosa/util/decorators.py:88: UserWarning: PySoundFile failed. Trying audioread instead.\n",
      "  return f(*args, **kwargs)\n",
      "/anaconda3/lib/python3.7/site-packages/librosa/util/decorators.py:88: UserWarning: PySoundFile failed. Trying audioread instead.\n",
      "  return f(*args, **kwargs)\n",
      "/anaconda3/lib/python3.7/site-packages/librosa/util/decorators.py:88: UserWarning: PySoundFile failed. Trying audioread instead.\n",
      "  return f(*args, **kwargs)\n",
      "/anaconda3/lib/python3.7/site-packages/librosa/util/decorators.py:88: UserWarning: PySoundFile failed. Trying audioread instead.\n",
      "  return f(*args, **kwargs)\n",
      "/anaconda3/lib/python3.7/site-packages/librosa/util/decorators.py:88: UserWarning: PySoundFile failed. Trying audioread instead.\n",
      "  return f(*args, **kwargs)\n",
      "/anaconda3/lib/python3.7/site-packages/librosa/util/decorators.py:88: UserWarning: PySoundFile failed. Trying audioread instead.\n",
      "  return f(*args, **kwargs)\n",
      "/anaconda3/lib/python3.7/site-packages/librosa/util/decorators.py:88: UserWarning: PySoundFile failed. Trying audioread instead.\n",
      "  return f(*args, **kwargs)\n",
      "/anaconda3/lib/python3.7/site-packages/librosa/util/decorators.py:88: UserWarning: PySoundFile failed. Trying audioread instead.\n",
      "  return f(*args, **kwargs)\n",
      "/anaconda3/lib/python3.7/site-packages/librosa/util/decorators.py:88: UserWarning: PySoundFile failed. Trying audioread instead.\n",
      "  return f(*args, **kwargs)\n"
     ]
    }
   ],
   "source": [
    "automated_df_tweety = generate_automated_labels(path,isolation_parameters_tweety)\n",
    "automated_chunked_df = annotation_chunker(automated_df_tweety, 3)"
   ]
  },
  {
   "cell_type": "code",
   "execution_count": 26,
   "metadata": {},
   "outputs": [
    {
     "data": {
      "text/html": [
       "<div>\n",
       "<style scoped>\n",
       "    .dataframe tbody tr th:only-of-type {\n",
       "        vertical-align: middle;\n",
       "    }\n",
       "\n",
       "    .dataframe tbody tr th {\n",
       "        vertical-align: top;\n",
       "    }\n",
       "\n",
       "    .dataframe thead th {\n",
       "        text-align: right;\n",
       "    }\n",
       "</style>\n",
       "<table border=\"1\" class=\"dataframe\">\n",
       "  <thead>\n",
       "    <tr style=\"text-align: right;\">\n",
       "      <th></th>\n",
       "      <th>OFFSET</th>\n",
       "      <th>DURATION</th>\n",
       "      <th>FOLDER</th>\n",
       "      <th>IN FILE</th>\n",
       "      <th>CHANNEL</th>\n",
       "      <th>CLIP LENGTH</th>\n",
       "      <th>SAMPLE RATE</th>\n",
       "      <th>MANUAL ID</th>\n",
       "      <th>CONFIDENCE</th>\n",
       "      <th>FILEPATH</th>\n",
       "    </tr>\n",
       "  </thead>\n",
       "  <tbody>\n",
       "    <tr>\n",
       "      <th>0</th>\n",
       "      <td>5.093023</td>\n",
       "      <td>0.441860</td>\n",
       "      <td>./cosmos_random_sample_processing/</td>\n",
       "      <td>XC276588 - Yellow-olive Flatbill - Tolmomyias ...</td>\n",
       "      <td>0</td>\n",
       "      <td>12.852245</td>\n",
       "      <td>44100</td>\n",
       "      <td>bird</td>\n",
       "      <td>0.782384</td>\n",
       "      <td>./cosmos_random_sample_processing/XC276588 - Y...</td>\n",
       "    </tr>\n",
       "    <tr>\n",
       "      <th>1</th>\n",
       "      <td>6.023256</td>\n",
       "      <td>0.069767</td>\n",
       "      <td>./cosmos_random_sample_processing/</td>\n",
       "      <td>XC276588 - Yellow-olive Flatbill - Tolmomyias ...</td>\n",
       "      <td>0</td>\n",
       "      <td>12.852245</td>\n",
       "      <td>44100</td>\n",
       "      <td>bird</td>\n",
       "      <td>0.601440</td>\n",
       "      <td>./cosmos_random_sample_processing/XC276588 - Y...</td>\n",
       "    </tr>\n",
       "    <tr>\n",
       "      <th>2</th>\n",
       "      <td>6.116279</td>\n",
       "      <td>0.069767</td>\n",
       "      <td>./cosmos_random_sample_processing/</td>\n",
       "      <td>XC276588 - Yellow-olive Flatbill - Tolmomyias ...</td>\n",
       "      <td>0</td>\n",
       "      <td>12.852245</td>\n",
       "      <td>44100</td>\n",
       "      <td>bird</td>\n",
       "      <td>0.525216</td>\n",
       "      <td>./cosmos_random_sample_processing/XC276588 - Y...</td>\n",
       "    </tr>\n",
       "    <tr>\n",
       "      <th>3</th>\n",
       "      <td>7.372093</td>\n",
       "      <td>0.395349</td>\n",
       "      <td>./cosmos_random_sample_processing/</td>\n",
       "      <td>XC276588 - Yellow-olive Flatbill - Tolmomyias ...</td>\n",
       "      <td>0</td>\n",
       "      <td>12.852245</td>\n",
       "      <td>44100</td>\n",
       "      <td>bird</td>\n",
       "      <td>0.342127</td>\n",
       "      <td>./cosmos_random_sample_processing/XC276588 - Y...</td>\n",
       "    </tr>\n",
       "    <tr>\n",
       "      <th>4</th>\n",
       "      <td>8.674419</td>\n",
       "      <td>0.418605</td>\n",
       "      <td>./cosmos_random_sample_processing/</td>\n",
       "      <td>XC276588 - Yellow-olive Flatbill - Tolmomyias ...</td>\n",
       "      <td>0</td>\n",
       "      <td>12.852245</td>\n",
       "      <td>44100</td>\n",
       "      <td>bird</td>\n",
       "      <td>0.414018</td>\n",
       "      <td>./cosmos_random_sample_processing/XC276588 - Y...</td>\n",
       "    </tr>\n",
       "    <tr>\n",
       "      <th>...</th>\n",
       "      <td>...</td>\n",
       "      <td>...</td>\n",
       "      <td>...</td>\n",
       "      <td>...</td>\n",
       "      <td>...</td>\n",
       "      <td>...</td>\n",
       "      <td>...</td>\n",
       "      <td>...</td>\n",
       "      <td>...</td>\n",
       "      <td>...</td>\n",
       "    </tr>\n",
       "    <tr>\n",
       "      <th>7645</th>\n",
       "      <td>5.023256</td>\n",
       "      <td>0.325581</td>\n",
       "      <td>./cosmos_random_sample_processing/</td>\n",
       "      <td>XC58363 - Pale-breasted Thrush - Turdus leucom...</td>\n",
       "      <td>0</td>\n",
       "      <td>11.676735</td>\n",
       "      <td>44100</td>\n",
       "      <td>bird</td>\n",
       "      <td>0.347622</td>\n",
       "      <td>./cosmos_random_sample_processing/XC58363 - Pa...</td>\n",
       "    </tr>\n",
       "    <tr>\n",
       "      <th>7646</th>\n",
       "      <td>6.604651</td>\n",
       "      <td>0.255814</td>\n",
       "      <td>./cosmos_random_sample_processing/</td>\n",
       "      <td>XC58363 - Pale-breasted Thrush - Turdus leucom...</td>\n",
       "      <td>0</td>\n",
       "      <td>11.676735</td>\n",
       "      <td>44100</td>\n",
       "      <td>bird</td>\n",
       "      <td>0.255779</td>\n",
       "      <td>./cosmos_random_sample_processing/XC58363 - Pa...</td>\n",
       "    </tr>\n",
       "    <tr>\n",
       "      <th>7647</th>\n",
       "      <td>8.279070</td>\n",
       "      <td>0.232558</td>\n",
       "      <td>./cosmos_random_sample_processing/</td>\n",
       "      <td>XC58363 - Pale-breasted Thrush - Turdus leucom...</td>\n",
       "      <td>0</td>\n",
       "      <td>11.676735</td>\n",
       "      <td>44100</td>\n",
       "      <td>bird</td>\n",
       "      <td>0.262850</td>\n",
       "      <td>./cosmos_random_sample_processing/XC58363 - Pa...</td>\n",
       "    </tr>\n",
       "    <tr>\n",
       "      <th>7648</th>\n",
       "      <td>9.418605</td>\n",
       "      <td>0.255814</td>\n",
       "      <td>./cosmos_random_sample_processing/</td>\n",
       "      <td>XC58363 - Pale-breasted Thrush - Turdus leucom...</td>\n",
       "      <td>0</td>\n",
       "      <td>11.676735</td>\n",
       "      <td>44100</td>\n",
       "      <td>bird</td>\n",
       "      <td>0.487769</td>\n",
       "      <td>./cosmos_random_sample_processing/XC58363 - Pa...</td>\n",
       "    </tr>\n",
       "    <tr>\n",
       "      <th>7649</th>\n",
       "      <td>9.697674</td>\n",
       "      <td>0.162791</td>\n",
       "      <td>./cosmos_random_sample_processing/</td>\n",
       "      <td>XC58363 - Pale-breasted Thrush - Turdus leucom...</td>\n",
       "      <td>0</td>\n",
       "      <td>11.676735</td>\n",
       "      <td>44100</td>\n",
       "      <td>bird</td>\n",
       "      <td>0.747856</td>\n",
       "      <td>./cosmos_random_sample_processing/XC58363 - Pa...</td>\n",
       "    </tr>\n",
       "  </tbody>\n",
       "</table>\n",
       "<p>7650 rows × 10 columns</p>\n",
       "</div>"
      ],
      "text/plain": [
       "        OFFSET  DURATION                              FOLDER  \\\n",
       "0     5.093023  0.441860  ./cosmos_random_sample_processing/   \n",
       "1     6.023256  0.069767  ./cosmos_random_sample_processing/   \n",
       "2     6.116279  0.069767  ./cosmos_random_sample_processing/   \n",
       "3     7.372093  0.395349  ./cosmos_random_sample_processing/   \n",
       "4     8.674419  0.418605  ./cosmos_random_sample_processing/   \n",
       "...        ...       ...                                 ...   \n",
       "7645  5.023256  0.325581  ./cosmos_random_sample_processing/   \n",
       "7646  6.604651  0.255814  ./cosmos_random_sample_processing/   \n",
       "7647  8.279070  0.232558  ./cosmos_random_sample_processing/   \n",
       "7648  9.418605  0.255814  ./cosmos_random_sample_processing/   \n",
       "7649  9.697674  0.162791  ./cosmos_random_sample_processing/   \n",
       "\n",
       "                                                IN FILE  CHANNEL  CLIP LENGTH  \\\n",
       "0     XC276588 - Yellow-olive Flatbill - Tolmomyias ...        0    12.852245   \n",
       "1     XC276588 - Yellow-olive Flatbill - Tolmomyias ...        0    12.852245   \n",
       "2     XC276588 - Yellow-olive Flatbill - Tolmomyias ...        0    12.852245   \n",
       "3     XC276588 - Yellow-olive Flatbill - Tolmomyias ...        0    12.852245   \n",
       "4     XC276588 - Yellow-olive Flatbill - Tolmomyias ...        0    12.852245   \n",
       "...                                                 ...      ...          ...   \n",
       "7645  XC58363 - Pale-breasted Thrush - Turdus leucom...        0    11.676735   \n",
       "7646  XC58363 - Pale-breasted Thrush - Turdus leucom...        0    11.676735   \n",
       "7647  XC58363 - Pale-breasted Thrush - Turdus leucom...        0    11.676735   \n",
       "7648  XC58363 - Pale-breasted Thrush - Turdus leucom...        0    11.676735   \n",
       "7649  XC58363 - Pale-breasted Thrush - Turdus leucom...        0    11.676735   \n",
       "\n",
       "      SAMPLE RATE MANUAL ID  CONFIDENCE  \\\n",
       "0           44100      bird    0.782384   \n",
       "1           44100      bird    0.601440   \n",
       "2           44100      bird    0.525216   \n",
       "3           44100      bird    0.342127   \n",
       "4           44100      bird    0.414018   \n",
       "...           ...       ...         ...   \n",
       "7645        44100      bird    0.347622   \n",
       "7646        44100      bird    0.255779   \n",
       "7647        44100      bird    0.262850   \n",
       "7648        44100      bird    0.487769   \n",
       "7649        44100      bird    0.747856   \n",
       "\n",
       "                                               FILEPATH  \n",
       "0     ./cosmos_random_sample_processing/XC276588 - Y...  \n",
       "1     ./cosmos_random_sample_processing/XC276588 - Y...  \n",
       "2     ./cosmos_random_sample_processing/XC276588 - Y...  \n",
       "3     ./cosmos_random_sample_processing/XC276588 - Y...  \n",
       "4     ./cosmos_random_sample_processing/XC276588 - Y...  \n",
       "...                                                 ...  \n",
       "7645  ./cosmos_random_sample_processing/XC58363 - Pa...  \n",
       "7646  ./cosmos_random_sample_processing/XC58363 - Pa...  \n",
       "7647  ./cosmos_random_sample_processing/XC58363 - Pa...  \n",
       "7648  ./cosmos_random_sample_processing/XC58363 - Pa...  \n",
       "7649  ./cosmos_random_sample_processing/XC58363 - Pa...  \n",
       "\n",
       "[7650 rows x 10 columns]"
      ]
     },
     "execution_count": 26,
     "metadata": {},
     "output_type": "execute_result"
    }
   ],
   "source": [
    "automated_df_tweety"
   ]
  },
  {
   "cell_type": "code",
   "execution_count": null,
   "metadata": {},
   "outputs": [],
   "source": [
    "automated_chunked_df"
   ]
  },
  {
   "cell_type": "code",
   "execution_count": 37,
   "metadata": {},
   "outputs": [],
   "source": [
    "manual_chunked_df = annotation_chunker(manual_df, 3)\n",
    "manual_chunked_df['CONFIDENCE'] = 1\n",
    "#manual_chunked_df = manual_chunked_df.apply(rename_with_only_species_name,axis=1)"
   ]
  },
  {
   "cell_type": "code",
   "execution_count": 38,
   "metadata": {},
   "outputs": [
    {
     "data": {
      "text/html": [
       "<div>\n",
       "<style scoped>\n",
       "    .dataframe tbody tr th:only-of-type {\n",
       "        vertical-align: middle;\n",
       "    }\n",
       "\n",
       "    .dataframe tbody tr th {\n",
       "        vertical-align: top;\n",
       "    }\n",
       "\n",
       "    .dataframe thead th {\n",
       "        text-align: right;\n",
       "    }\n",
       "</style>\n",
       "<table border=\"1\" class=\"dataframe\">\n",
       "  <thead>\n",
       "    <tr style=\"text-align: right;\">\n",
       "      <th></th>\n",
       "      <th>FOLDER</th>\n",
       "      <th>IN FILE</th>\n",
       "      <th>CLIP LENGTH</th>\n",
       "      <th>CHANNEL</th>\n",
       "      <th>OFFSET</th>\n",
       "      <th>DURATION</th>\n",
       "      <th>SAMPLE RATE</th>\n",
       "      <th>MANUAL ID</th>\n",
       "      <th>CONFIDENCE</th>\n",
       "    </tr>\n",
       "  </thead>\n",
       "  <tbody>\n",
       "    <tr>\n",
       "      <th>0</th>\n",
       "      <td>./COSMOS</td>\n",
       "      <td>XC87449_-_Scaly-breasted_Woodpecker_-_Celeus_g...</td>\n",
       "      <td>23.2956</td>\n",
       "      <td>0</td>\n",
       "      <td>0.0</td>\n",
       "      <td>3.0</td>\n",
       "      <td>44100</td>\n",
       "      <td>Celeus grammicus</td>\n",
       "      <td>1</td>\n",
       "    </tr>\n",
       "    <tr>\n",
       "      <th>1</th>\n",
       "      <td>./COSMOS</td>\n",
       "      <td>XC87449_-_Scaly-breasted_Woodpecker_-_Celeus_g...</td>\n",
       "      <td>23.2956</td>\n",
       "      <td>0</td>\n",
       "      <td>3.0</td>\n",
       "      <td>3.0</td>\n",
       "      <td>44100</td>\n",
       "      <td>Celeus grammicus</td>\n",
       "      <td>1</td>\n",
       "    </tr>\n",
       "    <tr>\n",
       "      <th>2</th>\n",
       "      <td>./COSMOS</td>\n",
       "      <td>XC87449_-_Scaly-breasted_Woodpecker_-_Celeus_g...</td>\n",
       "      <td>23.2956</td>\n",
       "      <td>0</td>\n",
       "      <td>9.0</td>\n",
       "      <td>3.0</td>\n",
       "      <td>44100</td>\n",
       "      <td>Celeus grammicus</td>\n",
       "      <td>1</td>\n",
       "    </tr>\n",
       "    <tr>\n",
       "      <th>3</th>\n",
       "      <td>./COSMOS</td>\n",
       "      <td>XC87449_-_Scaly-breasted_Woodpecker_-_Celeus_g...</td>\n",
       "      <td>23.2956</td>\n",
       "      <td>0</td>\n",
       "      <td>12.0</td>\n",
       "      <td>3.0</td>\n",
       "      <td>44100</td>\n",
       "      <td>Celeus grammicus</td>\n",
       "      <td>1</td>\n",
       "    </tr>\n",
       "    <tr>\n",
       "      <th>4</th>\n",
       "      <td>./COSMOS</td>\n",
       "      <td>XC87449_-_Scaly-breasted_Woodpecker_-_Celeus_g...</td>\n",
       "      <td>23.2956</td>\n",
       "      <td>0</td>\n",
       "      <td>18.0</td>\n",
       "      <td>3.0</td>\n",
       "      <td>44100</td>\n",
       "      <td>Celeus grammicus</td>\n",
       "      <td>1</td>\n",
       "    </tr>\n",
       "    <tr>\n",
       "      <th>...</th>\n",
       "      <td>...</td>\n",
       "      <td>...</td>\n",
       "      <td>...</td>\n",
       "      <td>...</td>\n",
       "      <td>...</td>\n",
       "      <td>...</td>\n",
       "      <td>...</td>\n",
       "      <td>...</td>\n",
       "      <td>...</td>\n",
       "    </tr>\n",
       "    <tr>\n",
       "      <th>4941</th>\n",
       "      <td>./COSMOS</td>\n",
       "      <td>XC27942_-_Yellow-olive_Flatbill_-_Tolmomyias_s...</td>\n",
       "      <td>31.3404</td>\n",
       "      <td>0</td>\n",
       "      <td>6.0</td>\n",
       "      <td>3.0</td>\n",
       "      <td>44100</td>\n",
       "      <td>Tolmomyias sulphurescens</td>\n",
       "      <td>1</td>\n",
       "    </tr>\n",
       "    <tr>\n",
       "      <th>4942</th>\n",
       "      <td>./COSMOS</td>\n",
       "      <td>XC27942_-_Yellow-olive_Flatbill_-_Tolmomyias_s...</td>\n",
       "      <td>31.3404</td>\n",
       "      <td>0</td>\n",
       "      <td>9.0</td>\n",
       "      <td>3.0</td>\n",
       "      <td>44100</td>\n",
       "      <td>Tolmomyias sulphurescens</td>\n",
       "      <td>1</td>\n",
       "    </tr>\n",
       "    <tr>\n",
       "      <th>4943</th>\n",
       "      <td>./COSMOS</td>\n",
       "      <td>XC27942_-_Yellow-olive_Flatbill_-_Tolmomyias_s...</td>\n",
       "      <td>31.3404</td>\n",
       "      <td>0</td>\n",
       "      <td>15.0</td>\n",
       "      <td>3.0</td>\n",
       "      <td>44100</td>\n",
       "      <td>Tolmomyias sulphurescens</td>\n",
       "      <td>1</td>\n",
       "    </tr>\n",
       "    <tr>\n",
       "      <th>4944</th>\n",
       "      <td>./COSMOS</td>\n",
       "      <td>XC27942_-_Yellow-olive_Flatbill_-_Tolmomyias_s...</td>\n",
       "      <td>31.3404</td>\n",
       "      <td>0</td>\n",
       "      <td>21.0</td>\n",
       "      <td>3.0</td>\n",
       "      <td>44100</td>\n",
       "      <td>Tolmomyias sulphurescens</td>\n",
       "      <td>1</td>\n",
       "    </tr>\n",
       "    <tr>\n",
       "      <th>4945</th>\n",
       "      <td>./COSMOS</td>\n",
       "      <td>XC27942_-_Yellow-olive_Flatbill_-_Tolmomyias_s...</td>\n",
       "      <td>31.3404</td>\n",
       "      <td>0</td>\n",
       "      <td>24.0</td>\n",
       "      <td>3.0</td>\n",
       "      <td>44100</td>\n",
       "      <td>Tolmomyias sulphurescens</td>\n",
       "      <td>1</td>\n",
       "    </tr>\n",
       "  </tbody>\n",
       "</table>\n",
       "<p>4946 rows × 9 columns</p>\n",
       "</div>"
      ],
      "text/plain": [
       "        FOLDER                                            IN FILE  \\\n",
       "0     ./COSMOS  XC87449_-_Scaly-breasted_Woodpecker_-_Celeus_g...   \n",
       "1     ./COSMOS  XC87449_-_Scaly-breasted_Woodpecker_-_Celeus_g...   \n",
       "2     ./COSMOS  XC87449_-_Scaly-breasted_Woodpecker_-_Celeus_g...   \n",
       "3     ./COSMOS  XC87449_-_Scaly-breasted_Woodpecker_-_Celeus_g...   \n",
       "4     ./COSMOS  XC87449_-_Scaly-breasted_Woodpecker_-_Celeus_g...   \n",
       "...        ...                                                ...   \n",
       "4941  ./COSMOS  XC27942_-_Yellow-olive_Flatbill_-_Tolmomyias_s...   \n",
       "4942  ./COSMOS  XC27942_-_Yellow-olive_Flatbill_-_Tolmomyias_s...   \n",
       "4943  ./COSMOS  XC27942_-_Yellow-olive_Flatbill_-_Tolmomyias_s...   \n",
       "4944  ./COSMOS  XC27942_-_Yellow-olive_Flatbill_-_Tolmomyias_s...   \n",
       "4945  ./COSMOS  XC27942_-_Yellow-olive_Flatbill_-_Tolmomyias_s...   \n",
       "\n",
       "      CLIP LENGTH  CHANNEL  OFFSET  DURATION  SAMPLE RATE  \\\n",
       "0         23.2956        0     0.0       3.0        44100   \n",
       "1         23.2956        0     3.0       3.0        44100   \n",
       "2         23.2956        0     9.0       3.0        44100   \n",
       "3         23.2956        0    12.0       3.0        44100   \n",
       "4         23.2956        0    18.0       3.0        44100   \n",
       "...           ...      ...     ...       ...          ...   \n",
       "4941      31.3404        0     6.0       3.0        44100   \n",
       "4942      31.3404        0     9.0       3.0        44100   \n",
       "4943      31.3404        0    15.0       3.0        44100   \n",
       "4944      31.3404        0    21.0       3.0        44100   \n",
       "4945      31.3404        0    24.0       3.0        44100   \n",
       "\n",
       "                     MANUAL ID  CONFIDENCE  \n",
       "0             Celeus grammicus           1  \n",
       "1             Celeus grammicus           1  \n",
       "2             Celeus grammicus           1  \n",
       "3             Celeus grammicus           1  \n",
       "4             Celeus grammicus           1  \n",
       "...                        ...         ...  \n",
       "4941  Tolmomyias sulphurescens           1  \n",
       "4942  Tolmomyias sulphurescens           1  \n",
       "4943  Tolmomyias sulphurescens           1  \n",
       "4944  Tolmomyias sulphurescens           1  \n",
       "4945  Tolmomyias sulphurescens           1  \n",
       "\n",
       "[4946 rows x 9 columns]"
      ]
     },
     "execution_count": 38,
     "metadata": {},
     "output_type": "execute_result"
    }
   ],
   "source": [
    "manual_chunked_df #with common name "
   ]
  },
  {
   "cell_type": "code",
   "execution_count": 39,
   "metadata": {
    "scrolled": true
   },
   "outputs": [
    {
     "name": "stdout",
     "output_type": "stream",
     "text": [
      "LOADING TF LITE MODEL... DONE!\n",
      "READING AUDIO DATA... "
     ]
    },
    {
     "name": "stderr",
     "output_type": "stream",
     "text": [
      "/anaconda3/lib/python3.7/site-packages/librosa/util/decorators.py:88: UserWarning: PySoundFile failed. Trying audioread instead.\n",
      "  return f(*args, **kwargs)\n"
     ]
    },
    {
     "name": "stdout",
     "output_type": "stream",
     "text": [
      "DONE! READ 4 CHUNKS.\n",
      "ANALYZING AUDIO... DONE! Time 0.6 SECONDS\n",
      "DONE! WROTE 3 RESULTS.\n",
      "READING AUDIO DATA... "
     ]
    },
    {
     "name": "stderr",
     "output_type": "stream",
     "text": [
      "/anaconda3/lib/python3.7/site-packages/librosa/util/decorators.py:88: UserWarning: PySoundFile failed. Trying audioread instead.\n",
      "  return f(*args, **kwargs)\n"
     ]
    },
    {
     "name": "stdout",
     "output_type": "stream",
     "text": [
      "DONE! READ 16 CHUNKS.\n",
      "ANALYZING AUDIO... DONE! Time 1.0 SECONDS\n",
      "DONE! WROTE 13 RESULTS.\n",
      "READING AUDIO DATA... "
     ]
    },
    {
     "name": "stderr",
     "output_type": "stream",
     "text": [
      "/anaconda3/lib/python3.7/site-packages/librosa/util/decorators.py:88: UserWarning: PySoundFile failed. Trying audioread instead.\n",
      "  return f(*args, **kwargs)\n"
     ]
    },
    {
     "name": "stdout",
     "output_type": "stream",
     "text": [
      "DONE! READ 35 CHUNKS.\n",
      "ANALYZING AUDIO... DONE! Time 1.5 SECONDS\n",
      "DONE! WROTE 16 RESULTS.\n",
      "READING AUDIO DATA... "
     ]
    },
    {
     "name": "stderr",
     "output_type": "stream",
     "text": [
      "/anaconda3/lib/python3.7/site-packages/librosa/util/decorators.py:88: UserWarning: PySoundFile failed. Trying audioread instead.\n",
      "  return f(*args, **kwargs)\n"
     ]
    },
    {
     "name": "stdout",
     "output_type": "stream",
     "text": [
      "DONE! READ 4 CHUNKS.\n",
      "ANALYZING AUDIO... DONE! Time 0.1 SECONDS\n",
      "DONE! WROTE 2 RESULTS.\n",
      "READING AUDIO DATA... "
     ]
    },
    {
     "name": "stderr",
     "output_type": "stream",
     "text": [
      "/anaconda3/lib/python3.7/site-packages/librosa/util/decorators.py:88: UserWarning: PySoundFile failed. Trying audioread instead.\n",
      "  return f(*args, **kwargs)\n"
     ]
    },
    {
     "name": "stdout",
     "output_type": "stream",
     "text": [
      "DONE! READ 19 CHUNKS.\n",
      "ANALYZING AUDIO... DONE! Time 1.3 SECONDS\n",
      "DONE! WROTE 16 RESULTS.\n",
      "READING AUDIO DATA... "
     ]
    },
    {
     "name": "stderr",
     "output_type": "stream",
     "text": [
      "/anaconda3/lib/python3.7/site-packages/librosa/util/decorators.py:88: UserWarning: PySoundFile failed. Trying audioread instead.\n",
      "  return f(*args, **kwargs)\n"
     ]
    },
    {
     "name": "stdout",
     "output_type": "stream",
     "text": [
      "DONE! READ 12 CHUNKS.\n",
      "ANALYZING AUDIO... DONE! Time 0.7 SECONDS\n",
      "DONE! WROTE 10 RESULTS.\n",
      "READING AUDIO DATA... DONE! READ 2 CHUNKS.\n",
      "ANALYZING AUDIO... DONE! Time 0.0 SECONDS\n",
      "DONE! WROTE 1 RESULTS.\n",
      "READING AUDIO DATA... "
     ]
    },
    {
     "name": "stderr",
     "output_type": "stream",
     "text": [
      "/anaconda3/lib/python3.7/site-packages/librosa/util/decorators.py:88: UserWarning: PySoundFile failed. Trying audioread instead.\n",
      "  return f(*args, **kwargs)\n",
      "/anaconda3/lib/python3.7/site-packages/librosa/util/decorators.py:88: UserWarning: PySoundFile failed. Trying audioread instead.\n",
      "  return f(*args, **kwargs)\n"
     ]
    },
    {
     "name": "stdout",
     "output_type": "stream",
     "text": [
      "DONE! READ 11 CHUNKS.\n",
      "ANALYZING AUDIO... DONE! Time 0.4 SECONDS\n",
      "DONE! WROTE 6 RESULTS.\n",
      "READING AUDIO DATA... "
     ]
    },
    {
     "name": "stderr",
     "output_type": "stream",
     "text": [
      "/anaconda3/lib/python3.7/site-packages/librosa/util/decorators.py:88: UserWarning: PySoundFile failed. Trying audioread instead.\n",
      "  return f(*args, **kwargs)\n"
     ]
    },
    {
     "name": "stdout",
     "output_type": "stream",
     "text": [
      "DONE! READ 23 CHUNKS.\n",
      "ANALYZING AUDIO... DONE! Time 1.4 SECONDS\n",
      "DONE! WROTE 19 RESULTS.\n",
      "READING AUDIO DATA... DONE! READ 3 CHUNKS.\n",
      "ANALYZING AUDIO... "
     ]
    },
    {
     "name": "stderr",
     "output_type": "stream",
     "text": [
      "/anaconda3/lib/python3.7/site-packages/librosa/util/decorators.py:88: UserWarning: PySoundFile failed. Trying audioread instead.\n",
      "  return f(*args, **kwargs)\n"
     ]
    },
    {
     "name": "stdout",
     "output_type": "stream",
     "text": [
      "DONE! Time 0.2 SECONDS\n",
      "DONE! WROTE 3 RESULTS.\n",
      "READING AUDIO DATA... "
     ]
    },
    {
     "name": "stderr",
     "output_type": "stream",
     "text": [
      "/anaconda3/lib/python3.7/site-packages/librosa/util/decorators.py:88: UserWarning: PySoundFile failed. Trying audioread instead.\n",
      "  return f(*args, **kwargs)\n"
     ]
    },
    {
     "name": "stdout",
     "output_type": "stream",
     "text": [
      "DONE! READ 6 CHUNKS.\n",
      "ANALYZING AUDIO... DONE! Time 0.5 SECONDS\n",
      "DONE! WROTE 6 RESULTS.\n",
      "READING AUDIO DATA... "
     ]
    },
    {
     "name": "stderr",
     "output_type": "stream",
     "text": [
      "/anaconda3/lib/python3.7/site-packages/librosa/util/decorators.py:88: UserWarning: PySoundFile failed. Trying audioread instead.\n",
      "  return f(*args, **kwargs)\n"
     ]
    },
    {
     "name": "stdout",
     "output_type": "stream",
     "text": [
      "DONE! READ 14 CHUNKS.\n",
      "ANALYZING AUDIO... DONE! Time 0.4 SECONDS\n",
      "DONE! WROTE 6 RESULTS.\n",
      "READING AUDIO DATA... DONE! READ 3 CHUNKS.\n",
      "ANALYZING AUDIO... "
     ]
    },
    {
     "name": "stderr",
     "output_type": "stream",
     "text": [
      "/anaconda3/lib/python3.7/site-packages/librosa/util/decorators.py:88: UserWarning: PySoundFile failed. Trying audioread instead.\n",
      "  return f(*args, **kwargs)\n"
     ]
    },
    {
     "name": "stdout",
     "output_type": "stream",
     "text": [
      "DONE! Time 0.2 SECONDS\n",
      "DONE! WROTE 3 RESULTS.\n",
      "READING AUDIO DATA... "
     ]
    },
    {
     "name": "stderr",
     "output_type": "stream",
     "text": [
      "/anaconda3/lib/python3.7/site-packages/librosa/util/decorators.py:88: UserWarning: PySoundFile failed. Trying audioread instead.\n",
      "  return f(*args, **kwargs)\n"
     ]
    },
    {
     "name": "stdout",
     "output_type": "stream",
     "text": [
      "DONE! READ 100 CHUNKS.\n",
      "ANALYZING AUDIO... DONE! Time 6.7 SECONDS\n",
      "DONE! WROTE 88 RESULTS.\n",
      "READING AUDIO DATA... DONE! READ 4 CHUNKS.\n",
      "ANALYZING AUDIO... "
     ]
    },
    {
     "name": "stderr",
     "output_type": "stream",
     "text": [
      "/anaconda3/lib/python3.7/site-packages/librosa/util/decorators.py:88: UserWarning: PySoundFile failed. Trying audioread instead.\n",
      "  return f(*args, **kwargs)\n"
     ]
    },
    {
     "name": "stdout",
     "output_type": "stream",
     "text": [
      "DONE! Time 0.2 SECONDS\n",
      "DONE! WROTE 3 RESULTS.\n",
      "READING AUDIO DATA... "
     ]
    },
    {
     "name": "stderr",
     "output_type": "stream",
     "text": [
      "/anaconda3/lib/python3.7/site-packages/librosa/util/decorators.py:88: UserWarning: PySoundFile failed. Trying audioread instead.\n",
      "  return f(*args, **kwargs)\n"
     ]
    },
    {
     "name": "stdout",
     "output_type": "stream",
     "text": [
      "DONE! READ 17 CHUNKS.\n",
      "ANALYZING AUDIO... DONE! Time 1.2 SECONDS\n",
      "DONE! WROTE 17 RESULTS.\n",
      "READING AUDIO DATA... DONE! READ 5 CHUNKS.\n",
      "ANALYZING AUDIO... "
     ]
    },
    {
     "name": "stderr",
     "output_type": "stream",
     "text": [
      "/anaconda3/lib/python3.7/site-packages/librosa/util/decorators.py:88: UserWarning: PySoundFile failed. Trying audioread instead.\n",
      "  return f(*args, **kwargs)\n"
     ]
    },
    {
     "name": "stdout",
     "output_type": "stream",
     "text": [
      "DONE! Time 0.2 SECONDS\n",
      "DONE! WROTE 3 RESULTS.\n",
      "READING AUDIO DATA... DONE! READ 1 CHUNKS.\n",
      "ANALYZING AUDIO... DONE! Time 0.0 SECONDS\n",
      "DONE! WROTE 1 RESULTS.\n",
      "READING AUDIO DATA... "
     ]
    },
    {
     "name": "stderr",
     "output_type": "stream",
     "text": [
      "/anaconda3/lib/python3.7/site-packages/librosa/util/decorators.py:88: UserWarning: PySoundFile failed. Trying audioread instead.\n",
      "  return f(*args, **kwargs)\n",
      "/anaconda3/lib/python3.7/site-packages/librosa/util/decorators.py:88: UserWarning: PySoundFile failed. Trying audioread instead.\n",
      "  return f(*args, **kwargs)\n"
     ]
    },
    {
     "name": "stdout",
     "output_type": "stream",
     "text": [
      "DONE! READ 1 CHUNKS.\n",
      "ANALYZING AUDIO... DONE! Time 0.0 SECONDS\n",
      "DONE! WROTE 1 RESULTS.\n",
      "READING AUDIO DATA... DONE! READ 2 CHUNKS.\n",
      "ANALYZING AUDIO... DONE! Time 0.0 SECONDS\n",
      "DONE! WROTE 1 RESULTS.\n",
      "READING AUDIO DATA... "
     ]
    },
    {
     "name": "stderr",
     "output_type": "stream",
     "text": [
      "/anaconda3/lib/python3.7/site-packages/librosa/util/decorators.py:88: UserWarning: PySoundFile failed. Trying audioread instead.\n",
      "  return f(*args, **kwargs)\n",
      "/anaconda3/lib/python3.7/site-packages/librosa/util/decorators.py:88: UserWarning: PySoundFile failed. Trying audioread instead.\n",
      "  return f(*args, **kwargs)\n"
     ]
    },
    {
     "name": "stdout",
     "output_type": "stream",
     "text": [
      "DONE! READ 23 CHUNKS.\n",
      "ANALYZING AUDIO... DONE! Time 1.1 SECONDS\n",
      "DONE! WROTE 15 RESULTS.\n",
      "READING AUDIO DATA... DONE! READ 3 CHUNKS.\n",
      "ANALYZING AUDIO... "
     ]
    },
    {
     "name": "stderr",
     "output_type": "stream",
     "text": [
      "/anaconda3/lib/python3.7/site-packages/librosa/util/decorators.py:88: UserWarning: PySoundFile failed. Trying audioread instead.\n",
      "  return f(*args, **kwargs)\n"
     ]
    },
    {
     "name": "stdout",
     "output_type": "stream",
     "text": [
      "DONE! Time 0.1 SECONDS\n",
      "DONE! WROTE 2 RESULTS.\n",
      "READING AUDIO DATA... "
     ]
    },
    {
     "name": "stderr",
     "output_type": "stream",
     "text": [
      "/anaconda3/lib/python3.7/site-packages/librosa/util/decorators.py:88: UserWarning: PySoundFile failed. Trying audioread instead.\n",
      "  return f(*args, **kwargs)\n"
     ]
    },
    {
     "name": "stdout",
     "output_type": "stream",
     "text": [
      "DONE! READ 12 CHUNKS.\n",
      "ANALYZING AUDIO... DONE! Time 0.8 SECONDS\n",
      "DONE! WROTE 11 RESULTS.\n",
      "READING AUDIO DATA... "
     ]
    },
    {
     "name": "stderr",
     "output_type": "stream",
     "text": [
      "/anaconda3/lib/python3.7/site-packages/librosa/util/decorators.py:88: UserWarning: PySoundFile failed. Trying audioread instead.\n",
      "  return f(*args, **kwargs)\n"
     ]
    },
    {
     "name": "stdout",
     "output_type": "stream",
     "text": [
      "DONE! READ 19 CHUNKS.\n",
      "ANALYZING AUDIO... DONE! Time 1.3 SECONDS\n",
      "DONE! WROTE 18 RESULTS.\n",
      "READING AUDIO DATA... DONE! READ 8 CHUNKS.\n",
      "ANALYZING AUDIO... "
     ]
    },
    {
     "name": "stderr",
     "output_type": "stream",
     "text": [
      "/anaconda3/lib/python3.7/site-packages/librosa/util/decorators.py:88: UserWarning: PySoundFile failed. Trying audioread instead.\n",
      "  return f(*args, **kwargs)\n"
     ]
    },
    {
     "name": "stdout",
     "output_type": "stream",
     "text": [
      "DONE! Time 0.3 SECONDS\n",
      "DONE! WROTE 4 RESULTS.\n",
      "READING AUDIO DATA... DONE! READ 29 CHUNKS.\n",
      "ANALYZING AUDIO... "
     ]
    },
    {
     "name": "stderr",
     "output_type": "stream",
     "text": [
      "/anaconda3/lib/python3.7/site-packages/librosa/util/decorators.py:88: UserWarning: PySoundFile failed. Trying audioread instead.\n",
      "  return f(*args, **kwargs)\n"
     ]
    },
    {
     "name": "stdout",
     "output_type": "stream",
     "text": [
      "DONE! Time 1.8 SECONDS\n",
      "DONE! WROTE 25 RESULTS.\n",
      "READING AUDIO DATA... "
     ]
    },
    {
     "name": "stderr",
     "output_type": "stream",
     "text": [
      "/anaconda3/lib/python3.7/site-packages/librosa/util/decorators.py:88: UserWarning: PySoundFile failed. Trying audioread instead.\n",
      "  return f(*args, **kwargs)\n"
     ]
    },
    {
     "name": "stdout",
     "output_type": "stream",
     "text": [
      "DONE! READ 11 CHUNKS.\n",
      "ANALYZING AUDIO... DONE! Time 0.4 SECONDS\n",
      "DONE! WROTE 5 RESULTS.\n",
      "READING AUDIO DATA... "
     ]
    },
    {
     "name": "stderr",
     "output_type": "stream",
     "text": [
      "/anaconda3/lib/python3.7/site-packages/librosa/util/decorators.py:88: UserWarning: PySoundFile failed. Trying audioread instead.\n",
      "  return f(*args, **kwargs)\n"
     ]
    },
    {
     "name": "stdout",
     "output_type": "stream",
     "text": [
      "DONE! READ 9 CHUNKS.\n",
      "ANALYZING AUDIO... DONE! Time 0.3 SECONDS\n",
      "DONE! WROTE 4 RESULTS.\n",
      "READING AUDIO DATA... "
     ]
    },
    {
     "name": "stderr",
     "output_type": "stream",
     "text": [
      "/anaconda3/lib/python3.7/site-packages/librosa/util/decorators.py:88: UserWarning: PySoundFile failed. Trying audioread instead.\n",
      "  return f(*args, **kwargs)\n"
     ]
    },
    {
     "name": "stdout",
     "output_type": "stream",
     "text": [
      "DONE! READ 9 CHUNKS.\n",
      "ANALYZING AUDIO... DONE! Time 0.3 SECONDS\n",
      "DONE! WROTE 4 RESULTS.\n",
      "READING AUDIO DATA... DONE! READ 17 CHUNKS.\n",
      "ANALYZING AUDIO... "
     ]
    },
    {
     "name": "stderr",
     "output_type": "stream",
     "text": [
      "/anaconda3/lib/python3.7/site-packages/librosa/util/decorators.py:88: UserWarning: PySoundFile failed. Trying audioread instead.\n",
      "  return f(*args, **kwargs)\n"
     ]
    },
    {
     "name": "stdout",
     "output_type": "stream",
     "text": [
      "DONE! Time 0.8 SECONDS\n",
      "DONE! WROTE 11 RESULTS.\n",
      "READING AUDIO DATA... "
     ]
    },
    {
     "name": "stderr",
     "output_type": "stream",
     "text": [
      "/anaconda3/lib/python3.7/site-packages/librosa/util/decorators.py:88: UserWarning: PySoundFile failed. Trying audioread instead.\n",
      "  return f(*args, **kwargs)\n"
     ]
    },
    {
     "name": "stdout",
     "output_type": "stream",
     "text": [
      "DONE! READ 21 CHUNKS.\n",
      "ANALYZING AUDIO... DONE! Time 0.9 SECONDS\n",
      "DONE! WROTE 12 RESULTS.\n",
      "READING AUDIO DATA... "
     ]
    },
    {
     "name": "stderr",
     "output_type": "stream",
     "text": [
      "/anaconda3/lib/python3.7/site-packages/librosa/util/decorators.py:88: UserWarning: PySoundFile failed. Trying audioread instead.\n",
      "  return f(*args, **kwargs)\n"
     ]
    },
    {
     "name": "stdout",
     "output_type": "stream",
     "text": [
      "DONE! READ 9 CHUNKS.\n",
      "ANALYZING AUDIO... DONE! Time 0.6 SECONDS\n",
      "DONE! WROTE 8 RESULTS.\n",
      "READING AUDIO DATA... "
     ]
    },
    {
     "name": "stderr",
     "output_type": "stream",
     "text": [
      "/anaconda3/lib/python3.7/site-packages/librosa/util/decorators.py:88: UserWarning: PySoundFile failed. Trying audioread instead.\n",
      "  return f(*args, **kwargs)\n"
     ]
    },
    {
     "name": "stdout",
     "output_type": "stream",
     "text": [
      "DONE! READ 7 CHUNKS.\n",
      "ANALYZING AUDIO... DONE! Time 0.5 SECONDS\n",
      "DONE! WROTE 7 RESULTS.\n",
      "READING AUDIO DATA... DONE! READ 4 CHUNKS.\n",
      "ANALYZING AUDIO... "
     ]
    },
    {
     "name": "stderr",
     "output_type": "stream",
     "text": [
      "/anaconda3/lib/python3.7/site-packages/librosa/util/decorators.py:88: UserWarning: PySoundFile failed. Trying audioread instead.\n",
      "  return f(*args, **kwargs)\n"
     ]
    },
    {
     "name": "stdout",
     "output_type": "stream",
     "text": [
      "DONE! Time 0.3 SECONDS\n",
      "DONE! WROTE 4 RESULTS.\n",
      "READING AUDIO DATA... "
     ]
    },
    {
     "name": "stderr",
     "output_type": "stream",
     "text": [
      "/anaconda3/lib/python3.7/site-packages/librosa/util/decorators.py:88: UserWarning: PySoundFile failed. Trying audioread instead.\n",
      "  return f(*args, **kwargs)\n"
     ]
    },
    {
     "name": "stdout",
     "output_type": "stream",
     "text": [
      "DONE! READ 19 CHUNKS.\n",
      "ANALYZING AUDIO... DONE! Time 0.9 SECONDS\n",
      "DONE! WROTE 13 RESULTS.\n",
      "READING AUDIO DATA... "
     ]
    },
    {
     "name": "stderr",
     "output_type": "stream",
     "text": [
      "/anaconda3/lib/python3.7/site-packages/librosa/util/decorators.py:88: UserWarning: PySoundFile failed. Trying audioread instead.\n",
      "  return f(*args, **kwargs)\n"
     ]
    },
    {
     "name": "stdout",
     "output_type": "stream",
     "text": [
      "DONE! READ 7 CHUNKS.\n",
      "ANALYZING AUDIO... DONE! Time 0.3 SECONDS\n",
      "DONE! WROTE 5 RESULTS.\n",
      "READING AUDIO DATA... DONE! READ 10 CHUNKS.\n",
      "ANALYZING AUDIO... DONE! Time 0.7 SECONDS\n",
      "DONE! WROTE 10 RESULTS.\n",
      "READING AUDIO DATA... "
     ]
    },
    {
     "name": "stderr",
     "output_type": "stream",
     "text": [
      "/anaconda3/lib/python3.7/site-packages/librosa/util/decorators.py:88: UserWarning: PySoundFile failed. Trying audioread instead.\n",
      "  return f(*args, **kwargs)\n"
     ]
    },
    {
     "name": "stdout",
     "output_type": "stream",
     "text": [
      "DONE! READ 14 CHUNKS.\n",
      "ANALYZING AUDIO... DONE! Time 0.9 SECONDS\n",
      "DONE! WROTE 13 RESULTS.\n",
      "READING AUDIO DATA... "
     ]
    },
    {
     "name": "stderr",
     "output_type": "stream",
     "text": [
      "/anaconda3/lib/python3.7/site-packages/librosa/util/decorators.py:88: UserWarning: PySoundFile failed. Trying audioread instead.\n",
      "  return f(*args, **kwargs)\n"
     ]
    },
    {
     "name": "stdout",
     "output_type": "stream",
     "text": [
      "DONE! READ 12 CHUNKS.\n",
      "ANALYZING AUDIO... DONE! Time 0.9 SECONDS\n",
      "DONE! WROTE 12 RESULTS.\n",
      "READING AUDIO DATA... "
     ]
    },
    {
     "name": "stderr",
     "output_type": "stream",
     "text": [
      "/anaconda3/lib/python3.7/site-packages/librosa/util/decorators.py:88: UserWarning: PySoundFile failed. Trying audioread instead.\n",
      "  return f(*args, **kwargs)\n"
     ]
    },
    {
     "name": "stdout",
     "output_type": "stream",
     "text": [
      "DONE! READ 10 CHUNKS.\n",
      "ANALYZING AUDIO... DONE! Time 0.5 SECONDS\n",
      "DONE! WROTE 7 RESULTS.\n",
      "READING AUDIO DATA... DONE! READ 4 CHUNKS.\n",
      "ANALYZING AUDIO... "
     ]
    },
    {
     "name": "stderr",
     "output_type": "stream",
     "text": [
      "/anaconda3/lib/python3.7/site-packages/librosa/util/decorators.py:88: UserWarning: PySoundFile failed. Trying audioread instead.\n",
      "  return f(*args, **kwargs)\n"
     ]
    },
    {
     "name": "stdout",
     "output_type": "stream",
     "text": [
      "DONE! Time 0.2 SECONDS\n",
      "DONE! WROTE 3 RESULTS.\n",
      "READING AUDIO DATA... "
     ]
    },
    {
     "name": "stderr",
     "output_type": "stream",
     "text": [
      "/anaconda3/lib/python3.7/site-packages/librosa/util/decorators.py:88: UserWarning: PySoundFile failed. Trying audioread instead.\n",
      "  return f(*args, **kwargs)\n"
     ]
    },
    {
     "name": "stdout",
     "output_type": "stream",
     "text": [
      "DONE! READ 6 CHUNKS.\n",
      "ANALYZING AUDIO... DONE! Time 0.3 SECONDS\n",
      "DONE! WROTE 4 RESULTS.\n",
      "READING AUDIO DATA... DONE! READ 5 CHUNKS.\n",
      "ANALYZING AUDIO... "
     ]
    },
    {
     "name": "stderr",
     "output_type": "stream",
     "text": [
      "/anaconda3/lib/python3.7/site-packages/librosa/util/decorators.py:88: UserWarning: PySoundFile failed. Trying audioread instead.\n",
      "  return f(*args, **kwargs)\n"
     ]
    },
    {
     "name": "stdout",
     "output_type": "stream",
     "text": [
      "DONE! Time 0.2 SECONDS\n",
      "DONE! WROTE 3 RESULTS.\n",
      "READING AUDIO DATA... DONE! READ 6 CHUNKS.\n",
      "ANALYZING AUDIO... "
     ]
    },
    {
     "name": "stderr",
     "output_type": "stream",
     "text": [
      "/anaconda3/lib/python3.7/site-packages/librosa/util/decorators.py:88: UserWarning: PySoundFile failed. Trying audioread instead.\n",
      "  return f(*args, **kwargs)\n"
     ]
    },
    {
     "name": "stdout",
     "output_type": "stream",
     "text": [
      "DONE! Time 0.4 SECONDS\n",
      "DONE! WROTE 6 RESULTS.\n",
      "READING AUDIO DATA... "
     ]
    },
    {
     "name": "stderr",
     "output_type": "stream",
     "text": [
      "/anaconda3/lib/python3.7/site-packages/librosa/util/decorators.py:88: UserWarning: PySoundFile failed. Trying audioread instead.\n",
      "  return f(*args, **kwargs)\n"
     ]
    },
    {
     "name": "stdout",
     "output_type": "stream",
     "text": [
      "DONE! READ 7 CHUNKS.\n",
      "ANALYZING AUDIO... DONE! Time 0.3 SECONDS\n",
      "DONE! WROTE 5 RESULTS.\n",
      "READING AUDIO DATA... "
     ]
    },
    {
     "name": "stderr",
     "output_type": "stream",
     "text": [
      "/anaconda3/lib/python3.7/site-packages/librosa/util/decorators.py:88: UserWarning: PySoundFile failed. Trying audioread instead.\n",
      "  return f(*args, **kwargs)\n"
     ]
    },
    {
     "name": "stdout",
     "output_type": "stream",
     "text": [
      "DONE! READ 13 CHUNKS.\n",
      "ANALYZING AUDIO... DONE! Time 0.6 SECONDS\n",
      "DONE! WROTE 9 RESULTS.\n",
      "READING AUDIO DATA... DONE! READ 3 CHUNKS.\n",
      "ANALYZING AUDIO... "
     ]
    },
    {
     "name": "stderr",
     "output_type": "stream",
     "text": [
      "/anaconda3/lib/python3.7/site-packages/librosa/util/decorators.py:88: UserWarning: PySoundFile failed. Trying audioread instead.\n",
      "  return f(*args, **kwargs)\n"
     ]
    },
    {
     "name": "stdout",
     "output_type": "stream",
     "text": [
      "DONE! Time 0.1 SECONDS\n",
      "DONE! WROTE 2 RESULTS.\n",
      "READING AUDIO DATA... DONE! READ 2 CHUNKS.\n",
      "ANALYZING AUDIO... DONE! Time 0.0 SECONDS\n",
      "DONE! WROTE 1 RESULTS.\n",
      "READING AUDIO DATA... "
     ]
    },
    {
     "name": "stderr",
     "output_type": "stream",
     "text": [
      "/anaconda3/lib/python3.7/site-packages/librosa/util/decorators.py:88: UserWarning: PySoundFile failed. Trying audioread instead.\n",
      "  return f(*args, **kwargs)\n",
      "/anaconda3/lib/python3.7/site-packages/librosa/util/decorators.py:88: UserWarning: PySoundFile failed. Trying audioread instead.\n",
      "  return f(*args, **kwargs)\n"
     ]
    },
    {
     "name": "stdout",
     "output_type": "stream",
     "text": [
      "DONE! READ 2 CHUNKS.\n",
      "ANALYZING AUDIO... DONE! Time 0.0 SECONDS\n",
      "DONE! WROTE 1 RESULTS.\n",
      "READING AUDIO DATA... "
     ]
    },
    {
     "name": "stderr",
     "output_type": "stream",
     "text": [
      "/anaconda3/lib/python3.7/site-packages/librosa/util/decorators.py:88: UserWarning: PySoundFile failed. Trying audioread instead.\n",
      "  return f(*args, **kwargs)\n"
     ]
    },
    {
     "name": "stdout",
     "output_type": "stream",
     "text": [
      "DONE! READ 8 CHUNKS.\n",
      "ANALYZING AUDIO... DONE! Time 0.3 SECONDS\n",
      "DONE! WROTE 5 RESULTS.\n",
      "READING AUDIO DATA... "
     ]
    },
    {
     "name": "stderr",
     "output_type": "stream",
     "text": [
      "/anaconda3/lib/python3.7/site-packages/librosa/util/decorators.py:88: UserWarning: PySoundFile failed. Trying audioread instead.\n",
      "  return f(*args, **kwargs)\n"
     ]
    },
    {
     "name": "stdout",
     "output_type": "stream",
     "text": [
      "DONE! READ 19 CHUNKS.\n",
      "ANALYZING AUDIO... DONE! Time 0.5 SECONDS\n",
      "DONE! WROTE 8 RESULTS.\n",
      "READING AUDIO DATA... "
     ]
    },
    {
     "name": "stderr",
     "output_type": "stream",
     "text": [
      "/anaconda3/lib/python3.7/site-packages/librosa/util/decorators.py:88: UserWarning: PySoundFile failed. Trying audioread instead.\n",
      "  return f(*args, **kwargs)\n"
     ]
    },
    {
     "name": "stdout",
     "output_type": "stream",
     "text": [
      "DONE! READ 11 CHUNKS.\n",
      "ANALYZING AUDIO... DONE! Time 0.5 SECONDS\n",
      "DONE! WROTE 8 RESULTS.\n",
      "READING AUDIO DATA... "
     ]
    },
    {
     "name": "stderr",
     "output_type": "stream",
     "text": [
      "/anaconda3/lib/python3.7/site-packages/librosa/util/decorators.py:88: UserWarning: PySoundFile failed. Trying audioread instead.\n",
      "  return f(*args, **kwargs)\n"
     ]
    },
    {
     "name": "stdout",
     "output_type": "stream",
     "text": [
      "DONE! READ 5 CHUNKS.\n",
      "ANALYZING AUDIO... DONE! Time 0.3 SECONDS\n",
      "DONE! WROTE 4 RESULTS.\n",
      "READING AUDIO DATA... DONE! READ 18 CHUNKS.\n",
      "ANALYZING AUDIO... "
     ]
    },
    {
     "name": "stderr",
     "output_type": "stream",
     "text": [
      "/anaconda3/lib/python3.7/site-packages/librosa/util/decorators.py:88: UserWarning: PySoundFile failed. Trying audioread instead.\n",
      "  return f(*args, **kwargs)\n"
     ]
    },
    {
     "name": "stdout",
     "output_type": "stream",
     "text": [
      "DONE! Time 1.3 SECONDS\n",
      "DONE! WROTE 18 RESULTS.\n",
      "READING AUDIO DATA... DONE! READ 14 CHUNKS.\n",
      "ANALYZING AUDIO... "
     ]
    },
    {
     "name": "stderr",
     "output_type": "stream",
     "text": [
      "/anaconda3/lib/python3.7/site-packages/librosa/util/decorators.py:88: UserWarning: PySoundFile failed. Trying audioread instead.\n",
      "  return f(*args, **kwargs)\n"
     ]
    },
    {
     "name": "stdout",
     "output_type": "stream",
     "text": [
      "DONE! Time 0.8 SECONDS\n",
      "DONE! WROTE 11 RESULTS.\n",
      "READING AUDIO DATA... DONE! READ 2 CHUNKS.\n",
      "ANALYZING AUDIO... "
     ]
    },
    {
     "name": "stderr",
     "output_type": "stream",
     "text": [
      "/anaconda3/lib/python3.7/site-packages/librosa/util/decorators.py:88: UserWarning: PySoundFile failed. Trying audioread instead.\n",
      "  return f(*args, **kwargs)\n"
     ]
    },
    {
     "name": "stdout",
     "output_type": "stream",
     "text": [
      "DONE! Time 0.1 SECONDS\n",
      "DONE! WROTE 2 RESULTS.\n",
      "READING AUDIO DATA... DONE! READ 13 CHUNKS.\n",
      "ANALYZING AUDIO... "
     ]
    },
    {
     "name": "stderr",
     "output_type": "stream",
     "text": [
      "/anaconda3/lib/python3.7/site-packages/librosa/util/decorators.py:88: UserWarning: PySoundFile failed. Trying audioread instead.\n",
      "  return f(*args, **kwargs)\n"
     ]
    },
    {
     "name": "stdout",
     "output_type": "stream",
     "text": [
      "DONE! Time 0.9 SECONDS\n",
      "DONE! WROTE 13 RESULTS.\n",
      "READING AUDIO DATA... "
     ]
    },
    {
     "name": "stderr",
     "output_type": "stream",
     "text": [
      "/anaconda3/lib/python3.7/site-packages/librosa/util/decorators.py:88: UserWarning: PySoundFile failed. Trying audioread instead.\n",
      "  return f(*args, **kwargs)\n"
     ]
    },
    {
     "name": "stdout",
     "output_type": "stream",
     "text": [
      "DONE! READ 25 CHUNKS.\n",
      "ANALYZING AUDIO... DONE! Time 1.7 SECONDS\n",
      "DONE! WROTE 23 RESULTS.\n",
      "READING AUDIO DATA... "
     ]
    },
    {
     "name": "stderr",
     "output_type": "stream",
     "text": [
      "/anaconda3/lib/python3.7/site-packages/librosa/util/decorators.py:88: UserWarning: PySoundFile failed. Trying audioread instead.\n",
      "  return f(*args, **kwargs)\n"
     ]
    },
    {
     "name": "stdout",
     "output_type": "stream",
     "text": [
      "DONE! READ 33 CHUNKS.\n",
      "ANALYZING AUDIO... DONE! Time 1.3 SECONDS\n",
      "DONE! WROTE 18 RESULTS.\n",
      "READING AUDIO DATA... "
     ]
    },
    {
     "name": "stderr",
     "output_type": "stream",
     "text": [
      "/anaconda3/lib/python3.7/site-packages/librosa/util/decorators.py:88: UserWarning: PySoundFile failed. Trying audioread instead.\n",
      "  return f(*args, **kwargs)\n"
     ]
    },
    {
     "name": "stdout",
     "output_type": "stream",
     "text": [
      "DONE! READ 16 CHUNKS.\n",
      "ANALYZING AUDIO... DONE! Time 0.3 SECONDS\n",
      "DONE! WROTE 4 RESULTS.\n",
      "READING AUDIO DATA... DONE! READ 17 CHUNKS.\n",
      "ANALYZING AUDIO... "
     ]
    },
    {
     "name": "stderr",
     "output_type": "stream",
     "text": [
      "/anaconda3/lib/python3.7/site-packages/librosa/util/decorators.py:88: UserWarning: PySoundFile failed. Trying audioread instead.\n",
      "  return f(*args, **kwargs)\n"
     ]
    },
    {
     "name": "stdout",
     "output_type": "stream",
     "text": [
      "DONE! Time 0.7 SECONDS\n",
      "DONE! WROTE 10 RESULTS.\n",
      "READING AUDIO DATA... DONE! READ 7 CHUNKS.\n",
      "ANALYZING AUDIO... "
     ]
    },
    {
     "name": "stderr",
     "output_type": "stream",
     "text": [
      "/anaconda3/lib/python3.7/site-packages/librosa/util/decorators.py:88: UserWarning: PySoundFile failed. Trying audioread instead.\n",
      "  return f(*args, **kwargs)\n"
     ]
    },
    {
     "name": "stdout",
     "output_type": "stream",
     "text": [
      "DONE! Time 0.5 SECONDS\n",
      "DONE! WROTE 7 RESULTS.\n",
      "READING AUDIO DATA... DONE! READ 3 CHUNKS.\n",
      "ANALYZING AUDIO... "
     ]
    },
    {
     "name": "stderr",
     "output_type": "stream",
     "text": [
      "/anaconda3/lib/python3.7/site-packages/librosa/util/decorators.py:88: UserWarning: PySoundFile failed. Trying audioread instead.\n",
      "  return f(*args, **kwargs)\n"
     ]
    },
    {
     "name": "stdout",
     "output_type": "stream",
     "text": [
      "DONE! Time 0.2 SECONDS\n",
      "DONE! WROTE 3 RESULTS.\n",
      "READING AUDIO DATA... "
     ]
    },
    {
     "name": "stderr",
     "output_type": "stream",
     "text": [
      "/anaconda3/lib/python3.7/site-packages/librosa/util/decorators.py:88: UserWarning: PySoundFile failed. Trying audioread instead.\n",
      "  return f(*args, **kwargs)\n"
     ]
    },
    {
     "name": "stdout",
     "output_type": "stream",
     "text": [
      "DONE! READ 15 CHUNKS.\n",
      "ANALYZING AUDIO... DONE! Time 0.8 SECONDS\n",
      "DONE! WROTE 12 RESULTS.\n",
      "READING AUDIO DATA... "
     ]
    },
    {
     "name": "stderr",
     "output_type": "stream",
     "text": [
      "/anaconda3/lib/python3.7/site-packages/librosa/util/decorators.py:88: UserWarning: PySoundFile failed. Trying audioread instead.\n",
      "  return f(*args, **kwargs)\n"
     ]
    },
    {
     "name": "stdout",
     "output_type": "stream",
     "text": [
      "DONE! READ 26 CHUNKS.\n",
      "ANALYZING AUDIO... DONE! Time 0.9 SECONDS\n",
      "DONE! WROTE 13 RESULTS.\n",
      "READING AUDIO DATA... "
     ]
    },
    {
     "name": "stderr",
     "output_type": "stream",
     "text": [
      "/anaconda3/lib/python3.7/site-packages/librosa/util/decorators.py:88: UserWarning: PySoundFile failed. Trying audioread instead.\n",
      "  return f(*args, **kwargs)\n"
     ]
    },
    {
     "name": "stdout",
     "output_type": "stream",
     "text": [
      "DONE! READ 32 CHUNKS.\n",
      "ANALYZING AUDIO... DONE! Time 1.9 SECONDS\n",
      "DONE! WROTE 27 RESULTS.\n",
      "READING AUDIO DATA... "
     ]
    },
    {
     "name": "stderr",
     "output_type": "stream",
     "text": [
      "/anaconda3/lib/python3.7/site-packages/librosa/util/decorators.py:88: UserWarning: PySoundFile failed. Trying audioread instead.\n",
      "  return f(*args, **kwargs)\n"
     ]
    },
    {
     "name": "stdout",
     "output_type": "stream",
     "text": [
      "DONE! READ 9 CHUNKS.\n",
      "ANALYZING AUDIO... DONE! Time 0.5 SECONDS\n",
      "DONE! WROTE 8 RESULTS.\n",
      "READING AUDIO DATA... "
     ]
    },
    {
     "name": "stderr",
     "output_type": "stream",
     "text": [
      "/anaconda3/lib/python3.7/site-packages/librosa/util/decorators.py:88: UserWarning: PySoundFile failed. Trying audioread instead.\n",
      "  return f(*args, **kwargs)\n"
     ]
    },
    {
     "name": "stdout",
     "output_type": "stream",
     "text": [
      "DONE! READ 40 CHUNKS.\n",
      "ANALYZING AUDIO... DONE! Time 1.7 SECONDS\n",
      "DONE! WROTE 23 RESULTS.\n",
      "READING AUDIO DATA... DONE! READ 5 CHUNKS.\n",
      "ANALYZING AUDIO... "
     ]
    },
    {
     "name": "stderr",
     "output_type": "stream",
     "text": [
      "/anaconda3/lib/python3.7/site-packages/librosa/util/decorators.py:88: UserWarning: PySoundFile failed. Trying audioread instead.\n",
      "  return f(*args, **kwargs)\n"
     ]
    },
    {
     "name": "stdout",
     "output_type": "stream",
     "text": [
      "DONE! Time 0.3 SECONDS\n",
      "DONE! WROTE 4 RESULTS.\n",
      "READING AUDIO DATA... DONE! READ 3 CHUNKS.\n",
      "ANALYZING AUDIO... "
     ]
    },
    {
     "name": "stderr",
     "output_type": "stream",
     "text": [
      "/anaconda3/lib/python3.7/site-packages/librosa/util/decorators.py:88: UserWarning: PySoundFile failed. Trying audioread instead.\n",
      "  return f(*args, **kwargs)\n"
     ]
    },
    {
     "name": "stdout",
     "output_type": "stream",
     "text": [
      "DONE! Time 0.2 SECONDS\n",
      "DONE! WROTE 3 RESULTS.\n",
      "READING AUDIO DATA... "
     ]
    },
    {
     "name": "stderr",
     "output_type": "stream",
     "text": [
      "/anaconda3/lib/python3.7/site-packages/librosa/util/decorators.py:88: UserWarning: PySoundFile failed. Trying audioread instead.\n",
      "  return f(*args, **kwargs)\n"
     ]
    },
    {
     "name": "stdout",
     "output_type": "stream",
     "text": [
      "DONE! READ 11 CHUNKS.\n",
      "ANALYZING AUDIO... DONE! Time 0.8 SECONDS\n",
      "DONE! WROTE 11 RESULTS.\n",
      "READING AUDIO DATA... DONE! READ 5 CHUNKS.\n",
      "ANALYZING AUDIO... "
     ]
    },
    {
     "name": "stderr",
     "output_type": "stream",
     "text": [
      "/anaconda3/lib/python3.7/site-packages/librosa/util/decorators.py:88: UserWarning: PySoundFile failed. Trying audioread instead.\n",
      "  return f(*args, **kwargs)\n"
     ]
    },
    {
     "name": "stdout",
     "output_type": "stream",
     "text": [
      "DONE! Time 0.4 SECONDS\n",
      "DONE! WROTE 4 RESULTS.\n",
      "READING AUDIO DATA... "
     ]
    },
    {
     "name": "stderr",
     "output_type": "stream",
     "text": [
      "/anaconda3/lib/python3.7/site-packages/librosa/util/decorators.py:88: UserWarning: PySoundFile failed. Trying audioread instead.\n",
      "  return f(*args, **kwargs)\n"
     ]
    },
    {
     "name": "stdout",
     "output_type": "stream",
     "text": [
      "DONE! READ 6 CHUNKS.\n",
      "ANALYZING AUDIO... DONE! Time 0.4 SECONDS\n",
      "DONE! WROTE 4 RESULTS.\n",
      "READING AUDIO DATA... DONE! READ 3 CHUNKS.\n",
      "ANALYZING AUDIO... "
     ]
    },
    {
     "name": "stderr",
     "output_type": "stream",
     "text": [
      "/anaconda3/lib/python3.7/site-packages/librosa/util/decorators.py:88: UserWarning: PySoundFile failed. Trying audioread instead.\n",
      "  return f(*args, **kwargs)\n"
     ]
    },
    {
     "name": "stdout",
     "output_type": "stream",
     "text": [
      "DONE! Time 0.1 SECONDS\n",
      "DONE! WROTE 2 RESULTS.\n",
      "READING AUDIO DATA... "
     ]
    },
    {
     "name": "stderr",
     "output_type": "stream",
     "text": [
      "/anaconda3/lib/python3.7/site-packages/librosa/util/decorators.py:88: UserWarning: PySoundFile failed. Trying audioread instead.\n",
      "  return f(*args, **kwargs)\n"
     ]
    },
    {
     "name": "stdout",
     "output_type": "stream",
     "text": [
      "DONE! READ 18 CHUNKS.\n",
      "ANALYZING AUDIO... DONE! Time 1.4 SECONDS\n",
      "DONE! WROTE 18 RESULTS.\n",
      "READING AUDIO DATA... local variable 'sig' referenced before assignment\n",
      "Error in processing file: /Users/vanessasalgado/Desktop/E4E-Acoustics.nosync/PyHa/cosmos_random_sample_processing/XC73329 - Scaly-breasted Woodpecker - Celeus grammicus.mp3\n",
      "READING AUDIO DATA... "
     ]
    },
    {
     "name": "stderr",
     "output_type": "stream",
     "text": [
      "/anaconda3/lib/python3.7/site-packages/librosa/util/decorators.py:88: UserWarning: PySoundFile failed. Trying audioread instead.\n",
      "  return f(*args, **kwargs)\n"
     ]
    },
    {
     "name": "stdout",
     "output_type": "stream",
     "text": [
      "DONE! READ 10 CHUNKS.\n",
      "ANALYZING AUDIO... DONE! Time 0.7 SECONDS\n",
      "DONE! WROTE 10 RESULTS.\n",
      "READING AUDIO DATA... "
     ]
    },
    {
     "name": "stderr",
     "output_type": "stream",
     "text": [
      "/anaconda3/lib/python3.7/site-packages/librosa/util/decorators.py:88: UserWarning: PySoundFile failed. Trying audioread instead.\n",
      "  return f(*args, **kwargs)\n"
     ]
    },
    {
     "name": "stdout",
     "output_type": "stream",
     "text": [
      "DONE! READ 9 CHUNKS.\n",
      "ANALYZING AUDIO... DONE! Time 0.6 SECONDS\n",
      "DONE! WROTE 9 RESULTS.\n",
      "READING AUDIO DATA... "
     ]
    },
    {
     "name": "stderr",
     "output_type": "stream",
     "text": [
      "/anaconda3/lib/python3.7/site-packages/librosa/util/decorators.py:88: UserWarning: PySoundFile failed. Trying audioread instead.\n",
      "  return f(*args, **kwargs)\n"
     ]
    },
    {
     "name": "stdout",
     "output_type": "stream",
     "text": [
      "DONE! READ 7 CHUNKS.\n",
      "ANALYZING AUDIO... DONE! Time 0.4 SECONDS\n",
      "DONE! WROTE 6 RESULTS.\n",
      "READING AUDIO DATA... DONE! READ 3 CHUNKS.\n",
      "ANALYZING AUDIO... "
     ]
    },
    {
     "name": "stderr",
     "output_type": "stream",
     "text": [
      "/anaconda3/lib/python3.7/site-packages/librosa/util/decorators.py:88: UserWarning: PySoundFile failed. Trying audioread instead.\n",
      "  return f(*args, **kwargs)\n"
     ]
    },
    {
     "name": "stdout",
     "output_type": "stream",
     "text": [
      "DONE! Time 0.2 SECONDS\n",
      "DONE! WROTE 3 RESULTS.\n",
      "READING AUDIO DATA... "
     ]
    },
    {
     "name": "stderr",
     "output_type": "stream",
     "text": [
      "/anaconda3/lib/python3.7/site-packages/librosa/util/decorators.py:88: UserWarning: PySoundFile failed. Trying audioread instead.\n",
      "  return f(*args, **kwargs)\n"
     ]
    },
    {
     "name": "stdout",
     "output_type": "stream",
     "text": [
      "DONE! READ 10 CHUNKS.\n",
      "ANALYZING AUDIO... DONE! Time 0.6 SECONDS\n",
      "DONE! WROTE 9 RESULTS.\n",
      "READING AUDIO DATA... DONE! READ 2 CHUNKS.\n",
      "ANALYZING AUDIO... "
     ]
    },
    {
     "name": "stderr",
     "output_type": "stream",
     "text": [
      "/anaconda3/lib/python3.7/site-packages/librosa/util/decorators.py:88: UserWarning: PySoundFile failed. Trying audioread instead.\n",
      "  return f(*args, **kwargs)\n"
     ]
    },
    {
     "name": "stdout",
     "output_type": "stream",
     "text": [
      "DONE! Time 0.1 SECONDS\n",
      "DONE! WROTE 2 RESULTS.\n",
      "READING AUDIO DATA... "
     ]
    },
    {
     "name": "stderr",
     "output_type": "stream",
     "text": [
      "/anaconda3/lib/python3.7/site-packages/librosa/util/decorators.py:88: UserWarning: PySoundFile failed. Trying audioread instead.\n",
      "  return f(*args, **kwargs)\n"
     ]
    },
    {
     "name": "stdout",
     "output_type": "stream",
     "text": [
      "DONE! READ 22 CHUNKS.\n",
      "ANALYZING AUDIO... DONE! Time 0.9 SECONDS\n",
      "DONE! WROTE 13 RESULTS.\n",
      "READING AUDIO DATA... "
     ]
    },
    {
     "name": "stderr",
     "output_type": "stream",
     "text": [
      "/anaconda3/lib/python3.7/site-packages/librosa/util/decorators.py:88: UserWarning: PySoundFile failed. Trying audioread instead.\n",
      "  return f(*args, **kwargs)\n"
     ]
    },
    {
     "name": "stdout",
     "output_type": "stream",
     "text": [
      "DONE! READ 21 CHUNKS.\n",
      "ANALYZING AUDIO... DONE! Time 1.1 SECONDS\n",
      "DONE! WROTE 15 RESULTS.\n",
      "READING AUDIO DATA... "
     ]
    },
    {
     "name": "stderr",
     "output_type": "stream",
     "text": [
      "/anaconda3/lib/python3.7/site-packages/librosa/util/decorators.py:88: UserWarning: PySoundFile failed. Trying audioread instead.\n",
      "  return f(*args, **kwargs)\n"
     ]
    },
    {
     "name": "stdout",
     "output_type": "stream",
     "text": [
      "DONE! READ 12 CHUNKS.\n",
      "ANALYZING AUDIO... DONE! Time 0.8 SECONDS\n",
      "DONE! WROTE 11 RESULTS.\n",
      "READING AUDIO DATA... "
     ]
    },
    {
     "name": "stderr",
     "output_type": "stream",
     "text": [
      "/anaconda3/lib/python3.7/site-packages/librosa/util/decorators.py:88: UserWarning: PySoundFile failed. Trying audioread instead.\n",
      "  return f(*args, **kwargs)\n"
     ]
    },
    {
     "name": "stdout",
     "output_type": "stream",
     "text": [
      "DONE! READ 15 CHUNKS.\n",
      "ANALYZING AUDIO... DONE! Time 1.0 SECONDS\n",
      "DONE! WROTE 14 RESULTS.\n",
      "READING AUDIO DATA... DONE! READ 2 CHUNKS.\n",
      "ANALYZING AUDIO... DONE! Time 0.0 SECONDS\n",
      "DONE! WROTE 1 RESULTS.\n",
      "READING AUDIO DATA... "
     ]
    },
    {
     "name": "stderr",
     "output_type": "stream",
     "text": [
      "/anaconda3/lib/python3.7/site-packages/librosa/util/decorators.py:88: UserWarning: PySoundFile failed. Trying audioread instead.\n",
      "  return f(*args, **kwargs)\n",
      "/anaconda3/lib/python3.7/site-packages/librosa/util/decorators.py:88: UserWarning: PySoundFile failed. Trying audioread instead.\n",
      "  return f(*args, **kwargs)\n"
     ]
    },
    {
     "name": "stdout",
     "output_type": "stream",
     "text": [
      "DONE! READ 16 CHUNKS.\n",
      "ANALYZING AUDIO... DONE! Time 0.9 SECONDS\n",
      "DONE! WROTE 12 RESULTS.\n",
      "READING AUDIO DATA... "
     ]
    },
    {
     "name": "stderr",
     "output_type": "stream",
     "text": [
      "/anaconda3/lib/python3.7/site-packages/librosa/util/decorators.py:88: UserWarning: PySoundFile failed. Trying audioread instead.\n",
      "  return f(*args, **kwargs)\n"
     ]
    },
    {
     "name": "stdout",
     "output_type": "stream",
     "text": [
      "DONE! READ 22 CHUNKS.\n",
      "ANALYZING AUDIO... DONE! Time 1.4 SECONDS\n",
      "DONE! WROTE 19 RESULTS.\n",
      "READING AUDIO DATA... DONE! READ 4 CHUNKS.\n",
      "ANALYZING AUDIO... "
     ]
    },
    {
     "name": "stderr",
     "output_type": "stream",
     "text": [
      "/anaconda3/lib/python3.7/site-packages/librosa/util/decorators.py:88: UserWarning: PySoundFile failed. Trying audioread instead.\n",
      "  return f(*args, **kwargs)\n"
     ]
    },
    {
     "name": "stdout",
     "output_type": "stream",
     "text": [
      "DONE! Time 0.2 SECONDS\n",
      "DONE! WROTE 3 RESULTS.\n",
      "READING AUDIO DATA... "
     ]
    },
    {
     "name": "stderr",
     "output_type": "stream",
     "text": [
      "/anaconda3/lib/python3.7/site-packages/librosa/util/decorators.py:88: UserWarning: PySoundFile failed. Trying audioread instead.\n",
      "  return f(*args, **kwargs)\n"
     ]
    },
    {
     "name": "stdout",
     "output_type": "stream",
     "text": [
      "DONE! READ 8 CHUNKS.\n",
      "ANALYZING AUDIO... DONE! Time 0.3 SECONDS\n",
      "DONE! WROTE 5 RESULTS.\n",
      "READING AUDIO DATA... DONE! READ 4 CHUNKS.\n",
      "ANALYZING AUDIO... "
     ]
    },
    {
     "name": "stderr",
     "output_type": "stream",
     "text": [
      "/anaconda3/lib/python3.7/site-packages/librosa/util/decorators.py:88: UserWarning: PySoundFile failed. Trying audioread instead.\n",
      "  return f(*args, **kwargs)\n"
     ]
    },
    {
     "name": "stdout",
     "output_type": "stream",
     "text": [
      "DONE! Time 0.2 SECONDS\n",
      "DONE! WROTE 3 RESULTS.\n",
      "READING AUDIO DATA... "
     ]
    },
    {
     "name": "stderr",
     "output_type": "stream",
     "text": [
      "/anaconda3/lib/python3.7/site-packages/librosa/util/decorators.py:88: UserWarning: PySoundFile failed. Trying audioread instead.\n",
      "  return f(*args, **kwargs)\n"
     ]
    },
    {
     "name": "stdout",
     "output_type": "stream",
     "text": [
      "DONE! READ 16 CHUNKS.\n",
      "ANALYZING AUDIO... DONE! Time 1.1 SECONDS\n",
      "DONE! WROTE 16 RESULTS.\n",
      "READING AUDIO DATA... "
     ]
    },
    {
     "name": "stderr",
     "output_type": "stream",
     "text": [
      "/anaconda3/lib/python3.7/site-packages/librosa/util/decorators.py:88: UserWarning: PySoundFile failed. Trying audioread instead.\n",
      "  return f(*args, **kwargs)\n"
     ]
    },
    {
     "name": "stdout",
     "output_type": "stream",
     "text": [
      "DONE! READ 10 CHUNKS.\n",
      "ANALYZING AUDIO... DONE! Time 0.6 SECONDS\n",
      "DONE! WROTE 9 RESULTS.\n",
      "READING AUDIO DATA... "
     ]
    },
    {
     "name": "stderr",
     "output_type": "stream",
     "text": [
      "/anaconda3/lib/python3.7/site-packages/librosa/util/decorators.py:88: UserWarning: PySoundFile failed. Trying audioread instead.\n",
      "  return f(*args, **kwargs)\n"
     ]
    },
    {
     "name": "stdout",
     "output_type": "stream",
     "text": [
      "DONE! READ 88 CHUNKS.\n",
      "ANALYZING AUDIO... DONE! Time 4.3 SECONDS\n",
      "DONE! WROTE 54 RESULTS.\n",
      "READING AUDIO DATA... "
     ]
    },
    {
     "name": "stderr",
     "output_type": "stream",
     "text": [
      "/anaconda3/lib/python3.7/site-packages/librosa/util/decorators.py:88: UserWarning: PySoundFile failed. Trying audioread instead.\n",
      "  return f(*args, **kwargs)\n"
     ]
    },
    {
     "name": "stdout",
     "output_type": "stream",
     "text": [
      "DONE! READ 10 CHUNKS.\n",
      "ANALYZING AUDIO... DONE! Time 0.7 SECONDS\n",
      "DONE! WROTE 9 RESULTS.\n",
      "READING AUDIO DATA... DONE! READ 1 CHUNKS.\n",
      "ANALYZING AUDIO... DONE! Time 0.0 SECONDS\n",
      "DONE! WROTE 1 RESULTS.\n",
      "READING AUDIO DATA... "
     ]
    },
    {
     "name": "stderr",
     "output_type": "stream",
     "text": [
      "/anaconda3/lib/python3.7/site-packages/librosa/util/decorators.py:88: UserWarning: PySoundFile failed. Trying audioread instead.\n",
      "  return f(*args, **kwargs)\n",
      "/anaconda3/lib/python3.7/site-packages/librosa/util/decorators.py:88: UserWarning: PySoundFile failed. Trying audioread instead.\n",
      "  return f(*args, **kwargs)\n"
     ]
    },
    {
     "name": "stdout",
     "output_type": "stream",
     "text": [
      "DONE! READ 7 CHUNKS.\n",
      "ANALYZING AUDIO... DONE! Time 0.3 SECONDS\n",
      "DONE! WROTE 5 RESULTS.\n",
      "READING AUDIO DATA... "
     ]
    },
    {
     "name": "stderr",
     "output_type": "stream",
     "text": [
      "/anaconda3/lib/python3.7/site-packages/librosa/util/decorators.py:88: UserWarning: PySoundFile failed. Trying audioread instead.\n",
      "  return f(*args, **kwargs)\n"
     ]
    },
    {
     "name": "stdout",
     "output_type": "stream",
     "text": [
      "DONE! READ 14 CHUNKS.\n",
      "ANALYZING AUDIO... DONE! Time 0.6 SECONDS\n",
      "DONE! WROTE 8 RESULTS.\n",
      "READING AUDIO DATA... "
     ]
    },
    {
     "name": "stderr",
     "output_type": "stream",
     "text": [
      "/anaconda3/lib/python3.7/site-packages/librosa/util/decorators.py:88: UserWarning: PySoundFile failed. Trying audioread instead.\n",
      "  return f(*args, **kwargs)\n"
     ]
    },
    {
     "name": "stdout",
     "output_type": "stream",
     "text": [
      "DONE! READ 16 CHUNKS.\n",
      "ANALYZING AUDIO... DONE! Time 0.6 SECONDS\n",
      "DONE! WROTE 8 RESULTS.\n",
      "READING AUDIO DATA... DONE! READ 3 CHUNKS.\n",
      "ANALYZING AUDIO... "
     ]
    },
    {
     "name": "stderr",
     "output_type": "stream",
     "text": [
      "/anaconda3/lib/python3.7/site-packages/librosa/util/decorators.py:88: UserWarning: PySoundFile failed. Trying audioread instead.\n",
      "  return f(*args, **kwargs)\n"
     ]
    },
    {
     "name": "stdout",
     "output_type": "stream",
     "text": [
      "DONE! Time 0.1 SECONDS\n",
      "DONE! WROTE 2 RESULTS.\n",
      "READING AUDIO DATA... "
     ]
    },
    {
     "name": "stderr",
     "output_type": "stream",
     "text": [
      "/anaconda3/lib/python3.7/site-packages/librosa/util/decorators.py:88: UserWarning: PySoundFile failed. Trying audioread instead.\n",
      "  return f(*args, **kwargs)\n"
     ]
    },
    {
     "name": "stdout",
     "output_type": "stream",
     "text": [
      "DONE! READ 10 CHUNKS.\n",
      "ANALYZING AUDIO... DONE! Time 0.6 SECONDS\n",
      "DONE! WROTE 9 RESULTS.\n",
      "READING AUDIO DATA... "
     ]
    },
    {
     "name": "stderr",
     "output_type": "stream",
     "text": [
      "/anaconda3/lib/python3.7/site-packages/librosa/util/decorators.py:88: UserWarning: PySoundFile failed. Trying audioread instead.\n",
      "  return f(*args, **kwargs)\n"
     ]
    },
    {
     "name": "stdout",
     "output_type": "stream",
     "text": [
      "DONE! READ 9 CHUNKS.\n",
      "ANALYZING AUDIO... DONE! Time 0.6 SECONDS\n",
      "DONE! WROTE 9 RESULTS.\n",
      "READING AUDIO DATA... DONE! READ 11 CHUNKS.\n",
      "ANALYZING AUDIO... "
     ]
    },
    {
     "name": "stderr",
     "output_type": "stream",
     "text": [
      "/anaconda3/lib/python3.7/site-packages/librosa/util/decorators.py:88: UserWarning: PySoundFile failed. Trying audioread instead.\n",
      "  return f(*args, **kwargs)\n"
     ]
    },
    {
     "name": "stdout",
     "output_type": "stream",
     "text": [
      "DONE! Time 0.9 SECONDS\n",
      "DONE! WROTE 11 RESULTS.\n",
      "READING AUDIO DATA... "
     ]
    },
    {
     "name": "stderr",
     "output_type": "stream",
     "text": [
      "/anaconda3/lib/python3.7/site-packages/librosa/util/decorators.py:88: UserWarning: PySoundFile failed. Trying audioread instead.\n",
      "  return f(*args, **kwargs)\n"
     ]
    },
    {
     "name": "stdout",
     "output_type": "stream",
     "text": [
      "DONE! READ 7 CHUNKS.\n",
      "ANALYZING AUDIO... DONE! Time 0.2 SECONDS\n",
      "DONE! WROTE 3 RESULTS.\n",
      "READING AUDIO DATA... "
     ]
    },
    {
     "name": "stderr",
     "output_type": "stream",
     "text": [
      "/anaconda3/lib/python3.7/site-packages/librosa/util/decorators.py:88: UserWarning: PySoundFile failed. Trying audioread instead.\n",
      "  return f(*args, **kwargs)\n"
     ]
    },
    {
     "name": "stdout",
     "output_type": "stream",
     "text": [
      "DONE! READ 31 CHUNKS.\n",
      "ANALYZING AUDIO... DONE! Time 1.7 SECONDS\n",
      "DONE! WROTE 23 RESULTS.\n",
      "READING AUDIO DATA... "
     ]
    },
    {
     "name": "stderr",
     "output_type": "stream",
     "text": [
      "/anaconda3/lib/python3.7/site-packages/librosa/util/decorators.py:88: UserWarning: PySoundFile failed. Trying audioread instead.\n",
      "  return f(*args, **kwargs)\n"
     ]
    },
    {
     "name": "stdout",
     "output_type": "stream",
     "text": [
      "DONE! READ 9 CHUNKS.\n",
      "ANALYZING AUDIO... DONE! Time 0.4 SECONDS\n",
      "DONE! WROTE 6 RESULTS.\n",
      "READING AUDIO DATA... "
     ]
    },
    {
     "name": "stderr",
     "output_type": "stream",
     "text": [
      "/anaconda3/lib/python3.7/site-packages/librosa/util/decorators.py:88: UserWarning: PySoundFile failed. Trying audioread instead.\n",
      "  return f(*args, **kwargs)\n"
     ]
    },
    {
     "name": "stdout",
     "output_type": "stream",
     "text": [
      "DONE! READ 7 CHUNKS.\n",
      "ANALYZING AUDIO... DONE! Time 0.4 SECONDS\n",
      "DONE! WROTE 5 RESULTS.\n",
      "READING AUDIO DATA... "
     ]
    },
    {
     "name": "stderr",
     "output_type": "stream",
     "text": [
      "/anaconda3/lib/python3.7/site-packages/librosa/util/decorators.py:88: UserWarning: PySoundFile failed. Trying audioread instead.\n",
      "  return f(*args, **kwargs)\n"
     ]
    },
    {
     "name": "stdout",
     "output_type": "stream",
     "text": [
      "DONE! READ 19 CHUNKS.\n",
      "ANALYZING AUDIO... DONE! Time 1.1 SECONDS\n",
      "DONE! WROTE 16 RESULTS.\n",
      "READING AUDIO DATA... DONE! READ 3 CHUNKS.\n",
      "ANALYZING AUDIO... "
     ]
    },
    {
     "name": "stderr",
     "output_type": "stream",
     "text": [
      "/anaconda3/lib/python3.7/site-packages/librosa/util/decorators.py:88: UserWarning: PySoundFile failed. Trying audioread instead.\n",
      "  return f(*args, **kwargs)\n"
     ]
    },
    {
     "name": "stdout",
     "output_type": "stream",
     "text": [
      "DONE! Time 0.2 SECONDS\n",
      "DONE! WROTE 3 RESULTS.\n",
      "READING AUDIO DATA... "
     ]
    },
    {
     "name": "stderr",
     "output_type": "stream",
     "text": [
      "/anaconda3/lib/python3.7/site-packages/librosa/util/decorators.py:88: UserWarning: PySoundFile failed. Trying audioread instead.\n",
      "  return f(*args, **kwargs)\n"
     ]
    },
    {
     "name": "stdout",
     "output_type": "stream",
     "text": [
      "DONE! READ 65 CHUNKS.\n",
      "ANALYZING AUDIO... DONE! Time 1.9 SECONDS\n",
      "DONE! WROTE 27 RESULTS.\n",
      "READING AUDIO DATA... DONE! READ 6 CHUNKS.\n",
      "ANALYZING AUDIO... "
     ]
    },
    {
     "name": "stderr",
     "output_type": "stream",
     "text": [
      "/anaconda3/lib/python3.7/site-packages/librosa/util/decorators.py:88: UserWarning: PySoundFile failed. Trying audioread instead.\n",
      "  return f(*args, **kwargs)\n"
     ]
    },
    {
     "name": "stdout",
     "output_type": "stream",
     "text": [
      "DONE! Time 0.4 SECONDS\n",
      "DONE! WROTE 5 RESULTS.\n",
      "READING AUDIO DATA... "
     ]
    },
    {
     "name": "stderr",
     "output_type": "stream",
     "text": [
      "/anaconda3/lib/python3.7/site-packages/librosa/util/decorators.py:88: UserWarning: PySoundFile failed. Trying audioread instead.\n",
      "  return f(*args, **kwargs)\n"
     ]
    },
    {
     "name": "stdout",
     "output_type": "stream",
     "text": [
      "DONE! READ 28 CHUNKS.\n",
      "ANALYZING AUDIO... DONE! Time 1.9 SECONDS\n",
      "DONE! WROTE 26 RESULTS.\n",
      "READING AUDIO DATA... DONE! READ 4 CHUNKS.\n",
      "ANALYZING AUDIO... "
     ]
    },
    {
     "name": "stderr",
     "output_type": "stream",
     "text": [
      "/anaconda3/lib/python3.7/site-packages/librosa/util/decorators.py:88: UserWarning: PySoundFile failed. Trying audioread instead.\n",
      "  return f(*args, **kwargs)\n"
     ]
    },
    {
     "name": "stdout",
     "output_type": "stream",
     "text": [
      "DONE! Time 0.2 SECONDS\n",
      "DONE! WROTE 3 RESULTS.\n",
      "READING AUDIO DATA... DONE! READ 17 CHUNKS.\n",
      "ANALYZING AUDIO... "
     ]
    },
    {
     "name": "stderr",
     "output_type": "stream",
     "text": [
      "/anaconda3/lib/python3.7/site-packages/librosa/util/decorators.py:88: UserWarning: PySoundFile failed. Trying audioread instead.\n",
      "  return f(*args, **kwargs)\n"
     ]
    },
    {
     "name": "stdout",
     "output_type": "stream",
     "text": [
      "DONE! Time 1.2 SECONDS\n",
      "DONE! WROTE 17 RESULTS.\n",
      "READING AUDIO DATA... DONE! READ 3 CHUNKS.\n",
      "ANALYZING AUDIO... "
     ]
    },
    {
     "name": "stderr",
     "output_type": "stream",
     "text": [
      "/anaconda3/lib/python3.7/site-packages/librosa/util/decorators.py:88: UserWarning: PySoundFile failed. Trying audioread instead.\n",
      "  return f(*args, **kwargs)\n"
     ]
    },
    {
     "name": "stdout",
     "output_type": "stream",
     "text": [
      "DONE! Time 0.0 SECONDS\n",
      "DONE! WROTE 1 RESULTS.\n",
      "READING AUDIO DATA... "
     ]
    },
    {
     "name": "stderr",
     "output_type": "stream",
     "text": [
      "/anaconda3/lib/python3.7/site-packages/librosa/util/decorators.py:88: UserWarning: PySoundFile failed. Trying audioread instead.\n",
      "  return f(*args, **kwargs)\n"
     ]
    },
    {
     "name": "stdout",
     "output_type": "stream",
     "text": [
      "DONE! READ 24 CHUNKS.\n",
      "ANALYZING AUDIO... DONE! Time 1.7 SECONDS\n",
      "DONE! WROTE 23 RESULTS.\n",
      "READING AUDIO DATA... DONE! READ 1 CHUNKS.\n",
      "ANALYZING AUDIO... DONE! Time 0.0 SECONDS\n",
      "DONE! WROTE 1 RESULTS.\n",
      "READING AUDIO DATA... "
     ]
    },
    {
     "name": "stderr",
     "output_type": "stream",
     "text": [
      "/anaconda3/lib/python3.7/site-packages/librosa/util/decorators.py:88: UserWarning: PySoundFile failed. Trying audioread instead.\n",
      "  return f(*args, **kwargs)\n",
      "/anaconda3/lib/python3.7/site-packages/librosa/util/decorators.py:88: UserWarning: PySoundFile failed. Trying audioread instead.\n",
      "  return f(*args, **kwargs)\n"
     ]
    },
    {
     "name": "stdout",
     "output_type": "stream",
     "text": [
      "DONE! READ 8 CHUNKS.\n",
      "ANALYZING AUDIO... DONE! Time 0.3 SECONDS\n",
      "DONE! WROTE 5 RESULTS.\n",
      "READING AUDIO DATA... DONE! READ 11 CHUNKS.\n",
      "ANALYZING AUDIO... "
     ]
    },
    {
     "name": "stderr",
     "output_type": "stream",
     "text": [
      "/anaconda3/lib/python3.7/site-packages/librosa/util/decorators.py:88: UserWarning: PySoundFile failed. Trying audioread instead.\n",
      "  return f(*args, **kwargs)\n"
     ]
    },
    {
     "name": "stdout",
     "output_type": "stream",
     "text": [
      "DONE! Time 0.7 SECONDS\n",
      "DONE! WROTE 10 RESULTS.\n",
      "READING AUDIO DATA... DONE! READ 21 CHUNKS.\n",
      "ANALYZING AUDIO... "
     ]
    },
    {
     "name": "stderr",
     "output_type": "stream",
     "text": [
      "/anaconda3/lib/python3.7/site-packages/librosa/util/decorators.py:88: UserWarning: PySoundFile failed. Trying audioread instead.\n",
      "  return f(*args, **kwargs)\n"
     ]
    },
    {
     "name": "stdout",
     "output_type": "stream",
     "text": [
      "DONE! Time 1.4 SECONDS\n",
      "DONE! WROTE 19 RESULTS.\n",
      "READING AUDIO DATA... DONE! READ 5 CHUNKS.\n",
      "ANALYZING AUDIO... "
     ]
    },
    {
     "name": "stderr",
     "output_type": "stream",
     "text": [
      "/anaconda3/lib/python3.7/site-packages/librosa/util/decorators.py:88: UserWarning: PySoundFile failed. Trying audioread instead.\n",
      "  return f(*args, **kwargs)\n"
     ]
    },
    {
     "name": "stdout",
     "output_type": "stream",
     "text": [
      "DONE! Time 0.3 SECONDS\n",
      "DONE! WROTE 5 RESULTS.\n",
      "READING AUDIO DATA... DONE! READ 3 CHUNKS.\n",
      "ANALYZING AUDIO... "
     ]
    },
    {
     "name": "stderr",
     "output_type": "stream",
     "text": [
      "/anaconda3/lib/python3.7/site-packages/librosa/util/decorators.py:88: UserWarning: PySoundFile failed. Trying audioread instead.\n",
      "  return f(*args, **kwargs)\n"
     ]
    },
    {
     "name": "stdout",
     "output_type": "stream",
     "text": [
      "DONE! Time 0.1 SECONDS\n",
      "DONE! WROTE 2 RESULTS.\n",
      "READING AUDIO DATA... DONE! READ 6 CHUNKS.\n",
      "ANALYZING AUDIO... "
     ]
    },
    {
     "name": "stderr",
     "output_type": "stream",
     "text": [
      "/anaconda3/lib/python3.7/site-packages/librosa/util/decorators.py:88: UserWarning: PySoundFile failed. Trying audioread instead.\n",
      "  return f(*args, **kwargs)\n"
     ]
    },
    {
     "name": "stdout",
     "output_type": "stream",
     "text": [
      "DONE! Time 0.3 SECONDS\n",
      "DONE! WROTE 5 RESULTS.\n",
      "READING AUDIO DATA... DONE! READ 2 CHUNKS.\n",
      "ANALYZING AUDIO... "
     ]
    },
    {
     "name": "stderr",
     "output_type": "stream",
     "text": [
      "/anaconda3/lib/python3.7/site-packages/librosa/util/decorators.py:88: UserWarning: PySoundFile failed. Trying audioread instead.\n",
      "  return f(*args, **kwargs)\n"
     ]
    },
    {
     "name": "stdout",
     "output_type": "stream",
     "text": [
      "DONE! Time 0.1 SECONDS\n",
      "DONE! WROTE 2 RESULTS.\n",
      "READING AUDIO DATA... "
     ]
    },
    {
     "name": "stderr",
     "output_type": "stream",
     "text": [
      "/anaconda3/lib/python3.7/site-packages/librosa/util/decorators.py:88: UserWarning: PySoundFile failed. Trying audioread instead.\n",
      "  return f(*args, **kwargs)\n"
     ]
    },
    {
     "name": "stdout",
     "output_type": "stream",
     "text": [
      "DONE! READ 11 CHUNKS.\n",
      "ANALYZING AUDIO... DONE! Time 0.6 SECONDS\n",
      "DONE! WROTE 9 RESULTS.\n",
      "READING AUDIO DATA... DONE! READ 5 CHUNKS.\n",
      "ANALYZING AUDIO... "
     ]
    },
    {
     "name": "stderr",
     "output_type": "stream",
     "text": [
      "/anaconda3/lib/python3.7/site-packages/librosa/util/decorators.py:88: UserWarning: PySoundFile failed. Trying audioread instead.\n",
      "  return f(*args, **kwargs)\n"
     ]
    },
    {
     "name": "stdout",
     "output_type": "stream",
     "text": [
      "DONE! Time 0.7 SECONDS\n",
      "DONE! WROTE 4 RESULTS.\n",
      "READING AUDIO DATA... "
     ]
    },
    {
     "name": "stderr",
     "output_type": "stream",
     "text": [
      "/anaconda3/lib/python3.7/site-packages/librosa/util/decorators.py:88: UserWarning: PySoundFile failed. Trying audioread instead.\n",
      "  return f(*args, **kwargs)\n"
     ]
    },
    {
     "name": "stdout",
     "output_type": "stream",
     "text": [
      "DONE! READ 5 CHUNKS.\n",
      "ANALYZING AUDIO... DONE! Time 0.3 SECONDS\n",
      "DONE! WROTE 4 RESULTS.\n",
      "READING AUDIO DATA... "
     ]
    },
    {
     "name": "stderr",
     "output_type": "stream",
     "text": [
      "/anaconda3/lib/python3.7/site-packages/librosa/util/decorators.py:88: UserWarning: PySoundFile failed. Trying audioread instead.\n",
      "  return f(*args, **kwargs)\n"
     ]
    },
    {
     "name": "stdout",
     "output_type": "stream",
     "text": [
      "DONE! READ 7 CHUNKS.\n",
      "ANALYZING AUDIO... DONE! Time 0.3 SECONDS\n",
      "DONE! WROTE 4 RESULTS.\n",
      "READING AUDIO DATA... DONE! READ 11 CHUNKS.\n",
      "ANALYZING AUDIO... "
     ]
    },
    {
     "name": "stderr",
     "output_type": "stream",
     "text": [
      "/anaconda3/lib/python3.7/site-packages/librosa/util/decorators.py:88: UserWarning: PySoundFile failed. Trying audioread instead.\n",
      "  return f(*args, **kwargs)\n"
     ]
    },
    {
     "name": "stdout",
     "output_type": "stream",
     "text": [
      "DONE! Time 0.5 SECONDS\n",
      "DONE! WROTE 7 RESULTS.\n",
      "READING AUDIO DATA... "
     ]
    },
    {
     "name": "stderr",
     "output_type": "stream",
     "text": [
      "/anaconda3/lib/python3.7/site-packages/librosa/util/decorators.py:88: UserWarning: PySoundFile failed. Trying audioread instead.\n",
      "  return f(*args, **kwargs)\n"
     ]
    },
    {
     "name": "stdout",
     "output_type": "stream",
     "text": [
      "DONE! READ 2 CHUNKS.\n",
      "ANALYZING AUDIO... DONE! Time 0.1 SECONDS\n",
      "DONE! WROTE 1 RESULTS.\n",
      "READING AUDIO DATA... "
     ]
    },
    {
     "name": "stderr",
     "output_type": "stream",
     "text": [
      "/anaconda3/lib/python3.7/site-packages/librosa/util/decorators.py:88: UserWarning: PySoundFile failed. Trying audioread instead.\n",
      "  return f(*args, **kwargs)\n"
     ]
    },
    {
     "name": "stdout",
     "output_type": "stream",
     "text": [
      "DONE! READ 15 CHUNKS.\n",
      "ANALYZING AUDIO... DONE! Time 0.9 SECONDS\n",
      "DONE! WROTE 13 RESULTS.\n",
      "READING AUDIO DATA... "
     ]
    },
    {
     "name": "stderr",
     "output_type": "stream",
     "text": [
      "/anaconda3/lib/python3.7/site-packages/librosa/util/decorators.py:88: UserWarning: PySoundFile failed. Trying audioread instead.\n",
      "  return f(*args, **kwargs)\n"
     ]
    },
    {
     "name": "stdout",
     "output_type": "stream",
     "text": [
      "DONE! READ 25 CHUNKS.\n",
      "ANALYZING AUDIO... DONE! Time 1.8 SECONDS\n",
      "DONE! WROTE 24 RESULTS.\n",
      "READING AUDIO DATA... "
     ]
    },
    {
     "name": "stderr",
     "output_type": "stream",
     "text": [
      "/anaconda3/lib/python3.7/site-packages/librosa/util/decorators.py:88: UserWarning: PySoundFile failed. Trying audioread instead.\n",
      "  return f(*args, **kwargs)\n"
     ]
    },
    {
     "name": "stdout",
     "output_type": "stream",
     "text": [
      "DONE! READ 7 CHUNKS.\n",
      "ANALYZING AUDIO... DONE! Time 0.4 SECONDS\n",
      "DONE! WROTE 6 RESULTS.\n",
      "READING AUDIO DATA... "
     ]
    },
    {
     "name": "stderr",
     "output_type": "stream",
     "text": [
      "/anaconda3/lib/python3.7/site-packages/librosa/util/decorators.py:88: UserWarning: PySoundFile failed. Trying audioread instead.\n",
      "  return f(*args, **kwargs)\n"
     ]
    },
    {
     "name": "stdout",
     "output_type": "stream",
     "text": [
      "DONE! READ 14 CHUNKS.\n",
      "ANALYZING AUDIO... DONE! Time 0.9 SECONDS\n",
      "DONE! WROTE 13 RESULTS.\n",
      "READING AUDIO DATA... "
     ]
    },
    {
     "name": "stderr",
     "output_type": "stream",
     "text": [
      "/anaconda3/lib/python3.7/site-packages/librosa/util/decorators.py:88: UserWarning: PySoundFile failed. Trying audioread instead.\n",
      "  return f(*args, **kwargs)\n"
     ]
    },
    {
     "name": "stdout",
     "output_type": "stream",
     "text": [
      "DONE! READ 9 CHUNKS.\n",
      "ANALYZING AUDIO... DONE! Time 0.6 SECONDS\n",
      "DONE! WROTE 9 RESULTS.\n",
      "READING AUDIO DATA... DONE! READ 7 CHUNKS.\n",
      "ANALYZING AUDIO... "
     ]
    },
    {
     "name": "stderr",
     "output_type": "stream",
     "text": [
      "/anaconda3/lib/python3.7/site-packages/librosa/util/decorators.py:88: UserWarning: PySoundFile failed. Trying audioread instead.\n",
      "  return f(*args, **kwargs)\n"
     ]
    },
    {
     "name": "stdout",
     "output_type": "stream",
     "text": [
      "DONE! Time 0.5 SECONDS\n",
      "DONE! WROTE 7 RESULTS.\n",
      "READING AUDIO DATA... "
     ]
    },
    {
     "name": "stderr",
     "output_type": "stream",
     "text": [
      "/anaconda3/lib/python3.7/site-packages/librosa/util/decorators.py:88: UserWarning: PySoundFile failed. Trying audioread instead.\n",
      "  return f(*args, **kwargs)\n"
     ]
    },
    {
     "name": "stdout",
     "output_type": "stream",
     "text": [
      "DONE! READ 34 CHUNKS.\n",
      "ANALYZING AUDIO... DONE! Time 2.3 SECONDS\n",
      "DONE! WROTE 33 RESULTS.\n",
      "READING AUDIO DATA... DONE! READ 2 CHUNKS.\n",
      "ANALYZING AUDIO... "
     ]
    },
    {
     "name": "stderr",
     "output_type": "stream",
     "text": [
      "/anaconda3/lib/python3.7/site-packages/librosa/util/decorators.py:88: UserWarning: PySoundFile failed. Trying audioread instead.\n",
      "  return f(*args, **kwargs)\n"
     ]
    },
    {
     "name": "stdout",
     "output_type": "stream",
     "text": [
      "DONE! Time 0.1 SECONDS\n",
      "DONE! WROTE 2 RESULTS.\n",
      "READING AUDIO DATA... DONE! READ 3 CHUNKS.\n",
      "ANALYZING AUDIO... "
     ]
    },
    {
     "name": "stderr",
     "output_type": "stream",
     "text": [
      "/anaconda3/lib/python3.7/site-packages/librosa/util/decorators.py:88: UserWarning: PySoundFile failed. Trying audioread instead.\n",
      "  return f(*args, **kwargs)\n"
     ]
    },
    {
     "name": "stdout",
     "output_type": "stream",
     "text": [
      "DONE! Time 0.1 SECONDS\n",
      "DONE! WROTE 2 RESULTS.\n",
      "READING AUDIO DATA... "
     ]
    },
    {
     "name": "stderr",
     "output_type": "stream",
     "text": [
      "/anaconda3/lib/python3.7/site-packages/librosa/util/decorators.py:88: UserWarning: PySoundFile failed. Trying audioread instead.\n",
      "  return f(*args, **kwargs)\n"
     ]
    },
    {
     "name": "stdout",
     "output_type": "stream",
     "text": [
      "DONE! READ 8 CHUNKS.\n",
      "ANALYZING AUDIO... DONE! Time 0.5 SECONDS\n",
      "DONE! WROTE 7 RESULTS.\n",
      "READING AUDIO DATA... "
     ]
    },
    {
     "name": "stderr",
     "output_type": "stream",
     "text": [
      "/anaconda3/lib/python3.7/site-packages/librosa/util/decorators.py:88: UserWarning: PySoundFile failed. Trying audioread instead.\n",
      "  return f(*args, **kwargs)\n"
     ]
    },
    {
     "name": "stdout",
     "output_type": "stream",
     "text": [
      "DONE! READ 22 CHUNKS.\n",
      "ANALYZING AUDIO... DONE! Time 0.2 SECONDS\n",
      "DONE! WROTE 2 RESULTS.\n",
      "READING AUDIO DATA... "
     ]
    },
    {
     "name": "stderr",
     "output_type": "stream",
     "text": [
      "/anaconda3/lib/python3.7/site-packages/librosa/util/decorators.py:88: UserWarning: PySoundFile failed. Trying audioread instead.\n",
      "  return f(*args, **kwargs)\n"
     ]
    },
    {
     "name": "stdout",
     "output_type": "stream",
     "text": [
      "DONE! READ 6 CHUNKS.\n",
      "ANALYZING AUDIO... DONE! Time 0.4 SECONDS\n",
      "DONE! WROTE 4 RESULTS.\n",
      "READING AUDIO DATA... "
     ]
    },
    {
     "name": "stderr",
     "output_type": "stream",
     "text": [
      "/anaconda3/lib/python3.7/site-packages/librosa/util/decorators.py:88: UserWarning: PySoundFile failed. Trying audioread instead.\n",
      "  return f(*args, **kwargs)\n"
     ]
    },
    {
     "name": "stdout",
     "output_type": "stream",
     "text": [
      "DONE! READ 13 CHUNKS.\n",
      "ANALYZING AUDIO... DONE! Time 1.0 SECONDS\n",
      "DONE! WROTE 12 RESULTS.\n",
      "READING AUDIO DATA... DONE! READ 17 CHUNKS.\n",
      "ANALYZING AUDIO... "
     ]
    },
    {
     "name": "stderr",
     "output_type": "stream",
     "text": [
      "/anaconda3/lib/python3.7/site-packages/librosa/util/decorators.py:88: UserWarning: PySoundFile failed. Trying audioread instead.\n",
      "  return f(*args, **kwargs)\n"
     ]
    },
    {
     "name": "stdout",
     "output_type": "stream",
     "text": [
      "DONE! Time 0.8 SECONDS\n",
      "DONE! WROTE 9 RESULTS.\n",
      "READING AUDIO DATA... DONE! READ 2 CHUNKS.\n",
      "ANALYZING AUDIO... "
     ]
    },
    {
     "name": "stderr",
     "output_type": "stream",
     "text": [
      "/anaconda3/lib/python3.7/site-packages/librosa/util/decorators.py:88: UserWarning: PySoundFile failed. Trying audioread instead.\n",
      "  return f(*args, **kwargs)\n"
     ]
    },
    {
     "name": "stdout",
     "output_type": "stream",
     "text": [
      "DONE! Time 0.2 SECONDS\n",
      "DONE! WROTE 2 RESULTS.\n",
      "READING AUDIO DATA... DONE! READ 16 CHUNKS.\n",
      "ANALYZING AUDIO... "
     ]
    },
    {
     "name": "stderr",
     "output_type": "stream",
     "text": [
      "/anaconda3/lib/python3.7/site-packages/librosa/util/decorators.py:88: UserWarning: PySoundFile failed. Trying audioread instead.\n",
      "  return f(*args, **kwargs)\n"
     ]
    },
    {
     "name": "stdout",
     "output_type": "stream",
     "text": [
      "DONE! Time 1.3 SECONDS\n",
      "DONE! WROTE 16 RESULTS.\n",
      "READING AUDIO DATA... local variable 'sig' referenced before assignment\n",
      "Error in processing file: /Users/vanessasalgado/Desktop/E4E-Acoustics.nosync/PyHa/cosmos_random_sample_processing/XC270638 - Scaly-breasted Woodpecker - Celeus grammicus.mp3\n",
      "READING AUDIO DATA... DONE! READ 21 CHUNKS.\n",
      "ANALYZING AUDIO... "
     ]
    },
    {
     "name": "stderr",
     "output_type": "stream",
     "text": [
      "/anaconda3/lib/python3.7/site-packages/librosa/util/decorators.py:88: UserWarning: PySoundFile failed. Trying audioread instead.\n",
      "  return f(*args, **kwargs)\n"
     ]
    },
    {
     "name": "stdout",
     "output_type": "stream",
     "text": [
      "DONE! Time 1.4 SECONDS\n",
      "DONE! WROTE 17 RESULTS.\n",
      "READING AUDIO DATA... "
     ]
    },
    {
     "name": "stderr",
     "output_type": "stream",
     "text": [
      "/anaconda3/lib/python3.7/site-packages/librosa/util/decorators.py:88: UserWarning: PySoundFile failed. Trying audioread instead.\n",
      "  return f(*args, **kwargs)\n"
     ]
    },
    {
     "name": "stdout",
     "output_type": "stream",
     "text": [
      "DONE! READ 20 CHUNKS.\n",
      "ANALYZING AUDIO... DONE! Time 1.5 SECONDS\n",
      "DONE! WROTE 20 RESULTS.\n",
      "READING AUDIO DATA... "
     ]
    },
    {
     "name": "stderr",
     "output_type": "stream",
     "text": [
      "/anaconda3/lib/python3.7/site-packages/librosa/util/decorators.py:88: UserWarning: PySoundFile failed. Trying audioread instead.\n",
      "  return f(*args, **kwargs)\n"
     ]
    },
    {
     "name": "stdout",
     "output_type": "stream",
     "text": [
      "DONE! READ 24 CHUNKS.\n",
      "ANALYZING AUDIO... DONE! Time 0.8 SECONDS\n",
      "DONE! WROTE 11 RESULTS.\n",
      "READING AUDIO DATA... "
     ]
    },
    {
     "name": "stderr",
     "output_type": "stream",
     "text": [
      "/anaconda3/lib/python3.7/site-packages/librosa/util/decorators.py:88: UserWarning: PySoundFile failed. Trying audioread instead.\n",
      "  return f(*args, **kwargs)\n"
     ]
    },
    {
     "name": "stdout",
     "output_type": "stream",
     "text": [
      "DONE! READ 19 CHUNKS.\n",
      "ANALYZING AUDIO... DONE! Time 1.7 SECONDS\n",
      "DONE! WROTE 19 RESULTS.\n",
      "READING AUDIO DATA... "
     ]
    },
    {
     "name": "stderr",
     "output_type": "stream",
     "text": [
      "/anaconda3/lib/python3.7/site-packages/librosa/util/decorators.py:88: UserWarning: PySoundFile failed. Trying audioread instead.\n",
      "  return f(*args, **kwargs)\n"
     ]
    },
    {
     "name": "stdout",
     "output_type": "stream",
     "text": [
      "DONE! READ 34 CHUNKS.\n",
      "ANALYZING AUDIO... DONE! Time 0.8 SECONDS\n",
      "DONE! WROTE 11 RESULTS.\n",
      "READING AUDIO DATA... "
     ]
    },
    {
     "name": "stderr",
     "output_type": "stream",
     "text": [
      "/anaconda3/lib/python3.7/site-packages/librosa/util/decorators.py:88: UserWarning: PySoundFile failed. Trying audioread instead.\n",
      "  return f(*args, **kwargs)\n"
     ]
    },
    {
     "name": "stdout",
     "output_type": "stream",
     "text": [
      "DONE! READ 23 CHUNKS.\n",
      "ANALYZING AUDIO... DONE! Time 1.1 SECONDS\n",
      "DONE! WROTE 16 RESULTS.\n",
      "READING AUDIO DATA... "
     ]
    },
    {
     "name": "stderr",
     "output_type": "stream",
     "text": [
      "/anaconda3/lib/python3.7/site-packages/librosa/util/decorators.py:88: UserWarning: PySoundFile failed. Trying audioread instead.\n",
      "  return f(*args, **kwargs)\n"
     ]
    },
    {
     "name": "stdout",
     "output_type": "stream",
     "text": [
      "DONE! READ 14 CHUNKS.\n",
      "ANALYZING AUDIO... DONE! Time 0.9 SECONDS\n",
      "DONE! WROTE 13 RESULTS.\n",
      "READING AUDIO DATA... DONE! READ 4 CHUNKS.\n",
      "ANALYZING AUDIO... "
     ]
    },
    {
     "name": "stderr",
     "output_type": "stream",
     "text": [
      "/anaconda3/lib/python3.7/site-packages/librosa/util/decorators.py:88: UserWarning: PySoundFile failed. Trying audioread instead.\n",
      "  return f(*args, **kwargs)\n"
     ]
    },
    {
     "name": "stdout",
     "output_type": "stream",
     "text": [
      "DONE! Time 0.2 SECONDS\n",
      "DONE! WROTE 3 RESULTS.\n",
      "READING AUDIO DATA... "
     ]
    },
    {
     "name": "stderr",
     "output_type": "stream",
     "text": [
      "/anaconda3/lib/python3.7/site-packages/librosa/util/decorators.py:88: UserWarning: PySoundFile failed. Trying audioread instead.\n",
      "  return f(*args, **kwargs)\n"
     ]
    },
    {
     "name": "stdout",
     "output_type": "stream",
     "text": [
      "DONE! READ 12 CHUNKS.\n",
      "ANALYZING AUDIO... DONE! Time 0.8 SECONDS\n",
      "DONE! WROTE 11 RESULTS.\n",
      "READING AUDIO DATA... "
     ]
    },
    {
     "name": "stderr",
     "output_type": "stream",
     "text": [
      "/anaconda3/lib/python3.7/site-packages/librosa/util/decorators.py:88: UserWarning: PySoundFile failed. Trying audioread instead.\n",
      "  return f(*args, **kwargs)\n"
     ]
    },
    {
     "name": "stdout",
     "output_type": "stream",
     "text": [
      "DONE! READ 7 CHUNKS.\n",
      "ANALYZING AUDIO... DONE! Time 0.5 SECONDS\n",
      "DONE! WROTE 6 RESULTS.\n",
      "READING AUDIO DATA... "
     ]
    },
    {
     "name": "stderr",
     "output_type": "stream",
     "text": [
      "/anaconda3/lib/python3.7/site-packages/librosa/util/decorators.py:88: UserWarning: PySoundFile failed. Trying audioread instead.\n",
      "  return f(*args, **kwargs)\n"
     ]
    },
    {
     "name": "stdout",
     "output_type": "stream",
     "text": [
      "DONE! READ 21 CHUNKS.\n",
      "ANALYZING AUDIO... DONE! Time 1.5 SECONDS\n",
      "DONE! WROTE 19 RESULTS.\n",
      "READING AUDIO DATA... DONE! READ 4 CHUNKS.\n",
      "ANALYZING AUDIO... "
     ]
    },
    {
     "name": "stderr",
     "output_type": "stream",
     "text": [
      "/anaconda3/lib/python3.7/site-packages/librosa/util/decorators.py:88: UserWarning: PySoundFile failed. Trying audioread instead.\n",
      "  return f(*args, **kwargs)\n"
     ]
    },
    {
     "name": "stdout",
     "output_type": "stream",
     "text": [
      "DONE! Time 0.4 SECONDS\n",
      "DONE! WROTE 4 RESULTS.\n",
      "READING AUDIO DATA... "
     ]
    },
    {
     "name": "stderr",
     "output_type": "stream",
     "text": [
      "/anaconda3/lib/python3.7/site-packages/librosa/util/decorators.py:88: UserWarning: PySoundFile failed. Trying audioread instead.\n",
      "  return f(*args, **kwargs)\n"
     ]
    },
    {
     "name": "stdout",
     "output_type": "stream",
     "text": [
      "DONE! READ 6 CHUNKS.\n",
      "ANALYZING AUDIO... DONE! Time 0.3 SECONDS\n",
      "DONE! WROTE 5 RESULTS.\n",
      "READING AUDIO DATA... "
     ]
    },
    {
     "name": "stderr",
     "output_type": "stream",
     "text": [
      "/anaconda3/lib/python3.7/site-packages/librosa/util/decorators.py:88: UserWarning: PySoundFile failed. Trying audioread instead.\n",
      "  return f(*args, **kwargs)\n"
     ]
    },
    {
     "name": "stdout",
     "output_type": "stream",
     "text": [
      "DONE! READ 6 CHUNKS.\n",
      "ANALYZING AUDIO... DONE! Time 0.3 SECONDS\n",
      "DONE! WROTE 5 RESULTS.\n",
      "READING AUDIO DATA... DONE! READ 7 CHUNKS.\n",
      "ANALYZING AUDIO... "
     ]
    },
    {
     "name": "stderr",
     "output_type": "stream",
     "text": [
      "/anaconda3/lib/python3.7/site-packages/librosa/util/decorators.py:88: UserWarning: PySoundFile failed. Trying audioread instead.\n",
      "  return f(*args, **kwargs)\n"
     ]
    },
    {
     "name": "stdout",
     "output_type": "stream",
     "text": [
      "DONE! Time 0.0 SECONDS\n",
      "DONE! WROTE 1 RESULTS.\n",
      "READING AUDIO DATA... DONE! READ 12 CHUNKS.\n",
      "ANALYZING AUDIO... "
     ]
    },
    {
     "name": "stderr",
     "output_type": "stream",
     "text": [
      "/anaconda3/lib/python3.7/site-packages/librosa/util/decorators.py:88: UserWarning: PySoundFile failed. Trying audioread instead.\n",
      "  return f(*args, **kwargs)\n"
     ]
    },
    {
     "name": "stdout",
     "output_type": "stream",
     "text": [
      "DONE! Time 0.6 SECONDS\n",
      "DONE! WROTE 8 RESULTS.\n",
      "READING AUDIO DATA... "
     ]
    },
    {
     "name": "stderr",
     "output_type": "stream",
     "text": [
      "/anaconda3/lib/python3.7/site-packages/librosa/util/decorators.py:88: UserWarning: PySoundFile failed. Trying audioread instead.\n",
      "  return f(*args, **kwargs)\n"
     ]
    },
    {
     "name": "stdout",
     "output_type": "stream",
     "text": [
      "DONE! READ 14 CHUNKS.\n",
      "ANALYZING AUDIO... DONE! Time 0.9 SECONDS\n",
      "DONE! WROTE 12 RESULTS.\n",
      "READING AUDIO DATA... DONE! READ 5 CHUNKS.\n",
      "ANALYZING AUDIO... "
     ]
    },
    {
     "name": "stderr",
     "output_type": "stream",
     "text": [
      "/anaconda3/lib/python3.7/site-packages/librosa/util/decorators.py:88: UserWarning: PySoundFile failed. Trying audioread instead.\n",
      "  return f(*args, **kwargs)\n"
     ]
    },
    {
     "name": "stdout",
     "output_type": "stream",
     "text": [
      "DONE! Time 0.4 SECONDS\n",
      "DONE! WROTE 5 RESULTS.\n",
      "READING AUDIO DATA... "
     ]
    },
    {
     "name": "stderr",
     "output_type": "stream",
     "text": [
      "/anaconda3/lib/python3.7/site-packages/librosa/util/decorators.py:88: UserWarning: PySoundFile failed. Trying audioread instead.\n",
      "  return f(*args, **kwargs)\n"
     ]
    },
    {
     "name": "stdout",
     "output_type": "stream",
     "text": [
      "DONE! READ 12 CHUNKS.\n",
      "ANALYZING AUDIO... DONE! Time 1.0 SECONDS\n",
      "DONE! WROTE 12 RESULTS.\n",
      "READING AUDIO DATA... DONE! READ 9 CHUNKS.\n",
      "ANALYZING AUDIO... "
     ]
    },
    {
     "name": "stderr",
     "output_type": "stream",
     "text": [
      "/anaconda3/lib/python3.7/site-packages/librosa/util/decorators.py:88: UserWarning: PySoundFile failed. Trying audioread instead.\n",
      "  return f(*args, **kwargs)\n"
     ]
    },
    {
     "name": "stdout",
     "output_type": "stream",
     "text": [
      "DONE! Time 0.7 SECONDS\n",
      "DONE! WROTE 8 RESULTS.\n",
      "READING AUDIO DATA... "
     ]
    },
    {
     "name": "stderr",
     "output_type": "stream",
     "text": [
      "/anaconda3/lib/python3.7/site-packages/librosa/util/decorators.py:88: UserWarning: PySoundFile failed. Trying audioread instead.\n",
      "  return f(*args, **kwargs)\n"
     ]
    },
    {
     "name": "stdout",
     "output_type": "stream",
     "text": [
      "DONE! READ 10 CHUNKS.\n",
      "ANALYZING AUDIO... DONE! Time 0.7 SECONDS\n",
      "DONE! WROTE 10 RESULTS.\n",
      "READING AUDIO DATA... DONE! READ 2 CHUNKS.\n",
      "ANALYZING AUDIO... "
     ]
    },
    {
     "name": "stderr",
     "output_type": "stream",
     "text": [
      "/anaconda3/lib/python3.7/site-packages/librosa/util/decorators.py:88: UserWarning: PySoundFile failed. Trying audioread instead.\n",
      "  return f(*args, **kwargs)\n"
     ]
    },
    {
     "name": "stdout",
     "output_type": "stream",
     "text": [
      "DONE! Time 0.1 SECONDS\n",
      "DONE! WROTE 2 RESULTS.\n",
      "READING AUDIO DATA... DONE! READ 3 CHUNKS.\n",
      "ANALYZING AUDIO... "
     ]
    },
    {
     "name": "stderr",
     "output_type": "stream",
     "text": [
      "/anaconda3/lib/python3.7/site-packages/librosa/util/decorators.py:88: UserWarning: PySoundFile failed. Trying audioread instead.\n",
      "  return f(*args, **kwargs)\n"
     ]
    },
    {
     "name": "stdout",
     "output_type": "stream",
     "text": [
      "DONE! Time 0.2 SECONDS\n",
      "DONE! WROTE 3 RESULTS.\n",
      "READING AUDIO DATA... "
     ]
    },
    {
     "name": "stderr",
     "output_type": "stream",
     "text": [
      "/anaconda3/lib/python3.7/site-packages/librosa/util/decorators.py:88: UserWarning: PySoundFile failed. Trying audioread instead.\n",
      "  return f(*args, **kwargs)\n"
     ]
    },
    {
     "name": "stdout",
     "output_type": "stream",
     "text": [
      "DONE! READ 18 CHUNKS.\n",
      "ANALYZING AUDIO... DONE! Time 0.7 SECONDS\n",
      "DONE! WROTE 10 RESULTS.\n",
      "READING AUDIO DATA... "
     ]
    },
    {
     "name": "stderr",
     "output_type": "stream",
     "text": [
      "/anaconda3/lib/python3.7/site-packages/librosa/util/decorators.py:88: UserWarning: PySoundFile failed. Trying audioread instead.\n",
      "  return f(*args, **kwargs)\n"
     ]
    },
    {
     "name": "stdout",
     "output_type": "stream",
     "text": [
      "DONE! READ 11 CHUNKS.\n",
      "ANALYZING AUDIO... DONE! Time 0.8 SECONDS\n",
      "DONE! WROTE 11 RESULTS.\n",
      "READING AUDIO DATA... "
     ]
    },
    {
     "name": "stderr",
     "output_type": "stream",
     "text": [
      "/anaconda3/lib/python3.7/site-packages/librosa/util/decorators.py:88: UserWarning: PySoundFile failed. Trying audioread instead.\n",
      "  return f(*args, **kwargs)\n"
     ]
    },
    {
     "name": "stdout",
     "output_type": "stream",
     "text": [
      "DONE! READ 31 CHUNKS.\n",
      "ANALYZING AUDIO... DONE! Time 2.3 SECONDS\n",
      "DONE! WROTE 29 RESULTS.\n",
      "READING AUDIO DATA... "
     ]
    },
    {
     "name": "stderr",
     "output_type": "stream",
     "text": [
      "/anaconda3/lib/python3.7/site-packages/librosa/util/decorators.py:88: UserWarning: PySoundFile failed. Trying audioread instead.\n",
      "  return f(*args, **kwargs)\n"
     ]
    },
    {
     "name": "stdout",
     "output_type": "stream",
     "text": [
      "DONE! READ 5 CHUNKS.\n",
      "ANALYZING AUDIO... DONE! Time 0.3 SECONDS\n",
      "DONE! WROTE 4 RESULTS.\n",
      "READING AUDIO DATA... "
     ]
    },
    {
     "name": "stderr",
     "output_type": "stream",
     "text": [
      "/anaconda3/lib/python3.7/site-packages/librosa/util/decorators.py:88: UserWarning: PySoundFile failed. Trying audioread instead.\n",
      "  return f(*args, **kwargs)\n"
     ]
    },
    {
     "name": "stdout",
     "output_type": "stream",
     "text": [
      "DONE! READ 9 CHUNKS.\n",
      "ANALYZING AUDIO... DONE! Time 0.6 SECONDS\n",
      "DONE! WROTE 8 RESULTS.\n",
      "READING AUDIO DATA... "
     ]
    },
    {
     "name": "stderr",
     "output_type": "stream",
     "text": [
      "/anaconda3/lib/python3.7/site-packages/librosa/util/decorators.py:88: UserWarning: PySoundFile failed. Trying audioread instead.\n",
      "  return f(*args, **kwargs)\n"
     ]
    },
    {
     "name": "stdout",
     "output_type": "stream",
     "text": [
      "DONE! READ 7 CHUNKS.\n",
      "ANALYZING AUDIO... DONE! Time 0.2 SECONDS\n",
      "DONE! WROTE 3 RESULTS.\n",
      "READING AUDIO DATA... DONE! READ 11 CHUNKS.\n",
      "ANALYZING AUDIO... "
     ]
    },
    {
     "name": "stderr",
     "output_type": "stream",
     "text": [
      "/anaconda3/lib/python3.7/site-packages/librosa/util/decorators.py:88: UserWarning: PySoundFile failed. Trying audioread instead.\n",
      "  return f(*args, **kwargs)\n"
     ]
    },
    {
     "name": "stdout",
     "output_type": "stream",
     "text": [
      "DONE! Time 0.6 SECONDS\n",
      "DONE! WROTE 9 RESULTS.\n",
      "READING AUDIO DATA... DONE! READ 1 CHUNKS.\n",
      "ANALYZING AUDIO... DONE! Time 0.0 SECONDS\n",
      "DONE! WROTE 1 RESULTS.\n",
      "READING AUDIO DATA... "
     ]
    },
    {
     "name": "stderr",
     "output_type": "stream",
     "text": [
      "/anaconda3/lib/python3.7/site-packages/librosa/util/decorators.py:88: UserWarning: PySoundFile failed. Trying audioread instead.\n",
      "  return f(*args, **kwargs)\n",
      "/anaconda3/lib/python3.7/site-packages/librosa/util/decorators.py:88: UserWarning: PySoundFile failed. Trying audioread instead.\n",
      "  return f(*args, **kwargs)\n"
     ]
    },
    {
     "name": "stdout",
     "output_type": "stream",
     "text": [
      "DONE! READ 6 CHUNKS.\n",
      "ANALYZING AUDIO... DONE! Time 0.5 SECONDS\n",
      "DONE! WROTE 6 RESULTS.\n",
      "READING AUDIO DATA... "
     ]
    },
    {
     "name": "stderr",
     "output_type": "stream",
     "text": [
      "/anaconda3/lib/python3.7/site-packages/librosa/util/decorators.py:88: UserWarning: PySoundFile failed. Trying audioread instead.\n",
      "  return f(*args, **kwargs)\n"
     ]
    },
    {
     "name": "stdout",
     "output_type": "stream",
     "text": [
      "DONE! READ 28 CHUNKS.\n",
      "ANALYZING AUDIO... DONE! Time 1.8 SECONDS\n",
      "DONE! WROTE 24 RESULTS.\n",
      "READING AUDIO DATA... "
     ]
    },
    {
     "name": "stderr",
     "output_type": "stream",
     "text": [
      "/anaconda3/lib/python3.7/site-packages/librosa/util/decorators.py:88: UserWarning: PySoundFile failed. Trying audioread instead.\n",
      "  return f(*args, **kwargs)\n"
     ]
    },
    {
     "name": "stdout",
     "output_type": "stream",
     "text": [
      "DONE! READ 18 CHUNKS.\n",
      "ANALYZING AUDIO... DONE! Time 1.4 SECONDS\n",
      "DONE! WROTE 18 RESULTS.\n",
      "READING AUDIO DATA... "
     ]
    },
    {
     "name": "stderr",
     "output_type": "stream",
     "text": [
      "/anaconda3/lib/python3.7/site-packages/librosa/util/decorators.py:88: UserWarning: PySoundFile failed. Trying audioread instead.\n",
      "  return f(*args, **kwargs)\n"
     ]
    },
    {
     "name": "stdout",
     "output_type": "stream",
     "text": [
      "DONE! READ 10 CHUNKS.\n",
      "ANALYZING AUDIO... DONE! Time 0.6 SECONDS\n",
      "DONE! WROTE 8 RESULTS.\n",
      "READING AUDIO DATA... "
     ]
    },
    {
     "name": "stderr",
     "output_type": "stream",
     "text": [
      "/anaconda3/lib/python3.7/site-packages/librosa/util/decorators.py:88: UserWarning: PySoundFile failed. Trying audioread instead.\n",
      "  return f(*args, **kwargs)\n"
     ]
    },
    {
     "name": "stdout",
     "output_type": "stream",
     "text": [
      "DONE! READ 7 CHUNKS.\n",
      "ANALYZING AUDIO... DONE! Time 0.2 SECONDS\n",
      "DONE! WROTE 3 RESULTS.\n",
      "READING AUDIO DATA... "
     ]
    },
    {
     "name": "stderr",
     "output_type": "stream",
     "text": [
      "/anaconda3/lib/python3.7/site-packages/librosa/util/decorators.py:88: UserWarning: PySoundFile failed. Trying audioread instead.\n",
      "  return f(*args, **kwargs)\n"
     ]
    },
    {
     "name": "stdout",
     "output_type": "stream",
     "text": [
      "DONE! READ 31 CHUNKS.\n",
      "ANALYZING AUDIO... DONE! Time 2.3 SECONDS\n",
      "DONE! WROTE 31 RESULTS.\n",
      "READING AUDIO DATA... DONE! READ 11 CHUNKS.\n",
      "ANALYZING AUDIO... "
     ]
    },
    {
     "name": "stderr",
     "output_type": "stream",
     "text": [
      "/anaconda3/lib/python3.7/site-packages/librosa/util/decorators.py:88: UserWarning: PySoundFile failed. Trying audioread instead.\n",
      "  return f(*args, **kwargs)\n"
     ]
    },
    {
     "name": "stdout",
     "output_type": "stream",
     "text": [
      "DONE! Time 0.4 SECONDS\n",
      "DONE! WROTE 5 RESULTS.\n",
      "READING AUDIO DATA... "
     ]
    },
    {
     "name": "stderr",
     "output_type": "stream",
     "text": [
      "/anaconda3/lib/python3.7/site-packages/librosa/util/decorators.py:88: UserWarning: PySoundFile failed. Trying audioread instead.\n",
      "  return f(*args, **kwargs)\n"
     ]
    },
    {
     "name": "stdout",
     "output_type": "stream",
     "text": [
      "DONE! READ 9 CHUNKS.\n",
      "ANALYZING AUDIO... DONE! Time 0.6 SECONDS\n",
      "DONE! WROTE 8 RESULTS.\n",
      "READING AUDIO DATA... "
     ]
    },
    {
     "name": "stderr",
     "output_type": "stream",
     "text": [
      "/anaconda3/lib/python3.7/site-packages/librosa/util/decorators.py:88: UserWarning: PySoundFile failed. Trying audioread instead.\n",
      "  return f(*args, **kwargs)\n"
     ]
    },
    {
     "name": "stdout",
     "output_type": "stream",
     "text": [
      "DONE! READ 5 CHUNKS.\n",
      "ANALYZING AUDIO... DONE! Time 0.2 SECONDS\n",
      "DONE! WROTE 3 RESULTS.\n",
      "READING AUDIO DATA... "
     ]
    },
    {
     "name": "stderr",
     "output_type": "stream",
     "text": [
      "/anaconda3/lib/python3.7/site-packages/librosa/util/decorators.py:88: UserWarning: PySoundFile failed. Trying audioread instead.\n",
      "  return f(*args, **kwargs)\n"
     ]
    },
    {
     "name": "stdout",
     "output_type": "stream",
     "text": [
      "DONE! READ 7 CHUNKS.\n",
      "ANALYZING AUDIO... DONE! Time 0.4 SECONDS\n",
      "DONE! WROTE 6 RESULTS.\n",
      "READING AUDIO DATA... DONE! READ 12 CHUNKS.\n",
      "ANALYZING AUDIO... "
     ]
    },
    {
     "name": "stderr",
     "output_type": "stream",
     "text": [
      "/anaconda3/lib/python3.7/site-packages/librosa/util/decorators.py:88: UserWarning: PySoundFile failed. Trying audioread instead.\n",
      "  return f(*args, **kwargs)\n"
     ]
    },
    {
     "name": "stdout",
     "output_type": "stream",
     "text": [
      "DONE! Time 0.8 SECONDS\n",
      "DONE! WROTE 11 RESULTS.\n",
      "READING AUDIO DATA... DONE! READ 2 CHUNKS.\n",
      "ANALYZING AUDIO... DONE! Time 0.0 SECONDS\n",
      "DONE! WROTE 1 RESULTS.\n",
      "READING AUDIO DATA... "
     ]
    },
    {
     "name": "stderr",
     "output_type": "stream",
     "text": [
      "/anaconda3/lib/python3.7/site-packages/librosa/util/decorators.py:88: UserWarning: PySoundFile failed. Trying audioread instead.\n",
      "  return f(*args, **kwargs)\n",
      "/anaconda3/lib/python3.7/site-packages/librosa/util/decorators.py:88: UserWarning: PySoundFile failed. Trying audioread instead.\n",
      "  return f(*args, **kwargs)\n"
     ]
    },
    {
     "name": "stdout",
     "output_type": "stream",
     "text": [
      "DONE! READ 21 CHUNKS.\n",
      "ANALYZING AUDIO... DONE! Time 1.5 SECONDS\n",
      "DONE! WROTE 20 RESULTS.\n",
      "READING AUDIO DATA... DONE! READ 1 CHUNKS.\n",
      "ANALYZING AUDIO... DONE! Time 0.0 SECONDS\n",
      "DONE! WROTE 1 RESULTS.\n",
      "READING AUDIO DATA... "
     ]
    },
    {
     "name": "stderr",
     "output_type": "stream",
     "text": [
      "/anaconda3/lib/python3.7/site-packages/librosa/util/decorators.py:88: UserWarning: PySoundFile failed. Trying audioread instead.\n",
      "  return f(*args, **kwargs)\n",
      "/anaconda3/lib/python3.7/site-packages/librosa/util/decorators.py:88: UserWarning: PySoundFile failed. Trying audioread instead.\n",
      "  return f(*args, **kwargs)\n"
     ]
    },
    {
     "name": "stdout",
     "output_type": "stream",
     "text": [
      "DONE! READ 11 CHUNKS.\n",
      "ANALYZING AUDIO... DONE! Time 0.7 SECONDS\n",
      "DONE! WROTE 10 RESULTS.\n",
      "READING AUDIO DATA... DONE! READ 1 CHUNKS.\n",
      "ANALYZING AUDIO... DONE! Time 0.0 SECONDS\n",
      "DONE! WROTE 1 RESULTS.\n",
      "READING AUDIO DATA... "
     ]
    },
    {
     "name": "stderr",
     "output_type": "stream",
     "text": [
      "/anaconda3/lib/python3.7/site-packages/librosa/util/decorators.py:88: UserWarning: PySoundFile failed. Trying audioread instead.\n",
      "  return f(*args, **kwargs)\n",
      "/anaconda3/lib/python3.7/site-packages/librosa/util/decorators.py:88: UserWarning: PySoundFile failed. Trying audioread instead.\n",
      "  return f(*args, **kwargs)\n"
     ]
    },
    {
     "name": "stdout",
     "output_type": "stream",
     "text": [
      "DONE! READ 24 CHUNKS.\n",
      "ANALYZING AUDIO... DONE! Time 1.8 SECONDS\n",
      "DONE! WROTE 22 RESULTS.\n",
      "READING AUDIO DATA... "
     ]
    },
    {
     "name": "stderr",
     "output_type": "stream",
     "text": [
      "/anaconda3/lib/python3.7/site-packages/librosa/util/decorators.py:88: UserWarning: PySoundFile failed. Trying audioread instead.\n",
      "  return f(*args, **kwargs)\n"
     ]
    },
    {
     "name": "stdout",
     "output_type": "stream",
     "text": [
      "DONE! READ 8 CHUNKS.\n",
      "ANALYZING AUDIO... DONE! Time 0.6 SECONDS\n",
      "DONE! WROTE 8 RESULTS.\n",
      "READING AUDIO DATA... DONE! READ 21 CHUNKS.\n",
      "ANALYZING AUDIO... "
     ]
    },
    {
     "name": "stderr",
     "output_type": "stream",
     "text": [
      "/anaconda3/lib/python3.7/site-packages/librosa/util/decorators.py:88: UserWarning: PySoundFile failed. Trying audioread instead.\n",
      "  return f(*args, **kwargs)\n"
     ]
    },
    {
     "name": "stdout",
     "output_type": "stream",
     "text": [
      "DONE! Time 1.5 SECONDS\n",
      "DONE! WROTE 20 RESULTS.\n",
      "READING AUDIO DATA... DONE! READ 4 CHUNKS.\n",
      "ANALYZING AUDIO... "
     ]
    },
    {
     "name": "stderr",
     "output_type": "stream",
     "text": [
      "/anaconda3/lib/python3.7/site-packages/librosa/util/decorators.py:88: UserWarning: PySoundFile failed. Trying audioread instead.\n",
      "  return f(*args, **kwargs)\n"
     ]
    },
    {
     "name": "stdout",
     "output_type": "stream",
     "text": [
      "DONE! Time 0.3 SECONDS\n",
      "DONE! WROTE 4 RESULTS.\n",
      "READING AUDIO DATA... "
     ]
    },
    {
     "name": "stderr",
     "output_type": "stream",
     "text": [
      "/anaconda3/lib/python3.7/site-packages/librosa/util/decorators.py:88: UserWarning: PySoundFile failed. Trying audioread instead.\n",
      "  return f(*args, **kwargs)\n"
     ]
    },
    {
     "name": "stdout",
     "output_type": "stream",
     "text": [
      "DONE! READ 12 CHUNKS.\n",
      "ANALYZING AUDIO... DONE! Time 0.6 SECONDS\n",
      "DONE! WROTE 8 RESULTS.\n",
      "READING AUDIO DATA... DONE! READ 4 CHUNKS.\n",
      "ANALYZING AUDIO... "
     ]
    },
    {
     "name": "stderr",
     "output_type": "stream",
     "text": [
      "/anaconda3/lib/python3.7/site-packages/librosa/util/decorators.py:88: UserWarning: PySoundFile failed. Trying audioread instead.\n",
      "  return f(*args, **kwargs)\n"
     ]
    },
    {
     "name": "stdout",
     "output_type": "stream",
     "text": [
      "DONE! Time 0.1 SECONDS\n",
      "DONE! WROTE 2 RESULTS.\n",
      "READING AUDIO DATA... "
     ]
    },
    {
     "name": "stderr",
     "output_type": "stream",
     "text": [
      "/anaconda3/lib/python3.7/site-packages/librosa/util/decorators.py:88: UserWarning: PySoundFile failed. Trying audioread instead.\n",
      "  return f(*args, **kwargs)\n"
     ]
    },
    {
     "name": "stdout",
     "output_type": "stream",
     "text": [
      "DONE! READ 10 CHUNKS.\n",
      "ANALYZING AUDIO... DONE! Time 0.6 SECONDS\n",
      "DONE! WROTE 8 RESULTS.\n",
      "READING AUDIO DATA... local variable 'sig' referenced before assignment\n",
      "Error in processing file: /Users/vanessasalgado/Desktop/E4E-Acoustics.nosync/PyHa/cosmos_random_sample_processing/XC74265 - Blue-grey Tanager - Thraupis episcopus.mp3\n",
      "READING AUDIO DATA... "
     ]
    },
    {
     "name": "stderr",
     "output_type": "stream",
     "text": [
      "/anaconda3/lib/python3.7/site-packages/librosa/util/decorators.py:88: UserWarning: PySoundFile failed. Trying audioread instead.\n",
      "  return f(*args, **kwargs)\n"
     ]
    },
    {
     "name": "stdout",
     "output_type": "stream",
     "text": [
      "DONE! READ 8 CHUNKS.\n",
      "ANALYZING AUDIO... DONE! Time 0.2 SECONDS\n",
      "DONE! WROTE 3 RESULTS.\n",
      "READING AUDIO DATA... "
     ]
    },
    {
     "name": "stderr",
     "output_type": "stream",
     "text": [
      "/anaconda3/lib/python3.7/site-packages/librosa/util/decorators.py:88: UserWarning: PySoundFile failed. Trying audioread instead.\n",
      "  return f(*args, **kwargs)\n"
     ]
    },
    {
     "name": "stdout",
     "output_type": "stream",
     "text": [
      "DONE! READ 10 CHUNKS.\n",
      "ANALYZING AUDIO... DONE! Time 0.7 SECONDS\n",
      "DONE! WROTE 9 RESULTS.\n",
      "READING AUDIO DATA... "
     ]
    },
    {
     "name": "stderr",
     "output_type": "stream",
     "text": [
      "/anaconda3/lib/python3.7/site-packages/librosa/util/decorators.py:88: UserWarning: PySoundFile failed. Trying audioread instead.\n",
      "  return f(*args, **kwargs)\n"
     ]
    },
    {
     "name": "stdout",
     "output_type": "stream",
     "text": [
      "DONE! READ 10 CHUNKS.\n",
      "ANALYZING AUDIO... DONE! Time 0.7 SECONDS\n",
      "DONE! WROTE 10 RESULTS.\n",
      "READING AUDIO DATA... DONE! READ 3 CHUNKS.\n",
      "ANALYZING AUDIO... "
     ]
    },
    {
     "name": "stderr",
     "output_type": "stream",
     "text": [
      "/anaconda3/lib/python3.7/site-packages/librosa/util/decorators.py:88: UserWarning: PySoundFile failed. Trying audioread instead.\n",
      "  return f(*args, **kwargs)\n"
     ]
    },
    {
     "name": "stdout",
     "output_type": "stream",
     "text": [
      "DONE! Time 0.1 SECONDS\n",
      "DONE! WROTE 2 RESULTS.\n",
      "READING AUDIO DATA... local variable 'sig' referenced before assignment\n",
      "Error in processing file: /Users/vanessasalgado/Desktop/E4E-Acoustics.nosync/PyHa/cosmos_random_sample_processing/XC63235 - Scaly-breasted Woodpecker - Celeus grammicus.mp3\n",
      "READING AUDIO DATA... DONE! READ 1 CHUNKS.\n",
      "ANALYZING AUDIO... DONE! Time 0.0 SECONDS\n",
      "DONE! WROTE 1 RESULTS.\n",
      "READING AUDIO DATA... "
     ]
    },
    {
     "name": "stderr",
     "output_type": "stream",
     "text": [
      "/anaconda3/lib/python3.7/site-packages/librosa/util/decorators.py:88: UserWarning: PySoundFile failed. Trying audioread instead.\n",
      "  return f(*args, **kwargs)\n",
      "/anaconda3/lib/python3.7/site-packages/librosa/util/decorators.py:88: UserWarning: PySoundFile failed. Trying audioread instead.\n",
      "  return f(*args, **kwargs)\n"
     ]
    },
    {
     "name": "stdout",
     "output_type": "stream",
     "text": [
      "DONE! READ 5 CHUNKS.\n",
      "ANALYZING AUDIO... DONE! Time 0.3 SECONDS\n",
      "DONE! WROTE 4 RESULTS.\n",
      "READING AUDIO DATA... "
     ]
    },
    {
     "name": "stderr",
     "output_type": "stream",
     "text": [
      "/anaconda3/lib/python3.7/site-packages/librosa/util/decorators.py:88: UserWarning: PySoundFile failed. Trying audioread instead.\n",
      "  return f(*args, **kwargs)\n"
     ]
    },
    {
     "name": "stdout",
     "output_type": "stream",
     "text": [
      "DONE! READ 20 CHUNKS.\n",
      "ANALYZING AUDIO... DONE! Time 0.8 SECONDS\n",
      "DONE! WROTE 11 RESULTS.\n",
      "READING AUDIO DATA... DONE! READ 11 CHUNKS.\n",
      "ANALYZING AUDIO... "
     ]
    },
    {
     "name": "stderr",
     "output_type": "stream",
     "text": [
      "/anaconda3/lib/python3.7/site-packages/librosa/util/decorators.py:88: UserWarning: PySoundFile failed. Trying audioread instead.\n",
      "  return f(*args, **kwargs)\n"
     ]
    },
    {
     "name": "stdout",
     "output_type": "stream",
     "text": [
      "DONE! Time 0.7 SECONDS\n",
      "DONE! WROTE 9 RESULTS.\n",
      "READING AUDIO DATA... "
     ]
    },
    {
     "name": "stderr",
     "output_type": "stream",
     "text": [
      "/anaconda3/lib/python3.7/site-packages/librosa/util/decorators.py:88: UserWarning: PySoundFile failed. Trying audioread instead.\n",
      "  return f(*args, **kwargs)\n"
     ]
    },
    {
     "name": "stdout",
     "output_type": "stream",
     "text": [
      "DONE! READ 13 CHUNKS.\n",
      "ANALYZING AUDIO... DONE! Time 0.9 SECONDS\n",
      "DONE! WROTE 12 RESULTS.\n",
      "READING AUDIO DATA... local variable 'sig' referenced before assignment\n",
      "Error in processing file: /Users/vanessasalgado/Desktop/E4E-Acoustics.nosync/PyHa/cosmos_random_sample_processing/XC199745 - Scaly-breasted Woodpecker - Celeus grammicus.mp3\n",
      "READING AUDIO DATA... "
     ]
    },
    {
     "name": "stderr",
     "output_type": "stream",
     "text": [
      "/anaconda3/lib/python3.7/site-packages/librosa/util/decorators.py:88: UserWarning: PySoundFile failed. Trying audioread instead.\n",
      "  return f(*args, **kwargs)\n"
     ]
    },
    {
     "name": "stdout",
     "output_type": "stream",
     "text": [
      "DONE! READ 15 CHUNKS.\n",
      "ANALYZING AUDIO... DONE! Time 0.8 SECONDS\n",
      "DONE! WROTE 10 RESULTS.\n",
      "READING AUDIO DATA... DONE! READ 3 CHUNKS.\n",
      "ANALYZING AUDIO... "
     ]
    },
    {
     "name": "stderr",
     "output_type": "stream",
     "text": [
      "/anaconda3/lib/python3.7/site-packages/librosa/util/decorators.py:88: UserWarning: PySoundFile failed. Trying audioread instead.\n",
      "  return f(*args, **kwargs)\n"
     ]
    },
    {
     "name": "stdout",
     "output_type": "stream",
     "text": [
      "DONE! Time 0.1 SECONDS\n",
      "DONE! WROTE 2 RESULTS.\n",
      "READING AUDIO DATA... DONE! READ 4 CHUNKS.\n",
      "ANALYZING AUDIO... "
     ]
    },
    {
     "name": "stderr",
     "output_type": "stream",
     "text": [
      "/anaconda3/lib/python3.7/site-packages/librosa/util/decorators.py:88: UserWarning: PySoundFile failed. Trying audioread instead.\n",
      "  return f(*args, **kwargs)\n"
     ]
    },
    {
     "name": "stdout",
     "output_type": "stream",
     "text": [
      "DONE! Time 0.2 SECONDS\n",
      "DONE! WROTE 3 RESULTS.\n",
      "READING AUDIO DATA... "
     ]
    },
    {
     "name": "stderr",
     "output_type": "stream",
     "text": [
      "/anaconda3/lib/python3.7/site-packages/librosa/util/decorators.py:88: UserWarning: PySoundFile failed. Trying audioread instead.\n",
      "  return f(*args, **kwargs)\n"
     ]
    },
    {
     "name": "stdout",
     "output_type": "stream",
     "text": [
      "DONE! READ 6 CHUNKS.\n",
      "ANALYZING AUDIO... DONE! Time 0.3 SECONDS\n",
      "DONE! WROTE 3 RESULTS.\n",
      "READING AUDIO DATA... "
     ]
    },
    {
     "name": "stderr",
     "output_type": "stream",
     "text": [
      "/anaconda3/lib/python3.7/site-packages/librosa/util/decorators.py:88: UserWarning: PySoundFile failed. Trying audioread instead.\n",
      "  return f(*args, **kwargs)\n"
     ]
    },
    {
     "name": "stdout",
     "output_type": "stream",
     "text": [
      "DONE! READ 16 CHUNKS.\n",
      "ANALYZING AUDIO... DONE! Time 1.7 SECONDS\n",
      "DONE! WROTE 15 RESULTS.\n",
      "READING AUDIO DATA... "
     ]
    },
    {
     "name": "stderr",
     "output_type": "stream",
     "text": [
      "/anaconda3/lib/python3.7/site-packages/librosa/util/decorators.py:88: UserWarning: PySoundFile failed. Trying audioread instead.\n",
      "  return f(*args, **kwargs)\n"
     ]
    },
    {
     "name": "stdout",
     "output_type": "stream",
     "text": [
      "DONE! READ 46 CHUNKS.\n",
      "ANALYZING AUDIO... DONE! Time 3.9 SECONDS\n",
      "DONE! WROTE 45 RESULTS.\n",
      "READING AUDIO DATA... "
     ]
    },
    {
     "name": "stderr",
     "output_type": "stream",
     "text": [
      "/anaconda3/lib/python3.7/site-packages/librosa/util/decorators.py:88: UserWarning: PySoundFile failed. Trying audioread instead.\n",
      "  return f(*args, **kwargs)\n"
     ]
    },
    {
     "name": "stdout",
     "output_type": "stream",
     "text": [
      "DONE! READ 8 CHUNKS.\n",
      "ANALYZING AUDIO... DONE! Time 0.4 SECONDS\n",
      "DONE! WROTE 5 RESULTS.\n",
      "READING AUDIO DATA... DONE! READ 3 CHUNKS.\n",
      "ANALYZING AUDIO... "
     ]
    },
    {
     "name": "stderr",
     "output_type": "stream",
     "text": [
      "/anaconda3/lib/python3.7/site-packages/librosa/util/decorators.py:88: UserWarning: PySoundFile failed. Trying audioread instead.\n",
      "  return f(*args, **kwargs)\n"
     ]
    },
    {
     "name": "stdout",
     "output_type": "stream",
     "text": [
      "DONE! Time 0.1 SECONDS\n",
      "DONE! WROTE 2 RESULTS.\n",
      "READING AUDIO DATA... "
     ]
    },
    {
     "name": "stderr",
     "output_type": "stream",
     "text": [
      "/anaconda3/lib/python3.7/site-packages/librosa/util/decorators.py:88: UserWarning: PySoundFile failed. Trying audioread instead.\n",
      "  return f(*args, **kwargs)\n"
     ]
    },
    {
     "name": "stdout",
     "output_type": "stream",
     "text": [
      "DONE! READ 52 CHUNKS.\n",
      "ANALYZING AUDIO... DONE! Time 2.6 SECONDS\n",
      "DONE! WROTE 31 RESULTS.\n",
      "READING AUDIO DATA... DONE! READ 3 CHUNKS.\n",
      "ANALYZING AUDIO... "
     ]
    },
    {
     "name": "stderr",
     "output_type": "stream",
     "text": [
      "/anaconda3/lib/python3.7/site-packages/librosa/util/decorators.py:88: UserWarning: PySoundFile failed. Trying audioread instead.\n",
      "  return f(*args, **kwargs)\n"
     ]
    },
    {
     "name": "stdout",
     "output_type": "stream",
     "text": [
      "DONE! Time 0.1 SECONDS\n",
      "DONE! WROTE 2 RESULTS.\n",
      "READING AUDIO DATA... "
     ]
    },
    {
     "name": "stderr",
     "output_type": "stream",
     "text": [
      "/anaconda3/lib/python3.7/site-packages/librosa/util/decorators.py:88: UserWarning: PySoundFile failed. Trying audioread instead.\n",
      "  return f(*args, **kwargs)\n"
     ]
    },
    {
     "name": "stdout",
     "output_type": "stream",
     "text": [
      "DONE! READ 18 CHUNKS.\n",
      "ANALYZING AUDIO... DONE! Time 1.3 SECONDS\n",
      "DONE! WROTE 17 RESULTS.\n",
      "READING AUDIO DATA... DONE! READ 2 CHUNKS.\n",
      "ANALYZING AUDIO... "
     ]
    },
    {
     "name": "stderr",
     "output_type": "stream",
     "text": [
      "/anaconda3/lib/python3.7/site-packages/librosa/util/decorators.py:88: UserWarning: PySoundFile failed. Trying audioread instead.\n",
      "  return f(*args, **kwargs)\n"
     ]
    },
    {
     "name": "stdout",
     "output_type": "stream",
     "text": [
      "DONE! Time 0.0 SECONDS\n",
      "DONE! WROTE 1 RESULTS.\n",
      "READING AUDIO DATA... "
     ]
    },
    {
     "name": "stderr",
     "output_type": "stream",
     "text": [
      "/anaconda3/lib/python3.7/site-packages/librosa/util/decorators.py:88: UserWarning: PySoundFile failed. Trying audioread instead.\n",
      "  return f(*args, **kwargs)\n"
     ]
    },
    {
     "name": "stdout",
     "output_type": "stream",
     "text": [
      "DONE! READ 77 CHUNKS.\n",
      "ANALYZING AUDIO... DONE! Time 6.3 SECONDS\n",
      "DONE! WROTE 74 RESULTS.\n",
      "READING AUDIO DATA... local variable 'sig' referenced before assignment\n",
      "Error in processing file: /Users/vanessasalgado/Desktop/E4E-Acoustics.nosync/PyHa/cosmos_random_sample_processing/XC549447 - Yellow-olive Flatbill - Tolmomyias sulphurescens.mp3\n",
      "READING AUDIO DATA... "
     ]
    },
    {
     "name": "stderr",
     "output_type": "stream",
     "text": [
      "/anaconda3/lib/python3.7/site-packages/librosa/util/decorators.py:88: UserWarning: PySoundFile failed. Trying audioread instead.\n",
      "  return f(*args, **kwargs)\n"
     ]
    },
    {
     "name": "stdout",
     "output_type": "stream",
     "text": [
      "DONE! READ 13 CHUNKS.\n",
      "ANALYZING AUDIO... DONE! Time 0.4 SECONDS\n",
      "DONE! WROTE 6 RESULTS.\n",
      "READING AUDIO DATA... DONE! READ 3 CHUNKS.\n",
      "ANALYZING AUDIO... "
     ]
    },
    {
     "name": "stderr",
     "output_type": "stream",
     "text": [
      "/anaconda3/lib/python3.7/site-packages/librosa/util/decorators.py:88: UserWarning: PySoundFile failed. Trying audioread instead.\n",
      "  return f(*args, **kwargs)\n"
     ]
    },
    {
     "name": "stdout",
     "output_type": "stream",
     "text": [
      "DONE! Time 0.2 SECONDS\n",
      "DONE! WROTE 2 RESULTS.\n",
      "READING AUDIO DATA... DONE! READ 4 CHUNKS.\n",
      "ANALYZING AUDIO... "
     ]
    },
    {
     "name": "stderr",
     "output_type": "stream",
     "text": [
      "/anaconda3/lib/python3.7/site-packages/librosa/util/decorators.py:88: UserWarning: PySoundFile failed. Trying audioread instead.\n",
      "  return f(*args, **kwargs)\n"
     ]
    },
    {
     "name": "stdout",
     "output_type": "stream",
     "text": [
      "DONE! Time 0.2 SECONDS\n",
      "DONE! WROTE 3 RESULTS.\n",
      "READING AUDIO DATA... DONE! READ 13 CHUNKS.\n",
      "ANALYZING AUDIO... "
     ]
    },
    {
     "name": "stderr",
     "output_type": "stream",
     "text": [
      "/anaconda3/lib/python3.7/site-packages/librosa/util/decorators.py:88: UserWarning: PySoundFile failed. Trying audioread instead.\n",
      "  return f(*args, **kwargs)\n"
     ]
    },
    {
     "name": "stdout",
     "output_type": "stream",
     "text": [
      "DONE! Time 0.6 SECONDS\n",
      "DONE! WROTE 8 RESULTS.\n",
      "READING AUDIO DATA... "
     ]
    },
    {
     "name": "stderr",
     "output_type": "stream",
     "text": [
      "/anaconda3/lib/python3.7/site-packages/librosa/util/decorators.py:88: UserWarning: PySoundFile failed. Trying audioread instead.\n",
      "  return f(*args, **kwargs)\n"
     ]
    },
    {
     "name": "stdout",
     "output_type": "stream",
     "text": [
      "DONE! READ 34 CHUNKS.\n",
      "ANALYZING AUDIO... DONE! Time 2.5 SECONDS\n",
      "DONE! WROTE 29 RESULTS.\n",
      "READING AUDIO DATA... "
     ]
    },
    {
     "name": "stderr",
     "output_type": "stream",
     "text": [
      "/anaconda3/lib/python3.7/site-packages/librosa/util/decorators.py:88: UserWarning: PySoundFile failed. Trying audioread instead.\n",
      "  return f(*args, **kwargs)\n"
     ]
    },
    {
     "name": "stdout",
     "output_type": "stream",
     "text": [
      "DONE! READ 26 CHUNKS.\n",
      "ANALYZING AUDIO... DONE! Time 0.8 SECONDS\n",
      "DONE! WROTE 8 RESULTS.\n",
      "READING AUDIO DATA... "
     ]
    },
    {
     "name": "stderr",
     "output_type": "stream",
     "text": [
      "/anaconda3/lib/python3.7/site-packages/librosa/util/decorators.py:88: UserWarning: PySoundFile failed. Trying audioread instead.\n",
      "  return f(*args, **kwargs)\n"
     ]
    },
    {
     "name": "stdout",
     "output_type": "stream",
     "text": [
      "DONE! READ 8 CHUNKS.\n",
      "ANALYZING AUDIO... DONE! Time 1.2 SECONDS\n",
      "DONE! WROTE 6 RESULTS.\n",
      "READING AUDIO DATA... DONE! READ 7 CHUNKS.\n",
      "ANALYZING AUDIO... "
     ]
    },
    {
     "name": "stderr",
     "output_type": "stream",
     "text": [
      "/anaconda3/lib/python3.7/site-packages/librosa/util/decorators.py:88: UserWarning: PySoundFile failed. Trying audioread instead.\n",
      "  return f(*args, **kwargs)\n"
     ]
    },
    {
     "name": "stdout",
     "output_type": "stream",
     "text": [
      "DONE! Time 0.3 SECONDS\n",
      "DONE! WROTE 4 RESULTS.\n",
      "READING AUDIO DATA... DONE! READ 4 CHUNKS.\n",
      "ANALYZING AUDIO... "
     ]
    },
    {
     "name": "stderr",
     "output_type": "stream",
     "text": [
      "/anaconda3/lib/python3.7/site-packages/librosa/util/decorators.py:88: UserWarning: PySoundFile failed. Trying audioread instead.\n",
      "  return f(*args, **kwargs)\n"
     ]
    },
    {
     "name": "stdout",
     "output_type": "stream",
     "text": [
      "DONE! Time 0.2 SECONDS\n",
      "DONE! WROTE 3 RESULTS.\n",
      "READING AUDIO DATA... DONE! READ 3 CHUNKS.\n",
      "ANALYZING AUDIO... "
     ]
    },
    {
     "name": "stderr",
     "output_type": "stream",
     "text": [
      "/anaconda3/lib/python3.7/site-packages/librosa/util/decorators.py:88: UserWarning: PySoundFile failed. Trying audioread instead.\n",
      "  return f(*args, **kwargs)\n"
     ]
    },
    {
     "name": "stdout",
     "output_type": "stream",
     "text": [
      "DONE! Time 0.1 SECONDS\n",
      "DONE! WROTE 2 RESULTS.\n",
      "READING AUDIO DATA... "
     ]
    },
    {
     "name": "stderr",
     "output_type": "stream",
     "text": [
      "/anaconda3/lib/python3.7/site-packages/librosa/util/decorators.py:88: UserWarning: PySoundFile failed. Trying audioread instead.\n",
      "  return f(*args, **kwargs)\n"
     ]
    },
    {
     "name": "stdout",
     "output_type": "stream",
     "text": [
      "DONE! READ 28 CHUNKS.\n",
      "ANALYZING AUDIO... DONE! Time 2.1 SECONDS\n",
      "DONE! WROTE 27 RESULTS.\n",
      "READING AUDIO DATA... "
     ]
    },
    {
     "name": "stderr",
     "output_type": "stream",
     "text": [
      "/anaconda3/lib/python3.7/site-packages/librosa/util/decorators.py:88: UserWarning: PySoundFile failed. Trying audioread instead.\n",
      "  return f(*args, **kwargs)\n"
     ]
    },
    {
     "name": "stdout",
     "output_type": "stream",
     "text": [
      "DONE! READ 42 CHUNKS.\n",
      "ANALYZING AUDIO... DONE! Time 4.4 SECONDS\n",
      "DONE! WROTE 35 RESULTS.\n",
      "READING AUDIO DATA... "
     ]
    },
    {
     "name": "stderr",
     "output_type": "stream",
     "text": [
      "/anaconda3/lib/python3.7/site-packages/librosa/util/decorators.py:88: UserWarning: PySoundFile failed. Trying audioread instead.\n",
      "  return f(*args, **kwargs)\n"
     ]
    },
    {
     "name": "stdout",
     "output_type": "stream",
     "text": [
      "DONE! READ 4 CHUNKS.\n",
      "ANALYZING AUDIO... DONE! Time 0.6 SECONDS\n",
      "DONE! WROTE 3 RESULTS.\n",
      "READING AUDIO DATA... "
     ]
    },
    {
     "name": "stderr",
     "output_type": "stream",
     "text": [
      "/anaconda3/lib/python3.7/site-packages/librosa/util/decorators.py:88: UserWarning: PySoundFile failed. Trying audioread instead.\n",
      "  return f(*args, **kwargs)\n"
     ]
    },
    {
     "name": "stdout",
     "output_type": "stream",
     "text": [
      "DONE! READ 2 CHUNKS.\n",
      "ANALYZING AUDIO... DONE! Time 0.1 SECONDS\n",
      "DONE! WROTE 1 RESULTS.\n",
      "READING AUDIO DATA... "
     ]
    },
    {
     "name": "stderr",
     "output_type": "stream",
     "text": [
      "/anaconda3/lib/python3.7/site-packages/librosa/util/decorators.py:88: UserWarning: PySoundFile failed. Trying audioread instead.\n",
      "  return f(*args, **kwargs)\n"
     ]
    },
    {
     "name": "stdout",
     "output_type": "stream",
     "text": [
      "DONE! READ 5 CHUNKS.\n",
      "ANALYZING AUDIO... DONE! Time 0.5 SECONDS\n",
      "DONE! WROTE 5 RESULTS.\n",
      "READING AUDIO DATA... DONE! READ 2 CHUNKS.\n",
      "ANALYZING AUDIO... "
     ]
    },
    {
     "name": "stderr",
     "output_type": "stream",
     "text": [
      "/anaconda3/lib/python3.7/site-packages/librosa/util/decorators.py:88: UserWarning: PySoundFile failed. Trying audioread instead.\n",
      "  return f(*args, **kwargs)\n"
     ]
    },
    {
     "name": "stdout",
     "output_type": "stream",
     "text": [
      "DONE! Time 0.2 SECONDS\n",
      "DONE! WROTE 2 RESULTS.\n",
      "READING AUDIO DATA... "
     ]
    },
    {
     "name": "stderr",
     "output_type": "stream",
     "text": [
      "/anaconda3/lib/python3.7/site-packages/librosa/util/decorators.py:88: UserWarning: PySoundFile failed. Trying audioread instead.\n",
      "  return f(*args, **kwargs)\n"
     ]
    },
    {
     "name": "stdout",
     "output_type": "stream",
     "text": [
      "DONE! READ 14 CHUNKS.\n",
      "ANALYZING AUDIO... DONE! Time 1.0 SECONDS\n",
      "DONE! WROTE 9 RESULTS.\n",
      "READING AUDIO DATA... DONE! READ 5 CHUNKS.\n",
      "ANALYZING AUDIO... "
     ]
    },
    {
     "name": "stderr",
     "output_type": "stream",
     "text": [
      "/anaconda3/lib/python3.7/site-packages/librosa/util/decorators.py:88: UserWarning: PySoundFile failed. Trying audioread instead.\n",
      "  return f(*args, **kwargs)\n"
     ]
    },
    {
     "name": "stdout",
     "output_type": "stream",
     "text": [
      "DONE! Time 0.3 SECONDS\n",
      "DONE! WROTE 4 RESULTS.\n",
      "READING AUDIO DATA... DONE! READ 4 CHUNKS.\n",
      "ANALYZING AUDIO... "
     ]
    },
    {
     "name": "stderr",
     "output_type": "stream",
     "text": [
      "/anaconda3/lib/python3.7/site-packages/librosa/util/decorators.py:88: UserWarning: PySoundFile failed. Trying audioread instead.\n",
      "  return f(*args, **kwargs)\n"
     ]
    },
    {
     "name": "stdout",
     "output_type": "stream",
     "text": [
      "DONE! Time 0.3 SECONDS\n",
      "DONE! WROTE 4 RESULTS.\n",
      "READING AUDIO DATA... "
     ]
    },
    {
     "name": "stderr",
     "output_type": "stream",
     "text": [
      "/anaconda3/lib/python3.7/site-packages/librosa/util/decorators.py:88: UserWarning: PySoundFile failed. Trying audioread instead.\n",
      "  return f(*args, **kwargs)\n"
     ]
    },
    {
     "name": "stdout",
     "output_type": "stream",
     "text": [
      "DONE! READ 9 CHUNKS.\n",
      "ANALYZING AUDIO... DONE! Time 0.5 SECONDS\n",
      "DONE! WROTE 7 RESULTS.\n",
      "READING AUDIO DATA... "
     ]
    },
    {
     "name": "stderr",
     "output_type": "stream",
     "text": [
      "/anaconda3/lib/python3.7/site-packages/librosa/util/decorators.py:88: UserWarning: PySoundFile failed. Trying audioread instead.\n",
      "  return f(*args, **kwargs)\n"
     ]
    },
    {
     "name": "stdout",
     "output_type": "stream",
     "text": [
      "DONE! READ 94 CHUNKS.\n",
      "ANALYZING AUDIO... DONE! Time 8.5 SECONDS\n",
      "DONE! WROTE 50 RESULTS.\n",
      "READING AUDIO DATA... DONE! READ 14 CHUNKS.\n",
      "ANALYZING AUDIO... "
     ]
    },
    {
     "name": "stderr",
     "output_type": "stream",
     "text": [
      "/anaconda3/lib/python3.7/site-packages/librosa/util/decorators.py:88: UserWarning: PySoundFile failed. Trying audioread instead.\n",
      "  return f(*args, **kwargs)\n"
     ]
    },
    {
     "name": "stdout",
     "output_type": "stream",
     "text": [
      "DONE! Time 0.3 SECONDS\n",
      "DONE! WROTE 4 RESULTS.\n",
      "READING AUDIO DATA... "
     ]
    },
    {
     "name": "stderr",
     "output_type": "stream",
     "text": [
      "/anaconda3/lib/python3.7/site-packages/librosa/util/decorators.py:88: UserWarning: PySoundFile failed. Trying audioread instead.\n",
      "  return f(*args, **kwargs)\n"
     ]
    },
    {
     "name": "stdout",
     "output_type": "stream",
     "text": [
      "DONE! READ 11 CHUNKS.\n",
      "ANALYZING AUDIO... DONE! Time 0.5 SECONDS\n",
      "DONE! WROTE 6 RESULTS.\n",
      "READING AUDIO DATA... "
     ]
    },
    {
     "name": "stderr",
     "output_type": "stream",
     "text": [
      "/anaconda3/lib/python3.7/site-packages/librosa/util/decorators.py:88: UserWarning: PySoundFile failed. Trying audioread instead.\n",
      "  return f(*args, **kwargs)\n"
     ]
    },
    {
     "name": "stdout",
     "output_type": "stream",
     "text": [
      "DONE! READ 12 CHUNKS.\n",
      "ANALYZING AUDIO... DONE! Time 0.7 SECONDS\n",
      "DONE! WROTE 9 RESULTS.\n",
      "READING AUDIO DATA... "
     ]
    },
    {
     "name": "stderr",
     "output_type": "stream",
     "text": [
      "/anaconda3/lib/python3.7/site-packages/librosa/util/decorators.py:88: UserWarning: PySoundFile failed. Trying audioread instead.\n",
      "  return f(*args, **kwargs)\n"
     ]
    },
    {
     "name": "stdout",
     "output_type": "stream",
     "text": [
      "DONE! READ 13 CHUNKS.\n",
      "ANALYZING AUDIO... DONE! Time 0.6 SECONDS\n",
      "DONE! WROTE 8 RESULTS.\n",
      "READING AUDIO DATA... DONE! READ 14 CHUNKS.\n",
      "ANALYZING AUDIO... "
     ]
    },
    {
     "name": "stderr",
     "output_type": "stream",
     "text": [
      "/anaconda3/lib/python3.7/site-packages/librosa/util/decorators.py:88: UserWarning: PySoundFile failed. Trying audioread instead.\n",
      "  return f(*args, **kwargs)\n"
     ]
    },
    {
     "name": "stdout",
     "output_type": "stream",
     "text": [
      "DONE! Time 1.0 SECONDS\n",
      "DONE! WROTE 13 RESULTS.\n",
      "READING AUDIO DATA... DONE! READ 18 CHUNKS.\n",
      "ANALYZING AUDIO... "
     ]
    },
    {
     "name": "stderr",
     "output_type": "stream",
     "text": [
      "/anaconda3/lib/python3.7/site-packages/librosa/util/decorators.py:88: UserWarning: PySoundFile failed. Trying audioread instead.\n",
      "  return f(*args, **kwargs)\n"
     ]
    },
    {
     "name": "stdout",
     "output_type": "stream",
     "text": [
      "DONE! Time 0.8 SECONDS\n",
      "DONE! WROTE 11 RESULTS.\n",
      "READING AUDIO DATA... "
     ]
    },
    {
     "name": "stderr",
     "output_type": "stream",
     "text": [
      "/anaconda3/lib/python3.7/site-packages/librosa/util/decorators.py:88: UserWarning: PySoundFile failed. Trying audioread instead.\n",
      "  return f(*args, **kwargs)\n"
     ]
    },
    {
     "name": "stdout",
     "output_type": "stream",
     "text": [
      "DONE! READ 13 CHUNKS.\n",
      "ANALYZING AUDIO... DONE! Time 0.7 SECONDS\n",
      "DONE! WROTE 10 RESULTS.\n",
      "READING AUDIO DATA... "
     ]
    },
    {
     "name": "stderr",
     "output_type": "stream",
     "text": [
      "/anaconda3/lib/python3.7/site-packages/librosa/util/decorators.py:88: UserWarning: PySoundFile failed. Trying audioread instead.\n",
      "  return f(*args, **kwargs)\n"
     ]
    },
    {
     "name": "stdout",
     "output_type": "stream",
     "text": [
      "DONE! READ 7 CHUNKS.\n",
      "ANALYZING AUDIO... DONE! Time 0.3 SECONDS\n",
      "DONE! WROTE 4 RESULTS.\n",
      "READING AUDIO DATA... "
     ]
    },
    {
     "name": "stderr",
     "output_type": "stream",
     "text": [
      "/anaconda3/lib/python3.7/site-packages/librosa/util/decorators.py:88: UserWarning: PySoundFile failed. Trying audioread instead.\n",
      "  return f(*args, **kwargs)\n"
     ]
    },
    {
     "name": "stdout",
     "output_type": "stream",
     "text": [
      "DONE! READ 16 CHUNKS.\n",
      "ANALYZING AUDIO... DONE! Time 1.0 SECONDS\n",
      "DONE! WROTE 14 RESULTS.\n",
      "READING AUDIO DATA... DONE! READ 3 CHUNKS.\n",
      "ANALYZING AUDIO... "
     ]
    },
    {
     "name": "stderr",
     "output_type": "stream",
     "text": [
      "/anaconda3/lib/python3.7/site-packages/librosa/util/decorators.py:88: UserWarning: PySoundFile failed. Trying audioread instead.\n",
      "  return f(*args, **kwargs)\n"
     ]
    },
    {
     "name": "stdout",
     "output_type": "stream",
     "text": [
      "DONE! Time 0.2 SECONDS\n",
      "DONE! WROTE 3 RESULTS.\n",
      "READING AUDIO DATA... "
     ]
    },
    {
     "name": "stderr",
     "output_type": "stream",
     "text": [
      "/anaconda3/lib/python3.7/site-packages/librosa/util/decorators.py:88: UserWarning: PySoundFile failed. Trying audioread instead.\n",
      "  return f(*args, **kwargs)\n"
     ]
    },
    {
     "name": "stdout",
     "output_type": "stream",
     "text": [
      "DONE! READ 15 CHUNKS.\n",
      "ANALYZING AUDIO... DONE! Time 1.1 SECONDS\n",
      "DONE! WROTE 14 RESULTS.\n",
      "READING AUDIO DATA... DONE! READ 7 CHUNKS.\n",
      "ANALYZING AUDIO... "
     ]
    },
    {
     "name": "stderr",
     "output_type": "stream",
     "text": [
      "/anaconda3/lib/python3.7/site-packages/librosa/util/decorators.py:88: UserWarning: PySoundFile failed. Trying audioread instead.\n",
      "  return f(*args, **kwargs)\n"
     ]
    },
    {
     "name": "stdout",
     "output_type": "stream",
     "text": [
      "DONE! Time 0.3 SECONDS\n",
      "DONE! WROTE 4 RESULTS.\n",
      "READING AUDIO DATA... DONE! READ 17 CHUNKS.\n",
      "ANALYZING AUDIO... "
     ]
    },
    {
     "name": "stderr",
     "output_type": "stream",
     "text": [
      "/anaconda3/lib/python3.7/site-packages/librosa/util/decorators.py:88: UserWarning: PySoundFile failed. Trying audioread instead.\n",
      "  return f(*args, **kwargs)\n"
     ]
    },
    {
     "name": "stdout",
     "output_type": "stream",
     "text": [
      "DONE! Time 0.3 SECONDS\n",
      "DONE! WROTE 4 RESULTS.\n",
      "READING AUDIO DATA... "
     ]
    },
    {
     "name": "stderr",
     "output_type": "stream",
     "text": [
      "/anaconda3/lib/python3.7/site-packages/librosa/util/decorators.py:88: UserWarning: PySoundFile failed. Trying audioread instead.\n",
      "  return f(*args, **kwargs)\n"
     ]
    },
    {
     "name": "stdout",
     "output_type": "stream",
     "text": [
      "DONE! READ 43 CHUNKS.\n",
      "ANALYZING AUDIO... DONE! Time 2.8 SECONDS\n",
      "DONE! WROTE 38 RESULTS.\n",
      "READING AUDIO DATA... "
     ]
    },
    {
     "name": "stderr",
     "output_type": "stream",
     "text": [
      "/anaconda3/lib/python3.7/site-packages/librosa/util/decorators.py:88: UserWarning: PySoundFile failed. Trying audioread instead.\n",
      "  return f(*args, **kwargs)\n"
     ]
    },
    {
     "name": "stdout",
     "output_type": "stream",
     "text": [
      "DONE! READ 12 CHUNKS.\n",
      "ANALYZING AUDIO... DONE! Time 0.8 SECONDS\n",
      "DONE! WROTE 11 RESULTS.\n",
      "READING AUDIO DATA... "
     ]
    },
    {
     "name": "stderr",
     "output_type": "stream",
     "text": [
      "/anaconda3/lib/python3.7/site-packages/librosa/util/decorators.py:88: UserWarning: PySoundFile failed. Trying audioread instead.\n",
      "  return f(*args, **kwargs)\n"
     ]
    },
    {
     "name": "stdout",
     "output_type": "stream",
     "text": [
      "DONE! READ 18 CHUNKS.\n",
      "ANALYZING AUDIO... DONE! Time 1.1 SECONDS\n",
      "DONE! WROTE 15 RESULTS.\n",
      "READING AUDIO DATA... "
     ]
    },
    {
     "name": "stderr",
     "output_type": "stream",
     "text": [
      "/anaconda3/lib/python3.7/site-packages/librosa/util/decorators.py:88: UserWarning: PySoundFile failed. Trying audioread instead.\n",
      "  return f(*args, **kwargs)\n"
     ]
    },
    {
     "name": "stdout",
     "output_type": "stream",
     "text": [
      "DONE! READ 6 CHUNKS.\n",
      "ANALYZING AUDIO... DONE! Time 0.3 SECONDS\n",
      "DONE! WROTE 5 RESULTS.\n",
      "READING AUDIO DATA... "
     ]
    },
    {
     "name": "stderr",
     "output_type": "stream",
     "text": [
      "/anaconda3/lib/python3.7/site-packages/librosa/util/decorators.py:88: UserWarning: PySoundFile failed. Trying audioread instead.\n",
      "  return f(*args, **kwargs)\n"
     ]
    },
    {
     "name": "stdout",
     "output_type": "stream",
     "text": [
      "DONE! READ 8 CHUNKS.\n",
      "ANALYZING AUDIO... DONE! Time 0.5 SECONDS\n",
      "DONE! WROTE 7 RESULTS.\n",
      "READING AUDIO DATA... DONE! READ 10 CHUNKS.\n",
      "ANALYZING AUDIO... "
     ]
    },
    {
     "name": "stderr",
     "output_type": "stream",
     "text": [
      "/anaconda3/lib/python3.7/site-packages/librosa/util/decorators.py:88: UserWarning: PySoundFile failed. Trying audioread instead.\n",
      "  return f(*args, **kwargs)\n"
     ]
    },
    {
     "name": "stdout",
     "output_type": "stream",
     "text": [
      "DONE! Time 0.6 SECONDS\n",
      "DONE! WROTE 9 RESULTS.\n",
      "READING AUDIO DATA... DONE! READ 20 CHUNKS.\n",
      "ANALYZING AUDIO... "
     ]
    },
    {
     "name": "stderr",
     "output_type": "stream",
     "text": [
      "/anaconda3/lib/python3.7/site-packages/librosa/util/decorators.py:88: UserWarning: PySoundFile failed. Trying audioread instead.\n",
      "  return f(*args, **kwargs)\n"
     ]
    },
    {
     "name": "stdout",
     "output_type": "stream",
     "text": [
      "DONE! Time 0.8 SECONDS\n",
      "DONE! WROTE 12 RESULTS.\n",
      "READING AUDIO DATA... "
     ]
    },
    {
     "name": "stderr",
     "output_type": "stream",
     "text": [
      "/anaconda3/lib/python3.7/site-packages/librosa/util/decorators.py:88: UserWarning: PySoundFile failed. Trying audioread instead.\n",
      "  return f(*args, **kwargs)\n"
     ]
    },
    {
     "name": "stdout",
     "output_type": "stream",
     "text": [
      "DONE! READ 62 CHUNKS.\n",
      "ANALYZING AUDIO... DONE! Time 3.7 SECONDS\n",
      "DONE! WROTE 52 RESULTS.\n",
      "READING AUDIO DATA... "
     ]
    },
    {
     "name": "stderr",
     "output_type": "stream",
     "text": [
      "/anaconda3/lib/python3.7/site-packages/librosa/util/decorators.py:88: UserWarning: PySoundFile failed. Trying audioread instead.\n",
      "  return f(*args, **kwargs)\n"
     ]
    },
    {
     "name": "stdout",
     "output_type": "stream",
     "text": [
      "DONE! READ 5 CHUNKS.\n",
      "ANALYZING AUDIO... DONE! Time 0.3 SECONDS\n",
      "DONE! WROTE 5 RESULTS.\n",
      "READING AUDIO DATA... "
     ]
    },
    {
     "name": "stderr",
     "output_type": "stream",
     "text": [
      "/anaconda3/lib/python3.7/site-packages/librosa/util/decorators.py:88: UserWarning: PySoundFile failed. Trying audioread instead.\n",
      "  return f(*args, **kwargs)\n"
     ]
    },
    {
     "name": "stdout",
     "output_type": "stream",
     "text": [
      "DONE! READ 7 CHUNKS.\n",
      "ANALYZING AUDIO... DONE! Time 0.2 SECONDS\n",
      "DONE! WROTE 4 RESULTS.\n",
      "READING AUDIO DATA... "
     ]
    },
    {
     "name": "stderr",
     "output_type": "stream",
     "text": [
      "/anaconda3/lib/python3.7/site-packages/librosa/util/decorators.py:88: UserWarning: PySoundFile failed. Trying audioread instead.\n",
      "  return f(*args, **kwargs)\n"
     ]
    },
    {
     "name": "stdout",
     "output_type": "stream",
     "text": [
      "DONE! READ 43 CHUNKS.\n",
      "ANALYZING AUDIO... DONE! Time 3.1 SECONDS\n",
      "DONE! WROTE 41 RESULTS.\n",
      "READING AUDIO DATA... DONE! READ 1 CHUNKS.\n",
      "ANALYZING AUDIO... DONE! Time 0.0 SECONDS\n",
      "DONE! WROTE 1 RESULTS.\n",
      "READING AUDIO DATA... "
     ]
    },
    {
     "name": "stderr",
     "output_type": "stream",
     "text": [
      "/anaconda3/lib/python3.7/site-packages/librosa/util/decorators.py:88: UserWarning: PySoundFile failed. Trying audioread instead.\n",
      "  return f(*args, **kwargs)\n",
      "/anaconda3/lib/python3.7/site-packages/librosa/util/decorators.py:88: UserWarning: PySoundFile failed. Trying audioread instead.\n",
      "  return f(*args, **kwargs)\n"
     ]
    },
    {
     "name": "stdout",
     "output_type": "stream",
     "text": [
      "DONE! READ 16 CHUNKS.\n",
      "ANALYZING AUDIO... DONE! Time 1.1 SECONDS\n",
      "DONE! WROTE 15 RESULTS.\n",
      "READING AUDIO DATA... DONE! READ 10 CHUNKS.\n",
      "ANALYZING AUDIO... "
     ]
    },
    {
     "name": "stderr",
     "output_type": "stream",
     "text": [
      "/anaconda3/lib/python3.7/site-packages/librosa/util/decorators.py:88: UserWarning: PySoundFile failed. Trying audioread instead.\n",
      "  return f(*args, **kwargs)\n"
     ]
    },
    {
     "name": "stdout",
     "output_type": "stream",
     "text": [
      "DONE! Time 0.6 SECONDS\n",
      "DONE! WROTE 9 RESULTS.\n",
      "READING AUDIO DATA... "
     ]
    },
    {
     "name": "stderr",
     "output_type": "stream",
     "text": [
      "/anaconda3/lib/python3.7/site-packages/librosa/util/decorators.py:88: UserWarning: PySoundFile failed. Trying audioread instead.\n",
      "  return f(*args, **kwargs)\n"
     ]
    },
    {
     "name": "stdout",
     "output_type": "stream",
     "text": [
      "DONE! READ 9 CHUNKS.\n",
      "ANALYZING AUDIO... DONE! Time 0.4 SECONDS\n",
      "DONE! WROTE 6 RESULTS.\n",
      "READING AUDIO DATA... "
     ]
    },
    {
     "name": "stderr",
     "output_type": "stream",
     "text": [
      "/anaconda3/lib/python3.7/site-packages/librosa/util/decorators.py:88: UserWarning: PySoundFile failed. Trying audioread instead.\n",
      "  return f(*args, **kwargs)\n"
     ]
    },
    {
     "name": "stdout",
     "output_type": "stream",
     "text": [
      "DONE! READ 21 CHUNKS.\n",
      "ANALYZING AUDIO... DONE! Time 1.4 SECONDS\n",
      "DONE! WROTE 20 RESULTS.\n",
      "READING AUDIO DATA... "
     ]
    },
    {
     "name": "stderr",
     "output_type": "stream",
     "text": [
      "/anaconda3/lib/python3.7/site-packages/librosa/util/decorators.py:88: UserWarning: PySoundFile failed. Trying audioread instead.\n",
      "  return f(*args, **kwargs)\n"
     ]
    },
    {
     "name": "stdout",
     "output_type": "stream",
     "text": [
      "DONE! READ 12 CHUNKS.\n",
      "ANALYZING AUDIO... DONE! Time 0.6 SECONDS\n",
      "DONE! WROTE 8 RESULTS.\n",
      "READING AUDIO DATA... "
     ]
    },
    {
     "name": "stderr",
     "output_type": "stream",
     "text": [
      "/anaconda3/lib/python3.7/site-packages/librosa/util/decorators.py:88: UserWarning: PySoundFile failed. Trying audioread instead.\n",
      "  return f(*args, **kwargs)\n"
     ]
    },
    {
     "name": "stdout",
     "output_type": "stream",
     "text": [
      "DONE! READ 32 CHUNKS.\n",
      "ANALYZING AUDIO... DONE! Time 0.9 SECONDS\n",
      "DONE! WROTE 12 RESULTS.\n",
      "READING AUDIO DATA... "
     ]
    },
    {
     "name": "stderr",
     "output_type": "stream",
     "text": [
      "/anaconda3/lib/python3.7/site-packages/librosa/util/decorators.py:88: UserWarning: PySoundFile failed. Trying audioread instead.\n",
      "  return f(*args, **kwargs)\n"
     ]
    },
    {
     "name": "stdout",
     "output_type": "stream",
     "text": [
      "DONE! READ 16 CHUNKS.\n",
      "ANALYZING AUDIO... DONE! Time 0.9 SECONDS\n",
      "DONE! WROTE 13 RESULTS.\n",
      "READING AUDIO DATA... "
     ]
    },
    {
     "name": "stderr",
     "output_type": "stream",
     "text": [
      "/anaconda3/lib/python3.7/site-packages/librosa/util/decorators.py:88: UserWarning: PySoundFile failed. Trying audioread instead.\n",
      "  return f(*args, **kwargs)\n"
     ]
    },
    {
     "name": "stdout",
     "output_type": "stream",
     "text": [
      "DONE! READ 7 CHUNKS.\n",
      "ANALYZING AUDIO... DONE! Time 0.4 SECONDS\n",
      "DONE! WROTE 6 RESULTS.\n",
      "READING AUDIO DATA... "
     ]
    },
    {
     "name": "stderr",
     "output_type": "stream",
     "text": [
      "/anaconda3/lib/python3.7/site-packages/librosa/util/decorators.py:88: UserWarning: PySoundFile failed. Trying audioread instead.\n",
      "  return f(*args, **kwargs)\n"
     ]
    },
    {
     "name": "stdout",
     "output_type": "stream",
     "text": [
      "DONE! READ 69 CHUNKS.\n",
      "ANALYZING AUDIO... DONE! Time 5.0 SECONDS\n",
      "DONE! WROTE 65 RESULTS.\n",
      "READING AUDIO DATA... "
     ]
    },
    {
     "name": "stderr",
     "output_type": "stream",
     "text": [
      "/anaconda3/lib/python3.7/site-packages/librosa/util/decorators.py:88: UserWarning: PySoundFile failed. Trying audioread instead.\n",
      "  return f(*args, **kwargs)\n"
     ]
    },
    {
     "name": "stdout",
     "output_type": "stream",
     "text": [
      "DONE! READ 18 CHUNKS.\n",
      "ANALYZING AUDIO... DONE! Time 1.4 SECONDS\n",
      "DONE! WROTE 18 RESULTS.\n",
      "READING AUDIO DATA... DONE! READ 31 CHUNKS.\n",
      "ANALYZING AUDIO... "
     ]
    },
    {
     "name": "stderr",
     "output_type": "stream",
     "text": [
      "/anaconda3/lib/python3.7/site-packages/librosa/util/decorators.py:88: UserWarning: PySoundFile failed. Trying audioread instead.\n",
      "  return f(*args, **kwargs)\n"
     ]
    },
    {
     "name": "stdout",
     "output_type": "stream",
     "text": [
      "DONE! Time 2.7 SECONDS\n",
      "DONE! WROTE 31 RESULTS.\n",
      "READING AUDIO DATA... "
     ]
    },
    {
     "name": "stderr",
     "output_type": "stream",
     "text": [
      "/anaconda3/lib/python3.7/site-packages/librosa/util/decorators.py:88: UserWarning: PySoundFile failed. Trying audioread instead.\n",
      "  return f(*args, **kwargs)\n"
     ]
    },
    {
     "name": "stdout",
     "output_type": "stream",
     "text": [
      "DONE! READ 26 CHUNKS.\n",
      "ANALYZING AUDIO... DONE! Time 0.5 SECONDS\n",
      "DONE! WROTE 7 RESULTS.\n",
      "READING AUDIO DATA... DONE! READ 18 CHUNKS.\n",
      "ANALYZING AUDIO... "
     ]
    },
    {
     "name": "stderr",
     "output_type": "stream",
     "text": [
      "/anaconda3/lib/python3.7/site-packages/librosa/util/decorators.py:88: UserWarning: PySoundFile failed. Trying audioread instead.\n",
      "  return f(*args, **kwargs)\n"
     ]
    },
    {
     "name": "stdout",
     "output_type": "stream",
     "text": [
      "DONE! Time 1.1 SECONDS\n",
      "DONE! WROTE 15 RESULTS.\n",
      "READING AUDIO DATA... local variable 'sig' referenced before assignment\n",
      "Error in processing file: /Users/vanessasalgado/Desktop/E4E-Acoustics.nosync/PyHa/cosmos_random_sample_processing/XC523 - Scaly-breasted Woodpecker - Celeus grammicus.mp3\n",
      "READING AUDIO DATA... "
     ]
    },
    {
     "name": "stderr",
     "output_type": "stream",
     "text": [
      "/anaconda3/lib/python3.7/site-packages/librosa/util/decorators.py:88: UserWarning: PySoundFile failed. Trying audioread instead.\n",
      "  return f(*args, **kwargs)\n"
     ]
    },
    {
     "name": "stdout",
     "output_type": "stream",
     "text": [
      "DONE! READ 6 CHUNKS.\n",
      "ANALYZING AUDIO... DONE! Time 0.3 SECONDS\n",
      "DONE! WROTE 4 RESULTS.\n",
      "READING AUDIO DATA... DONE! READ 1 CHUNKS.\n",
      "ANALYZING AUDIO... DONE! Time 0.0 SECONDS\n",
      "DONE! WROTE 1 RESULTS.\n",
      "READING AUDIO DATA... "
     ]
    },
    {
     "name": "stderr",
     "output_type": "stream",
     "text": [
      "/anaconda3/lib/python3.7/site-packages/librosa/util/decorators.py:88: UserWarning: PySoundFile failed. Trying audioread instead.\n",
      "  return f(*args, **kwargs)\n",
      "/anaconda3/lib/python3.7/site-packages/librosa/util/decorators.py:88: UserWarning: PySoundFile failed. Trying audioread instead.\n",
      "  return f(*args, **kwargs)\n"
     ]
    },
    {
     "name": "stdout",
     "output_type": "stream",
     "text": [
      "DONE! READ 3 CHUNKS.\n",
      "ANALYZING AUDIO... DONE! Time 0.1 SECONDS\n",
      "DONE! WROTE 2 RESULTS.\n",
      "READING AUDIO DATA... "
     ]
    },
    {
     "name": "stderr",
     "output_type": "stream",
     "text": [
      "/anaconda3/lib/python3.7/site-packages/librosa/util/decorators.py:88: UserWarning: PySoundFile failed. Trying audioread instead.\n",
      "  return f(*args, **kwargs)\n"
     ]
    },
    {
     "name": "stdout",
     "output_type": "stream",
     "text": [
      "DONE! READ 11 CHUNKS.\n",
      "ANALYZING AUDIO... DONE! Time 0.4 SECONDS\n",
      "DONE! WROTE 5 RESULTS.\n",
      "READING AUDIO DATA... DONE! READ 6 CHUNKS.\n",
      "ANALYZING AUDIO... "
     ]
    },
    {
     "name": "stderr",
     "output_type": "stream",
     "text": [
      "/anaconda3/lib/python3.7/site-packages/librosa/util/decorators.py:88: UserWarning: PySoundFile failed. Trying audioread instead.\n",
      "  return f(*args, **kwargs)\n"
     ]
    },
    {
     "name": "stdout",
     "output_type": "stream",
     "text": [
      "DONE! Time 0.4 SECONDS\n",
      "DONE! WROTE 6 RESULTS.\n",
      "READING AUDIO DATA... "
     ]
    },
    {
     "name": "stderr",
     "output_type": "stream",
     "text": [
      "/anaconda3/lib/python3.7/site-packages/librosa/util/decorators.py:88: UserWarning: PySoundFile failed. Trying audioread instead.\n",
      "  return f(*args, **kwargs)\n"
     ]
    },
    {
     "name": "stdout",
     "output_type": "stream",
     "text": [
      "DONE! READ 13 CHUNKS.\n",
      "ANALYZING AUDIO... DONE! Time 0.4 SECONDS\n",
      "DONE! WROTE 6 RESULTS.\n",
      "READING AUDIO DATA... "
     ]
    },
    {
     "name": "stderr",
     "output_type": "stream",
     "text": [
      "/anaconda3/lib/python3.7/site-packages/librosa/util/decorators.py:88: UserWarning: PySoundFile failed. Trying audioread instead.\n",
      "  return f(*args, **kwargs)\n"
     ]
    },
    {
     "name": "stdout",
     "output_type": "stream",
     "text": [
      "DONE! READ 28 CHUNKS.\n",
      "ANALYZING AUDIO... DONE! Time 1.3 SECONDS\n",
      "DONE! WROTE 17 RESULTS.\n",
      "READING AUDIO DATA... DONE! READ 7 CHUNKS.\n",
      "ANALYZING AUDIO... "
     ]
    },
    {
     "name": "stderr",
     "output_type": "stream",
     "text": [
      "/anaconda3/lib/python3.7/site-packages/librosa/util/decorators.py:88: UserWarning: PySoundFile failed. Trying audioread instead.\n",
      "  return f(*args, **kwargs)\n"
     ]
    },
    {
     "name": "stdout",
     "output_type": "stream",
     "text": [
      "DONE! Time 0.4 SECONDS\n",
      "DONE! WROTE 6 RESULTS.\n",
      "READING AUDIO DATA... "
     ]
    },
    {
     "name": "stderr",
     "output_type": "stream",
     "text": [
      "/anaconda3/lib/python3.7/site-packages/librosa/util/decorators.py:88: UserWarning: PySoundFile failed. Trying audioread instead.\n",
      "  return f(*args, **kwargs)\n"
     ]
    },
    {
     "name": "stdout",
     "output_type": "stream",
     "text": [
      "DONE! READ 8 CHUNKS.\n",
      "ANALYZING AUDIO... DONE! Time 0.5 SECONDS\n",
      "DONE! WROTE 7 RESULTS.\n",
      "READING AUDIO DATA... DONE! READ 4 CHUNKS.\n",
      "ANALYZING AUDIO... "
     ]
    },
    {
     "name": "stderr",
     "output_type": "stream",
     "text": [
      "/anaconda3/lib/python3.7/site-packages/librosa/util/decorators.py:88: UserWarning: PySoundFile failed. Trying audioread instead.\n",
      "  return f(*args, **kwargs)\n"
     ]
    },
    {
     "name": "stdout",
     "output_type": "stream",
     "text": [
      "DONE! Time 0.3 SECONDS\n",
      "DONE! WROTE 4 RESULTS.\n",
      "READING AUDIO DATA... "
     ]
    },
    {
     "name": "stderr",
     "output_type": "stream",
     "text": [
      "/anaconda3/lib/python3.7/site-packages/librosa/util/decorators.py:88: UserWarning: PySoundFile failed. Trying audioread instead.\n",
      "  return f(*args, **kwargs)\n"
     ]
    },
    {
     "name": "stdout",
     "output_type": "stream",
     "text": [
      "DONE! READ 24 CHUNKS.\n",
      "ANALYZING AUDIO... DONE! Time 2.4 SECONDS\n",
      "DONE! WROTE 19 RESULTS.\n",
      "READING AUDIO DATA... "
     ]
    },
    {
     "name": "stderr",
     "output_type": "stream",
     "text": [
      "/anaconda3/lib/python3.7/site-packages/librosa/util/decorators.py:88: UserWarning: PySoundFile failed. Trying audioread instead.\n",
      "  return f(*args, **kwargs)\n"
     ]
    },
    {
     "name": "stdout",
     "output_type": "stream",
     "text": [
      "DONE! READ 18 CHUNKS.\n",
      "ANALYZING AUDIO... DONE! Time 1.0 SECONDS\n",
      "DONE! WROTE 11 RESULTS.\n",
      "READING AUDIO DATA... "
     ]
    },
    {
     "name": "stderr",
     "output_type": "stream",
     "text": [
      "/anaconda3/lib/python3.7/site-packages/librosa/util/decorators.py:88: UserWarning: PySoundFile failed. Trying audioread instead.\n",
      "  return f(*args, **kwargs)\n"
     ]
    },
    {
     "name": "stdout",
     "output_type": "stream",
     "text": [
      "DONE! READ 43 CHUNKS.\n",
      "ANALYZING AUDIO... DONE! Time 2.7 SECONDS\n",
      "DONE! WROTE 30 RESULTS.\n",
      "READING AUDIO DATA... "
     ]
    },
    {
     "name": "stderr",
     "output_type": "stream",
     "text": [
      "/anaconda3/lib/python3.7/site-packages/librosa/util/decorators.py:88: UserWarning: PySoundFile failed. Trying audioread instead.\n",
      "  return f(*args, **kwargs)\n"
     ]
    },
    {
     "name": "stdout",
     "output_type": "stream",
     "text": [
      "DONE! READ 36 CHUNKS.\n",
      "ANALYZING AUDIO... DONE! Time 1.9 SECONDS\n",
      "DONE! WROTE 21 RESULTS.\n",
      "READING AUDIO DATA... "
     ]
    },
    {
     "name": "stderr",
     "output_type": "stream",
     "text": [
      "/anaconda3/lib/python3.7/site-packages/librosa/util/decorators.py:88: UserWarning: PySoundFile failed. Trying audioread instead.\n",
      "  return f(*args, **kwargs)\n"
     ]
    },
    {
     "name": "stdout",
     "output_type": "stream",
     "text": [
      "DONE! READ 61 CHUNKS.\n",
      "ANALYZING AUDIO... DONE! Time 0.6 SECONDS\n",
      "DONE! WROTE 7 RESULTS.\n",
      "READING AUDIO DATA... "
     ]
    },
    {
     "name": "stderr",
     "output_type": "stream",
     "text": [
      "/anaconda3/lib/python3.7/site-packages/librosa/util/decorators.py:88: UserWarning: PySoundFile failed. Trying audioread instead.\n",
      "  return f(*args, **kwargs)\n"
     ]
    },
    {
     "name": "stdout",
     "output_type": "stream",
     "text": [
      "DONE! READ 4 CHUNKS.\n",
      "ANALYZING AUDIO... DONE! Time 0.3 SECONDS\n",
      "DONE! WROTE 3 RESULTS.\n",
      "READING AUDIO DATA... "
     ]
    },
    {
     "name": "stderr",
     "output_type": "stream",
     "text": [
      "/anaconda3/lib/python3.7/site-packages/librosa/util/decorators.py:88: UserWarning: PySoundFile failed. Trying audioread instead.\n",
      "  return f(*args, **kwargs)\n"
     ]
    },
    {
     "name": "stdout",
     "output_type": "stream",
     "text": [
      "DONE! READ 23 CHUNKS.\n",
      "ANALYZING AUDIO... DONE! Time 2.1 SECONDS\n",
      "DONE! WROTE 23 RESULTS.\n",
      "READING AUDIO DATA... local variable 'sig' referenced before assignment\n",
      "Error in processing file: /Users/vanessasalgado/Desktop/E4E-Acoustics.nosync/PyHa/cosmos_random_sample_processing/XC30838 - Slate-throated Whitestart - Myioborus miniatus.mp3\n",
      "READING AUDIO DATA... "
     ]
    },
    {
     "name": "stderr",
     "output_type": "stream",
     "text": [
      "/anaconda3/lib/python3.7/site-packages/librosa/util/decorators.py:88: UserWarning: PySoundFile failed. Trying audioread instead.\n",
      "  return f(*args, **kwargs)\n"
     ]
    },
    {
     "name": "stdout",
     "output_type": "stream",
     "text": [
      "DONE! READ 10 CHUNKS.\n",
      "ANALYZING AUDIO... DONE! Time 0.8 SECONDS\n",
      "DONE! WROTE 10 RESULTS.\n",
      "READING AUDIO DATA... "
     ]
    },
    {
     "name": "stderr",
     "output_type": "stream",
     "text": [
      "/anaconda3/lib/python3.7/site-packages/librosa/util/decorators.py:88: UserWarning: PySoundFile failed. Trying audioread instead.\n",
      "  return f(*args, **kwargs)\n"
     ]
    },
    {
     "name": "stdout",
     "output_type": "stream",
     "text": [
      "DONE! READ 19 CHUNKS.\n",
      "ANALYZING AUDIO... DONE! Time 1.6 SECONDS\n",
      "DONE! WROTE 16 RESULTS.\n",
      "READING AUDIO DATA... "
     ]
    },
    {
     "name": "stderr",
     "output_type": "stream",
     "text": [
      "/anaconda3/lib/python3.7/site-packages/librosa/util/decorators.py:88: UserWarning: PySoundFile failed. Trying audioread instead.\n",
      "  return f(*args, **kwargs)\n"
     ]
    },
    {
     "name": "stdout",
     "output_type": "stream",
     "text": [
      "DONE! READ 9 CHUNKS.\n",
      "ANALYZING AUDIO... DONE! Time 0.4 SECONDS\n",
      "DONE! WROTE 6 RESULTS.\n",
      "READING AUDIO DATA... "
     ]
    },
    {
     "name": "stderr",
     "output_type": "stream",
     "text": [
      "/anaconda3/lib/python3.7/site-packages/librosa/util/decorators.py:88: UserWarning: PySoundFile failed. Trying audioread instead.\n",
      "  return f(*args, **kwargs)\n"
     ]
    },
    {
     "name": "stdout",
     "output_type": "stream",
     "text": [
      "DONE! READ 10 CHUNKS.\n",
      "ANALYZING AUDIO... DONE! Time 0.7 SECONDS\n",
      "DONE! WROTE 9 RESULTS.\n",
      "READING AUDIO DATA... "
     ]
    },
    {
     "name": "stderr",
     "output_type": "stream",
     "text": [
      "/anaconda3/lib/python3.7/site-packages/librosa/util/decorators.py:88: UserWarning: PySoundFile failed. Trying audioread instead.\n",
      "  return f(*args, **kwargs)\n"
     ]
    },
    {
     "name": "stdout",
     "output_type": "stream",
     "text": [
      "DONE! READ 14 CHUNKS.\n",
      "ANALYZING AUDIO... DONE! Time 0.8 SECONDS\n",
      "DONE! WROTE 10 RESULTS.\n",
      "READING AUDIO DATA... "
     ]
    },
    {
     "name": "stderr",
     "output_type": "stream",
     "text": [
      "/anaconda3/lib/python3.7/site-packages/librosa/util/decorators.py:88: UserWarning: PySoundFile failed. Trying audioread instead.\n",
      "  return f(*args, **kwargs)\n"
     ]
    },
    {
     "name": "stdout",
     "output_type": "stream",
     "text": [
      "DONE! READ 54 CHUNKS.\n",
      "ANALYZING AUDIO... DONE! Time 2.8 SECONDS\n",
      "DONE! WROTE 32 RESULTS.\n",
      "READING AUDIO DATA... DONE! READ 2 CHUNKS.\n",
      "ANALYZING AUDIO... "
     ]
    },
    {
     "name": "stderr",
     "output_type": "stream",
     "text": [
      "/anaconda3/lib/python3.7/site-packages/librosa/util/decorators.py:88: UserWarning: PySoundFile failed. Trying audioread instead.\n",
      "  return f(*args, **kwargs)\n"
     ]
    },
    {
     "name": "stdout",
     "output_type": "stream",
     "text": [
      "DONE! Time 0.1 SECONDS\n",
      "DONE! WROTE 1 RESULTS.\n",
      "READING AUDIO DATA... DONE! READ 2 CHUNKS.\n",
      "ANALYZING AUDIO... "
     ]
    },
    {
     "name": "stderr",
     "output_type": "stream",
     "text": [
      "/anaconda3/lib/python3.7/site-packages/librosa/util/decorators.py:88: UserWarning: PySoundFile failed. Trying audioread instead.\n",
      "  return f(*args, **kwargs)\n"
     ]
    },
    {
     "name": "stdout",
     "output_type": "stream",
     "text": [
      "DONE! Time 0.1 SECONDS\n",
      "DONE! WROTE 2 RESULTS.\n",
      "READING AUDIO DATA... DONE! READ 1 CHUNKS.\n",
      "ANALYZING AUDIO... DONE! Time 0.0 SECONDS\n",
      "DONE! WROTE 1 RESULTS.\n",
      "READING AUDIO DATA... "
     ]
    },
    {
     "name": "stderr",
     "output_type": "stream",
     "text": [
      "/anaconda3/lib/python3.7/site-packages/librosa/util/decorators.py:88: UserWarning: PySoundFile failed. Trying audioread instead.\n",
      "  return f(*args, **kwargs)\n",
      "/anaconda3/lib/python3.7/site-packages/librosa/util/decorators.py:88: UserWarning: PySoundFile failed. Trying audioread instead.\n",
      "  return f(*args, **kwargs)\n"
     ]
    },
    {
     "name": "stdout",
     "output_type": "stream",
     "text": [
      "DONE! READ 6 CHUNKS.\n",
      "ANALYZING AUDIO... DONE! Time 0.4 SECONDS\n",
      "DONE! WROTE 5 RESULTS.\n",
      "READING AUDIO DATA... "
     ]
    },
    {
     "name": "stderr",
     "output_type": "stream",
     "text": [
      "/anaconda3/lib/python3.7/site-packages/librosa/util/decorators.py:88: UserWarning: PySoundFile failed. Trying audioread instead.\n",
      "  return f(*args, **kwargs)\n"
     ]
    },
    {
     "name": "stdout",
     "output_type": "stream",
     "text": [
      "DONE! READ 17 CHUNKS.\n",
      "ANALYZING AUDIO... DONE! Time 1.4 SECONDS\n",
      "DONE! WROTE 17 RESULTS.\n",
      "READING AUDIO DATA... "
     ]
    },
    {
     "name": "stderr",
     "output_type": "stream",
     "text": [
      "/anaconda3/lib/python3.7/site-packages/librosa/util/decorators.py:88: UserWarning: PySoundFile failed. Trying audioread instead.\n",
      "  return f(*args, **kwargs)\n"
     ]
    },
    {
     "name": "stdout",
     "output_type": "stream",
     "text": [
      "DONE! READ 5 CHUNKS.\n",
      "ANALYZING AUDIO... DONE! Time 0.5 SECONDS\n",
      "DONE! WROTE 5 RESULTS.\n",
      "READING AUDIO DATA... "
     ]
    },
    {
     "name": "stderr",
     "output_type": "stream",
     "text": [
      "/anaconda3/lib/python3.7/site-packages/librosa/util/decorators.py:88: UserWarning: PySoundFile failed. Trying audioread instead.\n",
      "  return f(*args, **kwargs)\n"
     ]
    },
    {
     "name": "stdout",
     "output_type": "stream",
     "text": [
      "DONE! READ 5 CHUNKS.\n",
      "ANALYZING AUDIO... DONE! Time 0.2 SECONDS\n",
      "DONE! WROTE 3 RESULTS.\n",
      "READING AUDIO DATA... DONE! READ 9 CHUNKS.\n",
      "ANALYZING AUDIO... "
     ]
    },
    {
     "name": "stderr",
     "output_type": "stream",
     "text": [
      "/anaconda3/lib/python3.7/site-packages/librosa/util/decorators.py:88: UserWarning: PySoundFile failed. Trying audioread instead.\n",
      "  return f(*args, **kwargs)\n"
     ]
    },
    {
     "name": "stdout",
     "output_type": "stream",
     "text": [
      "DONE! Time 0.7 SECONDS\n",
      "DONE! WROTE 8 RESULTS.\n",
      "READING AUDIO DATA... DONE! READ 10 CHUNKS.\n",
      "ANALYZING AUDIO... "
     ]
    },
    {
     "name": "stderr",
     "output_type": "stream",
     "text": [
      "/anaconda3/lib/python3.7/site-packages/librosa/util/decorators.py:88: UserWarning: PySoundFile failed. Trying audioread instead.\n",
      "  return f(*args, **kwargs)\n"
     ]
    },
    {
     "name": "stdout",
     "output_type": "stream",
     "text": [
      "DONE! Time 0.8 SECONDS\n",
      "DONE! WROTE 9 RESULTS.\n",
      "READING AUDIO DATA... DONE! READ 2 CHUNKS.\n",
      "ANALYZING AUDIO... "
     ]
    },
    {
     "name": "stderr",
     "output_type": "stream",
     "text": [
      "/anaconda3/lib/python3.7/site-packages/librosa/util/decorators.py:88: UserWarning: PySoundFile failed. Trying audioread instead.\n",
      "  return f(*args, **kwargs)\n"
     ]
    },
    {
     "name": "stdout",
     "output_type": "stream",
     "text": [
      "DONE! Time 0.1 SECONDS\n",
      "DONE! WROTE 2 RESULTS.\n",
      "READING AUDIO DATA... DONE! READ 3 CHUNKS.\n",
      "ANALYZING AUDIO... "
     ]
    },
    {
     "name": "stderr",
     "output_type": "stream",
     "text": [
      "/anaconda3/lib/python3.7/site-packages/librosa/util/decorators.py:88: UserWarning: PySoundFile failed. Trying audioread instead.\n",
      "  return f(*args, **kwargs)\n"
     ]
    },
    {
     "name": "stdout",
     "output_type": "stream",
     "text": [
      "DONE! Time 0.3 SECONDS\n",
      "DONE! WROTE 3 RESULTS.\n",
      "READING AUDIO DATA... "
     ]
    },
    {
     "name": "stderr",
     "output_type": "stream",
     "text": [
      "/anaconda3/lib/python3.7/site-packages/librosa/util/decorators.py:88: UserWarning: PySoundFile failed. Trying audioread instead.\n",
      "  return f(*args, **kwargs)\n"
     ]
    },
    {
     "name": "stdout",
     "output_type": "stream",
     "text": [
      "DONE! READ 14 CHUNKS.\n",
      "ANALYZING AUDIO... DONE! Time 1.0 SECONDS\n",
      "DONE! WROTE 13 RESULTS.\n",
      "READING AUDIO DATA... "
     ]
    },
    {
     "name": "stderr",
     "output_type": "stream",
     "text": [
      "/anaconda3/lib/python3.7/site-packages/librosa/util/decorators.py:88: UserWarning: PySoundFile failed. Trying audioread instead.\n",
      "  return f(*args, **kwargs)\n"
     ]
    },
    {
     "name": "stdout",
     "output_type": "stream",
     "text": [
      "DONE! READ 39 CHUNKS.\n",
      "ANALYZING AUDIO... DONE! Time 1.7 SECONDS\n",
      "DONE! WROTE 23 RESULTS.\n",
      "READING AUDIO DATA... local variable 'sig' referenced before assignment\n",
      "Error in processing file: /Users/vanessasalgado/Desktop/E4E-Acoustics.nosync/PyHa/cosmos_random_sample_processing/XC207197 - Blue-grey Tanager - Thraupis episcopus.mp3\n",
      "READING AUDIO DATA... "
     ]
    },
    {
     "name": "stderr",
     "output_type": "stream",
     "text": [
      "/anaconda3/lib/python3.7/site-packages/librosa/util/decorators.py:88: UserWarning: PySoundFile failed. Trying audioread instead.\n",
      "  return f(*args, **kwargs)\n"
     ]
    },
    {
     "name": "stdout",
     "output_type": "stream",
     "text": [
      "DONE! READ 32 CHUNKS.\n",
      "ANALYZING AUDIO... DONE! Time 1.5 SECONDS\n",
      "DONE! WROTE 21 RESULTS.\n",
      "READING AUDIO DATA... "
     ]
    },
    {
     "name": "stderr",
     "output_type": "stream",
     "text": [
      "/anaconda3/lib/python3.7/site-packages/librosa/util/decorators.py:88: UserWarning: PySoundFile failed. Trying audioread instead.\n",
      "  return f(*args, **kwargs)\n"
     ]
    },
    {
     "name": "stdout",
     "output_type": "stream",
     "text": [
      "DONE! READ 10 CHUNKS.\n",
      "ANALYZING AUDIO... DONE! Time 0.2 SECONDS\n",
      "DONE! WROTE 3 RESULTS.\n",
      "READING AUDIO DATA... local variable 'sig' referenced before assignment\n",
      "Error in processing file: /Users/vanessasalgado/Desktop/E4E-Acoustics.nosync/PyHa/cosmos_random_sample_processing/XC104217 - Slate-throated Whitestart - Myioborus miniatus.mp3\n",
      "READING AUDIO DATA... local variable 'sig' referenced before assignment\n",
      "Error in processing file: /Users/vanessasalgado/Desktop/E4E-Acoustics.nosync/PyHa/cosmos_random_sample_processing/XC612240 - Buff-throated Woodcreeper - Xiphorhynchus guttatus.mp3\n",
      "READING AUDIO DATA... "
     ]
    },
    {
     "name": "stderr",
     "output_type": "stream",
     "text": [
      "/anaconda3/lib/python3.7/site-packages/librosa/util/decorators.py:88: UserWarning: PySoundFile failed. Trying audioread instead.\n",
      "  return f(*args, **kwargs)\n"
     ]
    },
    {
     "name": "stdout",
     "output_type": "stream",
     "text": [
      "DONE! READ 15 CHUNKS.\n",
      "ANALYZING AUDIO... DONE! Time 0.5 SECONDS\n",
      "DONE! WROTE 7 RESULTS.\n",
      "READING AUDIO DATA... DONE! READ 5 CHUNKS.\n",
      "ANALYZING AUDIO... "
     ]
    },
    {
     "name": "stderr",
     "output_type": "stream",
     "text": [
      "/anaconda3/lib/python3.7/site-packages/librosa/util/decorators.py:88: UserWarning: PySoundFile failed. Trying audioread instead.\n",
      "  return f(*args, **kwargs)\n"
     ]
    },
    {
     "name": "stdout",
     "output_type": "stream",
     "text": [
      "DONE! Time 0.3 SECONDS\n",
      "DONE! WROTE 4 RESULTS.\n",
      "READING AUDIO DATA... DONE! READ 3 CHUNKS.\n",
      "ANALYZING AUDIO... "
     ]
    },
    {
     "name": "stderr",
     "output_type": "stream",
     "text": [
      "/anaconda3/lib/python3.7/site-packages/librosa/util/decorators.py:88: UserWarning: PySoundFile failed. Trying audioread instead.\n",
      "  return f(*args, **kwargs)\n"
     ]
    },
    {
     "name": "stdout",
     "output_type": "stream",
     "text": [
      "DONE! Time 0.2 SECONDS\n",
      "DONE! WROTE 3 RESULTS.\n",
      "READING AUDIO DATA... DONE! READ 2 CHUNKS.\n",
      "ANALYZING AUDIO... "
     ]
    },
    {
     "name": "stderr",
     "output_type": "stream",
     "text": [
      "/anaconda3/lib/python3.7/site-packages/librosa/util/decorators.py:88: UserWarning: PySoundFile failed. Trying audioread instead.\n",
      "  return f(*args, **kwargs)\n"
     ]
    },
    {
     "name": "stdout",
     "output_type": "stream",
     "text": [
      "DONE! Time 0.1 SECONDS\n",
      "DONE! WROTE 2 RESULTS.\n",
      "READING AUDIO DATA... "
     ]
    },
    {
     "name": "stderr",
     "output_type": "stream",
     "text": [
      "/anaconda3/lib/python3.7/site-packages/librosa/util/decorators.py:88: UserWarning: PySoundFile failed. Trying audioread instead.\n",
      "  return f(*args, **kwargs)\n"
     ]
    },
    {
     "name": "stdout",
     "output_type": "stream",
     "text": [
      "DONE! READ 20 CHUNKS.\n",
      "ANALYZING AUDIO... DONE! Time 1.6 SECONDS\n",
      "DONE! WROTE 19 RESULTS.\n",
      "READING AUDIO DATA... DONE! READ 8 CHUNKS.\n",
      "ANALYZING AUDIO... "
     ]
    },
    {
     "name": "stderr",
     "output_type": "stream",
     "text": [
      "/anaconda3/lib/python3.7/site-packages/librosa/util/decorators.py:88: UserWarning: PySoundFile failed. Trying audioread instead.\n",
      "  return f(*args, **kwargs)\n"
     ]
    },
    {
     "name": "stdout",
     "output_type": "stream",
     "text": [
      "DONE! Time 0.5 SECONDS\n",
      "DONE! WROTE 7 RESULTS.\n",
      "READING AUDIO DATA... "
     ]
    },
    {
     "name": "stderr",
     "output_type": "stream",
     "text": [
      "/anaconda3/lib/python3.7/site-packages/librosa/util/decorators.py:88: UserWarning: PySoundFile failed. Trying audioread instead.\n",
      "  return f(*args, **kwargs)\n"
     ]
    },
    {
     "name": "stdout",
     "output_type": "stream",
     "text": [
      "DONE! READ 11 CHUNKS.\n",
      "ANALYZING AUDIO... DONE! Time 0.8 SECONDS\n",
      "DONE! WROTE 10 RESULTS.\n",
      "READING AUDIO DATA... "
     ]
    },
    {
     "name": "stderr",
     "output_type": "stream",
     "text": [
      "/anaconda3/lib/python3.7/site-packages/librosa/util/decorators.py:88: UserWarning: PySoundFile failed. Trying audioread instead.\n",
      "  return f(*args, **kwargs)\n"
     ]
    },
    {
     "name": "stdout",
     "output_type": "stream",
     "text": [
      "DONE! READ 15 CHUNKS.\n",
      "ANALYZING AUDIO... DONE! Time 0.8 SECONDS\n",
      "DONE! WROTE 11 RESULTS.\n",
      "READING AUDIO DATA... "
     ]
    },
    {
     "name": "stderr",
     "output_type": "stream",
     "text": [
      "/anaconda3/lib/python3.7/site-packages/librosa/util/decorators.py:88: UserWarning: PySoundFile failed. Trying audioread instead.\n",
      "  return f(*args, **kwargs)\n"
     ]
    },
    {
     "name": "stdout",
     "output_type": "stream",
     "text": [
      "DONE! READ 14 CHUNKS.\n",
      "ANALYZING AUDIO... DONE! Time 1.1 SECONDS\n",
      "DONE! WROTE 14 RESULTS.\n",
      "READING AUDIO DATA... "
     ]
    },
    {
     "name": "stderr",
     "output_type": "stream",
     "text": [
      "/anaconda3/lib/python3.7/site-packages/librosa/util/decorators.py:88: UserWarning: PySoundFile failed. Trying audioread instead.\n",
      "  return f(*args, **kwargs)\n"
     ]
    },
    {
     "name": "stdout",
     "output_type": "stream",
     "text": [
      "DONE! READ 30 CHUNKS.\n",
      "ANALYZING AUDIO... DONE! Time 2.4 SECONDS\n",
      "DONE! WROTE 28 RESULTS.\n",
      "READING AUDIO DATA... DONE! READ 4 CHUNKS.\n",
      "ANALYZING AUDIO... "
     ]
    },
    {
     "name": "stderr",
     "output_type": "stream",
     "text": [
      "/anaconda3/lib/python3.7/site-packages/librosa/util/decorators.py:88: UserWarning: PySoundFile failed. Trying audioread instead.\n",
      "  return f(*args, **kwargs)\n"
     ]
    },
    {
     "name": "stdout",
     "output_type": "stream",
     "text": [
      "DONE! Time 0.2 SECONDS\n",
      "DONE! WROTE 3 RESULTS.\n",
      "READING AUDIO DATA... DONE! READ 3 CHUNKS.\n",
      "ANALYZING AUDIO... "
     ]
    },
    {
     "name": "stderr",
     "output_type": "stream",
     "text": [
      "/anaconda3/lib/python3.7/site-packages/librosa/util/decorators.py:88: UserWarning: PySoundFile failed. Trying audioread instead.\n",
      "  return f(*args, **kwargs)\n"
     ]
    },
    {
     "name": "stdout",
     "output_type": "stream",
     "text": [
      "DONE! Time 0.1 SECONDS\n",
      "DONE! WROTE 2 RESULTS.\n",
      "READING AUDIO DATA... DONE! READ 1 CHUNKS.\n",
      "ANALYZING AUDIO... DONE! Time 0.0 SECONDS\n",
      "DONE! WROTE 1 RESULTS.\n",
      "READING AUDIO DATA... "
     ]
    },
    {
     "name": "stderr",
     "output_type": "stream",
     "text": [
      "/anaconda3/lib/python3.7/site-packages/librosa/util/decorators.py:88: UserWarning: PySoundFile failed. Trying audioread instead.\n",
      "  return f(*args, **kwargs)\n",
      "/anaconda3/lib/python3.7/site-packages/librosa/util/decorators.py:88: UserWarning: PySoundFile failed. Trying audioread instead.\n",
      "  return f(*args, **kwargs)\n"
     ]
    },
    {
     "name": "stdout",
     "output_type": "stream",
     "text": [
      "DONE! READ 15 CHUNKS.\n",
      "ANALYZING AUDIO... DONE! Time 0.8 SECONDS\n",
      "DONE! WROTE 10 RESULTS.\n",
      "READING AUDIO DATA... "
     ]
    },
    {
     "name": "stderr",
     "output_type": "stream",
     "text": [
      "/anaconda3/lib/python3.7/site-packages/librosa/util/decorators.py:88: UserWarning: PySoundFile failed. Trying audioread instead.\n",
      "  return f(*args, **kwargs)\n"
     ]
    },
    {
     "name": "stdout",
     "output_type": "stream",
     "text": [
      "DONE! READ 11 CHUNKS.\n",
      "ANALYZING AUDIO... DONE! Time 0.4 SECONDS\n",
      "DONE! WROTE 6 RESULTS.\n",
      "READING AUDIO DATA... "
     ]
    },
    {
     "name": "stderr",
     "output_type": "stream",
     "text": [
      "/anaconda3/lib/python3.7/site-packages/librosa/util/decorators.py:88: UserWarning: PySoundFile failed. Trying audioread instead.\n",
      "  return f(*args, **kwargs)\n"
     ]
    },
    {
     "name": "stdout",
     "output_type": "stream",
     "text": [
      "DONE! READ 8 CHUNKS.\n",
      "ANALYZING AUDIO... DONE! Time 0.4 SECONDS\n",
      "DONE! WROTE 6 RESULTS.\n",
      "READING AUDIO DATA... "
     ]
    },
    {
     "name": "stderr",
     "output_type": "stream",
     "text": [
      "/anaconda3/lib/python3.7/site-packages/librosa/util/decorators.py:88: UserWarning: PySoundFile failed. Trying audioread instead.\n",
      "  return f(*args, **kwargs)\n"
     ]
    },
    {
     "name": "stdout",
     "output_type": "stream",
     "text": [
      "DONE! READ 15 CHUNKS.\n",
      "ANALYZING AUDIO... DONE! Time 1.9 SECONDS\n",
      "DONE! WROTE 15 RESULTS.\n",
      "READING AUDIO DATA... "
     ]
    },
    {
     "name": "stderr",
     "output_type": "stream",
     "text": [
      "/anaconda3/lib/python3.7/site-packages/librosa/util/decorators.py:88: UserWarning: PySoundFile failed. Trying audioread instead.\n",
      "  return f(*args, **kwargs)\n"
     ]
    },
    {
     "name": "stdout",
     "output_type": "stream",
     "text": [
      "DONE! READ 12 CHUNKS.\n",
      "ANALYZING AUDIO... DONE! Time 1.4 SECONDS\n",
      "DONE! WROTE 11 RESULTS.\n",
      "READING AUDIO DATA... "
     ]
    },
    {
     "name": "stderr",
     "output_type": "stream",
     "text": [
      "/anaconda3/lib/python3.7/site-packages/librosa/util/decorators.py:88: UserWarning: PySoundFile failed. Trying audioread instead.\n",
      "  return f(*args, **kwargs)\n"
     ]
    },
    {
     "name": "stdout",
     "output_type": "stream",
     "text": [
      "DONE! READ 15 CHUNKS.\n",
      "ANALYZING AUDIO... DONE! Time 4.1 SECONDS\n",
      "DONE! WROTE 14 RESULTS.\n",
      "READING AUDIO DATA... local variable 'sig' referenced before assignment\n",
      "Error in processing file: /Users/vanessasalgado/Desktop/E4E-Acoustics.nosync/PyHa/cosmos_random_sample_processing/XC44229 - Slate-throated Whitestart - Myioborus miniatus.mp3\n",
      "READING AUDIO DATA... "
     ]
    },
    {
     "name": "stderr",
     "output_type": "stream",
     "text": [
      "/anaconda3/lib/python3.7/site-packages/librosa/util/decorators.py:88: UserWarning: PySoundFile failed. Trying audioread instead.\n",
      "  return f(*args, **kwargs)\n"
     ]
    },
    {
     "name": "stdout",
     "output_type": "stream",
     "text": [
      "DONE! READ 22 CHUNKS.\n",
      "ANALYZING AUDIO... DONE! Time 4.2 SECONDS\n",
      "DONE! WROTE 17 RESULTS.\n",
      "READING AUDIO DATA... "
     ]
    },
    {
     "name": "stderr",
     "output_type": "stream",
     "text": [
      "/anaconda3/lib/python3.7/site-packages/librosa/util/decorators.py:88: UserWarning: PySoundFile failed. Trying audioread instead.\n",
      "  return f(*args, **kwargs)\n"
     ]
    },
    {
     "name": "stdout",
     "output_type": "stream",
     "text": [
      "DONE! READ 7 CHUNKS.\n",
      "ANALYZING AUDIO... DONE! Time 1.1 SECONDS\n",
      "DONE! WROTE 6 RESULTS.\n",
      "READING AUDIO DATA... local variable 'sig' referenced before assignment\n",
      "Error in processing file: /Users/vanessasalgado/Desktop/E4E-Acoustics.nosync/PyHa/cosmos_random_sample_processing/XC180580 - Yellow-olive Flatbill - Tolmomyias sulphurescens.mp3\n",
      "READING AUDIO DATA... "
     ]
    },
    {
     "name": "stderr",
     "output_type": "stream",
     "text": [
      "/anaconda3/lib/python3.7/site-packages/librosa/util/decorators.py:88: UserWarning: PySoundFile failed. Trying audioread instead.\n",
      "  return f(*args, **kwargs)\n"
     ]
    },
    {
     "name": "stdout",
     "output_type": "stream",
     "text": [
      "DONE! READ 34 CHUNKS.\n",
      "ANALYZING AUDIO... DONE! Time 2.6 SECONDS\n",
      "DONE! WROTE 18 RESULTS.\n",
      "READING AUDIO DATA... "
     ]
    },
    {
     "name": "stderr",
     "output_type": "stream",
     "text": [
      "/anaconda3/lib/python3.7/site-packages/librosa/util/decorators.py:88: UserWarning: PySoundFile failed. Trying audioread instead.\n",
      "  return f(*args, **kwargs)\n"
     ]
    },
    {
     "name": "stdout",
     "output_type": "stream",
     "text": [
      "DONE! READ 29 CHUNKS.\n",
      "ANALYZING AUDIO... DONE! Time 2.1 SECONDS\n",
      "DONE! WROTE 18 RESULTS.\n",
      "READING AUDIO DATA... "
     ]
    },
    {
     "name": "stderr",
     "output_type": "stream",
     "text": [
      "/anaconda3/lib/python3.7/site-packages/librosa/util/decorators.py:88: UserWarning: PySoundFile failed. Trying audioread instead.\n",
      "  return f(*args, **kwargs)\n"
     ]
    },
    {
     "name": "stdout",
     "output_type": "stream",
     "text": [
      "DONE! READ 5 CHUNKS.\n",
      "ANALYZING AUDIO... DONE! Time 1.0 SECONDS\n",
      "DONE! WROTE 4 RESULTS.\n",
      "READING AUDIO DATA... "
     ]
    },
    {
     "name": "stderr",
     "output_type": "stream",
     "text": [
      "/anaconda3/lib/python3.7/site-packages/librosa/util/decorators.py:88: UserWarning: PySoundFile failed. Trying audioread instead.\n",
      "  return f(*args, **kwargs)\n"
     ]
    },
    {
     "name": "stdout",
     "output_type": "stream",
     "text": [
      "DONE! READ 10 CHUNKS.\n",
      "ANALYZING AUDIO... DONE! Time 0.7 SECONDS\n",
      "DONE! WROTE 6 RESULTS.\n",
      "READING AUDIO DATA... "
     ]
    },
    {
     "name": "stderr",
     "output_type": "stream",
     "text": [
      "/anaconda3/lib/python3.7/site-packages/librosa/util/decorators.py:88: UserWarning: PySoundFile failed. Trying audioread instead.\n",
      "  return f(*args, **kwargs)\n"
     ]
    },
    {
     "name": "stdout",
     "output_type": "stream",
     "text": [
      "DONE! READ 7 CHUNKS.\n",
      "ANALYZING AUDIO... DONE! Time 0.2 SECONDS\n",
      "DONE! WROTE 2 RESULTS.\n",
      "READING AUDIO DATA... "
     ]
    },
    {
     "name": "stderr",
     "output_type": "stream",
     "text": [
      "/anaconda3/lib/python3.7/site-packages/librosa/util/decorators.py:88: UserWarning: PySoundFile failed. Trying audioread instead.\n",
      "  return f(*args, **kwargs)\n"
     ]
    },
    {
     "name": "stdout",
     "output_type": "stream",
     "text": [
      "DONE! READ 35 CHUNKS.\n",
      "ANALYZING AUDIO... DONE! Time 7.6 SECONDS\n",
      "DONE! WROTE 33 RESULTS.\n",
      "READING AUDIO DATA... "
     ]
    },
    {
     "name": "stderr",
     "output_type": "stream",
     "text": [
      "/anaconda3/lib/python3.7/site-packages/librosa/util/decorators.py:88: UserWarning: PySoundFile failed. Trying audioread instead.\n",
      "  return f(*args, **kwargs)\n"
     ]
    },
    {
     "name": "stdout",
     "output_type": "stream",
     "text": [
      "DONE! READ 3 CHUNKS.\n",
      "ANALYZING AUDIO... DONE! Time 0.3 SECONDS\n",
      "DONE! WROTE 2 RESULTS.\n",
      "READING AUDIO DATA... local variable 'sig' referenced before assignment\n",
      "Error in processing file: /Users/vanessasalgado/Desktop/E4E-Acoustics.nosync/PyHa/cosmos_random_sample_processing/XC120031 - Yellow-olive Flatbill - Tolmomyias sulphurescens.mp3\n",
      "READING AUDIO DATA... "
     ]
    },
    {
     "name": "stderr",
     "output_type": "stream",
     "text": [
      "/anaconda3/lib/python3.7/site-packages/librosa/util/decorators.py:88: UserWarning: PySoundFile failed. Trying audioread instead.\n",
      "  return f(*args, **kwargs)\n"
     ]
    },
    {
     "name": "stdout",
     "output_type": "stream",
     "text": [
      "DONE! READ 11 CHUNKS.\n",
      "ANALYZING AUDIO... DONE! Time 1.5 SECONDS\n",
      "DONE! WROTE 8 RESULTS.\n",
      "READING AUDIO DATA... DONE! READ 1 CHUNKS.\n",
      "ANALYZING AUDIO... "
     ]
    },
    {
     "name": "stderr",
     "output_type": "stream",
     "text": [
      "/anaconda3/lib/python3.7/site-packages/librosa/util/decorators.py:88: UserWarning: PySoundFile failed. Trying audioread instead.\n",
      "  return f(*args, **kwargs)\n"
     ]
    },
    {
     "name": "stdout",
     "output_type": "stream",
     "text": [
      "DONE! Time 0.2 SECONDS\n",
      "DONE! WROTE 1 RESULTS.\n",
      "READING AUDIO DATA... "
     ]
    },
    {
     "name": "stderr",
     "output_type": "stream",
     "text": [
      "/anaconda3/lib/python3.7/site-packages/librosa/util/decorators.py:88: UserWarning: PySoundFile failed. Trying audioread instead.\n",
      "  return f(*args, **kwargs)\n"
     ]
    },
    {
     "name": "stdout",
     "output_type": "stream",
     "text": [
      "DONE! READ 12 CHUNKS.\n",
      "ANALYZING AUDIO... DONE! Time 1.3 SECONDS\n",
      "DONE! WROTE 7 RESULTS.\n",
      "READING AUDIO DATA... "
     ]
    },
    {
     "name": "stderr",
     "output_type": "stream",
     "text": [
      "/anaconda3/lib/python3.7/site-packages/librosa/util/decorators.py:88: UserWarning: PySoundFile failed. Trying audioread instead.\n",
      "  return f(*args, **kwargs)\n"
     ]
    },
    {
     "name": "stdout",
     "output_type": "stream",
     "text": [
      "DONE! READ 6 CHUNKS.\n",
      "ANALYZING AUDIO... DONE! Time 0.9 SECONDS\n",
      "DONE! WROTE 4 RESULTS.\n",
      "READING AUDIO DATA... "
     ]
    },
    {
     "name": "stderr",
     "output_type": "stream",
     "text": [
      "/anaconda3/lib/python3.7/site-packages/librosa/util/decorators.py:88: UserWarning: PySoundFile failed. Trying audioread instead.\n",
      "  return f(*args, **kwargs)\n"
     ]
    },
    {
     "name": "stdout",
     "output_type": "stream",
     "text": [
      "DONE! READ 41 CHUNKS.\n",
      "ANALYZING AUDIO... DONE! Time 10.6 SECONDS\n",
      "DONE! WROTE 38 RESULTS.\n",
      "READING AUDIO DATA... "
     ]
    },
    {
     "name": "stderr",
     "output_type": "stream",
     "text": [
      "/anaconda3/lib/python3.7/site-packages/librosa/util/decorators.py:88: UserWarning: PySoundFile failed. Trying audioread instead.\n",
      "  return f(*args, **kwargs)\n"
     ]
    },
    {
     "name": "stdout",
     "output_type": "stream",
     "text": [
      "DONE! READ 57 CHUNKS.\n",
      "ANALYZING AUDIO... DONE! Time 7.7 SECONDS\n",
      "DONE! WROTE 41 RESULTS.\n",
      "READING AUDIO DATA... "
     ]
    },
    {
     "name": "stderr",
     "output_type": "stream",
     "text": [
      "/anaconda3/lib/python3.7/site-packages/librosa/util/decorators.py:88: UserWarning: PySoundFile failed. Trying audioread instead.\n",
      "  return f(*args, **kwargs)\n"
     ]
    },
    {
     "name": "stdout",
     "output_type": "stream",
     "text": [
      "DONE! READ 11 CHUNKS.\n",
      "ANALYZING AUDIO... DONE! Time 1.4 SECONDS\n",
      "DONE! WROTE 7 RESULTS.\n",
      "READING AUDIO DATA... "
     ]
    },
    {
     "name": "stderr",
     "output_type": "stream",
     "text": [
      "/anaconda3/lib/python3.7/site-packages/librosa/util/decorators.py:88: UserWarning: PySoundFile failed. Trying audioread instead.\n",
      "  return f(*args, **kwargs)\n"
     ]
    },
    {
     "name": "stdout",
     "output_type": "stream",
     "text": [
      "DONE! READ 10 CHUNKS.\n",
      "ANALYZING AUDIO... DONE! Time 2.3 SECONDS\n",
      "DONE! WROTE 8 RESULTS.\n",
      "READING AUDIO DATA... "
     ]
    },
    {
     "name": "stderr",
     "output_type": "stream",
     "text": [
      "/anaconda3/lib/python3.7/site-packages/librosa/util/decorators.py:88: UserWarning: PySoundFile failed. Trying audioread instead.\n",
      "  return f(*args, **kwargs)\n"
     ]
    },
    {
     "name": "stdout",
     "output_type": "stream",
     "text": [
      "DONE! READ 11 CHUNKS.\n",
      "ANALYZING AUDIO... DONE! Time 3.1 SECONDS\n",
      "DONE! WROTE 11 RESULTS.\n",
      "READING AUDIO DATA... "
     ]
    },
    {
     "name": "stderr",
     "output_type": "stream",
     "text": [
      "/anaconda3/lib/python3.7/site-packages/librosa/util/decorators.py:88: UserWarning: PySoundFile failed. Trying audioread instead.\n",
      "  return f(*args, **kwargs)\n"
     ]
    },
    {
     "name": "stdout",
     "output_type": "stream",
     "text": [
      "DONE! READ 31 CHUNKS.\n",
      "ANALYZING AUDIO... DONE! Time 2.9 SECONDS\n",
      "DONE! WROTE 23 RESULTS.\n",
      "READING AUDIO DATA... "
     ]
    },
    {
     "name": "stderr",
     "output_type": "stream",
     "text": [
      "/anaconda3/lib/python3.7/site-packages/librosa/util/decorators.py:88: UserWarning: PySoundFile failed. Trying audioread instead.\n",
      "  return f(*args, **kwargs)\n"
     ]
    },
    {
     "name": "stdout",
     "output_type": "stream",
     "text": [
      "DONE! READ 4 CHUNKS.\n",
      "ANALYZING AUDIO... DONE! Time 0.4 SECONDS\n",
      "DONE! WROTE 3 RESULTS.\n",
      "READING AUDIO DATA... "
     ]
    },
    {
     "name": "stderr",
     "output_type": "stream",
     "text": [
      "/anaconda3/lib/python3.7/site-packages/librosa/util/decorators.py:88: UserWarning: PySoundFile failed. Trying audioread instead.\n",
      "  return f(*args, **kwargs)\n"
     ]
    },
    {
     "name": "stdout",
     "output_type": "stream",
     "text": [
      "DONE! READ 11 CHUNKS.\n",
      "ANALYZING AUDIO... DONE! Time 0.2 SECONDS\n",
      "DONE! WROTE 2 RESULTS.\n",
      "READING AUDIO DATA... "
     ]
    },
    {
     "name": "stderr",
     "output_type": "stream",
     "text": [
      "/anaconda3/lib/python3.7/site-packages/librosa/util/decorators.py:88: UserWarning: PySoundFile failed. Trying audioread instead.\n",
      "  return f(*args, **kwargs)\n"
     ]
    },
    {
     "name": "stdout",
     "output_type": "stream",
     "text": [
      "DONE! READ 10 CHUNKS.\n",
      "ANALYZING AUDIO... DONE! Time 1.4 SECONDS\n",
      "DONE! WROTE 10 RESULTS.\n",
      "READING AUDIO DATA... "
     ]
    },
    {
     "name": "stderr",
     "output_type": "stream",
     "text": [
      "/anaconda3/lib/python3.7/site-packages/librosa/util/decorators.py:88: UserWarning: PySoundFile failed. Trying audioread instead.\n",
      "  return f(*args, **kwargs)\n"
     ]
    },
    {
     "name": "stdout",
     "output_type": "stream",
     "text": [
      "DONE! READ 3 CHUNKS.\n",
      "ANALYZING AUDIO... DONE! Time 0.3 SECONDS\n",
      "DONE! WROTE 3 RESULTS.\n",
      "READING AUDIO DATA... "
     ]
    },
    {
     "name": "stderr",
     "output_type": "stream",
     "text": [
      "/anaconda3/lib/python3.7/site-packages/librosa/util/decorators.py:88: UserWarning: PySoundFile failed. Trying audioread instead.\n",
      "  return f(*args, **kwargs)\n"
     ]
    },
    {
     "name": "stdout",
     "output_type": "stream",
     "text": [
      "DONE! READ 13 CHUNKS.\n",
      "ANALYZING AUDIO... DONE! Time 1.1 SECONDS\n",
      "DONE! WROTE 13 RESULTS.\n",
      "READING AUDIO DATA... "
     ]
    },
    {
     "name": "stderr",
     "output_type": "stream",
     "text": [
      "/anaconda3/lib/python3.7/site-packages/librosa/util/decorators.py:88: UserWarning: PySoundFile failed. Trying audioread instead.\n",
      "  return f(*args, **kwargs)\n"
     ]
    },
    {
     "name": "stdout",
     "output_type": "stream",
     "text": [
      "DONE! READ 6 CHUNKS.\n",
      "ANALYZING AUDIO... DONE! Time 0.3 SECONDS\n",
      "DONE! WROTE 5 RESULTS.\n",
      "READING AUDIO DATA... "
     ]
    },
    {
     "name": "stderr",
     "output_type": "stream",
     "text": [
      "/anaconda3/lib/python3.7/site-packages/librosa/util/decorators.py:88: UserWarning: PySoundFile failed. Trying audioread instead.\n",
      "  return f(*args, **kwargs)\n"
     ]
    },
    {
     "name": "stdout",
     "output_type": "stream",
     "text": [
      "DONE! READ 6 CHUNKS.\n",
      "ANALYZING AUDIO... DONE! Time 0.2 SECONDS\n",
      "DONE! WROTE 3 RESULTS.\n",
      "READING AUDIO DATA... "
     ]
    },
    {
     "name": "stderr",
     "output_type": "stream",
     "text": [
      "/anaconda3/lib/python3.7/site-packages/librosa/util/decorators.py:88: UserWarning: PySoundFile failed. Trying audioread instead.\n",
      "  return f(*args, **kwargs)\n"
     ]
    },
    {
     "name": "stdout",
     "output_type": "stream",
     "text": [
      "DONE! READ 6 CHUNKS.\n",
      "ANALYZING AUDIO... DONE! Time 0.2 SECONDS\n",
      "DONE! WROTE 3 RESULTS.\n",
      "READING AUDIO DATA... "
     ]
    },
    {
     "name": "stderr",
     "output_type": "stream",
     "text": [
      "/anaconda3/lib/python3.7/site-packages/librosa/util/decorators.py:88: UserWarning: PySoundFile failed. Trying audioread instead.\n",
      "  return f(*args, **kwargs)\n"
     ]
    },
    {
     "name": "stdout",
     "output_type": "stream",
     "text": [
      "DONE! READ 25 CHUNKS.\n",
      "ANALYZING AUDIO... DONE! Time 2.0 SECONDS\n",
      "DONE! WROTE 23 RESULTS.\n",
      "READING AUDIO DATA... "
     ]
    },
    {
     "name": "stderr",
     "output_type": "stream",
     "text": [
      "/anaconda3/lib/python3.7/site-packages/librosa/util/decorators.py:88: UserWarning: PySoundFile failed. Trying audioread instead.\n",
      "  return f(*args, **kwargs)\n"
     ]
    },
    {
     "name": "stdout",
     "output_type": "stream",
     "text": [
      "DONE! READ 23 CHUNKS.\n",
      "ANALYZING AUDIO... DONE! Time 1.6 SECONDS\n",
      "DONE! WROTE 20 RESULTS.\n",
      "READING AUDIO DATA... "
     ]
    },
    {
     "name": "stderr",
     "output_type": "stream",
     "text": [
      "/anaconda3/lib/python3.7/site-packages/librosa/util/decorators.py:88: UserWarning: PySoundFile failed. Trying audioread instead.\n",
      "  return f(*args, **kwargs)\n"
     ]
    },
    {
     "name": "stdout",
     "output_type": "stream",
     "text": [
      "DONE! READ 12 CHUNKS.\n",
      "ANALYZING AUDIO... DONE! Time 0.6 SECONDS\n",
      "DONE! WROTE 9 RESULTS.\n",
      "READING AUDIO DATA... "
     ]
    },
    {
     "name": "stderr",
     "output_type": "stream",
     "text": [
      "/anaconda3/lib/python3.7/site-packages/librosa/util/decorators.py:88: UserWarning: PySoundFile failed. Trying audioread instead.\n",
      "  return f(*args, **kwargs)\n"
     ]
    },
    {
     "name": "stdout",
     "output_type": "stream",
     "text": [
      "DONE! READ 11 CHUNKS.\n",
      "ANALYZING AUDIO... DONE! Time 0.7 SECONDS\n",
      "DONE! WROTE 9 RESULTS.\n",
      "READING AUDIO DATA... DONE! READ 6 CHUNKS.\n",
      "ANALYZING AUDIO... "
     ]
    },
    {
     "name": "stderr",
     "output_type": "stream",
     "text": [
      "/anaconda3/lib/python3.7/site-packages/librosa/util/decorators.py:88: UserWarning: PySoundFile failed. Trying audioread instead.\n",
      "  return f(*args, **kwargs)\n"
     ]
    },
    {
     "name": "stdout",
     "output_type": "stream",
     "text": [
      "DONE! Time 0.1 SECONDS\n",
      "DONE! WROTE 2 RESULTS.\n",
      "READING AUDIO DATA... DONE! READ 6 CHUNKS.\n",
      "ANALYZING AUDIO... "
     ]
    },
    {
     "name": "stderr",
     "output_type": "stream",
     "text": [
      "/anaconda3/lib/python3.7/site-packages/librosa/util/decorators.py:88: UserWarning: PySoundFile failed. Trying audioread instead.\n",
      "  return f(*args, **kwargs)\n"
     ]
    },
    {
     "name": "stdout",
     "output_type": "stream",
     "text": [
      "DONE! Time 0.3 SECONDS\n",
      "DONE! WROTE 4 RESULTS.\n",
      "READING AUDIO DATA... DONE! READ 3 CHUNKS.\n",
      "ANALYZING AUDIO... "
     ]
    },
    {
     "name": "stderr",
     "output_type": "stream",
     "text": [
      "/anaconda3/lib/python3.7/site-packages/librosa/util/decorators.py:88: UserWarning: PySoundFile failed. Trying audioread instead.\n",
      "  return f(*args, **kwargs)\n"
     ]
    },
    {
     "name": "stdout",
     "output_type": "stream",
     "text": [
      "DONE! Time 0.1 SECONDS\n",
      "DONE! WROTE 2 RESULTS.\n",
      "READING AUDIO DATA... "
     ]
    },
    {
     "name": "stderr",
     "output_type": "stream",
     "text": [
      "/anaconda3/lib/python3.7/site-packages/librosa/util/decorators.py:88: UserWarning: PySoundFile failed. Trying audioread instead.\n",
      "  return f(*args, **kwargs)\n"
     ]
    },
    {
     "name": "stdout",
     "output_type": "stream",
     "text": [
      "DONE! READ 10 CHUNKS.\n",
      "ANALYZING AUDIO... DONE! Time 0.6 SECONDS\n",
      "DONE! WROTE 8 RESULTS.\n",
      "READING AUDIO DATA... DONE! READ 4 CHUNKS.\n",
      "ANALYZING AUDIO... "
     ]
    },
    {
     "name": "stderr",
     "output_type": "stream",
     "text": [
      "/anaconda3/lib/python3.7/site-packages/librosa/util/decorators.py:88: UserWarning: PySoundFile failed. Trying audioread instead.\n",
      "  return f(*args, **kwargs)\n"
     ]
    },
    {
     "name": "stdout",
     "output_type": "stream",
     "text": [
      "DONE! Time 0.1 SECONDS\n",
      "DONE! WROTE 2 RESULTS.\n",
      "READING AUDIO DATA... "
     ]
    },
    {
     "name": "stderr",
     "output_type": "stream",
     "text": [
      "/anaconda3/lib/python3.7/site-packages/librosa/util/decorators.py:88: UserWarning: PySoundFile failed. Trying audioread instead.\n",
      "  return f(*args, **kwargs)\n"
     ]
    },
    {
     "name": "stdout",
     "output_type": "stream",
     "text": [
      "DONE! READ 29 CHUNKS.\n",
      "ANALYZING AUDIO... DONE! Time 1.9 SECONDS\n",
      "DONE! WROTE 26 RESULTS.\n",
      "READING AUDIO DATA... "
     ]
    },
    {
     "name": "stderr",
     "output_type": "stream",
     "text": [
      "/anaconda3/lib/python3.7/site-packages/librosa/util/decorators.py:88: UserWarning: PySoundFile failed. Trying audioread instead.\n",
      "  return f(*args, **kwargs)\n"
     ]
    },
    {
     "name": "stdout",
     "output_type": "stream",
     "text": [
      "DONE! READ 8 CHUNKS.\n",
      "ANALYZING AUDIO... DONE! Time 0.6 SECONDS\n",
      "DONE! WROTE 5 RESULTS.\n",
      "READING AUDIO DATA... "
     ]
    },
    {
     "name": "stderr",
     "output_type": "stream",
     "text": [
      "/anaconda3/lib/python3.7/site-packages/librosa/util/decorators.py:88: UserWarning: PySoundFile failed. Trying audioread instead.\n",
      "  return f(*args, **kwargs)\n"
     ]
    },
    {
     "name": "stdout",
     "output_type": "stream",
     "text": [
      "DONE! READ 17 CHUNKS.\n",
      "ANALYZING AUDIO... DONE! Time 3.3 SECONDS\n",
      "DONE! WROTE 15 RESULTS.\n",
      "READING AUDIO DATA... "
     ]
    },
    {
     "name": "stderr",
     "output_type": "stream",
     "text": [
      "/anaconda3/lib/python3.7/site-packages/librosa/util/decorators.py:88: UserWarning: PySoundFile failed. Trying audioread instead.\n",
      "  return f(*args, **kwargs)\n"
     ]
    },
    {
     "name": "stdout",
     "output_type": "stream",
     "text": [
      "DONE! READ 13 CHUNKS.\n",
      "ANALYZING AUDIO... DONE! Time 1.5 SECONDS\n",
      "DONE! WROTE 9 RESULTS.\n",
      "READING AUDIO DATA... "
     ]
    },
    {
     "name": "stderr",
     "output_type": "stream",
     "text": [
      "/anaconda3/lib/python3.7/site-packages/librosa/util/decorators.py:88: UserWarning: PySoundFile failed. Trying audioread instead.\n",
      "  return f(*args, **kwargs)\n"
     ]
    },
    {
     "name": "stdout",
     "output_type": "stream",
     "text": [
      "DONE! READ 6 CHUNKS.\n",
      "ANALYZING AUDIO... DONE! Time 0.3 SECONDS\n",
      "DONE! WROTE 4 RESULTS.\n",
      "READING AUDIO DATA... "
     ]
    },
    {
     "name": "stderr",
     "output_type": "stream",
     "text": [
      "/anaconda3/lib/python3.7/site-packages/librosa/util/decorators.py:88: UserWarning: PySoundFile failed. Trying audioread instead.\n",
      "  return f(*args, **kwargs)\n"
     ]
    },
    {
     "name": "stdout",
     "output_type": "stream",
     "text": [
      "DONE! READ 17 CHUNKS.\n",
      "ANALYZING AUDIO... DONE! Time 0.7 SECONDS\n",
      "DONE! WROTE 9 RESULTS.\n",
      "READING AUDIO DATA... "
     ]
    },
    {
     "name": "stderr",
     "output_type": "stream",
     "text": [
      "/anaconda3/lib/python3.7/site-packages/librosa/util/decorators.py:88: UserWarning: PySoundFile failed. Trying audioread instead.\n",
      "  return f(*args, **kwargs)\n"
     ]
    },
    {
     "name": "stdout",
     "output_type": "stream",
     "text": [
      "DONE! READ 7 CHUNKS.\n",
      "ANALYZING AUDIO... DONE! Time 0.4 SECONDS\n",
      "DONE! WROTE 5 RESULTS.\n",
      "READING AUDIO DATA... "
     ]
    },
    {
     "name": "stderr",
     "output_type": "stream",
     "text": [
      "/anaconda3/lib/python3.7/site-packages/librosa/util/decorators.py:88: UserWarning: PySoundFile failed. Trying audioread instead.\n",
      "  return f(*args, **kwargs)\n"
     ]
    },
    {
     "name": "stdout",
     "output_type": "stream",
     "text": [
      "DONE! READ 9 CHUNKS.\n",
      "ANALYZING AUDIO... DONE! Time 0.6 SECONDS\n",
      "DONE! WROTE 8 RESULTS.\n",
      "READING AUDIO DATA... "
     ]
    },
    {
     "name": "stderr",
     "output_type": "stream",
     "text": [
      "/anaconda3/lib/python3.7/site-packages/librosa/util/decorators.py:88: UserWarning: PySoundFile failed. Trying audioread instead.\n",
      "  return f(*args, **kwargs)\n"
     ]
    },
    {
     "name": "stdout",
     "output_type": "stream",
     "text": [
      "DONE! READ 7 CHUNKS.\n",
      "ANALYZING AUDIO... DONE! Time 0.5 SECONDS\n",
      "DONE! WROTE 7 RESULTS.\n",
      "READING AUDIO DATA... "
     ]
    },
    {
     "name": "stderr",
     "output_type": "stream",
     "text": [
      "/anaconda3/lib/python3.7/site-packages/librosa/util/decorators.py:88: UserWarning: PySoundFile failed. Trying audioread instead.\n",
      "  return f(*args, **kwargs)\n"
     ]
    },
    {
     "name": "stdout",
     "output_type": "stream",
     "text": [
      "DONE! READ 11 CHUNKS.\n",
      "ANALYZING AUDIO... DONE! Time 0.7 SECONDS\n",
      "DONE! WROTE 10 RESULTS.\n",
      "READING AUDIO DATA... DONE! READ 3 CHUNKS.\n",
      "ANALYZING AUDIO... "
     ]
    },
    {
     "name": "stderr",
     "output_type": "stream",
     "text": [
      "/anaconda3/lib/python3.7/site-packages/librosa/util/decorators.py:88: UserWarning: PySoundFile failed. Trying audioread instead.\n",
      "  return f(*args, **kwargs)\n"
     ]
    },
    {
     "name": "stdout",
     "output_type": "stream",
     "text": [
      "DONE! Time 0.1 SECONDS\n",
      "DONE! WROTE 2 RESULTS.\n",
      "READING AUDIO DATA... "
     ]
    },
    {
     "name": "stderr",
     "output_type": "stream",
     "text": [
      "/anaconda3/lib/python3.7/site-packages/librosa/util/decorators.py:88: UserWarning: PySoundFile failed. Trying audioread instead.\n",
      "  return f(*args, **kwargs)\n"
     ]
    },
    {
     "name": "stdout",
     "output_type": "stream",
     "text": [
      "DONE! READ 5 CHUNKS.\n",
      "ANALYZING AUDIO... DONE! Time 0.3 SECONDS\n",
      "DONE! WROTE 4 RESULTS.\n",
      "READING AUDIO DATA... DONE! READ 9 CHUNKS.\n",
      "ANALYZING AUDIO... "
     ]
    },
    {
     "name": "stderr",
     "output_type": "stream",
     "text": [
      "/anaconda3/lib/python3.7/site-packages/librosa/util/decorators.py:88: UserWarning: PySoundFile failed. Trying audioread instead.\n",
      "  return f(*args, **kwargs)\n"
     ]
    },
    {
     "name": "stdout",
     "output_type": "stream",
     "text": [
      "DONE! Time 0.4 SECONDS\n",
      "DONE! WROTE 6 RESULTS.\n",
      "READING AUDIO DATA... "
     ]
    },
    {
     "name": "stderr",
     "output_type": "stream",
     "text": [
      "/anaconda3/lib/python3.7/site-packages/librosa/util/decorators.py:88: UserWarning: PySoundFile failed. Trying audioread instead.\n",
      "  return f(*args, **kwargs)\n"
     ]
    },
    {
     "name": "stdout",
     "output_type": "stream",
     "text": [
      "DONE! READ 35 CHUNKS.\n",
      "ANALYZING AUDIO... DONE! Time 2.7 SECONDS\n",
      "DONE! WROTE 32 RESULTS.\n",
      "READING AUDIO DATA... "
     ]
    },
    {
     "name": "stderr",
     "output_type": "stream",
     "text": [
      "/anaconda3/lib/python3.7/site-packages/librosa/util/decorators.py:88: UserWarning: PySoundFile failed. Trying audioread instead.\n",
      "  return f(*args, **kwargs)\n"
     ]
    },
    {
     "name": "stdout",
     "output_type": "stream",
     "text": [
      "DONE! READ 28 CHUNKS.\n",
      "ANALYZING AUDIO... DONE! Time 2.1 SECONDS\n",
      "DONE! WROTE 27 RESULTS.\n",
      "READING AUDIO DATA... "
     ]
    },
    {
     "name": "stderr",
     "output_type": "stream",
     "text": [
      "/anaconda3/lib/python3.7/site-packages/librosa/util/decorators.py:88: UserWarning: PySoundFile failed. Trying audioread instead.\n",
      "  return f(*args, **kwargs)\n"
     ]
    },
    {
     "name": "stdout",
     "output_type": "stream",
     "text": [
      "DONE! READ 8 CHUNKS.\n",
      "ANALYZING AUDIO... DONE! Time 0.5 SECONDS\n",
      "DONE! WROTE 4 RESULTS.\n",
      "READING AUDIO DATA... "
     ]
    },
    {
     "name": "stderr",
     "output_type": "stream",
     "text": [
      "/anaconda3/lib/python3.7/site-packages/librosa/util/decorators.py:88: UserWarning: PySoundFile failed. Trying audioread instead.\n",
      "  return f(*args, **kwargs)\n"
     ]
    },
    {
     "name": "stdout",
     "output_type": "stream",
     "text": [
      "DONE! READ 3 CHUNKS.\n",
      "ANALYZING AUDIO... DONE! Time 0.2 SECONDS\n",
      "DONE! WROTE 2 RESULTS.\n",
      "READING AUDIO DATA... "
     ]
    },
    {
     "name": "stderr",
     "output_type": "stream",
     "text": [
      "/anaconda3/lib/python3.7/site-packages/librosa/util/decorators.py:88: UserWarning: PySoundFile failed. Trying audioread instead.\n",
      "  return f(*args, **kwargs)\n"
     ]
    },
    {
     "name": "stdout",
     "output_type": "stream",
     "text": [
      "DONE! READ 7 CHUNKS.\n",
      "ANALYZING AUDIO... DONE! Time 0.4 SECONDS\n",
      "DONE! WROTE 5 RESULTS.\n",
      "READING AUDIO DATA... DONE! READ 4 CHUNKS.\n",
      "ANALYZING AUDIO... "
     ]
    },
    {
     "name": "stderr",
     "output_type": "stream",
     "text": [
      "/anaconda3/lib/python3.7/site-packages/librosa/util/decorators.py:88: UserWarning: PySoundFile failed. Trying audioread instead.\n",
      "  return f(*args, **kwargs)\n"
     ]
    },
    {
     "name": "stdout",
     "output_type": "stream",
     "text": [
      "DONE! Time 0.2 SECONDS\n",
      "DONE! WROTE 3 RESULTS.\n",
      "READING AUDIO DATA... "
     ]
    },
    {
     "name": "stderr",
     "output_type": "stream",
     "text": [
      "/anaconda3/lib/python3.7/site-packages/librosa/util/decorators.py:88: UserWarning: PySoundFile failed. Trying audioread instead.\n",
      "  return f(*args, **kwargs)\n"
     ]
    },
    {
     "name": "stdout",
     "output_type": "stream",
     "text": [
      "DONE! READ 7 CHUNKS.\n",
      "ANALYZING AUDIO... DONE! Time 0.4 SECONDS\n",
      "DONE! WROTE 6 RESULTS.\n",
      "READING AUDIO DATA... DONE! READ 4 CHUNKS.\n",
      "ANALYZING AUDIO... "
     ]
    },
    {
     "name": "stderr",
     "output_type": "stream",
     "text": [
      "/anaconda3/lib/python3.7/site-packages/librosa/util/decorators.py:88: UserWarning: PySoundFile failed. Trying audioread instead.\n",
      "  return f(*args, **kwargs)\n"
     ]
    },
    {
     "name": "stdout",
     "output_type": "stream",
     "text": [
      "DONE! Time 0.3 SECONDS\n",
      "DONE! WROTE 4 RESULTS.\n",
      "READING AUDIO DATA... DONE! READ 3 CHUNKS.\n",
      "ANALYZING AUDIO... "
     ]
    },
    {
     "name": "stderr",
     "output_type": "stream",
     "text": [
      "/anaconda3/lib/python3.7/site-packages/librosa/util/decorators.py:88: UserWarning: PySoundFile failed. Trying audioread instead.\n",
      "  return f(*args, **kwargs)\n"
     ]
    },
    {
     "name": "stdout",
     "output_type": "stream",
     "text": [
      "DONE! Time 0.1 SECONDS\n",
      "DONE! WROTE 2 RESULTS.\n",
      "READING AUDIO DATA... "
     ]
    },
    {
     "name": "stderr",
     "output_type": "stream",
     "text": [
      "/anaconda3/lib/python3.7/site-packages/librosa/util/decorators.py:88: UserWarning: PySoundFile failed. Trying audioread instead.\n",
      "  return f(*args, **kwargs)\n"
     ]
    },
    {
     "name": "stdout",
     "output_type": "stream",
     "text": [
      "DONE! READ 23 CHUNKS.\n",
      "ANALYZING AUDIO... DONE! Time 1.7 SECONDS\n",
      "DONE! WROTE 22 RESULTS.\n",
      "READING AUDIO DATA... DONE! READ 4 CHUNKS.\n",
      "ANALYZING AUDIO... "
     ]
    },
    {
     "name": "stderr",
     "output_type": "stream",
     "text": [
      "/anaconda3/lib/python3.7/site-packages/librosa/util/decorators.py:88: UserWarning: PySoundFile failed. Trying audioread instead.\n",
      "  return f(*args, **kwargs)\n"
     ]
    },
    {
     "name": "stdout",
     "output_type": "stream",
     "text": [
      "DONE! Time 0.1 SECONDS\n",
      "DONE! WROTE 2 RESULTS.\n",
      "READING AUDIO DATA... "
     ]
    },
    {
     "name": "stderr",
     "output_type": "stream",
     "text": [
      "/anaconda3/lib/python3.7/site-packages/librosa/util/decorators.py:88: UserWarning: PySoundFile failed. Trying audioread instead.\n",
      "  return f(*args, **kwargs)\n"
     ]
    },
    {
     "name": "stdout",
     "output_type": "stream",
     "text": [
      "DONE! READ 14 CHUNKS.\n",
      "ANALYZING AUDIO... DONE! Time 1.0 SECONDS\n",
      "DONE! WROTE 12 RESULTS.\n",
      "READING AUDIO DATA... DONE! READ 10 CHUNKS.\n",
      "ANALYZING AUDIO... "
     ]
    },
    {
     "name": "stderr",
     "output_type": "stream",
     "text": [
      "/anaconda3/lib/python3.7/site-packages/librosa/util/decorators.py:88: UserWarning: PySoundFile failed. Trying audioread instead.\n",
      "  return f(*args, **kwargs)\n"
     ]
    },
    {
     "name": "stdout",
     "output_type": "stream",
     "text": [
      "DONE! Time 0.6 SECONDS\n",
      "DONE! WROTE 8 RESULTS.\n",
      "READING AUDIO DATA... "
     ]
    },
    {
     "name": "stderr",
     "output_type": "stream",
     "text": [
      "/anaconda3/lib/python3.7/site-packages/librosa/util/decorators.py:88: UserWarning: PySoundFile failed. Trying audioread instead.\n",
      "  return f(*args, **kwargs)\n"
     ]
    },
    {
     "name": "stdout",
     "output_type": "stream",
     "text": [
      "DONE! READ 9 CHUNKS.\n",
      "ANALYZING AUDIO... DONE! Time 0.6 SECONDS\n",
      "DONE! WROTE 8 RESULTS.\n",
      "READING AUDIO DATA... DONE! READ 2 CHUNKS.\n",
      "ANALYZING AUDIO... "
     ]
    },
    {
     "name": "stderr",
     "output_type": "stream",
     "text": [
      "/anaconda3/lib/python3.7/site-packages/librosa/util/decorators.py:88: UserWarning: PySoundFile failed. Trying audioread instead.\n",
      "  return f(*args, **kwargs)\n"
     ]
    },
    {
     "name": "stdout",
     "output_type": "stream",
     "text": [
      "DONE! Time 0.1 SECONDS\n",
      "DONE! WROTE 2 RESULTS.\n",
      "READING AUDIO DATA... "
     ]
    },
    {
     "name": "stderr",
     "output_type": "stream",
     "text": [
      "/anaconda3/lib/python3.7/site-packages/librosa/util/decorators.py:88: UserWarning: PySoundFile failed. Trying audioread instead.\n",
      "  return f(*args, **kwargs)\n"
     ]
    },
    {
     "name": "stdout",
     "output_type": "stream",
     "text": [
      "DONE! READ 4 CHUNKS.\n",
      "ANALYZING AUDIO... DONE! Time 0.3 SECONDS\n",
      "DONE! WROTE 4 RESULTS.\n",
      "READING AUDIO DATA... "
     ]
    },
    {
     "name": "stderr",
     "output_type": "stream",
     "text": [
      "/anaconda3/lib/python3.7/site-packages/librosa/util/decorators.py:88: UserWarning: PySoundFile failed. Trying audioread instead.\n",
      "  return f(*args, **kwargs)\n"
     ]
    },
    {
     "name": "stdout",
     "output_type": "stream",
     "text": [
      "DONE! READ 11 CHUNKS.\n",
      "ANALYZING AUDIO... DONE! Time 0.7 SECONDS\n",
      "DONE! WROTE 6 RESULTS.\n",
      "READING AUDIO DATA... "
     ]
    },
    {
     "name": "stderr",
     "output_type": "stream",
     "text": [
      "/anaconda3/lib/python3.7/site-packages/librosa/util/decorators.py:88: UserWarning: PySoundFile failed. Trying audioread instead.\n",
      "  return f(*args, **kwargs)\n"
     ]
    },
    {
     "name": "stdout",
     "output_type": "stream",
     "text": [
      "DONE! READ 36 CHUNKS.\n",
      "ANALYZING AUDIO... DONE! Time 2.2 SECONDS\n",
      "DONE! WROTE 21 RESULTS.\n",
      "READING AUDIO DATA... "
     ]
    },
    {
     "name": "stderr",
     "output_type": "stream",
     "text": [
      "/anaconda3/lib/python3.7/site-packages/librosa/util/decorators.py:88: UserWarning: PySoundFile failed. Trying audioread instead.\n",
      "  return f(*args, **kwargs)\n"
     ]
    },
    {
     "name": "stdout",
     "output_type": "stream",
     "text": [
      "DONE! READ 16 CHUNKS.\n",
      "ANALYZING AUDIO... DONE! Time 1.5 SECONDS\n",
      "DONE! WROTE 14 RESULTS.\n",
      "READING AUDIO DATA... "
     ]
    },
    {
     "name": "stderr",
     "output_type": "stream",
     "text": [
      "/anaconda3/lib/python3.7/site-packages/librosa/util/decorators.py:88: UserWarning: PySoundFile failed. Trying audioread instead.\n",
      "  return f(*args, **kwargs)\n"
     ]
    },
    {
     "name": "stdout",
     "output_type": "stream",
     "text": [
      "DONE! READ 4 CHUNKS.\n",
      "ANALYZING AUDIO... DONE! Time 0.5 SECONDS\n",
      "DONE! WROTE 4 RESULTS.\n",
      "READING AUDIO DATA... local variable 'sig' referenced before assignment\n",
      "Error in processing file: /Users/vanessasalgado/Desktop/E4E-Acoustics.nosync/PyHa/cosmos_random_sample_processing/XC360660 - Blue-grey Tanager - Thraupis episcopus.mp3\n",
      "READING AUDIO DATA... "
     ]
    },
    {
     "name": "stderr",
     "output_type": "stream",
     "text": [
      "/anaconda3/lib/python3.7/site-packages/librosa/util/decorators.py:88: UserWarning: PySoundFile failed. Trying audioread instead.\n",
      "  return f(*args, **kwargs)\n"
     ]
    },
    {
     "name": "stdout",
     "output_type": "stream",
     "text": [
      "DONE! READ 7 CHUNKS.\n",
      "ANALYZING AUDIO... DONE! Time 0.5 SECONDS\n",
      "DONE! WROTE 7 RESULTS.\n",
      "READING AUDIO DATA... DONE! READ 4 CHUNKS.\n",
      "ANALYZING AUDIO... "
     ]
    },
    {
     "name": "stderr",
     "output_type": "stream",
     "text": [
      "/anaconda3/lib/python3.7/site-packages/librosa/util/decorators.py:88: UserWarning: PySoundFile failed. Trying audioread instead.\n",
      "  return f(*args, **kwargs)\n"
     ]
    },
    {
     "name": "stdout",
     "output_type": "stream",
     "text": [
      "DONE! Time 0.3 SECONDS\n",
      "DONE! WROTE 3 RESULTS.\n",
      "WRITING RESULTS TO /Users/vanessasalgado/Desktop/E4E-Acoustics.nosync/PyHa/outputs/result.csv ... "
     ]
    }
   ],
   "source": [
    "multi_df = generate_automated_labels(path,isolation_parameters_birdnet, pregenerated_df=automated_chunked_df)"
   ]
  },
  {
   "cell_type": "code",
   "execution_count": 40,
   "metadata": {
    "scrolled": false
   },
   "outputs": [
    {
     "data": {
      "text/html": [
       "<div>\n",
       "<style scoped>\n",
       "    .dataframe tbody tr th:only-of-type {\n",
       "        vertical-align: middle;\n",
       "    }\n",
       "\n",
       "    .dataframe tbody tr th {\n",
       "        vertical-align: top;\n",
       "    }\n",
       "\n",
       "    .dataframe thead th {\n",
       "        text-align: right;\n",
       "    }\n",
       "</style>\n",
       "<table border=\"1\" class=\"dataframe\">\n",
       "  <thead>\n",
       "    <tr style=\"text-align: right;\">\n",
       "      <th></th>\n",
       "      <th>FOLDER</th>\n",
       "      <th>IN FILE</th>\n",
       "      <th>CLIP LENGTH</th>\n",
       "      <th>CHANNEL</th>\n",
       "      <th>OFFSET</th>\n",
       "      <th>DURATION</th>\n",
       "      <th>SAMPLE RATE</th>\n",
       "      <th>MANUAL ID</th>\n",
       "      <th>CONFIDENCE</th>\n",
       "    </tr>\n",
       "  </thead>\n",
       "  <tbody>\n",
       "    <tr>\n",
       "      <th>0</th>\n",
       "      <td>./cosmos_random_sample_processing/</td>\n",
       "      <td>XC276588 - Yellow-olive Flatbill - Tolmomyias ...</td>\n",
       "      <td>12.852250</td>\n",
       "      <td>0</td>\n",
       "      <td>3.0</td>\n",
       "      <td>3.0</td>\n",
       "      <td>48000</td>\n",
       "      <td>Tolmomyias sulphurescens</td>\n",
       "      <td>0.144102</td>\n",
       "    </tr>\n",
       "    <tr>\n",
       "      <th>1</th>\n",
       "      <td>./cosmos_random_sample_processing/</td>\n",
       "      <td>XC276588 - Yellow-olive Flatbill - Tolmomyias ...</td>\n",
       "      <td>12.852250</td>\n",
       "      <td>0</td>\n",
       "      <td>6.0</td>\n",
       "      <td>3.0</td>\n",
       "      <td>48000</td>\n",
       "      <td>Tangara cyanocephala</td>\n",
       "      <td>0.018023</td>\n",
       "    </tr>\n",
       "    <tr>\n",
       "      <th>2</th>\n",
       "      <td>./cosmos_random_sample_processing/</td>\n",
       "      <td>XC276588 - Yellow-olive Flatbill - Tolmomyias ...</td>\n",
       "      <td>12.852250</td>\n",
       "      <td>0</td>\n",
       "      <td>9.0</td>\n",
       "      <td>3.0</td>\n",
       "      <td>48000</td>\n",
       "      <td>Urosphena squameiceps</td>\n",
       "      <td>0.022082</td>\n",
       "    </tr>\n",
       "    <tr>\n",
       "      <th>3</th>\n",
       "      <td>./cosmos_random_sample_processing/</td>\n",
       "      <td>XC47508 - Blue-grey Tanager - Thraupis episcop...</td>\n",
       "      <td>46.654708</td>\n",
       "      <td>0</td>\n",
       "      <td>0.0</td>\n",
       "      <td>3.0</td>\n",
       "      <td>48000</td>\n",
       "      <td>Thraupis episcopus</td>\n",
       "      <td>0.036713</td>\n",
       "    </tr>\n",
       "    <tr>\n",
       "      <th>4</th>\n",
       "      <td>./cosmos_random_sample_processing/</td>\n",
       "      <td>XC47508 - Blue-grey Tanager - Thraupis episcop...</td>\n",
       "      <td>46.654708</td>\n",
       "      <td>0</td>\n",
       "      <td>3.0</td>\n",
       "      <td>3.0</td>\n",
       "      <td>48000</td>\n",
       "      <td>Larvivora cyane</td>\n",
       "      <td>0.045401</td>\n",
       "    </tr>\n",
       "    <tr>\n",
       "      <th>...</th>\n",
       "      <td>...</td>\n",
       "      <td>...</td>\n",
       "      <td>...</td>\n",
       "      <td>...</td>\n",
       "      <td>...</td>\n",
       "      <td>...</td>\n",
       "      <td>...</td>\n",
       "      <td>...</td>\n",
       "      <td>...</td>\n",
       "    </tr>\n",
       "    <tr>\n",
       "      <th>4142</th>\n",
       "      <td>./cosmos_random_sample_processing/</td>\n",
       "      <td>XC691284 - White-throated Toucan - Ramphastos ...</td>\n",
       "      <td>21.106958</td>\n",
       "      <td>0</td>\n",
       "      <td>15.0</td>\n",
       "      <td>3.0</td>\n",
       "      <td>48000</td>\n",
       "      <td>Ramphastos tucanus</td>\n",
       "      <td>0.928683</td>\n",
       "    </tr>\n",
       "    <tr>\n",
       "      <th>4143</th>\n",
       "      <td>./cosmos_random_sample_processing/</td>\n",
       "      <td>XC691284 - White-throated Toucan - Ramphastos ...</td>\n",
       "      <td>21.106958</td>\n",
       "      <td>0</td>\n",
       "      <td>18.0</td>\n",
       "      <td>3.0</td>\n",
       "      <td>48000</td>\n",
       "      <td>Ramphastos tucanus</td>\n",
       "      <td>0.952721</td>\n",
       "    </tr>\n",
       "    <tr>\n",
       "      <th>4144</th>\n",
       "      <td>./cosmos_random_sample_processing/</td>\n",
       "      <td>XC58363 - Pale-breasted Thrush - Turdus leucom...</td>\n",
       "      <td>11.676750</td>\n",
       "      <td>0</td>\n",
       "      <td>0.0</td>\n",
       "      <td>3.0</td>\n",
       "      <td>48000</td>\n",
       "      <td>Sclerurus albigularis</td>\n",
       "      <td>0.086488</td>\n",
       "    </tr>\n",
       "    <tr>\n",
       "      <th>4145</th>\n",
       "      <td>./cosmos_random_sample_processing/</td>\n",
       "      <td>XC58363 - Pale-breasted Thrush - Turdus leucom...</td>\n",
       "      <td>11.676750</td>\n",
       "      <td>0</td>\n",
       "      <td>3.0</td>\n",
       "      <td>3.0</td>\n",
       "      <td>48000</td>\n",
       "      <td>Dreptes thomensis</td>\n",
       "      <td>0.074763</td>\n",
       "    </tr>\n",
       "    <tr>\n",
       "      <th>4146</th>\n",
       "      <td>./cosmos_random_sample_processing/</td>\n",
       "      <td>XC58363 - Pale-breasted Thrush - Turdus leucom...</td>\n",
       "      <td>11.676750</td>\n",
       "      <td>0</td>\n",
       "      <td>6.0</td>\n",
       "      <td>3.0</td>\n",
       "      <td>48000</td>\n",
       "      <td>Sclerurus scansor</td>\n",
       "      <td>0.016849</td>\n",
       "    </tr>\n",
       "  </tbody>\n",
       "</table>\n",
       "<p>4147 rows × 9 columns</p>\n",
       "</div>"
      ],
      "text/plain": [
       "                                  FOLDER  \\\n",
       "0     ./cosmos_random_sample_processing/   \n",
       "1     ./cosmos_random_sample_processing/   \n",
       "2     ./cosmos_random_sample_processing/   \n",
       "3     ./cosmos_random_sample_processing/   \n",
       "4     ./cosmos_random_sample_processing/   \n",
       "...                                  ...   \n",
       "4142  ./cosmos_random_sample_processing/   \n",
       "4143  ./cosmos_random_sample_processing/   \n",
       "4144  ./cosmos_random_sample_processing/   \n",
       "4145  ./cosmos_random_sample_processing/   \n",
       "4146  ./cosmos_random_sample_processing/   \n",
       "\n",
       "                                                IN FILE  CLIP LENGTH  CHANNEL  \\\n",
       "0     XC276588 - Yellow-olive Flatbill - Tolmomyias ...    12.852250        0   \n",
       "1     XC276588 - Yellow-olive Flatbill - Tolmomyias ...    12.852250        0   \n",
       "2     XC276588 - Yellow-olive Flatbill - Tolmomyias ...    12.852250        0   \n",
       "3     XC47508 - Blue-grey Tanager - Thraupis episcop...    46.654708        0   \n",
       "4     XC47508 - Blue-grey Tanager - Thraupis episcop...    46.654708        0   \n",
       "...                                                 ...          ...      ...   \n",
       "4142  XC691284 - White-throated Toucan - Ramphastos ...    21.106958        0   \n",
       "4143  XC691284 - White-throated Toucan - Ramphastos ...    21.106958        0   \n",
       "4144  XC58363 - Pale-breasted Thrush - Turdus leucom...    11.676750        0   \n",
       "4145  XC58363 - Pale-breasted Thrush - Turdus leucom...    11.676750        0   \n",
       "4146  XC58363 - Pale-breasted Thrush - Turdus leucom...    11.676750        0   \n",
       "\n",
       "      OFFSET  DURATION  SAMPLE RATE                 MANUAL ID  CONFIDENCE  \n",
       "0        3.0       3.0        48000  Tolmomyias sulphurescens    0.144102  \n",
       "1        6.0       3.0        48000      Tangara cyanocephala    0.018023  \n",
       "2        9.0       3.0        48000     Urosphena squameiceps    0.022082  \n",
       "3        0.0       3.0        48000        Thraupis episcopus    0.036713  \n",
       "4        3.0       3.0        48000           Larvivora cyane    0.045401  \n",
       "...      ...       ...          ...                       ...         ...  \n",
       "4142    15.0       3.0        48000        Ramphastos tucanus    0.928683  \n",
       "4143    18.0       3.0        48000        Ramphastos tucanus    0.952721  \n",
       "4144     0.0       3.0        48000     Sclerurus albigularis    0.086488  \n",
       "4145     3.0       3.0        48000         Dreptes thomensis    0.074763  \n",
       "4146     6.0       3.0        48000         Sclerurus scansor    0.016849  \n",
       "\n",
       "[4147 rows x 9 columns]"
      ]
     },
     "execution_count": 40,
     "metadata": {},
     "output_type": "execute_result"
    }
   ],
   "source": [
    "multi_df #output of the pipeline"
   ]
  },
  {
   "cell_type": "markdown",
   "metadata": {},
   "source": [
    "## TweetyNet Pipeline\n",
    "#### rename tweetyNet Manual ID to file name(species specific)"
   ]
  },
  {
   "cell_type": "code",
   "execution_count": 44,
   "metadata": {
    "scrolled": true
   },
   "outputs": [
    {
     "data": {
      "text/html": [
       "<div>\n",
       "<style scoped>\n",
       "    .dataframe tbody tr th:only-of-type {\n",
       "        vertical-align: middle;\n",
       "    }\n",
       "\n",
       "    .dataframe tbody tr th {\n",
       "        vertical-align: top;\n",
       "    }\n",
       "\n",
       "    .dataframe thead th {\n",
       "        text-align: right;\n",
       "    }\n",
       "</style>\n",
       "<table border=\"1\" class=\"dataframe\">\n",
       "  <thead>\n",
       "    <tr style=\"text-align: right;\">\n",
       "      <th></th>\n",
       "      <th>OFFSET</th>\n",
       "      <th>DURATION</th>\n",
       "      <th>FOLDER</th>\n",
       "      <th>IN FILE</th>\n",
       "      <th>CHANNEL</th>\n",
       "      <th>CLIP LENGTH</th>\n",
       "      <th>SAMPLE RATE</th>\n",
       "      <th>MANUAL ID</th>\n",
       "      <th>CONFIDENCE</th>\n",
       "      <th>FILEPATH</th>\n",
       "    </tr>\n",
       "  </thead>\n",
       "  <tbody>\n",
       "    <tr>\n",
       "      <th>0</th>\n",
       "      <td>5.093023</td>\n",
       "      <td>0.441860</td>\n",
       "      <td>./cosmos_random_sample_processing/</td>\n",
       "      <td>XC276588 - Yellow-olive Flatbill - Tolmomyias ...</td>\n",
       "      <td>0</td>\n",
       "      <td>12.852245</td>\n",
       "      <td>44100</td>\n",
       "      <td>Tolmomyias sulphurescens</td>\n",
       "      <td>0.782384</td>\n",
       "      <td>./cosmos_random_sample_processing/XC276588 - Y...</td>\n",
       "    </tr>\n",
       "    <tr>\n",
       "      <th>1</th>\n",
       "      <td>6.023256</td>\n",
       "      <td>0.069767</td>\n",
       "      <td>./cosmos_random_sample_processing/</td>\n",
       "      <td>XC276588 - Yellow-olive Flatbill - Tolmomyias ...</td>\n",
       "      <td>0</td>\n",
       "      <td>12.852245</td>\n",
       "      <td>44100</td>\n",
       "      <td>Tolmomyias sulphurescens</td>\n",
       "      <td>0.601440</td>\n",
       "      <td>./cosmos_random_sample_processing/XC276588 - Y...</td>\n",
       "    </tr>\n",
       "    <tr>\n",
       "      <th>2</th>\n",
       "      <td>6.116279</td>\n",
       "      <td>0.069767</td>\n",
       "      <td>./cosmos_random_sample_processing/</td>\n",
       "      <td>XC276588 - Yellow-olive Flatbill - Tolmomyias ...</td>\n",
       "      <td>0</td>\n",
       "      <td>12.852245</td>\n",
       "      <td>44100</td>\n",
       "      <td>Tolmomyias sulphurescens</td>\n",
       "      <td>0.525216</td>\n",
       "      <td>./cosmos_random_sample_processing/XC276588 - Y...</td>\n",
       "    </tr>\n",
       "    <tr>\n",
       "      <th>3</th>\n",
       "      <td>7.372093</td>\n",
       "      <td>0.395349</td>\n",
       "      <td>./cosmos_random_sample_processing/</td>\n",
       "      <td>XC276588 - Yellow-olive Flatbill - Tolmomyias ...</td>\n",
       "      <td>0</td>\n",
       "      <td>12.852245</td>\n",
       "      <td>44100</td>\n",
       "      <td>Tolmomyias sulphurescens</td>\n",
       "      <td>0.342127</td>\n",
       "      <td>./cosmos_random_sample_processing/XC276588 - Y...</td>\n",
       "    </tr>\n",
       "    <tr>\n",
       "      <th>4</th>\n",
       "      <td>8.674419</td>\n",
       "      <td>0.418605</td>\n",
       "      <td>./cosmos_random_sample_processing/</td>\n",
       "      <td>XC276588 - Yellow-olive Flatbill - Tolmomyias ...</td>\n",
       "      <td>0</td>\n",
       "      <td>12.852245</td>\n",
       "      <td>44100</td>\n",
       "      <td>Tolmomyias sulphurescens</td>\n",
       "      <td>0.414018</td>\n",
       "      <td>./cosmos_random_sample_processing/XC276588 - Y...</td>\n",
       "    </tr>\n",
       "    <tr>\n",
       "      <th>...</th>\n",
       "      <td>...</td>\n",
       "      <td>...</td>\n",
       "      <td>...</td>\n",
       "      <td>...</td>\n",
       "      <td>...</td>\n",
       "      <td>...</td>\n",
       "      <td>...</td>\n",
       "      <td>...</td>\n",
       "      <td>...</td>\n",
       "      <td>...</td>\n",
       "    </tr>\n",
       "    <tr>\n",
       "      <th>7645</th>\n",
       "      <td>5.023256</td>\n",
       "      <td>0.325581</td>\n",
       "      <td>./cosmos_random_sample_processing/</td>\n",
       "      <td>XC58363 - Pale-breasted Thrush - Turdus leucom...</td>\n",
       "      <td>0</td>\n",
       "      <td>11.676735</td>\n",
       "      <td>44100</td>\n",
       "      <td>Turdus leucomelas</td>\n",
       "      <td>0.347622</td>\n",
       "      <td>./cosmos_random_sample_processing/XC58363 - Pa...</td>\n",
       "    </tr>\n",
       "    <tr>\n",
       "      <th>7646</th>\n",
       "      <td>6.604651</td>\n",
       "      <td>0.255814</td>\n",
       "      <td>./cosmos_random_sample_processing/</td>\n",
       "      <td>XC58363 - Pale-breasted Thrush - Turdus leucom...</td>\n",
       "      <td>0</td>\n",
       "      <td>11.676735</td>\n",
       "      <td>44100</td>\n",
       "      <td>Turdus leucomelas</td>\n",
       "      <td>0.255779</td>\n",
       "      <td>./cosmos_random_sample_processing/XC58363 - Pa...</td>\n",
       "    </tr>\n",
       "    <tr>\n",
       "      <th>7647</th>\n",
       "      <td>8.279070</td>\n",
       "      <td>0.232558</td>\n",
       "      <td>./cosmos_random_sample_processing/</td>\n",
       "      <td>XC58363 - Pale-breasted Thrush - Turdus leucom...</td>\n",
       "      <td>0</td>\n",
       "      <td>11.676735</td>\n",
       "      <td>44100</td>\n",
       "      <td>Turdus leucomelas</td>\n",
       "      <td>0.262850</td>\n",
       "      <td>./cosmos_random_sample_processing/XC58363 - Pa...</td>\n",
       "    </tr>\n",
       "    <tr>\n",
       "      <th>7648</th>\n",
       "      <td>9.418605</td>\n",
       "      <td>0.255814</td>\n",
       "      <td>./cosmos_random_sample_processing/</td>\n",
       "      <td>XC58363 - Pale-breasted Thrush - Turdus leucom...</td>\n",
       "      <td>0</td>\n",
       "      <td>11.676735</td>\n",
       "      <td>44100</td>\n",
       "      <td>Turdus leucomelas</td>\n",
       "      <td>0.487769</td>\n",
       "      <td>./cosmos_random_sample_processing/XC58363 - Pa...</td>\n",
       "    </tr>\n",
       "    <tr>\n",
       "      <th>7649</th>\n",
       "      <td>9.697674</td>\n",
       "      <td>0.162791</td>\n",
       "      <td>./cosmos_random_sample_processing/</td>\n",
       "      <td>XC58363 - Pale-breasted Thrush - Turdus leucom...</td>\n",
       "      <td>0</td>\n",
       "      <td>11.676735</td>\n",
       "      <td>44100</td>\n",
       "      <td>Turdus leucomelas</td>\n",
       "      <td>0.747856</td>\n",
       "      <td>./cosmos_random_sample_processing/XC58363 - Pa...</td>\n",
       "    </tr>\n",
       "  </tbody>\n",
       "</table>\n",
       "<p>7650 rows × 10 columns</p>\n",
       "</div>"
      ],
      "text/plain": [
       "        OFFSET  DURATION                              FOLDER  \\\n",
       "0     5.093023  0.441860  ./cosmos_random_sample_processing/   \n",
       "1     6.023256  0.069767  ./cosmos_random_sample_processing/   \n",
       "2     6.116279  0.069767  ./cosmos_random_sample_processing/   \n",
       "3     7.372093  0.395349  ./cosmos_random_sample_processing/   \n",
       "4     8.674419  0.418605  ./cosmos_random_sample_processing/   \n",
       "...        ...       ...                                 ...   \n",
       "7645  5.023256  0.325581  ./cosmos_random_sample_processing/   \n",
       "7646  6.604651  0.255814  ./cosmos_random_sample_processing/   \n",
       "7647  8.279070  0.232558  ./cosmos_random_sample_processing/   \n",
       "7648  9.418605  0.255814  ./cosmos_random_sample_processing/   \n",
       "7649  9.697674  0.162791  ./cosmos_random_sample_processing/   \n",
       "\n",
       "                                                IN FILE  CHANNEL  CLIP LENGTH  \\\n",
       "0     XC276588 - Yellow-olive Flatbill - Tolmomyias ...        0    12.852245   \n",
       "1     XC276588 - Yellow-olive Flatbill - Tolmomyias ...        0    12.852245   \n",
       "2     XC276588 - Yellow-olive Flatbill - Tolmomyias ...        0    12.852245   \n",
       "3     XC276588 - Yellow-olive Flatbill - Tolmomyias ...        0    12.852245   \n",
       "4     XC276588 - Yellow-olive Flatbill - Tolmomyias ...        0    12.852245   \n",
       "...                                                 ...      ...          ...   \n",
       "7645  XC58363 - Pale-breasted Thrush - Turdus leucom...        0    11.676735   \n",
       "7646  XC58363 - Pale-breasted Thrush - Turdus leucom...        0    11.676735   \n",
       "7647  XC58363 - Pale-breasted Thrush - Turdus leucom...        0    11.676735   \n",
       "7648  XC58363 - Pale-breasted Thrush - Turdus leucom...        0    11.676735   \n",
       "7649  XC58363 - Pale-breasted Thrush - Turdus leucom...        0    11.676735   \n",
       "\n",
       "      SAMPLE RATE                 MANUAL ID  CONFIDENCE  \\\n",
       "0           44100  Tolmomyias sulphurescens    0.782384   \n",
       "1           44100  Tolmomyias sulphurescens    0.601440   \n",
       "2           44100  Tolmomyias sulphurescens    0.525216   \n",
       "3           44100  Tolmomyias sulphurescens    0.342127   \n",
       "4           44100  Tolmomyias sulphurescens    0.414018   \n",
       "...           ...                       ...         ...   \n",
       "7645        44100         Turdus leucomelas    0.347622   \n",
       "7646        44100         Turdus leucomelas    0.255779   \n",
       "7647        44100         Turdus leucomelas    0.262850   \n",
       "7648        44100         Turdus leucomelas    0.487769   \n",
       "7649        44100         Turdus leucomelas    0.747856   \n",
       "\n",
       "                                               FILEPATH  \n",
       "0     ./cosmos_random_sample_processing/XC276588 - Y...  \n",
       "1     ./cosmos_random_sample_processing/XC276588 - Y...  \n",
       "2     ./cosmos_random_sample_processing/XC276588 - Y...  \n",
       "3     ./cosmos_random_sample_processing/XC276588 - Y...  \n",
       "4     ./cosmos_random_sample_processing/XC276588 - Y...  \n",
       "...                                                 ...  \n",
       "7645  ./cosmos_random_sample_processing/XC58363 - Pa...  \n",
       "7646  ./cosmos_random_sample_processing/XC58363 - Pa...  \n",
       "7647  ./cosmos_random_sample_processing/XC58363 - Pa...  \n",
       "7648  ./cosmos_random_sample_processing/XC58363 - Pa...  \n",
       "7649  ./cosmos_random_sample_processing/XC58363 - Pa...  \n",
       "\n",
       "[7650 rows x 10 columns]"
      ]
     },
     "execution_count": 44,
     "metadata": {},
     "output_type": "execute_result"
    }
   ],
   "source": [
    "# tweetyNet label changed\n",
    "# automated_df_tweety[\"MANUAL ID\"] = automated_df_tweety[\"IN FILE\"].apply(lambda x: \" \".join(x.split(\"-\")[:2]))\n",
    "automated_df_tweety[\"MANUAL ID\"] = automated_df_tweety[\"IN FILE\"].apply(lambda x: \" \".join(x.replace(\"_\", \" \").split(\" - \")[-1].replace(\".mp3\", \"\").split()[:2]))\n",
    "automated_df_tweety"
   ]
  },
  {
   "cell_type": "markdown",
   "metadata": {},
   "source": [
    "# ROC CURVES for Pipelines"
   ]
  },
  {
   "cell_type": "markdown",
   "metadata": {},
   "source": [
    "### ROC Curves for Tweety to BirdNET"
   ]
  },
  {
   "cell_type": "code",
   "execution_count": 52,
   "metadata": {
    "scrolled": true
   },
   "outputs": [
    {
     "data": {
      "text/html": [
       "<div>\n",
       "<style scoped>\n",
       "    .dataframe tbody tr th:only-of-type {\n",
       "        vertical-align: middle;\n",
       "    }\n",
       "\n",
       "    .dataframe tbody tr th {\n",
       "        vertical-align: top;\n",
       "    }\n",
       "\n",
       "    .dataframe thead th {\n",
       "        text-align: right;\n",
       "    }\n",
       "</style>\n",
       "<table border=\"1\" class=\"dataframe\">\n",
       "  <thead>\n",
       "    <tr style=\"text-align: right;\">\n",
       "      <th></th>\n",
       "      <th>FOLDER</th>\n",
       "      <th>IN FILE</th>\n",
       "      <th>CLIP LENGTH</th>\n",
       "      <th>CHANNEL</th>\n",
       "      <th>OFFSET</th>\n",
       "      <th>DURATION</th>\n",
       "      <th>SAMPLE RATE</th>\n",
       "      <th>MANUAL ID</th>\n",
       "      <th>CONFIDENCE</th>\n",
       "    </tr>\n",
       "  </thead>\n",
       "  <tbody>\n",
       "    <tr>\n",
       "      <th>0</th>\n",
       "      <td>./cosmos_random_sample_processing/</td>\n",
       "      <td>XC276588</td>\n",
       "      <td>12.852250</td>\n",
       "      <td>0</td>\n",
       "      <td>3.0</td>\n",
       "      <td>3.0</td>\n",
       "      <td>48000</td>\n",
       "      <td>Tolmomyias sulphurescens</td>\n",
       "      <td>0.144102</td>\n",
       "    </tr>\n",
       "    <tr>\n",
       "      <th>1</th>\n",
       "      <td>./cosmos_random_sample_processing/</td>\n",
       "      <td>XC276588</td>\n",
       "      <td>12.852250</td>\n",
       "      <td>0</td>\n",
       "      <td>6.0</td>\n",
       "      <td>3.0</td>\n",
       "      <td>48000</td>\n",
       "      <td>Tangara cyanocephala</td>\n",
       "      <td>0.018023</td>\n",
       "    </tr>\n",
       "    <tr>\n",
       "      <th>2</th>\n",
       "      <td>./cosmos_random_sample_processing/</td>\n",
       "      <td>XC276588</td>\n",
       "      <td>12.852250</td>\n",
       "      <td>0</td>\n",
       "      <td>9.0</td>\n",
       "      <td>3.0</td>\n",
       "      <td>48000</td>\n",
       "      <td>Urosphena squameiceps</td>\n",
       "      <td>0.022082</td>\n",
       "    </tr>\n",
       "    <tr>\n",
       "      <th>3</th>\n",
       "      <td>./cosmos_random_sample_processing/</td>\n",
       "      <td>XC47508</td>\n",
       "      <td>46.654708</td>\n",
       "      <td>0</td>\n",
       "      <td>0.0</td>\n",
       "      <td>3.0</td>\n",
       "      <td>48000</td>\n",
       "      <td>Thraupis episcopus</td>\n",
       "      <td>0.036713</td>\n",
       "    </tr>\n",
       "    <tr>\n",
       "      <th>4</th>\n",
       "      <td>./cosmos_random_sample_processing/</td>\n",
       "      <td>XC47508</td>\n",
       "      <td>46.654708</td>\n",
       "      <td>0</td>\n",
       "      <td>3.0</td>\n",
       "      <td>3.0</td>\n",
       "      <td>48000</td>\n",
       "      <td>Larvivora cyane</td>\n",
       "      <td>0.045401</td>\n",
       "    </tr>\n",
       "    <tr>\n",
       "      <th>...</th>\n",
       "      <td>...</td>\n",
       "      <td>...</td>\n",
       "      <td>...</td>\n",
       "      <td>...</td>\n",
       "      <td>...</td>\n",
       "      <td>...</td>\n",
       "      <td>...</td>\n",
       "      <td>...</td>\n",
       "      <td>...</td>\n",
       "    </tr>\n",
       "    <tr>\n",
       "      <th>4142</th>\n",
       "      <td>./cosmos_random_sample_processing/</td>\n",
       "      <td>XC691284</td>\n",
       "      <td>21.106958</td>\n",
       "      <td>0</td>\n",
       "      <td>15.0</td>\n",
       "      <td>3.0</td>\n",
       "      <td>48000</td>\n",
       "      <td>Ramphastos tucanus</td>\n",
       "      <td>0.928683</td>\n",
       "    </tr>\n",
       "    <tr>\n",
       "      <th>4143</th>\n",
       "      <td>./cosmos_random_sample_processing/</td>\n",
       "      <td>XC691284</td>\n",
       "      <td>21.106958</td>\n",
       "      <td>0</td>\n",
       "      <td>18.0</td>\n",
       "      <td>3.0</td>\n",
       "      <td>48000</td>\n",
       "      <td>Ramphastos tucanus</td>\n",
       "      <td>0.952721</td>\n",
       "    </tr>\n",
       "    <tr>\n",
       "      <th>4144</th>\n",
       "      <td>./cosmos_random_sample_processing/</td>\n",
       "      <td>XC58363</td>\n",
       "      <td>11.676750</td>\n",
       "      <td>0</td>\n",
       "      <td>0.0</td>\n",
       "      <td>3.0</td>\n",
       "      <td>48000</td>\n",
       "      <td>Sclerurus albigularis</td>\n",
       "      <td>0.086488</td>\n",
       "    </tr>\n",
       "    <tr>\n",
       "      <th>4145</th>\n",
       "      <td>./cosmos_random_sample_processing/</td>\n",
       "      <td>XC58363</td>\n",
       "      <td>11.676750</td>\n",
       "      <td>0</td>\n",
       "      <td>3.0</td>\n",
       "      <td>3.0</td>\n",
       "      <td>48000</td>\n",
       "      <td>Dreptes thomensis</td>\n",
       "      <td>0.074763</td>\n",
       "    </tr>\n",
       "    <tr>\n",
       "      <th>4146</th>\n",
       "      <td>./cosmos_random_sample_processing/</td>\n",
       "      <td>XC58363</td>\n",
       "      <td>11.676750</td>\n",
       "      <td>0</td>\n",
       "      <td>6.0</td>\n",
       "      <td>3.0</td>\n",
       "      <td>48000</td>\n",
       "      <td>Sclerurus scansor</td>\n",
       "      <td>0.016849</td>\n",
       "    </tr>\n",
       "  </tbody>\n",
       "</table>\n",
       "<p>4147 rows × 9 columns</p>\n",
       "</div>"
      ],
      "text/plain": [
       "                                  FOLDER   IN FILE  CLIP LENGTH  CHANNEL  \\\n",
       "0     ./cosmos_random_sample_processing/  XC276588    12.852250        0   \n",
       "1     ./cosmos_random_sample_processing/  XC276588    12.852250        0   \n",
       "2     ./cosmos_random_sample_processing/  XC276588    12.852250        0   \n",
       "3     ./cosmos_random_sample_processing/   XC47508    46.654708        0   \n",
       "4     ./cosmos_random_sample_processing/   XC47508    46.654708        0   \n",
       "...                                  ...       ...          ...      ...   \n",
       "4142  ./cosmos_random_sample_processing/  XC691284    21.106958        0   \n",
       "4143  ./cosmos_random_sample_processing/  XC691284    21.106958        0   \n",
       "4144  ./cosmos_random_sample_processing/   XC58363    11.676750        0   \n",
       "4145  ./cosmos_random_sample_processing/   XC58363    11.676750        0   \n",
       "4146  ./cosmos_random_sample_processing/   XC58363    11.676750        0   \n",
       "\n",
       "      OFFSET  DURATION  SAMPLE RATE                 MANUAL ID  CONFIDENCE  \n",
       "0        3.0       3.0        48000  Tolmomyias sulphurescens    0.144102  \n",
       "1        6.0       3.0        48000      Tangara cyanocephala    0.018023  \n",
       "2        9.0       3.0        48000     Urosphena squameiceps    0.022082  \n",
       "3        0.0       3.0        48000        Thraupis episcopus    0.036713  \n",
       "4        3.0       3.0        48000           Larvivora cyane    0.045401  \n",
       "...      ...       ...          ...                       ...         ...  \n",
       "4142    15.0       3.0        48000        Ramphastos tucanus    0.928683  \n",
       "4143    18.0       3.0        48000        Ramphastos tucanus    0.952721  \n",
       "4144     0.0       3.0        48000     Sclerurus albigularis    0.086488  \n",
       "4145     3.0       3.0        48000         Dreptes thomensis    0.074763  \n",
       "4146     6.0       3.0        48000         Sclerurus scansor    0.016849  \n",
       "\n",
       "[4147 rows x 9 columns]"
      ]
     },
     "execution_count": 52,
     "metadata": {},
     "output_type": "execute_result"
    }
   ],
   "source": [
    "# on multi_df  IN FILE: XC276588 - Yellow-olive Flatbill - Tolmomyias .\n",
    "multi_df[\"IN FILE\"] = multi_df[\"IN FILE\"].apply(lambda x: x.split(\" - \")[0])\n",
    "multi_df"
   ]
  },
  {
   "cell_type": "code",
   "execution_count": 53,
   "metadata": {},
   "outputs": [
    {
     "data": {
      "text/html": [
       "<div>\n",
       "<style scoped>\n",
       "    .dataframe tbody tr th:only-of-type {\n",
       "        vertical-align: middle;\n",
       "    }\n",
       "\n",
       "    .dataframe tbody tr th {\n",
       "        vertical-align: top;\n",
       "    }\n",
       "\n",
       "    .dataframe thead th {\n",
       "        text-align: right;\n",
       "    }\n",
       "</style>\n",
       "<table border=\"1\" class=\"dataframe\">\n",
       "  <thead>\n",
       "    <tr style=\"text-align: right;\">\n",
       "      <th></th>\n",
       "      <th>FOLDER</th>\n",
       "      <th>IN FILE</th>\n",
       "      <th>CLIP LENGTH</th>\n",
       "      <th>CHANNEL</th>\n",
       "      <th>OFFSET</th>\n",
       "      <th>DURATION</th>\n",
       "      <th>SAMPLE RATE</th>\n",
       "      <th>MANUAL ID</th>\n",
       "      <th>CONFIDENCE</th>\n",
       "    </tr>\n",
       "  </thead>\n",
       "  <tbody>\n",
       "    <tr>\n",
       "      <th>0</th>\n",
       "      <td>./COSMOS</td>\n",
       "      <td>XC87449</td>\n",
       "      <td>23.2956</td>\n",
       "      <td>0</td>\n",
       "      <td>0.0</td>\n",
       "      <td>3.0</td>\n",
       "      <td>44100</td>\n",
       "      <td>Celeus grammicus</td>\n",
       "      <td>1</td>\n",
       "    </tr>\n",
       "    <tr>\n",
       "      <th>1</th>\n",
       "      <td>./COSMOS</td>\n",
       "      <td>XC87449</td>\n",
       "      <td>23.2956</td>\n",
       "      <td>0</td>\n",
       "      <td>3.0</td>\n",
       "      <td>3.0</td>\n",
       "      <td>44100</td>\n",
       "      <td>Celeus grammicus</td>\n",
       "      <td>1</td>\n",
       "    </tr>\n",
       "    <tr>\n",
       "      <th>2</th>\n",
       "      <td>./COSMOS</td>\n",
       "      <td>XC87449</td>\n",
       "      <td>23.2956</td>\n",
       "      <td>0</td>\n",
       "      <td>9.0</td>\n",
       "      <td>3.0</td>\n",
       "      <td>44100</td>\n",
       "      <td>Celeus grammicus</td>\n",
       "      <td>1</td>\n",
       "    </tr>\n",
       "    <tr>\n",
       "      <th>3</th>\n",
       "      <td>./COSMOS</td>\n",
       "      <td>XC87449</td>\n",
       "      <td>23.2956</td>\n",
       "      <td>0</td>\n",
       "      <td>12.0</td>\n",
       "      <td>3.0</td>\n",
       "      <td>44100</td>\n",
       "      <td>Celeus grammicus</td>\n",
       "      <td>1</td>\n",
       "    </tr>\n",
       "    <tr>\n",
       "      <th>4</th>\n",
       "      <td>./COSMOS</td>\n",
       "      <td>XC87449</td>\n",
       "      <td>23.2956</td>\n",
       "      <td>0</td>\n",
       "      <td>18.0</td>\n",
       "      <td>3.0</td>\n",
       "      <td>44100</td>\n",
       "      <td>Celeus grammicus</td>\n",
       "      <td>1</td>\n",
       "    </tr>\n",
       "    <tr>\n",
       "      <th>...</th>\n",
       "      <td>...</td>\n",
       "      <td>...</td>\n",
       "      <td>...</td>\n",
       "      <td>...</td>\n",
       "      <td>...</td>\n",
       "      <td>...</td>\n",
       "      <td>...</td>\n",
       "      <td>...</td>\n",
       "      <td>...</td>\n",
       "    </tr>\n",
       "    <tr>\n",
       "      <th>4941</th>\n",
       "      <td>./COSMOS</td>\n",
       "      <td>XC27942</td>\n",
       "      <td>31.3404</td>\n",
       "      <td>0</td>\n",
       "      <td>6.0</td>\n",
       "      <td>3.0</td>\n",
       "      <td>44100</td>\n",
       "      <td>Tolmomyias sulphurescens</td>\n",
       "      <td>1</td>\n",
       "    </tr>\n",
       "    <tr>\n",
       "      <th>4942</th>\n",
       "      <td>./COSMOS</td>\n",
       "      <td>XC27942</td>\n",
       "      <td>31.3404</td>\n",
       "      <td>0</td>\n",
       "      <td>9.0</td>\n",
       "      <td>3.0</td>\n",
       "      <td>44100</td>\n",
       "      <td>Tolmomyias sulphurescens</td>\n",
       "      <td>1</td>\n",
       "    </tr>\n",
       "    <tr>\n",
       "      <th>4943</th>\n",
       "      <td>./COSMOS</td>\n",
       "      <td>XC27942</td>\n",
       "      <td>31.3404</td>\n",
       "      <td>0</td>\n",
       "      <td>15.0</td>\n",
       "      <td>3.0</td>\n",
       "      <td>44100</td>\n",
       "      <td>Tolmomyias sulphurescens</td>\n",
       "      <td>1</td>\n",
       "    </tr>\n",
       "    <tr>\n",
       "      <th>4944</th>\n",
       "      <td>./COSMOS</td>\n",
       "      <td>XC27942</td>\n",
       "      <td>31.3404</td>\n",
       "      <td>0</td>\n",
       "      <td>21.0</td>\n",
       "      <td>3.0</td>\n",
       "      <td>44100</td>\n",
       "      <td>Tolmomyias sulphurescens</td>\n",
       "      <td>1</td>\n",
       "    </tr>\n",
       "    <tr>\n",
       "      <th>4945</th>\n",
       "      <td>./COSMOS</td>\n",
       "      <td>XC27942</td>\n",
       "      <td>31.3404</td>\n",
       "      <td>0</td>\n",
       "      <td>24.0</td>\n",
       "      <td>3.0</td>\n",
       "      <td>44100</td>\n",
       "      <td>Tolmomyias sulphurescens</td>\n",
       "      <td>1</td>\n",
       "    </tr>\n",
       "  </tbody>\n",
       "</table>\n",
       "<p>4946 rows × 9 columns</p>\n",
       "</div>"
      ],
      "text/plain": [
       "        FOLDER  IN FILE  CLIP LENGTH  CHANNEL  OFFSET  DURATION  SAMPLE RATE  \\\n",
       "0     ./COSMOS  XC87449      23.2956        0     0.0       3.0        44100   \n",
       "1     ./COSMOS  XC87449      23.2956        0     3.0       3.0        44100   \n",
       "2     ./COSMOS  XC87449      23.2956        0     9.0       3.0        44100   \n",
       "3     ./COSMOS  XC87449      23.2956        0    12.0       3.0        44100   \n",
       "4     ./COSMOS  XC87449      23.2956        0    18.0       3.0        44100   \n",
       "...        ...      ...          ...      ...     ...       ...          ...   \n",
       "4941  ./COSMOS  XC27942      31.3404        0     6.0       3.0        44100   \n",
       "4942  ./COSMOS  XC27942      31.3404        0     9.0       3.0        44100   \n",
       "4943  ./COSMOS  XC27942      31.3404        0    15.0       3.0        44100   \n",
       "4944  ./COSMOS  XC27942      31.3404        0    21.0       3.0        44100   \n",
       "4945  ./COSMOS  XC27942      31.3404        0    24.0       3.0        44100   \n",
       "\n",
       "                     MANUAL ID  CONFIDENCE  \n",
       "0             Celeus grammicus           1  \n",
       "1             Celeus grammicus           1  \n",
       "2             Celeus grammicus           1  \n",
       "3             Celeus grammicus           1  \n",
       "4             Celeus grammicus           1  \n",
       "...                        ...         ...  \n",
       "4941  Tolmomyias sulphurescens           1  \n",
       "4942  Tolmomyias sulphurescens           1  \n",
       "4943  Tolmomyias sulphurescens           1  \n",
       "4944  Tolmomyias sulphurescens           1  \n",
       "4945  Tolmomyias sulphurescens           1  \n",
       "\n",
       "[4946 rows x 9 columns]"
      ]
     },
     "execution_count": 53,
     "metadata": {},
     "output_type": "execute_result"
    }
   ],
   "source": [
    "#XC87449_-_Scaly-breasted_Woodpecker_-_Celeus_g...\n",
    "manual_chunked_df[\"IN FILE\"] = manual_chunked_df[\"IN FILE\"].apply(lambda x: x.replace(\"_\", \" \").split(\" - \")[0])\n",
    "manual_chunked_df"
   ]
  },
  {
   "cell_type": "code",
   "execution_count": 101,
   "metadata": {},
   "outputs": [
    {
     "name": "stderr",
     "output_type": "stream",
     "text": [
      "/Users/vanessasalgado/Desktop/E4E-Acoustics.nosync/PyHa/PyHa/annotation_post_processing.py:213: SettingWithCopyWarning: \n",
      "A value is trying to be set on a copy of a slice from a DataFrame.\n",
      "Try using .loc[row_indexer,col_indexer] = value instead\n",
      "\n",
      "See the caveats in the documentation: https://pandas.pydata.org/pandas-docs/stable/user_guide/indexing.html#returning-a-view-versus-a-copy\n",
      "  #Init list of clips to cycle through and output dataframe\n"
     ]
    },
    {
     "name": "stdout",
     "output_type": "stream",
     "text": [
      "target 575\n",
      "confidence 575\n",
      "automated df 575\n",
      "[1. 1. 1. 1. 0. 0. 0. 1. 0. 0. 0. 0. 0. 0. 0. 1. 1. 0. 0. 1. 1. 0. 0. 1.\n",
      " 1. 0. 1. 1. 1. 1. 0. 0. 0. 1. 1. 0. 1. 1. 1. 0. 0. 1. 0. 0. 0. 0. 0. 1.\n",
      " 1. 0. 0. 1. 1. 0. 0. 0. 1. 1. 0. 1. 0. 0. 0. 1. 0. 0. 0. 0. 0. 0. 0. 0.\n",
      " 0. 0. 0. 0. 0. 0. 0. 0. 0. 0. 1. 0. 0. 1. 1. 0. 0. 0. 0. 1. 1. 1. 0. 0.\n",
      " 1. 0. 0. 1. 1. 0. 0. 0. 0. 0. 0. 1. 0. 0. 0. 1. 0. 0. 1. 1. 0. 1. 1. 1.\n",
      " 1. 1. 1. 1. 0. 0. 0. 0. 0. 0. 1. 0. 0. 0. 0. 0. 0. 1. 0. 1. 1. 1. 1. 0.\n",
      " 0. 1. 1. 0. 0. 0. 1. 0. 0. 1. 0. 0. 1. 0. 0. 1. 1. 0. 0. 1. 0. 0. 0. 1.\n",
      " 0. 0. 0. 0. 0. 1. 1. 0. 0. 0. 0. 1. 1. 1. 1. 1. 1. 1. 0. 0. 1. 1. 0. 0.\n",
      " 1. 0. 1. 1. 0. 1. 0. 0. 0. 0. 1. 0. 0. 0. 0. 0. 0. 0. 0. 0. 0. 0. 0. 0.\n",
      " 0. 0. 0. 0. 0. 0. 0. 0. 0. 0. 0. 0. 0. 0. 0. 0. 0. 0. 0. 0. 0. 0. 1. 0.\n",
      " 0. 1. 0. 0. 0. 0. 0. 1. 0. 0. 0. 0. 0. 0. 0. 0. 0. 0. 0. 0. 0. 1. 0. 0.\n",
      " 0. 0. 0. 0. 0. 0. 1. 0. 0. 1. 1. 0. 0. 0. 0. 0. 1. 0. 1. 0. 1. 1. 1. 1.\n",
      " 0. 0. 0. 0. 0. 1. 0. 0. 0. 0. 0. 0. 1. 0. 0. 0. 0. 0. 0. 1. 1. 1. 1. 1.\n",
      " 0. 0. 0. 1. 1. 1. 0. 0. 1. 0. 1. 1. 1. 0. 1. 0. 1. 1. 0. 1. 1. 1. 0. 0.\n",
      " 1. 0. 0. 1. 1. 0. 0. 0. 1. 0. 0. 0. 0. 1. 1. 1. 1. 1. 0. 0. 1. 1. 0. 1.\n",
      " 1. 0. 0. 1. 1. 1. 0. 1. 1. 0. 1. 0. 1. 1. 1. 1. 1. 1. 1. 1. 1. 1. 1. 1.\n",
      " 0. 1. 1. 0. 1. 0. 1. 1. 1. 1. 0. 1. 1. 1. 1. 1. 0. 1. 0. 0. 0. 1. 0. 0.\n",
      " 1. 0. 0. 0. 0. 0. 1. 0. 0. 1. 1. 0. 0. 0. 0. 1. 0. 1. 0. 1. 1. 1. 1. 1.\n",
      " 0. 0. 0. 1. 0. 0. 0. 0. 0. 1. 0. 0. 1. 0. 0. 0. 0. 0. 0. 0. 0. 0. 0. 0.\n",
      " 0. 0. 0. 0. 0. 0. 0. 0. 0. 1. 0. 1. 0. 1. 1. 1. 1. 1. 1. 0. 0. 0. 0. 0.\n",
      " 0. 1. 0. 1. 1. 0. 0. 1. 0. 1. 0. 1. 0. 1. 0. 0. 1. 1. 0. 0. 1. 1. 1. 1.\n",
      " 0. 1. 1. 1. 1. 1. 0. 1. 1. 1. 1. 1. 0. 1. 0. 0. 1. 1. 0. 0. 0. 0. 0. 0.\n",
      " 0. 0. 0. 0. 0. 0. 0. 0. 0. 0. 1. 0. 0. 0. 0. 0. 0. 0. 0. 1. 0. 0. 1. 1.\n",
      " 0. 0. 1. 0. 1. 1. 1. 1. 1. 1. 1. 1. 1. 1. 1. 0. 0. 0. 1. 0. 0. 0. 0.]\n",
      "[0.5205698  0.         0.         0.         0.         0.\n",
      " 0.         0.1140194  0.         0.         0.         0.\n",
      " 0.         0.         0.         0.         0.52469742 0.\n",
      " 0.         0.         0.7725777  0.         0.         0.\n",
      " 0.         0.         0.11931595 0.         0.06666771 0.21862493\n",
      " 0.         0.         0.         0.4625068  0.14458629 0.\n",
      " 0.14189169 0.         0.17199135 0.         0.         0.95098883\n",
      " 0.         0.         0.         0.         0.         0.91258943\n",
      " 0.63055605 0.         0.         0.         0.93068713 0.\n",
      " 0.         0.         0.87286872 0.         0.         0.\n",
      " 0.         0.         0.         0.         0.         0.\n",
      " 0.         0.         0.         0.         0.         0.\n",
      " 0.         0.         0.         0.         0.         0.\n",
      " 0.         0.         0.         0.         0.         0.\n",
      " 0.         0.         0.         0.         0.         0.\n",
      " 0.         0.         0.09061848 0.0319159  0.         0.\n",
      " 0.         0.         0.         0.64331096 0.         0.\n",
      " 0.         0.         0.         0.         0.         0.\n",
      " 0.         0.         0.         0.54045933 0.         0.\n",
      " 0.33498865 0.         0.         0.         0.92927837 0.\n",
      " 0.31550148 0.         0.99786574 0.         0.         0.\n",
      " 0.08359531 0.         0.         0.         0.9960503  0.\n",
      " 0.11877407 0.07978985 0.         0.04691499 0.         0.99215251\n",
      " 0.08623409 0.89894158 0.85526985 0.1225388  0.         0.\n",
      " 0.         0.43118751 0.66465205 0.         0.         0.04676756\n",
      " 0.9904682  0.         0.         0.22096716 0.         0.\n",
      " 0.         0.         0.08090801 0.         0.99255109 0.\n",
      " 0.06666647 0.         0.06507748 0.04485184 0.         0.\n",
      " 0.         0.14998326 0.03381521 0.1335043  0.08746862 0.\n",
      " 0.13022916 0.         0.11749963 0.         0.         0.05037384\n",
      " 0.         0.60811818 0.         0.76478535 0.14129068 0.67692757\n",
      " 0.         0.         0.522515   0.         0.         0.\n",
      " 0.57421631 0.         0.01524786 0.15601559 0.         0.7470907\n",
      " 0.         0.         0.         0.         0.72732097 0.\n",
      " 0.         0.         0.         0.         0.         0.\n",
      " 0.         0.         0.         0.         0.         0.\n",
      " 0.         0.         0.         0.         0.         0.\n",
      " 0.         0.         0.         0.         0.         0.\n",
      " 0.         0.         0.         0.         0.         0.\n",
      " 0.         0.         0.         0.         0.         0.\n",
      " 0.         0.0817638  0.         0.         0.         0.\n",
      " 0.         0.41007927 0.         0.         0.         0.\n",
      " 0.         0.         0.         0.         0.         0.\n",
      " 0.         0.         0.         0.         0.         0.\n",
      " 0.         0.         0.         0.         0.         0.\n",
      " 0.         0.         0.         0.         0.         0.\n",
      " 0.         0.         0.         0.         0.29447782 0.\n",
      " 0.34591252 0.         0.         0.         0.         0.43344435\n",
      " 0.         0.         0.         0.         0.         0.38186097\n",
      " 0.         0.         0.         0.         0.         0.\n",
      " 0.09395031 0.         0.         0.         0.         0.\n",
      " 0.         0.90168786 0.62840593 0.97658497 0.0454644  0.99235255\n",
      " 0.         0.         0.         0.99225789 0.         0.98290956\n",
      " 0.0562805  0.04212835 0.9931879  0.         0.90671647 0.95893312\n",
      " 0.77267295 0.         0.99425912 0.02908128 0.01797597 0.99676549\n",
      " 0.         0.13721354 0.20122541 0.68115211 0.         0.\n",
      " 0.48866677 0.         0.         0.         0.10597192 0.\n",
      " 0.         0.         0.67543089 0.         0.         0.\n",
      " 0.         0.06530912 0.         0.5333308  0.10565577 0.47912979\n",
      " 0.03747562 0.         0.12516786 0.         0.         0.05698678\n",
      " 0.08627832 0.         0.         0.56843907 0.12096012 0.95993841\n",
      " 0.         0.24983726 0.45991245 0.         0.96739155 0.\n",
      " 0.79897267 0.         0.96680743 0.84060478 0.         0.\n",
      " 0.         0.91481256 0.         0.58723301 0.         0.77503031\n",
      " 0.         0.84589911 0.         0.         0.80849797 0.\n",
      " 0.41153494 0.         0.         0.79864258 0.         0.88882053\n",
      " 0.20733228 0.         0.         0.27721977 0.01640434 0.\n",
      " 0.         0.         0.         0.09442885 0.         0.\n",
      " 0.6927461  0.         0.         0.         0.         0.\n",
      " 0.12964325 0.05036547 0.         0.         0.         0.\n",
      " 0.         0.         0.         0.         0.         0.\n",
      " 0.         0.         0.         0.         0.         0.\n",
      " 0.         0.         0.         0.         0.         0.\n",
      " 0.         0.         0.         0.         0.         0.\n",
      " 0.         0.         0.         0.         0.         0.\n",
      " 0.         0.         0.         0.         0.         0.\n",
      " 0.         0.         0.         0.         0.         0.\n",
      " 0.         0.         0.         0.         0.         0.49287313\n",
      " 0.         0.         0.         0.         0.         0.\n",
      " 0.         0.         0.         0.         0.         0.\n",
      " 0.         0.28972864 0.         0.4357042  0.         0.\n",
      " 0.         0.         0.         0.1598251  0.         0.\n",
      " 0.         0.         0.16212173 0.         0.         0.\n",
      " 0.         0.         0.1693929  0.25856498 0.07803092 0.08306789\n",
      " 0.         0.02843898 0.64395213 0.         0.         0.\n",
      " 0.27162105 0.01769919 0.         0.30517316 0.03154863 0.\n",
      " 0.         0.75897473 0.         0.         0.         0.\n",
      " 0.         0.         0.         0.         0.         0.\n",
      " 0.         0.         0.         0.         0.         0.\n",
      " 0.         0.         0.         0.         0.01754659 0.\n",
      " 0.         0.         0.         0.         0.         0.\n",
      " 0.         0.         0.         0.         0.18691029 0.\n",
      " 0.         0.         0.62015653 0.         0.40612635 0.72033232\n",
      " 0.1302781  0.         0.89040899 0.0692108  0.06792323 0.\n",
      " 0.27555183 0.07782277 0.45381781 0.         0.         0.\n",
      " 0.58218598 0.         0.         0.         0.        ]\n"
     ]
    },
    {
     "name": "stderr",
     "output_type": "stream",
     "text": [
      "/Users/vanessasalgado/Desktop/E4E-Acoustics.nosync/PyHa/PyHa/annotation_post_processing.py:213: SettingWithCopyWarning: \n",
      "A value is trying to be set on a copy of a slice from a DataFrame.\n",
      "Try using .loc[row_indexer,col_indexer] = value instead\n",
      "\n",
      "See the caveats in the documentation: https://pandas.pydata.org/pandas-docs/stable/user_guide/indexing.html#returning-a-view-versus-a-copy\n",
      "  #Init list of clips to cycle through and output dataframe\n"
     ]
    },
    {
     "name": "stdout",
     "output_type": "stream",
     "text": [
      "target 635\n",
      "confidence 634\n",
      "automated df 634\n",
      "[1. 1. 0. 1. 0. 0. 1. 0. 1. 1. 1. 1. 1. 1. 1. 1. 1. 1. 1. 1. 1. 1. 1. 1.\n",
      " 1. 1. 1. 1. 1. 1. 1. 1. 1. 1. 1. 1. 1. 1. 0. 0. 0. 0. 0. 0. 0. 0. 0. 1.\n",
      " 1. 1. 1. 1. 0. 1. 1. 1. 1. 0. 1. 0. 1. 0. 0. 1. 1. 1. 1. 1. 1. 1. 1. 1.\n",
      " 1. 0. 1. 0. 1. 0. 1. 1. 1. 0. 1. 0. 1. 0. 1. 0. 1. 0. 1. 1. 0. 1. 0. 1.\n",
      " 0. 1. 1. 0. 1. 0. 1. 0. 0. 0. 0. 1. 0. 1. 0. 0. 1. 0. 1. 0. 1. 1. 0. 1.\n",
      " 0. 1. 0. 1. 1. 0. 0. 0. 0. 0. 0. 0. 0. 1. 1. 1. 1. 1. 1. 1. 1. 1. 1. 1.\n",
      " 1. 0. 1. 0. 1. 1. 1. 1. 1. 1. 0. 1. 1. 1. 1. 0. 1. 1. 1. 0. 1. 0. 1. 0.\n",
      " 0. 0. 0. 1. 1. 1. 1. 1. 1. 1. 1. 1. 1. 1. 1. 0. 1. 0. 1. 1. 0. 0. 1. 0.\n",
      " 0. 0. 1. 0. 0. 1. 1. 0. 0. 1. 1. 1. 1. 1. 1. 1. 1. 1. 1. 1. 0. 1. 0. 1.\n",
      " 0. 0. 1. 0. 0. 1. 1. 1. 0. 1. 0. 0. 1. 1. 0. 0. 1. 0. 1. 1. 1. 1. 1. 0.\n",
      " 1. 1. 1. 1. 1. 1. 1. 1. 1. 1. 0. 1. 1. 1. 1. 1. 1. 1. 1. 1. 1. 1. 1. 1.\n",
      " 1. 1. 0. 0. 0. 0. 0. 0. 0. 0. 0. 0. 0. 0. 0. 1. 0. 1. 1. 1. 1. 1. 1. 0.\n",
      " 1. 1. 1. 1. 1. 1. 1. 1. 1. 1. 1. 1. 1. 1. 1. 1. 1. 0. 1. 1. 1. 1. 0. 1.\n",
      " 1. 0. 1. 0. 0. 1. 0. 0. 1. 1. 0. 0. 1. 0. 0. 1. 0. 0. 1. 0. 0. 1. 1. 0.\n",
      " 1. 1. 0. 1. 1. 1. 0. 1. 0. 1. 0. 0. 1. 0. 1. 0. 0. 1. 0. 1. 1. 0. 1. 1.\n",
      " 0. 1. 0. 0. 1. 0. 1. 1. 1. 1. 1. 1. 0. 1. 0. 1. 1. 0. 1. 0. 0. 0. 0. 0.\n",
      " 0. 1. 1. 1. 1. 1. 1. 1. 1. 1. 1. 1. 0. 1. 0. 0. 1. 0. 0. 1. 0. 0. 1. 0.\n",
      " 0. 1. 0. 0. 1. 1. 1. 1. 1. 0. 0. 1. 0. 1. 1. 0. 1. 1. 0. 1. 1. 0. 1. 1.\n",
      " 0. 0. 1. 0. 1. 0. 1. 0. 1. 0. 0. 1. 1. 1. 1. 1. 1. 1. 1. 1. 1. 1. 1. 1.\n",
      " 1. 1. 1. 1. 1. 1. 1. 1. 1. 1. 1. 1. 1. 1. 1. 1. 1. 1. 1. 1. 1. 1. 1. 1.\n",
      " 1. 1. 1. 1. 1. 1. 1. 1. 1. 1. 1. 1. 1. 1. 1. 1. 1. 1. 1. 1. 1. 1. 1. 1.\n",
      " 1. 1. 1. 1. 1. 1. 1. 1. 1. 1. 1. 1. 1. 1. 1. 1. 1. 1. 1. 1. 1. 1. 1. 1.\n",
      " 1. 1. 1. 1. 1. 1. 1. 1. 1. 1. 1. 1. 1. 1. 1. 1. 0. 1. 0. 1. 1. 0. 1. 0.\n",
      " 1. 1. 0. 1. 0. 0. 1. 0. 1. 1. 0. 1. 0. 0. 1. 0. 0. 0. 0. 0. 0. 0. 0. 0.\n",
      " 0. 0. 0. 0. 0. 0. 0. 0. 0. 0. 0. 1. 1. 1. 1. 1. 1. 1. 1. 1. 0. 1. 0. 1.\n",
      " 1. 1. 1. 1. 1. 1. 0. 1. 0. 1. 0. 0. 0. 1. 0. 0. 1. 0. 0. 1. 1. 0. 0. 1.\n",
      " 0. 1. 1. 1. 0. 1. 1. 1. 0. 1. 1.]\n",
      "[0.         0.15217921 0.         0.0497596  0.         0.\n",
      " 0.90181321 0.         0.89810014 0.38891971 0.40152502 0.\n",
      " 0.76987976 0.8432495  0.         0.         0.82178652 0.80749738\n",
      " 0.         0.08595397 0.78291607 0.         0.         0.65108019\n",
      " 0.42474851 0.         0.54240036 0.         0.         0.\n",
      " 0.         0.55477536 0.         0.31068906 0.96944481 0.84080356\n",
      " 0.93798858 0.95800948 0.         0.         0.         0.\n",
      " 0.         0.         0.         0.         0.         0.98255426\n",
      " 0.95657837 0.         0.98344684 0.99128413 0.         0.98431593\n",
      " 0.98595691 0.         0.99319941 0.         0.         0.\n",
      " 0.95919806 0.         0.         0.12069275 0.14500563 0.1809413\n",
      " 0.32797801 0.36246905 0.         0.79813331 0.         0.51288748\n",
      " 0.61756903 0.         0.34821048 0.         0.         0.\n",
      " 0.41775554 0.         0.34756154 0.         0.60458332 0.\n",
      " 0.16475746 0.         0.42656252 0.         0.         0.\n",
      " 0.         0.         0.         0.14772835 0.         0.0856939\n",
      " 0.         0.         0.         0.         0.04728292 0.\n",
      " 0.1140166  0.         0.         0.         0.         0.\n",
      " 0.         0.12259608 0.         0.         0.         0.\n",
      " 0.         0.         0.         0.         0.         0.05839063\n",
      " 0.         0.         0.         0.         0.         0.\n",
      " 0.         0.         0.         0.         0.         0.\n",
      " 0.         0.         0.3013818  0.51525891 0.71001983 0.7146101\n",
      " 0.93080413 0.         0.323807   0.78931206 0.19279201 0.\n",
      " 0.97278756 0.         0.83549011 0.         0.         0.\n",
      " 0.67543924 0.88315982 0.         0.84466749 0.         0.\n",
      " 0.87673312 0.         0.70274287 0.         0.99233562 0.\n",
      " 0.96415573 0.         0.91096854 0.         0.8955605  0.\n",
      " 0.         0.         0.         0.         0.         0.72669506\n",
      " 0.86533779 0.         0.84284306 0.96371275 0.         0.89424497\n",
      " 0.         0.34874481 0.         0.         0.97205275 0.\n",
      " 0.         0.98383951 0.         0.         0.98307931 0.\n",
      " 0.         0.         0.93204516 0.         0.         0.99133378\n",
      " 0.         0.         0.         0.96373391 0.45918497 0.\n",
      " 0.         0.57938832 0.33694309 0.86626822 0.2566165  0.19160298\n",
      " 0.         0.89048648 0.         0.94437551 0.         0.97627664\n",
      " 0.         0.         0.98323858 0.         0.         0.99243331\n",
      " 0.         0.         0.         0.96534657 0.         0.\n",
      " 0.         0.         0.         0.         0.         0.84238017\n",
      " 0.78706056 0.91795534 0.         0.23239505 0.         0.21796663\n",
      " 0.90869856 0.97420651 0.99270016 0.94083107 0.96688551 0.\n",
      " 0.         0.80551118 0.94363952 0.         0.83478355 0.\n",
      " 0.         0.65879244 0.93380994 0.96058881 0.87875134 0.9790014\n",
      " 0.82829082 0.35207236 0.         0.97993475 0.         0.0911455\n",
      " 0.86927319 0.7349149  0.79290545 0.67674327 0.72406185 0.8493107\n",
      " 0.74258405 0.71046561 0.72076392 0.72504991 0.5665381  0.\n",
      " 0.         0.         0.83390707 0.         0.60687792 0.42578024\n",
      " 0.         0.88809764 0.         0.         0.         0.\n",
      " 0.         0.         0.         0.69478244 0.64389628 0.\n",
      " 0.09429641 0.         0.         0.96129829 0.949476   0.36303186\n",
      " 0.15247843 0.         0.98327476 0.95207715 0.         0.77370399\n",
      " 0.         0.         0.         0.         0.         0.\n",
      " 0.         0.82032508 0.         0.         0.56595868 0.\n",
      " 0.         0.         0.19698371 0.         0.         0.\n",
      " 0.         0.         0.         0.         0.         0.\n",
      " 0.         0.         0.69709116 0.         0.         0.\n",
      " 0.         0.         0.         0.         0.25796565 0.\n",
      " 0.65360337 0.         0.26725215 0.         0.         0.39614162\n",
      " 0.         0.67453092 0.         0.         0.62077707 0.\n",
      " 0.72570044 0.         0.         0.810534   0.         0.\n",
      " 0.80505079 0.         0.         0.17008851 0.         0.\n",
      " 0.         0.         0.         0.         0.         0.\n",
      " 0.37986869 0.         0.40752986 0.         0.         0.\n",
      " 0.         0.         0.         0.         0.         0.\n",
      " 0.         0.         0.         0.3335647  0.84052581 0.84502506\n",
      " 0.         0.98444068 0.         0.         0.         0.\n",
      " 0.92676479 0.         0.         0.91648388 0.         0.\n",
      " 0.76207751 0.         0.         0.91672903 0.         0.\n",
      " 0.73038393 0.         0.         0.         0.         0.\n",
      " 0.08507507 0.         0.         0.         0.87558377 0.\n",
      " 0.         0.49901691 0.         0.         0.         0.\n",
      " 0.2687656  0.         0.         0.         0.45390376 0.\n",
      " 0.         0.78113449 0.         0.89523059 0.         0.7799651\n",
      " 0.         0.23787558 0.         0.         0.28343537 0.\n",
      " 0.         0.77588814 0.         0.         0.5553019  0.23807633\n",
      " 0.         0.42362419 0.         0.12514475 0.87682295 0.416379\n",
      " 0.         0.         0.         0.18105063 0.45299301 0.\n",
      " 0.80274951 0.         0.         0.22094274 0.36071947 0.\n",
      " 0.         0.         0.         0.60326749 0.49936727 0.\n",
      " 0.         0.         0.27320856 0.         0.         0.\n",
      " 0.         0.         0.17081265 0.         0.55712062 0.32552344\n",
      " 0.         0.27647653 0.40123418 0.         0.16587938 0.\n",
      " 0.         0.         0.30861151 0.10022703 0.         0.\n",
      " 0.         0.         0.18440077 0.0979455  0.         0.\n",
      " 0.         0.17205791 0.         0.         0.         0.43792465\n",
      " 0.18074469 0.         0.         0.         0.         0.\n",
      " 0.30030438 0.         0.         0.         0.07581349 0.\n",
      " 0.         0.         0.22695246 0.         0.         0.\n",
      " 0.         0.2011258  0.         0.         0.         0.29886678\n",
      " 0.         0.         0.         0.11365518 0.         0.99667239\n",
      " 0.         0.         0.99024689 0.         0.99460608 0.\n",
      " 0.         0.19932498 0.         0.98619217 0.         0.\n",
      " 0.9290964  0.         0.97827208 0.         0.         0.95763141\n",
      " 0.         0.         0.         0.         0.93319029 0.\n",
      " 0.         0.93391889 0.         0.         0.         0.\n",
      " 0.         0.         0.         0.         0.         0.\n",
      " 0.         0.         0.         0.         0.         0.\n",
      " 0.         0.         0.         0.         0.         0.\n",
      " 0.         0.         0.         0.         0.         0.68932116\n",
      " 0.79865545 0.         0.54853362 0.         0.         0.93452346\n",
      " 0.99311709 0.865749   0.21542239 0.78515488 0.91464257 0.\n",
      " 0.9454962  0.         0.98522675 0.         0.         0.\n",
      " 0.97743875 0.         0.         0.98431361 0.         0.\n",
      " 0.97513753 0.         0.         0.         0.9770183  0.\n",
      " 0.92147952 0.08573828 0.92972988 0.         0.78177148 0.11658739\n",
      " 0.56459969 0.         0.63222218 0.        ]\n"
     ]
    },
    {
     "name": "stderr",
     "output_type": "stream",
     "text": [
      "/Users/vanessasalgado/Desktop/E4E-Acoustics.nosync/PyHa/PyHa/annotation_post_processing.py:213: SettingWithCopyWarning: \n",
      "A value is trying to be set on a copy of a slice from a DataFrame.\n",
      "Try using .loc[row_indexer,col_indexer] = value instead\n",
      "\n",
      "See the caveats in the documentation: https://pandas.pydata.org/pandas-docs/stable/user_guide/indexing.html#returning-a-view-versus-a-copy\n",
      "  #Init list of clips to cycle through and output dataframe\n"
     ]
    },
    {
     "name": "stdout",
     "output_type": "stream",
     "text": [
      "target 285\n",
      "confidence 284\n",
      "automated df 284\n",
      "[1. 1. 0. 0. 0. 0. 1. 1. 1. 0. 1. 0. 1. 0. 0. 1. 0. 1. 1. 1. 0. 1. 1. 0.\n",
      " 0. 1. 1. 1. 1. 1. 1. 1. 1. 1. 1. 1. 1. 1. 1. 1. 1. 1. 1. 1. 1. 1. 1. 1.\n",
      " 1. 0. 1. 1. 0. 1. 1. 1. 1. 0. 0. 1. 1. 1. 0. 0. 0. 1. 1. 1. 1. 1. 1. 1.\n",
      " 0. 0. 0. 1. 1. 1. 1. 0. 1. 1. 0. 1. 1. 1. 1. 1. 0. 1. 1. 0. 1. 0. 0. 1.\n",
      " 1. 1. 1. 1. 1. 0. 0. 0. 0. 0. 0. 0. 0. 0. 0. 0. 0. 0. 0. 0. 0. 0. 1. 1.\n",
      " 0. 0. 0. 0. 1. 0. 0. 0. 0. 1. 1. 1. 1. 1. 1. 1. 1. 1. 1. 1. 1. 1. 1. 1.\n",
      " 1. 1. 0. 1. 0. 1. 1. 1. 1. 1. 1. 0. 1. 1. 1. 1. 1. 1. 1. 1. 1. 1. 1. 0.\n",
      " 1. 1. 1. 0. 1. 0. 1. 1. 0. 0. 1. 1. 0. 1. 0. 0. 1. 0. 1. 1. 0. 1. 1. 0.\n",
      " 0. 0. 1. 1. 1. 0. 1. 1. 0. 1. 1. 0. 0. 0. 1. 1. 1. 0. 1. 1. 0. 1. 1. 1.\n",
      " 0. 0. 0. 1. 1. 1. 1. 0. 1. 0. 0. 1. 1. 0. 1. 1. 0. 1. 1. 0. 1. 1. 0. 0.\n",
      " 1. 0. 0. 0. 0. 0. 0. 0. 0. 1. 1. 1. 1. 1. 1. 1. 1. 0. 1. 0. 1. 1. 1. 1.\n",
      " 1. 1. 1. 0. 1. 0. 1. 1. 0. 0. 0. 0. 0. 0. 1. 1. 0. 0. 0. 0. 0.]\n",
      "[0.01124568 0.96367073 0.         0.         0.         0.\n",
      " 0.8358376  0.56108034 0.544276   0.         0.4557023  0.\n",
      " 0.69892406 0.         0.         0.60459554 0.         0.38684976\n",
      " 0.79813164 0.76257628 0.         0.81019819 0.         0.\n",
      " 0.         0.76261032 0.38085356 0.         0.09113421 0.\n",
      " 0.         0.         0.         0.         0.         0.03507735\n",
      " 0.         0.         0.         0.         0.         0.\n",
      " 0.         0.         0.         0.         0.         0.\n",
      " 0.         0.         0.         0.         0.         0.\n",
      " 0.         0.         0.         0.         0.         0.28284523\n",
      " 0.34093425 0.         0.         0.         0.         0.\n",
      " 0.         0.         0.         0.         0.87216115 0.57068914\n",
      " 0.         0.         0.         0.89331639 0.         0.94959486\n",
      " 0.         0.         0.         0.55754483 0.         0.64630556\n",
      " 0.         0.91510898 0.82927454 0.2886208  0.         0.88198137\n",
      " 0.38057753 0.         0.83209562 0.         0.         0.81889516\n",
      " 0.30409604 0.         0.         0.10632434 0.82464015 0.\n",
      " 0.         0.         0.         0.         0.         0.\n",
      " 0.         0.         0.         0.         0.         0.\n",
      " 0.         0.         0.         0.         0.55518901 0.22112349\n",
      " 0.         0.         0.         0.         0.65552533 0.\n",
      " 0.         0.         0.         0.28952214 0.         0.\n",
      " 0.         0.         0.         0.         0.         0.\n",
      " 0.         0.08991594 0.         0.         0.         0.\n",
      " 0.         0.         0.         0.06825876 0.         0.\n",
      " 0.         0.         0.         0.         0.         0.\n",
      " 0.         0.         0.         0.         0.         0.\n",
      " 0.         0.         0.9727633  0.         0.96807122 0.\n",
      " 0.94224238 0.91178423 0.         0.         0.85503858 0.\n",
      " 0.75649989 0.         0.         0.36380613 0.         0.\n",
      " 0.         0.         0.         0.23968734 0.         0.\n",
      " 0.         0.         0.94130439 0.11862498 0.         0.\n",
      " 0.         0.74505574 0.87009269 0.         0.         0.\n",
      " 0.16135059 0.         0.         0.90567946 0.         0.\n",
      " 0.         0.54926294 0.         0.96336126 0.         0.90417486\n",
      " 0.46079764 0.         0.91050071 0.         0.84592408 0.11461446\n",
      " 0.         0.         0.         0.         0.12240916 0.82965809\n",
      " 0.         0.98762441 0.         0.         0.95468575 0.\n",
      " 0.         0.80754328 0.77518737 0.         0.63965499 0.88750309\n",
      " 0.         0.         0.42551169 0.         0.         0.93330181\n",
      " 0.         0.         0.         0.         0.         0.\n",
      " 0.         0.         0.93176615 0.14318466 0.         0.46226507\n",
      " 0.         0.21753407 0.09926803 0.19313586 0.         0.77925742\n",
      " 0.         0.44478992 0.09439912 0.68477213 0.0877817  0.7603364\n",
      " 0.70281619 0.         0.         0.42008027 0.         0.\n",
      " 0.         0.         0.         0.         0.         0.\n",
      " 0.         0.20255776 0.         0.         0.         0.\n",
      " 0.         0.        ]\n"
     ]
    },
    {
     "name": "stderr",
     "output_type": "stream",
     "text": [
      "/Users/vanessasalgado/Desktop/E4E-Acoustics.nosync/PyHa/PyHa/annotation_post_processing.py:213: SettingWithCopyWarning: \n",
      "A value is trying to be set on a copy of a slice from a DataFrame.\n",
      "Try using .loc[row_indexer,col_indexer] = value instead\n",
      "\n",
      "See the caveats in the documentation: https://pandas.pydata.org/pandas-docs/stable/user_guide/indexing.html#returning-a-view-versus-a-copy\n",
      "  #Init list of clips to cycle through and output dataframe\n"
     ]
    },
    {
     "name": "stdout",
     "output_type": "stream",
     "text": [
      "target 352\n",
      "confidence 352\n",
      "automated df 352\n",
      "[1. 1. 0. 1. 1. 1. 1. 1. 1. 1. 1. 1. 1. 1. 1. 1. 1. 1. 0. 1. 1. 1. 1. 1.\n",
      " 1. 1. 1. 1. 1. 1. 1. 1. 0. 1. 1. 1. 0. 0. 1. 1. 1. 1. 1. 1. 1. 1. 0. 0.\n",
      " 1. 1. 1. 1. 1. 1. 1. 1. 0. 1. 1. 0. 1. 1. 1. 1. 1. 1. 1. 1. 1. 1. 1. 1.\n",
      " 1. 1. 1. 1. 1. 1. 1. 1. 1. 1. 1. 1. 1. 1. 1. 1. 1. 1. 1. 1. 1. 1. 1. 1.\n",
      " 1. 1. 1. 1. 1. 1. 1. 0. 1. 1. 1. 1. 1. 1. 1. 0. 1. 1. 1. 1. 1. 1. 1. 1.\n",
      " 1. 1. 1. 1. 1. 1. 1. 1. 1. 1. 1. 1. 1. 1. 1. 1. 1. 1. 1. 1. 1. 1. 1. 1.\n",
      " 1. 1. 1. 1. 1. 1. 1. 1. 1. 1. 1. 1. 1. 1. 1. 1. 1. 1. 1. 1. 1. 1. 1. 1.\n",
      " 1. 1. 1. 1. 1. 1. 1. 1. 1. 1. 0. 1. 0. 1. 1. 1. 1. 1. 1. 1. 1. 1. 1. 1.\n",
      " 1. 1. 1. 1. 1. 1. 1. 1. 1. 1. 1. 0. 1. 1. 1. 1. 1. 1. 1. 1. 1. 1. 1. 1.\n",
      " 1. 1. 1. 1. 1. 1. 1. 1. 1. 1. 1. 1. 1. 1. 1. 1. 1. 1. 1. 1. 1. 1. 1. 1.\n",
      " 1. 1. 1. 1. 1. 1. 1. 1. 1. 1. 1. 1. 1. 1. 1. 1. 1. 1. 1. 1. 1. 1. 1. 1.\n",
      " 1. 1. 1. 1. 1. 1. 1. 1. 1. 1. 1. 1. 1. 1. 1. 1. 1. 1. 1. 1. 1. 1. 1. 1.\n",
      " 1. 1. 1. 1. 1. 1. 1. 1. 1. 1. 1. 1. 1. 1. 1. 1. 1. 1. 1. 1. 1. 1. 1. 1.\n",
      " 1. 1. 1. 1. 1. 1. 1. 1. 1. 1. 1. 1. 1. 1. 1. 1. 1. 1. 1. 1. 1. 1. 1. 1.\n",
      " 1. 1. 1. 1. 1. 1. 1. 1. 1. 1. 1. 1. 1. 1. 1. 1.]\n",
      "[0.98550725 0.99908555 0.         0.99036437 0.99533701 0.14636278\n",
      " 0.89783555 0.99954492 0.99389333 0.9876796  0.9993118  0.99861085\n",
      " 0.99349868 0.99764353 0.9882614  0.99674183 0.99791998 0.69004905\n",
      " 0.         0.99058878 0.98908591 0.99606186 0.99027342 0.92115587\n",
      " 0.94914746 0.86941499 0.91730434 0.9566769  0.96801704 0.91775364\n",
      " 0.94818193 0.95025986 0.         0.78090572 0.84616077 0.7637707\n",
      " 0.83317107 0.68140537 0.81754273 0.46793243 0.07990258 0.76546174\n",
      " 0.92390555 0.72186738 0.68306249 0.84137112 0.         0.\n",
      " 0.98741907 0.99483997 0.99353641 0.94210243 0.9497925  0.99962807\n",
      " 0.99795026 0.99811208 0.99857473 0.98518038 0.9993149  0.99551386\n",
      " 0.99809855 0.99549943 0.99583238 0.99913377 0.         0.99929619\n",
      " 0.99861801 0.99790812 0.99779439 0.99858606 0.99757415 0.99748385\n",
      " 0.00961609 0.99935931 0.99800354 0.99732167 0.99396801 0.99923968\n",
      " 0.999044   0.99759239 0.99842572 0.99919218 0.99639684 0.99947804\n",
      " 0.57822275 0.52115393 0.97318143 0.         0.95988041 0.85765934\n",
      " 0.15886492 0.         0.98734158 0.20153555 0.93034881 0.\n",
      " 0.         0.98846442 0.         0.         0.91256571 0.61122072\n",
      " 0.59299421 0.45917055 0.99409014 0.9843142  0.9941749  0.966052\n",
      " 0.71802604 0.82469648 0.82389247 0.         0.88179958 0.9760384\n",
      " 0.95641458 0.99366802 0.91380519 0.96377027 0.72891933 0.53137523\n",
      " 0.95163023 0.97336167 0.86637336 0.97270095 0.88955522 0.98798555\n",
      " 0.         0.97349894 0.95585984 0.77170467 0.54718494 0.98016882\n",
      " 0.98260915 0.97088653 0.95218718 0.99410003 0.99734986 0.89089662\n",
      " 0.8656674  0.92966449 0.96656287 0.94510132 0.9274677  0.95038456\n",
      " 0.84473425 0.24022426 0.99881113 0.99923217 0.97819477 0.94582385\n",
      " 0.98709744 0.98891771 0.98971516 0.99765527 0.98907149 0.99860126\n",
      " 0.99143219 0.9976902  0.98930115 0.98017222 0.         0.99925119\n",
      " 0.99626774 0.99397779 0.9988901  0.99359316 0.97103477 0.99155581\n",
      " 0.99471235 0.99748492 0.99854642 0.99777126 0.99934179 0.99567646\n",
      " 0.4586252  0.92842996 0.91621047 0.9512766  0.         0.80257046\n",
      " 0.         0.96218169 0.99745613 0.99703312 0.99666733 0.99608999\n",
      " 0.95804453 0.98906648 0.81832254 0.99949837 0.98503518 0.40851113\n",
      " 0.30972388 0.53813696 0.06490169 0.48514971 0.31731355 0.25029254\n",
      " 0.18179825 0.64064997 0.         0.91713494 0.61987716 0.\n",
      " 0.99390632 0.87147444 0.9909113  0.99622667 0.99185175 0.99707007\n",
      " 0.89173281 0.9900158  0.98713195 0.         0.38962182 0.96351451\n",
      " 0.         0.24200769 0.         0.84213841 0.98658967 0.99568439\n",
      " 0.98998547 0.98317391 0.64582998 0.91808349 0.99764389 0.98649108\n",
      " 0.98541808 0.96488822 0.8553834  0.53224462 0.75484502 0.84394252\n",
      " 0.9692741  0.99841452 0.99404031 0.9998349  0.99903297 0.99943894\n",
      " 0.99739134 0.99439669 0.99843472 0.99956053 0.99670947 0.9950217\n",
      " 0.99007004 0.99548471 0.99870586 0.99649519 0.99493623 0.99690151\n",
      " 0.99258888 0.93883246 0.9948715  0.84214485 0.98567945 0.99523181\n",
      " 0.99394965 0.99830854 0.         0.69357985 0.36877057 0.\n",
      " 0.69357985 0.36877057 0.99989164 0.95630628 0.9992767  0.99989104\n",
      " 0.99981409 0.99996328 0.99981409 0.99819714 0.99993908 0.99977452\n",
      " 0.99946278 0.99505323 0.99953973 0.99897027 0.98924643 0.99781322\n",
      " 0.99546319 0.99959213 0.99864548 0.99977607 0.99853837 0.99216628\n",
      " 0.99888831 0.98872977 0.97442406 0.96446323 0.98228055 0.96969604\n",
      " 0.97644991 0.99599314 0.96729672 0.98077077 0.97683048 0.88942528\n",
      " 0.62242866 0.68131983 0.97206813 0.98454225 0.97643524 0.97706795\n",
      " 0.95537871 0.30167651 0.61560953 0.81021345 0.93685824 0.86087191\n",
      " 0.8150934  0.83259231 0.68978643 0.5890184  0.85988867 0.92868251\n",
      " 0.95272148 0.93359035 0.         0.97742677 0.99875855 0.9810456\n",
      " 0.99089688 0.         0.30181026 0.33181515 0.91600108 0.68388927\n",
      " 0.         0.91594881 0.8837105  0.7970733  0.99960548 0.99943763\n",
      " 0.98751926 0.99977666 0.99755055 0.9962436  0.99499714 0.98170394\n",
      " 0.99427491 0.98668182 0.96392161 0.99330407 0.98906994 0.82138282\n",
      " 0.93858677 0.77784306 0.75964564 0.36333749]\n"
     ]
    },
    {
     "name": "stderr",
     "output_type": "stream",
     "text": [
      "/Users/vanessasalgado/Desktop/E4E-Acoustics.nosync/PyHa/PyHa/annotation_post_processing.py:213: SettingWithCopyWarning: \n",
      "A value is trying to be set on a copy of a slice from a DataFrame.\n",
      "Try using .loc[row_indexer,col_indexer] = value instead\n",
      "\n",
      "See the caveats in the documentation: https://pandas.pydata.org/pandas-docs/stable/user_guide/indexing.html#returning-a-view-versus-a-copy\n",
      "  #Init list of clips to cycle through and output dataframe\n"
     ]
    },
    {
     "name": "stdout",
     "output_type": "stream",
     "text": [
      "target 478\n",
      "confidence 478\n",
      "automated df 478\n",
      "[1. 1. 1. 1. 0. 1. 1. 1. 0. 1. 1. 1. 0. 1. 1. 1. 1. 0. 1. 1. 1. 1. 1. 1.\n",
      " 1. 1. 1. 1. 1. 1. 1. 1. 1. 1. 0. 0. 1. 1. 1. 0. 0. 0. 1. 1. 1. 1. 1. 1.\n",
      " 1. 0. 0. 0. 0. 0. 0. 0. 0. 0. 0. 0. 0. 0. 0. 0. 0. 0. 0. 0. 0. 0. 0. 0.\n",
      " 0. 0. 0. 0. 0. 0. 0. 0. 0. 0. 0. 0. 0. 0. 0. 0. 0. 0. 0. 0. 0. 0. 0. 0.\n",
      " 0. 0. 0. 0. 0. 0. 0. 0. 0. 0. 0. 0. 0. 0. 0. 0. 0. 0. 0. 0. 0. 0. 0. 0.\n",
      " 0. 1. 1. 1. 1. 1. 1. 1. 1. 1. 1. 1. 1. 1. 1. 1. 1. 1. 1. 1. 1. 1. 1. 1.\n",
      " 1. 1. 1. 1. 0. 1. 1. 1. 1. 0. 1. 1. 1. 1. 1. 1. 0. 0. 1. 1. 0. 1. 1. 1.\n",
      " 1. 1. 1. 0. 1. 1. 1. 0. 1. 1. 1. 0. 0. 0. 0. 0. 0. 0. 0. 1. 1. 0. 0. 0.\n",
      " 0. 0. 0. 0. 0. 0. 0. 0. 0. 0. 0. 0. 0. 0. 1. 1. 1. 0. 1. 0. 1. 1. 1. 1.\n",
      " 1. 0. 0. 0. 0. 1. 1. 1. 1. 1. 0. 0. 0. 1. 1. 1. 1. 0. 0. 1. 1. 0. 0. 0.\n",
      " 1. 1. 0. 0. 0. 0. 0. 0. 0. 0. 1. 1. 1. 0. 1. 1. 1. 1. 1. 1. 0. 1. 0. 1.\n",
      " 0. 1. 1. 1. 1. 1. 1. 1. 0. 1. 1. 1. 1. 1. 1. 1. 1. 1. 1. 1. 1. 1. 0. 1.\n",
      " 0. 0. 0. 1. 1. 0. 1. 1. 0. 0. 0. 0. 0. 0. 0. 0. 0. 0. 0. 0. 0. 0. 0. 0.\n",
      " 0. 0. 1. 1. 1. 1. 1. 1. 1. 0. 1. 1. 1. 1. 0. 0. 1. 1. 1. 1. 1. 0. 1. 1.\n",
      " 1. 0. 0. 1. 1. 1. 0. 0. 0. 0. 0. 0. 0. 0. 0. 0. 0. 0. 0. 1. 1. 0. 0. 1.\n",
      " 1. 1. 1. 1. 1. 1. 1. 0. 1. 1. 1. 0. 1. 1. 1. 1. 1. 0. 1. 1. 1. 0. 1. 1.\n",
      " 0. 0. 0. 0. 0. 1. 1. 0. 0. 0. 0. 0. 1. 0. 0. 0. 0. 0. 0. 0. 0. 1. 1. 0.\n",
      " 1. 1. 0. 0. 0. 0. 0. 1. 0. 0. 1. 1. 0. 0. 1. 0. 0. 0. 0. 0. 1. 1. 0. 0.\n",
      " 1. 1. 0. 0. 1. 0. 1. 1. 1. 0. 0. 0. 0. 1. 0. 0. 1. 1. 1. 1. 1. 1. 1. 0.\n",
      " 1. 1. 1. 1. 0. 0. 0. 0. 0. 0. 0. 0. 0. 0. 0. 0. 0. 0. 1. 1. 0. 1.]\n",
      "[0.81724381 0.39257765 0.90162838 0.75714535 0.         0.78609145\n",
      " 0.85283196 0.92993605 0.         0.60694343 0.91540486 0.01141254\n",
      " 0.         0.82727319 0.70505238 0.19856119 0.95529217 0.\n",
      " 0.         0.87884343 0.61836916 0.91406482 0.         0.\n",
      " 0.         0.90030724 0.79813927 0.         0.90309781 0.42902046\n",
      " 0.         0.         0.74367988 0.58270305 0.         0.\n",
      " 0.05939432 0.18543757 0.26099706 0.         0.         0.\n",
      " 0.94079584 0.80616122 0.3545267  0.         0.         0.\n",
      " 0.70468003 0.11077849 0.20767537 0.         0.08978227 0.\n",
      " 0.42630586 0.18067414 0.1651379  0.         0.         0.\n",
      " 0.         0.11507168 0.         0.         0.11250127 0.\n",
      " 0.25753748 0.         0.         0.         0.         0.\n",
      " 0.11117871 0.22061992 0.17376098 0.15618733 0.17655218 0.61225849\n",
      " 0.28107053 0.         0.45287788 0.         0.40468374 0.\n",
      " 0.         0.245281   0.         0.02143782 0.         0.18158127\n",
      " 0.53862423 0.         0.         0.38177836 0.         0.\n",
      " 0.         0.         0.         0.         0.         0.76985103\n",
      " 0.         0.04261847 0.01065894 0.         0.35566664 0.\n",
      " 0.         0.5142166  0.         0.0265242  0.4692283  0.82828134\n",
      " 0.01328424 0.71346599 0.67916089 0.1724914  0.54464978 0.\n",
      " 0.07973599 0.93609726 0.95446044 0.9734084  0.54098845 0.92082441\n",
      " 0.87976098 0.96114111 0.95841318 0.94294101 0.93154609 0.92741913\n",
      " 0.96545625 0.3520503  0.49826184 0.         0.96615523 0.38468686\n",
      " 0.90425938 0.27316988 0.         0.         0.83058387 0.92764425\n",
      " 0.67151713 0.84613436 0.87364131 0.82713634 0.         0.54073429\n",
      " 0.90768266 0.53255361 0.8850168  0.         0.79014331 0.92842925\n",
      " 0.59035641 0.         0.72075933 0.42235911 0.         0.\n",
      " 0.         0.78589618 0.         0.79256988 0.51336759 0.\n",
      " 0.82014626 0.48153979 0.         0.         0.         0.83677906\n",
      " 0.67380095 0.         0.         0.81478173 0.         0.\n",
      " 0.         0.         0.         0.         0.         0.\n",
      " 0.         0.8997705  0.65621054 0.         0.96192133 0.\n",
      " 0.85842621 0.82725066 0.         0.23357305 0.55786467 0.\n",
      " 0.94659668 0.40248457 0.44043815 0.76340979 0.         0.50007504\n",
      " 0.84739363 0.85257691 0.         0.56631196 0.59239668 0.\n",
      " 0.34751302 0.         0.34773186 0.85579962 0.         0.96950769\n",
      " 0.24200884 0.         0.         0.65856934 0.         0.40133709\n",
      " 0.65480691 0.         0.86480844 0.42765653 0.         0.\n",
      " 0.         0.85822016 0.77979422 0.43094411 0.481792   0.\n",
      " 0.         0.07818571 0.         0.         0.         0.\n",
      " 0.04577886 0.         0.         0.13229749 0.         0.\n",
      " 0.         0.         0.38743544 0.25242454 0.97889268 0.22156306\n",
      " 0.54770422 0.03521818 0.         0.         0.39341381 0.22000764\n",
      " 0.45737824 0.         0.         0.         0.         0.\n",
      " 0.         0.         0.         0.         0.54359812 0.81825083\n",
      " 0.70794827 0.         0.         0.         0.         0.\n",
      " 0.6350137  0.         0.97933263 0.94079489 0.14544292 0.\n",
      " 0.45275307 0.27639922 0.         0.44191915 0.         0.85341322\n",
      " 0.         0.         0.         0.96735817 0.83957589 0.\n",
      " 0.98229861 0.99036521 0.         0.         0.         0.43457982\n",
      " 0.         0.1336946  0.33712438 0.24216972 0.         0.\n",
      " 0.         0.         0.         0.         0.54559565 0.99200976\n",
      " 0.         0.         0.91837955 0.89636725 0.97150618 0.87827784\n",
      " 0.9796077  0.4752872  0.62546271 0.         0.         0.92800701\n",
      " 0.88396531 0.85713738 0.         0.01875827 0.638699   0.\n",
      " 0.56179726 0.92908835 0.7909832  0.         0.62372345 0.18336073\n",
      " 0.         0.         0.         0.         0.0367134  0.\n",
      " 0.         0.12112671 0.         0.         0.08418336 0.\n",
      " 0.         0.         0.02938384 0.         0.11756983 0.\n",
      " 0.         0.93262804 0.65037245 0.         0.         0.86110443\n",
      " 0.43139434 0.         0.20686793 0.         0.12610225 0.\n",
      " 0.         0.         0.12700395 0.06421715 0.58935821 0.\n",
      " 0.         0.         0.02599478 0.71357292 0.03614657 0.\n",
      " 0.3145535  0.         0.         0.         0.86309558 0.\n",
      " 0.         0.         0.         0.         0.         0.07329492\n",
      " 0.         0.44172981 0.         0.03187027 0.         0.\n",
      " 0.         0.         0.         0.         0.         0.\n",
      " 0.         0.         0.         0.13234524 0.         0.\n",
      " 0.         0.         0.         0.         0.         0.\n",
      " 0.         0.52155113 0.         0.         0.44880846 0.4259454\n",
      " 0.         0.         0.5558846  0.         0.         0.\n",
      " 0.         0.         0.         0.21218204 0.         0.\n",
      " 0.79455364 0.94170326 0.         0.         0.56811273 0.\n",
      " 0.45567954 0.75192475 0.86714739 0.         0.71351022 0.\n",
      " 0.         0.509215   0.         0.         0.         0.\n",
      " 0.         0.         0.         0.         0.04755346 0.\n",
      " 0.         0.51346046 0.32338327 0.         0.         0.\n",
      " 0.         0.         0.         0.         0.         0.\n",
      " 0.         0.         0.         0.         0.         0.\n",
      " 0.11381871 0.         0.         0.        ]\n"
     ]
    },
    {
     "name": "stderr",
     "output_type": "stream",
     "text": [
      "/Users/vanessasalgado/Desktop/E4E-Acoustics.nosync/PyHa/PyHa/annotation_post_processing.py:213: SettingWithCopyWarning: \n",
      "A value is trying to be set on a copy of a slice from a DataFrame.\n",
      "Try using .loc[row_indexer,col_indexer] = value instead\n",
      "\n",
      "See the caveats in the documentation: https://pandas.pydata.org/pandas-docs/stable/user_guide/indexing.html#returning-a-view-versus-a-copy\n",
      "  #Init list of clips to cycle through and output dataframe\n"
     ]
    },
    {
     "name": "stdout",
     "output_type": "stream",
     "text": [
      "target 308\n",
      "confidence 307\n",
      "automated df 307\n",
      "[1. 0. 1. 1. 1. 0. 1. 1. 1. 1. 1. 1. 0. 0. 0. 0. 0. 0. 1. 1. 1. 1. 1. 1.\n",
      " 1. 1. 1. 0. 1. 1. 0. 0. 1. 0. 0. 1. 1. 1. 1. 1. 1. 1. 1. 1. 0. 1. 1. 1.\n",
      " 1. 1. 0. 1. 1. 1. 1. 1. 0. 0. 1. 1. 1. 1. 1. 1. 1. 1. 1. 1. 1. 1. 1. 1.\n",
      " 1. 1. 1. 0. 0. 0. 1. 0. 0. 0. 0. 0. 0. 1. 1. 1. 1. 1. 0. 0. 0. 1. 1. 0.\n",
      " 1. 1. 1. 1. 0. 1. 0. 1. 1. 0. 0. 0. 0. 0. 1. 1. 0. 0. 0. 1. 1. 0. 0. 1.\n",
      " 0. 0. 1. 1. 0. 0. 1. 0. 0. 0. 1. 1. 0. 1. 1. 0. 1. 1. 1. 0. 1. 1. 1. 0.\n",
      " 1. 0. 1. 1. 0. 1. 1. 0. 0. 0. 0. 0. 1. 0. 1. 1. 1. 1. 1. 1. 0. 1. 0. 0.\n",
      " 0. 0. 0. 1. 1. 0. 0. 1. 1. 0. 0. 1. 1. 1. 0. 0. 1. 1. 1. 1. 1. 1. 0. 0.\n",
      " 0. 1. 1. 0. 0. 0. 0. 1. 1. 1. 1. 1. 1. 1. 1. 1. 0. 1. 0. 1. 1. 1. 1. 0.\n",
      " 1. 1. 1. 1. 0. 0. 1. 1. 0. 0. 0. 0. 1. 1. 0. 0. 0. 0. 1. 1. 1. 0. 0. 0.\n",
      " 0. 0. 0. 1. 1. 1. 1. 1. 1. 0. 1. 1. 1. 1. 1. 1. 1. 0. 0. 1. 1. 1. 1. 1.\n",
      " 1. 1. 1. 1. 1. 1. 1. 1. 1. 1. 1. 1. 0. 0. 1. 1. 1. 1. 1. 1. 1. 1. 1. 1.\n",
      " 1. 1. 1. 1. 1. 1. 1. 1. 1. 1. 1. 1. 1. 1. 1. 1. 1. 1. 1. 1.]\n",
      "[0.81052178 0.         0.8771345  0.85304183 0.82020092 0.\n",
      " 0.57367551 0.71676004 0.         0.05152643 0.5658834  0.64367044\n",
      " 0.         0.         0.36906576 0.88512903 0.         0.\n",
      " 0.76379955 0.4807294  0.         0.39272618 0.73687136 0.4690845\n",
      " 0.17259459 0.         0.         0.07808555 0.         0.\n",
      " 0.         0.         0.         0.         0.         0.\n",
      " 0.94989693 0.         0.13027649 0.74144167 0.         0.\n",
      " 0.99738926 0.         0.         0.96777713 0.99416697 0.98456514\n",
      " 0.99267817 0.         0.99343973 0.9962256  0.05014886 0.\n",
      " 0.03775958 0.         0.         0.         0.1400611  0.\n",
      " 0.         0.         0.         0.         0.93391132 0.95248067\n",
      " 0.90405327 0.8831405  0.94556838 0.92154062 0.87575495 0.96713191\n",
      " 0.87709826 0.92073786 0.         0.         0.         0.13462883\n",
      " 0.         0.         0.         0.         0.48643237 0.\n",
      " 0.         0.         0.         0.         0.         0.\n",
      " 0.         0.         0.         0.         0.         0.\n",
      " 0.22715397 0.         0.         0.         0.         0.\n",
      " 0.         0.95693892 0.         0.         0.         0.\n",
      " 0.         0.98177058 0.         0.         0.         0.\n",
      " 0.93150443 0.9919132  0.         0.         0.         0.\n",
      " 0.         0.         0.         0.         0.         0.91272253\n",
      " 0.         0.         0.         0.9376145  0.91381782 0.\n",
      " 0.96984196 0.96470201 0.         0.14410205 0.         0.\n",
      " 0.         0.19187388 0.23354423 0.         0.         0.53867453\n",
      " 0.         0.         0.39660245 0.         0.15091483 0.\n",
      " 0.         0.         0.         0.         0.         0.\n",
      " 0.         0.         0.         0.         0.         0.12684226\n",
      " 0.21821855 0.         0.         0.         0.         0.\n",
      " 0.         0.         0.92521387 0.79351252 0.         0.\n",
      " 0.97549188 0.71274787 0.         0.         0.71360648 0.81029552\n",
      " 0.         0.         0.         0.79065472 0.88649172 0.09658652\n",
      " 0.51868236 0.         0.40676093 0.         0.         0.\n",
      " 0.         0.53429997 0.         0.         0.         0.\n",
      " 0.40334609 0.         0.7762531  0.98640513 0.8902151  0.97880131\n",
      " 0.97881228 0.92852646 0.         0.         0.29882756 0.\n",
      " 0.         0.         0.29110849 0.42537069 0.         0.\n",
      " 0.08815081 0.         0.85549843 0.         0.         0.91463554\n",
      " 0.45734453 0.         0.         0.         0.         0.\n",
      " 0.         0.         0.         0.         0.         0.84649181\n",
      " 0.64401686 0.61200917 0.         0.12397297 0.31400916 0.\n",
      " 0.         0.         0.02294641 0.04371578 0.91299558 0.94680989\n",
      " 0.66358    0.58893543 0.         0.75672412 0.53410238 0.\n",
      " 0.5497542  0.         0.43049622 0.25860947 0.         0.\n",
      " 0.18755619 0.         0.8032847  0.90159661 0.80817211 0.44626793\n",
      " 0.56167424 0.66088033 0.7679897  0.32393584 0.81952351 0.6238414\n",
      " 0.         0.7714079  0.12260744 0.84080881 0.90334016 0.\n",
      " 0.         0.         0.9003216  0.95406502 0.91311294 0.76880407\n",
      " 0.86683524 0.94944859 0.90413821 0.92846107 0.90387714 0.85883516\n",
      " 0.98566312 0.98295158 0.94561291 0.98070747 0.9733445  0.96884656\n",
      " 0.         0.7630201  0.83122355 0.         0.         0.\n",
      " 0.77094567 0.64930505 0.         0.         0.         0.\n",
      " 0.50413615]\n"
     ]
    },
    {
     "name": "stderr",
     "output_type": "stream",
     "text": [
      "/Users/vanessasalgado/Desktop/E4E-Acoustics.nosync/PyHa/PyHa/annotation_post_processing.py:213: SettingWithCopyWarning: \n",
      "A value is trying to be set on a copy of a slice from a DataFrame.\n",
      "Try using .loc[row_indexer,col_indexer] = value instead\n",
      "\n",
      "See the caveats in the documentation: https://pandas.pydata.org/pandas-docs/stable/user_guide/indexing.html#returning-a-view-versus-a-copy\n",
      "  #Init list of clips to cycle through and output dataframe\n"
     ]
    },
    {
     "name": "stdout",
     "output_type": "stream",
     "text": [
      "target 550\n",
      "confidence 550\n",
      "automated df 550\n",
      "[1. 1. 1. 1. 1. 1. 1. 1. 1. 1. 1. 1. 1. 1. 0. 1. 1. 1. 1. 1. 1. 1. 1. 1.\n",
      " 1. 1. 0. 0. 1. 1. 1. 0. 0. 0. 1. 1. 1. 1. 1. 1. 1. 1. 1. 1. 1. 0. 1. 1.\n",
      " 0. 0. 0. 1. 1. 1. 1. 1. 1. 1. 1. 1. 1. 1. 1. 1. 1. 1. 1. 1. 1. 0. 1. 1.\n",
      " 1. 1. 0. 0. 1. 1. 1. 1. 1. 1. 1. 1. 0. 0. 1. 1. 1. 1. 0. 1. 1. 1. 1. 1.\n",
      " 0. 1. 1. 1. 1. 0. 0. 0. 0. 0. 0. 1. 1. 1. 1. 0. 1. 1. 1. 1. 1. 1. 1. 1.\n",
      " 1. 1. 1. 0. 0. 1. 1. 1. 1. 0. 0. 1. 1. 1. 1. 1. 0. 1. 1. 1. 1. 1. 1. 1.\n",
      " 1. 1. 1. 1. 0. 0. 0. 1. 1. 1. 0. 1. 0. 0. 1. 1. 1. 0. 1. 1. 1. 0. 0. 1.\n",
      " 1. 1. 0. 1. 1. 1. 0. 1. 1. 1. 0. 1. 1. 1. 1. 1. 1. 1. 1. 0. 0. 1. 1. 1.\n",
      " 1. 0. 1. 1. 1. 1. 1. 1. 1. 1. 1. 0. 0. 0. 1. 1. 1. 0. 1. 1. 1. 0. 0. 1.\n",
      " 1. 1. 0. 0. 1. 1. 0. 0. 1. 1. 1. 0. 0. 1. 1. 1. 0. 1. 1. 1. 0. 0. 1. 1.\n",
      " 1. 0. 1. 1. 1. 0. 1. 1. 1. 0. 0. 0. 1. 1. 1. 0. 1. 1. 1. 1. 0. 0. 1. 1.\n",
      " 1. 0. 1. 1. 0. 1. 1. 1. 0. 0. 1. 0. 1. 1. 1. 0. 1. 1. 1. 0. 0. 1. 1. 1.\n",
      " 1. 0. 0. 1. 1. 0. 1. 1. 0. 0. 0. 1. 1. 1. 1. 0. 0. 0. 0. 0. 0. 0. 1. 1.\n",
      " 1. 0. 0. 1. 1. 1. 1. 1. 0. 0. 0. 0. 0. 0. 1. 1. 0. 0. 0. 1. 1. 1. 1. 1.\n",
      " 1. 0. 1. 1. 1. 1. 1. 0. 0. 1. 1. 1. 0. 1. 1. 1. 1. 1. 1. 1. 1. 1. 1. 1.\n",
      " 1. 0. 0. 0. 0. 0. 0. 0. 0. 0. 0. 0. 1. 0. 0. 1. 1. 1. 0. 0. 0. 0. 0. 0.\n",
      " 0. 0. 0. 0. 0. 0. 0. 1. 1. 1. 1. 1. 1. 1. 1. 1. 1. 1. 1. 1. 1. 1. 1. 1.\n",
      " 1. 1. 1. 0. 1. 1. 1. 1. 1. 1. 1. 1. 0. 0. 0. 0. 0. 0. 0. 0. 0. 0. 0. 0.\n",
      " 0. 0. 0. 0. 0. 0. 1. 1. 0. 1. 1. 1. 0. 0. 0. 0. 0. 0. 0. 0. 0. 0. 0. 0.\n",
      " 0. 0. 0. 0. 0. 0. 0. 0. 0. 0. 0. 0. 0. 0. 0. 0. 0. 0. 0. 0. 0. 0. 0. 0.\n",
      " 0. 0. 0. 0. 0. 0. 0. 0. 0. 0. 0. 0. 0. 0. 0. 0. 0. 0. 0. 0. 0. 0. 0. 0.\n",
      " 0. 0. 1. 1. 0. 0. 0. 0. 0. 0. 0. 0. 0. 0. 0. 0. 0. 0. 0. 0. 0. 0. 0. 0.\n",
      " 0. 0. 0. 0. 0. 0. 0. 0. 0. 1. 1. 0. 1. 1. 1. 1. 1. 1. 1. 1. 1. 1.]\n",
      "[0.06489109 0.05997613 0.34152657 0.         0.         0.\n",
      " 0.08197631 0.0841473  0.         0.77786332 0.03394692 0.18784238\n",
      " 0.46858528 0.30693927 0.         0.         0.60017145 0.2209135\n",
      " 0.72681272 0.32670483 0.         0.61154288 0.84622604 0.74756926\n",
      " 0.         0.         0.         0.         0.26671273 0.\n",
      " 0.         0.         0.         0.         0.         0.06737205\n",
      " 0.         0.         0.         0.19349675 0.49241555 0.52666694\n",
      " 0.18450317 0.73078227 0.97234255 0.         0.08003003 0.46416488\n",
      " 0.         0.         0.         0.21324947 0.82963884 0.96544427\n",
      " 0.06102963 0.30875868 0.         0.         0.59501904 0.95494574\n",
      " 0.94227809 0.87926406 0.46183202 0.74640644 0.         0.\n",
      " 0.08945942 0.61400938 0.65558034 0.         0.34941754 0.\n",
      " 0.2707808  0.10739619 0.         0.         0.         0.\n",
      " 0.46261209 0.         0.53885007 0.61503804 0.68989247 0.\n",
      " 0.         0.         0.66061831 0.38004339 0.16910273 0.55187106\n",
      " 0.         0.4017866  0.66532016 0.15956807 0.2063612  0.\n",
      " 0.         0.6211406  0.83658731 0.90285176 0.         0.\n",
      " 0.         0.         0.         0.         0.         0.48599386\n",
      " 0.67168623 0.76707739 0.74345714 0.         0.83214438 0.93454754\n",
      " 0.913041   0.1121502  0.59530956 0.81704903 0.44782445 0.\n",
      " 0.76258236 0.06741823 0.         0.         0.         0.34840751\n",
      " 0.89880151 0.67322779 0.30599123 0.         0.         0.05544013\n",
      " 0.64860988 0.75872552 0.93136817 0.95619708 0.         0.58104843\n",
      " 0.92477834 0.87867421 0.         0.         0.87495953 0.94890022\n",
      " 0.96893132 0.61363268 0.82187766 0.20239107 0.         0.\n",
      " 0.         0.25363511 0.25262114 0.         0.         0.\n",
      " 0.         0.         0.04433621 0.59481198 0.35452572 0.\n",
      " 0.         0.         0.         0.         0.         0.5974068\n",
      " 0.48277131 0.46037298 0.         0.71832895 0.4948228  0.54461718\n",
      " 0.         0.62565595 0.47416756 0.78754461 0.         0.\n",
      " 0.48130411 0.53668332 0.         0.         0.23425312 0.14936316\n",
      " 0.         0.         0.         0.17816231 0.09125838 0.02628775\n",
      " 0.09026459 0.         0.         0.44115847 0.28562513 0.\n",
      " 0.76369476 0.54629022 0.         0.89802992 0.89750338 0.\n",
      " 0.         0.         0.95686173 0.71581858 0.63999176 0.\n",
      " 0.         0.86384583 0.9267984  0.         0.         0.\n",
      " 0.85872471 0.77967018 0.         0.         0.         0.\n",
      " 0.         0.         0.         0.         0.         0.\n",
      " 0.         0.         0.65801656 0.         0.         0.\n",
      " 0.91015369 0.90144974 0.         0.01850017 0.88407701 0.86246485\n",
      " 0.         0.         0.         0.85225779 0.81480014 0.\n",
      " 0.         0.90423453 0.8507722  0.         0.         0.\n",
      " 0.79520929 0.36093041 0.66151345 0.         0.         0.92915416\n",
      " 0.70501149 0.         0.         0.         0.9181276  0.83476943\n",
      " 0.67342621 0.         0.         0.06408791 0.         0.\n",
      " 0.78365958 0.59389341 0.         0.         0.         0.\n",
      " 0.92134446 0.63651818 0.         0.         0.         0.90222222\n",
      " 0.89837795 0.         0.         0.         0.84425896 0.8924129\n",
      " 0.         0.         0.         0.87679899 0.88439435 0.\n",
      " 0.38915506 0.65747774 0.         0.         0.         0.\n",
      " 0.         0.75166094 0.         0.         0.         0.\n",
      " 0.         0.         0.         0.         0.49206638 0.3557615\n",
      " 0.         0.         0.         0.         0.40669522 0.64414126\n",
      " 0.7880699  0.         0.         0.         0.         0.\n",
      " 0.         0.         0.         0.43255249 0.         0.\n",
      " 0.         0.56837589 0.77343798 0.76432955 0.34708732 0.50455087\n",
      " 0.90475023 0.         0.         0.         0.46004713 0.85650504\n",
      " 0.53713757 0.         0.         0.         0.6197744  0.61348659\n",
      " 0.         0.         0.         0.         0.         0.\n",
      " 0.         0.         0.         0.07961414 0.         0.\n",
      " 0.         0.         0.         0.         0.         0.\n",
      " 0.         0.         0.         0.         0.         0.\n",
      " 0.         0.         0.         0.         0.         0.\n",
      " 0.         0.         0.         0.         0.         0.\n",
      " 0.         0.         0.         0.         0.         0.\n",
      " 0.         0.89745104 0.         0.40995184 0.         0.87542039\n",
      " 0.84573901 0.92836434 0.         0.11386815 0.67516017 0.56088364\n",
      " 0.84351641 0.85154033 0.53387994 0.45987129 0.36457625 0.28754786\n",
      " 0.28502867 0.64943683 0.2115462  0.         0.14358151 0.44100374\n",
      " 0.57610554 0.22974738 0.43852124 0.26627752 0.         0.\n",
      " 0.         0.44642025 0.         0.         0.43162942 0.\n",
      " 0.         0.41400236 0.54323387 0.78853863 0.06471612 0.45989388\n",
      " 0.71977472 0.78121889 0.61105961 0.59613687 0.62018526 0.\n",
      " 0.         0.62865877 0.         0.         0.         0.\n",
      " 0.         0.         0.         0.         0.         0.\n",
      " 0.         0.         0.         0.         0.         0.\n",
      " 0.         0.         0.         0.         0.         0.\n",
      " 0.         0.         0.         0.         0.         0.\n",
      " 0.         0.         0.08570136 0.63361913 0.         0.\n",
      " 0.         0.         0.         0.         0.62681764 0.89257002\n",
      " 0.19058071 0.         0.         0.         0.         0.\n",
      " 0.         0.90755272 0.92271888 0.         0.         0.\n",
      " 0.10947286 0.         0.52226758 0.         0.         0.\n",
      " 0.         0.64396882 0.32810929 0.         0.59851092 0.\n",
      " 0.85481918 0.81368929 0.72485006 0.80629897 0.45016801 0.\n",
      " 0.         0.         0.21727717 0.         0.         0.67944139\n",
      " 0.64976943 0.78952706 0.60768056 0.         0.         0.12472776\n",
      " 0.7862674  0.78789628 0.84564799 0.76974303 0.44116354 0.\n",
      " 0.35131675 0.50378096 0.83865708 0.73804462 0.55463624 0.\n",
      " 0.         0.         0.11108    0.         0.         0.\n",
      " 0.         0.71298343 0.93842578 0.0272226  0.42071915 0.82235128\n",
      " 0.         0.         0.42695713 0.93685919]\n"
     ]
    },
    {
     "name": "stderr",
     "output_type": "stream",
     "text": [
      "/Users/vanessasalgado/Desktop/E4E-Acoustics.nosync/PyHa/PyHa/annotation_post_processing.py:213: SettingWithCopyWarning: \n",
      "A value is trying to be set on a copy of a slice from a DataFrame.\n",
      "Try using .loc[row_indexer,col_indexer] = value instead\n",
      "\n",
      "See the caveats in the documentation: https://pandas.pydata.org/pandas-docs/stable/user_guide/indexing.html#returning-a-view-versus-a-copy\n",
      "  #Init list of clips to cycle through and output dataframe\n"
     ]
    },
    {
     "name": "stdout",
     "output_type": "stream",
     "text": [
      "target 542\n",
      "confidence 542\n",
      "automated df 542\n",
      "[1. 1. 1. 1. 1. 1. 1. 1. 1. 1. 1. 1. 1. 1. 1. 1. 1. 1. 0. 1. 1. 1. 1. 1.\n",
      " 1. 1. 1. 0. 1. 1. 1. 1. 1. 1. 1. 1. 1. 1. 1. 1. 1. 1. 1. 1. 1. 0. 0. 0.\n",
      " 0. 0. 0. 1. 1. 1. 1. 1. 1. 1. 1. 1. 1. 0. 1. 1. 1. 1. 1. 1. 0. 1. 1. 1.\n",
      " 1. 0. 1. 1. 1. 1. 1. 1. 1. 1. 1. 1. 1. 1. 1. 1. 1. 1. 1. 1. 1. 1. 1. 1.\n",
      " 0. 1. 1. 1. 1. 1. 1. 1. 1. 1. 0. 0. 1. 1. 1. 1. 1. 0. 1. 1. 1. 1. 1. 1.\n",
      " 1. 1. 1. 1. 0. 0. 0. 1. 1. 1. 1. 1. 1. 1. 1. 1. 1. 1. 1. 1. 1. 0. 0. 1.\n",
      " 1. 1. 1. 1. 1. 1. 0. 1. 0. 1. 0. 1. 1. 1. 1. 1. 0. 0. 0. 1. 0. 1. 1. 1.\n",
      " 1. 1. 1. 1. 1. 1. 0. 0. 0. 1. 1. 1. 1. 1. 1. 1. 1. 1. 1. 1. 1. 1. 1. 0.\n",
      " 1. 1. 1. 1. 1. 1. 0. 1. 0. 1. 0. 1. 1. 1. 0. 1. 0. 0. 1. 1. 0. 1. 1. 1.\n",
      " 0. 1. 0. 1. 1. 1. 1. 1. 1. 1. 1. 1. 1. 1. 1. 1. 1. 1. 1. 1. 1. 1. 1. 0.\n",
      " 1. 0. 1. 1. 1. 1. 1. 1. 0. 0. 1. 1. 1. 1. 1. 1. 1. 1. 1. 1. 1. 0. 1. 1.\n",
      " 1. 1. 1. 1. 0. 0. 0. 0. 1. 1. 1. 1. 1. 1. 1. 1. 1. 1. 1. 1. 1. 1. 1. 1.\n",
      " 0. 0. 1. 1. 1. 1. 1. 1. 1. 1. 1. 0. 0. 1. 1. 1. 1. 1. 1. 1. 1. 1. 1. 1.\n",
      " 1. 1. 1. 1. 1. 1. 1. 1. 1. 1. 1. 1. 0. 1. 1. 1. 1. 1. 1. 1. 1. 1. 1. 1.\n",
      " 1. 1. 0. 1. 1. 1. 1. 1. 1. 1. 1. 1. 1. 1. 1. 1. 1. 1. 1. 1. 1. 1. 1. 1.\n",
      " 1. 1. 1. 1. 1. 1. 1. 1. 1. 1. 1. 1. 1. 1. 1. 1. 1. 1. 1. 0. 1. 1. 1. 1.\n",
      " 1. 1. 1. 1. 1. 1. 1. 1. 1. 1. 1. 1. 1. 1. 1. 1. 1. 1. 1. 1. 1. 1. 1. 1.\n",
      " 1. 1. 1. 1. 1. 1. 1. 1. 0. 1. 0. 1. 1. 0. 1. 0. 1. 1. 1. 1. 1. 1. 1. 1.\n",
      " 1. 1. 1. 1. 1. 1. 1. 1. 1. 1. 1. 1. 1. 1. 1. 1. 1. 1. 1. 0. 1. 1. 1. 1.\n",
      " 1. 1. 1. 1. 1. 1. 1. 1. 1. 1. 1. 0. 1. 1. 1. 1. 1. 1. 1. 1. 1. 1. 1. 1.\n",
      " 1. 1. 1. 1. 0. 0. 0. 0. 0. 0. 0. 0. 0. 0. 1. 1. 1. 1. 1. 1. 1. 1. 1. 1.\n",
      " 1. 1. 1. 1. 1. 1. 1. 1. 1. 1. 1. 1. 1. 1. 1. 1. 1. 1. 1. 1. 1. 1. 1. 1.\n",
      " 1. 1. 1. 1. 1. 1. 1. 1. 1. 1. 1. 1. 1. 1.]\n",
      "[0.         0.         0.82648647 0.44152182 0.67699552 0.60506874\n",
      " 0.47917154 0.50708312 0.08955235 0.61026162 0.57825106 0.87205851\n",
      " 0.49655479 0.55719638 0.59527212 0.47728431 0.50522012 0.61688137\n",
      " 0.         0.59937084 0.50624311 0.90383244 0.64565104 0.82907474\n",
      " 0.         0.50552529 0.         0.         0.64344335 0.44540614\n",
      " 0.83624488 0.         0.4917447  0.81682658 0.40578789 0.77880138\n",
      " 0.         0.09245522 0.32871354 0.6206497  0.68270689 0.55027246\n",
      " 0.49968162 0.7569868  0.90702951 0.         0.         0.\n",
      " 0.         0.         0.         0.         0.         0.59785599\n",
      " 0.4399384  0.         0.         0.         0.31849664 0.\n",
      " 0.         0.         0.         0.         0.         0.\n",
      " 0.88795859 0.91080451 0.         0.45217249 0.12515436 0.50760007\n",
      " 0.         0.         0.86092013 0.         0.         0.41250843\n",
      " 0.04228272 0.         0.71455777 0.25442702 0.         0.49019814\n",
      " 0.11936855 0.11041429 0.35761848 0.66093189 0.64086032 0.59194231\n",
      " 0.19837472 0.37458917 0.91069645 0.32028419 0.72142678 0.651613\n",
      " 0.         0.         0.         0.10795601 0.43592325 0.13740285\n",
      " 0.         0.         0.         0.         0.78458309 0.\n",
      " 0.         0.31895465 0.44418463 0.         0.50931954 0.\n",
      " 0.63222998 0.94765985 0.85470045 0.         0.         0.32136825\n",
      " 0.51538593 0.         0.42193925 0.         0.         0.88221478\n",
      " 0.26861808 0.65065879 0.55499542 0.40186104 0.         0.20875661\n",
      " 0.52336174 0.68771046 0.         0.12278797 0.76709127 0.85434687\n",
      " 0.34225452 0.         0.64431149 0.         0.         0.62277168\n",
      " 0.353807   0.83423954 0.8439278  0.93791145 0.24353723 0.96118438\n",
      " 0.93671912 0.69586873 0.         0.         0.         0.14796947\n",
      " 0.         0.         0.         0.         0.         0.\n",
      " 0.         0.         0.         0.         0.         0.\n",
      " 0.         0.         0.         0.         0.         0.\n",
      " 0.         0.         0.         0.28045046 0.         0.\n",
      " 0.         0.         0.         0.         0.         0.\n",
      " 0.         0.         0.         0.         0.         0.\n",
      " 0.         0.         0.45730832 0.         0.22256055 0.06117984\n",
      " 0.         0.         0.         0.06552818 0.         0.\n",
      " 0.         0.24787503 0.         0.         0.         0.\n",
      " 0.         0.45549631 0.         0.2451528  0.8642534  0.72071576\n",
      " 0.         0.56784481 0.         0.49748713 0.57610577 0.\n",
      " 0.         0.         0.         0.62761408 0.         0.17224795\n",
      " 0.         0.         0.         0.68014634 0.         0.11428288\n",
      " 0.16068673 0.64032948 0.05159647 0.05552498 0.81979561 0.\n",
      " 0.49013561 0.         0.65236181 0.         0.26147324 0.80175757\n",
      " 0.25077277 0.657574   0.         0.         0.14752162 0.\n",
      " 0.28255284 0.         0.         0.22637309 0.3391467  0.\n",
      " 0.         0.         0.         0.         0.         0.01405346\n",
      " 0.         0.         0.         0.         0.         0.\n",
      " 0.         0.         0.06235855 0.         0.90619701 0.96524429\n",
      " 0.93382418 0.61574906 0.97420758 0.91744661 0.99540734 0.35232794\n",
      " 0.78495598 0.         0.61855358 0.30511221 0.         0.40697804\n",
      " 0.         0.         0.         0.77869374 0.         0.52618116\n",
      " 0.         0.         0.15292275 0.85734886 0.13391064 0.8020575\n",
      " 0.81372106 0.22307007 0.         0.77337539 0.74113089 0.50667262\n",
      " 0.08349254 0.83467883 0.30082902 0.         0.11575337 0.7691946\n",
      " 0.         0.13074949 0.50127131 0.         0.         0.\n",
      " 0.         0.         0.         0.         0.         0.\n",
      " 0.         0.         0.01728527 0.         0.0621394  0.59145296\n",
      " 0.         0.27091661 0.         0.33114576 0.         0.67991048\n",
      " 0.9481374  0.3721582  0.         0.5807426  0.         0.64930576\n",
      " 0.51942116 0.91574532 0.33436179 0.89922148 0.30041775 0.94017375\n",
      " 0.         0.44015506 0.49360698 0.95468432 0.15459822 0.79158378\n",
      " 0.         0.66278088 0.3768321  0.56067288 0.         0.377956\n",
      " 0.         0.         0.21412358 0.3128224  0.         0.\n",
      " 0.35937271 0.         0.         0.18035275 0.76353699 0.\n",
      " 0.49421281 0.         0.         0.1255326  0.         0.\n",
      " 0.456159   0.         0.32746887 0.5241406  0.69281411 0.2444091\n",
      " 0.9296757  0.9347378  0.92143553 0.88358599 0.95485127 0.87554616\n",
      " 0.7553435  0.88022006 0.98435795 0.         0.73392975 0.98732972\n",
      " 0.89160132 0.50253958 0.28822809 0.92631179 0.84690374 0.93688208\n",
      " 0.24298471 0.80965245 0.06477904 0.77134347 0.65991402 0.20215175\n",
      " 0.06234456 0.08856962 0.06309578 0.16885479 0.         0.\n",
      " 0.10507885 0.         0.         0.         0.         0.50115836\n",
      " 0.40655509 0.         0.83302766 0.         0.42722189 0.25814152\n",
      " 0.         0.         0.         0.         0.         0.\n",
      " 0.         0.         0.         0.         0.         0.\n",
      " 0.         0.         0.         0.         0.         0.\n",
      " 0.         0.         0.         0.         0.         0.\n",
      " 0.         0.         0.         0.         0.         0.\n",
      " 0.         0.         0.         0.         0.         0.\n",
      " 0.         0.         0.         0.         0.         0.\n",
      " 0.         0.         0.         0.         0.         0.\n",
      " 0.         0.         0.         0.         0.         0.\n",
      " 0.         0.         0.         0.         0.49209231 0.\n",
      " 0.         0.         0.         0.89006478 0.         0.9716059\n",
      " 0.         0.16415979 0.         0.69553244 0.71904391 0.\n",
      " 0.         0.         0.59482336 0.         0.         0.24407995\n",
      " 0.         0.18126689 0.         0.15490896 0.1900924  0.92124379\n",
      " 0.7109502  0.85994238 0.71519154 0.46463296 0.70789433 0.09404118\n",
      " 0.         0.         0.         0.         0.75476271 0.32805127\n",
      " 0.         0.         0.         0.         0.3375805  0.28809679\n",
      " 0.20225465 0.35233745 0.44855317 0.6948002  0.         0.06928397\n",
      " 0.         0.         0.         0.         0.21715304 0.14860667\n",
      " 0.61092281 0.5056088 ]\n"
     ]
    },
    {
     "name": "stderr",
     "output_type": "stream",
     "text": [
      "/Users/vanessasalgado/Desktop/E4E-Acoustics.nosync/PyHa/PyHa/annotation_post_processing.py:213: SettingWithCopyWarning: \n",
      "A value is trying to be set on a copy of a slice from a DataFrame.\n",
      "Try using .loc[row_indexer,col_indexer] = value instead\n",
      "\n",
      "See the caveats in the documentation: https://pandas.pydata.org/pandas-docs/stable/user_guide/indexing.html#returning-a-view-versus-a-copy\n",
      "  #Init list of clips to cycle through and output dataframe\n"
     ]
    },
    {
     "name": "stdout",
     "output_type": "stream",
     "text": [
      "target 256\n",
      "confidence 256\n",
      "automated df 256\n",
      "[0. 1. 1. 0. 1. 1. 1. 0. 1. 1. 1. 0. 0. 1. 1. 0. 1. 1. 1. 0. 1. 1. 1. 0.\n",
      " 0. 0. 0. 1. 1. 1. 0. 0. 0. 0. 1. 1. 1. 1. 0. 1. 1. 1. 1. 1. 0. 0. 1. 1.\n",
      " 1. 0. 0. 1. 1. 1. 0. 0. 0. 1. 1. 1. 0. 0. 0. 0. 1. 1. 1. 0. 0. 1. 1. 1.\n",
      " 1. 1. 1. 1. 1. 1. 1. 1. 0. 1. 1. 1. 1. 1. 0. 0. 0. 0. 0. 1. 1. 1. 0. 1.\n",
      " 1. 1. 1. 1. 0. 1. 1. 1. 0. 0. 1. 1. 1. 1. 0. 1. 1. 1. 1. 1. 1. 1. 1. 0.\n",
      " 1. 1. 1. 1. 0. 1. 1. 1. 1. 1. 1. 1. 0. 1. 1. 1. 1. 0. 0. 1. 1. 0. 0. 1.\n",
      " 1. 0. 1. 1. 1. 1. 1. 0. 1. 1. 1. 0. 0. 0. 0. 1. 1. 1. 0. 1. 1. 1. 1. 1.\n",
      " 1. 1. 1. 1. 1. 0. 1. 1. 1. 1. 1. 0. 0. 0. 0. 1. 1. 1. 1. 0. 0. 1. 1. 1.\n",
      " 0. 0. 0. 1. 1. 0. 0. 1. 1. 1. 1. 0. 0. 0. 0. 1. 1. 0. 0. 0. 0. 0. 1. 1.\n",
      " 0. 0. 0. 0. 0. 0. 0. 1. 1. 1. 0. 0. 0. 0. 0. 0. 1. 1. 0. 1. 1. 0. 0. 1.\n",
      " 1. 0. 0. 1. 1. 1. 1. 1. 0. 1. 1. 1. 1. 0. 1. 1.]\n",
      "[0.         0.54028612 0.96150851 0.         0.         0.76041996\n",
      " 0.40202099 0.         0.         0.80050498 0.47704807 0.\n",
      " 0.         0.85288185 0.77640998 0.         0.         0.59946638\n",
      " 0.7563464  0.         0.64598393 0.93795878 0.         0.\n",
      " 0.         0.         0.         0.         0.83647376 0.90380859\n",
      " 0.         0.         0.         0.         0.7586391  0.01802612\n",
      " 0.54842591 0.         0.         0.61455446 0.5811702  0.\n",
      " 0.97632068 0.75254637 0.         0.         0.34073627 0.89029914\n",
      " 0.3822889  0.         0.         0.93662924 0.90244967 0.20466422\n",
      " 0.         0.         0.         0.18179666 0.91474426 0.85820669\n",
      " 0.         0.         0.         0.         0.95538193 0.9664765\n",
      " 0.84895873 0.         0.         0.27508038 0.94958842 0.19686744\n",
      " 0.19105463 0.39455175 0.95958108 0.2496504  0.         0.92167252\n",
      " 0.96883672 0.84498966 0.         0.82525694 0.         0.1497921\n",
      " 0.         0.3559489  0.         0.         0.         0.\n",
      " 0.         0.28137368 0.45434824 0.27351192 0.99290705 0.98236841\n",
      " 0.29509705 0.90571946 0.98821366 0.         0.91453362 0.95635688\n",
      " 0.66093147 0.97474325 0.         0.         0.07001421 0.9256357\n",
      " 0.30763936 0.         0.         0.0825345  0.1363856  0.61451375\n",
      " 0.         0.28151268 0.87912303 0.21719442 0.         0.\n",
      " 0.21935323 0.57394451 0.61123252 0.         0.         0.07411686\n",
      " 0.45008391 0.         0.         0.         0.39690313 0.69751245\n",
      " 0.         0.88919067 0.         0.17133124 0.94722086 0.\n",
      " 0.         0.60207152 0.94554865 0.         0.         0.76764202\n",
      " 0.         0.         0.         0.73107696 0.90634733 0.95335728\n",
      " 0.7887004  0.         0.         0.97803533 0.96779132 0.\n",
      " 0.         0.97061688 0.06679177 0.         0.98564976 0.9793098\n",
      " 0.         0.         0.95120978 0.97485286 0.         0.\n",
      " 0.96818173 0.98275763 0.62723047 0.28427732 0.94141686 0.\n",
      " 0.74104089 0.         0.96167958 0.55817091 0.         0.\n",
      " 0.         0.         0.         0.769952   0.7231313  0.\n",
      " 0.15647791 0.         0.         0.18757762 0.         0.\n",
      " 0.         0.         0.         0.         0.         0.\n",
      " 0.         0.         0.08681044 0.53164548 0.28359947 0.\n",
      " 0.         0.         0.         0.         0.34213996 0.\n",
      " 0.         0.         0.         0.         0.4452706  0.57334006\n",
      " 0.         0.         0.         0.         0.         0.\n",
      " 0.         0.         0.67838138 0.02683423 0.         0.\n",
      " 0.         0.         0.         0.         0.         0.78478193\n",
      " 0.         0.73905236 0.3613635  0.         0.         0.\n",
      " 0.74069679 0.         0.         0.         0.75778162 0.14673066\n",
      " 0.88842183 0.         0.69277775 0.         0.65075111 0.85199928\n",
      " 0.98879343 0.         0.6498881  0.98152632]\n"
     ]
    },
    {
     "name": "stderr",
     "output_type": "stream",
     "text": [
      "/Users/vanessasalgado/Desktop/E4E-Acoustics.nosync/PyHa/PyHa/annotation_post_processing.py:213: SettingWithCopyWarning: \n",
      "A value is trying to be set on a copy of a slice from a DataFrame.\n",
      "Try using .loc[row_indexer,col_indexer] = value instead\n",
      "\n",
      "See the caveats in the documentation: https://pandas.pydata.org/pandas-docs/stable/user_guide/indexing.html#returning-a-view-versus-a-copy\n",
      "  #Init list of clips to cycle through and output dataframe\n"
     ]
    },
    {
     "name": "stdout",
     "output_type": "stream",
     "text": [
      "target 562\n",
      "confidence 561\n",
      "automated df 561\n",
      "[1. 1. 1. 1. 1. 0. 0. 1. 1. 1. 0. 1. 0. 1. 0. 1. 1. 0. 0. 1. 0. 1. 0. 1.\n",
      " 1. 1. 0. 0. 0. 1. 1. 0. 0. 1. 0. 0. 0. 0. 0. 0. 0. 0. 0. 1. 0. 0. 1. 1.\n",
      " 0. 1. 0. 0. 1. 1. 0. 1. 0. 0. 1. 1. 0. 1. 1. 0. 1. 1. 1. 1. 0. 1. 1. 1.\n",
      " 0. 1. 1. 1. 1. 1. 1. 1. 1. 0. 1. 1. 1. 1. 0. 1. 0. 1. 1. 0. 1. 0. 0. 1.\n",
      " 1. 0. 1. 1. 1. 1. 1. 1. 1. 1. 1. 1. 1. 1. 1. 1. 1. 1. 1. 1. 1. 1. 1. 1.\n",
      " 0. 0. 1. 1. 0. 0. 1. 1. 1. 1. 1. 1. 0. 1. 0. 1. 0. 1. 1. 1. 1. 1. 0. 1.\n",
      " 1. 1. 0. 1. 1. 1. 1. 1. 1. 1. 0. 1. 1. 0. 1. 0. 1. 1. 0. 1. 1. 1. 1. 1.\n",
      " 1. 1. 0. 1. 1. 1. 1. 1. 1. 1. 1. 1. 1. 1. 1. 1. 1. 1. 1. 1. 1. 1. 1. 1.\n",
      " 0. 1. 1. 1. 1. 1. 1. 0. 1. 1. 1. 1. 1. 1. 1. 1. 1. 1. 1. 1. 1. 1. 1. 1.\n",
      " 1. 1. 0. 1. 1. 1. 1. 1. 1. 1. 1. 1. 1. 1. 1. 1. 1. 1. 1. 1. 1. 1. 1. 0.\n",
      " 1. 0. 0. 1. 0. 1. 1. 0. 1. 1. 0. 0. 0. 0. 0. 0. 1. 0. 1. 1. 0. 1. 1. 1.\n",
      " 1. 1. 1. 1. 1. 1. 1. 1. 0. 1. 1. 1. 1. 1. 1. 1. 1. 1. 1. 1. 1. 1. 1. 1.\n",
      " 1. 1. 1. 1. 1. 1. 1. 1. 1. 0. 1. 1. 1. 1. 1. 0. 1. 1. 1. 0. 1. 1. 1. 1.\n",
      " 1. 0. 1. 1. 0. 1. 0. 1. 0. 1. 1. 0. 1. 1. 0. 1. 0. 1. 0. 0. 0. 1. 0. 1.\n",
      " 1. 0. 1. 1. 0. 0. 1. 1. 0. 1. 0. 1. 1. 0. 0. 1. 1. 1. 1. 1. 1. 0. 0. 1.\n",
      " 1. 1. 1. 1. 1. 1. 1. 1. 1. 0. 0. 1. 1. 0. 1. 1. 0. 1. 1. 1. 1. 0. 1. 1.\n",
      " 1. 0. 0. 1. 0. 0. 1. 1. 0. 0. 1. 1. 1. 0. 1. 0. 1. 1. 0. 0. 1. 1. 1. 1.\n",
      " 0. 1. 1. 0. 1. 0. 0. 1. 0. 1. 1. 0. 1. 1. 0. 1. 0. 1. 1. 0. 1. 1. 0. 1.\n",
      " 0. 0. 1. 0. 0. 0. 0. 0. 0. 0. 0. 0. 0. 0. 0. 1. 1. 1. 1. 1. 1. 1. 1. 1.\n",
      " 1. 1. 1. 1. 1. 1. 1. 1. 1. 1. 1. 1. 1. 1. 1. 0. 0. 1. 1. 1. 1. 0. 0. 1.\n",
      " 1. 1. 0. 1. 1. 0. 1. 1. 0. 1. 1. 1. 1. 0. 1. 1. 1. 0. 1. 1. 1. 0. 1. 1.\n",
      " 1. 1. 1. 1. 1. 1. 0. 1. 0. 1. 1. 1. 0. 1. 1. 0. 0. 0. 0. 0. 0. 0. 1. 1.\n",
      " 0. 1. 1. 0. 1. 1. 0. 1. 0. 0. 1. 1. 0. 1. 1. 1. 1. 1. 1. 1. 1. 1. 1. 1.\n",
      " 0. 1. 1. 1. 1. 1. 1. 1. 1. 1.]\n",
      "[0.97722101 0.52141207 0.95502758 0.65060729 0.         0.\n",
      " 0.         0.89773804 0.         0.86230356 0.         0.9209702\n",
      " 0.         0.90026671 0.         0.         0.52982467 0.\n",
      " 0.         0.89360559 0.         0.94123644 0.         0.92672735\n",
      " 0.34084895 0.         0.         0.         0.         0.41466892\n",
      " 0.87134904 0.         0.         0.71297592 0.         0.\n",
      " 0.         0.         0.         0.         0.         0.\n",
      " 0.         0.42299187 0.         0.         0.5625428  0.\n",
      " 0.         0.80016446 0.         0.         0.79623139 0.\n",
      " 0.         0.03993375 0.         0.         0.         0.\n",
      " 0.         0.         0.         0.         0.         0.77692544\n",
      " 0.1256927  0.81636864 0.         0.         0.69453102 0.57828802\n",
      " 0.         0.         0.68128717 0.50173753 0.         0.\n",
      " 0.8815906  0.99296016 0.98071253 0.         0.09454323 0.78841132\n",
      " 0.10133778 0.         0.         0.89906317 0.         0.93191874\n",
      " 0.         0.         0.97231132 0.         0.         0.9281528\n",
      " 0.90108407 0.         0.         0.96399075 0.83011454 0.47230923\n",
      " 0.8063724  0.55903322 0.48051479 0.48754582 0.60953504 0.49777135\n",
      " 0.39853755 0.         0.90964383 0.45624897 0.         0.85231209\n",
      " 0.25615558 0.         0.862854   0.         0.66174823 0.91804081\n",
      " 0.         0.         0.73154718 0.31770507 0.         0.\n",
      " 0.80810583 0.14411062 0.         0.01841775 0.         0.\n",
      " 0.         0.74651098 0.         0.55580956 0.         0.42924184\n",
      " 0.         0.         0.         0.59383315 0.         0.51484287\n",
      " 0.         0.70612222 0.         0.         0.         0.25346774\n",
      " 0.         0.61055458 0.         0.91885948 0.         0.42901087\n",
      " 0.20822448 0.         0.5673005  0.         0.         0.71110332\n",
      " 0.         0.61968327 0.40530023 0.         0.         0.44618955\n",
      " 0.24840191 0.93361861 0.         0.31781799 0.46264261 0.95674193\n",
      " 0.         0.9712218  0.56637079 0.96496826 0.92865014 0.95012093\n",
      " 0.16150537 0.95064229 0.33816463 0.20634152 0.         0.\n",
      " 0.06890872 0.1874709  0.         0.43100426 0.94790214 0.96990854\n",
      " 0.92019659 0.91482323 0.57548243 0.         0.06799902 0.\n",
      " 0.45716777 0.         0.3091121  0.         0.         0.29430163\n",
      " 0.         0.         0.         0.24919026 0.         0.\n",
      " 0.         0.         0.         0.132292   0.         0.\n",
      " 0.         0.         0.         0.         0.         0.\n",
      " 0.         0.15003452 0.         0.         0.         0.\n",
      " 0.         0.56817615 0.         0.         0.67603207 0.\n",
      " 0.         0.         0.         0.91337961 0.01011802 0.88258845\n",
      " 0.         0.         0.91173673 0.         0.         0.80531371\n",
      " 0.         0.         0.87055123 0.         0.         0.\n",
      " 0.         0.         0.         0.8297137  0.         0.95996886\n",
      " 0.20160729 0.23399007 0.8327257  0.2425126  0.88564062 0.\n",
      " 0.94376087 0.31627887 0.98396802 0.2182456  0.78737378 0.24605133\n",
      " 0.98778987 0.         0.88628781 0.84840536 0.3459363  0.98812932\n",
      " 0.         0.97367972 0.         0.97005612 0.11407804 0.92961287\n",
      " 0.         0.87730628 0.         0.7716518  0.         0.70140386\n",
      " 0.58104581 0.         0.86400026 0.85519183 0.92062622 0.9181385\n",
      " 0.         0.98441952 0.         0.89208853 0.         0.9012484\n",
      " 0.         0.83936423 0.         0.82000864 0.         0.87512869\n",
      " 0.         0.7676028  0.         0.93045175 0.         0.95023847\n",
      " 0.         0.88990974 0.         0.         0.90307862 0.\n",
      " 0.9858095  0.         0.12730023 0.94023484 0.         0.91538864\n",
      " 0.         0.         0.98840219 0.         0.95846397 0.\n",
      " 0.         0.         0.98683864 0.         0.91880554 0.\n",
      " 0.         0.         0.94275624 0.         0.         0.9790892\n",
      " 0.         0.         0.64518058 0.         0.90259558 0.84968674\n",
      " 0.         0.         0.94780618 0.         0.96731466 0.92514324\n",
      " 0.54393131 0.99067968 0.         0.         0.911991   0.\n",
      " 0.82873189 0.26101297 0.13780765 0.96323538 0.25676829 0.\n",
      " 0.         0.18038039 0.         0.         0.67672902 0.02413944\n",
      " 0.         0.47931856 0.16050367 0.         0.51488006 0.\n",
      " 0.77861333 0.73712736 0.         0.1017345  0.         0.78678888\n",
      " 0.         0.         0.73026359 0.         0.         0.\n",
      " 0.58673525 0.         0.         0.71553808 0.79693162 0.16943477\n",
      " 0.         0.83743984 0.         0.         0.8096714  0.\n",
      " 0.         0.84628457 0.28050229 0.         0.88511038 0.\n",
      " 0.76023495 0.         0.         0.87580818 0.         0.\n",
      " 0.96191502 0.         0.91724747 0.97567409 0.         0.83216661\n",
      " 0.03899626 0.         0.9265132  0.         0.         0.84939098\n",
      " 0.         0.74774128 0.54047376 0.         0.89513963 0.\n",
      " 0.         0.89470333 0.         0.         0.         0.\n",
      " 0.         0.         0.         0.         0.         0.\n",
      " 0.         0.         0.63129836 0.26383793 0.07368273 0.41257301\n",
      " 0.70314556 0.07276014 0.26750317 0.         0.0794963  0.\n",
      " 0.40454021 0.         0.         0.         0.         0.\n",
      " 0.         0.17025602 0.         0.         0.         0.\n",
      " 0.         0.         0.         0.         0.         0.\n",
      " 0.         0.         0.         0.         0.09830011 0.70603538\n",
      " 0.06559683 0.         0.         0.49133375 0.         0.\n",
      " 0.4334681  0.         0.         0.65397847 0.80555511 0.\n",
      " 0.         0.85817981 0.         0.         0.         0.57814485\n",
      " 0.93266666 0.         0.         0.96387315 0.         0.15448736\n",
      " 0.90204102 0.85044563 0.96931714 0.89968801 0.25702739 0.\n",
      " 0.94631743 0.         0.73194563 0.43447006 0.         0.\n",
      " 0.71712947 0.         0.         0.         0.82822931 0.\n",
      " 0.         0.78590018 0.         0.         0.79189724 0.\n",
      " 0.         0.20600817 0.         0.09660275 0.         0.\n",
      " 0.49022478 0.         0.         0.24576356 0.         0.\n",
      " 0.25331122 0.38342482 0.02970242 0.07662235 0.73096281 0.\n",
      " 0.5291605  0.07546426 0.07644605 0.08238798 0.         0.\n",
      " 0.         0.         0.         0.         0.         0.\n",
      " 0.07599354 0.         0.        ]\n"
     ]
    },
    {
     "data": {
      "text/plain": [
       "0.8413206930369402"
      ]
     },
     "execution_count": 101,
     "metadata": {},
     "output_type": "execute_result"
    },
    {
     "data": {
      "image/png": "[encoded data removed]",
      "text/plain": [
       "<Figure size 432x288 with 1 Axes>"
      ]
     },
     "metadata": {
      "needs_background": "light"
     },
     "output_type": "display_data"
    }
   ],
   "source": [
    "#XC87449_-_Scaly-breasted_Woodpecker_-_Celeus_g...\n",
    "generate_ROC_curves_mutliclass(multi_df, manual_chunked_df, label = \"\")"
   ]
  },
  {
   "cell_type": "markdown",
   "metadata": {},
   "source": [
    "### ROC Curves for TweetyNET pipeline"
   ]
  },
  {
   "cell_type": "code",
   "execution_count": 56,
   "metadata": {},
   "outputs": [
    {
     "data": {
      "text/html": [
       "<div>\n",
       "<style scoped>\n",
       "    .dataframe tbody tr th:only-of-type {\n",
       "        vertical-align: middle;\n",
       "    }\n",
       "\n",
       "    .dataframe tbody tr th {\n",
       "        vertical-align: top;\n",
       "    }\n",
       "\n",
       "    .dataframe thead th {\n",
       "        text-align: right;\n",
       "    }\n",
       "</style>\n",
       "<table border=\"1\" class=\"dataframe\">\n",
       "  <thead>\n",
       "    <tr style=\"text-align: right;\">\n",
       "      <th></th>\n",
       "      <th>OFFSET</th>\n",
       "      <th>DURATION</th>\n",
       "      <th>FOLDER</th>\n",
       "      <th>IN FILE</th>\n",
       "      <th>CHANNEL</th>\n",
       "      <th>CLIP LENGTH</th>\n",
       "      <th>SAMPLE RATE</th>\n",
       "      <th>MANUAL ID</th>\n",
       "      <th>CONFIDENCE</th>\n",
       "      <th>FILEPATH</th>\n",
       "    </tr>\n",
       "  </thead>\n",
       "  <tbody>\n",
       "    <tr>\n",
       "      <th>0</th>\n",
       "      <td>5.093023</td>\n",
       "      <td>0.441860</td>\n",
       "      <td>./cosmos_random_sample_processing/</td>\n",
       "      <td>XC276588</td>\n",
       "      <td>0</td>\n",
       "      <td>12.852245</td>\n",
       "      <td>44100</td>\n",
       "      <td>Tolmomyias sulphurescens</td>\n",
       "      <td>0.782384</td>\n",
       "      <td>./cosmos_random_sample_processing/XC276588 - Y...</td>\n",
       "    </tr>\n",
       "    <tr>\n",
       "      <th>1</th>\n",
       "      <td>6.023256</td>\n",
       "      <td>0.069767</td>\n",
       "      <td>./cosmos_random_sample_processing/</td>\n",
       "      <td>XC276588</td>\n",
       "      <td>0</td>\n",
       "      <td>12.852245</td>\n",
       "      <td>44100</td>\n",
       "      <td>Tolmomyias sulphurescens</td>\n",
       "      <td>0.601440</td>\n",
       "      <td>./cosmos_random_sample_processing/XC276588 - Y...</td>\n",
       "    </tr>\n",
       "    <tr>\n",
       "      <th>2</th>\n",
       "      <td>6.116279</td>\n",
       "      <td>0.069767</td>\n",
       "      <td>./cosmos_random_sample_processing/</td>\n",
       "      <td>XC276588</td>\n",
       "      <td>0</td>\n",
       "      <td>12.852245</td>\n",
       "      <td>44100</td>\n",
       "      <td>Tolmomyias sulphurescens</td>\n",
       "      <td>0.525216</td>\n",
       "      <td>./cosmos_random_sample_processing/XC276588 - Y...</td>\n",
       "    </tr>\n",
       "    <tr>\n",
       "      <th>3</th>\n",
       "      <td>7.372093</td>\n",
       "      <td>0.395349</td>\n",
       "      <td>./cosmos_random_sample_processing/</td>\n",
       "      <td>XC276588</td>\n",
       "      <td>0</td>\n",
       "      <td>12.852245</td>\n",
       "      <td>44100</td>\n",
       "      <td>Tolmomyias sulphurescens</td>\n",
       "      <td>0.342127</td>\n",
       "      <td>./cosmos_random_sample_processing/XC276588 - Y...</td>\n",
       "    </tr>\n",
       "    <tr>\n",
       "      <th>4</th>\n",
       "      <td>8.674419</td>\n",
       "      <td>0.418605</td>\n",
       "      <td>./cosmos_random_sample_processing/</td>\n",
       "      <td>XC276588</td>\n",
       "      <td>0</td>\n",
       "      <td>12.852245</td>\n",
       "      <td>44100</td>\n",
       "      <td>Tolmomyias sulphurescens</td>\n",
       "      <td>0.414018</td>\n",
       "      <td>./cosmos_random_sample_processing/XC276588 - Y...</td>\n",
       "    </tr>\n",
       "    <tr>\n",
       "      <th>...</th>\n",
       "      <td>...</td>\n",
       "      <td>...</td>\n",
       "      <td>...</td>\n",
       "      <td>...</td>\n",
       "      <td>...</td>\n",
       "      <td>...</td>\n",
       "      <td>...</td>\n",
       "      <td>...</td>\n",
       "      <td>...</td>\n",
       "      <td>...</td>\n",
       "    </tr>\n",
       "    <tr>\n",
       "      <th>7645</th>\n",
       "      <td>5.023256</td>\n",
       "      <td>0.325581</td>\n",
       "      <td>./cosmos_random_sample_processing/</td>\n",
       "      <td>XC58363</td>\n",
       "      <td>0</td>\n",
       "      <td>11.676735</td>\n",
       "      <td>44100</td>\n",
       "      <td>Turdus leucomelas</td>\n",
       "      <td>0.347622</td>\n",
       "      <td>./cosmos_random_sample_processing/XC58363 - Pa...</td>\n",
       "    </tr>\n",
       "    <tr>\n",
       "      <th>7646</th>\n",
       "      <td>6.604651</td>\n",
       "      <td>0.255814</td>\n",
       "      <td>./cosmos_random_sample_processing/</td>\n",
       "      <td>XC58363</td>\n",
       "      <td>0</td>\n",
       "      <td>11.676735</td>\n",
       "      <td>44100</td>\n",
       "      <td>Turdus leucomelas</td>\n",
       "      <td>0.255779</td>\n",
       "      <td>./cosmos_random_sample_processing/XC58363 - Pa...</td>\n",
       "    </tr>\n",
       "    <tr>\n",
       "      <th>7647</th>\n",
       "      <td>8.279070</td>\n",
       "      <td>0.232558</td>\n",
       "      <td>./cosmos_random_sample_processing/</td>\n",
       "      <td>XC58363</td>\n",
       "      <td>0</td>\n",
       "      <td>11.676735</td>\n",
       "      <td>44100</td>\n",
       "      <td>Turdus leucomelas</td>\n",
       "      <td>0.262850</td>\n",
       "      <td>./cosmos_random_sample_processing/XC58363 - Pa...</td>\n",
       "    </tr>\n",
       "    <tr>\n",
       "      <th>7648</th>\n",
       "      <td>9.418605</td>\n",
       "      <td>0.255814</td>\n",
       "      <td>./cosmos_random_sample_processing/</td>\n",
       "      <td>XC58363</td>\n",
       "      <td>0</td>\n",
       "      <td>11.676735</td>\n",
       "      <td>44100</td>\n",
       "      <td>Turdus leucomelas</td>\n",
       "      <td>0.487769</td>\n",
       "      <td>./cosmos_random_sample_processing/XC58363 - Pa...</td>\n",
       "    </tr>\n",
       "    <tr>\n",
       "      <th>7649</th>\n",
       "      <td>9.697674</td>\n",
       "      <td>0.162791</td>\n",
       "      <td>./cosmos_random_sample_processing/</td>\n",
       "      <td>XC58363</td>\n",
       "      <td>0</td>\n",
       "      <td>11.676735</td>\n",
       "      <td>44100</td>\n",
       "      <td>Turdus leucomelas</td>\n",
       "      <td>0.747856</td>\n",
       "      <td>./cosmos_random_sample_processing/XC58363 - Pa...</td>\n",
       "    </tr>\n",
       "  </tbody>\n",
       "</table>\n",
       "<p>7650 rows × 10 columns</p>\n",
       "</div>"
      ],
      "text/plain": [
       "        OFFSET  DURATION                              FOLDER   IN FILE  \\\n",
       "0     5.093023  0.441860  ./cosmos_random_sample_processing/  XC276588   \n",
       "1     6.023256  0.069767  ./cosmos_random_sample_processing/  XC276588   \n",
       "2     6.116279  0.069767  ./cosmos_random_sample_processing/  XC276588   \n",
       "3     7.372093  0.395349  ./cosmos_random_sample_processing/  XC276588   \n",
       "4     8.674419  0.418605  ./cosmos_random_sample_processing/  XC276588   \n",
       "...        ...       ...                                 ...       ...   \n",
       "7645  5.023256  0.325581  ./cosmos_random_sample_processing/   XC58363   \n",
       "7646  6.604651  0.255814  ./cosmos_random_sample_processing/   XC58363   \n",
       "7647  8.279070  0.232558  ./cosmos_random_sample_processing/   XC58363   \n",
       "7648  9.418605  0.255814  ./cosmos_random_sample_processing/   XC58363   \n",
       "7649  9.697674  0.162791  ./cosmos_random_sample_processing/   XC58363   \n",
       "\n",
       "      CHANNEL  CLIP LENGTH  SAMPLE RATE                 MANUAL ID  CONFIDENCE  \\\n",
       "0           0    12.852245        44100  Tolmomyias sulphurescens    0.782384   \n",
       "1           0    12.852245        44100  Tolmomyias sulphurescens    0.601440   \n",
       "2           0    12.852245        44100  Tolmomyias sulphurescens    0.525216   \n",
       "3           0    12.852245        44100  Tolmomyias sulphurescens    0.342127   \n",
       "4           0    12.852245        44100  Tolmomyias sulphurescens    0.414018   \n",
       "...       ...          ...          ...                       ...         ...   \n",
       "7645        0    11.676735        44100         Turdus leucomelas    0.347622   \n",
       "7646        0    11.676735        44100         Turdus leucomelas    0.255779   \n",
       "7647        0    11.676735        44100         Turdus leucomelas    0.262850   \n",
       "7648        0    11.676735        44100         Turdus leucomelas    0.487769   \n",
       "7649        0    11.676735        44100         Turdus leucomelas    0.747856   \n",
       "\n",
       "                                               FILEPATH  \n",
       "0     ./cosmos_random_sample_processing/XC276588 - Y...  \n",
       "1     ./cosmos_random_sample_processing/XC276588 - Y...  \n",
       "2     ./cosmos_random_sample_processing/XC276588 - Y...  \n",
       "3     ./cosmos_random_sample_processing/XC276588 - Y...  \n",
       "4     ./cosmos_random_sample_processing/XC276588 - Y...  \n",
       "...                                                 ...  \n",
       "7645  ./cosmos_random_sample_processing/XC58363 - Pa...  \n",
       "7646  ./cosmos_random_sample_processing/XC58363 - Pa...  \n",
       "7647  ./cosmos_random_sample_processing/XC58363 - Pa...  \n",
       "7648  ./cosmos_random_sample_processing/XC58363 - Pa...  \n",
       "7649  ./cosmos_random_sample_processing/XC58363 - Pa...  \n",
       "\n",
       "[7650 rows x 10 columns]"
      ]
     },
     "execution_count": 56,
     "metadata": {},
     "output_type": "execute_result"
    }
   ],
   "source": [
    "automated_df_tweety[\"IN FILE\"] = automated_df_tweety[\"IN FILE\"].apply(lambda x: x.split(\" - \")[0])\n",
    "automated_df_tweety"
   ]
  },
  {
   "cell_type": "code",
   "execution_count": 100,
   "metadata": {},
   "outputs": [
    {
     "name": "stderr",
     "output_type": "stream",
     "text": [
      "/Users/vanessasalgado/Desktop/E4E-Acoustics.nosync/PyHa/PyHa/annotation_post_processing.py:213: SettingWithCopyWarning: \n",
      "A value is trying to be set on a copy of a slice from a DataFrame.\n",
      "Try using .loc[row_indexer,col_indexer] = value instead\n",
      "\n",
      "See the caveats in the documentation: https://pandas.pydata.org/pandas-docs/stable/user_guide/indexing.html#returning-a-view-versus-a-copy\n",
      "  #Init list of clips to cycle through and output dataframe\n"
     ]
    },
    {
     "name": "stdout",
     "output_type": "stream",
     "text": [
      "target 597\n",
      "confidence 597\n",
      "automated df 597\n",
      "[1. 1. 1. 1. 0. 0. 0. 1. 0. 0. 0. 0. 0. 0. 0. 1. 1. 0. 0. 1. 1. 0. 0. 1.\n",
      " 1. 0. 1. 1. 1. 1. 0. 0. 0. 1. 1. 0. 1. 1. 1. 0. 0. 1. 0. 0. 0. 0. 0. 1.\n",
      " 1. 0. 0. 1. 1. 0. 0. 0. 1. 1. 0. 1. 0. 0. 0. 1. 0. 0. 0. 0. 0. 0. 0. 0.\n",
      " 0. 0. 0. 0. 0. 0. 0. 0. 0. 0. 1. 0. 0. 1. 1. 0. 0. 0. 0. 1. 1. 1. 0. 0.\n",
      " 1. 0. 0. 1. 1. 0. 0. 0. 0. 0. 0. 1. 0. 0. 0. 1. 0. 0. 1. 1. 0. 1. 1. 1.\n",
      " 1. 1. 1. 1. 0. 0. 0. 0. 0. 0. 1. 0. 0. 0. 0. 0. 0. 1. 0. 1. 1. 1. 1. 0.\n",
      " 0. 1. 1. 0. 0. 0. 1. 0. 0. 1. 0. 0. 1. 0. 0. 1. 1. 0. 0. 1. 0. 0. 0. 1.\n",
      " 0. 0. 0. 0. 0. 1. 1. 0. 0. 0. 0. 1. 1. 1. 1. 1. 1. 1. 0. 0. 1. 1. 0. 0.\n",
      " 1. 0. 1. 1. 0. 1. 0. 0. 0. 0. 1. 0. 0. 0. 0. 0. 0. 0. 0. 0. 0. 0. 0. 0.\n",
      " 0. 0. 0. 0. 0. 0. 0. 0. 0. 0. 0. 0. 0. 0. 0. 0. 0. 0. 0. 0. 0. 0. 1. 0.\n",
      " 0. 1. 0. 0. 0. 0. 0. 1. 0. 0. 0. 0. 0. 0. 0. 0. 0. 0. 0. 0. 0. 1. 0. 0.\n",
      " 0. 0. 0. 0. 0. 0. 1. 0. 0. 1. 1. 0. 0. 0. 0. 0. 1. 0. 1. 0. 0. 0. 0. 0.\n",
      " 0. 1. 0. 0. 1. 0. 1. 1. 1. 1. 0. 0. 0. 0. 0. 1. 0. 0. 0. 0. 0. 0. 1. 0.\n",
      " 0. 0. 0. 0. 0. 1. 1. 1. 1. 1. 0. 0. 0. 1. 1. 1. 0. 0. 1. 0. 1. 1. 1. 0.\n",
      " 1. 0. 1. 1. 0. 1. 1. 1. 0. 0. 1. 0. 0. 1. 1. 0. 0. 0. 1. 0. 0. 0. 0. 1.\n",
      " 1. 1. 1. 1. 1. 1. 1. 1. 0. 0. 1. 1. 0. 1. 1. 0. 0. 1. 1. 1. 0. 1. 1. 0.\n",
      " 1. 0. 1. 1. 1. 1. 1. 1. 1. 1. 1. 1. 1. 1. 0. 1. 1. 0. 1. 0. 1. 1. 1. 1.\n",
      " 0. 1. 1. 1. 1. 1. 0. 1. 0. 0. 0. 1. 0. 0. 1. 0. 0. 0. 0. 0. 1. 0. 0. 1.\n",
      " 1. 0. 0. 0. 0. 1. 0. 1. 0. 1. 1. 1. 1. 1. 0. 0. 0. 1. 0. 0. 0. 0. 0. 1.\n",
      " 0. 0. 1. 0. 0. 0. 0. 0. 0. 0. 0. 0. 0. 0. 0. 0. 0. 0. 0. 0. 0. 0. 0. 1.\n",
      " 0. 1. 0. 1. 1. 1. 1. 1. 1. 0. 0. 0. 0. 0. 0. 1. 0. 1. 1. 0. 0. 1. 0. 1.\n",
      " 0. 1. 0. 1. 0. 0. 1. 1. 0. 0. 1. 1. 1. 1. 0. 1. 1. 1. 1. 1. 0. 1. 1. 1.\n",
      " 1. 1. 0. 1. 0. 0. 1. 1. 0. 0. 0. 0. 0. 0. 0. 0. 0. 0. 0. 0. 0. 0. 0. 0.\n",
      " 1. 0. 0. 0. 0. 0. 0. 0. 0. 1. 0. 0. 1. 1. 1. 0. 0. 1. 0. 1. 1. 1. 1. 1.\n",
      " 1. 1. 1. 1. 1. 1. 1. 0. 1. 1. 0. 1. 1. 0. 0. 0. 1. 0. 0. 0. 0.]\n",
      "[0.68216497 0.79804591 0.705093   0.87648769 0.81592349 0.81592349\n",
      " 0.81592349 0.9970527  0.72479703 0.         0.64460601 0.68181537\n",
      " 0.68663056 0.         0.         0.         0.76811749 0.\n",
      " 0.         0.82084887 1.         0.99370902 0.         0.\n",
      " 0.         0.         0.70513901 0.98882386 0.73214683 0.8161906\n",
      " 0.         0.         0.         1.         0.38905559 0.\n",
      " 0.25027888 0.80509087 0.5969809  0.76959997 0.68236768 0.52841203\n",
      " 0.         0.         0.         1.         0.61107074 0.71377964\n",
      " 0.7524059  0.         0.         0.60060923 0.56911483 0.98564666\n",
      " 0.98564666 1.         0.68974242 0.70661694 1.         0.\n",
      " 0.45982345 0.49003583 0.68385189 0.95608663 0.         0.43547127\n",
      " 0.         0.         0.38778963 0.73246858 0.70723862 0.\n",
      " 0.84251129 0.42733867 0.34050293 0.34050293 0.         0.\n",
      " 0.33009754 0.         0.         0.         0.         0.\n",
      " 0.59317247 0.         0.         0.         0.29275229 0.29275229\n",
      " 0.41409611 0.48740202 0.80483298 0.80483298 0.57355766 0.89920444\n",
      " 0.         0.         0.2045748  0.71532689 0.84392444 0.84392444\n",
      " 1.         0.         0.92945667 0.92945667 0.5039339  0.\n",
      " 0.3544593  0.86879586 0.         0.44338426 0.         0.\n",
      " 0.61553642 0.62049483 0.64378614 0.69916243 0.69916243 0.79052087\n",
      " 0.79052087 0.3944421  0.64709017 0.         0.         0.64187756\n",
      " 0.64187756 0.79302216 0.79302216 0.         0.50689693 0.\n",
      " 0.72011836 0.72011836 0.62877067 0.62877067 0.         0.58783941\n",
      " 0.82907499 0.82907499 0.60780201 0.50438826 0.36848798 0.\n",
      " 0.64646273 0.7173249  0.85040012 0.         0.         0.35768518\n",
      " 0.68144952 0.64703296 0.64703296 0.64533492 0.         0.56245286\n",
      " 0.76857162 0.76857162 0.42915353 0.27844444 0.8315145  0.8315145\n",
      " 0.55087489 0.55087489 0.29799078 0.29799078 0.         0.81408341\n",
      " 0.81408341 0.77575285 0.5033674  0.29955207 0.51731057 0.43713563\n",
      " 0.54401595 0.61394821 0.61394821 0.27793187 1.         0.6387048\n",
      " 0.6820232  0.76078767 0.64783183 0.64783183 0.35789516 0.35789516\n",
      " 0.15175003 1.         1.         1.         0.61917924 0.78259633\n",
      " 0.45901051 0.1374775  0.58807711 0.58807711 0.20001375 0.49037017\n",
      " 0.         0.         0.         0.         0.47187496 1.\n",
      " 0.69081711 0.53352981 0.53167744 0.62026619 0.68184017 0.431258\n",
      " 0.         0.73480529 0.57114323 0.58377539 0.43135427 0.34237582\n",
      " 0.64791956 0.61589049 0.6463119  0.         0.         0.59385545\n",
      " 0.29722347 0.31378353 0.         0.44755175 0.51679514 0.43025253\n",
      " 0.         0.         0.         0.29699794 0.2937637  0.37468413\n",
      " 0.37468413 0.47352319 0.         0.31829986 0.98239495 0.\n",
      " 0.36355294 0.83219025 0.39374245 0.6772755  0.6772755  0.\n",
      " 0.34395786 0.96198819 0.96198819 0.35987966 0.38924436 0.23845519\n",
      " 0.         0.         0.         0.         0.         0.52585704\n",
      " 0.6019699  0.27898024 0.         0.97052204 0.         0.\n",
      " 0.         0.         0.         0.         0.         0.\n",
      " 0.         0.         0.         0.         0.         0.\n",
      " 0.         0.         0.         0.         1.         0.\n",
      " 1.         0.         0.         0.28187702 0.         0.27430528\n",
      " 0.36116266 0.57797936 0.         0.         1.         0.\n",
      " 0.         0.         0.         0.87781569 0.         0.\n",
      " 0.         0.         0.         0.67311439 0.         0.\n",
      " 0.63011961 0.58299635 0.         0.         0.49931143 0.\n",
      " 0.         0.         0.         0.50249768 0.         0.75594942\n",
      " 0.75594942 0.6460556  0.71205823 0.81471019 0.6840688  0.80942004\n",
      " 0.80942004 0.88445051 0.74227091 0.6999345  0.70331762 0.69978088\n",
      " 0.81833312 0.69608344 1.         1.         0.73218726 0.48758569\n",
      " 0.71650924 0.62503649 0.7587741  0.7587741  0.         0.79806648\n",
      " 0.5455191  0.60341469 0.         0.21612432 0.84350332 0.27155355\n",
      " 0.5814971  0.85306253 0.85306253 0.41520758 0.29921232 0.53408312\n",
      " 1.         0.22149048 0.21975274 0.43524635 0.28306222 0.85123858\n",
      " 0.85123858 0.80798996 0.80798996 0.         0.         1.\n",
      " 1.         1.         0.85007515 0.85007515 0.59178962 0.85004858\n",
      " 0.61087665 0.74486941 0.76813334 0.73200967 0.9044943  0.82038807\n",
      " 0.86700658 0.90413317 0.16745546 0.8211436  0.8211436  0.17783335\n",
      " 0.9504549  0.56562112 0.89996251 0.89996251 0.73621823 0.84847402\n",
      " 0.84847402 1.         1.         0.78084599 0.82568503 0.82568503\n",
      " 0.         0.96933267 0.80306215 0.8969051  0.8969051  0.64756068\n",
      " 0.86947674 0.68108691 0.80898278 0.80898278 0.         1.\n",
      " 0.69259096 0.63664665 1.         0.         0.09362559 1.\n",
      " 0.92265182 0.96513652 0.71556466 0.71556466 0.70003514 0.55310082\n",
      " 0.51565081 0.         0.81403253 0.         0.37512066 0.\n",
      " 0.         0.         0.3240009  0.76457919 0.60083288 0.\n",
      " 1.         0.75940768 0.74344996 0.         0.         0.\n",
      " 0.         0.         0.         0.         0.         0.34704576\n",
      " 0.40894062 0.         0.         0.         0.         0.\n",
      " 0.         0.         0.         0.         0.         0.\n",
      " 0.         0.         0.         0.         0.         0.\n",
      " 0.         0.         0.         0.         0.         0.\n",
      " 0.         0.         0.         0.         0.         0.\n",
      " 0.         0.         0.         0.         0.         0.\n",
      " 0.         0.5716822  0.         0.         0.         0.\n",
      " 0.         0.         0.         0.         0.35579598 0.\n",
      " 0.84860726 0.98510518 0.9500689  1.         0.37084145 0.69682309\n",
      " 0.593403   0.78242256 0.64110272 0.         0.6400024  0.58919886\n",
      " 0.87694072 0.90067897 0.92844692 1.         1.         0.\n",
      " 0.66503933 0.         0.77724868 0.56941995 0.92186742 0.76086766\n",
      " 0.81400937 0.9398497  0.91108601 0.63610352 0.34665129 0.\n",
      " 0.         0.         0.29165066 0.32667854 0.32719162 0.29222279\n",
      " 0.35712197 0.41471316 0.         0.52943702 0.         0.66787354\n",
      " 0.85505425 0.76787274 0.76787274 0.67032003 0.85890317 0.87838945\n",
      " 0.73280778 0.81295539 0.81175198 0.70605379 0.87273945 0.99482828\n",
      " 0.96587156 0.96587156 0.74724684 0.74158492 0.66412305 0.82093838\n",
      " 0.86674202 0.69762834 0.78755746 0.83984042 0.85248659 0.8846385\n",
      " 0.81750192 0.85188172 0.87454276 0.71554152 0.71554152 1.\n",
      " 0.9974123  0.8179874  0.32970662 0.         0.15310309 0.78723317\n",
      " 0.         0.15903517 0.79396878 0.67756468 0.97915854 1.\n",
      " 0.90678041 0.65852834 0.65852834 0.26753098 0.60788288 1.\n",
      " 0.91162549 0.         0.12703504 0.12703504 0.         0.14918558\n",
      " 1.         0.         0.         0.13106885 0.98577579 0.\n",
      " 0.         0.         0.        ]\n"
     ]
    },
    {
     "name": "stderr",
     "output_type": "stream",
     "text": [
      "/Users/vanessasalgado/Desktop/E4E-Acoustics.nosync/PyHa/PyHa/annotation_post_processing.py:213: SettingWithCopyWarning: \n",
      "A value is trying to be set on a copy of a slice from a DataFrame.\n",
      "Try using .loc[row_indexer,col_indexer] = value instead\n",
      "\n",
      "See the caveats in the documentation: https://pandas.pydata.org/pandas-docs/stable/user_guide/indexing.html#returning-a-view-versus-a-copy\n",
      "  #Init list of clips to cycle through and output dataframe\n"
     ]
    },
    {
     "name": "stdout",
     "output_type": "stream",
     "text": [
      "target 641\n",
      "confidence 639\n",
      "automated df 639\n",
      "[1. 1. 0. 1. 0. 0. 1. 0. 1. 1. 1. 1. 1. 1. 1. 1. 1. 1. 1. 1. 1. 1. 1. 1.\n",
      " 1. 1. 1. 1. 1. 1. 1. 1. 1. 1. 1. 1. 1. 1. 0. 0. 0. 0. 0. 0. 0. 0. 0. 1.\n",
      " 1. 1. 1. 1. 0. 1. 1. 1. 1. 0. 1. 0. 1. 0. 0. 1. 1. 1. 1. 1. 1. 1. 1. 1.\n",
      " 1. 0. 1. 0. 1. 0. 1. 1. 1. 0. 1. 0. 1. 0. 1. 0. 1. 0. 1. 1. 0. 1. 0. 1.\n",
      " 0. 1. 1. 0. 1. 0. 1. 0. 0. 0. 0. 1. 0. 1. 0. 0. 1. 0. 1. 0. 1. 1. 0. 1.\n",
      " 0. 1. 0. 1. 1. 0. 0. 0. 0. 0. 0. 0. 0. 1. 1. 1. 1. 1. 1. 1. 1. 1. 1. 1.\n",
      " 1. 0. 1. 0. 1. 1. 1. 1. 1. 1. 0. 1. 1. 1. 1. 0. 1. 1. 1. 0. 1. 0. 1. 0.\n",
      " 0. 0. 0. 1. 1. 1. 1. 1. 1. 1. 1. 1. 1. 1. 1. 1. 1. 1. 1. 1. 1. 0. 1. 0.\n",
      " 1. 1. 0. 0. 1. 0. 0. 0. 1. 0. 0. 1. 1. 0. 0. 1. 1. 1. 1. 1. 1. 1. 1. 1.\n",
      " 1. 1. 0. 1. 0. 1. 0. 0. 1. 0. 0. 1. 1. 1. 0. 1. 0. 0. 1. 1. 0. 0. 1. 0.\n",
      " 1. 1. 1. 1. 1. 0. 1. 1. 1. 1. 1. 1. 1. 1. 1. 1. 0. 1. 1. 1. 1. 1. 1. 1.\n",
      " 1. 1. 1. 1. 1. 1. 1. 1. 0. 0. 0. 0. 0. 0. 0. 0. 0. 0. 0. 0. 0. 1. 0. 1.\n",
      " 1. 1. 1. 1. 1. 0. 1. 1. 1. 1. 1. 1. 1. 1. 1. 1. 1. 1. 1. 1. 1. 1. 1. 0.\n",
      " 1. 1. 1. 1. 0. 1. 1. 0. 1. 0. 0. 1. 0. 0. 1. 1. 0. 0. 1. 0. 0. 1. 0. 0.\n",
      " 1. 0. 0. 1. 1. 0. 1. 1. 0. 1. 1. 1. 0. 1. 0. 1. 0. 0. 1. 0. 1. 0. 0. 1.\n",
      " 0. 1. 1. 0. 1. 1. 0. 1. 0. 0. 1. 0. 1. 1. 1. 1. 1. 1. 0. 1. 0. 1. 1. 0.\n",
      " 1. 0. 0. 0. 0. 0. 0. 1. 1. 1. 1. 1. 1. 1. 1. 1. 1. 1. 0. 1. 0. 0. 1. 0.\n",
      " 0. 1. 0. 0. 1. 0. 0. 1. 0. 0. 1. 1. 1. 1. 1. 0. 0. 1. 0. 1. 1. 0. 1. 1.\n",
      " 0. 1. 1. 0. 1. 1. 0. 0. 1. 0. 1. 0. 1. 0. 1. 0. 0. 1. 1. 1. 1. 1. 1. 1.\n",
      " 1. 1. 1. 1. 1. 1. 1. 1. 1. 1. 1. 1. 1. 1. 1. 1. 1. 1. 1. 1. 1. 1. 1. 1.\n",
      " 1. 1. 1. 1. 1. 1. 1. 1. 1. 1. 1. 1. 1. 1. 1. 1. 1. 1. 1. 1. 1. 1. 1. 1.\n",
      " 1. 1. 1. 1. 1. 1. 1. 1. 1. 1. 1. 1. 1. 1. 1. 1. 1. 1. 1. 1. 1. 1. 1. 1.\n",
      " 1. 1. 1. 1. 1. 1. 1. 1. 1. 1. 1. 1. 1. 1. 1. 1. 1. 1. 1. 1. 1. 1. 0. 1.\n",
      " 0. 1. 1. 0. 1. 0. 1. 1. 0. 1. 0. 0. 1. 0. 1. 1. 0. 1. 0. 0. 1. 0. 0. 0.\n",
      " 0. 0. 0. 0. 0. 0. 0. 0. 0. 0. 0. 0. 0. 0. 0. 0. 0. 1. 1. 1. 1. 1. 1. 1.\n",
      " 1. 1. 0. 1. 0. 1. 1. 1. 1. 1. 1. 1. 0. 1. 0. 1. 0. 0. 0. 1. 0. 0. 1. 0.\n",
      " 0. 1. 1. 0. 0. 1. 0. 1. 1. 1. 0. 1. 1. 1. 0. 1. 1.]\n",
      "[0.         0.42632197 0.69699446 0.69699446 0.         0.\n",
      " 0.71045652 0.16003837 0.32184951 1.         1.         0.79340782\n",
      " 0.95292286 0.95292286 0.82385486 0.82385486 0.99341672 0.99341672\n",
      " 0.4108237  0.57995223 0.59755711 0.59755711 0.53177861 0.27353368\n",
      " 0.73527408 0.         0.57843778 0.92844596 0.92844596 0.\n",
      " 0.84964843 0.9094062  0.98284483 0.98284483 0.95078024 0.94484711\n",
      " 1.         1.         0.         0.         0.         0.\n",
      " 0.         0.40418667 0.59080336 0.         0.565692   1.\n",
      " 0.7751717  0.7751717  0.852664   0.76532764 0.         0.66789508\n",
      " 0.75744666 0.         0.56817897 0.         0.34819403 0.\n",
      " 0.21474786 0.         0.53318596 0.76825661 0.84944033 0.70121134\n",
      " 0.63046132 0.73135329 1.         0.65672423 0.54360153 0.70100321\n",
      " 0.77769883 0.         0.76987174 0.         0.77813061 0.\n",
      " 0.54607295 0.         0.70769897 0.         0.72796775 0.51129745\n",
      " 0.68625447 0.         0.77290622 0.         0.         0.\n",
      " 0.69958436 0.69958436 0.         0.66838536 0.         0.53504771\n",
      " 0.         0.8473765  0.8473765  0.         0.64891357 0.\n",
      " 0.58217921 0.         0.         0.63919776 0.         0.\n",
      " 0.         0.70900534 0.44299426 0.         0.59267246 0.\n",
      " 0.         0.         0.7636455  0.7636455  0.         0.93609323\n",
      " 0.503696   0.66421698 0.66421698 0.71585141 0.71585141 0.\n",
      " 0.         0.56632589 0.66844194 0.45610601 0.         0.\n",
      " 0.26331319 0.48733122 0.88192118 0.55988157 0.71965571 0.71965571\n",
      " 0.90686055 0.         0.65175223 0.44085287 0.9276035  0.\n",
      " 0.72477632 0.         0.95603625 0.         0.85938413 0.78883581\n",
      " 0.90156132 0.75745162 0.         0.64053889 0.74435493 0.\n",
      " 0.74820776 0.         0.90783893 0.90783893 0.416554   0.416554\n",
      " 0.26622917 0.26644764 0.8987034  0.8987034  0.40586847 0.\n",
      " 0.14153493 0.52869178 0.52869178 0.86255998 0.8438668  0.68488969\n",
      " 0.9262335  0.         0.47101121 0.67495423 0.86570711 0.86570711\n",
      " 0.57859905 0.68890694 0.71161715 0.         0.57599163 0.\n",
      " 0.64172574 0.64172574 0.3655066  0.75214189 0.30003663 0.\n",
      " 0.9278414  0.15500785 0.         0.85230656 0.23957677 0.31665779\n",
      " 0.         0.72758858 0.         0.         0.31320196 0.23049154\n",
      " 0.23049154 0.         0.37907313 0.87187671 0.97778468 1.\n",
      " 1.         0.7744611  0.90503411 0.8924288  0.8924288  0.60700579\n",
      " 0.61881779 0.         0.77277583 0.         0.65862194 0.\n",
      " 0.         0.84704469 0.28256967 0.26370702 0.94896268 0.94896268\n",
      " 0.50341421 0.50341421 0.74262351 0.         0.25435932 0.57063187\n",
      " 0.57063187 0.         0.         0.4486408  0.65976794 0.61181033\n",
      " 0.5972408  0.         0.7724782  0.         0.86117997 0.83521854\n",
      " 0.83521854 0.81803428 0.67147035 0.72250003 0.83036734 0.83036734\n",
      " 0.85587959 0.83396856 0.         0.82356033 1.         1.\n",
      " 0.7951516  0.7951516  0.75632807 0.79160283 0.66139576 0.72161229\n",
      " 0.81907909 0.         0.64215516 0.65387667 0.84966051 1.\n",
      " 1.         1.         1.         1.         1.         1.\n",
      " 1.         1.         1.         1.         1.         0.8977542\n",
      " 0.49234304 0.88190482 0.         0.86659981 0.3709295  0.28433817\n",
      " 0.3202677  0.         0.23911004 0.         0.37741302 0.37741302\n",
      " 0.90710184 0.         0.25274295 0.70202807 0.         1.\n",
      " 1.         0.63693477 0.9162071  0.9162071  0.53450514 0.70452126\n",
      " 0.70452126 1.         1.         0.         0.77552399 0.75675471\n",
      " 0.95287114 0.95287114 0.         0.74998931 0.         0.\n",
      " 0.76922793 0.         0.         0.65282169 0.         0.\n",
      " 0.         0.72880668 0.         0.         0.39115798 0.\n",
      " 0.         0.30853486 0.         0.         0.14222451 0.\n",
      " 0.         0.16199916 0.16199916 0.         0.18430129 0.18430129\n",
      " 0.         0.24958635 0.         0.74324991 0.         0.53440836\n",
      " 0.         0.86217578 0.86217578 0.         0.7759967  0.50875581\n",
      " 0.69490008 0.         0.15391702 0.59512445 0.41472859 1.\n",
      " 1.         0.         0.53270715 0.53270715 0.         0.32232458\n",
      " 0.         0.         0.50317291 0.31199112 0.39933043 0.59807617\n",
      " 0.59807617 0.41031477 0.37269164 0.36540252 0.         0.29706717\n",
      " 0.         0.31658529 0.31658529 0.         0.54174427 0.36327247\n",
      " 0.49107178 0.         0.         0.76047139 0.         0.76683883\n",
      " 0.95329437 1.         1.         0.70945415 0.69874439 0.\n",
      " 0.82523857 0.         0.75137864 0.75137864 0.56685069 0.95013355\n",
      " 0.54774496 0.         0.76895808 0.         0.34041836 0.81330969\n",
      " 0.         0.         0.76479556 0.         0.         0.67195152\n",
      " 0.         0.         0.8105636  0.90923922 0.90923922 1.\n",
      " 0.67283275 0.         0.62628885 1.         0.52187277 0.65111812\n",
      " 0.60307886 0.         0.         0.         0.         0.49057455\n",
      " 0.         0.         0.         0.61639013 0.         0.\n",
      " 0.68222811 0.         0.9771596  0.         0.54385821 0.\n",
      " 0.41022088 0.         0.         0.96893026 0.96893026 0.52544207\n",
      " 0.88719618 0.56056704 0.48944773 0.9245296  0.9245296  0.73888544\n",
      " 0.56331093 0.52608746 0.47956419 0.98416104 0.98416104 0.54838618\n",
      " 0.64014076 0.42486884 0.98392987 0.98392987 0.72604788 0.72604788\n",
      " 0.         0.49241859 0.92129269 0.92129269 0.48915474 0.57280126\n",
      " 0.51885227 0.44551036 0.7210765  0.7210765  0.6014489  0.72826559\n",
      " 0.72826559 0.81536912 0.81536912 0.59663282 0.62293117 0.\n",
      " 0.72000757 0.74708892 0.87872597 0.76184677 0.92468888 0.96701348\n",
      " 0.96701348 0.42893456 0.97034195 0.97034195 0.97034195 0.\n",
      " 0.886116   0.94576009 0.94576009 0.43013708 0.39487401 0.\n",
      " 0.         0.59565018 0.66792509 0.66792509 0.31908985 0.63243709\n",
      " 0.84966879 0.86386274 0.65855918 0.81467435 0.92904182 0.92904182\n",
      " 0.39022872 0.3952364  0.         0.73869358 0.73869358 0.84907642\n",
      " 0.74537571 0.7840841  0.94162179 0.94162179 0.94162179 0.73984125\n",
      " 0.58565821 0.98048155 0.98048155 0.         0.60049725 0.60049725\n",
      " 0.80821453 0.50517407 0.         0.         0.90650034 0.90650034\n",
      " 0.67687619 0.75352296 0.86617687 0.86617687 1.         1.\n",
      " 0.87694752 0.87694752 0.63664258 0.92913151 0.         0.82739025\n",
      " 0.82739025 0.4571358  0.79978934 0.79978934 0.73684724 0.73684724\n",
      " 0.28465015 0.77528378 0.47661761 0.         0.82539589 0.\n",
      " 0.75490888 0.75490888 0.45908218 0.80772589 0.         0.\n",
      " 0.81964656 0.         0.         0.         0.52197003 0.\n",
      " 0.         0.         0.         0.         0.33475789 0.\n",
      " 0.         0.         0.         0.         0.         0.\n",
      " 0.40614149 0.36666    0.         0.         0.56901548 0.56901548\n",
      " 0.5930498  0.59346908 0.56300597 0.71071011 0.63275145 0.80917837\n",
      " 0.         0.37821769 0.         0.93400758 0.94268155 0.85327559\n",
      " 0.93133279 0.9736791  0.9736791  0.9463468  0.         0.96310243\n",
      " 0.         0.90995397 0.         0.         0.         0.90172192\n",
      " 0.         0.         0.83641726 0.         0.         0.83219677\n",
      " 0.         0.         0.         0.97583877 0.         0.92583162\n",
      " 0.92583162 0.98758495 0.         0.94273074 0.94273074 0.89475406\n",
      " 0.         0.86928918 0.86928918]\n"
     ]
    },
    {
     "name": "stderr",
     "output_type": "stream",
     "text": [
      "/Users/vanessasalgado/Desktop/E4E-Acoustics.nosync/PyHa/PyHa/annotation_post_processing.py:213: SettingWithCopyWarning: \n",
      "A value is trying to be set on a copy of a slice from a DataFrame.\n",
      "Try using .loc[row_indexer,col_indexer] = value instead\n",
      "\n",
      "See the caveats in the documentation: https://pandas.pydata.org/pandas-docs/stable/user_guide/indexing.html#returning-a-view-versus-a-copy\n",
      "  #Init list of clips to cycle through and output dataframe\n"
     ]
    },
    {
     "name": "stdout",
     "output_type": "stream",
     "text": [
      "target 326\n",
      "confidence 325\n",
      "automated df 325\n",
      "[1. 1. 0. 0. 0. 0. 1. 1. 1. 0. 1. 0. 1. 0. 0. 1. 0. 1. 1. 0. 1. 1. 0. 1.\n",
      " 1. 0. 0. 1. 1. 1. 0. 0. 1. 0. 1. 1. 0. 0. 1. 1. 1. 1. 1. 1. 1. 1. 1. 1.\n",
      " 1. 1. 1. 1. 1. 1. 1. 1. 1. 1. 1. 1. 1. 1. 0. 1. 1. 0. 1. 1. 1. 1. 0. 0.\n",
      " 1. 1. 1. 0. 0. 0. 1. 1. 1. 1. 1. 1. 1. 0. 0. 0. 1. 1. 1. 1. 0. 1. 1. 0.\n",
      " 1. 1. 1. 1. 1. 0. 1. 1. 0. 1. 0. 0. 1. 1. 1. 1. 1. 1. 0. 0. 0. 0. 0. 0.\n",
      " 0. 0. 0. 1. 1. 0. 0. 0. 0. 0. 1. 0. 0. 0. 0. 0. 0. 0. 0. 0. 0. 0. 0. 0.\n",
      " 0. 0. 0. 0. 1. 1. 0. 0. 0. 0. 1. 0. 0. 0. 0. 1. 1. 1. 1. 1. 1. 1. 1. 1.\n",
      " 1. 1. 1. 1. 1. 1. 1. 1. 0. 1. 0. 1. 1. 1. 1. 1. 1. 0. 1. 1. 1. 1. 1. 1.\n",
      " 1. 1. 1. 1. 1. 0. 1. 1. 1. 0. 1. 0. 1. 1. 1. 1. 1. 1. 1. 1. 1. 0. 0. 1.\n",
      " 1. 0. 1. 0. 0. 1. 0. 1. 1. 0. 0. 0. 1. 1. 1. 0. 0. 0. 1. 1. 1. 0. 1. 1.\n",
      " 0. 1. 1. 0. 0. 0. 1. 1. 1. 0. 1. 1. 0. 1. 1. 1. 1. 0. 0. 0. 1. 1. 1. 1.\n",
      " 0. 1. 0. 0. 1. 1. 0. 1. 1. 0. 1. 1. 0. 1. 1. 0. 0. 1. 0. 0. 0. 0. 0. 0.\n",
      " 0. 0. 1. 1. 1. 1. 1. 1. 1. 1. 0. 1. 0. 1. 1. 1. 1. 1. 1. 1. 0. 1. 0. 1.\n",
      " 1. 0. 0. 0. 0. 0. 0. 1. 1. 0. 0. 0. 0. 0.]\n",
      "[1.         1.         0.36018871 0.51092381 0.51092381 0.\n",
      " 0.93168902 0.82072941 0.82072941 0.         0.93117386 1.\n",
      " 1.         0.         0.79441625 0.79441625 0.         0.95181174\n",
      " 0.95181174 0.91884227 0.         0.         1.         1.\n",
      " 0.73990241 0.70436833 0.         0.         0.         0.73040932\n",
      " 0.73040932 0.66710625 0.98410954 0.         0.81193701 0.\n",
      " 0.         0.         0.29494287 1.         0.93564768 0.86314534\n",
      " 0.73557342 0.9119793  0.9119793  0.89819683 0.89819683 0.75538498\n",
      " 0.96335988 0.96335988 0.91790334 0.86806086 0.86806086 0.82397231\n",
      " 0.71284274 0.66788539 0.6702579  1.         0.73649857 0.63299119\n",
      " 0.88387989 0.88387989 0.43376011 0.61300749 0.46425125 0.3343483\n",
      " 0.9848144  0.51552514 1.         1.         0.46312718 0.579595\n",
      " 0.579595   0.51719947 0.         0.         0.60649995 0.60649995\n",
      " 1.         1.         0.46766596 0.47797312 0.         1.\n",
      " 1.         0.         0.         0.2149135  0.89128193 0.89128193\n",
      " 0.99607823 0.62724022 0.63736377 0.88183448 0.88183448 0.30334408\n",
      " 0.91776819 0.93326331 1.         0.93565567 0.93565567 0.\n",
      " 0.85537514 0.85537514 0.         0.89559716 0.54880419 1.\n",
      " 1.         1.         0.76371683 0.4370116  0.73031203 1.\n",
      " 0.52758366 0.         0.         0.5370514  0.66985582 0.83514833\n",
      " 0.34985382 0.         0.86427776 0.         0.35150972 0.35150972\n",
      " 0.         0.         0.31331637 0.50019897 0.88726487 0.34062869\n",
      " 0.         0.         0.56597869 0.21313899 0.         0.29691111\n",
      " 0.44953066 0.27075776 0.         0.         0.15949208 0.39552469\n",
      " 0.21021934 0.         0.2383811  0.51688809 0.40409986 0.31900855\n",
      " 0.         0.         0.         0.20670473 0.43660197 0.12075146\n",
      " 0.         0.32033547 0.40483566 0.4408373  1.         0.54895591\n",
      " 0.6643018  0.80881287 0.80881287 0.60511549 0.91229049 0.83874591\n",
      " 0.86042662 0.66655334 0.84930504 0.84930504 0.84401976 0.71858219\n",
      " 0.86713712 0.86713712 0.49384554 0.80810813 0.62974163 0.8710043\n",
      " 0.8710043  0.73870958 0.73870958 1.         1.         0.47159359\n",
      " 0.75721227 0.75721227 0.643618   0.73840927 0.73840927 0.82824835\n",
      " 0.82824835 0.64912703 0.90416124 0.         0.84870111 0.\n",
      " 1.         0.99731882 0.72411574 0.         0.91381839 0.19663444\n",
      " 0.80152809 0.64275383 0.88863023 0.88863023 1.         1.\n",
      " 0.43445124 1.         0.68331283 0.92770099 0.92770099 0.92770099\n",
      " 0.92176017 0.92176017 0.92176017 1.         1.         1.\n",
      " 0.94013295 0.94013295 0.94013295 0.         0.         0.\n",
      " 0.92701232 0.92701232 0.52847451 0.         0.         1.\n",
      " 0.66758387 0.64045039 0.         0.69714529 0.59700143 0.\n",
      " 0.95461635 0.95461635 0.22555441 0.         0.         0.8795075\n",
      " 0.73647957 0.82030466 0.58786523 0.80379818 0.80379818 0.77916647\n",
      " 0.77916647 1.         1.         0.36132513 0.90839054 0.\n",
      " 0.578888   0.         0.         0.8590847  0.8590847  0.\n",
      " 0.94894433 0.         0.         0.95153777 0.95153777 0.\n",
      " 0.94327946 0.94327946 0.         0.82309581 0.82309581 0.\n",
      " 0.90730244 0.69021976 0.         0.         1.         0.\n",
      " 0.70235302 0.70235302 0.         0.268806   0.         0.\n",
      " 0.48117225 1.         1.         0.87798835 0.87798835 0.57585002\n",
      " 0.609054   0.91916241 0.97582975 0.         0.94727824 0.54669488\n",
      " 0.80976684 0.89852134 0.89628056 0.89628056 0.93709617 0.93709617\n",
      " 0.         0.71309943 1.         0.         0.         0.61994119\n",
      " 0.         0.         0.         0.69171608 0.69171608 0.\n",
      " 0.67116821 0.72856586 0.         0.         0.98692509 0.98692509\n",
      " 0.45030667]\n"
     ]
    },
    {
     "name": "stderr",
     "output_type": "stream",
     "text": [
      "/Users/vanessasalgado/Desktop/E4E-Acoustics.nosync/PyHa/PyHa/annotation_post_processing.py:213: SettingWithCopyWarning: \n",
      "A value is trying to be set on a copy of a slice from a DataFrame.\n",
      "Try using .loc[row_indexer,col_indexer] = value instead\n",
      "\n",
      "See the caveats in the documentation: https://pandas.pydata.org/pandas-docs/stable/user_guide/indexing.html#returning-a-view-versus-a-copy\n",
      "  #Init list of clips to cycle through and output dataframe\n"
     ]
    },
    {
     "name": "stdout",
     "output_type": "stream",
     "text": [
      "target 361\n",
      "confidence 361\n",
      "automated df 361\n",
      "[1. 1. 0. 1. 1. 1. 1. 1. 1. 1. 1. 1. 1. 1. 1. 1. 1. 1. 0. 1. 1. 1. 1. 1.\n",
      " 1. 1. 1. 1. 1. 1. 1. 1. 0. 1. 1. 1. 0. 0. 1. 1. 1. 1. 1. 1. 1. 1. 0. 0.\n",
      " 1. 1. 1. 1. 1. 1. 1. 1. 0. 1. 1. 0. 1. 1. 1. 1. 1. 1. 1. 1. 1. 1. 1. 1.\n",
      " 1. 1. 1. 1. 1. 1. 1. 1. 1. 1. 1. 1. 1. 1. 1. 1. 1. 1. 1. 1. 1. 1. 1. 1.\n",
      " 1. 1. 1. 1. 1. 1. 1. 0. 1. 1. 1. 1. 1. 1. 1. 0. 1. 1. 1. 1. 1. 1. 1. 1.\n",
      " 1. 1. 1. 1. 1. 1. 1. 1. 1. 1. 1. 1. 1. 1. 1. 1. 1. 1. 1. 1. 1. 1. 1. 1.\n",
      " 1. 1. 1. 1. 1. 1. 1. 1. 1. 1. 1. 1. 1. 1. 1. 1. 1. 1. 1. 1. 1. 1. 1. 1.\n",
      " 1. 1. 1. 1. 1. 1. 1. 1. 1. 1. 0. 1. 0. 1. 1. 1. 1. 1. 1. 1. 1. 1. 1. 1.\n",
      " 1. 1. 1. 1. 1. 1. 1. 1. 1. 1. 1. 0. 1. 1. 1. 1. 1. 1. 1. 1. 1. 0. 1. 1.\n",
      " 1. 1. 1. 1. 1. 1. 1. 1. 1. 1. 1. 1. 1. 1. 1. 1. 1. 1. 1. 1. 1. 1. 1. 1.\n",
      " 1. 1. 1. 1. 1. 1. 1. 1. 1. 1. 1. 1. 1. 1. 1. 1. 1. 1. 1. 1. 1. 1. 1. 1.\n",
      " 1. 1. 1. 1. 1. 1. 1. 1. 1. 1. 1. 1. 1. 1. 1. 1. 1. 1. 1. 1. 1. 1. 1. 1.\n",
      " 1. 1. 1. 1. 1. 1. 1. 1. 1. 1. 1. 1. 1. 1. 1. 1. 1. 1. 1. 1. 1. 1. 1. 1.\n",
      " 1. 1. 1. 1. 1. 1. 1. 1. 1. 1. 1. 1. 1. 1. 1. 1. 1. 1. 1. 1. 1. 1. 1. 1.\n",
      " 1. 1. 1. 1. 1. 1. 1. 1. 1. 1. 1. 1. 1. 1. 1. 1. 1. 1. 1. 1. 1. 1. 1. 1.\n",
      " 1.]\n",
      "[1.         0.96688887 0.31617767 0.79893561 0.9658375  0.9658375\n",
      " 0.93300301 0.85388456 0.93191031 0.93191031 0.85315811 0.97813046\n",
      " 0.98095616 0.98095616 0.81713083 0.73217127 1.         0.97922394\n",
      " 0.         0.69038302 0.59100008 0.82836308 0.82836308 0.803263\n",
      " 0.65365685 0.69209617 0.7620456  0.7620456  0.51147099 0.42356909\n",
      " 0.5586936  0.63757388 1.         0.68639819 0.57656845 0.75276583\n",
      " 0.68041012 0.85883217 0.96533413 0.96533413 1.         1.\n",
      " 0.96180992 0.96180992 0.8500254  0.87908008 0.         0.15922038\n",
      " 1.         1.         1.         1.         1.         0.90187802\n",
      " 0.82664032 0.89463929 0.86311557 0.89748473 0.89748473 0.86531401\n",
      " 0.74289642 0.81928168 0.81928168 0.73793543 0.73793543 0.72193304\n",
      " 0.74129618 0.90452753 0.66910075 0.693964   0.88213616 1.\n",
      " 1.         0.75033532 0.37758134 0.80900757 0.80900757 0.74264617\n",
      " 0.42447684 0.84195787 0.84195787 0.3837055  0.44334679 0.75397709\n",
      " 0.89749717 0.71427262 0.95644005 0.         0.92854645 0.65083569\n",
      " 0.49944555 0.         0.90050204 0.30827298 0.91053522 0.\n",
      " 0.         0.24919716 0.         0.         0.28976935 0.82634438\n",
      " 0.82634438 1.         0.74890296 0.75863044 0.75323608 0.74787968\n",
      " 0.8693292  0.49860552 0.65801086 0.         0.74041494 0.83091431\n",
      " 0.70160683 0.76932309 0.7844385  0.994952   0.74808065 0.2968804\n",
      " 0.69694133 0.70233633 0.70233633 0.65517413 0.80991252 0.96861835\n",
      " 0.7463167  0.96103478 0.96103478 0.81517175 0.81517175 0.84170482\n",
      " 0.9814253  0.9814253  0.84471479 0.97369302 1.         1.\n",
      " 0.72832173 0.84580292 0.84580292 0.9171808  0.41218547 1.\n",
      " 0.89145833 0.89145833 0.9697349  0.9697349  0.87912135 0.89442639\n",
      " 1.         1.         0.96883949 0.75450073 0.79064851 0.86928318\n",
      " 0.74886514 0.90561442 1.         1.         0.         0.83282507\n",
      " 0.9566461  0.75088279 0.86218356 0.76311559 0.78531726 0.94111997\n",
      " 0.75062903 0.99496365 0.84061987 0.74366673 0.6925657  0.90661271\n",
      " 0.99373213 0.99373213 1.         0.81244625 0.9454017  0.9454017\n",
      " 1.         1.         1.         1.         0.99506559 0.98109924\n",
      " 0.83631101 0.83631101 0.64826161 0.61779187 0.83203365 0.53987125\n",
      " 0.87492648 1.         0.93454762 0.11925878 0.20741067 0.20741067\n",
      " 0.38126892 0.50673836 0.         0.78480503 1.         1.\n",
      " 0.94363328 0.41333064 0.         0.69031123 0.69031123 0.17200732\n",
      " 0.2534806  0.30229011 0.         1.         0.85277814 0.93278819\n",
      " 1.         1.         0.48149039 0.48149039 0.88733986 0.76561654\n",
      " 0.         0.94628129 0.66974655 0.90392312 0.89373039 0.91050498\n",
      " 0.83646006 0.95212719 0.70472607 0.97114433 0.81996945 0.85685463\n",
      " 0.57101264 0.50852519 0.69207911 0.75422809 0.61395945 0.69076393\n",
      " 0.64243016 0.36016095 1.         1.         0.89923459 0.98248121\n",
      " 1.         0.9032992  0.9032992  0.87816353 0.91836951 0.91836951\n",
      " 0.84796338 0.95422224 0.95422224 0.78807225 0.88515073 0.76750456\n",
      " 0.94593891 0.85198348 0.85198348 0.84729497 0.83761372 0.83761372\n",
      " 0.97412608 0.97412608 1.         1.         0.93079662 1.\n",
      " 1.         1.         1.         1.         1.         0.87358791\n",
      " 0.87045737 0.87045737 0.87045737 0.87045737 0.84362266 0.90266255\n",
      " 0.90266255 0.86498563 0.86498563 0.87293564 0.87293564 0.87293564\n",
      " 0.97369366 0.97369366 1.         1.         0.92993917 0.92993917\n",
      " 0.92993917 0.86486832 0.87100503 0.87100503 0.76112969 0.88952119\n",
      " 1.         1.         0.92127894 0.9609802  0.9609802  0.94960869\n",
      " 0.94960869 0.93871965 0.73566032 0.79577747 0.91263016 0.95196307\n",
      " 0.97844364 0.97844364 0.75139579 0.94169488 0.94169488 0.54152407\n",
      " 0.744506   1.         1.         1.         0.88120468 0.8983799\n",
      " 0.3065973  0.83019739 0.82299165 0.53024309 0.51680978 0.\n",
      " 0.32984082 0.70981636 0.19605241 0.72025287 0.         0.54827178\n",
      " 0.62357447 0.95537829 0.95537829 0.95537829 0.79552126 0.85158435\n",
      " 1.         0.96056727 0.81178936 0.9029506  0.98795824 0.94186891\n",
      " 1.         0.70733377 0.79388415 0.87612928 0.87612928 1.\n",
      " 0.85609288 0.79435195 0.75004798 0.98729439 0.98729439 0.70823435\n",
      " 0.86447894]\n"
     ]
    },
    {
     "name": "stderr",
     "output_type": "stream",
     "text": [
      "/Users/vanessasalgado/Desktop/E4E-Acoustics.nosync/PyHa/PyHa/annotation_post_processing.py:213: SettingWithCopyWarning: \n",
      "A value is trying to be set on a copy of a slice from a DataFrame.\n",
      "Try using .loc[row_indexer,col_indexer] = value instead\n",
      "\n",
      "See the caveats in the documentation: https://pandas.pydata.org/pandas-docs/stable/user_guide/indexing.html#returning-a-view-versus-a-copy\n",
      "  #Init list of clips to cycle through and output dataframe\n"
     ]
    },
    {
     "name": "stdout",
     "output_type": "stream",
     "text": [
      "target 534\n",
      "confidence 534\n",
      "automated df 534\n",
      "[1. 1. 0. 1. 1. 0. 0. 1. 1. 0. 0. 1. 1. 1. 1. 1. 0. 1. 1. 1. 1. 1. 1. 1.\n",
      " 1. 1. 1. 1. 1. 1. 1. 1. 1. 1. 1. 1. 0. 1. 1. 1. 1. 1. 1. 0. 1. 1. 1. 0.\n",
      " 1. 1. 1. 1. 0. 1. 1. 1. 1. 1. 1. 1. 1. 1. 1. 1. 1. 1. 1. 1. 1. 0. 0. 1.\n",
      " 1. 1. 0. 0. 0. 1. 1. 1. 1. 1. 1. 1. 0. 0. 0. 0. 0. 0. 0. 0. 0. 0. 0. 0.\n",
      " 0. 0. 0. 0. 0. 0. 0. 0. 0. 0. 0. 0. 0. 0. 0. 0. 0. 0. 0. 0. 0. 0. 0. 0.\n",
      " 0. 0. 0. 0. 0. 0. 0. 0. 0. 0. 0. 0. 0. 0. 0. 0. 0. 0. 0. 0. 0. 0. 0. 0.\n",
      " 0. 0. 0. 0. 0. 0. 0. 0. 0. 0. 0. 0. 1. 1. 1. 1. 1. 1. 1. 1. 1. 1. 1. 1.\n",
      " 1. 1. 1. 1. 1. 1. 1. 1. 1. 1. 1. 1. 1. 1. 1. 0. 1. 1. 1. 1. 0. 1. 1. 1.\n",
      " 1. 1. 1. 0. 1. 1. 1. 0. 0. 0. 0. 0. 0. 0. 0. 0. 0. 0. 0. 0. 0. 0. 0. 1.\n",
      " 1. 0. 1. 1. 1. 1. 1. 1. 0. 1. 1. 1. 0. 1. 1. 1. 0. 0. 0. 0. 0. 0. 0. 0.\n",
      " 1. 1. 0. 0. 0. 0. 0. 0. 0. 0. 0. 0. 0. 0. 0. 0. 0. 0. 0. 1. 1. 1. 0. 1.\n",
      " 0. 1. 1. 1. 1. 1. 0. 0. 0. 0. 1. 1. 1. 1. 1. 0. 0. 0. 1. 1. 1. 1. 0. 0.\n",
      " 1. 1. 0. 0. 0. 1. 1. 0. 0. 0. 0. 0. 0. 0. 0. 1. 1. 1. 0. 1. 1. 1. 1. 1.\n",
      " 1. 0. 1. 0. 1. 0. 1. 1. 1. 1. 1. 1. 1. 0. 1. 1. 1. 1. 1. 1. 1. 1. 1. 1.\n",
      " 1. 1. 1. 0. 1. 0. 0. 0. 1. 1. 0. 1. 1. 0. 0. 0. 0. 0. 0. 0. 0. 0. 0. 0.\n",
      " 0. 0. 0. 0. 0. 0. 0. 1. 1. 1. 1. 1. 1. 1. 0. 1. 1. 1. 1. 0. 0. 1. 1. 1.\n",
      " 1. 1. 0. 1. 1. 1. 0. 0. 1. 1. 1. 0. 0. 0. 0. 0. 0. 0. 0. 0. 0. 0. 0. 0.\n",
      " 1. 1. 0. 0. 1. 1. 1. 1. 1. 1. 1. 1. 1. 1. 0. 1. 1. 1. 0. 1. 1. 1. 1. 1.\n",
      " 0. 1. 1. 1. 0. 1. 1. 0. 0. 0. 0. 0. 1. 1. 0. 0. 0. 0. 0. 1. 0. 0. 0. 0.\n",
      " 0. 0. 0. 0. 1. 1. 0. 1. 1. 0. 0. 0. 0. 0. 1. 1. 0. 0. 1. 1. 0. 0. 1. 0.\n",
      " 0. 0. 0. 0. 1. 1. 0. 0. 1. 1. 0. 0. 1. 0. 1. 1. 1. 0. 0. 0. 0. 1. 0. 0.\n",
      " 1. 1. 1. 1. 1. 1. 1. 0. 1. 1. 1. 1. 0. 0. 0. 0. 0. 0. 0. 0. 0. 0. 0. 0.\n",
      " 0. 0. 1. 1. 0. 1.]\n",
      "[0.88875315 0.76123468 0.42964213 0.86108331 0.86108331 0.19661337\n",
      " 0.50054518 0.8262912  0.89557302 0.24069805 0.19290957 1.\n",
      " 1.         1.         1.         0.76855734 0.49708375 0.95555908\n",
      " 1.         1.         0.88973869 0.54764932 0.5647337  0.5647337\n",
      " 0.5905429  0.64896514 0.74668619 0.74668619 0.68529951 0.90484909\n",
      " 0.90484909 0.74276678 0.43183163 0.85051132 0.85051132 0.59353708\n",
      " 0.11073301 0.50176814 0.56903705 0.56903705 1.         1.\n",
      " 1.         0.51554324 0.8493159  0.8493159  0.8493159  0.\n",
      " 1.         1.         0.89615809 0.89615809 0.89615809 0.93400903\n",
      " 0.93400903 0.92521042 0.92521042 0.         0.5837912  0.5837912\n",
      " 1.         1.         0.18798387 0.96843688 0.96843688 0.57153267\n",
      " 0.57153267 0.88260434 0.88260434 0.5680164  0.         0.49119548\n",
      " 0.86897252 0.86897252 0.2668819  0.29709685 0.3645708  0.99775675\n",
      " 0.99775675 0.83896723 0.83896723 0.46087729 1.         1.\n",
      " 0.76630094 0.76630094 0.84729028 0.84729028 0.84265985 0.84265985\n",
      " 0.67710319 0.81845654 0.58790636 0.7453173  0.7453173  0.91054054\n",
      " 0.91054054 0.75313053 0.75313053 0.71481114 0.71481114 0.7861669\n",
      " 0.7861669  0.2846869  0.34066198 0.35498607 0.72724607 0.72724607\n",
      " 0.87328369 0.87328369 0.83834836 0.83834836 0.1234455  0.5221847\n",
      " 0.93025702 0.50452413 0.80442389 0.34967849 0.46407901 0.26691782\n",
      " 0.3159264  0.44834929 0.69709007 0.69709007 0.55799032 0.55799032\n",
      " 0.         0.660508   0.67039722 0.         0.         0.84163588\n",
      " 0.84163588 0.70343069 0.78488748 0.78550056 0.43531191 0.94177871\n",
      " 0.94177871 0.57017882 0.49507554 0.33938269 0.2397655  0.83225218\n",
      " 0.83225218 0.78041059 0.81875241 0.81875241 0.79355808 0.29602837\n",
      " 0.59880692 0.59254803 0.67265395 0.55881579 0.61203474 0.30548973\n",
      " 0.89321468 0.89321468 0.55523806 0.87814804 0.87814804 1.\n",
      " 1.         1.         1.         0.88707499 0.88707499 0.68566419\n",
      " 0.56738397 0.60109779 0.59662867 0.99743906 0.99743906 0.99743906\n",
      " 0.99743906 0.         0.45659514 0.99365734 0.99365734 0.99365734\n",
      " 0.99365734 0.99365734 0.99365734 0.         0.26696333 0.99722149\n",
      " 0.99722149 0.99722149 0.         1.         1.         1.\n",
      " 1.         0.93092363 1.         0.         0.50449065 0.95771936\n",
      " 0.95771936 0.99257051 0.99257051 0.88065856 0.88065856 0.88065856\n",
      " 0.91726307 0.91726307 0.59877305 0.95156513 0.95156513 1.\n",
      " 1.         0.         0.99336542 0.99336542 1.         1.\n",
      " 1.         0.59055637 0.89792426 0.89792426 0.27917164 1.\n",
      " 1.         0.75712502 0.         0.         0.82981225 0.82873031\n",
      " 0.         0.         0.99683989 0.7088527  0.         0.\n",
      " 0.         0.         0.         0.         0.         0.\n",
      " 0.9156893  0.9156893  0.         0.62209601 0.61403175 0.80149944\n",
      " 0.79264361 0.75584699 0.68719488 0.80419751 0.70615869 0.76204608\n",
      " 0.83103445 0.85804238 0.66308762 0.74608568 0.87944593 0.78351283\n",
      " 1.         1.         0.73723481 0.74023527 0.         0.5841654\n",
      " 0.         0.29924541 1.         1.         1.         1.\n",
      " 0.         0.         0.37652531 0.23445161 0.95570362 0.95570362\n",
      " 0.95570362 0.88300712 0.88300712 0.54244066 0.82364178 0.82364178\n",
      " 0.95566389 0.95566389 0.91886094 0.91886094 0.74555493 0.56269899\n",
      " 1.         1.         0.         0.         0.         0.44870292\n",
      " 1.         0.         0.21690201 0.23458486 0.         0.\n",
      " 0.         0.6952553  0.65172906 1.         0.82652529 0.80994063\n",
      " 0.47414345 0.         0.56981658 0.99864462 0.99864462 0.51082633\n",
      " 0.18616947 0.         0.68294015 0.6354687  0.6354687  0.27095386\n",
      " 0.84270007 0.73668302 0.95336574 1.         1.         1.\n",
      " 0.         0.         0.         0.         0.15813995 0.75668537\n",
      " 0.6753719  0.68632801 0.89142387 0.89142387 0.71715133 1.\n",
      " 0.60653309 0.         0.70316514 0.97858112 0.97858112 0.97858112\n",
      " 0.97858112 0.59197282 0.84282897 0.84282897 0.56793291 0.8725052\n",
      " 0.8725052  0.54419499 0.         0.44711675 0.84594077 1.\n",
      " 1.         0.56226556 0.55157009 0.74499284 0.74499284 0.77657051\n",
      " 0.7958706  0.85994851 0.85994851 0.93870293 0.93870293 0.\n",
      " 0.         0.98158864 0.98158864 0.98158864 1.         0.98877418\n",
      " 0.77657645 0.72413546 0.         0.28364217 0.77653034 0.80691736\n",
      " 0.80691736 0.         0.17598191 0.90529665 0.90529665 0.75728238\n",
      " 0.83120764 0.83120764 1.         1.         0.81755787 1.\n",
      " 0.         0.29030497 0.8987717  1.         1.         0.94509549\n",
      " 0.94509549 0.         0.93116298 0.93116298 0.93116298 0.84327818\n",
      " 0.84327818 0.35637141 0.61692622 0.61692622 0.36239254 0.\n",
      " 1.         1.         0.         0.         0.92955943 0.94054091\n",
      " 1.         0.98808337 1.         1.         1.         0.99868069\n",
      " 0.99868069 0.77949745 0.4458133  0.64318929 0.8535093  0.8535093\n",
      " 0.56698101 0.66664121 0.66664121 0.80212376 0.80212376 0.80212376\n",
      " 0.57433182 0.81408447 0.         0.86575484 0.         0.89365784\n",
      " 0.         0.         0.         0.         0.         0.\n",
      " 0.72241101 0.499643   0.38934286 0.         0.4203108  0.63219503\n",
      " 0.         0.2999603  0.         0.22603986 1.         0.\n",
      " 0.         0.27949762 0.         0.         0.98606555 0.98606555\n",
      " 0.         1.         1.         0.         0.86789637 0.86789637\n",
      " 0.93072749 0.93072749 1.         0.52523738 0.54904963 0.45900595\n",
      " 0.95163141 0.95163141 0.85277832 0.74003721 0.74003721 0.4849503\n",
      " 0.45171861 0.49632644 0.55802301 0.44951249 1.         1.\n",
      " 0.38561591 0.         0.82283003 0.82283003 0.         0.48472756\n",
      " 0.81252084 0.         0.92957942 0.92957942 0.72262735 0.92233927\n",
      " 0.92233927 0.         1.         1.         0.         0.\n",
      " 0.         0.         0.89344883 0.89344883 0.64026668 0.40516786\n",
      " 0.66744202 0.69573686 1.         1.         1.         0.\n",
      " 0.38878181 0.27429005 0.62110416 0.38796389 0.47696636 0.48785656\n",
      " 0.48785656 0.3594021  0.3594021  0.2417769  0.16143524 0.29385303\n",
      " 0.31034673 0.30568923 0.9147604  0.92670047 1.         1.        ]\n"
     ]
    },
    {
     "name": "stderr",
     "output_type": "stream",
     "text": [
      "/Users/vanessasalgado/Desktop/E4E-Acoustics.nosync/PyHa/PyHa/annotation_post_processing.py:213: SettingWithCopyWarning: \n",
      "A value is trying to be set on a copy of a slice from a DataFrame.\n",
      "Try using .loc[row_indexer,col_indexer] = value instead\n",
      "\n",
      "See the caveats in the documentation: https://pandas.pydata.org/pandas-docs/stable/user_guide/indexing.html#returning-a-view-versus-a-copy\n",
      "  #Init list of clips to cycle through and output dataframe\n"
     ]
    },
    {
     "name": "stdout",
     "output_type": "stream",
     "text": [
      "target 345\n",
      "confidence 344\n",
      "automated df 344\n",
      "[1. 1. 1. 1. 1. 1. 1. 1. 1. 1. 1. 1. 1. 0. 1. 1. 1. 0. 1. 1. 1. 1. 1. 1.\n",
      " 0. 0. 0. 0. 0. 0. 1. 1. 1. 1. 1. 1. 1. 1. 1. 0. 1. 1. 0. 0. 1. 0. 0. 1.\n",
      " 1. 1. 1. 1. 1. 1. 1. 1. 1. 0. 1. 1. 1. 1. 1. 0. 1. 1. 1. 1. 1. 0. 0. 1.\n",
      " 1. 1. 1. 1. 1. 1. 1. 1. 1. 1. 1. 1. 1. 1. 1. 1. 0. 0. 0. 1. 0. 0. 0. 0.\n",
      " 0. 0. 1. 1. 1. 1. 1. 0. 0. 0. 1. 1. 0. 1. 1. 1. 1. 0. 1. 0. 1. 1. 0. 0.\n",
      " 0. 0. 0. 1. 1. 0. 0. 0. 1. 1. 0. 0. 1. 0. 0. 1. 1. 0. 0. 1. 0. 0. 0. 1.\n",
      " 1. 0. 1. 1. 0. 1. 1. 1. 0. 1. 1. 1. 0. 1. 0. 1. 1. 0. 1. 1. 0. 0. 0. 0.\n",
      " 0. 1. 0. 1. 1. 1. 1. 1. 1. 0. 1. 1. 1. 1. 1. 1. 1. 1. 1. 1. 1. 0. 1. 0.\n",
      " 0. 0. 0. 0. 1. 1. 0. 0. 1. 1. 0. 0. 1. 1. 1. 0. 0. 1. 1. 1. 1. 1. 1. 0.\n",
      " 0. 0. 1. 1. 0. 0. 0. 0. 1. 1. 1. 1. 1. 1. 1. 1. 1. 0. 1. 0. 1. 1. 1. 1.\n",
      " 0. 1. 1. 1. 1. 0. 0. 1. 1. 0. 0. 0. 0. 1. 1. 0. 0. 0. 0. 1. 1. 1. 0. 0.\n",
      " 0. 0. 0. 0. 1. 1. 1. 1. 0. 1. 0. 1. 1. 1. 1. 1. 0. 1. 1. 1. 1. 1. 1. 1.\n",
      " 0. 0. 1. 1. 1. 1. 1. 1. 1. 1. 1. 1. 1. 1. 1. 1. 1. 1. 1. 0. 0. 1. 1. 1.\n",
      " 1. 0. 1. 1. 1. 1. 1. 1. 1. 1. 1. 1. 1. 1. 1. 1. 1. 1. 1. 1. 1. 1. 1. 1.\n",
      " 1. 1. 1. 1. 1. 1. 1. 1. 1.]\n",
      "[1.         1.         0.70658088 0.63842994 0.7606839  0.\n",
      " 0.91053036 0.7780526  0.68559216 0.6791226  0.79971888 0.74610003\n",
      " 0.70535289 0.         0.66273102 1.         0.73656616 0.25770699\n",
      " 0.65915987 0.32375071 0.33290022 0.40611367 0.39023795 0.43523555\n",
      " 0.67032499 0.         1.         0.62325362 0.34247569 0.\n",
      " 0.55485676 0.69777498 0.6553984  0.39771066 0.56850027 0.75193373\n",
      " 0.65029706 0.93782927 0.93782927 0.7580239  0.7580239  0.99942862\n",
      " 0.99942862 0.99942862 1.         1.         1.         0.65361186\n",
      " 0.91812877 1.         0.38078508 0.67585252 0.84079834 0.67455834\n",
      " 0.98749967 0.84626912 0.84626912 0.80746567 0.80746567 0.93555265\n",
      " 1.         0.4571964  0.38567755 0.61115639 0.74675846 0.9518033\n",
      " 0.9518033  0.82944941 0.         0.         0.54660437 0.93913756\n",
      " 0.80536355 0.93280279 0.53390392 1.         0.873562   0.8658335\n",
      " 0.85971162 0.82611985 0.86912749 0.86912749 0.79793609 0.75455461\n",
      " 0.6150126  0.40920986 0.29130706 0.94890744 0.94890744 0.\n",
      " 0.64335015 0.54323203 0.54323203 0.25313985 0.         0.3416142\n",
      " 0.         0.55148086 0.76844902 0.20848376 0.         0.\n",
      " 0.         0.35600264 0.         0.25046398 0.37256714 0.\n",
      " 0.88715321 0.88715321 0.         0.24099019 0.         0.86999832\n",
      " 0.47786112 0.94809662 0.94809662 0.         0.98357095 0.\n",
      " 0.87530902 0.95198745 1.         0.         0.         0.58333007\n",
      " 0.98977623 0.793928   0.90141738 0.         0.         0.\n",
      " 0.         0.         0.         0.         0.         0.\n",
      " 0.66285364 0.         0.         0.         1.         0.97533375\n",
      " 0.66235568 0.66235568 0.53853503 0.         0.78238446 0.6014401\n",
      " 0.58986264 0.         0.58058493 0.98064431 0.72118108 0.7046517\n",
      " 0.35406965 0.1574419  0.83020608 1.         0.76905448 0.77463462\n",
      " 0.75612524 0.         0.73519224 0.         0.         0.\n",
      " 0.65203831 0.         0.69461615 0.47088481 0.7097527  1.\n",
      " 0.78053797 0.92804672 0.92804672 1.         1.         0.86160493\n",
      " 0.86470634 0.77154671 0.88712414 0.94772233 0.         0.94077617\n",
      " 0.92394988 1.         0.         0.45880892 0.         0.\n",
      " 1.         1.         1.         0.83342629 0.83342629 0.81122868\n",
      " 0.71170027 0.53255846 0.53255846 0.46716612 0.55494314 0.55494314\n",
      " 0.8984113  0.92407486 0.92407486 0.79403375 0.60184712 0.26528854\n",
      " 1.         0.90379821 0.78579065 1.         0.         0.48902495\n",
      " 0.30317491 0.98835614 0.98835614 0.         0.         0.32038798\n",
      " 0.         0.86352362 0.86352362 0.71184833 1.         0.72472194\n",
      " 0.32999116 0.31026717 0.48195668 0.92327053 0.         0.70769472\n",
      " 0.         0.35858164 0.35858164 0.20738101 0.05225204 0.\n",
      " 0.73890107 0.69537377 1.         0.41007951 0.         0.\n",
      " 1.         0.78535895 0.         0.         0.         0.\n",
      " 0.         0.         0.         0.         0.         0.\n",
      " 0.89068251 0.89790975 0.82333581 0.15446004 0.92508093 0.92508093\n",
      " 0.         0.         0.         1.         1.         0.09088197\n",
      " 0.54300323 0.         0.25422567 0.         1.         1.\n",
      " 0.8140101  0.98419021 0.92517165 0.         0.56533167 0.45277326\n",
      " 0.45277326 0.43644162 0.43644162 0.26649519 0.33297794 0.38479771\n",
      " 0.77314639 0.77314639 0.53196846 0.93678459 0.93678459 0.90287488\n",
      " 1.         1.         0.8569729  0.84550184 0.84550184 0.94130383\n",
      " 0.94130383 0.         0.72616237 0.82623379 0.58818712 1.\n",
      " 0.         0.         0.40264271 0.90778972 0.74257933 1.\n",
      " 0.         0.39087682 0.51040129 0.55142945 0.72835815 0.76949393\n",
      " 0.76949393 0.51439216 0.38203704 0.34255175 0.61221228 0.94365762\n",
      " 0.86435729 1.         0.95770654 0.99335599 0.78485406 0.78485406\n",
      " 0.45612086 0.936821   0.71720719 0.92481103 0.90215897 0.80144688\n",
      " 0.80144688 0.90372925 0.51424066 0.74433449 0.69854302 0.37679563\n",
      " 0.40486813 0.28772039]\n"
     ]
    },
    {
     "name": "stderr",
     "output_type": "stream",
     "text": [
      "/Users/vanessasalgado/Desktop/E4E-Acoustics.nosync/PyHa/PyHa/annotation_post_processing.py:213: SettingWithCopyWarning: \n",
      "A value is trying to be set on a copy of a slice from a DataFrame.\n",
      "Try using .loc[row_indexer,col_indexer] = value instead\n",
      "\n",
      "See the caveats in the documentation: https://pandas.pydata.org/pandas-docs/stable/user_guide/indexing.html#returning-a-view-versus-a-copy\n",
      "  #Init list of clips to cycle through and output dataframe\n"
     ]
    },
    {
     "name": "stdout",
     "output_type": "stream",
     "text": [
      "target 617\n",
      "confidence 617\n",
      "automated df 617\n",
      "[1. 1. 1. 1. 1. 1. 1. 1. 1. 1. 1. 1. 1. 1. 1. 1. 1. 1. 0. 0. 0. 1. 1. 1.\n",
      " 0. 0. 0. 1. 1. 1. 0. 0. 1. 1. 1. 1. 1. 1. 1. 1. 1. 1. 1. 0. 1. 1. 1. 1.\n",
      " 1. 1. 1. 0. 1. 1. 0. 1. 1. 1. 1. 1. 0. 1. 1. 1. 1. 1. 1. 1. 1. 1. 1. 1.\n",
      " 0. 0. 1. 1. 1. 0. 0. 0. 1. 1. 1. 1. 1. 1. 1. 1. 1. 1. 1. 0. 1. 1. 0. 0.\n",
      " 0. 1. 1. 1. 1. 1. 1. 1. 1. 1. 1. 1. 1. 1. 1. 1. 1. 1. 1. 0. 1. 1. 1. 1.\n",
      " 0. 0. 1. 1. 1. 1. 1. 1. 1. 1. 0. 0. 1. 1. 1. 1. 0. 1. 1. 1. 1. 1. 0. 1.\n",
      " 1. 1. 1. 0. 0. 0. 0. 0. 0. 1. 1. 1. 1. 0. 1. 1. 1. 1. 1. 1. 1. 1. 1. 1.\n",
      " 1. 0. 0. 1. 1. 1. 1. 0. 0. 1. 1. 1. 1. 1. 0. 1. 1. 1. 1. 1. 1. 1. 1. 1.\n",
      " 1. 1. 0. 0. 0. 1. 1. 1. 0. 1. 0. 0. 1. 1. 1. 0. 1. 1. 1. 0. 0. 1. 1. 1.\n",
      " 0. 1. 1. 1. 0. 1. 1. 1. 0. 1. 1. 1. 1. 1. 1. 1. 1. 1. 1. 0. 0. 1. 1. 1.\n",
      " 1. 0. 1. 1. 1. 1. 1. 1. 1. 1. 1. 0. 0. 0. 1. 1. 1. 0. 1. 1. 1. 0. 0. 1.\n",
      " 1. 1. 0. 0. 1. 1. 0. 0. 1. 1. 1. 0. 0. 1. 1. 1. 0. 1. 1. 1. 0. 0. 1. 1.\n",
      " 1. 0. 1. 1. 1. 0. 1. 1. 1. 0. 0. 0. 1. 1. 1. 0. 1. 1. 1. 1. 0. 0. 1. 1.\n",
      " 1. 0. 1. 1. 0. 1. 1. 1. 0. 0. 1. 0. 1. 1. 1. 0. 1. 1. 1. 0. 0. 1. 1. 1.\n",
      " 1. 0. 0. 1. 1. 0. 1. 1. 0. 0. 0. 1. 1. 1. 1. 0. 0. 0. 0. 0. 0. 0. 1. 1.\n",
      " 1. 0. 0. 1. 1. 1. 1. 1. 0. 0. 0. 0. 0. 0. 1. 1. 0. 0. 0. 1. 1. 1. 0. 0.\n",
      " 1. 1. 1. 1. 1. 1. 0. 1. 1. 1. 1. 1. 0. 0. 1. 1. 1. 0. 1. 1. 1. 1. 1. 1.\n",
      " 1. 1. 1. 1. 1. 1. 0. 0. 0. 0. 0. 0. 0. 0. 0. 0. 0. 1. 0. 0. 1. 1. 1. 0.\n",
      " 0. 0. 0. 0. 0. 0. 0. 0. 0. 0. 0. 0. 1. 1. 1. 1. 1. 1. 1. 1. 1. 1. 1. 1.\n",
      " 1. 1. 1. 1. 1. 1. 1. 1. 0. 1. 1. 1. 1. 1. 1. 1. 1. 0. 0. 0. 0. 0. 0. 0.\n",
      " 0. 0. 0. 0. 0. 0. 0. 0. 0. 0. 0. 1. 1. 0. 1. 1. 1. 0. 0. 0. 0. 0. 0. 0.\n",
      " 0. 0. 0. 0. 0. 0. 0. 0. 0. 0. 0. 0. 0. 0. 0. 0. 0. 0. 0. 0. 0. 0. 0. 0.\n",
      " 0. 0. 0. 0. 0. 0. 0. 0. 0. 0. 0. 0. 0. 0. 0. 0. 0. 0. 0. 0. 0. 0. 0. 0.\n",
      " 0. 0. 0. 0. 0. 0. 0. 1. 1. 0. 0. 0. 0. 0. 0. 0. 0. 0. 0. 0. 0. 0. 0. 0.\n",
      " 0. 0. 0. 0. 0. 0. 0. 0. 0. 0. 1. 1. 0. 1. 1. 1. 1. 0. 0. 1. 0. 1. 1. 1.\n",
      " 0. 0. 0. 0. 1. 1. 0. 1. 1. 1. 1. 1. 1. 1. 1. 1. 1.]\n",
      "[0.95022639 0.70435091 0.76109296 0.         0.91018576 0.\n",
      " 1.         1.         0.         0.72893915 0.72905664 0.65696924\n",
      " 0.72157164 0.80578995 0.99408684 0.99408684 1.         1.\n",
      " 0.         0.42054278 0.         0.26741376 0.86418185 0.79927277\n",
      " 0.         0.         0.         0.         0.50195981 0.31344392\n",
      " 0.         0.         0.95081525 0.9817807  0.9817807  0.8700049\n",
      " 0.52419454 0.96640921 0.96640921 0.95656687 0.95656687 0.91633112\n",
      " 0.91633112 0.91633112 1.         1.         0.69933693 0.89228352\n",
      " 0.89228352 0.87647499 0.87647499 0.         0.81318066 0.81318066\n",
      " 0.         0.74436159 0.74436159 0.74436159 0.60016493 0.60016493\n",
      " 0.80133676 1.         0.90353236 0.56037486 0.95419463 0.95419463\n",
      " 0.95419463 0.89447748 0.96166209 0.96166209 0.49310102 0.50383786\n",
      " 0.         0.         0.62397076 0.         0.         0.\n",
      " 0.         0.         0.         1.         0.6521585  0.\n",
      " 0.         0.72320184 1.         0.84528873 0.88359633 0.88359633\n",
      " 0.86371153 0.74724851 0.86386575 0.86386575 0.79467552 0.83423461\n",
      " 0.83423461 0.92560116 0.92560116 0.92560116 0.81982597 0.81982597\n",
      " 0.71787084 1.         1.         1.         1.         1.\n",
      " 1.         1.         1.         1.         1.         0.81937999\n",
      " 0.81937999 0.8761327  0.8761327  0.         0.92430774 0.92430774\n",
      " 0.69636603 0.43124385 0.         0.86931302 0.56577573 0.91029377\n",
      " 0.91029377 0.91029377 0.95190446 0.95190446 0.17498439 0.27015256\n",
      " 0.93142622 0.93142622 1.         1.         0.28211346 0.92268095\n",
      " 0.92268095 0.99048784 0.99048784 0.99048784 0.         0.98791568\n",
      " 0.82173984 0.84694875 0.         0.71435887 0.45652244 0.\n",
      " 0.52141681 0.52260614 0.52260614 0.70274784 0.45163552 0.78187185\n",
      " 0.81094534 0.         0.70052131 0.99762815 0.88386078 0.87566392\n",
      " 1.         1.         0.58894843 0.79455445 0.79455445 0.69903615\n",
      " 0.         0.         0.         0.62947614 1.         1.\n",
      " 0.9197498  0.         0.         0.9998831  0.9998831  0.69188622\n",
      " 0.81131244 0.81131244 0.32579563 0.33514372 1.         1.\n",
      " 1.         0.         0.78437557 0.91275196 0.91275196 1.\n",
      " 1.         0.93166096 0.         0.         0.         0.76431659\n",
      " 0.76431659 0.         0.88760448 0.         0.         0.17400508\n",
      " 0.20656913 0.51526291 0.79685196 0.         0.         0.\n",
      " 0.         0.         0.         0.61916786 0.8575074  0.81495421\n",
      " 0.         0.25284069 0.9658033  0.9658033  0.         0.78630861\n",
      " 0.78630861 0.62676948 0.         0.         0.20211734 0.20211734\n",
      " 0.46060438 1.         1.         0.7917896  0.89455714 0.89455714\n",
      " 0.         0.         0.55625365 0.46435201 1.         1.\n",
      " 1.         0.         0.         0.49985514 0.47791064 0.\n",
      " 0.62104821 0.93018773 0.         0.71721386 0.71721386 0.\n",
      " 0.         0.         0.63726143 0.7743792  0.71296115 0.\n",
      " 0.         0.8973537  0.92150415 0.         0.         0.\n",
      " 1.         1.         0.         0.         0.87904489 0.74516942\n",
      " 0.42627432 0.         0.         0.         0.         0.\n",
      " 0.         0.         0.49423493 0.         0.         0.36047747\n",
      " 0.36904223 0.75510261 0.         0.57930296 0.68736518 0.74363599\n",
      " 0.675967   0.         0.52928476 0.90414146 0.71023456 0.\n",
      " 0.         0.71462907 0.71462907 0.         0.         0.\n",
      " 0.79998401 0.65404944 0.6282946  0.         0.         0.89622464\n",
      " 0.89622464 0.         0.         0.         0.88532875 0.88532875\n",
      " 0.84389486 0.         0.42397681 0.68366958 0.         0.9322804\n",
      " 0.9322804  0.9322804  0.         0.         0.89126677 0.\n",
      " 0.9570802  0.75805315 0.65852295 0.         0.42063981 0.86264484\n",
      " 0.56134474 0.         0.         0.         0.53298897 0.68509988\n",
      " 0.59564732 0.         0.         0.69226465 0.82097636 0.\n",
      " 0.86042825 0.86042825 0.45920508 1.         1.         0.\n",
      " 0.         0.85004319 0.58503144 0.         0.         0.\n",
      " 0.         0.         0.37466703 0.         0.8181319  0.8181319\n",
      " 0.         0.         0.         0.         0.68305589 0.7319163\n",
      " 0.7319163  0.         0.         0.         0.         0.\n",
      " 0.         0.         0.         0.69988121 0.52059991 1.\n",
      " 1.         0.98845869 0.98845869 0.98845869 0.         0.43297753\n",
      " 0.8200085  0.8200085  0.64455036 0.76731769 0.76731769 0.66423462\n",
      " 1.         1.         0.         0.66586954 0.73084514 0.73084514\n",
      " 0.         0.91737081 0.91737081 0.9339755  0.9339755  0.76414269\n",
      " 0.62397549 0.62397549 0.53699599 0.         0.40423306 0.\n",
      " 0.60348659 0.50822449 0.4779432  0.45770489 0.65722543 0.85162597\n",
      " 0.85162597 0.85162597 0.85162597 0.85162597 0.83818221 0.81684025\n",
      " 0.98239993 0.98239993 0.98239993 0.98239993 0.98239993 1.\n",
      " 1.         1.         0.97090042 0.97090042 0.97090042 0.97090042\n",
      " 0.74159665 0.7652907  0.7652907  0.67416338 0.67416338 0.76571048\n",
      " 0.         0.45149685 0.66922438 0.97280117 0.97280117 0.\n",
      " 0.99720491 0.99720491 0.99720491 0.99720491 1.         1.\n",
      " 1.         0.         0.64829504 1.         1.         1.\n",
      " 0.60154    0.82162762 0.82162762 0.41119834 0.7342937  0.77201954\n",
      " 0.87706932 0.87706932 0.61377532 0.22919072 0.31423008 0.35906673\n",
      " 0.19922339 0.4670109  0.42101094 0.82443037 0.82443037 0.91159355\n",
      " 0.91159355 0.85988586 0.85988586 0.85988586 0.85988586 0.55835548\n",
      " 0.82086222 0.82086222 0.82086222 0.85687399 0.85687399 0.85687399\n",
      " 0.85687399 1.         1.         1.         1.         1.\n",
      " 0.68059556 0.73219627 0.63790585 0.63790585 0.43916647 0.39641008\n",
      " 0.         0.         0.58160168 0.         0.         0.\n",
      " 0.         0.         0.         0.         0.         0.31217279\n",
      " 0.         0.         0.         0.         0.         0.\n",
      " 0.         0.17031516 0.         0.         0.         0.\n",
      " 0.23191354 0.5203377  0.5203377  0.         0.         0.\n",
      " 0.         0.         0.         0.97908838 0.97908838 0.97908838\n",
      " 0.         0.         0.         0.         0.30771031 0.\n",
      " 0.89120467 0.89120467 0.89120467 0.         0.21631568 0.53060259\n",
      " 0.34700443 0.61778166 0.61778166 0.         0.         0.\n",
      " 0.65051683 0.65051683 0.         1.         0.         0.96637323\n",
      " 0.95469943 0.95469943 0.95469943 0.95469943 0.58636144 0.61137721\n",
      " 0.         0.62327342 0.51393711 0.8862635  0.8862635  0.93020604\n",
      " 0.93020604 0.93020604 0.93020604 0.         0.89397396 0.89397396\n",
      " 1.         1.         1.         1.         0.39588206 0.62598607\n",
      " 0.62598607 0.93646474 0.93646474 0.93646474 0.90372685 1.\n",
      " 0.95499361 0.88943884 0.88943884 0.88943884 0.88943884 0.9131689\n",
      " 0.9131689  0.91039107 0.86360079 0.86360079 0.9123912  0.9123912\n",
      " 1.         1.         0.94046975 0.88485506 0.91133527 0.95930971\n",
      " 0.95930971 0.         0.95400807 0.95400807 0.89991062 1.\n",
      " 0.9229324  0.85749333 0.62279624 0.97989972 0.97989972]\n"
     ]
    },
    {
     "name": "stderr",
     "output_type": "stream",
     "text": [
      "/Users/vanessasalgado/Desktop/E4E-Acoustics.nosync/PyHa/PyHa/annotation_post_processing.py:213: SettingWithCopyWarning: \n",
      "A value is trying to be set on a copy of a slice from a DataFrame.\n",
      "Try using .loc[row_indexer,col_indexer] = value instead\n",
      "\n",
      "See the caveats in the documentation: https://pandas.pydata.org/pandas-docs/stable/user_guide/indexing.html#returning-a-view-versus-a-copy\n",
      "  #Init list of clips to cycle through and output dataframe\n"
     ]
    },
    {
     "name": "stdout",
     "output_type": "stream",
     "text": [
      "target 663\n",
      "confidence 663\n",
      "automated df 663\n",
      "[1. 1. 1. 1. 1. 1. 1. 1. 1. 1. 1. 1. 1. 1. 1. 1. 1. 1. 0. 1. 1. 1. 1. 1.\n",
      " 1. 1. 1. 0. 1. 1. 1. 1. 1. 1. 1. 1. 1. 1. 1. 1. 1. 1. 1. 1. 1. 0. 0. 0.\n",
      " 0. 0. 0. 1. 1. 1. 1. 1. 0. 1. 0. 1. 1. 1. 1. 1. 1. 1. 1. 1. 0. 1. 1. 1.\n",
      " 1. 1. 0. 0. 0. 1. 1. 0. 0. 1. 1. 0. 1. 1. 0. 0. 0. 1. 0. 1. 1. 0. 1. 1.\n",
      " 1. 1. 0. 1. 1. 1. 1. 1. 1. 1. 1. 1. 1. 1. 1. 1. 1. 1. 1. 1. 1. 1. 1. 1.\n",
      " 1. 0. 1. 1. 1. 1. 1. 1. 1. 1. 1. 0. 0. 1. 1. 1. 1. 1. 0. 1. 1. 1. 1. 1.\n",
      " 1. 1. 1. 1. 1. 0. 0. 0. 1. 1. 1. 1. 1. 1. 1. 1. 1. 1. 1. 1. 1. 1. 0. 0.\n",
      " 1. 1. 1. 1. 1. 1. 1. 1. 1. 1. 1. 1. 1. 1. 1. 1. 0. 1. 1. 1. 1. 1. 1. 1.\n",
      " 1. 1. 1. 1. 1. 1. 1. 0. 1. 1. 1. 1. 1. 1. 1. 0. 1. 1. 1. 1. 0. 1. 0. 1.\n",
      " 1. 1. 1. 1. 0. 0. 0. 1. 0. 1. 1. 1. 1. 1. 1. 1. 1. 1. 0. 0. 0. 1. 1. 1.\n",
      " 1. 1. 1. 1. 1. 1. 1. 1. 1. 1. 1. 0. 1. 1. 1. 1. 1. 1. 1. 1. 0. 0. 0. 0.\n",
      " 0. 1. 1. 1. 1. 0. 1. 0. 1. 0. 1. 1. 1. 0. 1. 0. 0. 1. 1. 0. 1. 1. 1. 0.\n",
      " 1. 0. 1. 1. 1. 1. 1. 1. 1. 1. 1. 1. 1. 1. 1. 1. 1. 1. 1. 1. 1. 1. 0. 1.\n",
      " 0. 1. 1. 1. 1. 1. 1. 0. 0. 1. 1. 1. 1. 1. 1. 1. 1. 1. 1. 1. 0. 1. 1. 1.\n",
      " 1. 1. 1. 0. 0. 0. 0. 1. 1. 1. 1. 1. 1. 1. 1. 1. 1. 1. 1. 1. 1. 1. 1. 0.\n",
      " 0. 1. 1. 1. 1. 1. 1. 1. 1. 1. 0. 0. 1. 1. 1. 1. 1. 1. 1. 1. 1. 1. 1. 1.\n",
      " 1. 1. 1. 1. 1. 1. 1. 1. 1. 1. 1. 0. 1. 1. 1. 1. 1. 1. 1. 1. 1. 1. 1. 1.\n",
      " 1. 1. 1. 1. 1. 1. 1. 1. 1. 1. 0. 1. 1. 1. 1. 0. 1. 1. 1. 1. 1. 1. 0. 1.\n",
      " 1. 1. 1. 1. 0. 0. 0. 0. 1. 1. 1. 0. 1. 1. 1. 1. 1. 1. 1. 1. 1. 1. 1. 1.\n",
      " 1. 1. 1. 1. 1. 1. 1. 1. 1. 1. 1. 1. 1. 1. 1. 1. 1. 1. 1. 1. 1. 1. 1. 1.\n",
      " 1. 1. 1. 1. 0. 1. 1. 1. 1. 1. 1. 1. 1. 1. 1. 1. 1. 1. 1. 1. 1. 1. 1. 1.\n",
      " 1. 1. 1. 1. 1. 1. 1. 1. 1. 1. 1. 1. 1. 1. 1. 1. 1. 1. 1. 1. 1. 1. 1. 1.\n",
      " 1. 1. 0. 1. 0. 0. 1. 0. 1. 0. 1. 0. 1. 1. 0. 1. 0. 1. 1. 1. 1. 1. 1. 1.\n",
      " 1. 1. 1. 1. 1. 1. 1. 1. 1. 1. 1. 1. 1. 1. 1. 1. 1. 1. 1. 1. 0. 1. 1. 1.\n",
      " 1. 1. 1. 1. 1. 1. 1. 1. 1. 1. 1. 1. 0. 1. 1. 1. 1. 1. 1. 1. 1. 1. 1. 1.\n",
      " 1. 1. 1. 1. 1. 0. 0. 0. 0. 0. 0. 0. 0. 0. 0. 1. 1. 1. 1. 1. 1. 1. 1. 1.\n",
      " 1. 1. 1. 1. 1. 1. 1. 1. 1. 1. 1. 1. 1. 1. 1. 1. 1. 1. 1. 1. 1. 1. 1. 1.\n",
      " 1. 1. 1. 1. 1. 1. 1. 1. 1. 1. 1. 1. 1. 1. 1.]\n",
      "[0.73653673 0.90810317 0.88652052 0.90202467 0.90202467 0.80487255\n",
      " 0.91842252 0.8215617  0.77441261 0.74372947 0.85924878 0.85924878\n",
      " 0.86692502 0.86692502 0.72116449 0.89022323 0.89022323 0.86633795\n",
      " 1.         1.         0.91665334 0.91665334 0.93322964 0.93322964\n",
      " 0.93322964 0.85496731 0.82556974 0.26173764 0.83934577 0.83934577\n",
      " 0.87983944 0.81962599 0.81962599 0.58551595 0.74325307 0.74325307\n",
      " 0.58536329 0.69299719 0.69299719 0.6257957  0.86612347 0.86612347\n",
      " 0.87862217 0.87862217 0.99738047 1.         1.         0.\n",
      " 0.         0.         0.39450773 0.86958764 0.86958764 0.90622678\n",
      " 0.90622678 0.8891325  0.42209881 0.79074765 0.1795662  0.95460383\n",
      " 0.73661095 0.73661095 0.4497666  1.         1.         0.8762027\n",
      " 0.         0.83635842 0.         0.         0.         0.37097088\n",
      " 0.79378151 0.9602059  0.9602059  0.9602059  0.82713735 0.87219501\n",
      " 0.84821483 1.         0.84455922 0.83825016 0.84647997 0.78825942\n",
      " 0.98439371 0.98439371 0.9147773  0.46105252 0.7383971  0.89432673\n",
      " 0.82581389 1.         1.         0.38941321 0.90255286 0.90255286\n",
      " 0.87874146 0.87874146 0.87958295 0.87958295 0.87958295 0.70586392\n",
      " 0.91917747 1.         1.         0.87403011 0.95267574 0.54836485\n",
      " 0.84301663 0.84661372 0.91917391 0.91917391 0.8258618  0.66687526\n",
      " 0.71681632 0.79306503 0.79306503 0.3825986  0.82882118 0.66208121\n",
      " 0.65575945 0.         0.         0.59101051 0.61828586 0.69244162\n",
      " 0.9381316  0.9381316  0.67532211 0.70961065 0.70961065 0.95189083\n",
      " 0.95189083 0.95362447 0.97301886 0.99892599 0.99892599 0.87249322\n",
      " 0.87249322 0.92205415 0.92205415 0.91888998 0.95435825 0.95435825\n",
      " 0.95435825 1.         0.87345757 0.87345757 0.81223418 0.60002062\n",
      " 0.92760134 0.92760134 0.81433808 0.91089267 0.91089267 0.88010533\n",
      " 0.91094338 0.91094338 0.85491296 0.80218151 0.95793116 0.95793116\n",
      " 0.79177614 0.79177614 0.82600658 0.82600658 0.         0.\n",
      " 0.84166252 0.87787231 0.93572178 0.93572178 0.96212648 0.96212648\n",
      " 0.88583222 0.77685642 0.77685642 0.95994921 0.95994921 0.80809209\n",
      " 0.92660955 0.82957366 0.82957366 0.67106188 0.27115132 1.\n",
      " 1.         0.93638045 0.93638045 0.66082683 0.66082683 0.49805924\n",
      " 0.84198366 0.84198366 0.73052103 0.78315871 0.78315871 0.68455613\n",
      " 0.68455613 0.         0.8829126  0.8829126  0.8322717  0.88182047\n",
      " 1.         0.53542639 1.         0.73824902 0.93298565 1.\n",
      " 0.91031203 0.9960725  0.9960725  0.93563283 0.6605551  0.97493342\n",
      " 0.97493342 1.         0.93307745 0.62587298 0.4480062  0.\n",
      " 0.62825914 0.59484026 0.36331834 0.66276011 0.50287512 0.66794543\n",
      " 0.66794543 0.691948   0.69663927 1.         0.78420993 0.85957631\n",
      " 0.         0.46365005 0.55866901 0.73839946 0.73839946 0.45412943\n",
      " 0.56017037 0.52933936 0.65049538 0.         0.41770227 0.63623035\n",
      " 0.55096621 0.         0.38304331 0.28205099 0.40920542 0.\n",
      " 0.33203649 0.94892759 0.80842866 0.76566228 1.         0.53254534\n",
      " 0.         0.56875468 0.1237671  0.1237671  0.59138406 1.\n",
      " 1.         0.66977962 0.87545614 0.76102063 0.83800245 0.27803315\n",
      " 0.98269372 1.         1.         0.         0.82164579 0.62322919\n",
      " 0.82027729 0.         0.65405946 0.         0.         0.74903474\n",
      " 0.74903474 0.         0.74963441 1.         1.         0.80464754\n",
      " 0.80464754 0.         0.8575541  0.95664247 0.95664247 0.42710791\n",
      " 0.         0.85106504 0.85106504 0.75919077 0.84111271 0.79870675\n",
      " 0.79870675 0.80589602 0.80589602 0.7719244  0.7719244  0.81944907\n",
      " 0.81944907 0.7714631  0.7714631  0.74277422 0.         0.82977482\n",
      " 0.         0.9558038  0.9558038  0.80522523 0.80522523 0.69224264\n",
      " 0.82980378 0.         0.         0.80487444 0.80487444 0.72225188\n",
      " 0.72225188 0.8001528  0.8001528  0.82636443 0.65463051 0.75720402\n",
      " 0.73266062 0.73266062 0.82347676 0.65837888 0.59184892 1.\n",
      " 0.8109334  0.8109334  0.82020755 0.70531664 0.64082689 0.45032969\n",
      " 0.45032969 0.6854475  0.6854475  1.         1.         0.57275188\n",
      " 0.5371922  0.31035128 0.4754615  0.30698394 1.         1.\n",
      " 0.69794442 0.68269644 0.74152216 0.59117258 0.85131853 0.57109574\n",
      " 0.57983908 0.57983908 0.77222077 0.96535311 0.96535311 1.\n",
      " 1.         0.8224208  0.56357304 0.53848559 0.8752688  0.77607049\n",
      " 0.81372889 0.90383743 0.90383743 0.81166447 0.96249968 0.96249968\n",
      " 0.93800253 0.99210616 0.99210616 0.97800232 0.92450305 0.87309633\n",
      " 0.87309633 0.74782324 0.7741801  0.66296402 0.45841373 0.\n",
      " 0.         0.38937274 0.         0.4195222  0.29392173 0.\n",
      " 0.30350487 0.74243082 0.74243082 0.60663547 0.60663547 0.\n",
      " 0.72304896 0.84919813 0.62747334 0.7673774  0.77738882 0.81230111\n",
      " 0.81230111 0.81230111 0.83045645 0.83045645 1.         0.71335031\n",
      " 0.92651858 0.59341376 0.84364662 1.         1.         1.\n",
      " 0.97864407 0.85702592 0.87786018 0.89087488 0.89087488 0.89087488\n",
      " 1.         1.         0.74453241 0.84850115 0.75061062 0.93595744\n",
      " 1.         0.9173354  0.9173354  0.80221036 0.44623364 0.55787356\n",
      " 0.50874068 0.7097015  0.60035267 0.         0.91742866 0.\n",
      " 0.79898989 0.66315256 0.79054623 0.82415054 1.         1.\n",
      " 0.9450787  0.9450787  0.8784962  0.8784962  0.97257782 0.97257782\n",
      " 0.95913345 0.95913345 0.97550213 0.97550213 0.92283099 0.92283099\n",
      " 0.87540863 0.87540863 0.83522783 0.91183278 0.91183278 0.80863036\n",
      " 0.91793381 0.86747487 0.86747487 0.93024546 0.93024546 0.85426816\n",
      " 0.85426816 0.84296989 0.84296989 0.84757826 1.         1.\n",
      " 0.95460998 0.95460998 0.83882349 0.83882349 0.         0.88251038\n",
      " 0.88251038 1.         1.         0.85192209 0.85192209 0.39104036\n",
      " 0.38165515 0.84739825 0.87452627 0.91301907 0.91301907 0.92718243\n",
      " 0.92718243 0.94363758 0.94363758 0.81521407 0.86905991 1.\n",
      " 1.         1.         0.90749033 0.80156526 0.84743006 0.84743006\n",
      " 0.83700019 0.90284427 0.90284427 0.90721983 0.90281657 0.90281657\n",
      " 0.59495904 0.17942995 0.80679878 0.81083017 1.         0.7345807\n",
      " 0.26284989 1.         0.48471888 1.         1.         0.76048435\n",
      " 0.29179738 0.         0.         0.83838515 0.         0.\n",
      " 0.8312966  0.         0.36332233 0.         0.78330514 0.\n",
      " 0.80189753 0.91135751 0.         0.99958606 0.         1.\n",
      " 0.9027563  0.83202549 0.83202549 0.90041532 0.90041532 0.75585613\n",
      " 1.         1.         0.8310552  0.86466991 0.78261645 0.76975108\n",
      " 0.76975108 0.79564411 0.79564411 0.68972383 0.7488716  0.82610013\n",
      " 0.82610013 0.82610013 0.72011304 0.72011304 0.26189048 0.57569239\n",
      " 0.61372749 0.61372749 0.49585763 0.42546305 0.66024879 0.66024879\n",
      " 0.85684514 0.85684514 0.84535385 0.88007935 0.88007935 0.88007935\n",
      " 0.88007935 0.88007935 0.28212385 0.80475697 0.77604506 0.77604506\n",
      " 0.65478572 0.58161338 0.86238338 0.86238338 0.92012928 0.92012928\n",
      " 0.76663452 0.60971782 0.44793042 0.79039625 0.77301547 0.82120017\n",
      " 0.82120017 0.82120017 0.70963794 0.36757365 0.94277697 0.84076712\n",
      " 0.37036956 0.         0.         0.22508399 0.74118012 0.\n",
      " 0.62504181 0.62504181 0.28382051 0.58978735 0.9187183  0.74306225\n",
      " 0.83658231 0.79644606 0.59403998 0.80709043 0.80709043 0.92222466\n",
      " 0.92222466 0.79177985 0.79535183 0.87840779 0.98293694 1.\n",
      " 0.80527954 0.97580749 0.9845402  0.9845402  1.         1.\n",
      " 0.72252538 0.77232031 0.90127538 0.90127538 0.64875015 0.89515483\n",
      " 0.70607438 0.70607438 0.8770884  0.22442871 0.63629922 1.\n",
      " 0.67987688 0.67063664 0.75413014 0.75413014 0.84344525 0.\n",
      " 0.77739548 0.68374119 0.         0.         0.69117139 0.77591172\n",
      " 0.77591172 0.37339739 0.40543951]\n"
     ]
    },
    {
     "name": "stderr",
     "output_type": "stream",
     "text": [
      "/Users/vanessasalgado/Desktop/E4E-Acoustics.nosync/PyHa/PyHa/annotation_post_processing.py:213: SettingWithCopyWarning: \n",
      "A value is trying to be set on a copy of a slice from a DataFrame.\n",
      "Try using .loc[row_indexer,col_indexer] = value instead\n",
      "\n",
      "See the caveats in the documentation: https://pandas.pydata.org/pandas-docs/stable/user_guide/indexing.html#returning-a-view-versus-a-copy\n",
      "  #Init list of clips to cycle through and output dataframe\n"
     ]
    },
    {
     "name": "stdout",
     "output_type": "stream",
     "text": [
      "target 279\n",
      "confidence 279\n",
      "automated df 279\n",
      "[1. 0. 1. 1. 0. 1. 1. 1. 0. 1. 1. 1. 0. 0. 1. 1. 0. 1. 1. 1. 0. 1. 1. 1.\n",
      " 0. 0. 0. 0. 1. 1. 1. 0. 0. 0. 0. 1. 1. 1. 1. 0. 1. 1. 1. 1. 1. 0. 0. 1.\n",
      " 1. 1. 0. 0. 1. 1. 1. 0. 0. 0. 1. 1. 1. 0. 0. 0. 0. 1. 1. 1. 0. 0. 1. 1.\n",
      " 1. 1. 1. 1. 1. 1. 1. 1. 1. 0. 1. 0. 1. 1. 1. 1. 1. 0. 0. 0. 0. 0. 1. 1.\n",
      " 1. 1. 0. 0. 0. 0. 0. 0. 0. 1. 1. 0. 1. 1. 1. 1. 1. 0. 1. 1. 1. 0. 0. 1.\n",
      " 1. 1. 1. 0. 1. 1. 1. 1. 1. 1. 1. 1. 0. 1. 1. 1. 1. 0. 1. 1. 1. 1. 1. 1.\n",
      " 1. 0. 1. 1. 1. 1. 0. 1. 1. 0. 0. 1. 1. 0. 0. 1. 1. 0. 1. 1. 1. 1. 1. 0.\n",
      " 1. 1. 1. 0. 0. 0. 0. 1. 1. 1. 0. 1. 1. 1. 1. 1. 1. 1. 1. 1. 1. 1. 0. 1.\n",
      " 1. 1. 1. 1. 0. 0. 0. 0. 1. 1. 1. 1. 0. 0. 1. 1. 1. 0. 0. 0. 1. 1. 0. 0.\n",
      " 1. 1. 0. 1. 1. 1. 0. 0. 1. 1. 0. 0. 0. 0. 1. 1. 0. 0. 0. 0. 0. 1. 1. 0.\n",
      " 0. 0. 0. 0. 0. 0. 1. 1. 1. 0. 0. 0. 0. 0. 0. 1. 1. 0. 1. 1. 0. 0. 1. 1.\n",
      " 0. 0. 1. 1. 1. 1. 1. 0. 1. 1. 1. 1. 0. 1. 1.]\n",
      "[1.         0.         0.89753792 0.89753792 0.         0.93424782\n",
      " 0.93424782 0.93424782 0.         0.24005079 0.99667414 0.99667414\n",
      " 0.99667414 1.         1.         1.         1.         0.33900371\n",
      " 0.8052022  0.8052022  0.98196422 1.         1.         1.\n",
      " 0.65389976 0.45189226 0.63174489 0.63174489 0.27720607 0.91449008\n",
      " 0.91449008 0.         0.15908385 0.15908385 0.20598559 0.96046252\n",
      " 0.47243556 0.99128701 0.99128701 0.         1.         1.\n",
      " 1.         0.98570291 0.98570291 0.23726958 0.28711111 0.94788736\n",
      " 0.94788736 0.94788736 0.         0.14643304 1.         1.\n",
      " 1.         0.17267563 0.14728884 0.38585432 0.97643069 0.97643069\n",
      " 0.97643069 0.32316069 0.16379166 0.46248153 0.48763095 0.93024945\n",
      " 0.93024945 0.93024945 0.83189123 0.36380785 0.94323643 0.94323643\n",
      " 1.         1.         0.97961094 0.97961094 0.97961094 0.26154328\n",
      " 1.         1.         0.6077831  0.61867173 0.96855105 0.93257471\n",
      " 0.93257471 0.         1.         0.99370008 0.99370008 0.\n",
      " 0.         0.         0.         0.         1.         1.\n",
      " 0.74043382 1.         0.         0.         0.         0.\n",
      " 0.         0.         0.         0.         1.         0.80186073\n",
      " 0.87534713 0.87534713 0.87534713 0.87534713 0.87534713 0.65385026\n",
      " 0.8557579  0.8557579  0.8557579  0.         0.         0.93333957\n",
      " 0.93333957 0.93333957 0.93333957 0.         1.         1.\n",
      " 1.         1.         0.39236873 0.85544661 0.85544661 0.87213762\n",
      " 0.21271098 0.88398499 0.88398499 0.88398499 0.88398499 0.29231904\n",
      " 0.91625722 0.91625722 0.91625722 0.91625722 0.93450269 0.93450269\n",
      " 0.93450269 0.86892583 0.86892583 0.86892583 1.         1.\n",
      " 0.25900731 0.91371475 0.91371475 0.58929748 0.64306651 0.94356722\n",
      " 0.94356722 0.60891072 0.5501301  0.86858701 0.86858701 0.17991259\n",
      " 1.         1.         0.94093716 0.94093716 0.94093716 0.\n",
      " 0.         1.         1.         0.         0.19100289 0.94291902\n",
      " 0.94291902 0.         0.84335141 0.84335141 0.92749373 0.\n",
      " 0.90234341 0.90234341 0.         0.         0.96990599 0.96990599\n",
      " 1.         0.5927851  0.0070711  0.19038357 0.         0.24459478\n",
      " 0.23410485 1.         1.         1.         1.         1.\n",
      " 1.         0.36955959 0.94890624 0.94890624 0.99593713 0.99593713\n",
      " 0.08252412 0.32502123 1.         1.         1.         0.90760493\n",
      " 0.7933029  0.67753701 0.73943804 0.97101875 0.5393777  0.\n",
      " 0.52411951 0.93032162 0.         0.         1.         1.\n",
      " 0.         0.         0.80310231 0.80452231 0.47514596 0.\n",
      " 0.         0.         0.79580812 0.86522072 0.         0.\n",
      " 0.         0.         0.         1.         1.         0.\n",
      " 0.         0.         0.         0.         0.         0.\n",
      " 0.92641301 0.92641301 0.59910144 0.         0.         0.\n",
      " 0.         0.         0.         0.         0.73946217 0.97711638\n",
      " 0.97711638 0.76821544 0.79219658 0.66368645 1.         1.\n",
      " 0.34853437 0.         0.89678644 0.89678644 0.93759792 0.93759792\n",
      " 0.93759792 0.25657396 0.         1.         1.         1.\n",
      " 0.         0.8099991  0.8099991 ]\n"
     ]
    },
    {
     "name": "stderr",
     "output_type": "stream",
     "text": [
      "/Users/vanessasalgado/Desktop/E4E-Acoustics.nosync/PyHa/PyHa/annotation_post_processing.py:213: SettingWithCopyWarning: \n",
      "A value is trying to be set on a copy of a slice from a DataFrame.\n",
      "Try using .loc[row_indexer,col_indexer] = value instead\n",
      "\n",
      "See the caveats in the documentation: https://pandas.pydata.org/pandas-docs/stable/user_guide/indexing.html#returning-a-view-versus-a-copy\n",
      "  #Init list of clips to cycle through and output dataframe\n"
     ]
    },
    {
     "name": "stdout",
     "output_type": "stream",
     "text": [
      "target 595\n",
      "confidence 594\n",
      "automated df 594\n",
      "[1. 1. 1. 1. 1. 0. 0. 1. 1. 1. 0. 1. 0. 1. 0. 1. 1. 0. 0. 1. 0. 1. 0. 1.\n",
      " 1. 1. 0. 0. 0. 1. 1. 0. 0. 1. 0. 0. 0. 0. 0. 0. 0. 0. 0. 1. 0. 0. 1. 1.\n",
      " 0. 1. 0. 0. 1. 1. 0. 1. 0. 0. 1. 1. 0. 1. 1. 0. 1. 1. 1. 1. 0. 1. 1. 1.\n",
      " 0. 1. 1. 1. 1. 1. 1. 1. 1. 0. 1. 1. 1. 1. 0. 1. 0. 1. 1. 0. 1. 0. 0. 1.\n",
      " 1. 0. 1. 1. 1. 1. 1. 1. 1. 1. 1. 1. 1. 1. 1. 1. 1. 1. 1. 1. 1. 1. 1. 1.\n",
      " 0. 0. 1. 1. 0. 0. 1. 1. 1. 1. 1. 1. 0. 1. 0. 1. 0. 1. 1. 1. 1. 1. 0. 1.\n",
      " 1. 1. 0. 1. 1. 1. 1. 1. 1. 1. 0. 1. 1. 0. 1. 0. 1. 1. 0. 1. 1. 1. 1. 1.\n",
      " 1. 1. 1. 1. 1. 1. 1. 1. 1. 1. 1. 1. 1. 1. 1. 0. 1. 1. 1. 1. 1. 1. 1. 1.\n",
      " 1. 1. 1. 1. 1. 1. 1. 1. 1. 1. 1. 1. 1. 0. 1. 1. 1. 1. 1. 1. 0. 1. 1. 1.\n",
      " 1. 0. 1. 1. 1. 1. 1. 1. 1. 1. 1. 1. 1. 1. 1. 1. 1. 1. 0. 1. 1. 1. 1. 1.\n",
      " 1. 1. 1. 1. 1. 1. 1. 1. 1. 1. 1. 1. 1. 1. 1. 0. 1. 0. 0. 1. 0. 1. 1. 0.\n",
      " 1. 1. 0. 0. 0. 0. 0. 0. 1. 0. 1. 1. 0. 1. 1. 1. 1. 1. 1. 1. 1. 1. 1. 1.\n",
      " 0. 1. 1. 1. 1. 1. 1. 1. 1. 1. 1. 1. 1. 1. 1. 1. 1. 1. 1. 1. 1. 1. 1. 1.\n",
      " 1. 0. 1. 1. 1. 1. 1. 0. 1. 1. 1. 0. 1. 1. 1. 1. 1. 0. 1. 1. 0. 1. 0. 1.\n",
      " 0. 1. 1. 0. 1. 1. 0. 1. 0. 1. 0. 0. 0. 1. 0. 1. 1. 0. 1. 1. 0. 0. 1. 1.\n",
      " 0. 1. 0. 1. 1. 0. 0. 1. 1. 1. 1. 1. 1. 0. 0. 1. 1. 1. 1. 1. 1. 1. 1. 1.\n",
      " 1. 0. 0. 1. 1. 0. 1. 1. 0. 1. 1. 1. 1. 0. 1. 1. 1. 0. 0. 1. 0. 0. 1. 1.\n",
      " 0. 0. 1. 1. 1. 0. 1. 0. 1. 1. 0. 0. 1. 1. 1. 1. 0. 1. 1. 0. 1. 0. 0. 1.\n",
      " 0. 1. 1. 0. 1. 1. 0. 1. 0. 1. 1. 0. 1. 1. 0. 1. 0. 0. 1. 0. 0. 0. 0. 0.\n",
      " 0. 0. 0. 0. 0. 0. 0. 1. 1. 1. 1. 1. 1. 1. 1. 1. 1. 1. 1. 1. 1. 1. 1. 1.\n",
      " 1. 1. 1. 1. 1. 1. 1. 0. 0. 1. 1. 1. 1. 0. 0. 1. 1. 1. 0. 1. 1. 0. 1. 1.\n",
      " 0. 1. 1. 1. 1. 0. 1. 1. 1. 0. 1. 1. 1. 0. 1. 1. 1. 1. 1. 1. 1. 1. 0. 1.\n",
      " 0. 1. 1. 1. 1. 1. 1. 1. 1. 1. 1. 1. 0. 1. 1. 0. 0. 0. 0. 0. 0. 0. 1. 1.\n",
      " 0. 1. 1. 0. 1. 1. 0. 1. 0. 0. 1. 1. 0. 1. 1. 1. 1. 1. 1. 1. 1. 1. 1. 1.\n",
      " 1. 1. 1. 1. 1. 1. 0. 1. 1. 1. 1. 1. 1. 1. 1. 1. 1. 1. 1.]\n",
      "[0.92038739 0.34692685 0.83222063 0.7614787  0.7614787  0.\n",
      " 0.         0.92458616 0.70943152 0.70943152 0.         0.81090292\n",
      " 0.         0.86079646 0.         1.         1.         0.\n",
      " 0.         0.87198388 0.         0.84364303 0.         0.83645728\n",
      " 0.83460256 0.38732177 0.         0.         0.30553013 0.89619878\n",
      " 0.89619878 0.2803936  0.44091233 0.92776912 0.         0.\n",
      " 0.         0.         0.         0.39328461 0.29646838 0.\n",
      " 0.         0.67925332 0.67925332 0.20411597 0.9637277  0.9637277\n",
      " 0.28840779 1.         0.         0.         0.85097073 0.39825166\n",
      " 0.         0.62671086 0.         0.         0.44269427 0.\n",
      " 0.         0.83564965 0.83564965 0.         0.35523862 1.\n",
      " 1.         1.         0.         0.23046163 0.7516946  0.93714539\n",
      " 0.57836789 1.         1.         0.78981481 0.57931312 0.77204799\n",
      " 0.92106591 1.         0.7955761  0.30413743 0.88538141 0.88538141\n",
      " 1.         1.         0.         0.82062136 0.51120015 0.89437437\n",
      " 0.         0.         0.93861345 0.         0.         0.96383239\n",
      " 1.         0.         0.97070348 0.97070348 0.96894357 0.91028212\n",
      " 0.93865054 0.93865054 0.85153783 0.95820444 0.95820444 0.98586249\n",
      " 0.98586249 0.93518082 0.93518082 1.         1.         0.91197418\n",
      " 0.91197418 0.93397806 0.93397806 0.93973008 0.93973008 1.\n",
      " 0.         0.4331718  0.83216089 0.76829191 0.         0.\n",
      " 0.82033255 0.87104757 0.38698187 0.65266824 0.82430312 0.\n",
      " 0.         0.84869617 0.         1.         0.         0.87711968\n",
      " 0.         0.         0.         0.85690554 0.         0.94526528\n",
      " 0.         0.97277074 0.         0.78404311 0.9132123  0.9132123\n",
      " 0.88339558 0.88339558 0.         0.88797221 0.         0.87851024\n",
      " 0.87851024 0.         0.84335406 0.         0.80986792 0.80986792\n",
      " 0.         0.8585771  0.83246461 1.         1.         0.45630379\n",
      " 0.45630379 0.12896213 0.11709015 1.         1.         0.87670138\n",
      " 0.44465097 0.47024441 0.65615592 0.71549952 0.59721654 0.70674642\n",
      " 0.3303697  0.82088164 0.89668701 0.76779583 1.         0.86302485\n",
      " 1.         0.         0.92069959 0.92069959 0.99647574 0.99647574\n",
      " 0.70170043 0.70170043 0.79896491 0.88894351 0.23668583 0.24690128\n",
      " 0.23764672 0.23918301 0.61619912 0.55516163 0.55516163 0.93567446\n",
      " 0.93567446 0.30582021 0.9419389  0.7188818  1.         0.52082142\n",
      " 0.         0.42439188 0.         0.73888676 0.73888676 0.\n",
      " 1.         0.         0.31624205 0.95254301 0.         0.50370798\n",
      " 0.57516174 1.         1.         0.59728947 0.66305972 0.66305972\n",
      " 0.57752069 0.92735138 0.58110395 0.38585899 0.68112025 0.68112025\n",
      " 0.30606361 0.55691412 0.39586374 0.52327599 0.84508957 0.84508957\n",
      " 0.84508957 0.74559826 0.52092874 0.57297623 0.48890433 0.92209943\n",
      " 0.56731613 0.83218447 0.94644335 0.94644335 0.63573256 0.33918002\n",
      " 0.84879702 0.74574375 1.         1.         0.         0.\n",
      " 0.61745989 0.20638714 0.88435733 0.88435733 0.73106796 0.92349902\n",
      " 0.92349902 0.2423631  0.36658473 0.         0.         0.27473904\n",
      " 0.31778357 0.67759706 0.         1.         0.78773548 0.44183677\n",
      " 0.85973706 0.85973706 0.83822957 0.83822957 1.         0.45872141\n",
      " 0.88413837 0.49370656 0.987357   0.51920221 0.8742885  0.\n",
      " 0.86135356 0.86135356 0.55489469 0.87925363 0.94731782 0.94731782\n",
      " 0.85011601 0.85011601 0.91996578 0.91996578 0.78509535 0.89148736\n",
      " 0.89148736 0.86328209 0.86328209 0.90617971 0.90617971 0.\n",
      " 0.79573844 0.86532556 0.86532556 0.86897608 0.86897608 0.79526497\n",
      " 0.         0.85488942 0.85488942 0.83191436 0.83191436 0.78499809\n",
      " 0.78499809 0.8384519  0.8384519  0.73006315 0.76255424 0.83975841\n",
      " 0.83975841 0.97805234 0.97805234 0.82696008 0.82696008 0.98778316\n",
      " 0.98778316 0.         0.98295476 0.23641576 0.82534523 0.\n",
      " 0.88347892 0.88347892 0.         0.77622012 0.         0.2110471\n",
      " 1.         0.         0.86164254 0.         0.         0.\n",
      " 0.77654387 0.         0.92115399 0.92115399 0.         0.92765721\n",
      " 0.92765721 0.         0.         0.85673325 0.85673325 0.\n",
      " 0.59728489 0.         0.74647157 0.74647157 0.         0.\n",
      " 0.6059433  0.6059433  0.7794879  0.7794879  1.         0.91824444\n",
      " 0.41231978 0.         0.9252269  0.34851941 0.89600887 0.89600887\n",
      " 0.55348299 0.87002448 0.82557708 0.58014343 0.74056618 0.74056618\n",
      " 0.         0.         0.45173702 0.73541591 0.42278829 0.6332967\n",
      " 0.6332967  0.         0.34888814 0.         0.8848747  1.\n",
      " 0.64400643 0.56537736 0.55321421 0.75419582 0.         0.\n",
      " 0.76815699 0.         0.42086762 0.747396   0.747396   1.\n",
      " 1.         0.89482766 0.86301852 0.86301852 0.77798216 0.77798216\n",
      " 0.         0.54282977 0.92065357 0.         0.         0.85587013\n",
      " 0.85587013 0.90681366 0.90681366 0.         0.90907701 0.90907701\n",
      " 0.         0.89409931 0.         0.         0.92431361 0.\n",
      " 0.96230323 0.96230323 0.         0.97220331 0.97220331 0.\n",
      " 0.86252954 0.         0.91310324 0.91310324 0.         0.91966814\n",
      " 0.91966814 0.         0.86206821 0.86206821 0.         0.97849599\n",
      " 0.         0.         0.         0.         0.         0.\n",
      " 0.25141398 0.34708939 0.17349877 0.35284848 0.         0.77307787\n",
      " 0.92996336 0.92996336 0.92996336 0.92996336 0.88719369 0.81695991\n",
      " 0.95338344 0.95338344 1.         1.         1.         0.87315149\n",
      " 0.87315149 0.57350542 0.99426307 0.99426307 0.30598926 1.\n",
      " 1.         0.80967107 0.80967107 0.         0.79489022 0.79489022\n",
      " 0.         0.         0.         0.39649913 0.         0.53149778\n",
      " 0.1227392  0.1227392  0.82938568 0.81361874 0.81361874 0.14105947\n",
      " 0.91447501 0.91447501 0.         1.         1.         0.\n",
      " 0.68329998 0.68329998 0.84678341 0.84678341 0.26567072 1.\n",
      " 1.         0.         0.         0.76638563 0.99114409 0.99114409\n",
      " 0.         0.96118588 0.         0.92193352 0.92193352 0.83828576\n",
      " 0.83828576 0.94876136 0.94876136 0.94876136 0.8817814  0.45195545\n",
      " 1.         0.88416457 0.34854655 0.39026883 0.55023433 0.46915795\n",
      " 0.46915795 0.83852567 0.73363779 0.97904795 1.         0.\n",
      " 0.9575202  0.         0.         0.         0.60179247 0.\n",
      " 0.1570296  0.18203052 0.77631069 0.91735897 0.91735897 0.79474441\n",
      " 0.9272743  0.9272743  0.         0.91942843 0.91942843 0.66799917\n",
      " 0.85267058 0.85267058 0.64100076 0.92054371 0.         0.85194923\n",
      " 1.         0.89552768 0.83284591 0.8366223  0.64402157 0.88235733\n",
      " 0.40053618 0.86756124 0.53700051 0.70602026 0.70360083 0.\n",
      " 0.72402643 0.87431339 0.87431339 0.85763958 0.         0.\n",
      " 0.         0.         0.9890709  0.54288262 0.         0.\n",
      " 0.60642095 0.19429713 0.27782877 0.55004281 0.58574007 0.61929263]\n"
     ]
    },
    {
     "data": {
      "text/plain": [
       "0.8598402521191045"
      ]
     },
     "execution_count": 100,
     "metadata": {},
     "output_type": "execute_result"
    },
    {
     "data": {
      "image/png": "[encoded data removed]",
      "text/plain": [
       "<Figure size 432x288 with 1 Axes>"
      ]
     },
     "metadata": {
      "needs_background": "light"
     },
     "output_type": "display_data"
    }
   ],
   "source": [
    "generate_ROC_curves_mutliclass(automated_df_tweety, manual_chunked_df)"
   ]
  },
  {
   "cell_type": "markdown",
   "metadata": {},
   "source": [
    "# AUC Score Dataframe and Histograms for Pipelines "
   ]
  },
  {
   "cell_type": "markdown",
   "metadata": {},
   "source": [
    "### Function to generates AUC scores dataframe "
   ]
  },
  {
   "cell_type": "code",
   "execution_count": 58,
   "metadata": {
    "scrolled": true
   },
   "outputs": [],
   "source": [
    "#run bird net on entirety of Mixed_Bird\n",
    "#get AUC score for each species from the output of the Tweety->Birdnet pipeline\n",
    "#complete\n",
    "def generate_AUC_scores_df(multi_df, manual_chunked_df): \n",
    "    auc_scores = {} #directory {\"species\": auc score}\n",
    "    auc_scores_df = pd.DataFrame()\n",
    "    species_names  = np.unique(multi_df[\"MANUAL ID\"])\n",
    "    \n",
    "    for species in species_names:\n",
    "\n",
    "        multi_species_df = multi_df[multi_df[\"MANUAL ID\"] == species]\n",
    "        manual_species_df = manual_chunked_df[manual_chunked_df[\"MANUAL ID\"] == species]\n",
    "        score = generate_ROC_curves_mutliclass(multi_species_df, manual_species_df)\n",
    "        auc_scores[species] = score\n",
    "\n",
    "    species_auc_scores_df = auc_scores_df.from_dict({'SPECIES': list(auc_scores.keys()),'AUC SCORES': list(auc_scores.values())})\n",
    " \n",
    "    return species_auc_scores_df"
   ]
  },
  {
   "cell_type": "code",
   "execution_count": 97,
   "metadata": {},
   "outputs": [],
   "source": [
    "multi_df_1= multi_df[\"MANUAL ID\"].drop_duplicates()\n",
    "manual_chunked_df_1 = manual_chunked_df[\"MANUAL ID\"].drop_duplicates()\n",
    "multi_df_1.to_frame().merge(manual_chunked_df_1)"
   ]
  },
  {
   "cell_type": "code",
   "execution_count": 94,
   "metadata": {},
   "outputs": [],
   "source": [
    "manual_chunked_df_1 = manual_chunked_df[\"MANUAL ID\"].drop_duplicates()"
   ]
  },
  {
   "cell_type": "code",
   "execution_count": 99,
   "metadata": {},
   "outputs": [
    {
     "data": {
      "text/html": [
       "<div>\n",
       "<style scoped>\n",
       "    .dataframe tbody tr th:only-of-type {\n",
       "        vertical-align: middle;\n",
       "    }\n",
       "\n",
       "    .dataframe tbody tr th {\n",
       "        vertical-align: top;\n",
       "    }\n",
       "\n",
       "    .dataframe thead th {\n",
       "        text-align: right;\n",
       "    }\n",
       "</style>\n",
       "<table border=\"1\" class=\"dataframe\">\n",
       "  <thead>\n",
       "    <tr style=\"text-align: right;\">\n",
       "      <th></th>\n",
       "      <th>MANUAL ID</th>\n",
       "    </tr>\n",
       "  </thead>\n",
       "  <tbody>\n",
       "    <tr>\n",
       "      <th>0</th>\n",
       "      <td>Tolmomyias sulphurescens</td>\n",
       "    </tr>\n",
       "    <tr>\n",
       "      <th>1</th>\n",
       "      <td>Thraupis episcopus</td>\n",
       "    </tr>\n",
       "    <tr>\n",
       "      <th>2</th>\n",
       "      <td>Microcerculus marginatus</td>\n",
       "    </tr>\n",
       "    <tr>\n",
       "      <th>3</th>\n",
       "      <td>Zonotrichia capensis</td>\n",
       "    </tr>\n",
       "    <tr>\n",
       "      <th>4</th>\n",
       "      <td>Celeus grammicus</td>\n",
       "    </tr>\n",
       "    <tr>\n",
       "      <th>5</th>\n",
       "      <td>Trogon viridis</td>\n",
       "    </tr>\n",
       "    <tr>\n",
       "      <th>6</th>\n",
       "      <td>Xiphorhynchus guttatus</td>\n",
       "    </tr>\n",
       "    <tr>\n",
       "      <th>7</th>\n",
       "      <td>Ramphastos tucanus</td>\n",
       "    </tr>\n",
       "    <tr>\n",
       "      <th>8</th>\n",
       "      <td>Turdus leucomelas</td>\n",
       "    </tr>\n",
       "    <tr>\n",
       "      <th>9</th>\n",
       "      <td>Myioborus miniatus</td>\n",
       "    </tr>\n",
       "  </tbody>\n",
       "</table>\n",
       "</div>"
      ],
      "text/plain": [
       "                  MANUAL ID\n",
       "0  Tolmomyias sulphurescens\n",
       "1        Thraupis episcopus\n",
       "2  Microcerculus marginatus\n",
       "3      Zonotrichia capensis\n",
       "4          Celeus grammicus\n",
       "5            Trogon viridis\n",
       "6    Xiphorhynchus guttatus\n",
       "7        Ramphastos tucanus\n",
       "8         Turdus leucomelas\n",
       "9        Myioborus miniatus"
      ]
     },
     "execution_count": 99,
     "metadata": {},
     "output_type": "execute_result"
    }
   ],
   "source": [
    "multi_df_1.to_frame().merge(manual_chunked_df_1)"
   ]
  },
  {
   "cell_type": "markdown",
   "metadata": {},
   "source": [
    "### TweetyNet to BirdNet AUC scores"
   ]
  },
  {
   "cell_type": "code",
   "execution_count": 59,
   "metadata": {
    "scrolled": true
   },
   "outputs": [
    {
     "name": "stderr",
     "output_type": "stream",
     "text": [
      "/Users/vanessasalgado/Desktop/E4E-Acoustics.nosync/PyHa/PyHa/annotation_post_processing.py:213: SettingWithCopyWarning: \n",
      "A value is trying to be set on a copy of a slice from a DataFrame.\n",
      "Try using .loc[row_indexer,col_indexer] = value instead\n",
      "\n",
      "See the caveats in the documentation: https://pandas.pydata.org/pandas-docs/stable/user_guide/indexing.html#returning-a-view-versus-a-copy\n",
      "  #Init list of clips to cycle through and output dataframe\n"
     ]
    },
    {
     "name": "stdout",
     "output_type": "stream",
     "text": [
      "target 575\n",
      "confidence 575\n",
      "automated df 575\n",
      "[1. 1. 1. 1. 0. 0. 0. 1. 0. 0. 0. 0. 0. 0. 0. 1. 1. 0. 0. 1. 1. 0. 0. 1.\n",
      " 1. 0. 1. 1. 1. 1. 0. 0. 0. 1. 1. 0. 1. 1. 1. 0. 0. 1. 0. 0. 0. 0. 0. 1.\n",
      " 1. 0. 0. 1. 1. 0. 0. 0. 1. 1. 0. 1. 0. 0. 0. 1. 0. 0. 0. 0. 0. 0. 0. 0.\n",
      " 0. 0. 0. 0. 0. 0. 0. 0. 0. 0. 1. 0. 0. 1. 1. 0. 0. 0. 0. 1. 1. 1. 0. 0.\n",
      " 1. 0. 0. 1. 1. 0. 0. 0. 0. 0. 0. 1. 0. 0. 0. 1. 0. 0. 1. 1. 0. 1. 1. 1.\n",
      " 1. 1. 1. 1. 0. 0. 0. 0. 0. 0. 1. 0. 0. 0. 0. 0. 0. 1. 0. 1. 1. 1. 1. 0.\n",
      " 0. 1. 1. 0. 0. 0. 1. 0. 0. 1. 0. 0. 1. 0. 0. 1. 1. 0. 0. 1. 0. 0. 0. 1.\n",
      " 0. 0. 0. 0. 0. 1. 1. 0. 0. 0. 0. 1. 1. 1. 1. 1. 1. 1. 0. 0. 1. 1. 0. 0.\n",
      " 1. 0. 1. 1. 0. 1. 0. 0. 0. 0. 1. 0. 0. 0. 0. 0. 0. 0. 0. 0. 0. 0. 0. 0.\n",
      " 0. 0. 0. 0. 0. 0. 0. 0. 0. 0. 0. 0. 0. 0. 0. 0. 0. 0. 0. 0. 0. 0. 1. 0.\n",
      " 0. 1. 0. 0. 0. 0. 0. 1. 0. 0. 0. 0. 0. 0. 0. 0. 0. 0. 0. 0. 0. 1. 0. 0.\n",
      " 0. 0. 0. 0. 0. 0. 1. 0. 0. 1. 1. 0. 0. 0. 0. 0. 1. 0. 1. 0. 1. 1. 1. 1.\n",
      " 0. 0. 0. 0. 0. 1. 0. 0. 0. 0. 0. 0. 1. 0. 0. 0. 0. 0. 0. 1. 1. 1. 1. 1.\n",
      " 0. 0. 0. 1. 1. 1. 0. 0. 1. 0. 1. 1. 1. 0. 1. 0. 1. 1. 0. 1. 1. 1. 0. 0.\n",
      " 1. 0. 0. 1. 1. 0. 0. 0. 1. 0. 0. 0. 0. 1. 1. 1. 1. 1. 0. 0. 1. 1. 0. 1.\n",
      " 1. 0. 0. 1. 1. 1. 0. 1. 1. 0. 1. 0. 1. 1. 1. 1. 1. 1. 1. 1. 1. 1. 1. 1.\n",
      " 0. 1. 1. 0. 1. 0. 1. 1. 1. 1. 0. 1. 1. 1. 1. 1. 0. 1. 0. 0. 0. 1. 0. 0.\n",
      " 1. 0. 0. 0. 0. 0. 1. 0. 0. 1. 1. 0. 0. 0. 0. 1. 0. 1. 0. 1. 1. 1. 1. 1.\n",
      " 0. 0. 0. 1. 0. 0. 0. 0. 0. 1. 0. 0. 1. 0. 0. 0. 0. 0. 0. 0. 0. 0. 0. 0.\n",
      " 0. 0. 0. 0. 0. 0. 0. 0. 0. 1. 0. 1. 0. 1. 1. 1. 1. 1. 1. 0. 0. 0. 0. 0.\n",
      " 0. 1. 0. 1. 1. 0. 0. 1. 0. 1. 0. 1. 0. 1. 0. 0. 1. 1. 0. 0. 1. 1. 1. 1.\n",
      " 0. 1. 1. 1. 1. 1. 0. 1. 1. 1. 1. 1. 0. 1. 0. 0. 1. 1. 0. 0. 0. 0. 0. 0.\n",
      " 0. 0. 0. 0. 0. 0. 0. 0. 0. 0. 1. 0. 0. 0. 0. 0. 0. 0. 0. 1. 0. 0. 1. 1.\n",
      " 0. 0. 1. 0. 1. 1. 1. 1. 1. 1. 1. 1. 1. 1. 1. 0. 0. 0. 1. 0. 0. 0. 0.]\n",
      "[0.5205698  0.         0.         0.         0.         0.\n",
      " 0.         0.1140194  0.         0.         0.         0.\n",
      " 0.         0.         0.         0.         0.52469742 0.\n",
      " 0.         0.         0.7725777  0.         0.         0.\n",
      " 0.         0.         0.11931595 0.         0.06666771 0.21862493\n",
      " 0.         0.         0.         0.4625068  0.14458629 0.\n",
      " 0.14189169 0.         0.17199135 0.         0.         0.95098883\n",
      " 0.         0.         0.         0.         0.         0.91258943\n",
      " 0.63055605 0.         0.         0.         0.93068713 0.\n",
      " 0.         0.         0.87286872 0.         0.         0.\n",
      " 0.         0.         0.         0.         0.         0.\n",
      " 0.         0.         0.         0.         0.         0.\n",
      " 0.         0.         0.         0.         0.         0.\n",
      " 0.         0.         0.         0.         0.         0.\n",
      " 0.         0.         0.         0.         0.         0.\n",
      " 0.         0.         0.09061848 0.0319159  0.         0.\n",
      " 0.         0.         0.         0.64331096 0.         0.\n",
      " 0.         0.         0.         0.         0.         0.\n",
      " 0.         0.         0.         0.54045933 0.         0.\n",
      " 0.33498865 0.         0.         0.         0.92927837 0.\n",
      " 0.31550148 0.         0.99786574 0.         0.         0.\n",
      " 0.08359531 0.         0.         0.         0.9960503  0.\n",
      " 0.11877407 0.07978985 0.         0.04691499 0.         0.99215251\n",
      " 0.08623409 0.89894158 0.85526985 0.1225388  0.         0.\n",
      " 0.         0.43118751 0.66465205 0.         0.         0.04676756\n",
      " 0.9904682  0.         0.         0.22096716 0.         0.\n",
      " 0.         0.         0.08090801 0.         0.99255109 0.\n",
      " 0.06666647 0.         0.06507748 0.04485184 0.         0.\n",
      " 0.         0.14998326 0.03381521 0.1335043  0.08746862 0.\n",
      " 0.13022916 0.         0.11749963 0.         0.         0.05037384\n",
      " 0.         0.60811818 0.         0.76478535 0.14129068 0.67692757\n",
      " 0.         0.         0.522515   0.         0.         0.\n",
      " 0.57421631 0.         0.01524786 0.15601559 0.         0.7470907\n",
      " 0.         0.         0.         0.         0.72732097 0.\n",
      " 0.         0.         0.         0.         0.         0.\n",
      " 0.         0.         0.         0.         0.         0.\n",
      " 0.         0.         0.         0.         0.         0.\n",
      " 0.         0.         0.         0.         0.         0.\n",
      " 0.         0.         0.         0.         0.         0.\n",
      " 0.         0.         0.         0.         0.         0.\n",
      " 0.         0.0817638  0.         0.         0.         0.\n",
      " 0.         0.41007927 0.         0.         0.         0.\n",
      " 0.         0.         0.         0.         0.         0.\n",
      " 0.         0.         0.         0.         0.         0.\n",
      " 0.         0.         0.         0.         0.         0.\n",
      " 0.         0.         0.         0.         0.         0.\n",
      " 0.         0.         0.         0.         0.29447782 0.\n",
      " 0.34591252 0.         0.         0.         0.         0.43344435\n",
      " 0.         0.         0.         0.         0.         0.38186097\n",
      " 0.         0.         0.         0.         0.         0.\n",
      " 0.09395031 0.         0.         0.         0.         0.\n",
      " 0.         0.90168786 0.62840593 0.97658497 0.0454644  0.99235255\n",
      " 0.         0.         0.         0.99225789 0.         0.98290956\n",
      " 0.0562805  0.04212835 0.9931879  0.         0.90671647 0.95893312\n",
      " 0.77267295 0.         0.99425912 0.02908128 0.01797597 0.99676549\n",
      " 0.         0.13721354 0.20122541 0.68115211 0.         0.\n",
      " 0.48866677 0.         0.         0.         0.10597192 0.\n",
      " 0.         0.         0.67543089 0.         0.         0.\n",
      " 0.         0.06530912 0.         0.5333308  0.10565577 0.47912979\n",
      " 0.03747562 0.         0.12516786 0.         0.         0.05698678\n",
      " 0.08627832 0.         0.         0.56843907 0.12096012 0.95993841\n",
      " 0.         0.24983726 0.45991245 0.         0.96739155 0.\n",
      " 0.79897267 0.         0.96680743 0.84060478 0.         0.\n",
      " 0.         0.91481256 0.         0.58723301 0.         0.77503031\n",
      " 0.         0.84589911 0.         0.         0.80849797 0.\n",
      " 0.41153494 0.         0.         0.79864258 0.         0.88882053\n",
      " 0.20733228 0.         0.         0.27721977 0.01640434 0.\n",
      " 0.         0.         0.         0.09442885 0.         0.\n",
      " 0.6927461  0.         0.         0.         0.         0.\n",
      " 0.12964325 0.05036547 0.         0.         0.         0.\n",
      " 0.         0.         0.         0.         0.         0.\n",
      " 0.         0.         0.         0.         0.         0.\n",
      " 0.         0.         0.         0.         0.         0.\n",
      " 0.         0.         0.         0.         0.         0.\n",
      " 0.         0.         0.         0.         0.         0.\n",
      " 0.         0.         0.         0.         0.         0.\n",
      " 0.         0.         0.         0.         0.         0.\n",
      " 0.         0.         0.         0.         0.         0.49287313\n",
      " 0.         0.         0.         0.         0.         0.\n",
      " 0.         0.         0.         0.         0.         0.\n",
      " 0.         0.28972864 0.         0.4357042  0.         0.\n",
      " 0.         0.         0.         0.1598251  0.         0.\n",
      " 0.         0.         0.16212173 0.         0.         0.\n",
      " 0.         0.         0.1693929  0.25856498 0.07803092 0.08306789\n",
      " 0.         0.02843898 0.64395213 0.         0.         0.\n",
      " 0.27162105 0.01769919 0.         0.30517316 0.03154863 0.\n",
      " 0.         0.75897473 0.         0.         0.         0.\n",
      " 0.         0.         0.         0.         0.         0.\n",
      " 0.         0.         0.         0.         0.         0.\n",
      " 0.         0.         0.         0.         0.01754659 0.\n",
      " 0.         0.         0.         0.         0.         0.\n",
      " 0.         0.         0.         0.         0.18691029 0.\n",
      " 0.         0.         0.62015653 0.         0.40612635 0.72033232\n",
      " 0.1302781  0.         0.89040899 0.0692108  0.06792323 0.\n",
      " 0.27555183 0.07782277 0.45381781 0.         0.         0.\n",
      " 0.58218598 0.         0.         0.         0.        ]\n"
     ]
    },
    {
     "name": "stderr",
     "output_type": "stream",
     "text": [
      "/Users/vanessasalgado/Desktop/E4E-Acoustics.nosync/PyHa/PyHa/annotation_post_processing.py:213: SettingWithCopyWarning: \n",
      "A value is trying to be set on a copy of a slice from a DataFrame.\n",
      "Try using .loc[row_indexer,col_indexer] = value instead\n",
      "\n",
      "See the caveats in the documentation: https://pandas.pydata.org/pandas-docs/stable/user_guide/indexing.html#returning-a-view-versus-a-copy\n",
      "  #Init list of clips to cycle through and output dataframe\n"
     ]
    },
    {
     "name": "stdout",
     "output_type": "stream",
     "text": [
      "target 635\n",
      "confidence 634\n",
      "automated df 634\n",
      "[1. 1. 0. 1. 0. 0. 1. 0. 1. 1. 1. 1. 1. 1. 1. 1. 1. 1. 1. 1. 1. 1. 1. 1.\n",
      " 1. 1. 1. 1. 1. 1. 1. 1. 1. 1. 1. 1. 1. 1. 0. 0. 0. 0. 0. 0. 0. 0. 0. 1.\n",
      " 1. 1. 1. 1. 0. 1. 1. 1. 1. 0. 1. 0. 1. 0. 0. 1. 1. 1. 1. 1. 1. 1. 1. 1.\n",
      " 1. 0. 1. 0. 1. 0. 1. 1. 1. 0. 1. 0. 1. 0. 1. 0. 1. 0. 1. 1. 0. 1. 0. 1.\n",
      " 0. 1. 1. 0. 1. 0. 1. 0. 0. 0. 0. 1. 0. 1. 0. 0. 1. 0. 1. 0. 1. 1. 0. 1.\n",
      " 0. 1. 0. 1. 1. 0. 0. 0. 0. 0. 0. 0. 0. 1. 1. 1. 1. 1. 1. 1. 1. 1. 1. 1.\n",
      " 1. 0. 1. 0. 1. 1. 1. 1. 1. 1. 0. 1. 1. 1. 1. 0. 1. 1. 1. 0. 1. 0. 1. 0.\n",
      " 0. 0. 0. 1. 1. 1. 1. 1. 1. 1. 1. 1. 1. 1. 1. 0. 1. 0. 1. 1. 0. 0. 1. 0.\n",
      " 0. 0. 1. 0. 0. 1. 1. 0. 0. 1. 1. 1. 1. 1. 1. 1. 1. 1. 1. 1. 0. 1. 0. 1.\n",
      " 0. 0. 1. 0. 0. 1. 1. 1. 0. 1. 0. 0. 1. 1. 0. 0. 1. 0. 1. 1. 1. 1. 1. 0.\n",
      " 1. 1. 1. 1. 1. 1. 1. 1. 1. 1. 0. 1. 1. 1. 1. 1. 1. 1. 1. 1. 1. 1. 1. 1.\n",
      " 1. 1. 0. 0. 0. 0. 0. 0. 0. 0. 0. 0. 0. 0. 0. 1. 0. 1. 1. 1. 1. 1. 1. 0.\n",
      " 1. 1. 1. 1. 1. 1. 1. 1. 1. 1. 1. 1. 1. 1. 1. 1. 1. 0. 1. 1. 1. 1. 0. 1.\n",
      " 1. 0. 1. 0. 0. 1. 0. 0. 1. 1. 0. 0. 1. 0. 0. 1. 0. 0. 1. 0. 0. 1. 1. 0.\n",
      " 1. 1. 0. 1. 1. 1. 0. 1. 0. 1. 0. 0. 1. 0. 1. 0. 0. 1. 0. 1. 1. 0. 1. 1.\n",
      " 0. 1. 0. 0. 1. 0. 1. 1. 1. 1. 1. 1. 0. 1. 0. 1. 1. 0. 1. 0. 0. 0. 0. 0.\n",
      " 0. 1. 1. 1. 1. 1. 1. 1. 1. 1. 1. 1. 0. 1. 0. 0. 1. 0. 0. 1. 0. 0. 1. 0.\n",
      " 0. 1. 0. 0. 1. 1. 1. 1. 1. 0. 0. 1. 0. 1. 1. 0. 1. 1. 0. 1. 1. 0. 1. 1.\n",
      " 0. 0. 1. 0. 1. 0. 1. 0. 1. 0. 0. 1. 1. 1. 1. 1. 1. 1. 1. 1. 1. 1. 1. 1.\n",
      " 1. 1. 1. 1. 1. 1. 1. 1. 1. 1. 1. 1. 1. 1. 1. 1. 1. 1. 1. 1. 1. 1. 1. 1.\n",
      " 1. 1. 1. 1. 1. 1. 1. 1. 1. 1. 1. 1. 1. 1. 1. 1. 1. 1. 1. 1. 1. 1. 1. 1.\n",
      " 1. 1. 1. 1. 1. 1. 1. 1. 1. 1. 1. 1. 1. 1. 1. 1. 1. 1. 1. 1. 1. 1. 1. 1.\n",
      " 1. 1. 1. 1. 1. 1. 1. 1. 1. 1. 1. 1. 1. 1. 1. 1. 0. 1. 0. 1. 1. 0. 1. 0.\n",
      " 1. 1. 0. 1. 0. 0. 1. 0. 1. 1. 0. 1. 0. 0. 1. 0. 0. 0. 0. 0. 0. 0. 0. 0.\n",
      " 0. 0. 0. 0. 0. 0. 0. 0. 0. 0. 0. 1. 1. 1. 1. 1. 1. 1. 1. 1. 0. 1. 0. 1.\n",
      " 1. 1. 1. 1. 1. 1. 0. 1. 0. 1. 0. 0. 0. 1. 0. 0. 1. 0. 0. 1. 1. 0. 0. 1.\n",
      " 0. 1. 1. 1. 0. 1. 1. 1. 0. 1. 1.]\n",
      "[0.         0.15217921 0.         0.0497596  0.         0.\n",
      " 0.90181321 0.         0.89810014 0.38891971 0.40152502 0.\n",
      " 0.76987976 0.8432495  0.         0.         0.82178652 0.80749738\n",
      " 0.         0.08595397 0.78291607 0.         0.         0.65108019\n",
      " 0.42474851 0.         0.54240036 0.         0.         0.\n",
      " 0.         0.55477536 0.         0.31068906 0.96944481 0.84080356\n",
      " 0.93798858 0.95800948 0.         0.         0.         0.\n",
      " 0.         0.         0.         0.         0.         0.98255426\n",
      " 0.95657837 0.         0.98344684 0.99128413 0.         0.98431593\n",
      " 0.98595691 0.         0.99319941 0.         0.         0.\n",
      " 0.95919806 0.         0.         0.12069275 0.14500563 0.1809413\n",
      " 0.32797801 0.36246905 0.         0.79813331 0.         0.51288748\n",
      " 0.61756903 0.         0.34821048 0.         0.         0.\n",
      " 0.41775554 0.         0.34756154 0.         0.60458332 0.\n",
      " 0.16475746 0.         0.42656252 0.         0.         0.\n",
      " 0.         0.         0.         0.14772835 0.         0.0856939\n",
      " 0.         0.         0.         0.         0.04728292 0.\n",
      " 0.1140166  0.         0.         0.         0.         0.\n",
      " 0.         0.12259608 0.         0.         0.         0.\n",
      " 0.         0.         0.         0.         0.         0.05839063\n",
      " 0.         0.         0.         0.         0.         0.\n",
      " 0.         0.         0.         0.         0.         0.\n",
      " 0.         0.         0.3013818  0.51525891 0.71001983 0.7146101\n",
      " 0.93080413 0.         0.323807   0.78931206 0.19279201 0.\n",
      " 0.97278756 0.         0.83549011 0.         0.         0.\n",
      " 0.67543924 0.88315982 0.         0.84466749 0.         0.\n",
      " 0.87673312 0.         0.70274287 0.         0.99233562 0.\n",
      " 0.96415573 0.         0.91096854 0.         0.8955605  0.\n",
      " 0.         0.         0.         0.         0.         0.72669506\n",
      " 0.86533779 0.         0.84284306 0.96371275 0.         0.89424497\n",
      " 0.         0.34874481 0.         0.         0.97205275 0.\n",
      " 0.         0.98383951 0.         0.         0.98307931 0.\n",
      " 0.         0.         0.93204516 0.         0.         0.99133378\n",
      " 0.         0.         0.         0.96373391 0.45918497 0.\n",
      " 0.         0.57938832 0.33694309 0.86626822 0.2566165  0.19160298\n",
      " 0.         0.89048648 0.         0.94437551 0.         0.97627664\n",
      " 0.         0.         0.98323858 0.         0.         0.99243331\n",
      " 0.         0.         0.         0.96534657 0.         0.\n",
      " 0.         0.         0.         0.         0.         0.84238017\n",
      " 0.78706056 0.91795534 0.         0.23239505 0.         0.21796663\n",
      " 0.90869856 0.97420651 0.99270016 0.94083107 0.96688551 0.\n",
      " 0.         0.80551118 0.94363952 0.         0.83478355 0.\n",
      " 0.         0.65879244 0.93380994 0.96058881 0.87875134 0.9790014\n",
      " 0.82829082 0.35207236 0.         0.97993475 0.         0.0911455\n",
      " 0.86927319 0.7349149  0.79290545 0.67674327 0.72406185 0.8493107\n",
      " 0.74258405 0.71046561 0.72076392 0.72504991 0.5665381  0.\n",
      " 0.         0.         0.83390707 0.         0.60687792 0.42578024\n",
      " 0.         0.88809764 0.         0.         0.         0.\n",
      " 0.         0.         0.         0.69478244 0.64389628 0.\n",
      " 0.09429641 0.         0.         0.96129829 0.949476   0.36303186\n",
      " 0.15247843 0.         0.98327476 0.95207715 0.         0.77370399\n",
      " 0.         0.         0.         0.         0.         0.\n",
      " 0.         0.82032508 0.         0.         0.56595868 0.\n",
      " 0.         0.         0.19698371 0.         0.         0.\n",
      " 0.         0.         0.         0.         0.         0.\n",
      " 0.         0.         0.69709116 0.         0.         0.\n",
      " 0.         0.         0.         0.         0.25796565 0.\n",
      " 0.65360337 0.         0.26725215 0.         0.         0.39614162\n",
      " 0.         0.67453092 0.         0.         0.62077707 0.\n",
      " 0.72570044 0.         0.         0.810534   0.         0.\n",
      " 0.80505079 0.         0.         0.17008851 0.         0.\n",
      " 0.         0.         0.         0.         0.         0.\n",
      " 0.37986869 0.         0.40752986 0.         0.         0.\n",
      " 0.         0.         0.         0.         0.         0.\n",
      " 0.         0.         0.         0.3335647  0.84052581 0.84502506\n",
      " 0.         0.98444068 0.         0.         0.         0.\n",
      " 0.92676479 0.         0.         0.91648388 0.         0.\n",
      " 0.76207751 0.         0.         0.91672903 0.         0.\n",
      " 0.73038393 0.         0.         0.         0.         0.\n",
      " 0.08507507 0.         0.         0.         0.87558377 0.\n",
      " 0.         0.49901691 0.         0.         0.         0.\n",
      " 0.2687656  0.         0.         0.         0.45390376 0.\n",
      " 0.         0.78113449 0.         0.89523059 0.         0.7799651\n",
      " 0.         0.23787558 0.         0.         0.28343537 0.\n",
      " 0.         0.77588814 0.         0.         0.5553019  0.23807633\n",
      " 0.         0.42362419 0.         0.12514475 0.87682295 0.416379\n",
      " 0.         0.         0.         0.18105063 0.45299301 0.\n",
      " 0.80274951 0.         0.         0.22094274 0.36071947 0.\n",
      " 0.         0.         0.         0.60326749 0.49936727 0.\n",
      " 0.         0.         0.27320856 0.         0.         0.\n",
      " 0.         0.         0.17081265 0.         0.55712062 0.32552344\n",
      " 0.         0.27647653 0.40123418 0.         0.16587938 0.\n",
      " 0.         0.         0.30861151 0.10022703 0.         0.\n",
      " 0.         0.         0.18440077 0.0979455  0.         0.\n",
      " 0.         0.17205791 0.         0.         0.         0.43792465\n",
      " 0.18074469 0.         0.         0.         0.         0.\n",
      " 0.30030438 0.         0.         0.         0.07581349 0.\n",
      " 0.         0.         0.22695246 0.         0.         0.\n",
      " 0.         0.2011258  0.         0.         0.         0.29886678\n",
      " 0.         0.         0.         0.11365518 0.         0.99667239\n",
      " 0.         0.         0.99024689 0.         0.99460608 0.\n",
      " 0.         0.19932498 0.         0.98619217 0.         0.\n",
      " 0.9290964  0.         0.97827208 0.         0.         0.95763141\n",
      " 0.         0.         0.         0.         0.93319029 0.\n",
      " 0.         0.93391889 0.         0.         0.         0.\n",
      " 0.         0.         0.         0.         0.         0.\n",
      " 0.         0.         0.         0.         0.         0.\n",
      " 0.         0.         0.         0.         0.         0.\n",
      " 0.         0.         0.         0.         0.         0.68932116\n",
      " 0.79865545 0.         0.54853362 0.         0.         0.93452346\n",
      " 0.99311709 0.865749   0.21542239 0.78515488 0.91464257 0.\n",
      " 0.9454962  0.         0.98522675 0.         0.         0.\n",
      " 0.97743875 0.         0.         0.98431361 0.         0.\n",
      " 0.97513753 0.         0.         0.         0.9770183  0.\n",
      " 0.92147952 0.08573828 0.92972988 0.         0.78177148 0.11658739\n",
      " 0.56459969 0.         0.63222218 0.        ]\n"
     ]
    },
    {
     "name": "stderr",
     "output_type": "stream",
     "text": [
      "/Users/vanessasalgado/Desktop/E4E-Acoustics.nosync/PyHa/PyHa/annotation_post_processing.py:213: SettingWithCopyWarning: \n",
      "A value is trying to be set on a copy of a slice from a DataFrame.\n",
      "Try using .loc[row_indexer,col_indexer] = value instead\n",
      "\n",
      "See the caveats in the documentation: https://pandas.pydata.org/pandas-docs/stable/user_guide/indexing.html#returning-a-view-versus-a-copy\n",
      "  #Init list of clips to cycle through and output dataframe\n"
     ]
    },
    {
     "name": "stdout",
     "output_type": "stream",
     "text": [
      "target 285\n",
      "confidence 284\n",
      "automated df 284\n",
      "[1. 1. 0. 0. 0. 0. 1. 1. 1. 0. 1. 0. 1. 0. 0. 1. 0. 1. 1. 1. 0. 1. 1. 0.\n",
      " 0. 1. 1. 1. 1. 1. 1. 1. 1. 1. 1. 1. 1. 1. 1. 1. 1. 1. 1. 1. 1. 1. 1. 1.\n",
      " 1. 0. 1. 1. 0. 1. 1. 1. 1. 0. 0. 1. 1. 1. 0. 0. 0. 1. 1. 1. 1. 1. 1. 1.\n",
      " 0. 0. 0. 1. 1. 1. 1. 0. 1. 1. 0. 1. 1. 1. 1. 1. 0. 1. 1. 0. 1. 0. 0. 1.\n",
      " 1. 1. 1. 1. 1. 0. 0. 0. 0. 0. 0. 0. 0. 0. 0. 0. 0. 0. 0. 0. 0. 0. 1. 1.\n",
      " 0. 0. 0. 0. 1. 0. 0. 0. 0. 1. 1. 1. 1. 1. 1. 1. 1. 1. 1. 1. 1. 1. 1. 1.\n",
      " 1. 1. 0. 1. 0. 1. 1. 1. 1. 1. 1. 0. 1. 1. 1. 1. 1. 1. 1. 1. 1. 1. 1. 0.\n",
      " 1. 1. 1. 0. 1. 0. 1. 1. 0. 0. 1. 1. 0. 1. 0. 0. 1. 0. 1. 1. 0. 1. 1. 0.\n",
      " 0. 0. 1. 1. 1. 0. 1. 1. 0. 1. 1. 0. 0. 0. 1. 1. 1. 0. 1. 1. 0. 1. 1. 1.\n",
      " 0. 0. 0. 1. 1. 1. 1. 0. 1. 0. 0. 1. 1. 0. 1. 1. 0. 1. 1. 0. 1. 1. 0. 0.\n",
      " 1. 0. 0. 0. 0. 0. 0. 0. 0. 1. 1. 1. 1. 1. 1. 1. 1. 0. 1. 0. 1. 1. 1. 1.\n",
      " 1. 1. 1. 0. 1. 0. 1. 1. 0. 0. 0. 0. 0. 0. 1. 1. 0. 0. 0. 0. 0.]\n",
      "[0.01124568 0.96367073 0.         0.         0.         0.\n",
      " 0.8358376  0.56108034 0.544276   0.         0.4557023  0.\n",
      " 0.69892406 0.         0.         0.60459554 0.         0.38684976\n",
      " 0.79813164 0.76257628 0.         0.81019819 0.         0.\n",
      " 0.         0.76261032 0.38085356 0.         0.09113421 0.\n",
      " 0.         0.         0.         0.         0.         0.03507735\n",
      " 0.         0.         0.         0.         0.         0.\n",
      " 0.         0.         0.         0.         0.         0.\n",
      " 0.         0.         0.         0.         0.         0.\n",
      " 0.         0.         0.         0.         0.         0.28284523\n",
      " 0.34093425 0.         0.         0.         0.         0.\n",
      " 0.         0.         0.         0.         0.87216115 0.57068914\n",
      " 0.         0.         0.         0.89331639 0.         0.94959486\n",
      " 0.         0.         0.         0.55754483 0.         0.64630556\n",
      " 0.         0.91510898 0.82927454 0.2886208  0.         0.88198137\n",
      " 0.38057753 0.         0.83209562 0.         0.         0.81889516\n",
      " 0.30409604 0.         0.         0.10632434 0.82464015 0.\n",
      " 0.         0.         0.         0.         0.         0.\n",
      " 0.         0.         0.         0.         0.         0.\n",
      " 0.         0.         0.         0.         0.55518901 0.22112349\n",
      " 0.         0.         0.         0.         0.65552533 0.\n",
      " 0.         0.         0.         0.28952214 0.         0.\n",
      " 0.         0.         0.         0.         0.         0.\n",
      " 0.         0.08991594 0.         0.         0.         0.\n",
      " 0.         0.         0.         0.06825876 0.         0.\n",
      " 0.         0.         0.         0.         0.         0.\n",
      " 0.         0.         0.         0.         0.         0.\n",
      " 0.         0.         0.9727633  0.         0.96807122 0.\n",
      " 0.94224238 0.91178423 0.         0.         0.85503858 0.\n",
      " 0.75649989 0.         0.         0.36380613 0.         0.\n",
      " 0.         0.         0.         0.23968734 0.         0.\n",
      " 0.         0.         0.94130439 0.11862498 0.         0.\n",
      " 0.         0.74505574 0.87009269 0.         0.         0.\n",
      " 0.16135059 0.         0.         0.90567946 0.         0.\n",
      " 0.         0.54926294 0.         0.96336126 0.         0.90417486\n",
      " 0.46079764 0.         0.91050071 0.         0.84592408 0.11461446\n",
      " 0.         0.         0.         0.         0.12240916 0.82965809\n",
      " 0.         0.98762441 0.         0.         0.95468575 0.\n",
      " 0.         0.80754328 0.77518737 0.         0.63965499 0.88750309\n",
      " 0.         0.         0.42551169 0.         0.         0.93330181\n",
      " 0.         0.         0.         0.         0.         0.\n",
      " 0.         0.         0.93176615 0.14318466 0.         0.46226507\n",
      " 0.         0.21753407 0.09926803 0.19313586 0.         0.77925742\n",
      " 0.         0.44478992 0.09439912 0.68477213 0.0877817  0.7603364\n",
      " 0.70281619 0.         0.         0.42008027 0.         0.\n",
      " 0.         0.         0.         0.         0.         0.\n",
      " 0.         0.20255776 0.         0.         0.         0.\n",
      " 0.         0.        ]\n"
     ]
    },
    {
     "name": "stderr",
     "output_type": "stream",
     "text": [
      "/Users/vanessasalgado/Desktop/E4E-Acoustics.nosync/PyHa/PyHa/annotation_post_processing.py:213: SettingWithCopyWarning: \n",
      "A value is trying to be set on a copy of a slice from a DataFrame.\n",
      "Try using .loc[row_indexer,col_indexer] = value instead\n",
      "\n",
      "See the caveats in the documentation: https://pandas.pydata.org/pandas-docs/stable/user_guide/indexing.html#returning-a-view-versus-a-copy\n",
      "  #Init list of clips to cycle through and output dataframe\n"
     ]
    },
    {
     "name": "stdout",
     "output_type": "stream",
     "text": [
      "target 352\n",
      "confidence 352\n",
      "automated df 352\n",
      "[1. 1. 0. 1. 1. 1. 1. 1. 1. 1. 1. 1. 1. 1. 1. 1. 1. 1. 0. 1. 1. 1. 1. 1.\n",
      " 1. 1. 1. 1. 1. 1. 1. 1. 0. 1. 1. 1. 0. 0. 1. 1. 1. 1. 1. 1. 1. 1. 0. 0.\n",
      " 1. 1. 1. 1. 1. 1. 1. 1. 0. 1. 1. 0. 1. 1. 1. 1. 1. 1. 1. 1. 1. 1. 1. 1.\n",
      " 1. 1. 1. 1. 1. 1. 1. 1. 1. 1. 1. 1. 1. 1. 1. 1. 1. 1. 1. 1. 1. 1. 1. 1.\n",
      " 1. 1. 1. 1. 1. 1. 1. 0. 1. 1. 1. 1. 1. 1. 1. 0. 1. 1. 1. 1. 1. 1. 1. 1.\n",
      " 1. 1. 1. 1. 1. 1. 1. 1. 1. 1. 1. 1. 1. 1. 1. 1. 1. 1. 1. 1. 1. 1. 1. 1.\n",
      " 1. 1. 1. 1. 1. 1. 1. 1. 1. 1. 1. 1. 1. 1. 1. 1. 1. 1. 1. 1. 1. 1. 1. 1.\n",
      " 1. 1. 1. 1. 1. 1. 1. 1. 1. 1. 0. 1. 0. 1. 1. 1. 1. 1. 1. 1. 1. 1. 1. 1.\n",
      " 1. 1. 1. 1. 1. 1. 1. 1. 1. 1. 1. 0. 1. 1. 1. 1. 1. 1. 1. 1. 1. 1. 1. 1.\n",
      " 1. 1. 1. 1. 1. 1. 1. 1. 1. 1. 1. 1. 1. 1. 1. 1. 1. 1. 1. 1. 1. 1. 1. 1.\n",
      " 1. 1. 1. 1. 1. 1. 1. 1. 1. 1. 1. 1. 1. 1. 1. 1. 1. 1. 1. 1. 1. 1. 1. 1.\n",
      " 1. 1. 1. 1. 1. 1. 1. 1. 1. 1. 1. 1. 1. 1. 1. 1. 1. 1. 1. 1. 1. 1. 1. 1.\n",
      " 1. 1. 1. 1. 1. 1. 1. 1. 1. 1. 1. 1. 1. 1. 1. 1. 1. 1. 1. 1. 1. 1. 1. 1.\n",
      " 1. 1. 1. 1. 1. 1. 1. 1. 1. 1. 1. 1. 1. 1. 1. 1. 1. 1. 1. 1. 1. 1. 1. 1.\n",
      " 1. 1. 1. 1. 1. 1. 1. 1. 1. 1. 1. 1. 1. 1. 1. 1.]\n",
      "[0.98550725 0.99908555 0.         0.99036437 0.99533701 0.14636278\n",
      " 0.89783555 0.99954492 0.99389333 0.9876796  0.9993118  0.99861085\n",
      " 0.99349868 0.99764353 0.9882614  0.99674183 0.99791998 0.69004905\n",
      " 0.         0.99058878 0.98908591 0.99606186 0.99027342 0.92115587\n",
      " 0.94914746 0.86941499 0.91730434 0.9566769  0.96801704 0.91775364\n",
      " 0.94818193 0.95025986 0.         0.78090572 0.84616077 0.7637707\n",
      " 0.83317107 0.68140537 0.81754273 0.46793243 0.07990258 0.76546174\n",
      " 0.92390555 0.72186738 0.68306249 0.84137112 0.         0.\n",
      " 0.98741907 0.99483997 0.99353641 0.94210243 0.9497925  0.99962807\n",
      " 0.99795026 0.99811208 0.99857473 0.98518038 0.9993149  0.99551386\n",
      " 0.99809855 0.99549943 0.99583238 0.99913377 0.         0.99929619\n",
      " 0.99861801 0.99790812 0.99779439 0.99858606 0.99757415 0.99748385\n",
      " 0.00961609 0.99935931 0.99800354 0.99732167 0.99396801 0.99923968\n",
      " 0.999044   0.99759239 0.99842572 0.99919218 0.99639684 0.99947804\n",
      " 0.57822275 0.52115393 0.97318143 0.         0.95988041 0.85765934\n",
      " 0.15886492 0.         0.98734158 0.20153555 0.93034881 0.\n",
      " 0.         0.98846442 0.         0.         0.91256571 0.61122072\n",
      " 0.59299421 0.45917055 0.99409014 0.9843142  0.9941749  0.966052\n",
      " 0.71802604 0.82469648 0.82389247 0.         0.88179958 0.9760384\n",
      " 0.95641458 0.99366802 0.91380519 0.96377027 0.72891933 0.53137523\n",
      " 0.95163023 0.97336167 0.86637336 0.97270095 0.88955522 0.98798555\n",
      " 0.         0.97349894 0.95585984 0.77170467 0.54718494 0.98016882\n",
      " 0.98260915 0.97088653 0.95218718 0.99410003 0.99734986 0.89089662\n",
      " 0.8656674  0.92966449 0.96656287 0.94510132 0.9274677  0.95038456\n",
      " 0.84473425 0.24022426 0.99881113 0.99923217 0.97819477 0.94582385\n",
      " 0.98709744 0.98891771 0.98971516 0.99765527 0.98907149 0.99860126\n",
      " 0.99143219 0.9976902  0.98930115 0.98017222 0.         0.99925119\n",
      " 0.99626774 0.99397779 0.9988901  0.99359316 0.97103477 0.99155581\n",
      " 0.99471235 0.99748492 0.99854642 0.99777126 0.99934179 0.99567646\n",
      " 0.4586252  0.92842996 0.91621047 0.9512766  0.         0.80257046\n",
      " 0.         0.96218169 0.99745613 0.99703312 0.99666733 0.99608999\n",
      " 0.95804453 0.98906648 0.81832254 0.99949837 0.98503518 0.40851113\n",
      " 0.30972388 0.53813696 0.06490169 0.48514971 0.31731355 0.25029254\n",
      " 0.18179825 0.64064997 0.         0.91713494 0.61987716 0.\n",
      " 0.99390632 0.87147444 0.9909113  0.99622667 0.99185175 0.99707007\n",
      " 0.89173281 0.9900158  0.98713195 0.         0.38962182 0.96351451\n",
      " 0.         0.24200769 0.         0.84213841 0.98658967 0.99568439\n",
      " 0.98998547 0.98317391 0.64582998 0.91808349 0.99764389 0.98649108\n",
      " 0.98541808 0.96488822 0.8553834  0.53224462 0.75484502 0.84394252\n",
      " 0.9692741  0.99841452 0.99404031 0.9998349  0.99903297 0.99943894\n",
      " 0.99739134 0.99439669 0.99843472 0.99956053 0.99670947 0.9950217\n",
      " 0.99007004 0.99548471 0.99870586 0.99649519 0.99493623 0.99690151\n",
      " 0.99258888 0.93883246 0.9948715  0.84214485 0.98567945 0.99523181\n",
      " 0.99394965 0.99830854 0.         0.69357985 0.36877057 0.\n",
      " 0.69357985 0.36877057 0.99989164 0.95630628 0.9992767  0.99989104\n",
      " 0.99981409 0.99996328 0.99981409 0.99819714 0.99993908 0.99977452\n",
      " 0.99946278 0.99505323 0.99953973 0.99897027 0.98924643 0.99781322\n",
      " 0.99546319 0.99959213 0.99864548 0.99977607 0.99853837 0.99216628\n",
      " 0.99888831 0.98872977 0.97442406 0.96446323 0.98228055 0.96969604\n",
      " 0.97644991 0.99599314 0.96729672 0.98077077 0.97683048 0.88942528\n",
      " 0.62242866 0.68131983 0.97206813 0.98454225 0.97643524 0.97706795\n",
      " 0.95537871 0.30167651 0.61560953 0.81021345 0.93685824 0.86087191\n",
      " 0.8150934  0.83259231 0.68978643 0.5890184  0.85988867 0.92868251\n",
      " 0.95272148 0.93359035 0.         0.97742677 0.99875855 0.9810456\n",
      " 0.99089688 0.         0.30181026 0.33181515 0.91600108 0.68388927\n",
      " 0.         0.91594881 0.8837105  0.7970733  0.99960548 0.99943763\n",
      " 0.98751926 0.99977666 0.99755055 0.9962436  0.99499714 0.98170394\n",
      " 0.99427491 0.98668182 0.96392161 0.99330407 0.98906994 0.82138282\n",
      " 0.93858677 0.77784306 0.75964564 0.36333749]\n"
     ]
    },
    {
     "name": "stderr",
     "output_type": "stream",
     "text": [
      "/Users/vanessasalgado/Desktop/E4E-Acoustics.nosync/PyHa/PyHa/annotation_post_processing.py:213: SettingWithCopyWarning: \n",
      "A value is trying to be set on a copy of a slice from a DataFrame.\n",
      "Try using .loc[row_indexer,col_indexer] = value instead\n",
      "\n",
      "See the caveats in the documentation: https://pandas.pydata.org/pandas-docs/stable/user_guide/indexing.html#returning-a-view-versus-a-copy\n",
      "  #Init list of clips to cycle through and output dataframe\n"
     ]
    },
    {
     "name": "stdout",
     "output_type": "stream",
     "text": [
      "target 478\n",
      "confidence 478\n",
      "automated df 478\n",
      "[1. 1. 1. 1. 0. 1. 1. 1. 0. 1. 1. 1. 0. 1. 1. 1. 1. 0. 1. 1. 1. 1. 1. 1.\n",
      " 1. 1. 1. 1. 1. 1. 1. 1. 1. 1. 0. 0. 1. 1. 1. 0. 0. 0. 1. 1. 1. 1. 1. 1.\n",
      " 1. 0. 0. 0. 0. 0. 0. 0. 0. 0. 0. 0. 0. 0. 0. 0. 0. 0. 0. 0. 0. 0. 0. 0.\n",
      " 0. 0. 0. 0. 0. 0. 0. 0. 0. 0. 0. 0. 0. 0. 0. 0. 0. 0. 0. 0. 0. 0. 0. 0.\n",
      " 0. 0. 0. 0. 0. 0. 0. 0. 0. 0. 0. 0. 0. 0. 0. 0. 0. 0. 0. 0. 0. 0. 0. 0.\n",
      " 0. 1. 1. 1. 1. 1. 1. 1. 1. 1. 1. 1. 1. 1. 1. 1. 1. 1. 1. 1. 1. 1. 1. 1.\n",
      " 1. 1. 1. 1. 0. 1. 1. 1. 1. 0. 1. 1. 1. 1. 1. 1. 0. 0. 1. 1. 0. 1. 1. 1.\n",
      " 1. 1. 1. 0. 1. 1. 1. 0. 1. 1. 1. 0. 0. 0. 0. 0. 0. 0. 0. 1. 1. 0. 0. 0.\n",
      " 0. 0. 0. 0. 0. 0. 0. 0. 0. 0. 0. 0. 0. 0. 1. 1. 1. 0. 1. 0. 1. 1. 1. 1.\n",
      " 1. 0. 0. 0. 0. 1. 1. 1. 1. 1. 0. 0. 0. 1. 1. 1. 1. 0. 0. 1. 1. 0. 0. 0.\n",
      " 1. 1. 0. 0. 0. 0. 0. 0. 0. 0. 1. 1. 1. 0. 1. 1. 1. 1. 1. 1. 0. 1. 0. 1.\n",
      " 0. 1. 1. 1. 1. 1. 1. 1. 0. 1. 1. 1. 1. 1. 1. 1. 1. 1. 1. 1. 1. 1. 0. 1.\n",
      " 0. 0. 0. 1. 1. 0. 1. 1. 0. 0. 0. 0. 0. 0. 0. 0. 0. 0. 0. 0. 0. 0. 0. 0.\n",
      " 0. 0. 1. 1. 1. 1. 1. 1. 1. 0. 1. 1. 1. 1. 0. 0. 1. 1. 1. 1. 1. 0. 1. 1.\n",
      " 1. 0. 0. 1. 1. 1. 0. 0. 0. 0. 0. 0. 0. 0. 0. 0. 0. 0. 0. 1. 1. 0. 0. 1.\n",
      " 1. 1. 1. 1. 1. 1. 1. 0. 1. 1. 1. 0. 1. 1. 1. 1. 1. 0. 1. 1. 1. 0. 1. 1.\n",
      " 0. 0. 0. 0. 0. 1. 1. 0. 0. 0. 0. 0. 1. 0. 0. 0. 0. 0. 0. 0. 0. 1. 1. 0.\n",
      " 1. 1. 0. 0. 0. 0. 0. 1. 0. 0. 1. 1. 0. 0. 1. 0. 0. 0. 0. 0. 1. 1. 0. 0.\n",
      " 1. 1. 0. 0. 1. 0. 1. 1. 1. 0. 0. 0. 0. 1. 0. 0. 1. 1. 1. 1. 1. 1. 1. 0.\n",
      " 1. 1. 1. 1. 0. 0. 0. 0. 0. 0. 0. 0. 0. 0. 0. 0. 0. 0. 1. 1. 0. 1.]\n",
      "[0.81724381 0.39257765 0.90162838 0.75714535 0.         0.78609145\n",
      " 0.85283196 0.92993605 0.         0.60694343 0.91540486 0.01141254\n",
      " 0.         0.82727319 0.70505238 0.19856119 0.95529217 0.\n",
      " 0.         0.87884343 0.61836916 0.91406482 0.         0.\n",
      " 0.         0.90030724 0.79813927 0.         0.90309781 0.42902046\n",
      " 0.         0.         0.74367988 0.58270305 0.         0.\n",
      " 0.05939432 0.18543757 0.26099706 0.         0.         0.\n",
      " 0.94079584 0.80616122 0.3545267  0.         0.         0.\n",
      " 0.70468003 0.11077849 0.20767537 0.         0.08978227 0.\n",
      " 0.42630586 0.18067414 0.1651379  0.         0.         0.\n",
      " 0.         0.11507168 0.         0.         0.11250127 0.\n",
      " 0.25753748 0.         0.         0.         0.         0.\n",
      " 0.11117871 0.22061992 0.17376098 0.15618733 0.17655218 0.61225849\n",
      " 0.28107053 0.         0.45287788 0.         0.40468374 0.\n",
      " 0.         0.245281   0.         0.02143782 0.         0.18158127\n",
      " 0.53862423 0.         0.         0.38177836 0.         0.\n",
      " 0.         0.         0.         0.         0.         0.76985103\n",
      " 0.         0.04261847 0.01065894 0.         0.35566664 0.\n",
      " 0.         0.5142166  0.         0.0265242  0.4692283  0.82828134\n",
      " 0.01328424 0.71346599 0.67916089 0.1724914  0.54464978 0.\n",
      " 0.07973599 0.93609726 0.95446044 0.9734084  0.54098845 0.92082441\n",
      " 0.87976098 0.96114111 0.95841318 0.94294101 0.93154609 0.92741913\n",
      " 0.96545625 0.3520503  0.49826184 0.         0.96615523 0.38468686\n",
      " 0.90425938 0.27316988 0.         0.         0.83058387 0.92764425\n",
      " 0.67151713 0.84613436 0.87364131 0.82713634 0.         0.54073429\n",
      " 0.90768266 0.53255361 0.8850168  0.         0.79014331 0.92842925\n",
      " 0.59035641 0.         0.72075933 0.42235911 0.         0.\n",
      " 0.         0.78589618 0.         0.79256988 0.51336759 0.\n",
      " 0.82014626 0.48153979 0.         0.         0.         0.83677906\n",
      " 0.67380095 0.         0.         0.81478173 0.         0.\n",
      " 0.         0.         0.         0.         0.         0.\n",
      " 0.         0.8997705  0.65621054 0.         0.96192133 0.\n",
      " 0.85842621 0.82725066 0.         0.23357305 0.55786467 0.\n",
      " 0.94659668 0.40248457 0.44043815 0.76340979 0.         0.50007504\n",
      " 0.84739363 0.85257691 0.         0.56631196 0.59239668 0.\n",
      " 0.34751302 0.         0.34773186 0.85579962 0.         0.96950769\n",
      " 0.24200884 0.         0.         0.65856934 0.         0.40133709\n",
      " 0.65480691 0.         0.86480844 0.42765653 0.         0.\n",
      " 0.         0.85822016 0.77979422 0.43094411 0.481792   0.\n",
      " 0.         0.07818571 0.         0.         0.         0.\n",
      " 0.04577886 0.         0.         0.13229749 0.         0.\n",
      " 0.         0.         0.38743544 0.25242454 0.97889268 0.22156306\n",
      " 0.54770422 0.03521818 0.         0.         0.39341381 0.22000764\n",
      " 0.45737824 0.         0.         0.         0.         0.\n",
      " 0.         0.         0.         0.         0.54359812 0.81825083\n",
      " 0.70794827 0.         0.         0.         0.         0.\n",
      " 0.6350137  0.         0.97933263 0.94079489 0.14544292 0.\n",
      " 0.45275307 0.27639922 0.         0.44191915 0.         0.85341322\n",
      " 0.         0.         0.         0.96735817 0.83957589 0.\n",
      " 0.98229861 0.99036521 0.         0.         0.         0.43457982\n",
      " 0.         0.1336946  0.33712438 0.24216972 0.         0.\n",
      " 0.         0.         0.         0.         0.54559565 0.99200976\n",
      " 0.         0.         0.91837955 0.89636725 0.97150618 0.87827784\n",
      " 0.9796077  0.4752872  0.62546271 0.         0.         0.92800701\n",
      " 0.88396531 0.85713738 0.         0.01875827 0.638699   0.\n",
      " 0.56179726 0.92908835 0.7909832  0.         0.62372345 0.18336073\n",
      " 0.         0.         0.         0.         0.0367134  0.\n",
      " 0.         0.12112671 0.         0.         0.08418336 0.\n",
      " 0.         0.         0.02938384 0.         0.11756983 0.\n",
      " 0.         0.93262804 0.65037245 0.         0.         0.86110443\n",
      " 0.43139434 0.         0.20686793 0.         0.12610225 0.\n",
      " 0.         0.         0.12700395 0.06421715 0.58935821 0.\n",
      " 0.         0.         0.02599478 0.71357292 0.03614657 0.\n",
      " 0.3145535  0.         0.         0.         0.86309558 0.\n",
      " 0.         0.         0.         0.         0.         0.07329492\n",
      " 0.         0.44172981 0.         0.03187027 0.         0.\n",
      " 0.         0.         0.         0.         0.         0.\n",
      " 0.         0.         0.         0.13234524 0.         0.\n",
      " 0.         0.         0.         0.         0.         0.\n",
      " 0.         0.52155113 0.         0.         0.44880846 0.4259454\n",
      " 0.         0.         0.5558846  0.         0.         0.\n",
      " 0.         0.         0.         0.21218204 0.         0.\n",
      " 0.79455364 0.94170326 0.         0.         0.56811273 0.\n",
      " 0.45567954 0.75192475 0.86714739 0.         0.71351022 0.\n",
      " 0.         0.509215   0.         0.         0.         0.\n",
      " 0.         0.         0.         0.         0.04755346 0.\n",
      " 0.         0.51346046 0.32338327 0.         0.         0.\n",
      " 0.         0.         0.         0.         0.         0.\n",
      " 0.         0.         0.         0.         0.         0.\n",
      " 0.11381871 0.         0.         0.        ]\n"
     ]
    },
    {
     "name": "stderr",
     "output_type": "stream",
     "text": [
      "/Users/vanessasalgado/Desktop/E4E-Acoustics.nosync/PyHa/PyHa/annotation_post_processing.py:213: SettingWithCopyWarning: \n",
      "A value is trying to be set on a copy of a slice from a DataFrame.\n",
      "Try using .loc[row_indexer,col_indexer] = value instead\n",
      "\n",
      "See the caveats in the documentation: https://pandas.pydata.org/pandas-docs/stable/user_guide/indexing.html#returning-a-view-versus-a-copy\n",
      "  #Init list of clips to cycle through and output dataframe\n"
     ]
    },
    {
     "name": "stdout",
     "output_type": "stream",
     "text": [
      "target 308\n",
      "confidence 307\n",
      "automated df 307\n",
      "[1. 0. 1. 1. 1. 0. 1. 1. 1. 1. 1. 1. 0. 0. 0. 0. 0. 0. 1. 1. 1. 1. 1. 1.\n",
      " 1. 1. 1. 0. 1. 1. 0. 0. 1. 0. 0. 1. 1. 1. 1. 1. 1. 1. 1. 1. 0. 1. 1. 1.\n",
      " 1. 1. 0. 1. 1. 1. 1. 1. 0. 0. 1. 1. 1. 1. 1. 1. 1. 1. 1. 1. 1. 1. 1. 1.\n",
      " 1. 1. 1. 0. 0. 0. 1. 0. 0. 0. 0. 0. 0. 1. 1. 1. 1. 1. 0. 0. 0. 1. 1. 0.\n",
      " 1. 1. 1. 1. 0. 1. 0. 1. 1. 0. 0. 0. 0. 0. 1. 1. 0. 0. 0. 1. 1. 0. 0. 1.\n",
      " 0. 0. 1. 1. 0. 0. 1. 0. 0. 0. 1. 1. 0. 1. 1. 0. 1. 1. 1. 0. 1. 1. 1. 0.\n",
      " 1. 0. 1. 1. 0. 1. 1. 0. 0. 0. 0. 0. 1. 0. 1. 1. 1. 1. 1. 1. 0. 1. 0. 0.\n",
      " 0. 0. 0. 1. 1. 0. 0. 1. 1. 0. 0. 1. 1. 1. 0. 0. 1. 1. 1. 1. 1. 1. 0. 0.\n",
      " 0. 1. 1. 0. 0. 0. 0. 1. 1. 1. 1. 1. 1. 1. 1. 1. 0. 1. 0. 1. 1. 1. 1. 0.\n",
      " 1. 1. 1. 1. 0. 0. 1. 1. 0. 0. 0. 0. 1. 1. 0. 0. 0. 0. 1. 1. 1. 0. 0. 0.\n",
      " 0. 0. 0. 1. 1. 1. 1. 1. 1. 0. 1. 1. 1. 1. 1. 1. 1. 0. 0. 1. 1. 1. 1. 1.\n",
      " 1. 1. 1. 1. 1. 1. 1. 1. 1. 1. 1. 1. 0. 0. 1. 1. 1. 1. 1. 1. 1. 1. 1. 1.\n",
      " 1. 1. 1. 1. 1. 1. 1. 1. 1. 1. 1. 1. 1. 1. 1. 1. 1. 1. 1. 1.]\n",
      "[0.81052178 0.         0.8771345  0.85304183 0.82020092 0.\n",
      " 0.57367551 0.71676004 0.         0.05152643 0.5658834  0.64367044\n",
      " 0.         0.         0.36906576 0.88512903 0.         0.\n",
      " 0.76379955 0.4807294  0.         0.39272618 0.73687136 0.4690845\n",
      " 0.17259459 0.         0.         0.07808555 0.         0.\n",
      " 0.         0.         0.         0.         0.         0.\n",
      " 0.94989693 0.         0.13027649 0.74144167 0.         0.\n",
      " 0.99738926 0.         0.         0.96777713 0.99416697 0.98456514\n",
      " 0.99267817 0.         0.99343973 0.9962256  0.05014886 0.\n",
      " 0.03775958 0.         0.         0.         0.1400611  0.\n",
      " 0.         0.         0.         0.         0.93391132 0.95248067\n",
      " 0.90405327 0.8831405  0.94556838 0.92154062 0.87575495 0.96713191\n",
      " 0.87709826 0.92073786 0.         0.         0.         0.13462883\n",
      " 0.         0.         0.         0.         0.48643237 0.\n",
      " 0.         0.         0.         0.         0.         0.\n",
      " 0.         0.         0.         0.         0.         0.\n",
      " 0.22715397 0.         0.         0.         0.         0.\n",
      " 0.         0.95693892 0.         0.         0.         0.\n",
      " 0.         0.98177058 0.         0.         0.         0.\n",
      " 0.93150443 0.9919132  0.         0.         0.         0.\n",
      " 0.         0.         0.         0.         0.         0.91272253\n",
      " 0.         0.         0.         0.9376145  0.91381782 0.\n",
      " 0.96984196 0.96470201 0.         0.14410205 0.         0.\n",
      " 0.         0.19187388 0.23354423 0.         0.         0.53867453\n",
      " 0.         0.         0.39660245 0.         0.15091483 0.\n",
      " 0.         0.         0.         0.         0.         0.\n",
      " 0.         0.         0.         0.         0.         0.12684226\n",
      " 0.21821855 0.         0.         0.         0.         0.\n",
      " 0.         0.         0.92521387 0.79351252 0.         0.\n",
      " 0.97549188 0.71274787 0.         0.         0.71360648 0.81029552\n",
      " 0.         0.         0.         0.79065472 0.88649172 0.09658652\n",
      " 0.51868236 0.         0.40676093 0.         0.         0.\n",
      " 0.         0.53429997 0.         0.         0.         0.\n",
      " 0.40334609 0.         0.7762531  0.98640513 0.8902151  0.97880131\n",
      " 0.97881228 0.92852646 0.         0.         0.29882756 0.\n",
      " 0.         0.         0.29110849 0.42537069 0.         0.\n",
      " 0.08815081 0.         0.85549843 0.         0.         0.91463554\n",
      " 0.45734453 0.         0.         0.         0.         0.\n",
      " 0.         0.         0.         0.         0.         0.84649181\n",
      " 0.64401686 0.61200917 0.         0.12397297 0.31400916 0.\n",
      " 0.         0.         0.02294641 0.04371578 0.91299558 0.94680989\n",
      " 0.66358    0.58893543 0.         0.75672412 0.53410238 0.\n",
      " 0.5497542  0.         0.43049622 0.25860947 0.         0.\n",
      " 0.18755619 0.         0.8032847  0.90159661 0.80817211 0.44626793\n",
      " 0.56167424 0.66088033 0.7679897  0.32393584 0.81952351 0.6238414\n",
      " 0.         0.7714079  0.12260744 0.84080881 0.90334016 0.\n",
      " 0.         0.         0.9003216  0.95406502 0.91311294 0.76880407\n",
      " 0.86683524 0.94944859 0.90413821 0.92846107 0.90387714 0.85883516\n",
      " 0.98566312 0.98295158 0.94561291 0.98070747 0.9733445  0.96884656\n",
      " 0.         0.7630201  0.83122355 0.         0.         0.\n",
      " 0.77094567 0.64930505 0.         0.         0.         0.\n",
      " 0.50413615]\n"
     ]
    },
    {
     "name": "stderr",
     "output_type": "stream",
     "text": [
      "/Users/vanessasalgado/Desktop/E4E-Acoustics.nosync/PyHa/PyHa/annotation_post_processing.py:213: SettingWithCopyWarning: \n",
      "A value is trying to be set on a copy of a slice from a DataFrame.\n",
      "Try using .loc[row_indexer,col_indexer] = value instead\n",
      "\n",
      "See the caveats in the documentation: https://pandas.pydata.org/pandas-docs/stable/user_guide/indexing.html#returning-a-view-versus-a-copy\n",
      "  #Init list of clips to cycle through and output dataframe\n"
     ]
    },
    {
     "name": "stdout",
     "output_type": "stream",
     "text": [
      "target 550\n",
      "confidence 550\n",
      "automated df 550\n",
      "[1. 1. 1. 1. 1. 1. 1. 1. 1. 1. 1. 1. 1. 1. 0. 1. 1. 1. 1. 1. 1. 1. 1. 1.\n",
      " 1. 1. 0. 0. 1. 1. 1. 0. 0. 0. 1. 1. 1. 1. 1. 1. 1. 1. 1. 1. 1. 0. 1. 1.\n",
      " 0. 0. 0. 1. 1. 1. 1. 1. 1. 1. 1. 1. 1. 1. 1. 1. 1. 1. 1. 1. 1. 0. 1. 1.\n",
      " 1. 1. 0. 0. 1. 1. 1. 1. 1. 1. 1. 1. 0. 0. 1. 1. 1. 1. 0. 1. 1. 1. 1. 1.\n",
      " 0. 1. 1. 1. 1. 0. 0. 0. 0. 0. 0. 1. 1. 1. 1. 0. 1. 1. 1. 1. 1. 1. 1. 1.\n",
      " 1. 1. 1. 0. 0. 1. 1. 1. 1. 0. 0. 1. 1. 1. 1. 1. 0. 1. 1. 1. 1. 1. 1. 1.\n",
      " 1. 1. 1. 1. 0. 0. 0. 1. 1. 1. 0. 1. 0. 0. 1. 1. 1. 0. 1. 1. 1. 0. 0. 1.\n",
      " 1. 1. 0. 1. 1. 1. 0. 1. 1. 1. 0. 1. 1. 1. 1. 1. 1. 1. 1. 0. 0. 1. 1. 1.\n",
      " 1. 0. 1. 1. 1. 1. 1. 1. 1. 1. 1. 0. 0. 0. 1. 1. 1. 0. 1. 1. 1. 0. 0. 1.\n",
      " 1. 1. 0. 0. 1. 1. 0. 0. 1. 1. 1. 0. 0. 1. 1. 1. 0. 1. 1. 1. 0. 0. 1. 1.\n",
      " 1. 0. 1. 1. 1. 0. 1. 1. 1. 0. 0. 0. 1. 1. 1. 0. 1. 1. 1. 1. 0. 0. 1. 1.\n",
      " 1. 0. 1. 1. 0. 1. 1. 1. 0. 0. 1. 0. 1. 1. 1. 0. 1. 1. 1. 0. 0. 1. 1. 1.\n",
      " 1. 0. 0. 1. 1. 0. 1. 1. 0. 0. 0. 1. 1. 1. 1. 0. 0. 0. 0. 0. 0. 0. 1. 1.\n",
      " 1. 0. 0. 1. 1. 1. 1. 1. 0. 0. 0. 0. 0. 0. 1. 1. 0. 0. 0. 1. 1. 1. 1. 1.\n",
      " 1. 0. 1. 1. 1. 1. 1. 0. 0. 1. 1. 1. 0. 1. 1. 1. 1. 1. 1. 1. 1. 1. 1. 1.\n",
      " 1. 0. 0. 0. 0. 0. 0. 0. 0. 0. 0. 0. 1. 0. 0. 1. 1. 1. 0. 0. 0. 0. 0. 0.\n",
      " 0. 0. 0. 0. 0. 0. 0. 1. 1. 1. 1. 1. 1. 1. 1. 1. 1. 1. 1. 1. 1. 1. 1. 1.\n",
      " 1. 1. 1. 0. 1. 1. 1. 1. 1. 1. 1. 1. 0. 0. 0. 0. 0. 0. 0. 0. 0. 0. 0. 0.\n",
      " 0. 0. 0. 0. 0. 0. 1. 1. 0. 1. 1. 1. 0. 0. 0. 0. 0. 0. 0. 0. 0. 0. 0. 0.\n",
      " 0. 0. 0. 0. 0. 0. 0. 0. 0. 0. 0. 0. 0. 0. 0. 0. 0. 0. 0. 0. 0. 0. 0. 0.\n",
      " 0. 0. 0. 0. 0. 0. 0. 0. 0. 0. 0. 0. 0. 0. 0. 0. 0. 0. 0. 0. 0. 0. 0. 0.\n",
      " 0. 0. 1. 1. 0. 0. 0. 0. 0. 0. 0. 0. 0. 0. 0. 0. 0. 0. 0. 0. 0. 0. 0. 0.\n",
      " 0. 0. 0. 0. 0. 0. 0. 0. 0. 1. 1. 0. 1. 1. 1. 1. 1. 1. 1. 1. 1. 1.]\n",
      "[0.06489109 0.05997613 0.34152657 0.         0.         0.\n",
      " 0.08197631 0.0841473  0.         0.77786332 0.03394692 0.18784238\n",
      " 0.46858528 0.30693927 0.         0.         0.60017145 0.2209135\n",
      " 0.72681272 0.32670483 0.         0.61154288 0.84622604 0.74756926\n",
      " 0.         0.         0.         0.         0.26671273 0.\n",
      " 0.         0.         0.         0.         0.         0.06737205\n",
      " 0.         0.         0.         0.19349675 0.49241555 0.52666694\n",
      " 0.18450317 0.73078227 0.97234255 0.         0.08003003 0.46416488\n",
      " 0.         0.         0.         0.21324947 0.82963884 0.96544427\n",
      " 0.06102963 0.30875868 0.         0.         0.59501904 0.95494574\n",
      " 0.94227809 0.87926406 0.46183202 0.74640644 0.         0.\n",
      " 0.08945942 0.61400938 0.65558034 0.         0.34941754 0.\n",
      " 0.2707808  0.10739619 0.         0.         0.         0.\n",
      " 0.46261209 0.         0.53885007 0.61503804 0.68989247 0.\n",
      " 0.         0.         0.66061831 0.38004339 0.16910273 0.55187106\n",
      " 0.         0.4017866  0.66532016 0.15956807 0.2063612  0.\n",
      " 0.         0.6211406  0.83658731 0.90285176 0.         0.\n",
      " 0.         0.         0.         0.         0.         0.48599386\n",
      " 0.67168623 0.76707739 0.74345714 0.         0.83214438 0.93454754\n",
      " 0.913041   0.1121502  0.59530956 0.81704903 0.44782445 0.\n",
      " 0.76258236 0.06741823 0.         0.         0.         0.34840751\n",
      " 0.89880151 0.67322779 0.30599123 0.         0.         0.05544013\n",
      " 0.64860988 0.75872552 0.93136817 0.95619708 0.         0.58104843\n",
      " 0.92477834 0.87867421 0.         0.         0.87495953 0.94890022\n",
      " 0.96893132 0.61363268 0.82187766 0.20239107 0.         0.\n",
      " 0.         0.25363511 0.25262114 0.         0.         0.\n",
      " 0.         0.         0.04433621 0.59481198 0.35452572 0.\n",
      " 0.         0.         0.         0.         0.         0.5974068\n",
      " 0.48277131 0.46037298 0.         0.71832895 0.4948228  0.54461718\n",
      " 0.         0.62565595 0.47416756 0.78754461 0.         0.\n",
      " 0.48130411 0.53668332 0.         0.         0.23425312 0.14936316\n",
      " 0.         0.         0.         0.17816231 0.09125838 0.02628775\n",
      " 0.09026459 0.         0.         0.44115847 0.28562513 0.\n",
      " 0.76369476 0.54629022 0.         0.89802992 0.89750338 0.\n",
      " 0.         0.         0.95686173 0.71581858 0.63999176 0.\n",
      " 0.         0.86384583 0.9267984  0.         0.         0.\n",
      " 0.85872471 0.77967018 0.         0.         0.         0.\n",
      " 0.         0.         0.         0.         0.         0.\n",
      " 0.         0.         0.65801656 0.         0.         0.\n",
      " 0.91015369 0.90144974 0.         0.01850017 0.88407701 0.86246485\n",
      " 0.         0.         0.         0.85225779 0.81480014 0.\n",
      " 0.         0.90423453 0.8507722  0.         0.         0.\n",
      " 0.79520929 0.36093041 0.66151345 0.         0.         0.92915416\n",
      " 0.70501149 0.         0.         0.         0.9181276  0.83476943\n",
      " 0.67342621 0.         0.         0.06408791 0.         0.\n",
      " 0.78365958 0.59389341 0.         0.         0.         0.\n",
      " 0.92134446 0.63651818 0.         0.         0.         0.90222222\n",
      " 0.89837795 0.         0.         0.         0.84425896 0.8924129\n",
      " 0.         0.         0.         0.87679899 0.88439435 0.\n",
      " 0.38915506 0.65747774 0.         0.         0.         0.\n",
      " 0.         0.75166094 0.         0.         0.         0.\n",
      " 0.         0.         0.         0.         0.49206638 0.3557615\n",
      " 0.         0.         0.         0.         0.40669522 0.64414126\n",
      " 0.7880699  0.         0.         0.         0.         0.\n",
      " 0.         0.         0.         0.43255249 0.         0.\n",
      " 0.         0.56837589 0.77343798 0.76432955 0.34708732 0.50455087\n",
      " 0.90475023 0.         0.         0.         0.46004713 0.85650504\n",
      " 0.53713757 0.         0.         0.         0.6197744  0.61348659\n",
      " 0.         0.         0.         0.         0.         0.\n",
      " 0.         0.         0.         0.07961414 0.         0.\n",
      " 0.         0.         0.         0.         0.         0.\n",
      " 0.         0.         0.         0.         0.         0.\n",
      " 0.         0.         0.         0.         0.         0.\n",
      " 0.         0.         0.         0.         0.         0.\n",
      " 0.         0.         0.         0.         0.         0.\n",
      " 0.         0.89745104 0.         0.40995184 0.         0.87542039\n",
      " 0.84573901 0.92836434 0.         0.11386815 0.67516017 0.56088364\n",
      " 0.84351641 0.85154033 0.53387994 0.45987129 0.36457625 0.28754786\n",
      " 0.28502867 0.64943683 0.2115462  0.         0.14358151 0.44100374\n",
      " 0.57610554 0.22974738 0.43852124 0.26627752 0.         0.\n",
      " 0.         0.44642025 0.         0.         0.43162942 0.\n",
      " 0.         0.41400236 0.54323387 0.78853863 0.06471612 0.45989388\n",
      " 0.71977472 0.78121889 0.61105961 0.59613687 0.62018526 0.\n",
      " 0.         0.62865877 0.         0.         0.         0.\n",
      " 0.         0.         0.         0.         0.         0.\n",
      " 0.         0.         0.         0.         0.         0.\n",
      " 0.         0.         0.         0.         0.         0.\n",
      " 0.         0.         0.         0.         0.         0.\n",
      " 0.         0.         0.08570136 0.63361913 0.         0.\n",
      " 0.         0.         0.         0.         0.62681764 0.89257002\n",
      " 0.19058071 0.         0.         0.         0.         0.\n",
      " 0.         0.90755272 0.92271888 0.         0.         0.\n",
      " 0.10947286 0.         0.52226758 0.         0.         0.\n",
      " 0.         0.64396882 0.32810929 0.         0.59851092 0.\n",
      " 0.85481918 0.81368929 0.72485006 0.80629897 0.45016801 0.\n",
      " 0.         0.         0.21727717 0.         0.         0.67944139\n",
      " 0.64976943 0.78952706 0.60768056 0.         0.         0.12472776\n",
      " 0.7862674  0.78789628 0.84564799 0.76974303 0.44116354 0.\n",
      " 0.35131675 0.50378096 0.83865708 0.73804462 0.55463624 0.\n",
      " 0.         0.         0.11108    0.         0.         0.\n",
      " 0.         0.71298343 0.93842578 0.0272226  0.42071915 0.82235128\n",
      " 0.         0.         0.42695713 0.93685919]\n"
     ]
    },
    {
     "name": "stderr",
     "output_type": "stream",
     "text": [
      "/Users/vanessasalgado/Desktop/E4E-Acoustics.nosync/PyHa/PyHa/annotation_post_processing.py:213: SettingWithCopyWarning: \n",
      "A value is trying to be set on a copy of a slice from a DataFrame.\n",
      "Try using .loc[row_indexer,col_indexer] = value instead\n",
      "\n",
      "See the caveats in the documentation: https://pandas.pydata.org/pandas-docs/stable/user_guide/indexing.html#returning-a-view-versus-a-copy\n",
      "  #Init list of clips to cycle through and output dataframe\n"
     ]
    },
    {
     "name": "stdout",
     "output_type": "stream",
     "text": [
      "target 542\n",
      "confidence 542\n",
      "automated df 542\n",
      "[1. 1. 1. 1. 1. 1. 1. 1. 1. 1. 1. 1. 1. 1. 1. 1. 1. 1. 0. 1. 1. 1. 1. 1.\n",
      " 1. 1. 1. 0. 1. 1. 1. 1. 1. 1. 1. 1. 1. 1. 1. 1. 1. 1. 1. 1. 1. 0. 0. 0.\n",
      " 0. 0. 0. 1. 1. 1. 1. 1. 1. 1. 1. 1. 1. 0. 1. 1. 1. 1. 1. 1. 0. 1. 1. 1.\n",
      " 1. 0. 1. 1. 1. 1. 1. 1. 1. 1. 1. 1. 1. 1. 1. 1. 1. 1. 1. 1. 1. 1. 1. 1.\n",
      " 0. 1. 1. 1. 1. 1. 1. 1. 1. 1. 0. 0. 1. 1. 1. 1. 1. 0. 1. 1. 1. 1. 1. 1.\n",
      " 1. 1. 1. 1. 0. 0. 0. 1. 1. 1. 1. 1. 1. 1. 1. 1. 1. 1. 1. 1. 1. 0. 0. 1.\n",
      " 1. 1. 1. 1. 1. 1. 0. 1. 0. 1. 0. 1. 1. 1. 1. 1. 0. 0. 0. 1. 0. 1. 1. 1.\n",
      " 1. 1. 1. 1. 1. 1. 0. 0. 0. 1. 1. 1. 1. 1. 1. 1. 1. 1. 1. 1. 1. 1. 1. 0.\n",
      " 1. 1. 1. 1. 1. 1. 0. 1. 0. 1. 0. 1. 1. 1. 0. 1. 0. 0. 1. 1. 0. 1. 1. 1.\n",
      " 0. 1. 0. 1. 1. 1. 1. 1. 1. 1. 1. 1. 1. 1. 1. 1. 1. 1. 1. 1. 1. 1. 1. 0.\n",
      " 1. 0. 1. 1. 1. 1. 1. 1. 0. 0. 1. 1. 1. 1. 1. 1. 1. 1. 1. 1. 1. 0. 1. 1.\n",
      " 1. 1. 1. 1. 0. 0. 0. 0. 1. 1. 1. 1. 1. 1. 1. 1. 1. 1. 1. 1. 1. 1. 1. 1.\n",
      " 0. 0. 1. 1. 1. 1. 1. 1. 1. 1. 1. 0. 0. 1. 1. 1. 1. 1. 1. 1. 1. 1. 1. 1.\n",
      " 1. 1. 1. 1. 1. 1. 1. 1. 1. 1. 1. 1. 0. 1. 1. 1. 1. 1. 1. 1. 1. 1. 1. 1.\n",
      " 1. 1. 0. 1. 1. 1. 1. 1. 1. 1. 1. 1. 1. 1. 1. 1. 1. 1. 1. 1. 1. 1. 1. 1.\n",
      " 1. 1. 1. 1. 1. 1. 1. 1. 1. 1. 1. 1. 1. 1. 1. 1. 1. 1. 1. 0. 1. 1. 1. 1.\n",
      " 1. 1. 1. 1. 1. 1. 1. 1. 1. 1. 1. 1. 1. 1. 1. 1. 1. 1. 1. 1. 1. 1. 1. 1.\n",
      " 1. 1. 1. 1. 1. 1. 1. 1. 0. 1. 0. 1. 1. 0. 1. 0. 1. 1. 1. 1. 1. 1. 1. 1.\n",
      " 1. 1. 1. 1. 1. 1. 1. 1. 1. 1. 1. 1. 1. 1. 1. 1. 1. 1. 1. 0. 1. 1. 1. 1.\n",
      " 1. 1. 1. 1. 1. 1. 1. 1. 1. 1. 1. 0. 1. 1. 1. 1. 1. 1. 1. 1. 1. 1. 1. 1.\n",
      " 1. 1. 1. 1. 0. 0. 0. 0. 0. 0. 0. 0. 0. 0. 1. 1. 1. 1. 1. 1. 1. 1. 1. 1.\n",
      " 1. 1. 1. 1. 1. 1. 1. 1. 1. 1. 1. 1. 1. 1. 1. 1. 1. 1. 1. 1. 1. 1. 1. 1.\n",
      " 1. 1. 1. 1. 1. 1. 1. 1. 1. 1. 1. 1. 1. 1.]\n",
      "[0.         0.         0.82648647 0.44152182 0.67699552 0.60506874\n",
      " 0.47917154 0.50708312 0.08955235 0.61026162 0.57825106 0.87205851\n",
      " 0.49655479 0.55719638 0.59527212 0.47728431 0.50522012 0.61688137\n",
      " 0.         0.59937084 0.50624311 0.90383244 0.64565104 0.82907474\n",
      " 0.         0.50552529 0.         0.         0.64344335 0.44540614\n",
      " 0.83624488 0.         0.4917447  0.81682658 0.40578789 0.77880138\n",
      " 0.         0.09245522 0.32871354 0.6206497  0.68270689 0.55027246\n",
      " 0.49968162 0.7569868  0.90702951 0.         0.         0.\n",
      " 0.         0.         0.         0.         0.         0.59785599\n",
      " 0.4399384  0.         0.         0.         0.31849664 0.\n",
      " 0.         0.         0.         0.         0.         0.\n",
      " 0.88795859 0.91080451 0.         0.45217249 0.12515436 0.50760007\n",
      " 0.         0.         0.86092013 0.         0.         0.41250843\n",
      " 0.04228272 0.         0.71455777 0.25442702 0.         0.49019814\n",
      " 0.11936855 0.11041429 0.35761848 0.66093189 0.64086032 0.59194231\n",
      " 0.19837472 0.37458917 0.91069645 0.32028419 0.72142678 0.651613\n",
      " 0.         0.         0.         0.10795601 0.43592325 0.13740285\n",
      " 0.         0.         0.         0.         0.78458309 0.\n",
      " 0.         0.31895465 0.44418463 0.         0.50931954 0.\n",
      " 0.63222998 0.94765985 0.85470045 0.         0.         0.32136825\n",
      " 0.51538593 0.         0.42193925 0.         0.         0.88221478\n",
      " 0.26861808 0.65065879 0.55499542 0.40186104 0.         0.20875661\n",
      " 0.52336174 0.68771046 0.         0.12278797 0.76709127 0.85434687\n",
      " 0.34225452 0.         0.64431149 0.         0.         0.62277168\n",
      " 0.353807   0.83423954 0.8439278  0.93791145 0.24353723 0.96118438\n",
      " 0.93671912 0.69586873 0.         0.         0.         0.14796947\n",
      " 0.         0.         0.         0.         0.         0.\n",
      " 0.         0.         0.         0.         0.         0.\n",
      " 0.         0.         0.         0.         0.         0.\n",
      " 0.         0.         0.         0.28045046 0.         0.\n",
      " 0.         0.         0.         0.         0.         0.\n",
      " 0.         0.         0.         0.         0.         0.\n",
      " 0.         0.         0.45730832 0.         0.22256055 0.06117984\n",
      " 0.         0.         0.         0.06552818 0.         0.\n",
      " 0.         0.24787503 0.         0.         0.         0.\n",
      " 0.         0.45549631 0.         0.2451528  0.8642534  0.72071576\n",
      " 0.         0.56784481 0.         0.49748713 0.57610577 0.\n",
      " 0.         0.         0.         0.62761408 0.         0.17224795\n",
      " 0.         0.         0.         0.68014634 0.         0.11428288\n",
      " 0.16068673 0.64032948 0.05159647 0.05552498 0.81979561 0.\n",
      " 0.49013561 0.         0.65236181 0.         0.26147324 0.80175757\n",
      " 0.25077277 0.657574   0.         0.         0.14752162 0.\n",
      " 0.28255284 0.         0.         0.22637309 0.3391467  0.\n",
      " 0.         0.         0.         0.         0.         0.01405346\n",
      " 0.         0.         0.         0.         0.         0.\n",
      " 0.         0.         0.06235855 0.         0.90619701 0.96524429\n",
      " 0.93382418 0.61574906 0.97420758 0.91744661 0.99540734 0.35232794\n",
      " 0.78495598 0.         0.61855358 0.30511221 0.         0.40697804\n",
      " 0.         0.         0.         0.77869374 0.         0.52618116\n",
      " 0.         0.         0.15292275 0.85734886 0.13391064 0.8020575\n",
      " 0.81372106 0.22307007 0.         0.77337539 0.74113089 0.50667262\n",
      " 0.08349254 0.83467883 0.30082902 0.         0.11575337 0.7691946\n",
      " 0.         0.13074949 0.50127131 0.         0.         0.\n",
      " 0.         0.         0.         0.         0.         0.\n",
      " 0.         0.         0.01728527 0.         0.0621394  0.59145296\n",
      " 0.         0.27091661 0.         0.33114576 0.         0.67991048\n",
      " 0.9481374  0.3721582  0.         0.5807426  0.         0.64930576\n",
      " 0.51942116 0.91574532 0.33436179 0.89922148 0.30041775 0.94017375\n",
      " 0.         0.44015506 0.49360698 0.95468432 0.15459822 0.79158378\n",
      " 0.         0.66278088 0.3768321  0.56067288 0.         0.377956\n",
      " 0.         0.         0.21412358 0.3128224  0.         0.\n",
      " 0.35937271 0.         0.         0.18035275 0.76353699 0.\n",
      " 0.49421281 0.         0.         0.1255326  0.         0.\n",
      " 0.456159   0.         0.32746887 0.5241406  0.69281411 0.2444091\n",
      " 0.9296757  0.9347378  0.92143553 0.88358599 0.95485127 0.87554616\n",
      " 0.7553435  0.88022006 0.98435795 0.         0.73392975 0.98732972\n",
      " 0.89160132 0.50253958 0.28822809 0.92631179 0.84690374 0.93688208\n",
      " 0.24298471 0.80965245 0.06477904 0.77134347 0.65991402 0.20215175\n",
      " 0.06234456 0.08856962 0.06309578 0.16885479 0.         0.\n",
      " 0.10507885 0.         0.         0.         0.         0.50115836\n",
      " 0.40655509 0.         0.83302766 0.         0.42722189 0.25814152\n",
      " 0.         0.         0.         0.         0.         0.\n",
      " 0.         0.         0.         0.         0.         0.\n",
      " 0.         0.         0.         0.         0.         0.\n",
      " 0.         0.         0.         0.         0.         0.\n",
      " 0.         0.         0.         0.         0.         0.\n",
      " 0.         0.         0.         0.         0.         0.\n",
      " 0.         0.         0.         0.         0.         0.\n",
      " 0.         0.         0.         0.         0.         0.\n",
      " 0.         0.         0.         0.         0.         0.\n",
      " 0.         0.         0.         0.         0.49209231 0.\n",
      " 0.         0.         0.         0.89006478 0.         0.9716059\n",
      " 0.         0.16415979 0.         0.69553244 0.71904391 0.\n",
      " 0.         0.         0.59482336 0.         0.         0.24407995\n",
      " 0.         0.18126689 0.         0.15490896 0.1900924  0.92124379\n",
      " 0.7109502  0.85994238 0.71519154 0.46463296 0.70789433 0.09404118\n",
      " 0.         0.         0.         0.         0.75476271 0.32805127\n",
      " 0.         0.         0.         0.         0.3375805  0.28809679\n",
      " 0.20225465 0.35233745 0.44855317 0.6948002  0.         0.06928397\n",
      " 0.         0.         0.         0.         0.21715304 0.14860667\n",
      " 0.61092281 0.5056088 ]\n"
     ]
    },
    {
     "name": "stderr",
     "output_type": "stream",
     "text": [
      "/Users/vanessasalgado/Desktop/E4E-Acoustics.nosync/PyHa/PyHa/annotation_post_processing.py:213: SettingWithCopyWarning: \n",
      "A value is trying to be set on a copy of a slice from a DataFrame.\n",
      "Try using .loc[row_indexer,col_indexer] = value instead\n",
      "\n",
      "See the caveats in the documentation: https://pandas.pydata.org/pandas-docs/stable/user_guide/indexing.html#returning-a-view-versus-a-copy\n",
      "  #Init list of clips to cycle through and output dataframe\n"
     ]
    },
    {
     "name": "stdout",
     "output_type": "stream",
     "text": [
      "target 256\n",
      "confidence 256\n",
      "automated df 256\n",
      "[0. 1. 1. 0. 1. 1. 1. 0. 1. 1. 1. 0. 0. 1. 1. 0. 1. 1. 1. 0. 1. 1. 1. 0.\n",
      " 0. 0. 0. 1. 1. 1. 0. 0. 0. 0. 1. 1. 1. 1. 0. 1. 1. 1. 1. 1. 0. 0. 1. 1.\n",
      " 1. 0. 0. 1. 1. 1. 0. 0. 0. 1. 1. 1. 0. 0. 0. 0. 1. 1. 1. 0. 0. 1. 1. 1.\n",
      " 1. 1. 1. 1. 1. 1. 1. 1. 0. 1. 1. 1. 1. 1. 0. 0. 0. 0. 0. 1. 1. 1. 0. 1.\n",
      " 1. 1. 1. 1. 0. 1. 1. 1. 0. 0. 1. 1. 1. 1. 0. 1. 1. 1. 1. 1. 1. 1. 1. 0.\n",
      " 1. 1. 1. 1. 0. 1. 1. 1. 1. 1. 1. 1. 0. 1. 1. 1. 1. 0. 0. 1. 1. 0. 0. 1.\n",
      " 1. 0. 1. 1. 1. 1. 1. 0. 1. 1. 1. 0. 0. 0. 0. 1. 1. 1. 0. 1. 1. 1. 1. 1.\n",
      " 1. 1. 1. 1. 1. 0. 1. 1. 1. 1. 1. 0. 0. 0. 0. 1. 1. 1. 1. 0. 0. 1. 1. 1.\n",
      " 0. 0. 0. 1. 1. 0. 0. 1. 1. 1. 1. 0. 0. 0. 0. 1. 1. 0. 0. 0. 0. 0. 1. 1.\n",
      " 0. 0. 0. 0. 0. 0. 0. 1. 1. 1. 0. 0. 0. 0. 0. 0. 1. 1. 0. 1. 1. 0. 0. 1.\n",
      " 1. 0. 0. 1. 1. 1. 1. 1. 0. 1. 1. 1. 1. 0. 1. 1.]\n",
      "[0.         0.54028612 0.96150851 0.         0.         0.76041996\n",
      " 0.40202099 0.         0.         0.80050498 0.47704807 0.\n",
      " 0.         0.85288185 0.77640998 0.         0.         0.59946638\n",
      " 0.7563464  0.         0.64598393 0.93795878 0.         0.\n",
      " 0.         0.         0.         0.         0.83647376 0.90380859\n",
      " 0.         0.         0.         0.         0.7586391  0.01802612\n",
      " 0.54842591 0.         0.         0.61455446 0.5811702  0.\n",
      " 0.97632068 0.75254637 0.         0.         0.34073627 0.89029914\n",
      " 0.3822889  0.         0.         0.93662924 0.90244967 0.20466422\n",
      " 0.         0.         0.         0.18179666 0.91474426 0.85820669\n",
      " 0.         0.         0.         0.         0.95538193 0.9664765\n",
      " 0.84895873 0.         0.         0.27508038 0.94958842 0.19686744\n",
      " 0.19105463 0.39455175 0.95958108 0.2496504  0.         0.92167252\n",
      " 0.96883672 0.84498966 0.         0.82525694 0.         0.1497921\n",
      " 0.         0.3559489  0.         0.         0.         0.\n",
      " 0.         0.28137368 0.45434824 0.27351192 0.99290705 0.98236841\n",
      " 0.29509705 0.90571946 0.98821366 0.         0.91453362 0.95635688\n",
      " 0.66093147 0.97474325 0.         0.         0.07001421 0.9256357\n",
      " 0.30763936 0.         0.         0.0825345  0.1363856  0.61451375\n",
      " 0.         0.28151268 0.87912303 0.21719442 0.         0.\n",
      " 0.21935323 0.57394451 0.61123252 0.         0.         0.07411686\n",
      " 0.45008391 0.         0.         0.         0.39690313 0.69751245\n",
      " 0.         0.88919067 0.         0.17133124 0.94722086 0.\n",
      " 0.         0.60207152 0.94554865 0.         0.         0.76764202\n",
      " 0.         0.         0.         0.73107696 0.90634733 0.95335728\n",
      " 0.7887004  0.         0.         0.97803533 0.96779132 0.\n",
      " 0.         0.97061688 0.06679177 0.         0.98564976 0.9793098\n",
      " 0.         0.         0.95120978 0.97485286 0.         0.\n",
      " 0.96818173 0.98275763 0.62723047 0.28427732 0.94141686 0.\n",
      " 0.74104089 0.         0.96167958 0.55817091 0.         0.\n",
      " 0.         0.         0.         0.769952   0.7231313  0.\n",
      " 0.15647791 0.         0.         0.18757762 0.         0.\n",
      " 0.         0.         0.         0.         0.         0.\n",
      " 0.         0.         0.08681044 0.53164548 0.28359947 0.\n",
      " 0.         0.         0.         0.         0.34213996 0.\n",
      " 0.         0.         0.         0.         0.4452706  0.57334006\n",
      " 0.         0.         0.         0.         0.         0.\n",
      " 0.         0.         0.67838138 0.02683423 0.         0.\n",
      " 0.         0.         0.         0.         0.         0.78478193\n",
      " 0.         0.73905236 0.3613635  0.         0.         0.\n",
      " 0.74069679 0.         0.         0.         0.75778162 0.14673066\n",
      " 0.88842183 0.         0.69277775 0.         0.65075111 0.85199928\n",
      " 0.98879343 0.         0.6498881  0.98152632]\n"
     ]
    },
    {
     "name": "stderr",
     "output_type": "stream",
     "text": [
      "/Users/vanessasalgado/Desktop/E4E-Acoustics.nosync/PyHa/PyHa/annotation_post_processing.py:213: SettingWithCopyWarning: \n",
      "A value is trying to be set on a copy of a slice from a DataFrame.\n",
      "Try using .loc[row_indexer,col_indexer] = value instead\n",
      "\n",
      "See the caveats in the documentation: https://pandas.pydata.org/pandas-docs/stable/user_guide/indexing.html#returning-a-view-versus-a-copy\n",
      "  #Init list of clips to cycle through and output dataframe\n"
     ]
    },
    {
     "name": "stdout",
     "output_type": "stream",
     "text": [
      "target 562\n",
      "confidence 561\n",
      "automated df 561\n",
      "[1. 1. 1. 1. 1. 0. 0. 1. 1. 1. 0. 1. 0. 1. 0. 1. 1. 0. 0. 1. 0. 1. 0. 1.\n",
      " 1. 1. 0. 0. 0. 1. 1. 0. 0. 1. 0. 0. 0. 0. 0. 0. 0. 0. 0. 1. 0. 0. 1. 1.\n",
      " 0. 1. 0. 0. 1. 1. 0. 1. 0. 0. 1. 1. 0. 1. 1. 0. 1. 1. 1. 1. 0. 1. 1. 1.\n",
      " 0. 1. 1. 1. 1. 1. 1. 1. 1. 0. 1. 1. 1. 1. 0. 1. 0. 1. 1. 0. 1. 0. 0. 1.\n",
      " 1. 0. 1. 1. 1. 1. 1. 1. 1. 1. 1. 1. 1. 1. 1. 1. 1. 1. 1. 1. 1. 1. 1. 1.\n",
      " 0. 0. 1. 1. 0. 0. 1. 1. 1. 1. 1. 1. 0. 1. 0. 1. 0. 1. 1. 1. 1. 1. 0. 1.\n",
      " 1. 1. 0. 1. 1. 1. 1. 1. 1. 1. 0. 1. 1. 0. 1. 0. 1. 1. 0. 1. 1. 1. 1. 1.\n",
      " 1. 1. 0. 1. 1. 1. 1. 1. 1. 1. 1. 1. 1. 1. 1. 1. 1. 1. 1. 1. 1. 1. 1. 1.\n",
      " 0. 1. 1. 1. 1. 1. 1. 0. 1. 1. 1. 1. 1. 1. 1. 1. 1. 1. 1. 1. 1. 1. 1. 1.\n",
      " 1. 1. 0. 1. 1. 1. 1. 1. 1. 1. 1. 1. 1. 1. 1. 1. 1. 1. 1. 1. 1. 1. 1. 0.\n",
      " 1. 0. 0. 1. 0. 1. 1. 0. 1. 1. 0. 0. 0. 0. 0. 0. 1. 0. 1. 1. 0. 1. 1. 1.\n",
      " 1. 1. 1. 1. 1. 1. 1. 1. 0. 1. 1. 1. 1. 1. 1. 1. 1. 1. 1. 1. 1. 1. 1. 1.\n",
      " 1. 1. 1. 1. 1. 1. 1. 1. 1. 0. 1. 1. 1. 1. 1. 0. 1. 1. 1. 0. 1. 1. 1. 1.\n",
      " 1. 0. 1. 1. 0. 1. 0. 1. 0. 1. 1. 0. 1. 1. 0. 1. 0. 1. 0. 0. 0. 1. 0. 1.\n",
      " 1. 0. 1. 1. 0. 0. 1. 1. 0. 1. 0. 1. 1. 0. 0. 1. 1. 1. 1. 1. 1. 0. 0. 1.\n",
      " 1. 1. 1. 1. 1. 1. 1. 1. 1. 0. 0. 1. 1. 0. 1. 1. 0. 1. 1. 1. 1. 0. 1. 1.\n",
      " 1. 0. 0. 1. 0. 0. 1. 1. 0. 0. 1. 1. 1. 0. 1. 0. 1. 1. 0. 0. 1. 1. 1. 1.\n",
      " 0. 1. 1. 0. 1. 0. 0. 1. 0. 1. 1. 0. 1. 1. 0. 1. 0. 1. 1. 0. 1. 1. 0. 1.\n",
      " 0. 0. 1. 0. 0. 0. 0. 0. 0. 0. 0. 0. 0. 0. 0. 1. 1. 1. 1. 1. 1. 1. 1. 1.\n",
      " 1. 1. 1. 1. 1. 1. 1. 1. 1. 1. 1. 1. 1. 1. 1. 0. 0. 1. 1. 1. 1. 0. 0. 1.\n",
      " 1. 1. 0. 1. 1. 0. 1. 1. 0. 1. 1. 1. 1. 0. 1. 1. 1. 0. 1. 1. 1. 0. 1. 1.\n",
      " 1. 1. 1. 1. 1. 1. 0. 1. 0. 1. 1. 1. 0. 1. 1. 0. 0. 0. 0. 0. 0. 0. 1. 1.\n",
      " 0. 1. 1. 0. 1. 1. 0. 1. 0. 0. 1. 1. 0. 1. 1. 1. 1. 1. 1. 1. 1. 1. 1. 1.\n",
      " 0. 1. 1. 1. 1. 1. 1. 1. 1. 1.]\n",
      "[0.97722101 0.52141207 0.95502758 0.65060729 0.         0.\n",
      " 0.         0.89773804 0.         0.86230356 0.         0.9209702\n",
      " 0.         0.90026671 0.         0.         0.52982467 0.\n",
      " 0.         0.89360559 0.         0.94123644 0.         0.92672735\n",
      " 0.34084895 0.         0.         0.         0.         0.41466892\n",
      " 0.87134904 0.         0.         0.71297592 0.         0.\n",
      " 0.         0.         0.         0.         0.         0.\n",
      " 0.         0.42299187 0.         0.         0.5625428  0.\n",
      " 0.         0.80016446 0.         0.         0.79623139 0.\n",
      " 0.         0.03993375 0.         0.         0.         0.\n",
      " 0.         0.         0.         0.         0.         0.77692544\n",
      " 0.1256927  0.81636864 0.         0.         0.69453102 0.57828802\n",
      " 0.         0.         0.68128717 0.50173753 0.         0.\n",
      " 0.8815906  0.99296016 0.98071253 0.         0.09454323 0.78841132\n",
      " 0.10133778 0.         0.         0.89906317 0.         0.93191874\n",
      " 0.         0.         0.97231132 0.         0.         0.9281528\n",
      " 0.90108407 0.         0.         0.96399075 0.83011454 0.47230923\n",
      " 0.8063724  0.55903322 0.48051479 0.48754582 0.60953504 0.49777135\n",
      " 0.39853755 0.         0.90964383 0.45624897 0.         0.85231209\n",
      " 0.25615558 0.         0.862854   0.         0.66174823 0.91804081\n",
      " 0.         0.         0.73154718 0.31770507 0.         0.\n",
      " 0.80810583 0.14411062 0.         0.01841775 0.         0.\n",
      " 0.         0.74651098 0.         0.55580956 0.         0.42924184\n",
      " 0.         0.         0.         0.59383315 0.         0.51484287\n",
      " 0.         0.70612222 0.         0.         0.         0.25346774\n",
      " 0.         0.61055458 0.         0.91885948 0.         0.42901087\n",
      " 0.20822448 0.         0.5673005  0.         0.         0.71110332\n",
      " 0.         0.61968327 0.40530023 0.         0.         0.44618955\n",
      " 0.24840191 0.93361861 0.         0.31781799 0.46264261 0.95674193\n",
      " 0.         0.9712218  0.56637079 0.96496826 0.92865014 0.95012093\n",
      " 0.16150537 0.95064229 0.33816463 0.20634152 0.         0.\n",
      " 0.06890872 0.1874709  0.         0.43100426 0.94790214 0.96990854\n",
      " 0.92019659 0.91482323 0.57548243 0.         0.06799902 0.\n",
      " 0.45716777 0.         0.3091121  0.         0.         0.29430163\n",
      " 0.         0.         0.         0.24919026 0.         0.\n",
      " 0.         0.         0.         0.132292   0.         0.\n",
      " 0.         0.         0.         0.         0.         0.\n",
      " 0.         0.15003452 0.         0.         0.         0.\n",
      " 0.         0.56817615 0.         0.         0.67603207 0.\n",
      " 0.         0.         0.         0.91337961 0.01011802 0.88258845\n",
      " 0.         0.         0.91173673 0.         0.         0.80531371\n",
      " 0.         0.         0.87055123 0.         0.         0.\n",
      " 0.         0.         0.         0.8297137  0.         0.95996886\n",
      " 0.20160729 0.23399007 0.8327257  0.2425126  0.88564062 0.\n",
      " 0.94376087 0.31627887 0.98396802 0.2182456  0.78737378 0.24605133\n",
      " 0.98778987 0.         0.88628781 0.84840536 0.3459363  0.98812932\n",
      " 0.         0.97367972 0.         0.97005612 0.11407804 0.92961287\n",
      " 0.         0.87730628 0.         0.7716518  0.         0.70140386\n",
      " 0.58104581 0.         0.86400026 0.85519183 0.92062622 0.9181385\n",
      " 0.         0.98441952 0.         0.89208853 0.         0.9012484\n",
      " 0.         0.83936423 0.         0.82000864 0.         0.87512869\n",
      " 0.         0.7676028  0.         0.93045175 0.         0.95023847\n",
      " 0.         0.88990974 0.         0.         0.90307862 0.\n",
      " 0.9858095  0.         0.12730023 0.94023484 0.         0.91538864\n",
      " 0.         0.         0.98840219 0.         0.95846397 0.\n",
      " 0.         0.         0.98683864 0.         0.91880554 0.\n",
      " 0.         0.         0.94275624 0.         0.         0.9790892\n",
      " 0.         0.         0.64518058 0.         0.90259558 0.84968674\n",
      " 0.         0.         0.94780618 0.         0.96731466 0.92514324\n",
      " 0.54393131 0.99067968 0.         0.         0.911991   0.\n",
      " 0.82873189 0.26101297 0.13780765 0.96323538 0.25676829 0.\n",
      " 0.         0.18038039 0.         0.         0.67672902 0.02413944\n",
      " 0.         0.47931856 0.16050367 0.         0.51488006 0.\n",
      " 0.77861333 0.73712736 0.         0.1017345  0.         0.78678888\n",
      " 0.         0.         0.73026359 0.         0.         0.\n",
      " 0.58673525 0.         0.         0.71553808 0.79693162 0.16943477\n",
      " 0.         0.83743984 0.         0.         0.8096714  0.\n",
      " 0.         0.84628457 0.28050229 0.         0.88511038 0.\n",
      " 0.76023495 0.         0.         0.87580818 0.         0.\n",
      " 0.96191502 0.         0.91724747 0.97567409 0.         0.83216661\n",
      " 0.03899626 0.         0.9265132  0.         0.         0.84939098\n",
      " 0.         0.74774128 0.54047376 0.         0.89513963 0.\n",
      " 0.         0.89470333 0.         0.         0.         0.\n",
      " 0.         0.         0.         0.         0.         0.\n",
      " 0.         0.         0.63129836 0.26383793 0.07368273 0.41257301\n",
      " 0.70314556 0.07276014 0.26750317 0.         0.0794963  0.\n",
      " 0.40454021 0.         0.         0.         0.         0.\n",
      " 0.         0.17025602 0.         0.         0.         0.\n",
      " 0.         0.         0.         0.         0.         0.\n",
      " 0.         0.         0.         0.         0.09830011 0.70603538\n",
      " 0.06559683 0.         0.         0.49133375 0.         0.\n",
      " 0.4334681  0.         0.         0.65397847 0.80555511 0.\n",
      " 0.         0.85817981 0.         0.         0.         0.57814485\n",
      " 0.93266666 0.         0.         0.96387315 0.         0.15448736\n",
      " 0.90204102 0.85044563 0.96931714 0.89968801 0.25702739 0.\n",
      " 0.94631743 0.         0.73194563 0.43447006 0.         0.\n",
      " 0.71712947 0.         0.         0.         0.82822931 0.\n",
      " 0.         0.78590018 0.         0.         0.79189724 0.\n",
      " 0.         0.20600817 0.         0.09660275 0.         0.\n",
      " 0.49022478 0.         0.         0.24576356 0.         0.\n",
      " 0.25331122 0.38342482 0.02970242 0.07662235 0.73096281 0.\n",
      " 0.5291605  0.07546426 0.07644605 0.08238798 0.         0.\n",
      " 0.         0.         0.         0.         0.         0.\n",
      " 0.07599354 0.         0.        ]\n"
     ]
    },
    {
     "data": {
      "text/html": [
       "<div>\n",
       "<style scoped>\n",
       "    .dataframe tbody tr th:only-of-type {\n",
       "        vertical-align: middle;\n",
       "    }\n",
       "\n",
       "    .dataframe tbody tr th {\n",
       "        vertical-align: top;\n",
       "    }\n",
       "\n",
       "    .dataframe thead th {\n",
       "        text-align: right;\n",
       "    }\n",
       "</style>\n",
       "<table border=\"1\" class=\"dataframe\">\n",
       "  <thead>\n",
       "    <tr style=\"text-align: right;\">\n",
       "      <th></th>\n",
       "      <th>SPECIES</th>\n",
       "      <th>AUC SCORES</th>\n",
       "    </tr>\n",
       "  </thead>\n",
       "  <tbody>\n",
       "    <tr>\n",
       "      <th>833</th>\n",
       "      <td>Turdus leucomelas</td>\n",
       "      <td>0.686170</td>\n",
       "    </tr>\n",
       "    <tr>\n",
       "      <th>817</th>\n",
       "      <td>Trogon viridis</td>\n",
       "      <td>0.745209</td>\n",
       "    </tr>\n",
       "    <tr>\n",
       "      <th>783</th>\n",
       "      <td>Thraupis episcopus</td>\n",
       "      <td>0.757784</td>\n",
       "    </tr>\n",
       "    <tr>\n",
       "      <th>108</th>\n",
       "      <td>Celeus grammicus</td>\n",
       "      <td>0.770651</td>\n",
       "    </tr>\n",
       "    <tr>\n",
       "      <th>661</th>\n",
       "      <td>Ramphastos tucanus</td>\n",
       "      <td>0.831784</td>\n",
       "    </tr>\n",
       "    <tr>\n",
       "      <th>859</th>\n",
       "      <td>Xiphorhynchus guttatus</td>\n",
       "      <td>0.841321</td>\n",
       "    </tr>\n",
       "  </tbody>\n",
       "</table>\n",
       "</div>"
      ],
      "text/plain": [
       "                    SPECIES  AUC SCORES\n",
       "833       Turdus leucomelas    0.686170\n",
       "817          Trogon viridis    0.745209\n",
       "783      Thraupis episcopus    0.757784\n",
       "108        Celeus grammicus    0.770651\n",
       "661      Ramphastos tucanus    0.831784\n",
       "859  Xiphorhynchus guttatus    0.841321"
      ]
     },
     "execution_count": 59,
     "metadata": {},
     "output_type": "execute_result"
    },
    {
     "data": {
      "image/png": "[encoded data removed]",
      "text/plain": [
       "<Figure size 432x288 with 1 Axes>"
      ]
     },
     "metadata": {
      "needs_background": "light"
     },
     "output_type": "display_data"
    }
   ],
   "source": [
    "auc_scores_df = generate_AUC_scores_df(multi_df,manual_chunked_df)\n",
    "#auc_scores_df = auc_scores_df.drop_duplicates(subset=['AUC SCORES'], keep = False)\n",
    "auc_scores_df.sort_values(by = \"AUC SCORES\")"
   ]
  },
  {
   "cell_type": "code",
   "execution_count": 60,
   "metadata": {
    "scrolled": true
   },
   "outputs": [
    {
     "data": {
      "text/html": [
       "<div>\n",
       "<style scoped>\n",
       "    .dataframe tbody tr th:only-of-type {\n",
       "        vertical-align: middle;\n",
       "    }\n",
       "\n",
       "    .dataframe tbody tr th {\n",
       "        vertical-align: top;\n",
       "    }\n",
       "\n",
       "    .dataframe thead th {\n",
       "        text-align: right;\n",
       "    }\n",
       "</style>\n",
       "<table border=\"1\" class=\"dataframe\">\n",
       "  <thead>\n",
       "    <tr style=\"text-align: right;\">\n",
       "      <th></th>\n",
       "      <th>SPECIES</th>\n",
       "      <th>AUC SCORES</th>\n",
       "    </tr>\n",
       "  </thead>\n",
       "  <tbody>\n",
       "    <tr>\n",
       "      <th>108</th>\n",
       "      <td>Celeus grammicus</td>\n",
       "      <td>0.770651</td>\n",
       "    </tr>\n",
       "    <tr>\n",
       "      <th>661</th>\n",
       "      <td>Ramphastos tucanus</td>\n",
       "      <td>0.831784</td>\n",
       "    </tr>\n",
       "    <tr>\n",
       "      <th>783</th>\n",
       "      <td>Thraupis episcopus</td>\n",
       "      <td>0.757784</td>\n",
       "    </tr>\n",
       "    <tr>\n",
       "      <th>817</th>\n",
       "      <td>Trogon viridis</td>\n",
       "      <td>0.745209</td>\n",
       "    </tr>\n",
       "    <tr>\n",
       "      <th>833</th>\n",
       "      <td>Turdus leucomelas</td>\n",
       "      <td>0.686170</td>\n",
       "    </tr>\n",
       "    <tr>\n",
       "      <th>859</th>\n",
       "      <td>Xiphorhynchus guttatus</td>\n",
       "      <td>0.841321</td>\n",
       "    </tr>\n",
       "  </tbody>\n",
       "</table>\n",
       "</div>"
      ],
      "text/plain": [
       "                    SPECIES  AUC SCORES\n",
       "108        Celeus grammicus    0.770651\n",
       "661      Ramphastos tucanus    0.831784\n",
       "783      Thraupis episcopus    0.757784\n",
       "817          Trogon viridis    0.745209\n",
       "833       Turdus leucomelas    0.686170\n",
       "859  Xiphorhynchus guttatus    0.841321"
      ]
     },
     "execution_count": 60,
     "metadata": {},
     "output_type": "execute_result"
    }
   ],
   "source": [
    "auc_scores_df"
   ]
  },
  {
   "cell_type": "markdown",
   "metadata": {},
   "source": [
    "### TweetyNet Pipeline AUC scores"
   ]
  },
  {
   "cell_type": "code",
   "execution_count": 61,
   "metadata": {},
   "outputs": [
    {
     "name": "stderr",
     "output_type": "stream",
     "text": [
      "/Users/vanessasalgado/Desktop/E4E-Acoustics.nosync/PyHa/PyHa/annotation_post_processing.py:213: SettingWithCopyWarning: \n",
      "A value is trying to be set on a copy of a slice from a DataFrame.\n",
      "Try using .loc[row_indexer,col_indexer] = value instead\n",
      "\n",
      "See the caveats in the documentation: https://pandas.pydata.org/pandas-docs/stable/user_guide/indexing.html#returning-a-view-versus-a-copy\n",
      "  #Init list of clips to cycle through and output dataframe\n"
     ]
    },
    {
     "name": "stdout",
     "output_type": "stream",
     "text": [
      "target 597\n",
      "confidence 597\n",
      "automated df 597\n",
      "[1. 1. 1. 1. 0. 0. 0. 1. 0. 0. 0. 0. 0. 0. 0. 1. 1. 0. 0. 1. 1. 0. 0. 1.\n",
      " 1. 0. 1. 1. 1. 1. 0. 0. 0. 1. 1. 0. 1. 1. 1. 0. 0. 1. 0. 0. 0. 0. 0. 1.\n",
      " 1. 0. 0. 1. 1. 0. 0. 0. 1. 1. 0. 1. 0. 0. 0. 1. 0. 0. 0. 0. 0. 0. 0. 0.\n",
      " 0. 0. 0. 0. 0. 0. 0. 0. 0. 0. 1. 0. 0. 1. 1. 0. 0. 0. 0. 1. 1. 1. 0. 0.\n",
      " 1. 0. 0. 1. 1. 0. 0. 0. 0. 0. 0. 1. 0. 0. 0. 1. 0. 0. 1. 1. 0. 1. 1. 1.\n",
      " 1. 1. 1. 1. 0. 0. 0. 0. 0. 0. 1. 0. 0. 0. 0. 0. 0. 1. 0. 1. 1. 1. 1. 0.\n",
      " 0. 1. 1. 0. 0. 0. 1. 0. 0. 1. 0. 0. 1. 0. 0. 1. 1. 0. 0. 1. 0. 0. 0. 1.\n",
      " 0. 0. 0. 0. 0. 1. 1. 0. 0. 0. 0. 1. 1. 1. 1. 1. 1. 1. 0. 0. 1. 1. 0. 0.\n",
      " 1. 0. 1. 1. 0. 1. 0. 0. 0. 0. 1. 0. 0. 0. 0. 0. 0. 0. 0. 0. 0. 0. 0. 0.\n",
      " 0. 0. 0. 0. 0. 0. 0. 0. 0. 0. 0. 0. 0. 0. 0. 0. 0. 0. 0. 0. 0. 0. 1. 0.\n",
      " 0. 1. 0. 0. 0. 0. 0. 1. 0. 0. 0. 0. 0. 0. 0. 0. 0. 0. 0. 0. 0. 1. 0. 0.\n",
      " 0. 0. 0. 0. 0. 0. 1. 0. 0. 1. 1. 0. 0. 0. 0. 0. 1. 0. 1. 0. 0. 0. 0. 0.\n",
      " 0. 1. 0. 0. 1. 0. 1. 1. 1. 1. 0. 0. 0. 0. 0. 1. 0. 0. 0. 0. 0. 0. 1. 0.\n",
      " 0. 0. 0. 0. 0. 1. 1. 1. 1. 1. 0. 0. 0. 1. 1. 1. 0. 0. 1. 0. 1. 1. 1. 0.\n",
      " 1. 0. 1. 1. 0. 1. 1. 1. 0. 0. 1. 0. 0. 1. 1. 0. 0. 0. 1. 0. 0. 0. 0. 1.\n",
      " 1. 1. 1. 1. 1. 1. 1. 1. 0. 0. 1. 1. 0. 1. 1. 0. 0. 1. 1. 1. 0. 1. 1. 0.\n",
      " 1. 0. 1. 1. 1. 1. 1. 1. 1. 1. 1. 1. 1. 1. 0. 1. 1. 0. 1. 0. 1. 1. 1. 1.\n",
      " 0. 1. 1. 1. 1. 1. 0. 1. 0. 0. 0. 1. 0. 0. 1. 0. 0. 0. 0. 0. 1. 0. 0. 1.\n",
      " 1. 0. 0. 0. 0. 1. 0. 1. 0. 1. 1. 1. 1. 1. 0. 0. 0. 1. 0. 0. 0. 0. 0. 1.\n",
      " 0. 0. 1. 0. 0. 0. 0. 0. 0. 0. 0. 0. 0. 0. 0. 0. 0. 0. 0. 0. 0. 0. 0. 1.\n",
      " 0. 1. 0. 1. 1. 1. 1. 1. 1. 0. 0. 0. 0. 0. 0. 1. 0. 1. 1. 0. 0. 1. 0. 1.\n",
      " 0. 1. 0. 1. 0. 0. 1. 1. 0. 0. 1. 1. 1. 1. 0. 1. 1. 1. 1. 1. 0. 1. 1. 1.\n",
      " 1. 1. 0. 1. 0. 0. 1. 1. 0. 0. 0. 0. 0. 0. 0. 0. 0. 0. 0. 0. 0. 0. 0. 0.\n",
      " 1. 0. 0. 0. 0. 0. 0. 0. 0. 1. 0. 0. 1. 1. 1. 0. 0. 1. 0. 1. 1. 1. 1. 1.\n",
      " 1. 1. 1. 1. 1. 1. 1. 0. 1. 1. 0. 1. 1. 0. 0. 0. 1. 0. 0. 0. 0.]\n",
      "[0.68216497 0.79804591 0.705093   0.87648769 0.81592349 0.81592349\n",
      " 0.81592349 0.9970527  0.72479703 0.         0.64460601 0.68181537\n",
      " 0.68663056 0.         0.         0.         0.76811749 0.\n",
      " 0.         0.82084887 1.         0.99370902 0.         0.\n",
      " 0.         0.         0.70513901 0.98882386 0.73214683 0.8161906\n",
      " 0.         0.         0.         1.         0.38905559 0.\n",
      " 0.25027888 0.80509087 0.5969809  0.76959997 0.68236768 0.52841203\n",
      " 0.         0.         0.         1.         0.61107074 0.71377964\n",
      " 0.7524059  0.         0.         0.60060923 0.56911483 0.98564666\n",
      " 0.98564666 1.         0.68974242 0.70661694 1.         0.\n",
      " 0.45982345 0.49003583 0.68385189 0.95608663 0.         0.43547127\n",
      " 0.         0.         0.38778963 0.73246858 0.70723862 0.\n",
      " 0.84251129 0.42733867 0.34050293 0.34050293 0.         0.\n",
      " 0.33009754 0.         0.         0.         0.         0.\n",
      " 0.59317247 0.         0.         0.         0.29275229 0.29275229\n",
      " 0.41409611 0.48740202 0.80483298 0.80483298 0.57355766 0.89920444\n",
      " 0.         0.         0.2045748  0.71532689 0.84392444 0.84392444\n",
      " 1.         0.         0.92945667 0.92945667 0.5039339  0.\n",
      " 0.3544593  0.86879586 0.         0.44338426 0.         0.\n",
      " 0.61553642 0.62049483 0.64378614 0.69916243 0.69916243 0.79052087\n",
      " 0.79052087 0.3944421  0.64709017 0.         0.         0.64187756\n",
      " 0.64187756 0.79302216 0.79302216 0.         0.50689693 0.\n",
      " 0.72011836 0.72011836 0.62877067 0.62877067 0.         0.58783941\n",
      " 0.82907499 0.82907499 0.60780201 0.50438826 0.36848798 0.\n",
      " 0.64646273 0.7173249  0.85040012 0.         0.         0.35768518\n",
      " 0.68144952 0.64703296 0.64703296 0.64533492 0.         0.56245286\n",
      " 0.76857162 0.76857162 0.42915353 0.27844444 0.8315145  0.8315145\n",
      " 0.55087489 0.55087489 0.29799078 0.29799078 0.         0.81408341\n",
      " 0.81408341 0.77575285 0.5033674  0.29955207 0.51731057 0.43713563\n",
      " 0.54401595 0.61394821 0.61394821 0.27793187 1.         0.6387048\n",
      " 0.6820232  0.76078767 0.64783183 0.64783183 0.35789516 0.35789516\n",
      " 0.15175003 1.         1.         1.         0.61917924 0.78259633\n",
      " 0.45901051 0.1374775  0.58807711 0.58807711 0.20001375 0.49037017\n",
      " 0.         0.         0.         0.         0.47187496 1.\n",
      " 0.69081711 0.53352981 0.53167744 0.62026619 0.68184017 0.431258\n",
      " 0.         0.73480529 0.57114323 0.58377539 0.43135427 0.34237582\n",
      " 0.64791956 0.61589049 0.6463119  0.         0.         0.59385545\n",
      " 0.29722347 0.31378353 0.         0.44755175 0.51679514 0.43025253\n",
      " 0.         0.         0.         0.29699794 0.2937637  0.37468413\n",
      " 0.37468413 0.47352319 0.         0.31829986 0.98239495 0.\n",
      " 0.36355294 0.83219025 0.39374245 0.6772755  0.6772755  0.\n",
      " 0.34395786 0.96198819 0.96198819 0.35987966 0.38924436 0.23845519\n",
      " 0.         0.         0.         0.         0.         0.52585704\n",
      " 0.6019699  0.27898024 0.         0.97052204 0.         0.\n",
      " 0.         0.         0.         0.         0.         0.\n",
      " 0.         0.         0.         0.         0.         0.\n",
      " 0.         0.         0.         0.         1.         0.\n",
      " 1.         0.         0.         0.28187702 0.         0.27430528\n",
      " 0.36116266 0.57797936 0.         0.         1.         0.\n",
      " 0.         0.         0.         0.87781569 0.         0.\n",
      " 0.         0.         0.         0.67311439 0.         0.\n",
      " 0.63011961 0.58299635 0.         0.         0.49931143 0.\n",
      " 0.         0.         0.         0.50249768 0.         0.75594942\n",
      " 0.75594942 0.6460556  0.71205823 0.81471019 0.6840688  0.80942004\n",
      " 0.80942004 0.88445051 0.74227091 0.6999345  0.70331762 0.69978088\n",
      " 0.81833312 0.69608344 1.         1.         0.73218726 0.48758569\n",
      " 0.71650924 0.62503649 0.7587741  0.7587741  0.         0.79806648\n",
      " 0.5455191  0.60341469 0.         0.21612432 0.84350332 0.27155355\n",
      " 0.5814971  0.85306253 0.85306253 0.41520758 0.29921232 0.53408312\n",
      " 1.         0.22149048 0.21975274 0.43524635 0.28306222 0.85123858\n",
      " 0.85123858 0.80798996 0.80798996 0.         0.         1.\n",
      " 1.         1.         0.85007515 0.85007515 0.59178962 0.85004858\n",
      " 0.61087665 0.74486941 0.76813334 0.73200967 0.9044943  0.82038807\n",
      " 0.86700658 0.90413317 0.16745546 0.8211436  0.8211436  0.17783335\n",
      " 0.9504549  0.56562112 0.89996251 0.89996251 0.73621823 0.84847402\n",
      " 0.84847402 1.         1.         0.78084599 0.82568503 0.82568503\n",
      " 0.         0.96933267 0.80306215 0.8969051  0.8969051  0.64756068\n",
      " 0.86947674 0.68108691 0.80898278 0.80898278 0.         1.\n",
      " 0.69259096 0.63664665 1.         0.         0.09362559 1.\n",
      " 0.92265182 0.96513652 0.71556466 0.71556466 0.70003514 0.55310082\n",
      " 0.51565081 0.         0.81403253 0.         0.37512066 0.\n",
      " 0.         0.         0.3240009  0.76457919 0.60083288 0.\n",
      " 1.         0.75940768 0.74344996 0.         0.         0.\n",
      " 0.         0.         0.         0.         0.         0.34704576\n",
      " 0.40894062 0.         0.         0.         0.         0.\n",
      " 0.         0.         0.         0.         0.         0.\n",
      " 0.         0.         0.         0.         0.         0.\n",
      " 0.         0.         0.         0.         0.         0.\n",
      " 0.         0.         0.         0.         0.         0.\n",
      " 0.         0.         0.         0.         0.         0.\n",
      " 0.         0.5716822  0.         0.         0.         0.\n",
      " 0.         0.         0.         0.         0.35579598 0.\n",
      " 0.84860726 0.98510518 0.9500689  1.         0.37084145 0.69682309\n",
      " 0.593403   0.78242256 0.64110272 0.         0.6400024  0.58919886\n",
      " 0.87694072 0.90067897 0.92844692 1.         1.         0.\n",
      " 0.66503933 0.         0.77724868 0.56941995 0.92186742 0.76086766\n",
      " 0.81400937 0.9398497  0.91108601 0.63610352 0.34665129 0.\n",
      " 0.         0.         0.29165066 0.32667854 0.32719162 0.29222279\n",
      " 0.35712197 0.41471316 0.         0.52943702 0.         0.66787354\n",
      " 0.85505425 0.76787274 0.76787274 0.67032003 0.85890317 0.87838945\n",
      " 0.73280778 0.81295539 0.81175198 0.70605379 0.87273945 0.99482828\n",
      " 0.96587156 0.96587156 0.74724684 0.74158492 0.66412305 0.82093838\n",
      " 0.86674202 0.69762834 0.78755746 0.83984042 0.85248659 0.8846385\n",
      " 0.81750192 0.85188172 0.87454276 0.71554152 0.71554152 1.\n",
      " 0.9974123  0.8179874  0.32970662 0.         0.15310309 0.78723317\n",
      " 0.         0.15903517 0.79396878 0.67756468 0.97915854 1.\n",
      " 0.90678041 0.65852834 0.65852834 0.26753098 0.60788288 1.\n",
      " 0.91162549 0.         0.12703504 0.12703504 0.         0.14918558\n",
      " 1.         0.         0.         0.13106885 0.98577579 0.\n",
      " 0.         0.         0.        ]\n"
     ]
    },
    {
     "name": "stderr",
     "output_type": "stream",
     "text": [
      "/Users/vanessasalgado/Desktop/E4E-Acoustics.nosync/PyHa/PyHa/annotation_post_processing.py:213: SettingWithCopyWarning: \n",
      "A value is trying to be set on a copy of a slice from a DataFrame.\n",
      "Try using .loc[row_indexer,col_indexer] = value instead\n",
      "\n",
      "See the caveats in the documentation: https://pandas.pydata.org/pandas-docs/stable/user_guide/indexing.html#returning-a-view-versus-a-copy\n",
      "  #Init list of clips to cycle through and output dataframe\n"
     ]
    },
    {
     "name": "stdout",
     "output_type": "stream",
     "text": [
      "target 641\n",
      "confidence 639\n",
      "automated df 639\n",
      "[1. 1. 0. 1. 0. 0. 1. 0. 1. 1. 1. 1. 1. 1. 1. 1. 1. 1. 1. 1. 1. 1. 1. 1.\n",
      " 1. 1. 1. 1. 1. 1. 1. 1. 1. 1. 1. 1. 1. 1. 0. 0. 0. 0. 0. 0. 0. 0. 0. 1.\n",
      " 1. 1. 1. 1. 0. 1. 1. 1. 1. 0. 1. 0. 1. 0. 0. 1. 1. 1. 1. 1. 1. 1. 1. 1.\n",
      " 1. 0. 1. 0. 1. 0. 1. 1. 1. 0. 1. 0. 1. 0. 1. 0. 1. 0. 1. 1. 0. 1. 0. 1.\n",
      " 0. 1. 1. 0. 1. 0. 1. 0. 0. 0. 0. 1. 0. 1. 0. 0. 1. 0. 1. 0. 1. 1. 0. 1.\n",
      " 0. 1. 0. 1. 1. 0. 0. 0. 0. 0. 0. 0. 0. 1. 1. 1. 1. 1. 1. 1. 1. 1. 1. 1.\n",
      " 1. 0. 1. 0. 1. 1. 1. 1. 1. 1. 0. 1. 1. 1. 1. 0. 1. 1. 1. 0. 1. 0. 1. 0.\n",
      " 0. 0. 0. 1. 1. 1. 1. 1. 1. 1. 1. 1. 1. 1. 1. 1. 1. 1. 1. 1. 1. 0. 1. 0.\n",
      " 1. 1. 0. 0. 1. 0. 0. 0. 1. 0. 0. 1. 1. 0. 0. 1. 1. 1. 1. 1. 1. 1. 1. 1.\n",
      " 1. 1. 0. 1. 0. 1. 0. 0. 1. 0. 0. 1. 1. 1. 0. 1. 0. 0. 1. 1. 0. 0. 1. 0.\n",
      " 1. 1. 1. 1. 1. 0. 1. 1. 1. 1. 1. 1. 1. 1. 1. 1. 0. 1. 1. 1. 1. 1. 1. 1.\n",
      " 1. 1. 1. 1. 1. 1. 1. 1. 0. 0. 0. 0. 0. 0. 0. 0. 0. 0. 0. 0. 0. 1. 0. 1.\n",
      " 1. 1. 1. 1. 1. 0. 1. 1. 1. 1. 1. 1. 1. 1. 1. 1. 1. 1. 1. 1. 1. 1. 1. 0.\n",
      " 1. 1. 1. 1. 0. 1. 1. 0. 1. 0. 0. 1. 0. 0. 1. 1. 0. 0. 1. 0. 0. 1. 0. 0.\n",
      " 1. 0. 0. 1. 1. 0. 1. 1. 0. 1. 1. 1. 0. 1. 0. 1. 0. 0. 1. 0. 1. 0. 0. 1.\n",
      " 0. 1. 1. 0. 1. 1. 0. 1. 0. 0. 1. 0. 1. 1. 1. 1. 1. 1. 0. 1. 0. 1. 1. 0.\n",
      " 1. 0. 0. 0. 0. 0. 0. 1. 1. 1. 1. 1. 1. 1. 1. 1. 1. 1. 0. 1. 0. 0. 1. 0.\n",
      " 0. 1. 0. 0. 1. 0. 0. 1. 0. 0. 1. 1. 1. 1. 1. 0. 0. 1. 0. 1. 1. 0. 1. 1.\n",
      " 0. 1. 1. 0. 1. 1. 0. 0. 1. 0. 1. 0. 1. 0. 1. 0. 0. 1. 1. 1. 1. 1. 1. 1.\n",
      " 1. 1. 1. 1. 1. 1. 1. 1. 1. 1. 1. 1. 1. 1. 1. 1. 1. 1. 1. 1. 1. 1. 1. 1.\n",
      " 1. 1. 1. 1. 1. 1. 1. 1. 1. 1. 1. 1. 1. 1. 1. 1. 1. 1. 1. 1. 1. 1. 1. 1.\n",
      " 1. 1. 1. 1. 1. 1. 1. 1. 1. 1. 1. 1. 1. 1. 1. 1. 1. 1. 1. 1. 1. 1. 1. 1.\n",
      " 1. 1. 1. 1. 1. 1. 1. 1. 1. 1. 1. 1. 1. 1. 1. 1. 1. 1. 1. 1. 1. 1. 0. 1.\n",
      " 0. 1. 1. 0. 1. 0. 1. 1. 0. 1. 0. 0. 1. 0. 1. 1. 0. 1. 0. 0. 1. 0. 0. 0.\n",
      " 0. 0. 0. 0. 0. 0. 0. 0. 0. 0. 0. 0. 0. 0. 0. 0. 0. 1. 1. 1. 1. 1. 1. 1.\n",
      " 1. 1. 0. 1. 0. 1. 1. 1. 1. 1. 1. 1. 0. 1. 0. 1. 0. 0. 0. 1. 0. 0. 1. 0.\n",
      " 0. 1. 1. 0. 0. 1. 0. 1. 1. 1. 0. 1. 1. 1. 0. 1. 1.]\n",
      "[0.         0.42632197 0.69699446 0.69699446 0.         0.\n",
      " 0.71045652 0.16003837 0.32184951 1.         1.         0.79340782\n",
      " 0.95292286 0.95292286 0.82385486 0.82385486 0.99341672 0.99341672\n",
      " 0.4108237  0.57995223 0.59755711 0.59755711 0.53177861 0.27353368\n",
      " 0.73527408 0.         0.57843778 0.92844596 0.92844596 0.\n",
      " 0.84964843 0.9094062  0.98284483 0.98284483 0.95078024 0.94484711\n",
      " 1.         1.         0.         0.         0.         0.\n",
      " 0.         0.40418667 0.59080336 0.         0.565692   1.\n",
      " 0.7751717  0.7751717  0.852664   0.76532764 0.         0.66789508\n",
      " 0.75744666 0.         0.56817897 0.         0.34819403 0.\n",
      " 0.21474786 0.         0.53318596 0.76825661 0.84944033 0.70121134\n",
      " 0.63046132 0.73135329 1.         0.65672423 0.54360153 0.70100321\n",
      " 0.77769883 0.         0.76987174 0.         0.77813061 0.\n",
      " 0.54607295 0.         0.70769897 0.         0.72796775 0.51129745\n",
      " 0.68625447 0.         0.77290622 0.         0.         0.\n",
      " 0.69958436 0.69958436 0.         0.66838536 0.         0.53504771\n",
      " 0.         0.8473765  0.8473765  0.         0.64891357 0.\n",
      " 0.58217921 0.         0.         0.63919776 0.         0.\n",
      " 0.         0.70900534 0.44299426 0.         0.59267246 0.\n",
      " 0.         0.         0.7636455  0.7636455  0.         0.93609323\n",
      " 0.503696   0.66421698 0.66421698 0.71585141 0.71585141 0.\n",
      " 0.         0.56632589 0.66844194 0.45610601 0.         0.\n",
      " 0.26331319 0.48733122 0.88192118 0.55988157 0.71965571 0.71965571\n",
      " 0.90686055 0.         0.65175223 0.44085287 0.9276035  0.\n",
      " 0.72477632 0.         0.95603625 0.         0.85938413 0.78883581\n",
      " 0.90156132 0.75745162 0.         0.64053889 0.74435493 0.\n",
      " 0.74820776 0.         0.90783893 0.90783893 0.416554   0.416554\n",
      " 0.26622917 0.26644764 0.8987034  0.8987034  0.40586847 0.\n",
      " 0.14153493 0.52869178 0.52869178 0.86255998 0.8438668  0.68488969\n",
      " 0.9262335  0.         0.47101121 0.67495423 0.86570711 0.86570711\n",
      " 0.57859905 0.68890694 0.71161715 0.         0.57599163 0.\n",
      " 0.64172574 0.64172574 0.3655066  0.75214189 0.30003663 0.\n",
      " 0.9278414  0.15500785 0.         0.85230656 0.23957677 0.31665779\n",
      " 0.         0.72758858 0.         0.         0.31320196 0.23049154\n",
      " 0.23049154 0.         0.37907313 0.87187671 0.97778468 1.\n",
      " 1.         0.7744611  0.90503411 0.8924288  0.8924288  0.60700579\n",
      " 0.61881779 0.         0.77277583 0.         0.65862194 0.\n",
      " 0.         0.84704469 0.28256967 0.26370702 0.94896268 0.94896268\n",
      " 0.50341421 0.50341421 0.74262351 0.         0.25435932 0.57063187\n",
      " 0.57063187 0.         0.         0.4486408  0.65976794 0.61181033\n",
      " 0.5972408  0.         0.7724782  0.         0.86117997 0.83521854\n",
      " 0.83521854 0.81803428 0.67147035 0.72250003 0.83036734 0.83036734\n",
      " 0.85587959 0.83396856 0.         0.82356033 1.         1.\n",
      " 0.7951516  0.7951516  0.75632807 0.79160283 0.66139576 0.72161229\n",
      " 0.81907909 0.         0.64215516 0.65387667 0.84966051 1.\n",
      " 1.         1.         1.         1.         1.         1.\n",
      " 1.         1.         1.         1.         1.         0.8977542\n",
      " 0.49234304 0.88190482 0.         0.86659981 0.3709295  0.28433817\n",
      " 0.3202677  0.         0.23911004 0.         0.37741302 0.37741302\n",
      " 0.90710184 0.         0.25274295 0.70202807 0.         1.\n",
      " 1.         0.63693477 0.9162071  0.9162071  0.53450514 0.70452126\n",
      " 0.70452126 1.         1.         0.         0.77552399 0.75675471\n",
      " 0.95287114 0.95287114 0.         0.74998931 0.         0.\n",
      " 0.76922793 0.         0.         0.65282169 0.         0.\n",
      " 0.         0.72880668 0.         0.         0.39115798 0.\n",
      " 0.         0.30853486 0.         0.         0.14222451 0.\n",
      " 0.         0.16199916 0.16199916 0.         0.18430129 0.18430129\n",
      " 0.         0.24958635 0.         0.74324991 0.         0.53440836\n",
      " 0.         0.86217578 0.86217578 0.         0.7759967  0.50875581\n",
      " 0.69490008 0.         0.15391702 0.59512445 0.41472859 1.\n",
      " 1.         0.         0.53270715 0.53270715 0.         0.32232458\n",
      " 0.         0.         0.50317291 0.31199112 0.39933043 0.59807617\n",
      " 0.59807617 0.41031477 0.37269164 0.36540252 0.         0.29706717\n",
      " 0.         0.31658529 0.31658529 0.         0.54174427 0.36327247\n",
      " 0.49107178 0.         0.         0.76047139 0.         0.76683883\n",
      " 0.95329437 1.         1.         0.70945415 0.69874439 0.\n",
      " 0.82523857 0.         0.75137864 0.75137864 0.56685069 0.95013355\n",
      " 0.54774496 0.         0.76895808 0.         0.34041836 0.81330969\n",
      " 0.         0.         0.76479556 0.         0.         0.67195152\n",
      " 0.         0.         0.8105636  0.90923922 0.90923922 1.\n",
      " 0.67283275 0.         0.62628885 1.         0.52187277 0.65111812\n",
      " 0.60307886 0.         0.         0.         0.         0.49057455\n",
      " 0.         0.         0.         0.61639013 0.         0.\n",
      " 0.68222811 0.         0.9771596  0.         0.54385821 0.\n",
      " 0.41022088 0.         0.         0.96893026 0.96893026 0.52544207\n",
      " 0.88719618 0.56056704 0.48944773 0.9245296  0.9245296  0.73888544\n",
      " 0.56331093 0.52608746 0.47956419 0.98416104 0.98416104 0.54838618\n",
      " 0.64014076 0.42486884 0.98392987 0.98392987 0.72604788 0.72604788\n",
      " 0.         0.49241859 0.92129269 0.92129269 0.48915474 0.57280126\n",
      " 0.51885227 0.44551036 0.7210765  0.7210765  0.6014489  0.72826559\n",
      " 0.72826559 0.81536912 0.81536912 0.59663282 0.62293117 0.\n",
      " 0.72000757 0.74708892 0.87872597 0.76184677 0.92468888 0.96701348\n",
      " 0.96701348 0.42893456 0.97034195 0.97034195 0.97034195 0.\n",
      " 0.886116   0.94576009 0.94576009 0.43013708 0.39487401 0.\n",
      " 0.         0.59565018 0.66792509 0.66792509 0.31908985 0.63243709\n",
      " 0.84966879 0.86386274 0.65855918 0.81467435 0.92904182 0.92904182\n",
      " 0.39022872 0.3952364  0.         0.73869358 0.73869358 0.84907642\n",
      " 0.74537571 0.7840841  0.94162179 0.94162179 0.94162179 0.73984125\n",
      " 0.58565821 0.98048155 0.98048155 0.         0.60049725 0.60049725\n",
      " 0.80821453 0.50517407 0.         0.         0.90650034 0.90650034\n",
      " 0.67687619 0.75352296 0.86617687 0.86617687 1.         1.\n",
      " 0.87694752 0.87694752 0.63664258 0.92913151 0.         0.82739025\n",
      " 0.82739025 0.4571358  0.79978934 0.79978934 0.73684724 0.73684724\n",
      " 0.28465015 0.77528378 0.47661761 0.         0.82539589 0.\n",
      " 0.75490888 0.75490888 0.45908218 0.80772589 0.         0.\n",
      " 0.81964656 0.         0.         0.         0.52197003 0.\n",
      " 0.         0.         0.         0.         0.33475789 0.\n",
      " 0.         0.         0.         0.         0.         0.\n",
      " 0.40614149 0.36666    0.         0.         0.56901548 0.56901548\n",
      " 0.5930498  0.59346908 0.56300597 0.71071011 0.63275145 0.80917837\n",
      " 0.         0.37821769 0.         0.93400758 0.94268155 0.85327559\n",
      " 0.93133279 0.9736791  0.9736791  0.9463468  0.         0.96310243\n",
      " 0.         0.90995397 0.         0.         0.         0.90172192\n",
      " 0.         0.         0.83641726 0.         0.         0.83219677\n",
      " 0.         0.         0.         0.97583877 0.         0.92583162\n",
      " 0.92583162 0.98758495 0.         0.94273074 0.94273074 0.89475406\n",
      " 0.         0.86928918 0.86928918]\n"
     ]
    },
    {
     "name": "stderr",
     "output_type": "stream",
     "text": [
      "/Users/vanessasalgado/Desktop/E4E-Acoustics.nosync/PyHa/PyHa/annotation_post_processing.py:213: SettingWithCopyWarning: \n",
      "A value is trying to be set on a copy of a slice from a DataFrame.\n",
      "Try using .loc[row_indexer,col_indexer] = value instead\n",
      "\n",
      "See the caveats in the documentation: https://pandas.pydata.org/pandas-docs/stable/user_guide/indexing.html#returning-a-view-versus-a-copy\n",
      "  #Init list of clips to cycle through and output dataframe\n"
     ]
    },
    {
     "name": "stdout",
     "output_type": "stream",
     "text": [
      "target 326\n",
      "confidence 325\n",
      "automated df 325\n",
      "[1. 1. 0. 0. 0. 0. 1. 1. 1. 0. 1. 0. 1. 0. 0. 1. 0. 1. 1. 0. 1. 1. 0. 1.\n",
      " 1. 0. 0. 1. 1. 1. 0. 0. 1. 0. 1. 1. 0. 0. 1. 1. 1. 1. 1. 1. 1. 1. 1. 1.\n",
      " 1. 1. 1. 1. 1. 1. 1. 1. 1. 1. 1. 1. 1. 1. 0. 1. 1. 0. 1. 1. 1. 1. 0. 0.\n",
      " 1. 1. 1. 0. 0. 0. 1. 1. 1. 1. 1. 1. 1. 0. 0. 0. 1. 1. 1. 1. 0. 1. 1. 0.\n",
      " 1. 1. 1. 1. 1. 0. 1. 1. 0. 1. 0. 0. 1. 1. 1. 1. 1. 1. 0. 0. 0. 0. 0. 0.\n",
      " 0. 0. 0. 1. 1. 0. 0. 0. 0. 0. 1. 0. 0. 0. 0. 0. 0. 0. 0. 0. 0. 0. 0. 0.\n",
      " 0. 0. 0. 0. 1. 1. 0. 0. 0. 0. 1. 0. 0. 0. 0. 1. 1. 1. 1. 1. 1. 1. 1. 1.\n",
      " 1. 1. 1. 1. 1. 1. 1. 1. 0. 1. 0. 1. 1. 1. 1. 1. 1. 0. 1. 1. 1. 1. 1. 1.\n",
      " 1. 1. 1. 1. 1. 0. 1. 1. 1. 0. 1. 0. 1. 1. 1. 1. 1. 1. 1. 1. 1. 0. 0. 1.\n",
      " 1. 0. 1. 0. 0. 1. 0. 1. 1. 0. 0. 0. 1. 1. 1. 0. 0. 0. 1. 1. 1. 0. 1. 1.\n",
      " 0. 1. 1. 0. 0. 0. 1. 1. 1. 0. 1. 1. 0. 1. 1. 1. 1. 0. 0. 0. 1. 1. 1. 1.\n",
      " 0. 1. 0. 0. 1. 1. 0. 1. 1. 0. 1. 1. 0. 1. 1. 0. 0. 1. 0. 0. 0. 0. 0. 0.\n",
      " 0. 0. 1. 1. 1. 1. 1. 1. 1. 1. 0. 1. 0. 1. 1. 1. 1. 1. 1. 1. 0. 1. 0. 1.\n",
      " 1. 0. 0. 0. 0. 0. 0. 1. 1. 0. 0. 0. 0. 0.]\n",
      "[1.         1.         0.36018871 0.51092381 0.51092381 0.\n",
      " 0.93168902 0.82072941 0.82072941 0.         0.93117386 1.\n",
      " 1.         0.         0.79441625 0.79441625 0.         0.95181174\n",
      " 0.95181174 0.91884227 0.         0.         1.         1.\n",
      " 0.73990241 0.70436833 0.         0.         0.         0.73040932\n",
      " 0.73040932 0.66710625 0.98410954 0.         0.81193701 0.\n",
      " 0.         0.         0.29494287 1.         0.93564768 0.86314534\n",
      " 0.73557342 0.9119793  0.9119793  0.89819683 0.89819683 0.75538498\n",
      " 0.96335988 0.96335988 0.91790334 0.86806086 0.86806086 0.82397231\n",
      " 0.71284274 0.66788539 0.6702579  1.         0.73649857 0.63299119\n",
      " 0.88387989 0.88387989 0.43376011 0.61300749 0.46425125 0.3343483\n",
      " 0.9848144  0.51552514 1.         1.         0.46312718 0.579595\n",
      " 0.579595   0.51719947 0.         0.         0.60649995 0.60649995\n",
      " 1.         1.         0.46766596 0.47797312 0.         1.\n",
      " 1.         0.         0.         0.2149135  0.89128193 0.89128193\n",
      " 0.99607823 0.62724022 0.63736377 0.88183448 0.88183448 0.30334408\n",
      " 0.91776819 0.93326331 1.         0.93565567 0.93565567 0.\n",
      " 0.85537514 0.85537514 0.         0.89559716 0.54880419 1.\n",
      " 1.         1.         0.76371683 0.4370116  0.73031203 1.\n",
      " 0.52758366 0.         0.         0.5370514  0.66985582 0.83514833\n",
      " 0.34985382 0.         0.86427776 0.         0.35150972 0.35150972\n",
      " 0.         0.         0.31331637 0.50019897 0.88726487 0.34062869\n",
      " 0.         0.         0.56597869 0.21313899 0.         0.29691111\n",
      " 0.44953066 0.27075776 0.         0.         0.15949208 0.39552469\n",
      " 0.21021934 0.         0.2383811  0.51688809 0.40409986 0.31900855\n",
      " 0.         0.         0.         0.20670473 0.43660197 0.12075146\n",
      " 0.         0.32033547 0.40483566 0.4408373  1.         0.54895591\n",
      " 0.6643018  0.80881287 0.80881287 0.60511549 0.91229049 0.83874591\n",
      " 0.86042662 0.66655334 0.84930504 0.84930504 0.84401976 0.71858219\n",
      " 0.86713712 0.86713712 0.49384554 0.80810813 0.62974163 0.8710043\n",
      " 0.8710043  0.73870958 0.73870958 1.         1.         0.47159359\n",
      " 0.75721227 0.75721227 0.643618   0.73840927 0.73840927 0.82824835\n",
      " 0.82824835 0.64912703 0.90416124 0.         0.84870111 0.\n",
      " 1.         0.99731882 0.72411574 0.         0.91381839 0.19663444\n",
      " 0.80152809 0.64275383 0.88863023 0.88863023 1.         1.\n",
      " 0.43445124 1.         0.68331283 0.92770099 0.92770099 0.92770099\n",
      " 0.92176017 0.92176017 0.92176017 1.         1.         1.\n",
      " 0.94013295 0.94013295 0.94013295 0.         0.         0.\n",
      " 0.92701232 0.92701232 0.52847451 0.         0.         1.\n",
      " 0.66758387 0.64045039 0.         0.69714529 0.59700143 0.\n",
      " 0.95461635 0.95461635 0.22555441 0.         0.         0.8795075\n",
      " 0.73647957 0.82030466 0.58786523 0.80379818 0.80379818 0.77916647\n",
      " 0.77916647 1.         1.         0.36132513 0.90839054 0.\n",
      " 0.578888   0.         0.         0.8590847  0.8590847  0.\n",
      " 0.94894433 0.         0.         0.95153777 0.95153777 0.\n",
      " 0.94327946 0.94327946 0.         0.82309581 0.82309581 0.\n",
      " 0.90730244 0.69021976 0.         0.         1.         0.\n",
      " 0.70235302 0.70235302 0.         0.268806   0.         0.\n",
      " 0.48117225 1.         1.         0.87798835 0.87798835 0.57585002\n",
      " 0.609054   0.91916241 0.97582975 0.         0.94727824 0.54669488\n",
      " 0.80976684 0.89852134 0.89628056 0.89628056 0.93709617 0.93709617\n",
      " 0.         0.71309943 1.         0.         0.         0.61994119\n",
      " 0.         0.         0.         0.69171608 0.69171608 0.\n",
      " 0.67116821 0.72856586 0.         0.         0.98692509 0.98692509\n",
      " 0.45030667]\n"
     ]
    },
    {
     "name": "stderr",
     "output_type": "stream",
     "text": [
      "/Users/vanessasalgado/Desktop/E4E-Acoustics.nosync/PyHa/PyHa/annotation_post_processing.py:213: SettingWithCopyWarning: \n",
      "A value is trying to be set on a copy of a slice from a DataFrame.\n",
      "Try using .loc[row_indexer,col_indexer] = value instead\n",
      "\n",
      "See the caveats in the documentation: https://pandas.pydata.org/pandas-docs/stable/user_guide/indexing.html#returning-a-view-versus-a-copy\n",
      "  #Init list of clips to cycle through and output dataframe\n"
     ]
    },
    {
     "name": "stdout",
     "output_type": "stream",
     "text": [
      "target 361\n",
      "confidence 361\n",
      "automated df 361\n",
      "[1. 1. 0. 1. 1. 1. 1. 1. 1. 1. 1. 1. 1. 1. 1. 1. 1. 1. 0. 1. 1. 1. 1. 1.\n",
      " 1. 1. 1. 1. 1. 1. 1. 1. 0. 1. 1. 1. 0. 0. 1. 1. 1. 1. 1. 1. 1. 1. 0. 0.\n",
      " 1. 1. 1. 1. 1. 1. 1. 1. 0. 1. 1. 0. 1. 1. 1. 1. 1. 1. 1. 1. 1. 1. 1. 1.\n",
      " 1. 1. 1. 1. 1. 1. 1. 1. 1. 1. 1. 1. 1. 1. 1. 1. 1. 1. 1. 1. 1. 1. 1. 1.\n",
      " 1. 1. 1. 1. 1. 1. 1. 0. 1. 1. 1. 1. 1. 1. 1. 0. 1. 1. 1. 1. 1. 1. 1. 1.\n",
      " 1. 1. 1. 1. 1. 1. 1. 1. 1. 1. 1. 1. 1. 1. 1. 1. 1. 1. 1. 1. 1. 1. 1. 1.\n",
      " 1. 1. 1. 1. 1. 1. 1. 1. 1. 1. 1. 1. 1. 1. 1. 1. 1. 1. 1. 1. 1. 1. 1. 1.\n",
      " 1. 1. 1. 1. 1. 1. 1. 1. 1. 1. 0. 1. 0. 1. 1. 1. 1. 1. 1. 1. 1. 1. 1. 1.\n",
      " 1. 1. 1. 1. 1. 1. 1. 1. 1. 1. 1. 0. 1. 1. 1. 1. 1. 1. 1. 1. 1. 0. 1. 1.\n",
      " 1. 1. 1. 1. 1. 1. 1. 1. 1. 1. 1. 1. 1. 1. 1. 1. 1. 1. 1. 1. 1. 1. 1. 1.\n",
      " 1. 1. 1. 1. 1. 1. 1. 1. 1. 1. 1. 1. 1. 1. 1. 1. 1. 1. 1. 1. 1. 1. 1. 1.\n",
      " 1. 1. 1. 1. 1. 1. 1. 1. 1. 1. 1. 1. 1. 1. 1. 1. 1. 1. 1. 1. 1. 1. 1. 1.\n",
      " 1. 1. 1. 1. 1. 1. 1. 1. 1. 1. 1. 1. 1. 1. 1. 1. 1. 1. 1. 1. 1. 1. 1. 1.\n",
      " 1. 1. 1. 1. 1. 1. 1. 1. 1. 1. 1. 1. 1. 1. 1. 1. 1. 1. 1. 1. 1. 1. 1. 1.\n",
      " 1. 1. 1. 1. 1. 1. 1. 1. 1. 1. 1. 1. 1. 1. 1. 1. 1. 1. 1. 1. 1. 1. 1. 1.\n",
      " 1.]\n",
      "[1.         0.96688887 0.31617767 0.79893561 0.9658375  0.9658375\n",
      " 0.93300301 0.85388456 0.93191031 0.93191031 0.85315811 0.97813046\n",
      " 0.98095616 0.98095616 0.81713083 0.73217127 1.         0.97922394\n",
      " 0.         0.69038302 0.59100008 0.82836308 0.82836308 0.803263\n",
      " 0.65365685 0.69209617 0.7620456  0.7620456  0.51147099 0.42356909\n",
      " 0.5586936  0.63757388 1.         0.68639819 0.57656845 0.75276583\n",
      " 0.68041012 0.85883217 0.96533413 0.96533413 1.         1.\n",
      " 0.96180992 0.96180992 0.8500254  0.87908008 0.         0.15922038\n",
      " 1.         1.         1.         1.         1.         0.90187802\n",
      " 0.82664032 0.89463929 0.86311557 0.89748473 0.89748473 0.86531401\n",
      " 0.74289642 0.81928168 0.81928168 0.73793543 0.73793543 0.72193304\n",
      " 0.74129618 0.90452753 0.66910075 0.693964   0.88213616 1.\n",
      " 1.         0.75033532 0.37758134 0.80900757 0.80900757 0.74264617\n",
      " 0.42447684 0.84195787 0.84195787 0.3837055  0.44334679 0.75397709\n",
      " 0.89749717 0.71427262 0.95644005 0.         0.92854645 0.65083569\n",
      " 0.49944555 0.         0.90050204 0.30827298 0.91053522 0.\n",
      " 0.         0.24919716 0.         0.         0.28976935 0.82634438\n",
      " 0.82634438 1.         0.74890296 0.75863044 0.75323608 0.74787968\n",
      " 0.8693292  0.49860552 0.65801086 0.         0.74041494 0.83091431\n",
      " 0.70160683 0.76932309 0.7844385  0.994952   0.74808065 0.2968804\n",
      " 0.69694133 0.70233633 0.70233633 0.65517413 0.80991252 0.96861835\n",
      " 0.7463167  0.96103478 0.96103478 0.81517175 0.81517175 0.84170482\n",
      " 0.9814253  0.9814253  0.84471479 0.97369302 1.         1.\n",
      " 0.72832173 0.84580292 0.84580292 0.9171808  0.41218547 1.\n",
      " 0.89145833 0.89145833 0.9697349  0.9697349  0.87912135 0.89442639\n",
      " 1.         1.         0.96883949 0.75450073 0.79064851 0.86928318\n",
      " 0.74886514 0.90561442 1.         1.         0.         0.83282507\n",
      " 0.9566461  0.75088279 0.86218356 0.76311559 0.78531726 0.94111997\n",
      " 0.75062903 0.99496365 0.84061987 0.74366673 0.6925657  0.90661271\n",
      " 0.99373213 0.99373213 1.         0.81244625 0.9454017  0.9454017\n",
      " 1.         1.         1.         1.         0.99506559 0.98109924\n",
      " 0.83631101 0.83631101 0.64826161 0.61779187 0.83203365 0.53987125\n",
      " 0.87492648 1.         0.93454762 0.11925878 0.20741067 0.20741067\n",
      " 0.38126892 0.50673836 0.         0.78480503 1.         1.\n",
      " 0.94363328 0.41333064 0.         0.69031123 0.69031123 0.17200732\n",
      " 0.2534806  0.30229011 0.         1.         0.85277814 0.93278819\n",
      " 1.         1.         0.48149039 0.48149039 0.88733986 0.76561654\n",
      " 0.         0.94628129 0.66974655 0.90392312 0.89373039 0.91050498\n",
      " 0.83646006 0.95212719 0.70472607 0.97114433 0.81996945 0.85685463\n",
      " 0.57101264 0.50852519 0.69207911 0.75422809 0.61395945 0.69076393\n",
      " 0.64243016 0.36016095 1.         1.         0.89923459 0.98248121\n",
      " 1.         0.9032992  0.9032992  0.87816353 0.91836951 0.91836951\n",
      " 0.84796338 0.95422224 0.95422224 0.78807225 0.88515073 0.76750456\n",
      " 0.94593891 0.85198348 0.85198348 0.84729497 0.83761372 0.83761372\n",
      " 0.97412608 0.97412608 1.         1.         0.93079662 1.\n",
      " 1.         1.         1.         1.         1.         0.87358791\n",
      " 0.87045737 0.87045737 0.87045737 0.87045737 0.84362266 0.90266255\n",
      " 0.90266255 0.86498563 0.86498563 0.87293564 0.87293564 0.87293564\n",
      " 0.97369366 0.97369366 1.         1.         0.92993917 0.92993917\n",
      " 0.92993917 0.86486832 0.87100503 0.87100503 0.76112969 0.88952119\n",
      " 1.         1.         0.92127894 0.9609802  0.9609802  0.94960869\n",
      " 0.94960869 0.93871965 0.73566032 0.79577747 0.91263016 0.95196307\n",
      " 0.97844364 0.97844364 0.75139579 0.94169488 0.94169488 0.54152407\n",
      " 0.744506   1.         1.         1.         0.88120468 0.8983799\n",
      " 0.3065973  0.83019739 0.82299165 0.53024309 0.51680978 0.\n",
      " 0.32984082 0.70981636 0.19605241 0.72025287 0.         0.54827178\n",
      " 0.62357447 0.95537829 0.95537829 0.95537829 0.79552126 0.85158435\n",
      " 1.         0.96056727 0.81178936 0.9029506  0.98795824 0.94186891\n",
      " 1.         0.70733377 0.79388415 0.87612928 0.87612928 1.\n",
      " 0.85609288 0.79435195 0.75004798 0.98729439 0.98729439 0.70823435\n",
      " 0.86447894]\n"
     ]
    },
    {
     "name": "stderr",
     "output_type": "stream",
     "text": [
      "/Users/vanessasalgado/Desktop/E4E-Acoustics.nosync/PyHa/PyHa/annotation_post_processing.py:213: SettingWithCopyWarning: \n",
      "A value is trying to be set on a copy of a slice from a DataFrame.\n",
      "Try using .loc[row_indexer,col_indexer] = value instead\n",
      "\n",
      "See the caveats in the documentation: https://pandas.pydata.org/pandas-docs/stable/user_guide/indexing.html#returning-a-view-versus-a-copy\n",
      "  #Init list of clips to cycle through and output dataframe\n"
     ]
    },
    {
     "name": "stdout",
     "output_type": "stream",
     "text": [
      "target 534\n",
      "confidence 534\n",
      "automated df 534\n",
      "[1. 1. 0. 1. 1. 0. 0. 1. 1. 0. 0. 1. 1. 1. 1. 1. 0. 1. 1. 1. 1. 1. 1. 1.\n",
      " 1. 1. 1. 1. 1. 1. 1. 1. 1. 1. 1. 1. 0. 1. 1. 1. 1. 1. 1. 0. 1. 1. 1. 0.\n",
      " 1. 1. 1. 1. 0. 1. 1. 1. 1. 1. 1. 1. 1. 1. 1. 1. 1. 1. 1. 1. 1. 0. 0. 1.\n",
      " 1. 1. 0. 0. 0. 1. 1. 1. 1. 1. 1. 1. 0. 0. 0. 0. 0. 0. 0. 0. 0. 0. 0. 0.\n",
      " 0. 0. 0. 0. 0. 0. 0. 0. 0. 0. 0. 0. 0. 0. 0. 0. 0. 0. 0. 0. 0. 0. 0. 0.\n",
      " 0. 0. 0. 0. 0. 0. 0. 0. 0. 0. 0. 0. 0. 0. 0. 0. 0. 0. 0. 0. 0. 0. 0. 0.\n",
      " 0. 0. 0. 0. 0. 0. 0. 0. 0. 0. 0. 0. 1. 1. 1. 1. 1. 1. 1. 1. 1. 1. 1. 1.\n",
      " 1. 1. 1. 1. 1. 1. 1. 1. 1. 1. 1. 1. 1. 1. 1. 0. 1. 1. 1. 1. 0. 1. 1. 1.\n",
      " 1. 1. 1. 0. 1. 1. 1. 0. 0. 0. 0. 0. 0. 0. 0. 0. 0. 0. 0. 0. 0. 0. 0. 1.\n",
      " 1. 0. 1. 1. 1. 1. 1. 1. 0. 1. 1. 1. 0. 1. 1. 1. 0. 0. 0. 0. 0. 0. 0. 0.\n",
      " 1. 1. 0. 0. 0. 0. 0. 0. 0. 0. 0. 0. 0. 0. 0. 0. 0. 0. 0. 1. 1. 1. 0. 1.\n",
      " 0. 1. 1. 1. 1. 1. 0. 0. 0. 0. 1. 1. 1. 1. 1. 0. 0. 0. 1. 1. 1. 1. 0. 0.\n",
      " 1. 1. 0. 0. 0. 1. 1. 0. 0. 0. 0. 0. 0. 0. 0. 1. 1. 1. 0. 1. 1. 1. 1. 1.\n",
      " 1. 0. 1. 0. 1. 0. 1. 1. 1. 1. 1. 1. 1. 0. 1. 1. 1. 1. 1. 1. 1. 1. 1. 1.\n",
      " 1. 1. 1. 0. 1. 0. 0. 0. 1. 1. 0. 1. 1. 0. 0. 0. 0. 0. 0. 0. 0. 0. 0. 0.\n",
      " 0. 0. 0. 0. 0. 0. 0. 1. 1. 1. 1. 1. 1. 1. 0. 1. 1. 1. 1. 0. 0. 1. 1. 1.\n",
      " 1. 1. 0. 1. 1. 1. 0. 0. 1. 1. 1. 0. 0. 0. 0. 0. 0. 0. 0. 0. 0. 0. 0. 0.\n",
      " 1. 1. 0. 0. 1. 1. 1. 1. 1. 1. 1. 1. 1. 1. 0. 1. 1. 1. 0. 1. 1. 1. 1. 1.\n",
      " 0. 1. 1. 1. 0. 1. 1. 0. 0. 0. 0. 0. 1. 1. 0. 0. 0. 0. 0. 1. 0. 0. 0. 0.\n",
      " 0. 0. 0. 0. 1. 1. 0. 1. 1. 0. 0. 0. 0. 0. 1. 1. 0. 0. 1. 1. 0. 0. 1. 0.\n",
      " 0. 0. 0. 0. 1. 1. 0. 0. 1. 1. 0. 0. 1. 0. 1. 1. 1. 0. 0. 0. 0. 1. 0. 0.\n",
      " 1. 1. 1. 1. 1. 1. 1. 0. 1. 1. 1. 1. 0. 0. 0. 0. 0. 0. 0. 0. 0. 0. 0. 0.\n",
      " 0. 0. 1. 1. 0. 1.]\n",
      "[0.88875315 0.76123468 0.42964213 0.86108331 0.86108331 0.19661337\n",
      " 0.50054518 0.8262912  0.89557302 0.24069805 0.19290957 1.\n",
      " 1.         1.         1.         0.76855734 0.49708375 0.95555908\n",
      " 1.         1.         0.88973869 0.54764932 0.5647337  0.5647337\n",
      " 0.5905429  0.64896514 0.74668619 0.74668619 0.68529951 0.90484909\n",
      " 0.90484909 0.74276678 0.43183163 0.85051132 0.85051132 0.59353708\n",
      " 0.11073301 0.50176814 0.56903705 0.56903705 1.         1.\n",
      " 1.         0.51554324 0.8493159  0.8493159  0.8493159  0.\n",
      " 1.         1.         0.89615809 0.89615809 0.89615809 0.93400903\n",
      " 0.93400903 0.92521042 0.92521042 0.         0.5837912  0.5837912\n",
      " 1.         1.         0.18798387 0.96843688 0.96843688 0.57153267\n",
      " 0.57153267 0.88260434 0.88260434 0.5680164  0.         0.49119548\n",
      " 0.86897252 0.86897252 0.2668819  0.29709685 0.3645708  0.99775675\n",
      " 0.99775675 0.83896723 0.83896723 0.46087729 1.         1.\n",
      " 0.76630094 0.76630094 0.84729028 0.84729028 0.84265985 0.84265985\n",
      " 0.67710319 0.81845654 0.58790636 0.7453173  0.7453173  0.91054054\n",
      " 0.91054054 0.75313053 0.75313053 0.71481114 0.71481114 0.7861669\n",
      " 0.7861669  0.2846869  0.34066198 0.35498607 0.72724607 0.72724607\n",
      " 0.87328369 0.87328369 0.83834836 0.83834836 0.1234455  0.5221847\n",
      " 0.93025702 0.50452413 0.80442389 0.34967849 0.46407901 0.26691782\n",
      " 0.3159264  0.44834929 0.69709007 0.69709007 0.55799032 0.55799032\n",
      " 0.         0.660508   0.67039722 0.         0.         0.84163588\n",
      " 0.84163588 0.70343069 0.78488748 0.78550056 0.43531191 0.94177871\n",
      " 0.94177871 0.57017882 0.49507554 0.33938269 0.2397655  0.83225218\n",
      " 0.83225218 0.78041059 0.81875241 0.81875241 0.79355808 0.29602837\n",
      " 0.59880692 0.59254803 0.67265395 0.55881579 0.61203474 0.30548973\n",
      " 0.89321468 0.89321468 0.55523806 0.87814804 0.87814804 1.\n",
      " 1.         1.         1.         0.88707499 0.88707499 0.68566419\n",
      " 0.56738397 0.60109779 0.59662867 0.99743906 0.99743906 0.99743906\n",
      " 0.99743906 0.         0.45659514 0.99365734 0.99365734 0.99365734\n",
      " 0.99365734 0.99365734 0.99365734 0.         0.26696333 0.99722149\n",
      " 0.99722149 0.99722149 0.         1.         1.         1.\n",
      " 1.         0.93092363 1.         0.         0.50449065 0.95771936\n",
      " 0.95771936 0.99257051 0.99257051 0.88065856 0.88065856 0.88065856\n",
      " 0.91726307 0.91726307 0.59877305 0.95156513 0.95156513 1.\n",
      " 1.         0.         0.99336542 0.99336542 1.         1.\n",
      " 1.         0.59055637 0.89792426 0.89792426 0.27917164 1.\n",
      " 1.         0.75712502 0.         0.         0.82981225 0.82873031\n",
      " 0.         0.         0.99683989 0.7088527  0.         0.\n",
      " 0.         0.         0.         0.         0.         0.\n",
      " 0.9156893  0.9156893  0.         0.62209601 0.61403175 0.80149944\n",
      " 0.79264361 0.75584699 0.68719488 0.80419751 0.70615869 0.76204608\n",
      " 0.83103445 0.85804238 0.66308762 0.74608568 0.87944593 0.78351283\n",
      " 1.         1.         0.73723481 0.74023527 0.         0.5841654\n",
      " 0.         0.29924541 1.         1.         1.         1.\n",
      " 0.         0.         0.37652531 0.23445161 0.95570362 0.95570362\n",
      " 0.95570362 0.88300712 0.88300712 0.54244066 0.82364178 0.82364178\n",
      " 0.95566389 0.95566389 0.91886094 0.91886094 0.74555493 0.56269899\n",
      " 1.         1.         0.         0.         0.         0.44870292\n",
      " 1.         0.         0.21690201 0.23458486 0.         0.\n",
      " 0.         0.6952553  0.65172906 1.         0.82652529 0.80994063\n",
      " 0.47414345 0.         0.56981658 0.99864462 0.99864462 0.51082633\n",
      " 0.18616947 0.         0.68294015 0.6354687  0.6354687  0.27095386\n",
      " 0.84270007 0.73668302 0.95336574 1.         1.         1.\n",
      " 0.         0.         0.         0.         0.15813995 0.75668537\n",
      " 0.6753719  0.68632801 0.89142387 0.89142387 0.71715133 1.\n",
      " 0.60653309 0.         0.70316514 0.97858112 0.97858112 0.97858112\n",
      " 0.97858112 0.59197282 0.84282897 0.84282897 0.56793291 0.8725052\n",
      " 0.8725052  0.54419499 0.         0.44711675 0.84594077 1.\n",
      " 1.         0.56226556 0.55157009 0.74499284 0.74499284 0.77657051\n",
      " 0.7958706  0.85994851 0.85994851 0.93870293 0.93870293 0.\n",
      " 0.         0.98158864 0.98158864 0.98158864 1.         0.98877418\n",
      " 0.77657645 0.72413546 0.         0.28364217 0.77653034 0.80691736\n",
      " 0.80691736 0.         0.17598191 0.90529665 0.90529665 0.75728238\n",
      " 0.83120764 0.83120764 1.         1.         0.81755787 1.\n",
      " 0.         0.29030497 0.8987717  1.         1.         0.94509549\n",
      " 0.94509549 0.         0.93116298 0.93116298 0.93116298 0.84327818\n",
      " 0.84327818 0.35637141 0.61692622 0.61692622 0.36239254 0.\n",
      " 1.         1.         0.         0.         0.92955943 0.94054091\n",
      " 1.         0.98808337 1.         1.         1.         0.99868069\n",
      " 0.99868069 0.77949745 0.4458133  0.64318929 0.8535093  0.8535093\n",
      " 0.56698101 0.66664121 0.66664121 0.80212376 0.80212376 0.80212376\n",
      " 0.57433182 0.81408447 0.         0.86575484 0.         0.89365784\n",
      " 0.         0.         0.         0.         0.         0.\n",
      " 0.72241101 0.499643   0.38934286 0.         0.4203108  0.63219503\n",
      " 0.         0.2999603  0.         0.22603986 1.         0.\n",
      " 0.         0.27949762 0.         0.         0.98606555 0.98606555\n",
      " 0.         1.         1.         0.         0.86789637 0.86789637\n",
      " 0.93072749 0.93072749 1.         0.52523738 0.54904963 0.45900595\n",
      " 0.95163141 0.95163141 0.85277832 0.74003721 0.74003721 0.4849503\n",
      " 0.45171861 0.49632644 0.55802301 0.44951249 1.         1.\n",
      " 0.38561591 0.         0.82283003 0.82283003 0.         0.48472756\n",
      " 0.81252084 0.         0.92957942 0.92957942 0.72262735 0.92233927\n",
      " 0.92233927 0.         1.         1.         0.         0.\n",
      " 0.         0.         0.89344883 0.89344883 0.64026668 0.40516786\n",
      " 0.66744202 0.69573686 1.         1.         1.         0.\n",
      " 0.38878181 0.27429005 0.62110416 0.38796389 0.47696636 0.48785656\n",
      " 0.48785656 0.3594021  0.3594021  0.2417769  0.16143524 0.29385303\n",
      " 0.31034673 0.30568923 0.9147604  0.92670047 1.         1.        ]\n"
     ]
    },
    {
     "name": "stderr",
     "output_type": "stream",
     "text": [
      "/Users/vanessasalgado/Desktop/E4E-Acoustics.nosync/PyHa/PyHa/annotation_post_processing.py:213: SettingWithCopyWarning: \n",
      "A value is trying to be set on a copy of a slice from a DataFrame.\n",
      "Try using .loc[row_indexer,col_indexer] = value instead\n",
      "\n",
      "See the caveats in the documentation: https://pandas.pydata.org/pandas-docs/stable/user_guide/indexing.html#returning-a-view-versus-a-copy\n",
      "  #Init list of clips to cycle through and output dataframe\n"
     ]
    },
    {
     "name": "stdout",
     "output_type": "stream",
     "text": [
      "target 345\n",
      "confidence 344\n",
      "automated df 344\n",
      "[1. 1. 1. 1. 1. 1. 1. 1. 1. 1. 1. 1. 1. 0. 1. 1. 1. 0. 1. 1. 1. 1. 1. 1.\n",
      " 0. 0. 0. 0. 0. 0. 1. 1. 1. 1. 1. 1. 1. 1. 1. 0. 1. 1. 0. 0. 1. 0. 0. 1.\n",
      " 1. 1. 1. 1. 1. 1. 1. 1. 1. 0. 1. 1. 1. 1. 1. 0. 1. 1. 1. 1. 1. 0. 0. 1.\n",
      " 1. 1. 1. 1. 1. 1. 1. 1. 1. 1. 1. 1. 1. 1. 1. 1. 0. 0. 0. 1. 0. 0. 0. 0.\n",
      " 0. 0. 1. 1. 1. 1. 1. 0. 0. 0. 1. 1. 0. 1. 1. 1. 1. 0. 1. 0. 1. 1. 0. 0.\n",
      " 0. 0. 0. 1. 1. 0. 0. 0. 1. 1. 0. 0. 1. 0. 0. 1. 1. 0. 0. 1. 0. 0. 0. 1.\n",
      " 1. 0. 1. 1. 0. 1. 1. 1. 0. 1. 1. 1. 0. 1. 0. 1. 1. 0. 1. 1. 0. 0. 0. 0.\n",
      " 0. 1. 0. 1. 1. 1. 1. 1. 1. 0. 1. 1. 1. 1. 1. 1. 1. 1. 1. 1. 1. 0. 1. 0.\n",
      " 0. 0. 0. 0. 1. 1. 0. 0. 1. 1. 0. 0. 1. 1. 1. 0. 0. 1. 1. 1. 1. 1. 1. 0.\n",
      " 0. 0. 1. 1. 0. 0. 0. 0. 1. 1. 1. 1. 1. 1. 1. 1. 1. 0. 1. 0. 1. 1. 1. 1.\n",
      " 0. 1. 1. 1. 1. 0. 0. 1. 1. 0. 0. 0. 0. 1. 1. 0. 0. 0. 0. 1. 1. 1. 0. 0.\n",
      " 0. 0. 0. 0. 1. 1. 1. 1. 0. 1. 0. 1. 1. 1. 1. 1. 0. 1. 1. 1. 1. 1. 1. 1.\n",
      " 0. 0. 1. 1. 1. 1. 1. 1. 1. 1. 1. 1. 1. 1. 1. 1. 1. 1. 1. 0. 0. 1. 1. 1.\n",
      " 1. 0. 1. 1. 1. 1. 1. 1. 1. 1. 1. 1. 1. 1. 1. 1. 1. 1. 1. 1. 1. 1. 1. 1.\n",
      " 1. 1. 1. 1. 1. 1. 1. 1. 1.]\n",
      "[1.         1.         0.70658088 0.63842994 0.7606839  0.\n",
      " 0.91053036 0.7780526  0.68559216 0.6791226  0.79971888 0.74610003\n",
      " 0.70535289 0.         0.66273102 1.         0.73656616 0.25770699\n",
      " 0.65915987 0.32375071 0.33290022 0.40611367 0.39023795 0.43523555\n",
      " 0.67032499 0.         1.         0.62325362 0.34247569 0.\n",
      " 0.55485676 0.69777498 0.6553984  0.39771066 0.56850027 0.75193373\n",
      " 0.65029706 0.93782927 0.93782927 0.7580239  0.7580239  0.99942862\n",
      " 0.99942862 0.99942862 1.         1.         1.         0.65361186\n",
      " 0.91812877 1.         0.38078508 0.67585252 0.84079834 0.67455834\n",
      " 0.98749967 0.84626912 0.84626912 0.80746567 0.80746567 0.93555265\n",
      " 1.         0.4571964  0.38567755 0.61115639 0.74675846 0.9518033\n",
      " 0.9518033  0.82944941 0.         0.         0.54660437 0.93913756\n",
      " 0.80536355 0.93280279 0.53390392 1.         0.873562   0.8658335\n",
      " 0.85971162 0.82611985 0.86912749 0.86912749 0.79793609 0.75455461\n",
      " 0.6150126  0.40920986 0.29130706 0.94890744 0.94890744 0.\n",
      " 0.64335015 0.54323203 0.54323203 0.25313985 0.         0.3416142\n",
      " 0.         0.55148086 0.76844902 0.20848376 0.         0.\n",
      " 0.         0.35600264 0.         0.25046398 0.37256714 0.\n",
      " 0.88715321 0.88715321 0.         0.24099019 0.         0.86999832\n",
      " 0.47786112 0.94809662 0.94809662 0.         0.98357095 0.\n",
      " 0.87530902 0.95198745 1.         0.         0.         0.58333007\n",
      " 0.98977623 0.793928   0.90141738 0.         0.         0.\n",
      " 0.         0.         0.         0.         0.         0.\n",
      " 0.66285364 0.         0.         0.         1.         0.97533375\n",
      " 0.66235568 0.66235568 0.53853503 0.         0.78238446 0.6014401\n",
      " 0.58986264 0.         0.58058493 0.98064431 0.72118108 0.7046517\n",
      " 0.35406965 0.1574419  0.83020608 1.         0.76905448 0.77463462\n",
      " 0.75612524 0.         0.73519224 0.         0.         0.\n",
      " 0.65203831 0.         0.69461615 0.47088481 0.7097527  1.\n",
      " 0.78053797 0.92804672 0.92804672 1.         1.         0.86160493\n",
      " 0.86470634 0.77154671 0.88712414 0.94772233 0.         0.94077617\n",
      " 0.92394988 1.         0.         0.45880892 0.         0.\n",
      " 1.         1.         1.         0.83342629 0.83342629 0.81122868\n",
      " 0.71170027 0.53255846 0.53255846 0.46716612 0.55494314 0.55494314\n",
      " 0.8984113  0.92407486 0.92407486 0.79403375 0.60184712 0.26528854\n",
      " 1.         0.90379821 0.78579065 1.         0.         0.48902495\n",
      " 0.30317491 0.98835614 0.98835614 0.         0.         0.32038798\n",
      " 0.         0.86352362 0.86352362 0.71184833 1.         0.72472194\n",
      " 0.32999116 0.31026717 0.48195668 0.92327053 0.         0.70769472\n",
      " 0.         0.35858164 0.35858164 0.20738101 0.05225204 0.\n",
      " 0.73890107 0.69537377 1.         0.41007951 0.         0.\n",
      " 1.         0.78535895 0.         0.         0.         0.\n",
      " 0.         0.         0.         0.         0.         0.\n",
      " 0.89068251 0.89790975 0.82333581 0.15446004 0.92508093 0.92508093\n",
      " 0.         0.         0.         1.         1.         0.09088197\n",
      " 0.54300323 0.         0.25422567 0.         1.         1.\n",
      " 0.8140101  0.98419021 0.92517165 0.         0.56533167 0.45277326\n",
      " 0.45277326 0.43644162 0.43644162 0.26649519 0.33297794 0.38479771\n",
      " 0.77314639 0.77314639 0.53196846 0.93678459 0.93678459 0.90287488\n",
      " 1.         1.         0.8569729  0.84550184 0.84550184 0.94130383\n",
      " 0.94130383 0.         0.72616237 0.82623379 0.58818712 1.\n",
      " 0.         0.         0.40264271 0.90778972 0.74257933 1.\n",
      " 0.         0.39087682 0.51040129 0.55142945 0.72835815 0.76949393\n",
      " 0.76949393 0.51439216 0.38203704 0.34255175 0.61221228 0.94365762\n",
      " 0.86435729 1.         0.95770654 0.99335599 0.78485406 0.78485406\n",
      " 0.45612086 0.936821   0.71720719 0.92481103 0.90215897 0.80144688\n",
      " 0.80144688 0.90372925 0.51424066 0.74433449 0.69854302 0.37679563\n",
      " 0.40486813 0.28772039]\n"
     ]
    },
    {
     "name": "stderr",
     "output_type": "stream",
     "text": [
      "/Users/vanessasalgado/Desktop/E4E-Acoustics.nosync/PyHa/PyHa/annotation_post_processing.py:213: SettingWithCopyWarning: \n",
      "A value is trying to be set on a copy of a slice from a DataFrame.\n",
      "Try using .loc[row_indexer,col_indexer] = value instead\n",
      "\n",
      "See the caveats in the documentation: https://pandas.pydata.org/pandas-docs/stable/user_guide/indexing.html#returning-a-view-versus-a-copy\n",
      "  #Init list of clips to cycle through and output dataframe\n"
     ]
    },
    {
     "name": "stdout",
     "output_type": "stream",
     "text": [
      "target 617\n",
      "confidence 617\n",
      "automated df 617\n",
      "[1. 1. 1. 1. 1. 1. 1. 1. 1. 1. 1. 1. 1. 1. 1. 1. 1. 1. 0. 0. 0. 1. 1. 1.\n",
      " 0. 0. 0. 1. 1. 1. 0. 0. 1. 1. 1. 1. 1. 1. 1. 1. 1. 1. 1. 0. 1. 1. 1. 1.\n",
      " 1. 1. 1. 0. 1. 1. 0. 1. 1. 1. 1. 1. 0. 1. 1. 1. 1. 1. 1. 1. 1. 1. 1. 1.\n",
      " 0. 0. 1. 1. 1. 0. 0. 0. 1. 1. 1. 1. 1. 1. 1. 1. 1. 1. 1. 0. 1. 1. 0. 0.\n",
      " 0. 1. 1. 1. 1. 1. 1. 1. 1. 1. 1. 1. 1. 1. 1. 1. 1. 1. 1. 0. 1. 1. 1. 1.\n",
      " 0. 0. 1. 1. 1. 1. 1. 1. 1. 1. 0. 0. 1. 1. 1. 1. 0. 1. 1. 1. 1. 1. 0. 1.\n",
      " 1. 1. 1. 0. 0. 0. 0. 0. 0. 1. 1. 1. 1. 0. 1. 1. 1. 1. 1. 1. 1. 1. 1. 1.\n",
      " 1. 0. 0. 1. 1. 1. 1. 0. 0. 1. 1. 1. 1. 1. 0. 1. 1. 1. 1. 1. 1. 1. 1. 1.\n",
      " 1. 1. 0. 0. 0. 1. 1. 1. 0. 1. 0. 0. 1. 1. 1. 0. 1. 1. 1. 0. 0. 1. 1. 1.\n",
      " 0. 1. 1. 1. 0. 1. 1. 1. 0. 1. 1. 1. 1. 1. 1. 1. 1. 1. 1. 0. 0. 1. 1. 1.\n",
      " 1. 0. 1. 1. 1. 1. 1. 1. 1. 1. 1. 0. 0. 0. 1. 1. 1. 0. 1. 1. 1. 0. 0. 1.\n",
      " 1. 1. 0. 0. 1. 1. 0. 0. 1. 1. 1. 0. 0. 1. 1. 1. 0. 1. 1. 1. 0. 0. 1. 1.\n",
      " 1. 0. 1. 1. 1. 0. 1. 1. 1. 0. 0. 0. 1. 1. 1. 0. 1. 1. 1. 1. 0. 0. 1. 1.\n",
      " 1. 0. 1. 1. 0. 1. 1. 1. 0. 0. 1. 0. 1. 1. 1. 0. 1. 1. 1. 0. 0. 1. 1. 1.\n",
      " 1. 0. 0. 1. 1. 0. 1. 1. 0. 0. 0. 1. 1. 1. 1. 0. 0. 0. 0. 0. 0. 0. 1. 1.\n",
      " 1. 0. 0. 1. 1. 1. 1. 1. 0. 0. 0. 0. 0. 0. 1. 1. 0. 0. 0. 1. 1. 1. 0. 0.\n",
      " 1. 1. 1. 1. 1. 1. 0. 1. 1. 1. 1. 1. 0. 0. 1. 1. 1. 0. 1. 1. 1. 1. 1. 1.\n",
      " 1. 1. 1. 1. 1. 1. 0. 0. 0. 0. 0. 0. 0. 0. 0. 0. 0. 1. 0. 0. 1. 1. 1. 0.\n",
      " 0. 0. 0. 0. 0. 0. 0. 0. 0. 0. 0. 0. 1. 1. 1. 1. 1. 1. 1. 1. 1. 1. 1. 1.\n",
      " 1. 1. 1. 1. 1. 1. 1. 1. 0. 1. 1. 1. 1. 1. 1. 1. 1. 0. 0. 0. 0. 0. 0. 0.\n",
      " 0. 0. 0. 0. 0. 0. 0. 0. 0. 0. 0. 1. 1. 0. 1. 1. 1. 0. 0. 0. 0. 0. 0. 0.\n",
      " 0. 0. 0. 0. 0. 0. 0. 0. 0. 0. 0. 0. 0. 0. 0. 0. 0. 0. 0. 0. 0. 0. 0. 0.\n",
      " 0. 0. 0. 0. 0. 0. 0. 0. 0. 0. 0. 0. 0. 0. 0. 0. 0. 0. 0. 0. 0. 0. 0. 0.\n",
      " 0. 0. 0. 0. 0. 0. 0. 1. 1. 0. 0. 0. 0. 0. 0. 0. 0. 0. 0. 0. 0. 0. 0. 0.\n",
      " 0. 0. 0. 0. 0. 0. 0. 0. 0. 0. 1. 1. 0. 1. 1. 1. 1. 0. 0. 1. 0. 1. 1. 1.\n",
      " 0. 0. 0. 0. 1. 1. 0. 1. 1. 1. 1. 1. 1. 1. 1. 1. 1.]\n",
      "[0.95022639 0.70435091 0.76109296 0.         0.91018576 0.\n",
      " 1.         1.         0.         0.72893915 0.72905664 0.65696924\n",
      " 0.72157164 0.80578995 0.99408684 0.99408684 1.         1.\n",
      " 0.         0.42054278 0.         0.26741376 0.86418185 0.79927277\n",
      " 0.         0.         0.         0.         0.50195981 0.31344392\n",
      " 0.         0.         0.95081525 0.9817807  0.9817807  0.8700049\n",
      " 0.52419454 0.96640921 0.96640921 0.95656687 0.95656687 0.91633112\n",
      " 0.91633112 0.91633112 1.         1.         0.69933693 0.89228352\n",
      " 0.89228352 0.87647499 0.87647499 0.         0.81318066 0.81318066\n",
      " 0.         0.74436159 0.74436159 0.74436159 0.60016493 0.60016493\n",
      " 0.80133676 1.         0.90353236 0.56037486 0.95419463 0.95419463\n",
      " 0.95419463 0.89447748 0.96166209 0.96166209 0.49310102 0.50383786\n",
      " 0.         0.         0.62397076 0.         0.         0.\n",
      " 0.         0.         0.         1.         0.6521585  0.\n",
      " 0.         0.72320184 1.         0.84528873 0.88359633 0.88359633\n",
      " 0.86371153 0.74724851 0.86386575 0.86386575 0.79467552 0.83423461\n",
      " 0.83423461 0.92560116 0.92560116 0.92560116 0.81982597 0.81982597\n",
      " 0.71787084 1.         1.         1.         1.         1.\n",
      " 1.         1.         1.         1.         1.         0.81937999\n",
      " 0.81937999 0.8761327  0.8761327  0.         0.92430774 0.92430774\n",
      " 0.69636603 0.43124385 0.         0.86931302 0.56577573 0.91029377\n",
      " 0.91029377 0.91029377 0.95190446 0.95190446 0.17498439 0.27015256\n",
      " 0.93142622 0.93142622 1.         1.         0.28211346 0.92268095\n",
      " 0.92268095 0.99048784 0.99048784 0.99048784 0.         0.98791568\n",
      " 0.82173984 0.84694875 0.         0.71435887 0.45652244 0.\n",
      " 0.52141681 0.52260614 0.52260614 0.70274784 0.45163552 0.78187185\n",
      " 0.81094534 0.         0.70052131 0.99762815 0.88386078 0.87566392\n",
      " 1.         1.         0.58894843 0.79455445 0.79455445 0.69903615\n",
      " 0.         0.         0.         0.62947614 1.         1.\n",
      " 0.9197498  0.         0.         0.9998831  0.9998831  0.69188622\n",
      " 0.81131244 0.81131244 0.32579563 0.33514372 1.         1.\n",
      " 1.         0.         0.78437557 0.91275196 0.91275196 1.\n",
      " 1.         0.93166096 0.         0.         0.         0.76431659\n",
      " 0.76431659 0.         0.88760448 0.         0.         0.17400508\n",
      " 0.20656913 0.51526291 0.79685196 0.         0.         0.\n",
      " 0.         0.         0.         0.61916786 0.8575074  0.81495421\n",
      " 0.         0.25284069 0.9658033  0.9658033  0.         0.78630861\n",
      " 0.78630861 0.62676948 0.         0.         0.20211734 0.20211734\n",
      " 0.46060438 1.         1.         0.7917896  0.89455714 0.89455714\n",
      " 0.         0.         0.55625365 0.46435201 1.         1.\n",
      " 1.         0.         0.         0.49985514 0.47791064 0.\n",
      " 0.62104821 0.93018773 0.         0.71721386 0.71721386 0.\n",
      " 0.         0.         0.63726143 0.7743792  0.71296115 0.\n",
      " 0.         0.8973537  0.92150415 0.         0.         0.\n",
      " 1.         1.         0.         0.         0.87904489 0.74516942\n",
      " 0.42627432 0.         0.         0.         0.         0.\n",
      " 0.         0.         0.49423493 0.         0.         0.36047747\n",
      " 0.36904223 0.75510261 0.         0.57930296 0.68736518 0.74363599\n",
      " 0.675967   0.         0.52928476 0.90414146 0.71023456 0.\n",
      " 0.         0.71462907 0.71462907 0.         0.         0.\n",
      " 0.79998401 0.65404944 0.6282946  0.         0.         0.89622464\n",
      " 0.89622464 0.         0.         0.         0.88532875 0.88532875\n",
      " 0.84389486 0.         0.42397681 0.68366958 0.         0.9322804\n",
      " 0.9322804  0.9322804  0.         0.         0.89126677 0.\n",
      " 0.9570802  0.75805315 0.65852295 0.         0.42063981 0.86264484\n",
      " 0.56134474 0.         0.         0.         0.53298897 0.68509988\n",
      " 0.59564732 0.         0.         0.69226465 0.82097636 0.\n",
      " 0.86042825 0.86042825 0.45920508 1.         1.         0.\n",
      " 0.         0.85004319 0.58503144 0.         0.         0.\n",
      " 0.         0.         0.37466703 0.         0.8181319  0.8181319\n",
      " 0.         0.         0.         0.         0.68305589 0.7319163\n",
      " 0.7319163  0.         0.         0.         0.         0.\n",
      " 0.         0.         0.         0.69988121 0.52059991 1.\n",
      " 1.         0.98845869 0.98845869 0.98845869 0.         0.43297753\n",
      " 0.8200085  0.8200085  0.64455036 0.76731769 0.76731769 0.66423462\n",
      " 1.         1.         0.         0.66586954 0.73084514 0.73084514\n",
      " 0.         0.91737081 0.91737081 0.9339755  0.9339755  0.76414269\n",
      " 0.62397549 0.62397549 0.53699599 0.         0.40423306 0.\n",
      " 0.60348659 0.50822449 0.4779432  0.45770489 0.65722543 0.85162597\n",
      " 0.85162597 0.85162597 0.85162597 0.85162597 0.83818221 0.81684025\n",
      " 0.98239993 0.98239993 0.98239993 0.98239993 0.98239993 1.\n",
      " 1.         1.         0.97090042 0.97090042 0.97090042 0.97090042\n",
      " 0.74159665 0.7652907  0.7652907  0.67416338 0.67416338 0.76571048\n",
      " 0.         0.45149685 0.66922438 0.97280117 0.97280117 0.\n",
      " 0.99720491 0.99720491 0.99720491 0.99720491 1.         1.\n",
      " 1.         0.         0.64829504 1.         1.         1.\n",
      " 0.60154    0.82162762 0.82162762 0.41119834 0.7342937  0.77201954\n",
      " 0.87706932 0.87706932 0.61377532 0.22919072 0.31423008 0.35906673\n",
      " 0.19922339 0.4670109  0.42101094 0.82443037 0.82443037 0.91159355\n",
      " 0.91159355 0.85988586 0.85988586 0.85988586 0.85988586 0.55835548\n",
      " 0.82086222 0.82086222 0.82086222 0.85687399 0.85687399 0.85687399\n",
      " 0.85687399 1.         1.         1.         1.         1.\n",
      " 0.68059556 0.73219627 0.63790585 0.63790585 0.43916647 0.39641008\n",
      " 0.         0.         0.58160168 0.         0.         0.\n",
      " 0.         0.         0.         0.         0.         0.31217279\n",
      " 0.         0.         0.         0.         0.         0.\n",
      " 0.         0.17031516 0.         0.         0.         0.\n",
      " 0.23191354 0.5203377  0.5203377  0.         0.         0.\n",
      " 0.         0.         0.         0.97908838 0.97908838 0.97908838\n",
      " 0.         0.         0.         0.         0.30771031 0.\n",
      " 0.89120467 0.89120467 0.89120467 0.         0.21631568 0.53060259\n",
      " 0.34700443 0.61778166 0.61778166 0.         0.         0.\n",
      " 0.65051683 0.65051683 0.         1.         0.         0.96637323\n",
      " 0.95469943 0.95469943 0.95469943 0.95469943 0.58636144 0.61137721\n",
      " 0.         0.62327342 0.51393711 0.8862635  0.8862635  0.93020604\n",
      " 0.93020604 0.93020604 0.93020604 0.         0.89397396 0.89397396\n",
      " 1.         1.         1.         1.         0.39588206 0.62598607\n",
      " 0.62598607 0.93646474 0.93646474 0.93646474 0.90372685 1.\n",
      " 0.95499361 0.88943884 0.88943884 0.88943884 0.88943884 0.9131689\n",
      " 0.9131689  0.91039107 0.86360079 0.86360079 0.9123912  0.9123912\n",
      " 1.         1.         0.94046975 0.88485506 0.91133527 0.95930971\n",
      " 0.95930971 0.         0.95400807 0.95400807 0.89991062 1.\n",
      " 0.9229324  0.85749333 0.62279624 0.97989972 0.97989972]\n"
     ]
    },
    {
     "name": "stderr",
     "output_type": "stream",
     "text": [
      "/Users/vanessasalgado/Desktop/E4E-Acoustics.nosync/PyHa/PyHa/annotation_post_processing.py:213: SettingWithCopyWarning: \n",
      "A value is trying to be set on a copy of a slice from a DataFrame.\n",
      "Try using .loc[row_indexer,col_indexer] = value instead\n",
      "\n",
      "See the caveats in the documentation: https://pandas.pydata.org/pandas-docs/stable/user_guide/indexing.html#returning-a-view-versus-a-copy\n",
      "  #Init list of clips to cycle through and output dataframe\n"
     ]
    },
    {
     "name": "stdout",
     "output_type": "stream",
     "text": [
      "target 663\n",
      "confidence 663\n",
      "automated df 663\n",
      "[1. 1. 1. 1. 1. 1. 1. 1. 1. 1. 1. 1. 1. 1. 1. 1. 1. 1. 0. 1. 1. 1. 1. 1.\n",
      " 1. 1. 1. 0. 1. 1. 1. 1. 1. 1. 1. 1. 1. 1. 1. 1. 1. 1. 1. 1. 1. 0. 0. 0.\n",
      " 0. 0. 0. 1. 1. 1. 1. 1. 0. 1. 0. 1. 1. 1. 1. 1. 1. 1. 1. 1. 0. 1. 1. 1.\n",
      " 1. 1. 0. 0. 0. 1. 1. 0. 0. 1. 1. 0. 1. 1. 0. 0. 0. 1. 0. 1. 1. 0. 1. 1.\n",
      " 1. 1. 0. 1. 1. 1. 1. 1. 1. 1. 1. 1. 1. 1. 1. 1. 1. 1. 1. 1. 1. 1. 1. 1.\n",
      " 1. 0. 1. 1. 1. 1. 1. 1. 1. 1. 1. 0. 0. 1. 1. 1. 1. 1. 0. 1. 1. 1. 1. 1.\n",
      " 1. 1. 1. 1. 1. 0. 0. 0. 1. 1. 1. 1. 1. 1. 1. 1. 1. 1. 1. 1. 1. 1. 0. 0.\n",
      " 1. 1. 1. 1. 1. 1. 1. 1. 1. 1. 1. 1. 1. 1. 1. 1. 0. 1. 1. 1. 1. 1. 1. 1.\n",
      " 1. 1. 1. 1. 1. 1. 1. 0. 1. 1. 1. 1. 1. 1. 1. 0. 1. 1. 1. 1. 0. 1. 0. 1.\n",
      " 1. 1. 1. 1. 0. 0. 0. 1. 0. 1. 1. 1. 1. 1. 1. 1. 1. 1. 0. 0. 0. 1. 1. 1.\n",
      " 1. 1. 1. 1. 1. 1. 1. 1. 1. 1. 1. 0. 1. 1. 1. 1. 1. 1. 1. 1. 0. 0. 0. 0.\n",
      " 0. 1. 1. 1. 1. 0. 1. 0. 1. 0. 1. 1. 1. 0. 1. 0. 0. 1. 1. 0. 1. 1. 1. 0.\n",
      " 1. 0. 1. 1. 1. 1. 1. 1. 1. 1. 1. 1. 1. 1. 1. 1. 1. 1. 1. 1. 1. 1. 0. 1.\n",
      " 0. 1. 1. 1. 1. 1. 1. 0. 0. 1. 1. 1. 1. 1. 1. 1. 1. 1. 1. 1. 0. 1. 1. 1.\n",
      " 1. 1. 1. 0. 0. 0. 0. 1. 1. 1. 1. 1. 1. 1. 1. 1. 1. 1. 1. 1. 1. 1. 1. 0.\n",
      " 0. 1. 1. 1. 1. 1. 1. 1. 1. 1. 0. 0. 1. 1. 1. 1. 1. 1. 1. 1. 1. 1. 1. 1.\n",
      " 1. 1. 1. 1. 1. 1. 1. 1. 1. 1. 1. 0. 1. 1. 1. 1. 1. 1. 1. 1. 1. 1. 1. 1.\n",
      " 1. 1. 1. 1. 1. 1. 1. 1. 1. 1. 0. 1. 1. 1. 1. 0. 1. 1. 1. 1. 1. 1. 0. 1.\n",
      " 1. 1. 1. 1. 0. 0. 0. 0. 1. 1. 1. 0. 1. 1. 1. 1. 1. 1. 1. 1. 1. 1. 1. 1.\n",
      " 1. 1. 1. 1. 1. 1. 1. 1. 1. 1. 1. 1. 1. 1. 1. 1. 1. 1. 1. 1. 1. 1. 1. 1.\n",
      " 1. 1. 1. 1. 0. 1. 1. 1. 1. 1. 1. 1. 1. 1. 1. 1. 1. 1. 1. 1. 1. 1. 1. 1.\n",
      " 1. 1. 1. 1. 1. 1. 1. 1. 1. 1. 1. 1. 1. 1. 1. 1. 1. 1. 1. 1. 1. 1. 1. 1.\n",
      " 1. 1. 0. 1. 0. 0. 1. 0. 1. 0. 1. 0. 1. 1. 0. 1. 0. 1. 1. 1. 1. 1. 1. 1.\n",
      " 1. 1. 1. 1. 1. 1. 1. 1. 1. 1. 1. 1. 1. 1. 1. 1. 1. 1. 1. 1. 0. 1. 1. 1.\n",
      " 1. 1. 1. 1. 1. 1. 1. 1. 1. 1. 1. 1. 0. 1. 1. 1. 1. 1. 1. 1. 1. 1. 1. 1.\n",
      " 1. 1. 1. 1. 1. 0. 0. 0. 0. 0. 0. 0. 0. 0. 0. 1. 1. 1. 1. 1. 1. 1. 1. 1.\n",
      " 1. 1. 1. 1. 1. 1. 1. 1. 1. 1. 1. 1. 1. 1. 1. 1. 1. 1. 1. 1. 1. 1. 1. 1.\n",
      " 1. 1. 1. 1. 1. 1. 1. 1. 1. 1. 1. 1. 1. 1. 1.]\n",
      "[0.73653673 0.90810317 0.88652052 0.90202467 0.90202467 0.80487255\n",
      " 0.91842252 0.8215617  0.77441261 0.74372947 0.85924878 0.85924878\n",
      " 0.86692502 0.86692502 0.72116449 0.89022323 0.89022323 0.86633795\n",
      " 1.         1.         0.91665334 0.91665334 0.93322964 0.93322964\n",
      " 0.93322964 0.85496731 0.82556974 0.26173764 0.83934577 0.83934577\n",
      " 0.87983944 0.81962599 0.81962599 0.58551595 0.74325307 0.74325307\n",
      " 0.58536329 0.69299719 0.69299719 0.6257957  0.86612347 0.86612347\n",
      " 0.87862217 0.87862217 0.99738047 1.         1.         0.\n",
      " 0.         0.         0.39450773 0.86958764 0.86958764 0.90622678\n",
      " 0.90622678 0.8891325  0.42209881 0.79074765 0.1795662  0.95460383\n",
      " 0.73661095 0.73661095 0.4497666  1.         1.         0.8762027\n",
      " 0.         0.83635842 0.         0.         0.         0.37097088\n",
      " 0.79378151 0.9602059  0.9602059  0.9602059  0.82713735 0.87219501\n",
      " 0.84821483 1.         0.84455922 0.83825016 0.84647997 0.78825942\n",
      " 0.98439371 0.98439371 0.9147773  0.46105252 0.7383971  0.89432673\n",
      " 0.82581389 1.         1.         0.38941321 0.90255286 0.90255286\n",
      " 0.87874146 0.87874146 0.87958295 0.87958295 0.87958295 0.70586392\n",
      " 0.91917747 1.         1.         0.87403011 0.95267574 0.54836485\n",
      " 0.84301663 0.84661372 0.91917391 0.91917391 0.8258618  0.66687526\n",
      " 0.71681632 0.79306503 0.79306503 0.3825986  0.82882118 0.66208121\n",
      " 0.65575945 0.         0.         0.59101051 0.61828586 0.69244162\n",
      " 0.9381316  0.9381316  0.67532211 0.70961065 0.70961065 0.95189083\n",
      " 0.95189083 0.95362447 0.97301886 0.99892599 0.99892599 0.87249322\n",
      " 0.87249322 0.92205415 0.92205415 0.91888998 0.95435825 0.95435825\n",
      " 0.95435825 1.         0.87345757 0.87345757 0.81223418 0.60002062\n",
      " 0.92760134 0.92760134 0.81433808 0.91089267 0.91089267 0.88010533\n",
      " 0.91094338 0.91094338 0.85491296 0.80218151 0.95793116 0.95793116\n",
      " 0.79177614 0.79177614 0.82600658 0.82600658 0.         0.\n",
      " 0.84166252 0.87787231 0.93572178 0.93572178 0.96212648 0.96212648\n",
      " 0.88583222 0.77685642 0.77685642 0.95994921 0.95994921 0.80809209\n",
      " 0.92660955 0.82957366 0.82957366 0.67106188 0.27115132 1.\n",
      " 1.         0.93638045 0.93638045 0.66082683 0.66082683 0.49805924\n",
      " 0.84198366 0.84198366 0.73052103 0.78315871 0.78315871 0.68455613\n",
      " 0.68455613 0.         0.8829126  0.8829126  0.8322717  0.88182047\n",
      " 1.         0.53542639 1.         0.73824902 0.93298565 1.\n",
      " 0.91031203 0.9960725  0.9960725  0.93563283 0.6605551  0.97493342\n",
      " 0.97493342 1.         0.93307745 0.62587298 0.4480062  0.\n",
      " 0.62825914 0.59484026 0.36331834 0.66276011 0.50287512 0.66794543\n",
      " 0.66794543 0.691948   0.69663927 1.         0.78420993 0.85957631\n",
      " 0.         0.46365005 0.55866901 0.73839946 0.73839946 0.45412943\n",
      " 0.56017037 0.52933936 0.65049538 0.         0.41770227 0.63623035\n",
      " 0.55096621 0.         0.38304331 0.28205099 0.40920542 0.\n",
      " 0.33203649 0.94892759 0.80842866 0.76566228 1.         0.53254534\n",
      " 0.         0.56875468 0.1237671  0.1237671  0.59138406 1.\n",
      " 1.         0.66977962 0.87545614 0.76102063 0.83800245 0.27803315\n",
      " 0.98269372 1.         1.         0.         0.82164579 0.62322919\n",
      " 0.82027729 0.         0.65405946 0.         0.         0.74903474\n",
      " 0.74903474 0.         0.74963441 1.         1.         0.80464754\n",
      " 0.80464754 0.         0.8575541  0.95664247 0.95664247 0.42710791\n",
      " 0.         0.85106504 0.85106504 0.75919077 0.84111271 0.79870675\n",
      " 0.79870675 0.80589602 0.80589602 0.7719244  0.7719244  0.81944907\n",
      " 0.81944907 0.7714631  0.7714631  0.74277422 0.         0.82977482\n",
      " 0.         0.9558038  0.9558038  0.80522523 0.80522523 0.69224264\n",
      " 0.82980378 0.         0.         0.80487444 0.80487444 0.72225188\n",
      " 0.72225188 0.8001528  0.8001528  0.82636443 0.65463051 0.75720402\n",
      " 0.73266062 0.73266062 0.82347676 0.65837888 0.59184892 1.\n",
      " 0.8109334  0.8109334  0.82020755 0.70531664 0.64082689 0.45032969\n",
      " 0.45032969 0.6854475  0.6854475  1.         1.         0.57275188\n",
      " 0.5371922  0.31035128 0.4754615  0.30698394 1.         1.\n",
      " 0.69794442 0.68269644 0.74152216 0.59117258 0.85131853 0.57109574\n",
      " 0.57983908 0.57983908 0.77222077 0.96535311 0.96535311 1.\n",
      " 1.         0.8224208  0.56357304 0.53848559 0.8752688  0.77607049\n",
      " 0.81372889 0.90383743 0.90383743 0.81166447 0.96249968 0.96249968\n",
      " 0.93800253 0.99210616 0.99210616 0.97800232 0.92450305 0.87309633\n",
      " 0.87309633 0.74782324 0.7741801  0.66296402 0.45841373 0.\n",
      " 0.         0.38937274 0.         0.4195222  0.29392173 0.\n",
      " 0.30350487 0.74243082 0.74243082 0.60663547 0.60663547 0.\n",
      " 0.72304896 0.84919813 0.62747334 0.7673774  0.77738882 0.81230111\n",
      " 0.81230111 0.81230111 0.83045645 0.83045645 1.         0.71335031\n",
      " 0.92651858 0.59341376 0.84364662 1.         1.         1.\n",
      " 0.97864407 0.85702592 0.87786018 0.89087488 0.89087488 0.89087488\n",
      " 1.         1.         0.74453241 0.84850115 0.75061062 0.93595744\n",
      " 1.         0.9173354  0.9173354  0.80221036 0.44623364 0.55787356\n",
      " 0.50874068 0.7097015  0.60035267 0.         0.91742866 0.\n",
      " 0.79898989 0.66315256 0.79054623 0.82415054 1.         1.\n",
      " 0.9450787  0.9450787  0.8784962  0.8784962  0.97257782 0.97257782\n",
      " 0.95913345 0.95913345 0.97550213 0.97550213 0.92283099 0.92283099\n",
      " 0.87540863 0.87540863 0.83522783 0.91183278 0.91183278 0.80863036\n",
      " 0.91793381 0.86747487 0.86747487 0.93024546 0.93024546 0.85426816\n",
      " 0.85426816 0.84296989 0.84296989 0.84757826 1.         1.\n",
      " 0.95460998 0.95460998 0.83882349 0.83882349 0.         0.88251038\n",
      " 0.88251038 1.         1.         0.85192209 0.85192209 0.39104036\n",
      " 0.38165515 0.84739825 0.87452627 0.91301907 0.91301907 0.92718243\n",
      " 0.92718243 0.94363758 0.94363758 0.81521407 0.86905991 1.\n",
      " 1.         1.         0.90749033 0.80156526 0.84743006 0.84743006\n",
      " 0.83700019 0.90284427 0.90284427 0.90721983 0.90281657 0.90281657\n",
      " 0.59495904 0.17942995 0.80679878 0.81083017 1.         0.7345807\n",
      " 0.26284989 1.         0.48471888 1.         1.         0.76048435\n",
      " 0.29179738 0.         0.         0.83838515 0.         0.\n",
      " 0.8312966  0.         0.36332233 0.         0.78330514 0.\n",
      " 0.80189753 0.91135751 0.         0.99958606 0.         1.\n",
      " 0.9027563  0.83202549 0.83202549 0.90041532 0.90041532 0.75585613\n",
      " 1.         1.         0.8310552  0.86466991 0.78261645 0.76975108\n",
      " 0.76975108 0.79564411 0.79564411 0.68972383 0.7488716  0.82610013\n",
      " 0.82610013 0.82610013 0.72011304 0.72011304 0.26189048 0.57569239\n",
      " 0.61372749 0.61372749 0.49585763 0.42546305 0.66024879 0.66024879\n",
      " 0.85684514 0.85684514 0.84535385 0.88007935 0.88007935 0.88007935\n",
      " 0.88007935 0.88007935 0.28212385 0.80475697 0.77604506 0.77604506\n",
      " 0.65478572 0.58161338 0.86238338 0.86238338 0.92012928 0.92012928\n",
      " 0.76663452 0.60971782 0.44793042 0.79039625 0.77301547 0.82120017\n",
      " 0.82120017 0.82120017 0.70963794 0.36757365 0.94277697 0.84076712\n",
      " 0.37036956 0.         0.         0.22508399 0.74118012 0.\n",
      " 0.62504181 0.62504181 0.28382051 0.58978735 0.9187183  0.74306225\n",
      " 0.83658231 0.79644606 0.59403998 0.80709043 0.80709043 0.92222466\n",
      " 0.92222466 0.79177985 0.79535183 0.87840779 0.98293694 1.\n",
      " 0.80527954 0.97580749 0.9845402  0.9845402  1.         1.\n",
      " 0.72252538 0.77232031 0.90127538 0.90127538 0.64875015 0.89515483\n",
      " 0.70607438 0.70607438 0.8770884  0.22442871 0.63629922 1.\n",
      " 0.67987688 0.67063664 0.75413014 0.75413014 0.84344525 0.\n",
      " 0.77739548 0.68374119 0.         0.         0.69117139 0.77591172\n",
      " 0.77591172 0.37339739 0.40543951]\n"
     ]
    },
    {
     "name": "stderr",
     "output_type": "stream",
     "text": [
      "/Users/vanessasalgado/Desktop/E4E-Acoustics.nosync/PyHa/PyHa/annotation_post_processing.py:213: SettingWithCopyWarning: \n",
      "A value is trying to be set on a copy of a slice from a DataFrame.\n",
      "Try using .loc[row_indexer,col_indexer] = value instead\n",
      "\n",
      "See the caveats in the documentation: https://pandas.pydata.org/pandas-docs/stable/user_guide/indexing.html#returning-a-view-versus-a-copy\n",
      "  #Init list of clips to cycle through and output dataframe\n"
     ]
    },
    {
     "name": "stdout",
     "output_type": "stream",
     "text": [
      "target 279\n",
      "confidence 279\n",
      "automated df 279\n",
      "[1. 0. 1. 1. 0. 1. 1. 1. 0. 1. 1. 1. 0. 0. 1. 1. 0. 1. 1. 1. 0. 1. 1. 1.\n",
      " 0. 0. 0. 0. 1. 1. 1. 0. 0. 0. 0. 1. 1. 1. 1. 0. 1. 1. 1. 1. 1. 0. 0. 1.\n",
      " 1. 1. 0. 0. 1. 1. 1. 0. 0. 0. 1. 1. 1. 0. 0. 0. 0. 1. 1. 1. 0. 0. 1. 1.\n",
      " 1. 1. 1. 1. 1. 1. 1. 1. 1. 0. 1. 0. 1. 1. 1. 1. 1. 0. 0. 0. 0. 0. 1. 1.\n",
      " 1. 1. 0. 0. 0. 0. 0. 0. 0. 1. 1. 0. 1. 1. 1. 1. 1. 0. 1. 1. 1. 0. 0. 1.\n",
      " 1. 1. 1. 0. 1. 1. 1. 1. 1. 1. 1. 1. 0. 1. 1. 1. 1. 0. 1. 1. 1. 1. 1. 1.\n",
      " 1. 0. 1. 1. 1. 1. 0. 1. 1. 0. 0. 1. 1. 0. 0. 1. 1. 0. 1. 1. 1. 1. 1. 0.\n",
      " 1. 1. 1. 0. 0. 0. 0. 1. 1. 1. 0. 1. 1. 1. 1. 1. 1. 1. 1. 1. 1. 1. 0. 1.\n",
      " 1. 1. 1. 1. 0. 0. 0. 0. 1. 1. 1. 1. 0. 0. 1. 1. 1. 0. 0. 0. 1. 1. 0. 0.\n",
      " 1. 1. 0. 1. 1. 1. 0. 0. 1. 1. 0. 0. 0. 0. 1. 1. 0. 0. 0. 0. 0. 1. 1. 0.\n",
      " 0. 0. 0. 0. 0. 0. 1. 1. 1. 0. 0. 0. 0. 0. 0. 1. 1. 0. 1. 1. 0. 0. 1. 1.\n",
      " 0. 0. 1. 1. 1. 1. 1. 0. 1. 1. 1. 1. 0. 1. 1.]\n",
      "[1.         0.         0.89753792 0.89753792 0.         0.93424782\n",
      " 0.93424782 0.93424782 0.         0.24005079 0.99667414 0.99667414\n",
      " 0.99667414 1.         1.         1.         1.         0.33900371\n",
      " 0.8052022  0.8052022  0.98196422 1.         1.         1.\n",
      " 0.65389976 0.45189226 0.63174489 0.63174489 0.27720607 0.91449008\n",
      " 0.91449008 0.         0.15908385 0.15908385 0.20598559 0.96046252\n",
      " 0.47243556 0.99128701 0.99128701 0.         1.         1.\n",
      " 1.         0.98570291 0.98570291 0.23726958 0.28711111 0.94788736\n",
      " 0.94788736 0.94788736 0.         0.14643304 1.         1.\n",
      " 1.         0.17267563 0.14728884 0.38585432 0.97643069 0.97643069\n",
      " 0.97643069 0.32316069 0.16379166 0.46248153 0.48763095 0.93024945\n",
      " 0.93024945 0.93024945 0.83189123 0.36380785 0.94323643 0.94323643\n",
      " 1.         1.         0.97961094 0.97961094 0.97961094 0.26154328\n",
      " 1.         1.         0.6077831  0.61867173 0.96855105 0.93257471\n",
      " 0.93257471 0.         1.         0.99370008 0.99370008 0.\n",
      " 0.         0.         0.         0.         1.         1.\n",
      " 0.74043382 1.         0.         0.         0.         0.\n",
      " 0.         0.         0.         0.         1.         0.80186073\n",
      " 0.87534713 0.87534713 0.87534713 0.87534713 0.87534713 0.65385026\n",
      " 0.8557579  0.8557579  0.8557579  0.         0.         0.93333957\n",
      " 0.93333957 0.93333957 0.93333957 0.         1.         1.\n",
      " 1.         1.         0.39236873 0.85544661 0.85544661 0.87213762\n",
      " 0.21271098 0.88398499 0.88398499 0.88398499 0.88398499 0.29231904\n",
      " 0.91625722 0.91625722 0.91625722 0.91625722 0.93450269 0.93450269\n",
      " 0.93450269 0.86892583 0.86892583 0.86892583 1.         1.\n",
      " 0.25900731 0.91371475 0.91371475 0.58929748 0.64306651 0.94356722\n",
      " 0.94356722 0.60891072 0.5501301  0.86858701 0.86858701 0.17991259\n",
      " 1.         1.         0.94093716 0.94093716 0.94093716 0.\n",
      " 0.         1.         1.         0.         0.19100289 0.94291902\n",
      " 0.94291902 0.         0.84335141 0.84335141 0.92749373 0.\n",
      " 0.90234341 0.90234341 0.         0.         0.96990599 0.96990599\n",
      " 1.         0.5927851  0.0070711  0.19038357 0.         0.24459478\n",
      " 0.23410485 1.         1.         1.         1.         1.\n",
      " 1.         0.36955959 0.94890624 0.94890624 0.99593713 0.99593713\n",
      " 0.08252412 0.32502123 1.         1.         1.         0.90760493\n",
      " 0.7933029  0.67753701 0.73943804 0.97101875 0.5393777  0.\n",
      " 0.52411951 0.93032162 0.         0.         1.         1.\n",
      " 0.         0.         0.80310231 0.80452231 0.47514596 0.\n",
      " 0.         0.         0.79580812 0.86522072 0.         0.\n",
      " 0.         0.         0.         1.         1.         0.\n",
      " 0.         0.         0.         0.         0.         0.\n",
      " 0.92641301 0.92641301 0.59910144 0.         0.         0.\n",
      " 0.         0.         0.         0.         0.73946217 0.97711638\n",
      " 0.97711638 0.76821544 0.79219658 0.66368645 1.         1.\n",
      " 0.34853437 0.         0.89678644 0.89678644 0.93759792 0.93759792\n",
      " 0.93759792 0.25657396 0.         1.         1.         1.\n",
      " 0.         0.8099991  0.8099991 ]\n"
     ]
    },
    {
     "name": "stderr",
     "output_type": "stream",
     "text": [
      "/Users/vanessasalgado/Desktop/E4E-Acoustics.nosync/PyHa/PyHa/annotation_post_processing.py:213: SettingWithCopyWarning: \n",
      "A value is trying to be set on a copy of a slice from a DataFrame.\n",
      "Try using .loc[row_indexer,col_indexer] = value instead\n",
      "\n",
      "See the caveats in the documentation: https://pandas.pydata.org/pandas-docs/stable/user_guide/indexing.html#returning-a-view-versus-a-copy\n",
      "  #Init list of clips to cycle through and output dataframe\n"
     ]
    },
    {
     "name": "stdout",
     "output_type": "stream",
     "text": [
      "target 595\n",
      "confidence 594\n",
      "automated df 594\n",
      "[1. 1. 1. 1. 1. 0. 0. 1. 1. 1. 0. 1. 0. 1. 0. 1. 1. 0. 0. 1. 0. 1. 0. 1.\n",
      " 1. 1. 0. 0. 0. 1. 1. 0. 0. 1. 0. 0. 0. 0. 0. 0. 0. 0. 0. 1. 0. 0. 1. 1.\n",
      " 0. 1. 0. 0. 1. 1. 0. 1. 0. 0. 1. 1. 0. 1. 1. 0. 1. 1. 1. 1. 0. 1. 1. 1.\n",
      " 0. 1. 1. 1. 1. 1. 1. 1. 1. 0. 1. 1. 1. 1. 0. 1. 0. 1. 1. 0. 1. 0. 0. 1.\n",
      " 1. 0. 1. 1. 1. 1. 1. 1. 1. 1. 1. 1. 1. 1. 1. 1. 1. 1. 1. 1. 1. 1. 1. 1.\n",
      " 0. 0. 1. 1. 0. 0. 1. 1. 1. 1. 1. 1. 0. 1. 0. 1. 0. 1. 1. 1. 1. 1. 0. 1.\n",
      " 1. 1. 0. 1. 1. 1. 1. 1. 1. 1. 0. 1. 1. 0. 1. 0. 1. 1. 0. 1. 1. 1. 1. 1.\n",
      " 1. 1. 1. 1. 1. 1. 1. 1. 1. 1. 1. 1. 1. 1. 1. 0. 1. 1. 1. 1. 1. 1. 1. 1.\n",
      " 1. 1. 1. 1. 1. 1. 1. 1. 1. 1. 1. 1. 1. 0. 1. 1. 1. 1. 1. 1. 0. 1. 1. 1.\n",
      " 1. 0. 1. 1. 1. 1. 1. 1. 1. 1. 1. 1. 1. 1. 1. 1. 1. 1. 0. 1. 1. 1. 1. 1.\n",
      " 1. 1. 1. 1. 1. 1. 1. 1. 1. 1. 1. 1. 1. 1. 1. 0. 1. 0. 0. 1. 0. 1. 1. 0.\n",
      " 1. 1. 0. 0. 0. 0. 0. 0. 1. 0. 1. 1. 0. 1. 1. 1. 1. 1. 1. 1. 1. 1. 1. 1.\n",
      " 0. 1. 1. 1. 1. 1. 1. 1. 1. 1. 1. 1. 1. 1. 1. 1. 1. 1. 1. 1. 1. 1. 1. 1.\n",
      " 1. 0. 1. 1. 1. 1. 1. 0. 1. 1. 1. 0. 1. 1. 1. 1. 1. 0. 1. 1. 0. 1. 0. 1.\n",
      " 0. 1. 1. 0. 1. 1. 0. 1. 0. 1. 0. 0. 0. 1. 0. 1. 1. 0. 1. 1. 0. 0. 1. 1.\n",
      " 0. 1. 0. 1. 1. 0. 0. 1. 1. 1. 1. 1. 1. 0. 0. 1. 1. 1. 1. 1. 1. 1. 1. 1.\n",
      " 1. 0. 0. 1. 1. 0. 1. 1. 0. 1. 1. 1. 1. 0. 1. 1. 1. 0. 0. 1. 0. 0. 1. 1.\n",
      " 0. 0. 1. 1. 1. 0. 1. 0. 1. 1. 0. 0. 1. 1. 1. 1. 0. 1. 1. 0. 1. 0. 0. 1.\n",
      " 0. 1. 1. 0. 1. 1. 0. 1. 0. 1. 1. 0. 1. 1. 0. 1. 0. 0. 1. 0. 0. 0. 0. 0.\n",
      " 0. 0. 0. 0. 0. 0. 0. 1. 1. 1. 1. 1. 1. 1. 1. 1. 1. 1. 1. 1. 1. 1. 1. 1.\n",
      " 1. 1. 1. 1. 1. 1. 1. 0. 0. 1. 1. 1. 1. 0. 0. 1. 1. 1. 0. 1. 1. 0. 1. 1.\n",
      " 0. 1. 1. 1. 1. 0. 1. 1. 1. 0. 1. 1. 1. 0. 1. 1. 1. 1. 1. 1. 1. 1. 0. 1.\n",
      " 0. 1. 1. 1. 1. 1. 1. 1. 1. 1. 1. 1. 0. 1. 1. 0. 0. 0. 0. 0. 0. 0. 1. 1.\n",
      " 0. 1. 1. 0. 1. 1. 0. 1. 0. 0. 1. 1. 0. 1. 1. 1. 1. 1. 1. 1. 1. 1. 1. 1.\n",
      " 1. 1. 1. 1. 1. 1. 0. 1. 1. 1. 1. 1. 1. 1. 1. 1. 1. 1. 1.]\n",
      "[0.92038739 0.34692685 0.83222063 0.7614787  0.7614787  0.\n",
      " 0.         0.92458616 0.70943152 0.70943152 0.         0.81090292\n",
      " 0.         0.86079646 0.         1.         1.         0.\n",
      " 0.         0.87198388 0.         0.84364303 0.         0.83645728\n",
      " 0.83460256 0.38732177 0.         0.         0.30553013 0.89619878\n",
      " 0.89619878 0.2803936  0.44091233 0.92776912 0.         0.\n",
      " 0.         0.         0.         0.39328461 0.29646838 0.\n",
      " 0.         0.67925332 0.67925332 0.20411597 0.9637277  0.9637277\n",
      " 0.28840779 1.         0.         0.         0.85097073 0.39825166\n",
      " 0.         0.62671086 0.         0.         0.44269427 0.\n",
      " 0.         0.83564965 0.83564965 0.         0.35523862 1.\n",
      " 1.         1.         0.         0.23046163 0.7516946  0.93714539\n",
      " 0.57836789 1.         1.         0.78981481 0.57931312 0.77204799\n",
      " 0.92106591 1.         0.7955761  0.30413743 0.88538141 0.88538141\n",
      " 1.         1.         0.         0.82062136 0.51120015 0.89437437\n",
      " 0.         0.         0.93861345 0.         0.         0.96383239\n",
      " 1.         0.         0.97070348 0.97070348 0.96894357 0.91028212\n",
      " 0.93865054 0.93865054 0.85153783 0.95820444 0.95820444 0.98586249\n",
      " 0.98586249 0.93518082 0.93518082 1.         1.         0.91197418\n",
      " 0.91197418 0.93397806 0.93397806 0.93973008 0.93973008 1.\n",
      " 0.         0.4331718  0.83216089 0.76829191 0.         0.\n",
      " 0.82033255 0.87104757 0.38698187 0.65266824 0.82430312 0.\n",
      " 0.         0.84869617 0.         1.         0.         0.87711968\n",
      " 0.         0.         0.         0.85690554 0.         0.94526528\n",
      " 0.         0.97277074 0.         0.78404311 0.9132123  0.9132123\n",
      " 0.88339558 0.88339558 0.         0.88797221 0.         0.87851024\n",
      " 0.87851024 0.         0.84335406 0.         0.80986792 0.80986792\n",
      " 0.         0.8585771  0.83246461 1.         1.         0.45630379\n",
      " 0.45630379 0.12896213 0.11709015 1.         1.         0.87670138\n",
      " 0.44465097 0.47024441 0.65615592 0.71549952 0.59721654 0.70674642\n",
      " 0.3303697  0.82088164 0.89668701 0.76779583 1.         0.86302485\n",
      " 1.         0.         0.92069959 0.92069959 0.99647574 0.99647574\n",
      " 0.70170043 0.70170043 0.79896491 0.88894351 0.23668583 0.24690128\n",
      " 0.23764672 0.23918301 0.61619912 0.55516163 0.55516163 0.93567446\n",
      " 0.93567446 0.30582021 0.9419389  0.7188818  1.         0.52082142\n",
      " 0.         0.42439188 0.         0.73888676 0.73888676 0.\n",
      " 1.         0.         0.31624205 0.95254301 0.         0.50370798\n",
      " 0.57516174 1.         1.         0.59728947 0.66305972 0.66305972\n",
      " 0.57752069 0.92735138 0.58110395 0.38585899 0.68112025 0.68112025\n",
      " 0.30606361 0.55691412 0.39586374 0.52327599 0.84508957 0.84508957\n",
      " 0.84508957 0.74559826 0.52092874 0.57297623 0.48890433 0.92209943\n",
      " 0.56731613 0.83218447 0.94644335 0.94644335 0.63573256 0.33918002\n",
      " 0.84879702 0.74574375 1.         1.         0.         0.\n",
      " 0.61745989 0.20638714 0.88435733 0.88435733 0.73106796 0.92349902\n",
      " 0.92349902 0.2423631  0.36658473 0.         0.         0.27473904\n",
      " 0.31778357 0.67759706 0.         1.         0.78773548 0.44183677\n",
      " 0.85973706 0.85973706 0.83822957 0.83822957 1.         0.45872141\n",
      " 0.88413837 0.49370656 0.987357   0.51920221 0.8742885  0.\n",
      " 0.86135356 0.86135356 0.55489469 0.87925363 0.94731782 0.94731782\n",
      " 0.85011601 0.85011601 0.91996578 0.91996578 0.78509535 0.89148736\n",
      " 0.89148736 0.86328209 0.86328209 0.90617971 0.90617971 0.\n",
      " 0.79573844 0.86532556 0.86532556 0.86897608 0.86897608 0.79526497\n",
      " 0.         0.85488942 0.85488942 0.83191436 0.83191436 0.78499809\n",
      " 0.78499809 0.8384519  0.8384519  0.73006315 0.76255424 0.83975841\n",
      " 0.83975841 0.97805234 0.97805234 0.82696008 0.82696008 0.98778316\n",
      " 0.98778316 0.         0.98295476 0.23641576 0.82534523 0.\n",
      " 0.88347892 0.88347892 0.         0.77622012 0.         0.2110471\n",
      " 1.         0.         0.86164254 0.         0.         0.\n",
      " 0.77654387 0.         0.92115399 0.92115399 0.         0.92765721\n",
      " 0.92765721 0.         0.         0.85673325 0.85673325 0.\n",
      " 0.59728489 0.         0.74647157 0.74647157 0.         0.\n",
      " 0.6059433  0.6059433  0.7794879  0.7794879  1.         0.91824444\n",
      " 0.41231978 0.         0.9252269  0.34851941 0.89600887 0.89600887\n",
      " 0.55348299 0.87002448 0.82557708 0.58014343 0.74056618 0.74056618\n",
      " 0.         0.         0.45173702 0.73541591 0.42278829 0.6332967\n",
      " 0.6332967  0.         0.34888814 0.         0.8848747  1.\n",
      " 0.64400643 0.56537736 0.55321421 0.75419582 0.         0.\n",
      " 0.76815699 0.         0.42086762 0.747396   0.747396   1.\n",
      " 1.         0.89482766 0.86301852 0.86301852 0.77798216 0.77798216\n",
      " 0.         0.54282977 0.92065357 0.         0.         0.85587013\n",
      " 0.85587013 0.90681366 0.90681366 0.         0.90907701 0.90907701\n",
      " 0.         0.89409931 0.         0.         0.92431361 0.\n",
      " 0.96230323 0.96230323 0.         0.97220331 0.97220331 0.\n",
      " 0.86252954 0.         0.91310324 0.91310324 0.         0.91966814\n",
      " 0.91966814 0.         0.86206821 0.86206821 0.         0.97849599\n",
      " 0.         0.         0.         0.         0.         0.\n",
      " 0.25141398 0.34708939 0.17349877 0.35284848 0.         0.77307787\n",
      " 0.92996336 0.92996336 0.92996336 0.92996336 0.88719369 0.81695991\n",
      " 0.95338344 0.95338344 1.         1.         1.         0.87315149\n",
      " 0.87315149 0.57350542 0.99426307 0.99426307 0.30598926 1.\n",
      " 1.         0.80967107 0.80967107 0.         0.79489022 0.79489022\n",
      " 0.         0.         0.         0.39649913 0.         0.53149778\n",
      " 0.1227392  0.1227392  0.82938568 0.81361874 0.81361874 0.14105947\n",
      " 0.91447501 0.91447501 0.         1.         1.         0.\n",
      " 0.68329998 0.68329998 0.84678341 0.84678341 0.26567072 1.\n",
      " 1.         0.         0.         0.76638563 0.99114409 0.99114409\n",
      " 0.         0.96118588 0.         0.92193352 0.92193352 0.83828576\n",
      " 0.83828576 0.94876136 0.94876136 0.94876136 0.8817814  0.45195545\n",
      " 1.         0.88416457 0.34854655 0.39026883 0.55023433 0.46915795\n",
      " 0.46915795 0.83852567 0.73363779 0.97904795 1.         0.\n",
      " 0.9575202  0.         0.         0.         0.60179247 0.\n",
      " 0.1570296  0.18203052 0.77631069 0.91735897 0.91735897 0.79474441\n",
      " 0.9272743  0.9272743  0.         0.91942843 0.91942843 0.66799917\n",
      " 0.85267058 0.85267058 0.64100076 0.92054371 0.         0.85194923\n",
      " 1.         0.89552768 0.83284591 0.8366223  0.64402157 0.88235733\n",
      " 0.40053618 0.86756124 0.53700051 0.70602026 0.70360083 0.\n",
      " 0.72402643 0.87431339 0.87431339 0.85763958 0.         0.\n",
      " 0.         0.         0.9890709  0.54288262 0.         0.\n",
      " 0.60642095 0.19429713 0.27782877 0.55004281 0.58574007 0.61929263]\n"
     ]
    },
    {
     "data": {
      "image/png": "[encoded data removed]",
      "text/plain": [
       "<Figure size 432x288 with 1 Axes>"
      ]
     },
     "metadata": {
      "needs_background": "light"
     },
     "output_type": "display_data"
    }
   ],
   "source": [
    "tweetyNet_auc_scores_df = generate_AUC_scores_df(automated_df_tweety,manual_chunked_df)\n",
    "tweetyNet_auc_scores_df = tweetyNet_auc_scores_df.drop_duplicates(subset=['AUC SCORES'], keep = False)\n",
    "tweetyNet_auc_scores_df = tweetyNet_auc_scores_df.sort_values(by = \"AUC SCORES\");"
   ]
  },
  {
   "cell_type": "code",
   "execution_count": 62,
   "metadata": {},
   "outputs": [
    {
     "data": {
      "text/html": [
       "<div>\n",
       "<style scoped>\n",
       "    .dataframe tbody tr th:only-of-type {\n",
       "        vertical-align: middle;\n",
       "    }\n",
       "\n",
       "    .dataframe tbody tr th {\n",
       "        vertical-align: top;\n",
       "    }\n",
       "\n",
       "    .dataframe thead th {\n",
       "        text-align: right;\n",
       "    }\n",
       "</style>\n",
       "<table border=\"1\" class=\"dataframe\">\n",
       "  <thead>\n",
       "    <tr style=\"text-align: right;\">\n",
       "      <th></th>\n",
       "      <th>SPECIES</th>\n",
       "      <th>AUC SCORES</th>\n",
       "    </tr>\n",
       "  </thead>\n",
       "  <tbody>\n",
       "    <tr>\n",
       "      <th>3</th>\n",
       "      <td>Ramphastos tucanus</td>\n",
       "      <td>0.517437</td>\n",
       "    </tr>\n",
       "    <tr>\n",
       "      <th>0</th>\n",
       "      <td>Celeus grammicus</td>\n",
       "      <td>0.688415</td>\n",
       "    </tr>\n",
       "    <tr>\n",
       "      <th>6</th>\n",
       "      <td>Trogon viridis</td>\n",
       "      <td>0.695855</td>\n",
       "    </tr>\n",
       "    <tr>\n",
       "      <th>7</th>\n",
       "      <td>Turdus leucomelas</td>\n",
       "      <td>0.752254</td>\n",
       "    </tr>\n",
       "    <tr>\n",
       "      <th>4</th>\n",
       "      <td>Thraupis episcopus</td>\n",
       "      <td>0.769538</td>\n",
       "    </tr>\n",
       "    <tr>\n",
       "      <th>8</th>\n",
       "      <td>Xiphorhynchus guttatus</td>\n",
       "      <td>0.859840</td>\n",
       "    </tr>\n",
       "  </tbody>\n",
       "</table>\n",
       "</div>"
      ],
      "text/plain": [
       "                  SPECIES  AUC SCORES\n",
       "3      Ramphastos tucanus    0.517437\n",
       "0        Celeus grammicus    0.688415\n",
       "6          Trogon viridis    0.695855\n",
       "7       Turdus leucomelas    0.752254\n",
       "4      Thraupis episcopus    0.769538\n",
       "8  Xiphorhynchus guttatus    0.859840"
      ]
     },
     "execution_count": 62,
     "metadata": {},
     "output_type": "execute_result"
    }
   ],
   "source": [
    "tweetyNet_auc_scores_df "
   ]
  },
  {
   "cell_type": "markdown",
   "metadata": {},
   "source": [
    "### Distribution of TweetyNet to BirdNet AUC scores"
   ]
  },
  {
   "cell_type": "code",
   "execution_count": 88,
   "metadata": {},
   "outputs": [
    {
     "data": {
      "text/plain": [
       "<AxesSubplot:title={'center':'Distribution of TweetyNet to BirdNet AUC scores'}, ylabel='Frequency'>"
      ]
     },
     "execution_count": 88,
     "metadata": {},
     "output_type": "execute_result"
    },
    {
     "data": {
      "image/png": "[encoded data removed]",
      "text/plain": [
       "<Figure size 432x288 with 1 Axes>"
      ]
     },
     "metadata": {
      "needs_background": "light"
     },
     "output_type": "display_data"
    }
   ],
   "source": [
    "#auc_scores_df.plot.hist(y='AUC SCORES', rot=0, density = True)\n",
    "auc_scores_df.plot.hist(bins=15, density = True, title = \"Distribution of TweetyNet to BirdNet AUC scores\")"
   ]
  },
  {
   "cell_type": "code",
   "execution_count": null,
   "metadata": {},
   "outputs": [],
   "source": [
    "#matplotlib"
   ]
  },
  {
   "cell_type": "markdown",
   "metadata": {},
   "source": [
    "### Distribution of TweetyNet Pipeline AUC Scores"
   ]
  },
  {
   "cell_type": "code",
   "execution_count": 87,
   "metadata": {},
   "outputs": [
    {
     "data": {
      "text/plain": [
       "<AxesSubplot:title={'center':'Distribution of TweetyNet to BirdNet AUC scores'}, ylabel='Frequency'>"
      ]
     },
     "execution_count": 87,
     "metadata": {},
     "output_type": "execute_result"
    },
    {
     "data": {
      "image/png": "[encoded data removed]",
      "text/plain": [
       "<Figure size 432x288 with 1 Axes>"
      ]
     },
     "metadata": {
      "needs_background": "light"
     },
     "output_type": "display_data"
    }
   ],
   "source": [
    "tweetyNet_auc_scores_df.plot.hist(bins=15, density = True, title = \"Distribution of TweetyNet to BirdNet AUC scores\")"
   ]
  },
  {
   "cell_type": "code",
   "execution_count": null,
   "metadata": {},
   "outputs": [],
   "source": [
    "# merge data frames\n",
    "df_cd = pd.merge(auc_scores_df, tweetyNet_auc_scores_df, on='SPECIES', suffixes=('_TweetyNetToBirdNet', '_TweetyNet'), how = \"left\")\n",
    "df_cd"
   ]
  },
  {
   "cell_type": "code",
   "execution_count": null,
   "metadata": {},
   "outputs": [],
   "source": [
    "# chekc the class list on both of themn"
   ]
  },
  {
   "cell_type": "code",
   "execution_count": 89,
   "metadata": {},
   "outputs": [
    {
     "data": {
      "image/png": "[encoded data removed]",
      "text/plain": [
       "<Figure size 432x288 with 1 Axes>"
      ]
     },
     "metadata": {
      "needs_background": "light"
     },
     "output_type": "display_data"
    }
   ],
   "source": [
    "# can we look at them sideby side \n",
    "# combine \n",
    "from matplotlib import pyplot as plt\n",
    "fig, ax = plt.subplots()\n",
    "auc_scores_df.plot.hist(bins=10, density = True, ax = ax, alpha=0.5, label= 'Tweety to Birdnet Pipeline')\n",
    "tweetyNet_auc_scores_df.plot.hist(bins=10, density = True, ax = ax, color = \"#FFA500\",alpha=0.5,label='TweetyNet Pipeline')\n",
    "plt.xlabel('AUC Scores')\n",
    "plt.title = \"Distribution of AUC scores\"\n",
    "plt.show()\n",
    "# consistent with the ROC scores; in general the \n",
    "# cleaner way of visualizing "
   ]
  },
  {
   "cell_type": "markdown",
   "metadata": {},
   "source": [
    "# TO DO: Statistics Metrics"
   ]
  },
  {
   "cell_type": "markdown",
   "metadata": {},
   "source": [
    "### Statistics Metrics on TweetyNet to BirdNET pipeline"
   ]
  },
  {
   "cell_type": "code",
   "execution_count": 8,
   "metadata": {},
   "outputs": [
    {
     "ename": "NameError",
     "evalue": "name 'manual_chunked_df' is not defined",
     "output_type": "error",
     "traceback": [
      "\u001b[0;31m---------------------------------------------------------------------------\u001b[0m",
      "\u001b[0;31mNameError\u001b[0m                                 Traceback (most recent call last)",
      "\u001b[0;32m/var/folders/7l/qz0tvwls7fxdbvdsbl53sfgm0000gn/T/ipykernel_44014/90870974.py\u001b[0m in \u001b[0;36m<module>\u001b[0;34m\u001b[0m\n\u001b[0;32m----> 1\u001b[0;31m \u001b[0mmanual_chunked_df\u001b[0m\u001b[0;34m\u001b[0m\u001b[0;34m\u001b[0m\u001b[0m\n\u001b[0m",
      "\u001b[0;31mNameError\u001b[0m: name 'manual_chunked_df' is not defined"
     ]
    }
   ],
   "source": [
    "manual_chunked_df"
   ]
  },
  {
   "cell_type": "code",
   "execution_count": 7,
   "metadata": {
    "scrolled": true
   },
   "outputs": [
    {
     "ename": "NameError",
     "evalue": "name 'manual_chunked_df' is not defined",
     "output_type": "error",
     "traceback": [
      "\u001b[0;31m---------------------------------------------------------------------------\u001b[0m",
      "\u001b[0;31mNameError\u001b[0m                                 Traceback (most recent call last)",
      "\u001b[0;32m/var/folders/7l/qz0tvwls7fxdbvdsbl53sfgm0000gn/T/ipykernel_44014/2394513765.py\u001b[0m in \u001b[0;36m<module>\u001b[0;34m\u001b[0m\n\u001b[0;32m----> 1\u001b[0;31m \u001b[0mt2b_statistics_df\u001b[0m \u001b[0;34m=\u001b[0m \u001b[0mautomated_labeling_statistics\u001b[0m\u001b[0;34m(\u001b[0m\u001b[0mmanual_chunked_df\u001b[0m\u001b[0;34m,\u001b[0m \u001b[0mmulti_df\u001b[0m\u001b[0;34m,\u001b[0m \u001b[0mstats_type\u001b[0m\u001b[0;34m=\u001b[0m\u001b[0;34m\"general\"\u001b[0m\u001b[0;34m)\u001b[0m\u001b[0;34m\u001b[0m\u001b[0;34m\u001b[0m\u001b[0m\n\u001b[0m\u001b[1;32m      2\u001b[0m \u001b[0mt2b_statistics_df\u001b[0m\u001b[0;34m\u001b[0m\u001b[0;34m\u001b[0m\u001b[0m\n",
      "\u001b[0;31mNameError\u001b[0m: name 'manual_chunked_df' is not defined"
     ]
    }
   ],
   "source": [
    "t2b_statistics_df = automated_labeling_statistics(manual_chunked_df, multi_df, stats_type=\"general\")\n",
    "t2b_statistics_df"
   ]
  },
  {
   "cell_type": "code",
   "execution_count": null,
   "metadata": {},
   "outputs": [],
   "source": [
    "global_dataset_statistics(t2b_statistics_df)"
   ]
  },
  {
   "cell_type": "code",
   "execution_count": null,
   "metadata": {},
   "outputs": [],
   "source": [
    "t2b_clip_stats = clip_statistics(automated_df_tweety, manual_df)\n",
    "t2b_clip_stats"
   ]
  },
  {
   "cell_type": "code",
   "execution_count": null,
   "metadata": {},
   "outputs": [],
   "source": [
    "t2b_class_statistics(t2b_clip_stats)"
   ]
  },
  {
   "cell_type": "markdown",
   "metadata": {},
   "source": [
    "### Statistics Metrics on TweetyNet"
   ]
  },
  {
   "cell_type": "code",
   "execution_count": 5,
   "metadata": {},
   "outputs": [
    {
     "ename": "IndexError",
     "evalue": "list index out of range",
     "output_type": "error",
     "traceback": [
      "\u001b[0;31m---------------------------------------------------------------------------\u001b[0m",
      "\u001b[0;31mIndexError\u001b[0m                                Traceback (most recent call last)",
      "\u001b[0;32m/var/folders/7l/qz0tvwls7fxdbvdsbl53sfgm0000gn/T/ipykernel_44014/2429922211.py\u001b[0m in \u001b[0;36m<module>\u001b[0;34m\u001b[0m\n\u001b[0;32m----> 1\u001b[0;31m \u001b[0mmanual_df\u001b[0m\u001b[0;34m[\u001b[0m\u001b[0;34m\"MANUAL ID\"\u001b[0m\u001b[0;34m]\u001b[0m \u001b[0;34m=\u001b[0m \u001b[0mmanual_df\u001b[0m\u001b[0;34m[\u001b[0m\u001b[0;34m\"MANUAL ID\"\u001b[0m\u001b[0;34m]\u001b[0m\u001b[0;34m.\u001b[0m\u001b[0mapply\u001b[0m\u001b[0;34m(\u001b[0m\u001b[0;32mlambda\u001b[0m \u001b[0mx\u001b[0m\u001b[0;34m:\u001b[0m \u001b[0mx\u001b[0m\u001b[0;34m.\u001b[0m\u001b[0msplit\u001b[0m\u001b[0;34m(\u001b[0m\u001b[0;34m\" \"\u001b[0m\u001b[0;34m)\u001b[0m\u001b[0;34m[\u001b[0m\u001b[0;36m0\u001b[0m\u001b[0;34m]\u001b[0m \u001b[0;34m+\u001b[0m \u001b[0;34m\" \"\u001b[0m\u001b[0;34m+\u001b[0m \u001b[0mx\u001b[0m\u001b[0;34m.\u001b[0m\u001b[0msplit\u001b[0m\u001b[0;34m(\u001b[0m\u001b[0;34m\" \"\u001b[0m\u001b[0;34m)\u001b[0m\u001b[0;34m[\u001b[0m\u001b[0;36m1\u001b[0m\u001b[0;34m]\u001b[0m\u001b[0;34m)\u001b[0m\u001b[0;34m\u001b[0m\u001b[0;34m\u001b[0m\u001b[0m\n\u001b[0m",
      "\u001b[0;32m/anaconda3/lib/python3.7/site-packages/pandas/core/series.py\u001b[0m in \u001b[0;36mapply\u001b[0;34m(self, func, convert_dtype, args, **kwargs)\u001b[0m\n\u001b[1;32m   4355\u001b[0m         \u001b[0mdtype\u001b[0m\u001b[0;34m:\u001b[0m \u001b[0mfloat64\u001b[0m\u001b[0;34m\u001b[0m\u001b[0;34m\u001b[0m\u001b[0m\n\u001b[1;32m   4356\u001b[0m         \"\"\"\n\u001b[0;32m-> 4357\u001b[0;31m         \u001b[0;32mreturn\u001b[0m \u001b[0mSeriesApply\u001b[0m\u001b[0;34m(\u001b[0m\u001b[0mself\u001b[0m\u001b[0;34m,\u001b[0m \u001b[0mfunc\u001b[0m\u001b[0;34m,\u001b[0m \u001b[0mconvert_dtype\u001b[0m\u001b[0;34m,\u001b[0m \u001b[0margs\u001b[0m\u001b[0;34m,\u001b[0m \u001b[0mkwargs\u001b[0m\u001b[0;34m)\u001b[0m\u001b[0;34m.\u001b[0m\u001b[0mapply\u001b[0m\u001b[0;34m(\u001b[0m\u001b[0;34m)\u001b[0m\u001b[0;34m\u001b[0m\u001b[0;34m\u001b[0m\u001b[0m\n\u001b[0m\u001b[1;32m   4358\u001b[0m \u001b[0;34m\u001b[0m\u001b[0m\n\u001b[1;32m   4359\u001b[0m     def _reduce(\n",
      "\u001b[0;32m/anaconda3/lib/python3.7/site-packages/pandas/core/apply.py\u001b[0m in \u001b[0;36mapply\u001b[0;34m(self)\u001b[0m\n\u001b[1;32m   1041\u001b[0m             \u001b[0;32mreturn\u001b[0m \u001b[0mself\u001b[0m\u001b[0;34m.\u001b[0m\u001b[0mapply_str\u001b[0m\u001b[0;34m(\u001b[0m\u001b[0;34m)\u001b[0m\u001b[0;34m\u001b[0m\u001b[0;34m\u001b[0m\u001b[0m\n\u001b[1;32m   1042\u001b[0m \u001b[0;34m\u001b[0m\u001b[0m\n\u001b[0;32m-> 1043\u001b[0;31m         \u001b[0;32mreturn\u001b[0m \u001b[0mself\u001b[0m\u001b[0;34m.\u001b[0m\u001b[0mapply_standard\u001b[0m\u001b[0;34m(\u001b[0m\u001b[0;34m)\u001b[0m\u001b[0;34m\u001b[0m\u001b[0;34m\u001b[0m\u001b[0m\n\u001b[0m\u001b[1;32m   1044\u001b[0m \u001b[0;34m\u001b[0m\u001b[0m\n\u001b[1;32m   1045\u001b[0m     \u001b[0;32mdef\u001b[0m \u001b[0magg\u001b[0m\u001b[0;34m(\u001b[0m\u001b[0mself\u001b[0m\u001b[0;34m)\u001b[0m\u001b[0;34m:\u001b[0m\u001b[0;34m\u001b[0m\u001b[0;34m\u001b[0m\u001b[0m\n",
      "\u001b[0;32m/anaconda3/lib/python3.7/site-packages/pandas/core/apply.py\u001b[0m in \u001b[0;36mapply_standard\u001b[0;34m(self)\u001b[0m\n\u001b[1;32m   1099\u001b[0m                     \u001b[0mvalues\u001b[0m\u001b[0;34m,\u001b[0m\u001b[0;34m\u001b[0m\u001b[0;34m\u001b[0m\u001b[0m\n\u001b[1;32m   1100\u001b[0m                     \u001b[0mf\u001b[0m\u001b[0;34m,\u001b[0m  \u001b[0;31m# type: ignore[arg-type]\u001b[0m\u001b[0;34m\u001b[0m\u001b[0;34m\u001b[0m\u001b[0m\n\u001b[0;32m-> 1101\u001b[0;31m                     \u001b[0mconvert\u001b[0m\u001b[0;34m=\u001b[0m\u001b[0mself\u001b[0m\u001b[0;34m.\u001b[0m\u001b[0mconvert_dtype\u001b[0m\u001b[0;34m,\u001b[0m\u001b[0;34m\u001b[0m\u001b[0;34m\u001b[0m\u001b[0m\n\u001b[0m\u001b[1;32m   1102\u001b[0m                 )\n\u001b[1;32m   1103\u001b[0m \u001b[0;34m\u001b[0m\u001b[0m\n",
      "\u001b[0;32m/anaconda3/lib/python3.7/site-packages/pandas/_libs/lib.pyx\u001b[0m in \u001b[0;36mpandas._libs.lib.map_infer\u001b[0;34m()\u001b[0m\n",
      "\u001b[0;32m/var/folders/7l/qz0tvwls7fxdbvdsbl53sfgm0000gn/T/ipykernel_44014/2429922211.py\u001b[0m in \u001b[0;36m<lambda>\u001b[0;34m(x)\u001b[0m\n\u001b[0;32m----> 1\u001b[0;31m \u001b[0mmanual_df\u001b[0m\u001b[0;34m[\u001b[0m\u001b[0;34m\"MANUAL ID\"\u001b[0m\u001b[0;34m]\u001b[0m \u001b[0;34m=\u001b[0m \u001b[0mmanual_df\u001b[0m\u001b[0;34m[\u001b[0m\u001b[0;34m\"MANUAL ID\"\u001b[0m\u001b[0;34m]\u001b[0m\u001b[0;34m.\u001b[0m\u001b[0mapply\u001b[0m\u001b[0;34m(\u001b[0m\u001b[0;32mlambda\u001b[0m \u001b[0mx\u001b[0m\u001b[0;34m:\u001b[0m \u001b[0mx\u001b[0m\u001b[0;34m.\u001b[0m\u001b[0msplit\u001b[0m\u001b[0;34m(\u001b[0m\u001b[0;34m\" \"\u001b[0m\u001b[0;34m)\u001b[0m\u001b[0;34m[\u001b[0m\u001b[0;36m0\u001b[0m\u001b[0;34m]\u001b[0m \u001b[0;34m+\u001b[0m \u001b[0;34m\" \"\u001b[0m\u001b[0;34m+\u001b[0m \u001b[0mx\u001b[0m\u001b[0;34m.\u001b[0m\u001b[0msplit\u001b[0m\u001b[0;34m(\u001b[0m\u001b[0;34m\" \"\u001b[0m\u001b[0;34m)\u001b[0m\u001b[0;34m[\u001b[0m\u001b[0;36m1\u001b[0m\u001b[0;34m]\u001b[0m\u001b[0;34m)\u001b[0m\u001b[0;34m\u001b[0m\u001b[0;34m\u001b[0m\u001b[0m\n\u001b[0m",
      "\u001b[0;31mIndexError\u001b[0m: list index out of range"
     ]
    }
   ],
   "source": [
    "manual_df[\"MANUAL ID\"] = manual_df[\"MANUAL ID\"].apply(lambda x: x.split(\" \")[0] + \" \"+ x.split(\" \")[1])"
   ]
  },
  {
   "cell_type": "code",
   "execution_count": null,
   "metadata": {
    "scrolled": true
   },
   "outputs": [],
   "source": [
    "tweety_statistics_df = automated_labeling_statistics(manual_df, automated_df_tweety, stats_type=\"general\")"
   ]
  },
  {
   "cell_type": "code",
   "execution_count": null,
   "metadata": {},
   "outputs": [],
   "source": [
    "tweety_statistics_df"
   ]
  },
  {
   "cell_type": "code",
   "execution_count": null,
   "metadata": {},
   "outputs": [],
   "source": [
    "global_dataset_statistics(tweety_statistics_df)"
   ]
  },
  {
   "cell_type": "code",
   "execution_count": null,
   "metadata": {},
   "outputs": [],
   "source": [
    "clip_stats = clip_statistics(automated_df_tweety, manual_df)\n",
    "clip_stats"
   ]
  },
  {
   "cell_type": "code",
   "execution_count": null,
   "metadata": {},
   "outputs": [],
   "source": [
    "class_statistics(clip_stats)"
   ]
  },
  {
   "cell_type": "code",
   "execution_count": null,
   "metadata": {},
   "outputs": [],
   "source": []
  }
 ],
 "metadata": {
  "kernelspec": {
   "display_name": "Python 3 (ipykernel)",
   "language": "python",
   "name": "python3"
  },
  "language_info": {
   "codemirror_mode": {
    "name": "ipython",
    "version": 3
   },
   "file_extension": ".py",
   "mimetype": "text/x-python",
   "name": "python",
   "nbconvert_exporter": "python",
   "pygments_lexer": "ipython3",
   "version": "3.7.1"
  }
 },
 "nbformat": 4,
 "nbformat_minor": 4
}
